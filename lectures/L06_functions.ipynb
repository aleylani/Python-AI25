{
 "cells": [
  {
   "cell_type": "markdown",
   "metadata": {},
   "source": [
    "<a href=\"https://colab.research.google.com/github/aleylani/Python-AI25/blob/main/lectures/L06_functions.ipynb\" target=\"_parent\"><img src=\"https://colab.research.google.com/assets/colab-badge.svg\" alt=\"Open In Colab\"/></a>"
   ]
  },
  {
   "cell_type": "markdown",
   "metadata": {},
   "source": [
    "## Funktioner\n"
   ]
  },
  {
   "cell_type": "markdown",
   "metadata": {},
   "source": [
    "Vad är en funktion?\n",
    "\n",
    "En funktion är inget annat än en snutt kod som man kan återanvända när man vill"
   ]
  },
  {
   "cell_type": "markdown",
   "metadata": {},
   "source": [
    "Vi har stött på många funktioner tidigare. Ett exempel är print()-funktionen"
   ]
  },
  {
   "cell_type": "code",
   "execution_count": null,
   "metadata": {},
   "outputs": [],
   "source": [
    "print('Ali')       # print är en funktion, som skriver ut sitt argument"
   ]
  },
  {
   "cell_type": "markdown",
   "metadata": {},
   "source": [
    "Ett annat exempel är round()"
   ]
  },
  {
   "cell_type": "code",
   "execution_count": null,
   "metadata": {},
   "outputs": [],
   "source": [
    "round(10.55555) # round är en funktion som avrundar sitt argument"
   ]
  },
  {
   "cell_type": "markdown",
   "metadata": {},
   "source": [
    "En funktion har det allmänna utseendet\n",
    "\n",
    "$ funktionsnamn(argument_1, argument_2, ...) $\n",
    "\n",
    "funktioner kan alltså ha ett, eller flera, argument."
   ]
  },
  {
   "cell_type": "code",
   "execution_count": null,
   "metadata": {},
   "outputs": [],
   "source": [
    "# i vårt exempel nedan är print funktionsnamnet, och 'ali' dess enda argument\n",
    "\n",
    "print('ali')"
   ]
  },
  {
   "cell_type": "code",
   "execution_count": null,
   "metadata": {},
   "outputs": [],
   "source": [
    "# nedan är round funktionsnamnet, 10.82381 första argumentet & 2 andra argumentet \n",
    "\n",
    "round(10.82381, 2)"
   ]
  },
  {
   "cell_type": "markdown",
   "metadata": {},
   "source": [
    "Notera att det är mycket viktigt i vilken ordning du anger argumenten! Testa byta ordning på argumenten i round()-funktionen ovan, och se vad som händer."
   ]
  },
  {
   "cell_type": "markdown",
   "metadata": {},
   "source": [
    "___"
   ]
  },
  {
   "cell_type": "markdown",
   "metadata": {},
   "source": [
    "## Vi kan bygga våra egna funktioner!"
   ]
  },
  {
   "cell_type": "markdown",
   "metadata": {},
   "source": [
    "Anledningen till varför vi skulle göra det, är för att vi vill kunna använda vissa kodsnuttat flera gånger, vid flera olika tillfällen, och samtidigt inte behöva skriva om samma kod hela tiden"
   ]
  },
  {
   "cell_type": "code",
   "execution_count": null,
   "metadata": {},
   "outputs": [],
   "source": [
    "def greeting():                                # vi definierar här en funktion som heter greeting\n",
    "\n",
    "    print('Hej fina du!')\n",
    "    user_name = input('vad heter du då?')\n",
    "\n",
    "    print(f'super trevligt, {user_name}')"
   ]
  },
  {
   "cell_type": "code",
   "execution_count": null,
   "metadata": {},
   "outputs": [],
   "source": [
    "# varje gång vi vill att python ska utföra koden som ligger under greeting, kallar vi på den precis som vanligt som de andra funktionerna vi är vana vid\n",
    "# vi använder namnet som vi gav den när vi definierade funktionen, i detta fall är namnet greeting\n",
    "\n",
    "greeting()"
   ]
  },
  {
   "cell_type": "markdown",
   "metadata": {},
   "source": [
    "___"
   ]
  },
  {
   "cell_type": "markdown",
   "metadata": {},
   "source": [
    "## Uttöka våra funktioner med möjlighet att ta emot argument"
   ]
  },
  {
   "cell_type": "markdown",
   "metadata": {},
   "source": [
    "Låt oss nu anta att vi vill skapa en funktion som adderar två tal, och att användaren ska ge oss dessa två tal"
   ]
  },
  {
   "cell_type": "markdown",
   "metadata": {},
   "source": [
    "För att visa Python att vi vill att funktionen ska acceptera två argument, anger vi det helt enkelt när vi definierar funktionen"
   ]
  },
  {
   "cell_type": "code",
   "execution_count": null,
   "metadata": {},
   "outputs": [],
   "source": [
    "\n",
    "def adding_numbers(number_1, number_2):            # notera att vi här visar att funktionen adding_numbers ska ta emot två argument             \n",
    "\n",
    "    print(f'number_1 = {number_1}')\n",
    "    print(f'number_2 = {number_2}')\n",
    "\n",
    "    summa = number_1 + number_2\n",
    "\n",
    "    print(summa)"
   ]
  },
  {
   "cell_type": "code",
   "execution_count": null,
   "metadata": {},
   "outputs": [],
   "source": [
    "# när vi kallar på funktionen MÅSTE vi således ge den två argument. Annars får vi error\n",
    "\n",
    "adding_numbers(5, 10)"
   ]
  },
  {
   "cell_type": "markdown",
   "metadata": {},
   "source": [
    "Lägg ovan märke till att Python assignade \n",
    "\n",
    "* variabeln number_1 till det första argumentet vi gav funktionen när vi kallade på den, i detta fall 5\n",
    "* variabeln number_2 till den andra argumentet vi gav funktionen när vi kallade på den, i detta fall 10"
   ]
  },
  {
   "cell_type": "markdown",
   "metadata": {},
   "source": [
    "___"
   ]
  },
  {
   "cell_type": "markdown",
   "metadata": {},
   "source": [
    "## Ordningen av argument"
   ]
  },
  {
   "cell_type": "markdown",
   "metadata": {},
   "source": [
    "För att förstå varför det är viktigt med ordningen vi anger variabler, låt oss skapa en funktion som istället subtraherar två tal"
   ]
  },
  {
   "cell_type": "code",
   "execution_count": null,
   "metadata": {},
   "outputs": [],
   "source": [
    "def subtracting_numbers(number_1, number_2):             \n",
    "\n",
    "    print(f'number_1 = {number_1}')\n",
    "    print(f'number_2 = {number_2}')\n",
    "\n",
    "    summa = number_1 - number_2\n",
    "\n",
    "    print(summa)"
   ]
  },
  {
   "cell_type": "code",
   "execution_count": null,
   "metadata": {},
   "outputs": [],
   "source": [
    "# I detta fall assignar Python number_1 = 5, och number_2 = 10\n",
    "\n",
    "subtracting_numbers(5, 10)"
   ]
  },
  {
   "cell_type": "code",
   "execution_count": null,
   "metadata": {},
   "outputs": [],
   "source": [
    "# men notera nu att number_1 = 10, och number_2 = 5\n",
    "\n",
    "subtracting_numbers(10, 5)"
   ]
  },
  {
   "cell_type": "markdown",
   "metadata": {},
   "source": [
    "**Ordningen som argument anges är således mycket viktigt**"
   ]
  },
  {
   "cell_type": "markdown",
   "metadata": {},
   "source": [
    "___"
   ]
  },
  {
   "cell_type": "markdown",
   "metadata": {},
   "source": [
    "## Default values"
   ]
  },
  {
   "cell_type": "markdown",
   "metadata": {},
   "source": [
    "Som vi sett tidigare har vissa funktioner default values.\n",
    "\n",
    "Print har ett default value för argumentet end. Det värdet är end='\\n', dvs en ny rad.\n",
    "\n",
    "Om inte annat anges, kommer print att skriva ut argumentet som du anger - och därefter avsluta med en ny rad"
   ]
  },
  {
   "cell_type": "code",
   "execution_count": null,
   "metadata": {},
   "outputs": [],
   "source": [
    "print('ali') # om vi inte explicit anger ett värde för end, kommer print skriva ut en ny rad efter den skrivit ut 'ali'"
   ]
  },
  {
   "cell_type": "markdown",
   "metadata": {},
   "source": [
    "Vi kan skriva över default värdet för end genom att direkt ange ett annat värde för den"
   ]
  },
  {
   "cell_type": "code",
   "execution_count": null,
   "metadata": {},
   "outputs": [],
   "source": [
    "print('ali', end = '***')         # nu kommer inte print att avsluta utskriften med en ny rad, utan istället med ***"
   ]
  },
  {
   "cell_type": "markdown",
   "metadata": {},
   "source": [
    "___\n",
    "\n",
    "## Sätt egna default values i våra funktioner"
   ]
  },
  {
   "cell_type": "markdown",
   "metadata": {},
   "source": [
    "När vi definierar en funktion kan vi argumenten default values genom att direkt ange ett värde för respektive argument, när vi definierar funktionen"
   ]
  },
  {
   "cell_type": "code",
   "execution_count": null,
   "metadata": {},
   "outputs": [],
   "source": [
    "\n",
    "# nu har argumentet name default värdet 'friend'\n",
    "\n",
    "def say_hello(name='friend'):\n",
    "\n",
    "    print(name)"
   ]
  },
  {
   "cell_type": "code",
   "execution_count": null,
   "metadata": {},
   "outputs": [],
   "source": [
    "# vi behöver således inte ange ett värde för argumentet name när vi kallar på funktionen, \n",
    "# eftersom att den då istället kommer använda sitt default value\n",
    "\n",
    "say_hello()"
   ]
  },
  {
   "cell_type": "code",
   "execution_count": null,
   "metadata": {},
   "outputs": [],
   "source": [
    "# vi kan direkt byta värdet på argumentet name genom att explicit ange ett värde när vi kallar på funktionen, \n",
    "# då kommer default värde att skrivas över med det  värdet som vi anger. I detta fall skriver vi över default värdet 'friend' med 'ali'\n",
    "\n",
    "say_hello(name='ali')"
   ]
  },
  {
   "cell_type": "markdown",
   "metadata": {},
   "source": [
    "## Vi kan definiera funkioner med både argument med & utan default values"
   ]
  },
  {
   "cell_type": "code",
   "execution_count": null,
   "metadata": {},
   "outputs": [],
   "source": [
    "# nedan skapar vi en funktion som multiplicerar sina tre argument. argumentet z har vi gett ett default value\n",
    "\n",
    "def multiplikation(x, y , z = 10):\n",
    "\n",
    "    print(f'x={x}')\n",
    "    print(f'y={y}')\n",
    "    print(f'z={z}')\n",
    "\n",
    "    product = x*y*z\n",
    "\n",
    "    print(product)\n"
   ]
  },
  {
   "cell_type": "code",
   "execution_count": null,
   "metadata": {},
   "outputs": [],
   "source": [
    "# eftersom att z har ett default value, behöver vi inte ange något värde för den\n",
    "\n",
    "multiplikation(x=2, y=3)"
   ]
  },
  {
   "cell_type": "code",
   "execution_count": null,
   "metadata": {},
   "outputs": [],
   "source": [
    "# vi kan, om vi vill, givetvis ändra på default värdet på z genom att direkt ange ett värde för z när vi kallar på funktionen\n",
    "\n",
    "multiplikation(x=2, y=3, z=20)"
   ]
  },
  {
   "cell_type": "markdown",
   "metadata": {},
   "source": [
    "**OBS**\n",
    "\n",
    "Du behöver inte alltid explicit ange variabelnamn i argumenten, python kommer automatiskt försöka matcha åt dig"
   ]
  },
  {
   "cell_type": "code",
   "execution_count": null,
   "metadata": {},
   "outputs": [],
   "source": [
    "def multiplikation(x, y , z=10):\n",
    "\n",
    "    print(f'x={x}')\n",
    "    print(f'y={y}')\n",
    "    print(f'z={z}')\n",
    "\n",
    "    product = x*y*z\n",
    "\n",
    "    print(product)"
   ]
  },
  {
   "cell_type": "markdown",
   "metadata": {},
   "source": [
    "Python kommer nedan att försöka matcha de argument du ger till funktionen, till de argument som funktionen förväntar sig"
   ]
  },
  {
   "cell_type": "code",
   "execution_count": null,
   "metadata": {},
   "outputs": [],
   "source": [
    "multiplikation(2, 3)"
   ]
  },
  {
   "cell_type": "markdown",
   "metadata": {},
   "source": [
    "Som vi ser så gör Python det i tur-och-ordning. Det första argumentet vi gav funktionen när vi kallade på den (2) assignade Python till det\n",
    "första argumentet den förväntar sig (x). Sen fortsatte den i satta vårt andra angivna argument (3) till det andra argumenten den förväntar sig (y)\n",
    "\n",
    "Att ange argument till en funktion på det här sättet går bra! Men man måste tänka till lite..."
   ]
  },
  {
   "cell_type": "markdown",
   "metadata": {},
   "source": [
    "___\n",
    "\n",
    "## Blanda ej ordningen på explicit och implicit angivna argument \n",
    "\n",
    "\n",
    "För att inte förvirra Python och skapa error är det viktigt att vi inte gör som nedan, där vi explicit angett z=10, och sedan gett två implicita (ej namngivna)argument ytterligare.\n",
    "\n",
    "Python blir förvirrad och förstår inte hur den ska hantera detta fall (den vet inte vilket argument den ska assigna till x, och vilken till y)"
   ]
  },
  {
   "cell_type": "code",
   "execution_count": null,
   "metadata": {},
   "outputs": [],
   "source": [
    "multiplikation(z=30, 10, 20)"
   ]
  },
  {
   "cell_type": "markdown",
   "metadata": {},
   "source": [
    "När ni kallar på en funktion, är det därför superviktigt att argumenten som anges explicit görs efter de som implicit anges"
   ]
  },
  {
   "cell_type": "code",
   "execution_count": null,
   "metadata": {},
   "outputs": [],
   "source": [
    "multiplikation(10, 20, z=50)"
   ]
  },
  {
   "cell_type": "markdown",
   "metadata": {},
   "source": [
    "Nu förstod Python hur den ska assigna argumenten!"
   ]
  },
  {
   "cell_type": "markdown",
   "metadata": {},
   "source": [
    "___\n",
    "\n",
    "## Return"
   ]
  },
  {
   "cell_type": "markdown",
   "metadata": {},
   "source": [
    "Ofta vill man att våra funktioner också ska ge oss en output, som vi kan ta och bearbeta vidare på något sätt. \n",
    "\n",
    "För att visa Python vad ni vill att funktionen ska 'returna' som output, gör ni det med en return-markering i slutet av funktionen"
   ]
  },
  {
   "cell_type": "code",
   "execution_count": null,
   "metadata": {},
   "outputs": [],
   "source": [
    "def calculate_area(bas, höjd):\n",
    "\n",
    "    area = bas*höjd/2\n",
    "\n",
    "    return area                          # vår funktion returnerar värdet av area här"
   ]
  },
  {
   "cell_type": "markdown",
   "metadata": {},
   "source": [
    "Vi som användare kan sedan 'fånga upp' outputen från funktionen (det som funktionen returnar) på detta vis\n",
    "\n",
    "Vi assignar helt enkelt en variabel till att anta värdet som returneras av funktionen"
   ]
  },
  {
   "cell_type": "code",
   "execution_count": null,
   "metadata": {},
   "outputs": [],
   "source": [
    "my_answer = calculate_area(10, 4)        # här kommer my_answer bli assignad värdet för area som funktionen precis beräknade\n",
    "\n",
    "print(my_answer)"
   ]
  },
  {
   "cell_type": "markdown",
   "metadata": {},
   "source": [
    "Tänk på att ni bestämmer själva vad som funktionen returnerar!"
   ]
  },
  {
   "cell_type": "code",
   "execution_count": null,
   "metadata": {},
   "outputs": [],
   "source": [
    "def calculate_area(bas, höjd):\n",
    "\n",
    "    area = bas*höjd/2\n",
    "\n",
    "    return 50000000                    # i detta fall returnerar vi 50000000, som inte har någonting att göra med arean som vi beräknade"
   ]
  },
  {
   "cell_type": "code",
   "execution_count": null,
   "metadata": {},
   "outputs": [],
   "source": [
    "my_answer = calculate_area(10, 2)      # vad tror du att my_answer blir assignad till här?\n",
    "\n",
    "print(my_answer)"
   ]
  },
  {
   "cell_type": "markdown",
   "metadata": {},
   "source": [
    "___\n",
    "\n",
    "## *args"
   ]
  },
  {
   "cell_type": "markdown",
   "metadata": {},
   "source": [
    "används när man vill låta python ta emot ett obestämt antal argument (ni kommer inte använda detta särskilt mycket nu...)"
   ]
  },
  {
   "cell_type": "code",
   "execution_count": null,
   "metadata": {},
   "outputs": [],
   "source": [
    "def my_greeter(*args):\n",
    "\n",
    "    print(*args)\n",
    "\n",
    "    for name in args:\n",
    "\n",
    "        print(name) "
   ]
  },
  {
   "cell_type": "code",
   "execution_count": null,
   "metadata": {},
   "outputs": [],
   "source": [
    "my_greeter('ali', 'torsten', 'ilse')"
   ]
  },
  {
   "cell_type": "markdown",
   "metadata": {},
   "source": [
    "___"
   ]
  },
  {
   "cell_type": "markdown",
   "metadata": {},
   "source": [
    "## VIKTIG DETALJ\n",
    "\n",
    "Var noga med att inte assigna bort era funktioner!!!!"
   ]
  },
  {
   "cell_type": "markdown",
   "metadata": {},
   "source": [
    "Vi vet att ex. print är en funktion, men om ni assignar print till något annat, som ex:"
   ]
  },
  {
   "cell_type": "code",
   "execution_count": null,
   "metadata": {},
   "outputs": [],
   "source": [
    "print = 10"
   ]
  },
  {
   "cell_type": "markdown",
   "metadata": {},
   "source": [
    "kommer inte print längre att fungera som funktion, eftersom att ni nu assignat den till ett något annat (en integer i detta fall)"
   ]
  },
  {
   "cell_type": "code",
   "execution_count": null,
   "metadata": {},
   "outputs": [],
   "source": [
    "type(print)"
   ]
  },
  {
   "cell_type": "markdown",
   "metadata": {},
   "source": [
    "Vi får således error när vi försöker använda vår print-funktion"
   ]
  },
  {
   "cell_type": "code",
   "execution_count": null,
   "metadata": {},
   "outputs": [],
   "source": [
    "print('ali')"
   ]
  }
 ],
 "metadata": {
  "kernelspec": {
   "display_name": "deeplearning",
   "language": "python",
   "name": "python3"
  },
  "language_info": {
   "codemirror_mode": {
    "name": "ipython",
    "version": 3
   },
   "file_extension": ".py",
   "mimetype": "text/x-python",
   "name": "python",
   "nbconvert_exporter": "python",
   "pygments_lexer": "ipython3",
   "version": "3.11.4"
  },
  "orig_nbformat": 4
 },
 "nbformat": 4,
 "nbformat_minor": 2
}
