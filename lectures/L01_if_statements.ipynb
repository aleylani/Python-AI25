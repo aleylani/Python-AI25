{
 "cells": [
  {
   "cell_type": "markdown",
   "metadata": {},
   "source": [
    "<a href=\"https://colab.research.google.com/github/aleylani/Python-AI25/blob/main/lectures/L01_if_statements.ipynb\" target=\"_parent\"><img src=\"https://colab.research.google.com/assets/colab-badge.svg\" alt=\"Open In Colab\"/></a>"
   ]
  },
  {
   "cell_type": "markdown",
   "metadata": {},
   "source": [
    "## Jämförelser"
   ]
  },
  {
   "cell_type": "code",
   "execution_count": null,
   "metadata": {},
   "outputs": [],
   "source": [
    "number_1 = 10\n",
    "number_2 = 20\n",
    "\n",
    "print(f'number_1 > number_2 evalueras till:  {number_1 > number_2}')\n",
    "print(f'number_1 >= number_2 evalueras till: {number_1 >= number_2}')\n",
    "print(f'number_1 < number_2 evalueras till:  {number_1 < number_2}')\n",
    "print(f'number_1 <= number_2 evalueras till: {number_1 <= number_2}')\n",
    "print(f'number_1 == number_2 evalueras till: {number_1 == number_2}')"
   ]
  },
  {
   "cell_type": "markdown",
   "metadata": {},
   "source": [
    "## Fler jämförelser"
   ]
  },
  {
   "cell_type": "markdown",
   "metadata": {},
   "source": [
    "Python har stöd även för fler jämförelser samtidigt"
   ]
  },
  {
   "cell_type": "code",
   "execution_count": null,
   "metadata": {},
   "outputs": [],
   "source": [
    "age = 30\n",
    "\n",
    "print(f'25 < age < 30 evalueras till: {25 < age < 40}')\n",
    "\n",
    "print(f'25 < age < 28 evalueras till: {25 < age < 28}')"
   ]
  },
  {
   "cell_type": "markdown",
   "metadata": {},
   "source": [
    "Du kan givetvis använda vilka jämförelseoperationer du själv vill."
   ]
  },
  {
   "cell_type": "markdown",
   "metadata": {},
   "source": [
    "## IF-satser"
   ]
  },
  {
   "cell_type": "markdown",
   "metadata": {},
   "source": [
    "Dessa satser exekverar det intenderade kodblocket (den inskjutna) undertll om villkoret till satsen evalueras till True"
   ]
  },
  {
   "cell_type": "code",
   "execution_count": null,
   "metadata": {},
   "outputs": [],
   "source": [
    "number_1 = 10\n",
    "number_2 = 20\n",
    "\n",
    "if number_1 < number_2:\n",
    "\n",
    "    print(f'Indeed, {number_1} är mindre än {number_2}')"
   ]
  },
  {
   "cell_type": "markdown",
   "metadata": {},
   "source": [
    "Om villkoret inte evalueras till True, så hoppar Python över kodblocket"
   ]
  },
  {
   "cell_type": "code",
   "execution_count": null,
   "metadata": {},
   "outputs": [],
   "source": [
    "if number_1 > number_2:     # villkoret stämmer inte, så det inskjutna kodblocket ignoreras \n",
    "\n",
    "    print(f'Hmm, {number_1} kanske är större än {number_2}?')"
   ]
  },
  {
   "cell_type": "markdown",
   "metadata": {},
   "source": [
    "## IF-ELSE"
   ]
  },
  {
   "cell_type": "markdown",
   "metadata": {},
   "source": [
    "Else är en kompanjon till If, och exekverar sin kod om villkoret till if-satsen inte är True"
   ]
  },
  {
   "cell_type": "code",
   "execution_count": null,
   "metadata": {},
   "outputs": [],
   "source": [
    "if number_1 > number_2:     # villkoret stämmer inte, så det inskjutna kodblocket ignoreras \n",
    "\n",
    "    print(f'Hmm, {number_1} kanske är större än {number_2}?')\n",
    "\n",
    "else:                       # det inskjutna kodblocket under denna körs därför istället\n",
    "\n",
    "    print(f'Nej, {number_1} är definitivt mindre än {number_2}!')"
   ]
  },
  {
   "cell_type": "markdown",
   "metadata": {},
   "source": [
    "## IF-ELIF-ELSE"
   ]
  },
  {
   "cell_type": "markdown",
   "metadata": {},
   "source": [
    "Ytterligare en kompanjon till If och Else. Den här ger oss fler möjligheter att testa olika villkor. Python kommer **endast** att exekvera ett kodblock i en if-elif-else kombination, nämligen det **första** kodblocket för vilket villkoret evalueras till True."
   ]
  },
  {
   "cell_type": "code",
   "execution_count": null,
   "metadata": {},
   "outputs": [],
   "source": [
    "number_1 = 30\n",
    "number_2 = 30\n",
    "\n",
    "if number_1 > number_2:     # villkoret stämmer inte, så det inskjutna kodblocket ignoreras \n",
    "\n",
    "    print(f'Hmm, {number_1} kanske är större än {number_2}?')\n",
    "\n",
    "elif number_1 == number_2:  # villkoret stämmer, och det tillhörande kodblocket exekveras!\n",
    "\n",
    "    print(f'Vet du vad, {number_1} är lika med {number_2}!')\n",
    "\n",
    "else:                       # eftersom att villkoret för elif redan var uppfyllt, \n",
    "                            # så ignoreras även detta kodblock\n",
    "\n",
    "    print(f'Nej, {number_1} är definitivt mindre än {number_2}!')"
   ]
  },
  {
   "cell_type": "markdown",
   "metadata": {},
   "source": [
    "## NESTED IF"
   ]
  },
  {
   "cell_type": "markdown",
   "metadata": {},
   "source": [
    "Det går väldigt bra att lägga in ytterligare if-elif-else satser, i redan befintliga if-elif-else satser"
   ]
  },
  {
   "cell_type": "code",
   "execution_count": null,
   "metadata": {},
   "outputs": [],
   "source": [
    "visitor = input('Vem är du?')\n",
    "\n",
    "if visitor == 'Mamma':\n",
    "\n",
    "    has_candy = input('Har du godis till mig? Ja eller Nej')\n",
    "\n",
    "    if has_candy == 'Ja':\n",
    "        print('Knacka på')\n",
    "    \n",
    "    else:\n",
    "        print('Lämna mig ifred!')\n",
    "\n",
    "elif visitor == 'Kalle':\n",
    "\n",
    "    apology = input('Har du kommit för att be om ursäkt?')\n",
    "\n",
    "    if apology == 'Ja':\n",
    "        print('Okey, knacka på då...')\n",
    "\n",
    "    else:\n",
    "        print('Jag hatar dig!!! GÅ HÄRIFRÅN')\n",
    "\n",
    "else:\n",
    "\n",
    "    print('Stör mig inte snälla, knacka endast på om du har snacks till mig')\n",
    "\n"
   ]
  },
  {
   "cell_type": "markdown",
   "metadata": {},
   "source": [
    "## En viktig detalj!"
   ]
  },
  {
   "cell_type": "markdown",
   "metadata": {},
   "source": [
    "Observera att Python utför kodblock om det givna villkoret evalueras till True. \n",
    "\n",
    "Men inget stoppar dig från att direkt skriva in True, istället för ett villkor. "
   ]
  },
  {
   "cell_type": "code",
   "execution_count": null,
   "metadata": {},
   "outputs": [],
   "source": [
    "if True:\n",
    "\n",
    "    print('Det inskjutna kodblocket kommer vid en sån här konstruktion alltid att utföras!')"
   ]
  },
  {
   "cell_type": "code",
   "execution_count": null,
   "metadata": {},
   "outputs": [],
   "source": []
  }
 ],
 "metadata": {
  "kernelspec": {
   "display_name": "deeplearning",
   "language": "python",
   "name": "python3"
  },
  "language_info": {
   "codemirror_mode": {
    "name": "ipython",
    "version": 3
   },
   "file_extension": ".py",
   "mimetype": "text/x-python",
   "name": "python",
   "nbconvert_exporter": "python",
   "pygments_lexer": "ipython3",
   "version": "3.11.4"
  },
  "orig_nbformat": 4
 },
 "nbformat": 4,
 "nbformat_minor": 2
}
