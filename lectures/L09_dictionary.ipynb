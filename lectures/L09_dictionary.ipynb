{
 "cells": [
  {
   "cell_type": "markdown",
   "metadata": {},
   "source": [
    "<a href=\"https://colab.research.google.com/github/aleylani/Python-AI25/blob/main/lectures/L09_dictionary.ipynb\" target=\"_parent\"><img src=\"https://colab.research.google.com/assets/colab-badge.svg\" alt=\"Open In Colab\"/></a>"
   ]
  },
  {
   "cell_type": "markdown",
   "metadata": {},
   "source": [
    "## Dictionaries"
   ]
  },
  {
   "cell_type": "markdown",
   "metadata": {},
   "source": [
    "Vi ska idag lära oss om strukturen 'dictionary' i Python. En dictionary är, precis som en lista, ett sätt att lagra element i."
   ]
  },
  {
   "cell_type": "code",
   "execution_count": 58,
   "metadata": {},
   "outputs": [
    {
     "name": "stdout",
     "output_type": "stream",
     "text": [
      "mitt_första_element\n"
     ]
    }
   ],
   "source": [
    "en_lista = ['mitt_första_element', 'mitt_andra_element', 'mitt_tredje_element']  # nu har vi en lista\n",
    "\n",
    "print(en_lista[0])          # printer ut elementet på första platesen i listan en_lista"
   ]
  },
  {
   "cell_type": "markdown",
   "metadata": {},
   "source": [
    "Vår första dictionary"
   ]
  },
  {
   "cell_type": "code",
   "execution_count": 59,
   "metadata": {},
   "outputs": [],
   "source": [
    "personinformation = {'namn': 'Ali', \n",
    "                     'adress' : 'Norra Parkpromenaden 23, Täby',\n",
    "                     'ålder': '33'} "
   ]
  },
  {
   "cell_type": "code",
   "execution_count": 60,
   "metadata": {},
   "outputs": [
    {
     "data": {
      "text/plain": [
       "{'namn': 'Ali', 'adress': 'Norra Parkpromenaden 23, Täby', 'ålder': '33'}"
      ]
     },
     "execution_count": 60,
     "metadata": {},
     "output_type": "execute_result"
    }
   ],
   "source": [
    "personinformation"
   ]
  },
  {
   "cell_type": "code",
   "execution_count": 61,
   "metadata": {},
   "outputs": [
    {
     "name": "stdout",
     "output_type": "stream",
     "text": [
      "Ali\n",
      "Norra Parkpromenaden 23, Täby\n"
     ]
    }
   ],
   "source": [
    "print(personinformation['namn'])\n",
    "print(personinformation['adress'])"
   ]
  },
  {
   "cell_type": "markdown",
   "metadata": {},
   "source": [
    "En dictionary mer generellt består av två saker: \n",
    "\n",
    "**keys** & **values**\n",
    "\n",
    "Struturen i en dictionary ser ut såhär, mer generellt\n",
    "\n",
    "min_dictionary = {key_1: value_1, key_2: value_2, ... , key_N: value_N}"
   ]
  },
  {
   "cell_type": "markdown",
   "metadata": {},
   "source": [
    "Om vi vill ha ut value_2 från vår dictionary, då indexer vi python på följande sätt:\n",
    "\n",
    "min_dictionary[key_2]"
   ]
  },
  {
   "cell_type": "code",
   "execution_count": 62,
   "metadata": {},
   "outputs": [],
   "source": [
    "personinformation = {'namn': 'Ali', \n",
    "                     'adress' : 'Norra Parkpromenaden 23, Täby',\n",
    "                     'ålder': '33',\n",
    "                     'favoritpokemon': ['Charmander', 'Charmeleon','Charizard']} "
   ]
  },
  {
   "cell_type": "markdown",
   "metadata": {},
   "source": [
    "**Exempel**"
   ]
  },
  {
   "cell_type": "markdown",
   "metadata": {},
   "source": [
    "Vi vill göra en liten kontaktbok för personer i den här klassen"
   ]
  },
  {
   "cell_type": "code",
   "execution_count": 63,
   "metadata": {},
   "outputs": [],
   "source": [
    "best_class_ever = {'Jonathan L': {'Ålder': 34, 'Intresse': 'Schack'}, \n",
    "                   'Filip C': {'Ålder': 19, 'Intresse': 'Dykning'}}"
   ]
  },
  {
   "cell_type": "code",
   "execution_count": 64,
   "metadata": {},
   "outputs": [
    {
     "data": {
      "text/plain": [
       "{'Jonathan L': {'Ålder': 34, 'Intresse': 'Schack'},\n",
       " 'Filip C': {'Ålder': 19, 'Intresse': 'Dykning'}}"
      ]
     },
     "execution_count": 64,
     "metadata": {},
     "output_type": "execute_result"
    }
   ],
   "source": [
    "best_class_ever"
   ]
  },
  {
   "cell_type": "code",
   "execution_count": 65,
   "metadata": {},
   "outputs": [
    {
     "data": {
      "text/plain": [
       "'Dykning'"
      ]
     },
     "execution_count": 65,
     "metadata": {},
     "output_type": "execute_result"
    }
   ],
   "source": [
    "best_class_ever['Filip C']['Intresse']"
   ]
  },
  {
   "cell_type": "markdown",
   "metadata": {},
   "source": [
    "För att få fram alla keys i en dictionary, kan ni göra det på följande sätt"
   ]
  },
  {
   "cell_type": "code",
   "execution_count": 66,
   "metadata": {},
   "outputs": [
    {
     "data": {
      "text/plain": [
       "dict_keys(['Jonathan L', 'Filip C'])"
      ]
     },
     "execution_count": 66,
     "metadata": {},
     "output_type": "execute_result"
    }
   ],
   "source": [
    "best_class_ever.keys()"
   ]
  },
  {
   "cell_type": "markdown",
   "metadata": {},
   "source": [
    "Om ni istället vill se alla values (som hör till nycklar ovan) gör ni det på följande sätt:"
   ]
  },
  {
   "cell_type": "code",
   "execution_count": 67,
   "metadata": {},
   "outputs": [
    {
     "data": {
      "text/plain": [
       "dict_values([{'Ålder': 34, 'Intresse': 'Schack'}, {'Ålder': 19, 'Intresse': 'Dykning'}])"
      ]
     },
     "execution_count": 67,
     "metadata": {},
     "output_type": "execute_result"
    }
   ],
   "source": [
    "best_class_ever.values()"
   ]
  },
  {
   "cell_type": "markdown",
   "metadata": {},
   "source": [
    "## Att lägga till nya entrier i en dictonary är superenkelt"
   ]
  },
  {
   "cell_type": "code",
   "execution_count": 68,
   "metadata": {},
   "outputs": [
    {
     "data": {
      "text/plain": [
       "{'namn': 'Ali',\n",
       " 'adress': 'Norra Parkpromenaden 23, Täby',\n",
       " 'ålder': '33',\n",
       " 'favoritpokemon': ['Charmander', 'Charmeleon', 'Charizard']}"
      ]
     },
     "execution_count": 68,
     "metadata": {},
     "output_type": "execute_result"
    }
   ],
   "source": [
    "personinformation"
   ]
  },
  {
   "cell_type": "markdown",
   "metadata": {},
   "source": [
    "Kolla vad som händer när vi försöker indexera på en nyckel som inte existerar"
   ]
  },
  {
   "cell_type": "code",
   "execution_count": 69,
   "metadata": {},
   "outputs": [
    {
     "ename": "KeyError",
     "evalue": "'telefonnummer'",
     "output_type": "error",
     "traceback": [
      "\u001b[1;31m---------------------------------------------------------------------------\u001b[0m",
      "\u001b[1;31mKeyError\u001b[0m                                  Traceback (most recent call last)",
      "\u001b[1;32mc:\\Users\\Leyla\\Desktop\\Quantum State\\IT högskolan\\Courses\\Python\\code_alongs\\L09_dictionary.ipynb Cell 23\u001b[0m line \u001b[0;36m1\n\u001b[1;32m----> <a href='vscode-notebook-cell:/c%3A/Users/Leyla/Desktop/Quantum%20State/IT%20h%C3%B6gskolan/Courses/Python/code_alongs/L09_dictionary.ipynb#X61sZmlsZQ%3D%3D?line=0'>1</a>\u001b[0m personinformation[\u001b[39m'\u001b[39m\u001b[39mtelefonnummer\u001b[39m\u001b[39m'\u001b[39m]\n",
      "\u001b[1;31mKeyError\u001b[0m: 'telefonnummer'"
     ]
    }
   ],
   "source": [
    "personinformation['telefonnummer']"
   ]
  },
  {
   "cell_type": "code",
   "execution_count": 70,
   "metadata": {},
   "outputs": [],
   "source": [
    "personinformation['telefonnummer'] = 112   # dont @ me "
   ]
  },
  {
   "cell_type": "code",
   "execution_count": 71,
   "metadata": {},
   "outputs": [
    {
     "data": {
      "text/plain": [
       "{'namn': 'Ali',\n",
       " 'adress': 'Norra Parkpromenaden 23, Täby',\n",
       " 'ålder': '33',\n",
       " 'favoritpokemon': ['Charmander', 'Charmeleon', 'Charizard'],\n",
       " 'telefonnummer': 112}"
      ]
     },
     "execution_count": 71,
     "metadata": {},
     "output_type": "execute_result"
    }
   ],
   "source": [
    "personinformation"
   ]
  },
  {
   "cell_type": "markdown",
   "metadata": {},
   "source": [
    "Genrellt sätt, om ni vill lägga till en ny key-value pair så gör ni det på följande sätt:\n",
    "\n",
    "my_dicationary[min_nya_key] = min_nya_value                    \n",
    "\n",
    "Helt enkelt så assignar ni en ny nyckel till er dictionary, med ett value som ni själva bestämmer"
   ]
  },
  {
   "cell_type": "markdown",
   "metadata": {},
   "source": [
    "## Var försiktiga! Det går att skriva över nycklar och values i en dictionary"
   ]
  },
  {
   "cell_type": "code",
   "execution_count": null,
   "metadata": {},
   "outputs": [],
   "source": [
    "personinformation"
   ]
  },
  {
   "cell_type": "code",
   "execution_count": null,
   "metadata": {},
   "outputs": [],
   "source": [
    "personinformation['namn'] = 'Apa'"
   ]
  },
  {
   "cell_type": "code",
   "execution_count": null,
   "metadata": {},
   "outputs": [],
   "source": [
    "personinformation"
   ]
  },
  {
   "cell_type": "markdown",
   "metadata": {},
   "source": [
    "**Fler exempel**"
   ]
  },
  {
   "cell_type": "code",
   "execution_count": null,
   "metadata": {},
   "outputs": [],
   "source": [
    "best_class_ever"
   ]
  },
  {
   "cell_type": "code",
   "execution_count": null,
   "metadata": {},
   "outputs": [],
   "source": [
    "best_class_ever['Jonathan L'] = 'Vi har ingen information om Jonathan. Stealth mode.'"
   ]
  },
  {
   "cell_type": "code",
   "execution_count": null,
   "metadata": {},
   "outputs": [],
   "source": [
    "best_class_ever"
   ]
  },
  {
   "cell_type": "markdown",
   "metadata": {},
   "source": [
    "Anta nu att i endast vill ändra på Filips intresse"
   ]
  },
  {
   "cell_type": "code",
   "execution_count": null,
   "metadata": {},
   "outputs": [],
   "source": [
    "best_class_ever['Filip C']['Intresse']"
   ]
  },
  {
   "cell_type": "code",
   "execution_count": null,
   "metadata": {},
   "outputs": [],
   "source": [
    "best_class_ever['Filip C']['Intresse'] = 'Pingis'"
   ]
  },
  {
   "cell_type": "code",
   "execution_count": null,
   "metadata": {},
   "outputs": [],
   "source": [
    "best_class_ever"
   ]
  },
  {
   "cell_type": "markdown",
   "metadata": {},
   "source": [
    "## Låt oss leka lite med dictionaries"
   ]
  },
  {
   "cell_type": "code",
   "execution_count": 83,
   "metadata": {},
   "outputs": [],
   "source": [
    "names = ['Ali', 'Amir', 'Rozann']\n",
    "favourite_foods = ['Mammas dolma', 'Banan', 'Sushi']"
   ]
  },
  {
   "cell_type": "code",
   "execution_count": 84,
   "metadata": {},
   "outputs": [
    {
     "name": "stdout",
     "output_type": "stream",
     "text": [
      "Ali Mammas dolma\n",
      "Amir Banan\n",
      "Rozann Sushi\n"
     ]
    }
   ],
   "source": [
    "min_dictionary = {}\n",
    "\n",
    "for name, food in zip(names, favourite_foods):\n",
    "\n",
    "    print(name, food)\n",
    "\n",
    "    min_dictionary[name] = food"
   ]
  },
  {
   "cell_type": "markdown",
   "metadata": {},
   "source": [
    "**Fler exempel**"
   ]
  },
  {
   "cell_type": "markdown",
   "metadata": {},
   "source": [
    "Jag vill skapa en dictionary där varje betygsgräns är tydligt"
   ]
  },
  {
   "cell_type": "code",
   "execution_count": 95,
   "metadata": {},
   "outputs": [
    {
     "name": "stdout",
     "output_type": "stream",
     "text": [
      "F 0\n",
      "E 20\n",
      "D 40\n",
      "C 60\n",
      "B 80\n",
      "A 100\n"
     ]
    }
   ],
   "source": [
    "grade_limit = {}\n",
    "\n",
    "grades = 'FEDCBA'\n",
    "\n",
    "for i, grade in enumerate(grades):\n",
    "\n",
    "    print(grade, i*20)\n",
    "\n",
    "    grade_limit[grade] = i*20"
   ]
  },
  {
   "cell_type": "code",
   "execution_count": 96,
   "metadata": {},
   "outputs": [
    {
     "data": {
      "text/plain": [
       "{'F': 0, 'E': 20, 'D': 40, 'C': 60, 'B': 80, 'A': 100}"
      ]
     },
     "execution_count": 96,
     "metadata": {},
     "output_type": "execute_result"
    }
   ],
   "source": [
    "grade_limit"
   ]
  },
  {
   "cell_type": "markdown",
   "metadata": {},
   "source": [
    "**NICE, låt oss gå vidare**"
   ]
  },
  {
   "cell_type": "markdown",
   "metadata": {},
   "source": [
    "Ville vi få ut alla **keys** då kunde vi göra det genom att skriva my_dicitonary.**keys()**"
   ]
  },
  {
   "cell_type": "code",
   "execution_count": 100,
   "metadata": {},
   "outputs": [
    {
     "name": "stdout",
     "output_type": "stream",
     "text": [
      "F\n",
      "E\n",
      "D\n",
      "C\n",
      "B\n",
      "A\n"
     ]
    }
   ],
   "source": [
    "for key in grade_limit.keys():\n",
    "\n",
    "    print(key)"
   ]
  },
  {
   "cell_type": "markdown",
   "metadata": {},
   "source": [
    "Ville vi få ut alla **values** då kunde vi göra det genom att skriva my_dicitonary.**values()**"
   ]
  },
  {
   "cell_type": "code",
   "execution_count": 101,
   "metadata": {},
   "outputs": [
    {
     "name": "stdout",
     "output_type": "stream",
     "text": [
      "0\n",
      "20\n",
      "40\n",
      "60\n",
      "80\n",
      "100\n"
     ]
    }
   ],
   "source": [
    "for value in grade_limit.values():\n",
    "\n",
    "    print(value)"
   ]
  },
  {
   "cell_type": "markdown",
   "metadata": {},
   "source": [
    "Om vi vill få ut alla keys() OCH values() i en dictionary, kan vi göra på följande sätt:"
   ]
  },
  {
   "cell_type": "code",
   "execution_count": 97,
   "metadata": {},
   "outputs": [
    {
     "name": "stdout",
     "output_type": "stream",
     "text": [
      "F 0\n",
      "E 20\n",
      "D 40\n",
      "C 60\n",
      "B 80\n",
      "A 100\n"
     ]
    }
   ],
   "source": [
    "for key, value in grade_limit.items():\n",
    "\n",
    "    print(key, value)"
   ]
  },
  {
   "cell_type": "markdown",
   "metadata": {},
   "source": [
    "Ytterligare exempel"
   ]
  },
  {
   "cell_type": "code",
   "execution_count": 103,
   "metadata": {},
   "outputs": [],
   "source": [
    "best_class_ever = {'Jonathan L': {'Ålder': 34, 'Intresse': 'Schack'}, \n",
    "                   'Filip C': {'Ålder': 19, 'Intresse': 'Dykning'}}"
   ]
  },
  {
   "cell_type": "code",
   "execution_count": 106,
   "metadata": {},
   "outputs": [
    {
     "name": "stdout",
     "output_type": "stream",
     "text": [
      "Jonathan L\n",
      "{'Ålder': 34, 'Intresse': 'Schack'}\n",
      "Filip C\n",
      "{'Ålder': 19, 'Intresse': 'Dykning'}\n"
     ]
    }
   ],
   "source": [
    "for a, b in best_class_ever.items():\n",
    "\n",
    "    print(a)\n",
    "    print(b) "
   ]
  },
  {
   "cell_type": "code",
   "execution_count": 110,
   "metadata": {},
   "outputs": [
    {
     "name": "stdout",
     "output_type": "stream",
     "text": [
      "Jonathan L\n",
      "34\n",
      "Filip C\n",
      "19\n"
     ]
    }
   ],
   "source": [
    "for key, value in best_class_ever.items():\n",
    "\n",
    "    print(key)\n",
    "    print(value['Ålder']) "
   ]
  },
  {
   "cell_type": "markdown",
   "metadata": {},
   "source": [
    "## VIKTIG DISTINKTION MELLAN LISTOR OCH DICITONARIES"
   ]
  },
  {
   "cell_type": "markdown",
   "metadata": {},
   "source": [
    "I en lista indexerar vi på positionen av varje element\n",
    "\n",
    "I en dictionary indexerar vi på nyckeln"
   ]
  },
  {
   "cell_type": "markdown",
   "metadata": {},
   "source": [
    "## DICTIONARY COMPREHENSIONS"
   ]
  },
  {
   "cell_type": "code",
   "execution_count": 111,
   "metadata": {},
   "outputs": [],
   "source": [
    "grades = 'FEDCBA'"
   ]
  },
  {
   "cell_type": "markdown",
   "metadata": {},
   "source": [
    "Skillnaden mellan dict-comprehension och list-comprehension är att i listor behöver du endast ange ett värde att beräkna och lägga till"
   ]
  },
  {
   "cell_type": "code",
   "execution_count": 114,
   "metadata": {},
   "outputs": [
    {
     "data": {
      "text/plain": [
       "['F', 'E', 'D', 'C', 'B', 'A']"
      ]
     },
     "execution_count": 114,
     "metadata": {},
     "output_type": "execute_result"
    }
   ],
   "source": [
    "list_comprehension = [x for x in grades]\n",
    "list_comprehension\n"
   ]
  },
  {
   "cell_type": "markdown",
   "metadata": {},
   "source": [
    "I dict-comprehension måste vi däremot ange både en nyckel, och en value"
   ]
  },
  {
   "cell_type": "code",
   "execution_count": 120,
   "metadata": {},
   "outputs": [
    {
     "data": {
      "text/plain": [
       "{'F': 0, 'E': 20, 'D': 40, 'C': 60, 'B': 80, 'A': 100}"
      ]
     },
     "execution_count": 120,
     "metadata": {},
     "output_type": "execute_result"
    }
   ],
   "source": [
    "grades = 'FEDCBA'\n",
    "\n",
    "dict_comprehension = {grade:i*20 for i, grade in enumerate(grades)}\n",
    "\n",
    "dict_comprehension"
   ]
  },
  {
   "cell_type": "code",
   "execution_count": null,
   "metadata": {},
   "outputs": [],
   "source": []
  }
 ],
 "metadata": {
  "kernelspec": {
   "display_name": "deeplearning",
   "language": "python",
   "name": "python3"
  },
  "language_info": {
   "codemirror_mode": {
    "name": "ipython",
    "version": 3
   },
   "file_extension": ".py",
   "mimetype": "text/x-python",
   "name": "python",
   "nbconvert_exporter": "python",
   "pygments_lexer": "ipython3",
   "version": "3.11.4"
  },
  "orig_nbformat": 4
 },
 "nbformat": 4,
 "nbformat_minor": 2
}
