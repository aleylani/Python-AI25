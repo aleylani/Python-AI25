{
 "cells": [
  {
   "cell_type": "markdown",
   "metadata": {},
   "source": [
    "<a href=\"https://colab.research.google.com/github/aleylani/Python-AI25/blob/main/lectures/L03_for_statements.ipynb\" target=\"_parent\"><img src=\"https://colab.research.google.com/assets/colab-badge.svg\" alt=\"Open In Colab\"/></a>"
   ]
  },
  {
   "cell_type": "markdown",
   "metadata": {},
   "source": [
    "En lista är ett objekt som kan innehålla andra objekt, vi kommer prata mer om listor nästa lektion"
   ]
  },
  {
   "cell_type": "code",
   "execution_count": null,
   "metadata": {},
   "outputs": [],
   "source": [
    "# Här skapar vi en lista med alla veckodagar\n",
    "\n",
    "my_first_list = ['Monday', 'Tuesday', 'Wednesday', 'Thursday', 'Friday','Saturday', 'Sunday']\n",
    "\n",
    "datatyp = type(my_first_list)\n",
    "\n",
    "print(my_first_list)\n",
    "print(f'Datatypen av vår lista är: {datatyp}')\n"
   ]
  },
  {
   "cell_type": "markdown",
   "metadata": {},
   "source": [
    "Vi kan direkt komma åt de olika elementen i vår lista genom att ange respektive elements index (position i listan)"
   ]
  },
  {
   "cell_type": "markdown",
   "metadata": {},
   "source": [
    "print(my_first_list[0])   # Python börjar räkna från noll!\n",
    "print(my_first_list[1])\n",
    "print(my_first_list[2])\n",
    "print(my_first_list[3])\n",
    "print(my_first_list[4])\n",
    "print(my_first_list[5])\n",
    "print(my_first_list[6])"
   ]
  },
  {
   "cell_type": "markdown",
   "metadata": {},
   "source": [
    "## For-loopar"
   ]
  },
  {
   "cell_type": "markdown",
   "metadata": {},
   "source": [
    "En for-loop används lämpligast när man vill iterera genom ett bestämt antal objekt"
   ]
  },
  {
   "cell_type": "markdown",
   "metadata": {},
   "source": [
    "Anta att vi vill printa ut värdet på varje element i vår lista, då kan vi göra såhär"
   ]
  },
  {
   "cell_type": "code",
   "execution_count": null,
   "metadata": {},
   "outputs": [],
   "source": [
    "for veckodag in my_first_list:           # python kommer att utföra det indenterade kodblocket för varje veckodag som finns i vår lista\n",
    "                                         # och den gör det i ordningen som de dyker upp i listan \n",
    "\n",
    "    print(f'Variabeln veckodag har nu värdet: {veckodag}') "
   ]
  },
  {
   "cell_type": "markdown",
   "metadata": {},
   "source": [
    "Mer specifikt kommer Python att, för varje loop, assigna variabeln veckodag till det nästa värde i vår lista my_first_list, i \n",
    "den ordningen de existerar"
   ]
  },
  {
   "cell_type": "markdown",
   "metadata": {},
   "source": [
    "**Viktigt** är att det inte spelar någon roll vad variabeln du dynamiskt vill assigna heter. Se nedan"
   ]
  },
  {
   "cell_type": "code",
   "execution_count": null,
   "metadata": {},
   "outputs": [],
   "source": [
    "for asdad in my_first_list:           # python kommer att utföra det indenterade kodblocket för varje veckodag som finns i vår lista\n",
    "                                      # och den gör det i ordningen som de dyker upp i listan \n",
    "\n",
    "    print(f'Variabeln asdad har nu värdet: {asdad}') "
   ]
  },
  {
   "cell_type": "markdown",
   "metadata": {},
   "source": [
    "Som vanligt är det alltså helt upp till dig att sätta logiska namn på variabler, så att det blir tydligt vad vi gör"
   ]
  },
  {
   "cell_type": "markdown",
   "metadata": {},
   "source": [
    "## range()-funktionen"
   ]
  },
  {
   "cell_type": "markdown",
   "metadata": {},
   "source": [
    "Ofta vill vi jobba med alla siffror mellan två tal, och då är range() bra att använda.\n",
    "\n",
    "Anta att vi vill ha alla tal från 0 till 10, då kan vi skriva"
   ]
  },
  {
   "cell_type": "code",
   "execution_count": null,
   "metadata": {},
   "outputs": [],
   "source": [
    "our_numbers = range(0, 10)\n",
    "print(our_numbers)"
   ]
  },
  {
   "cell_type": "markdown",
   "metadata": {},
   "source": [
    "Det där blev vi inte så mycket klokare av, men om vi kombinerar detta med en for-loop får vi följande"
   ]
  },
  {
   "cell_type": "code",
   "execution_count": null,
   "metadata": {},
   "outputs": [],
   "source": [
    "for number in our_numbers:\n",
    "\n",
    "    print(number)"
   ]
  },
  {
   "cell_type": "markdown",
   "metadata": {},
   "source": [
    "Aha! Nu fattade Python, och för varje loop så assignade den variabeln number till siffrorna som range(0, 10) skapade."
   ]
  },
  {
   "cell_type": "markdown",
   "metadata": {},
   "source": [
    "**Viktigt** är att range(start, stop) inte inkluderar stop när den genererar tal. Se ovan när vi körde med for-loopen. \n",
    "Där fick vi bara talen fram till 9, trots att vi skrev range(0, 10). \n",
    "\n",
    "Vill man ha med alla talen mellan start och stop måste man således skriva range(start, stop **+1** )"
   ]
  },
  {
   "cell_type": "code",
   "execution_count": null,
   "metadata": {},
   "outputs": [],
   "source": [
    "our_numbers = range(0, 11)\n",
    "\n",
    "for number in our_numbers:      # for-loopen kommer nu gå igenom alla talen från 0 till 10\n",
    "\n",
    "    print(number)"
   ]
  },
  {
   "cell_type": "markdown",
   "metadata": {},
   "source": [
    "___"
   ]
  },
  {
   "cell_type": "markdown",
   "metadata": {},
   "source": [
    "Vi kan gå vidare och ge range() funktionen ytterligare ett argument, nämligen step\n",
    "\n",
    "$ range(start, stop+1, step) $\n",
    "\n",
    "Ovan syntax kommer producera alla tal mellan start och stop, i steg om step\n",
    "\n",
    "Exempel:\n",
    "\n"
   ]
  },
  {
   "cell_type": "code",
   "execution_count": null,
   "metadata": {},
   "outputs": [],
   "source": [
    "# anta att vi vill printa ut alla jämna tal mellan 0 och 20\n",
    "\n",
    "our_numbers = range(0, 21, 2)            # kommer generera alla tal mellan 0 och 20, i steg om 2 (dvs alla jämna tal)\n",
    "\n",
    "for number in our_numbers:\n",
    "    print(number)"
   ]
  },
  {
   "cell_type": "markdown",
   "metadata": {},
   "source": [
    "___\n",
    "\n",
    "## For-break"
   ]
  },
  {
   "cell_type": "markdown",
   "metadata": {},
   "source": [
    "Precis om att if-elif-else samt while-break är kompanjoner, är for och break också kompanjoner\n",
    "\n",
    "Om Python någon gång under en for-loop stöter på break, så avbryter den och hoppar ur loopen - oavsett om det loopen skulle kunna gå vidare\n",
    "\n",
    "Exempel:"
   ]
  },
  {
   "cell_type": "code",
   "execution_count": null,
   "metadata": {},
   "outputs": [],
   "source": [
    "veckodagar = ['Monday', 'Tuesday', 'Wednesday', 'Thursday', 'Friday','Saturday', 'Sunday']\n",
    "\n",
    "for veckodag in veckodagar:\n",
    "\n",
    "    print(veckodag)\n",
    "\n",
    "    if veckodag == 'Friday':                 # när veckodag antar värdet Friday..\n",
    "        break                                # .. ser Python denna break, och skippar resten av loopen"
   ]
  },
  {
   "cell_type": "markdown",
   "metadata": {},
   "source": [
    "___"
   ]
  },
  {
   "cell_type": "markdown",
   "metadata": {},
   "source": [
    "## Nested for-loops"
   ]
  },
  {
   "cell_type": "markdown",
   "metadata": {},
   "source": [
    "Vi kan givetvis även göra nestade for-loopar"
   ]
  },
  {
   "cell_type": "code",
   "execution_count": null,
   "metadata": {},
   "outputs": [],
   "source": [
    "for x in range(0,3):                     # denna yttre loop utföras en gång för varje x mellan 0 och 2.\n",
    "\n",
    "    print(f'Nu är värdet på x: {x}')\n",
    "\n",
    "    for y in range(5,8):                 # denna innre loop utförs en gång varje y mellan 5 och 7, en komplett loop för varje x värde\n",
    "\n",
    "        print(f'Nu är värdet på y: {y}')   \n",
    "\n",
    "    print()"
   ]
  },
  {
   "cell_type": "markdown",
   "metadata": {},
   "source": [
    "___"
   ]
  },
  {
   "cell_type": "markdown",
   "metadata": {},
   "source": [
    "Ibland vill vi generera randomiserade tal, och då kan vi använda oss av Random paketet"
   ]
  },
  {
   "cell_type": "code",
   "execution_count": null,
   "metadata": {},
   "outputs": [],
   "source": [
    "import random\n",
    "\n",
    "# kasta en tärning \n",
    "\n",
    "dice = random.randint(1,6) # generar ett randomiserat heltal between 1 and 6\n",
    "\n",
    "if dice == 6:\n",
    "    print(f'Grattis, du kastade en {dice}:a!')\n",
    "\n",
    "else:\n",
    "    print(f'Du kastade en {dice}:a, försök igen.')"
   ]
  },
  {
   "cell_type": "markdown",
   "metadata": {},
   "source": []
  }
 ],
 "metadata": {
  "kernelspec": {
   "display_name": "deeplearning",
   "language": "python",
   "name": "python3"
  },
  "language_info": {
   "codemirror_mode": {
    "name": "ipython",
    "version": 3
   },
   "file_extension": ".py",
   "mimetype": "text/x-python",
   "name": "python",
   "nbconvert_exporter": "python",
   "pygments_lexer": "ipython3",
   "version": "3.11.4"
  },
  "orig_nbformat": 4
 },
 "nbformat": 4,
 "nbformat_minor": 2
}
