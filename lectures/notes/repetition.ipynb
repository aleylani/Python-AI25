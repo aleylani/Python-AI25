{
 "cells": [
  {
   "cell_type": "markdown",
   "metadata": {},
   "source": [
    "## Repetition"
   ]
  },
  {
   "cell_type": "markdown",
   "metadata": {},
   "source": [
    "**Dict comprehensions**\n",
    "\n",
    "Precis som för listor kan vi utför comprehensions för att snabbt skapa dictionaries. Skillnaden mot list comprehensions är att för listor behöver man endast ange \n",
    "ett värde (*value*), medan för dictionaries behöver man ange både en nyckel och ett värde (*key-value pair*).\n"
   ]
  },
  {
   "cell_type": "code",
   "execution_count": null,
   "metadata": {},
   "outputs": [],
   "source": [
    "names = ['Johan', 'Sara', 'Kalle', 'Anna']\n",
    "\n",
    "ages = [i+1 for i in range(24, 28)]\n",
    "\n",
    "print(names)\n",
    "print(ages)"
   ]
  },
  {
   "cell_type": "code",
   "execution_count": null,
   "metadata": {},
   "outputs": [],
   "source": [
    "names_and_ages = {name: 25 for name in names}\n",
    "\n",
    "print(names_and_ages)"
   ]
  },
  {
   "cell_type": "code",
   "execution_count": null,
   "metadata": {},
   "outputs": [],
   "source": [
    "names_and_ages = {name: age+5 for name, age in zip(names, ages)}\n",
    "\n",
    "print(names_and_ages)"
   ]
  },
  {
   "cell_type": "code",
   "execution_count": null,
   "metadata": {},
   "outputs": [],
   "source": [
    "names_and_ages = {number : number+2 for number in range(10)}\n",
    "\n",
    "print(names_and_ages)"
   ]
  },
  {
   "cell_type": "code",
   "execution_count": null,
   "metadata": {},
   "outputs": [],
   "source": [
    "names_and_ages[9]"
   ]
  },
  {
   "cell_type": "markdown",
   "metadata": {},
   "source": [
    "Ni vet ju att man kan slica listor - och det går superbra att göra det i samband med ex dict comprehensions också"
   ]
  },
  {
   "cell_type": "code",
   "execution_count": null,
   "metadata": {},
   "outputs": [],
   "source": [
    "print(names)\n",
    "print(ages)\n",
    "\n",
    "print(names[:2])\n",
    "print(ages[:2])"
   ]
  },
  {
   "cell_type": "code",
   "execution_count": null,
   "metadata": {},
   "outputs": [],
   "source": [
    "names_and_ages = {name: age+5 for name, age in zip(names[:2], ages[:2])}\n",
    "\n",
    "print(names_and_ages)"
   ]
  },
  {
   "cell_type": "markdown",
   "metadata": {},
   "source": [
    "JSON (JavaScript Object Notation) är en **mycket** populär metod att lagra data på."
   ]
  },
  {
   "cell_type": "markdown",
   "metadata": {},
   "source": [
    "https://www.w3schools.com/js/js_json_datatypes.asp"
   ]
  },
  {
   "cell_type": "markdown",
   "metadata": {},
   "source": [
    "JSON är inte programspecifict, utan endast en en standard för att lagra data. Detta innebär att det är enkelt att läsa in data i JSON-format i olika programmeringsspråk. Detta är ett stort fördel, eftersom det gör det enkelt att byta programmeringsspråk utan att behöva ändra i datan."
   ]
  },
  {
   "cell_type": "markdown",
   "metadata": {},
   "source": [
    "I Python motsvarar JSON <--> Dictionaries!"
   ]
  },
  {
   "cell_type": "markdown",
   "metadata": {},
   "source": [
    "_____"
   ]
  },
  {
   "cell_type": "markdown",
   "metadata": {},
   "source": [
    "**Nestade list comprehensioner**"
   ]
  },
  {
   "cell_type": "code",
   "execution_count": null,
   "metadata": {},
   "outputs": [],
   "source": [
    "[letter for letter in 'ALI']"
   ]
  },
  {
   "cell_type": "code",
   "execution_count": null,
   "metadata": {},
   "outputs": [],
   "source": [
    "['***' for letter in 'ALI']"
   ]
  },
  {
   "cell_type": "code",
   "execution_count": null,
   "metadata": {},
   "outputs": [],
   "source": [
    "[ [] for letter in 'ALI']"
   ]
  },
  {
   "cell_type": "code",
   "execution_count": null,
   "metadata": {},
   "outputs": [],
   "source": [
    "[number for number in '123']"
   ]
  },
  {
   "cell_type": "code",
   "execution_count": null,
   "metadata": {},
   "outputs": [],
   "source": [
    "[ [number for number in '123'] for letter in 'ALI']"
   ]
  },
  {
   "cell_type": "code",
   "execution_count": null,
   "metadata": {},
   "outputs": [],
   "source": [
    "[ [f'{letter}{number}' for number in '123'] for letter in 'ALI']"
   ]
  },
  {
   "cell_type": "markdown",
   "metadata": {},
   "source": [
    "____"
   ]
  },
  {
   "cell_type": "markdown",
   "metadata": {},
   "source": [
    "**Try, Except** och **Raise**"
   ]
  },
  {
   "cell_type": "markdown",
   "metadata": {},
   "source": [
    "Try och Except är två satser man använder när man misstänker att något kan gå fel, och att man samtidigt vill ge Python en \"väg ut\" ut och undvika att krasha."
   ]
  },
  {
   "cell_type": "markdown",
   "metadata": {},
   "source": [
    "Exempel på kod som kan krasha:"
   ]
  },
  {
   "cell_type": "code",
   "execution_count": null,
   "metadata": {},
   "outputs": [],
   "source": [
    "age = int(input('Hur gammal är du? Svara i heltal.'))"
   ]
  },
  {
   "cell_type": "code",
   "execution_count": null,
   "metadata": {},
   "outputs": [],
   "source": [
    "try:\n",
    "\n",
    "    age = int(input('Hur gammal är du? Svara i heltal.'))\n",
    "    print('age')\n",
    "\n",
    "except Exception as e:\n",
    "\n",
    "    print('Invalid input')\n",
    "    print(e)"
   ]
  },
  {
   "cell_type": "markdown",
   "metadata": {},
   "source": [
    "**Raise** använder vi när vi själva vill krasha koden!"
   ]
  },
  {
   "cell_type": "code",
   "execution_count": null,
   "metadata": {},
   "outputs": [],
   "source": [
    "name = ['Ali']\n",
    "\n",
    "if not isinstance(name, str):\n",
    "    raise TypeError('Name must be a string!')\n"
   ]
  },
  {
   "cell_type": "markdown",
   "metadata": {},
   "source": [
    "Fult exempel på kombinerad Try, Except, Raise\n",
    "\n",
    "Usecase: forever loop och fråga användaren efter sin ålder"
   ]
  },
  {
   "cell_type": "code",
   "execution_count": null,
   "metadata": {},
   "outputs": [],
   "source": [
    "while True:\n",
    "\n",
    "    try:\n",
    "\n",
    "        age = int(input('Hur gammal är du? Svara i heltal.'))\n",
    "        break                 # breaker ur loopen när användaren angett korrekt datatyp för ålder\n",
    "\n",
    "    except Exception as e:\n",
    "\n",
    "        print('Invalid input.')\n",
    "        print(e)\n",
    "\n",
    "\n",
    "print(f'Congrats, your age is {age}')"
   ]
  },
  {
   "cell_type": "code",
   "execution_count": 2,
   "metadata": {},
   "outputs": [
    {
     "name": "stdout",
     "output_type": "stream",
     "text": [
      "Invalid input.\n",
      "Du är inte över 1000 år gammal...\n",
      "Du är 10 år gammal.\n"
     ]
    }
   ],
   "source": [
    "while True:\n",
    "\n",
    "    try:\n",
    "\n",
    "        age = input('Hur gammal är du? Svara i heltal.')                # observera att input nu alltid är sträng, omvandlas ej till int\n",
    "\n",
    "        if len(age) >= 4:                                               # villkoret evalueras till True om användaren angett en ålder med 4 eller fler siffror\n",
    "            raise ValueError('Du är inte över 1000 år gammal...')\n",
    "\n",
    "        break\n",
    "\n",
    "    except Exception as e:\n",
    "\n",
    "        print('Invalid input.')\n",
    "        print(e)\n",
    "\n",
    "print(f'Du är {age} år gammal.')"
   ]
  },
  {
   "cell_type": "markdown",
   "metadata": {},
   "source": [
    "Det finns ENORMT många inbyggde raise errors i Python - ni har stått på väldigt många sådana, kanske utan att ha tänkt på det."
   ]
  },
  {
   "cell_type": "markdown",
   "metadata": {},
   "source": [
    "*Exempel*"
   ]
  },
  {
   "cell_type": "code",
   "execution_count": 3,
   "metadata": {},
   "outputs": [],
   "source": [
    "my_list = [1,2,3]"
   ]
  },
  {
   "cell_type": "code",
   "execution_count": 4,
   "metadata": {},
   "outputs": [
    {
     "ename": "IndexError",
     "evalue": "list index out of range",
     "output_type": "error",
     "traceback": [
      "\u001b[1;31m---------------------------------------------------------------------------\u001b[0m",
      "\u001b[1;31mIndexError\u001b[0m                                Traceback (most recent call last)",
      "Cell \u001b[1;32mIn[4], line 1\u001b[0m\n\u001b[1;32m----> 1\u001b[0m my_list[\u001b[38;5;241m10\u001b[39m]\n",
      "\u001b[1;31mIndexError\u001b[0m: list index out of range"
     ]
    }
   ],
   "source": [
    "my_list[10]"
   ]
  },
  {
   "cell_type": "code",
   "execution_count": null,
   "metadata": {},
   "outputs": [],
   "source": []
  }
 ],
 "metadata": {
  "kernelspec": {
   "display_name": "introduktion",
   "language": "python",
   "name": "python3"
  },
  "language_info": {
   "codemirror_mode": {
    "name": "ipython",
    "version": 3
   },
   "file_extension": ".py",
   "mimetype": "text/x-python",
   "name": "python",
   "nbconvert_exporter": "python",
   "pygments_lexer": "ipython3",
   "version": "3.12.4"
  }
 },
 "nbformat": 4,
 "nbformat_minor": 2
}
