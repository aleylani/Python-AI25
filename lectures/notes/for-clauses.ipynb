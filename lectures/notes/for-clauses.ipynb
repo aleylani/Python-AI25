{
 "cells": [
  {
   "cell_type": "markdown",
   "id": "5dd48e56",
   "metadata": {},
   "source": [
    "**Iterabler**"
   ]
  },
  {
   "cell_type": "code",
   "execution_count": null,
   "id": "de0141ca",
   "metadata": {},
   "outputs": [],
   "source": [
    "namn = 'Ali Leylani'\n",
    "\n",
    "print(namn)\n",
    "print(type(namn))"
   ]
  },
  {
   "cell_type": "code",
   "execution_count": null,
   "id": "339baa37",
   "metadata": {},
   "outputs": [],
   "source": [
    "# bland annat stränger är något som kallas för iterabler\n",
    "# iterabler har egenskapen av att det går att iterera genom varje element i den\n",
    "# i fallet för strängar så kan vi iterera genom varje bokstav i hela strängen\n",
    "\n",
    "print(namn)\n",
    "print(namn[0])            # Viktigt! I Python börjar man räkna from 0, inte 1\n",
    "print(namn[1])\n",
    "print(namn[2])\n",
    "print(namn[3])\n",
    "print(namn[4])\n",
    "print(namn[5])\n",
    "print(namn[6])\n",
    "print(namn[7])\n",
    "print(namn[8])\n",
    "print(namn[9])\n",
    "print(namn[10])\n"
   ]
  },
  {
   "cell_type": "markdown",
   "id": "1e0ad395",
   "metadata": {},
   "source": [
    "Vad händer om man skriver ett index som är utanför strängens längd?\n",
    "\n",
    "Jo, ett IndexError som indikerar att det indexet inte existerar."
   ]
  },
  {
   "cell_type": "code",
   "execution_count": null,
   "id": "865bcc14",
   "metadata": {},
   "outputs": [],
   "source": [
    "print(namn[11])"
   ]
  },
  {
   "cell_type": "markdown",
   "id": "0022e363",
   "metadata": {},
   "source": [
    "Det går mycket bra att även använda negativa index. Python kommer då att ge dig karaktärer räknat *baklänges* istället!"
   ]
  },
  {
   "cell_type": "code",
   "execution_count": null,
   "id": "bd1ca845",
   "metadata": {},
   "outputs": [],
   "source": [
    "print(namn[0])\n",
    "print(namn[-1])\n",
    "print(namn[-2])"
   ]
  },
  {
   "cell_type": "markdown",
   "id": "7be762bf",
   "metadata": {},
   "source": [
    "**len()-funktionen**\n",
    "\n",
    "Denna ger oss längden/antalet av något. I strängfallet kommer den ge oss antaleet karaktärer i strängen."
   ]
  },
  {
   "cell_type": "code",
   "execution_count": null,
   "id": "a113f5d0",
   "metadata": {},
   "outputs": [],
   "source": [
    "name = \"John Doe\"\n",
    "\n",
    "print(len(name))"
   ]
  },
  {
   "cell_type": "code",
   "execution_count": null,
   "id": "73ca5d6b",
   "metadata": {},
   "outputs": [],
   "source": [
    "name = 'Sara Eriksson'\n",
    "\n",
    "i = 0\n",
    "\n",
    "while i < len(name):\n",
    "\n",
    "    print(name[i], end='')    # ni kan kontrollera avslutet av er print med hjälp av end-argumentet\n",
    "    i+=1"
   ]
  },
  {
   "cell_type": "markdown",
   "id": "80613ff6",
   "metadata": {},
   "source": [
    "___"
   ]
  },
  {
   "cell_type": "markdown",
   "id": "e35402df",
   "metadata": {},
   "source": [
    "## Listor\n",
    "\n",
    "En lista är ett objekt som kan innehålla andra objekt, till exempel strängar. Vi kommer prata mer om listor nästa lektion."
   ]
  },
  {
   "cell_type": "code",
   "execution_count": null,
   "id": "f4b1c2f2",
   "metadata": {},
   "outputs": [],
   "source": [
    "# Här skapar vi en lista med några i lärarteamet:\n",
    "\n",
    "lärarlista = ['Ali', 'Angelika', 'Hampus']\n",
    "\n",
    "print(lärarlista)\n",
    "print(type(lärarlista))"
   ]
  },
  {
   "cell_type": "markdown",
   "id": "f8415d24",
   "metadata": {},
   "source": [
    "Även listor är iterabler, det går alltså mycket bra att iterera över de - precis som för strängar."
   ]
  },
  {
   "cell_type": "code",
   "execution_count": null,
   "id": "a0b0bf50",
   "metadata": {},
   "outputs": [],
   "source": [
    "print(lärarlista[0])\n",
    "print(lärarlista[-1])"
   ]
  },
  {
   "cell_type": "code",
   "execution_count": null,
   "id": "af608b4d",
   "metadata": {},
   "outputs": [],
   "source": [
    "print('Viktigt med detaljer...')\n",
    "print('Låt oss kontrollera typer nedan')\n",
    "\n",
    "print(f'lärarlista: {type(lärarlista)}')\n",
    "print(f'lärarlista[0]: {type(lärarlista[0])}')"
   ]
  },
  {
   "cell_type": "markdown",
   "id": "2a8fda4d",
   "metadata": {},
   "source": [
    "Vi kan också dubbelindexera"
   ]
  },
  {
   "cell_type": "code",
   "execution_count": null,
   "id": "02b056b5",
   "metadata": {},
   "outputs": [],
   "source": [
    "print(lärarlista[1])     # detta kommer att ge oss det första elementet i vår lista\n",
    "print(lärarlista[1][0])\n",
    "print(lärarlista[1][1])\n",
    "print(lärarlista[1][2])"
   ]
  },
  {
   "cell_type": "markdown",
   "id": "0beb0a76",
   "metadata": {},
   "source": [
    "## For-loopar"
   ]
  },
  {
   "cell_type": "markdown",
   "id": "d9ae162f",
   "metadata": {},
   "source": [
    "En For-loop är också en typ av loop, likt while, men är mer lämplig i vissa fall när man vill iterera genom ett bestämt antal objekt.\n",
    "\n",
    "Anta att vi vill printa ut varje element i en lista."
   ]
  },
  {
   "cell_type": "code",
   "execution_count": null,
   "id": "09a6b5a2",
   "metadata": {},
   "outputs": [],
   "source": [
    "veckodagar = ['Måndag', 'Tisdag', 'Onsdag', 'Tordag', 'Fredag', 'Lördag', 'Söndag']\n",
    "\n",
    "print(veckodagar)\n",
    "print(len(veckodagar))  "
   ]
  },
  {
   "cell_type": "code",
   "execution_count": null,
   "id": "61c35885",
   "metadata": {},
   "outputs": [],
   "source": [
    "for dag in veckodagar:\n",
    "\n",
    "    print(dag)"
   ]
  },
  {
   "cell_type": "code",
   "execution_count": null,
   "id": "3d5826e5",
   "metadata": {},
   "outputs": [],
   "source": [
    "print(dag)"
   ]
  },
  {
   "cell_type": "code",
   "execution_count": null,
   "id": "e49d1fd3",
   "metadata": {},
   "outputs": [],
   "source": [
    "for a in veckodagar:    # obs, mycket dåligt val av variabelnamn\n",
    "    \n",
    "    print(a)"
   ]
  },
  {
   "cell_type": "markdown",
   "id": "e7a36d9b",
   "metadata": {},
   "source": [
    "Det går jättebra att for-loopa även över strängar"
   ]
  },
  {
   "cell_type": "code",
   "execution_count": null,
   "id": "7d811ab2",
   "metadata": {},
   "outputs": [],
   "source": [
    "for bokstav in 'Python':\n",
    "\n",
    "    print(bokstav)"
   ]
  },
  {
   "cell_type": "markdown",
   "id": "48bc9ff7",
   "metadata": {},
   "source": [
    "Vi kan dock **INTE** loopa över tal på samma sätt"
   ]
  },
  {
   "cell_type": "code",
   "execution_count": null,
   "id": "16531b4a",
   "metadata": {},
   "outputs": [],
   "source": [
    "number = 110\n",
    "\n",
    "for digit in number:\n",
    "\n",
    "    print(digit)"
   ]
  },
  {
   "cell_type": "code",
   "execution_count": null,
   "id": "94abf24b",
   "metadata": {},
   "outputs": [],
   "source": [
    "number[0]          # siffror/tal är INTE iterabler"
   ]
  },
  {
   "cell_type": "code",
   "execution_count": null,
   "id": "e2e4b23a",
   "metadata": {},
   "outputs": [],
   "source": [
    "kombinerad = 'december1989'\n",
    "\n",
    "for i in kombinerad:\n",
    "\n",
    "    print(i)"
   ]
  },
  {
   "cell_type": "code",
   "execution_count": null,
   "id": "7c96dba3",
   "metadata": {},
   "outputs": [],
   "source": [
    "kombinerad_lista = ['december', 1989]\n",
    "\n",
    "for i in kombinerad_lista:\n",
    "    \n",
    "    print(i)\n"
   ]
  },
  {
   "cell_type": "markdown",
   "id": "9280937e",
   "metadata": {},
   "source": [
    "**range()-funktionen**\n",
    "\n",
    "Ofta vill vi jobba med alla siffror mellan två tal, och då är range() mycket bra att använda.\n",
    "\n",
    "Anta att vi vill printa ut alla tal från 0 till 10"
   ]
  },
  {
   "cell_type": "code",
   "execution_count": null,
   "id": "465b57d1",
   "metadata": {},
   "outputs": [],
   "source": [
    "our_numbers = range(0, 10)\n",
    "\n",
    "print(our_numbers)"
   ]
  },
  {
   "cell_type": "markdown",
   "id": "f9e09be3",
   "metadata": {},
   "source": [
    "Det där blev vi inte så mycket klokare av, men om vi kombinerar range med en for-loop..."
   ]
  },
  {
   "cell_type": "code",
   "execution_count": null,
   "id": "85bd49c6",
   "metadata": {},
   "outputs": [],
   "source": [
    "for number in our_numbers:\n",
    "\n",
    "    print(number)"
   ]
  },
  {
   "cell_type": "markdown",
   "id": "31c473d1",
   "metadata": {},
   "source": [
    "Aha! Nu fattade Python, och för varje loop så assignade den variabeln number till siffrorna som range(0,10) skapade.\n",
    "\n",
    "**Viktigt** är att range(start, stop) inte inkluderar stop, utan stannar vid stop-1. Se loopen ovan.\n",
    "\n",
    "Vill man även inkludera stop måste man således skriva range(start, stop+1)."
   ]
  },
  {
   "cell_type": "code",
   "execution_count": null,
   "id": "680f3816",
   "metadata": {},
   "outputs": [],
   "source": [
    "start = 0\n",
    "stop = 10\n",
    "\n",
    "for number in range(start, stop+1):\n",
    "    print(number, end=' ')"
   ]
  },
  {
   "cell_type": "markdown",
   "id": "cb71ab9e",
   "metadata": {},
   "source": [
    "Vi kan lägga till ytterligare ett argument till range, som bestämmer 'i steg om' mellan varje tal.\n",
    "\n",
    "Syntaxen är range(start, stop, step)"
   ]
  },
  {
   "cell_type": "code",
   "execution_count": null,
   "id": "1fd79053",
   "metadata": {},
   "outputs": [],
   "source": [
    "numbers = range(0, 100, 5)\n",
    "\n",
    "for number in numbers:\n",
    "    print(number)"
   ]
  },
  {
   "cell_type": "code",
   "execution_count": null,
   "id": "f6eabd49",
   "metadata": {},
   "outputs": [],
   "source": [
    "# det går bra att även gå baklänges\n",
    "\n",
    "numbers = range(100, 0, -10)\n",
    "\n",
    "for number in numbers:\n",
    "    print(number)"
   ]
  },
  {
   "cell_type": "markdown",
   "id": "68b43d2b",
   "metadata": {},
   "source": [
    "---"
   ]
  },
  {
   "cell_type": "markdown",
   "id": "18bc5516",
   "metadata": {},
   "source": [
    "**For-break**"
   ]
  },
  {
   "cell_type": "code",
   "execution_count": null,
   "id": "38059b4c",
   "metadata": {},
   "outputs": [],
   "source": [
    "print(veckodagar)"
   ]
  },
  {
   "cell_type": "code",
   "execution_count": null,
   "id": "90f49e03",
   "metadata": {},
   "outputs": [],
   "source": [
    "for veckodag in veckodagar:\n",
    "\n",
    "    print(veckodag)\n",
    "\n",
    "    if veckodag == 'Fredag':\n",
    "        break"
   ]
  },
  {
   "cell_type": "markdown",
   "id": "13481003",
   "metadata": {},
   "source": [
    "---"
   ]
  },
  {
   "cell_type": "markdown",
   "id": "095aa1e3",
   "metadata": {},
   "source": [
    "**Nested for-loops**"
   ]
  },
  {
   "cell_type": "markdown",
   "id": "12802035",
   "metadata": {},
   "source": [
    "Vi kan givetvis även göra nestade for-loopar, dvs flor-loopar i for-loopar"
   ]
  },
  {
   "cell_type": "code",
   "execution_count": null,
   "id": "5600daf0",
   "metadata": {},
   "outputs": [],
   "source": [
    "# Btw, ibland vill man bara print en tom rad och då kan vi skriva print() - kan vara nice ibland\n",
    "\n",
    "print('Viking')\n",
    "print()\n",
    "print('Line') "
   ]
  },
  {
   "cell_type": "code",
   "execution_count": null,
   "id": "c11439d9",
   "metadata": {},
   "outputs": [],
   "source": [
    "for i in range(0, 3):\n",
    "\n",
    "    print(f'i: {i}')\n",
    "\n",
    "    for j in range(4, 7):\n",
    "\n",
    "        print(f'j: {j}')\n",
    "    \n",
    "    print()"
   ]
  },
  {
   "cell_type": "code",
   "execution_count": null,
   "id": "3143afcb",
   "metadata": {},
   "outputs": [],
   "source": [
    "for i in range(0, 3):\n",
    "\n",
    "    for j in range(4, 7):\n",
    "\n",
    "        print(f'ij: {i}{j}')\n",
    "\n",
    "    print()"
   ]
  }
 ],
 "metadata": {
  "kernelspec": {
   "display_name": "programmering",
   "language": "python",
   "name": "python3"
  },
  "language_info": {
   "codemirror_mode": {
    "name": "ipython",
    "version": 3
   },
   "file_extension": ".py",
   "mimetype": "text/x-python",
   "name": "python",
   "nbconvert_exporter": "python",
   "pygments_lexer": "ipython3",
   "version": "3.13.5"
  }
 },
 "nbformat": 4,
 "nbformat_minor": 5
}
