{
 "cells": [
  {
   "cell_type": "markdown",
   "id": "5dd48e56",
   "metadata": {},
   "source": [
    "**Iterabler**"
   ]
  },
  {
   "cell_type": "code",
   "execution_count": 1,
   "id": "de0141ca",
   "metadata": {},
   "outputs": [
    {
     "name": "stdout",
     "output_type": "stream",
     "text": [
      "Ali Leylani\n",
      "<class 'str'>\n"
     ]
    }
   ],
   "source": [
    "namn = 'Ali Leylani'\n",
    "\n",
    "print(namn)\n",
    "print(type(namn))"
   ]
  },
  {
   "cell_type": "code",
   "execution_count": 12,
   "id": "339baa37",
   "metadata": {},
   "outputs": [
    {
     "name": "stdout",
     "output_type": "stream",
     "text": [
      "Ali Leylani\n",
      "A\n",
      "l\n",
      "i\n",
      " \n",
      "L\n",
      "e\n",
      "y\n",
      "l\n",
      "a\n",
      "n\n",
      "i\n"
     ]
    }
   ],
   "source": [
    "# bland annat stränger är något som kallas för iterabler\n",
    "# iterabler har egenskapen av att det går att iterera genom varje element i den\n",
    "# i fallet för strängar så kan vi iterera genom varje bokstav i hela strängen\n",
    "\n",
    "print(namn)\n",
    "print(namn[0])            # Viktigt! I Python börjar man räkna from 0, inte 1\n",
    "print(namn[1])\n",
    "print(namn[2])\n",
    "print(namn[3])\n",
    "print(namn[4])\n",
    "print(namn[5])\n",
    "print(namn[6])\n",
    "print(namn[7])\n",
    "print(namn[8])\n",
    "print(namn[9])\n",
    "print(namn[10])\n"
   ]
  },
  {
   "cell_type": "markdown",
   "id": "1e0ad395",
   "metadata": {},
   "source": [
    "Vad händer om man skriver ett index som är utanför strängens längd?\n",
    "\n",
    "Jo, ett IndexError som indikerar att det indexet inte existerar."
   ]
  },
  {
   "cell_type": "code",
   "execution_count": 13,
   "id": "865bcc14",
   "metadata": {},
   "outputs": [
    {
     "ename": "IndexError",
     "evalue": "string index out of range",
     "output_type": "error",
     "traceback": [
      "\u001b[31m---------------------------------------------------------------------------\u001b[39m",
      "\u001b[31mIndexError\u001b[39m                                Traceback (most recent call last)",
      "\u001b[36mCell\u001b[39m\u001b[36m \u001b[39m\u001b[32mIn[13]\u001b[39m\u001b[32m, line 1\u001b[39m\n\u001b[32m----> \u001b[39m\u001b[32m1\u001b[39m \u001b[38;5;28mprint\u001b[39m(namn[\u001b[32m11\u001b[39m])\n",
      "\u001b[31mIndexError\u001b[39m: string index out of range"
     ]
    }
   ],
   "source": [
    "print(namn[11])"
   ]
  },
  {
   "cell_type": "markdown",
   "id": "0022e363",
   "metadata": {},
   "source": [
    "Det går mycket bra att även använda negativa index. Python kommer då att ge dig karaktärer räknat *baklänges* istället!"
   ]
  },
  {
   "cell_type": "code",
   "execution_count": 17,
   "id": "bd1ca845",
   "metadata": {},
   "outputs": [
    {
     "name": "stdout",
     "output_type": "stream",
     "text": [
      "A\n",
      "i\n",
      "n\n"
     ]
    }
   ],
   "source": [
    "print(namn[0])\n",
    "print(namn[-1])\n",
    "print(namn[-2])"
   ]
  },
  {
   "cell_type": "markdown",
   "id": "7be762bf",
   "metadata": {},
   "source": [
    "**len()-funktionen**\n",
    "\n",
    "Denna ger oss längden/antalet av något. I strängfallet kommer den ge oss antaleet karaktärer i strängen."
   ]
  },
  {
   "cell_type": "code",
   "execution_count": 18,
   "id": "a113f5d0",
   "metadata": {},
   "outputs": [
    {
     "name": "stdout",
     "output_type": "stream",
     "text": [
      "8\n"
     ]
    }
   ],
   "source": [
    "name = \"John Doe\"\n",
    "\n",
    "print(len(name))"
   ]
  },
  {
   "cell_type": "code",
   "execution_count": null,
   "id": "73ca5d6b",
   "metadata": {},
   "outputs": [
    {
     "name": "stdout",
     "output_type": "stream",
     "text": [
      "Sara Eriksson"
     ]
    }
   ],
   "source": [
    "name = 'Sara Eriksson'\n",
    "\n",
    "i = 0\n",
    "\n",
    "while i < len(name):\n",
    "\n",
    "    print(name[i], end='')    # ni kan kontrollera avslutet av er print med hjälp av end-argumentet\n",
    "    i+=1"
   ]
  },
  {
   "cell_type": "markdown",
   "id": "80613ff6",
   "metadata": {},
   "source": [
    "___"
   ]
  },
  {
   "cell_type": "markdown",
   "id": "e35402df",
   "metadata": {},
   "source": [
    "## Listor\n",
    "\n",
    "En lista är ett objekt som kan innehålla andra objekt, till exempel strängar. Vi kommer prata mer om listor nästa lektion."
   ]
  },
  {
   "cell_type": "code",
   "execution_count": 33,
   "id": "f4b1c2f2",
   "metadata": {},
   "outputs": [
    {
     "name": "stdout",
     "output_type": "stream",
     "text": [
      "['Ali', 'Angelika', 'Hampus']\n",
      "<class 'list'>\n"
     ]
    }
   ],
   "source": [
    "# Här skapar vi en lista med några i lärarteamet:\n",
    "\n",
    "lärarlista = ['Ali', 'Angelika', 'Hampus']\n",
    "\n",
    "print(lärarlista)\n",
    "print(type(lärarlista))"
   ]
  },
  {
   "cell_type": "markdown",
   "id": "f8415d24",
   "metadata": {},
   "source": [
    "Även listor är iterabler, det går alltså mycket bra att iterera över de - precis som för strängar."
   ]
  },
  {
   "cell_type": "code",
   "execution_count": 35,
   "id": "a0b0bf50",
   "metadata": {},
   "outputs": [
    {
     "name": "stdout",
     "output_type": "stream",
     "text": [
      "Ali\n",
      "Hampus\n"
     ]
    }
   ],
   "source": [
    "print(lärarlista[0])\n",
    "print(lärarlista[-1])"
   ]
  },
  {
   "cell_type": "code",
   "execution_count": 37,
   "id": "af608b4d",
   "metadata": {},
   "outputs": [
    {
     "name": "stdout",
     "output_type": "stream",
     "text": [
      "Viktigt med detaljer...\n",
      "Låt oss kontrollera typer nedan\n",
      "lärarlista: <class 'list'>\n",
      "lärarlista[0]: <class 'str'>\n"
     ]
    }
   ],
   "source": [
    "print('Viktigt med detaljer...')\n",
    "print('Låt oss kontrollera typer nedan')\n",
    "\n",
    "print(f'lärarlista: {type(lärarlista)}')\n",
    "print(f'lärarlista[0]: {type(lärarlista[0])}')"
   ]
  },
  {
   "cell_type": "markdown",
   "id": "2a8fda4d",
   "metadata": {},
   "source": [
    "Vi kan också dubbelindexera"
   ]
  },
  {
   "cell_type": "code",
   "execution_count": null,
   "id": "02b056b5",
   "metadata": {},
   "outputs": [
    {
     "name": "stdout",
     "output_type": "stream",
     "text": [
      "Angelika\n",
      "A\n",
      "n\n",
      "g\n"
     ]
    }
   ],
   "source": [
    "print(lärarlista[1])     # detta kommer att ge oss det första elementet i vår lista\n",
    "print(lärarlista[1][0])\n",
    "print(lärarlista[1][1])\n",
    "print(lärarlista[1][2])"
   ]
  },
  {
   "cell_type": "markdown",
   "id": "0beb0a76",
   "metadata": {},
   "source": [
    "## For-loopar"
   ]
  },
  {
   "cell_type": "markdown",
   "id": "d9ae162f",
   "metadata": {},
   "source": [
    "En For-loop är också en typ av loop, likt while, men är mer lämplig i vissa fall när man vill iterera genom ett bestämt antal objekt.\n",
    "\n",
    "Anta att vi vill printa ut varje element i en lista."
   ]
  },
  {
   "cell_type": "code",
   "execution_count": 45,
   "id": "09a6b5a2",
   "metadata": {},
   "outputs": [
    {
     "name": "stdout",
     "output_type": "stream",
     "text": [
      "['Måndag', 'Tisdag', 'Onsdag', 'Tordag', 'Fredag', 'Lördag', 'Söndag']\n",
      "7\n"
     ]
    }
   ],
   "source": [
    "veckodagar = ['Måndag', 'Tisdag', 'Onsdag', 'Tordag', 'Fredag', 'Lördag', 'Söndag']\n",
    "\n",
    "print(veckodagar)\n",
    "print(len(veckodagar))  "
   ]
  },
  {
   "cell_type": "code",
   "execution_count": 64,
   "id": "61c35885",
   "metadata": {},
   "outputs": [
    {
     "name": "stdout",
     "output_type": "stream",
     "text": [
      "Måndag\n",
      "Tisdag\n",
      "Onsdag\n",
      "Tordag\n",
      "Fredag\n",
      "Lördag\n",
      "Söndag\n"
     ]
    }
   ],
   "source": [
    "for dag in veckodagar:\n",
    "\n",
    "    print(dag)"
   ]
  },
  {
   "cell_type": "code",
   "execution_count": 67,
   "id": "3d5826e5",
   "metadata": {},
   "outputs": [
    {
     "name": "stdout",
     "output_type": "stream",
     "text": [
      "Söndag\n"
     ]
    }
   ],
   "source": [
    "print(dag)"
   ]
  },
  {
   "cell_type": "code",
   "execution_count": 61,
   "id": "e49d1fd3",
   "metadata": {},
   "outputs": [
    {
     "name": "stdout",
     "output_type": "stream",
     "text": [
      "Måndag\n",
      "Tisdag\n",
      "Onsdag\n",
      "Tordag\n",
      "Fredag\n",
      "Lördag\n",
      "Söndag\n"
     ]
    }
   ],
   "source": [
    "for a in veckodagar:    # obs, mycket dåligt val av variabelnamn\n",
    "    \n",
    "    print(a)"
   ]
  },
  {
   "cell_type": "markdown",
   "id": "e7a36d9b",
   "metadata": {},
   "source": [
    "Det går jättebra att for-loopa även över strängar"
   ]
  },
  {
   "cell_type": "code",
   "execution_count": 70,
   "id": "7d811ab2",
   "metadata": {},
   "outputs": [
    {
     "name": "stdout",
     "output_type": "stream",
     "text": [
      "P\n",
      "y\n",
      "t\n",
      "h\n",
      "o\n",
      "n\n"
     ]
    }
   ],
   "source": [
    "for bokstav in 'Python':\n",
    "\n",
    "    print(bokstav)"
   ]
  },
  {
   "cell_type": "markdown",
   "id": "48bc9ff7",
   "metadata": {},
   "source": [
    "Vi kan dock **INTE** loopa över tal på samma sätt"
   ]
  },
  {
   "cell_type": "code",
   "execution_count": 71,
   "id": "16531b4a",
   "metadata": {},
   "outputs": [
    {
     "ename": "TypeError",
     "evalue": "'int' object is not iterable",
     "output_type": "error",
     "traceback": [
      "\u001b[31m---------------------------------------------------------------------------\u001b[39m",
      "\u001b[31mTypeError\u001b[39m                                 Traceback (most recent call last)",
      "\u001b[36mCell\u001b[39m\u001b[36m \u001b[39m\u001b[32mIn[71]\u001b[39m\u001b[32m, line 3\u001b[39m\n\u001b[32m      1\u001b[39m number = \u001b[32m110\u001b[39m\n\u001b[32m----> \u001b[39m\u001b[32m3\u001b[39m \u001b[38;5;28;01mfor\u001b[39;00m digit \u001b[38;5;129;01min\u001b[39;00m number:\n\u001b[32m      5\u001b[39m     \u001b[38;5;28mprint\u001b[39m(digit)\n",
      "\u001b[31mTypeError\u001b[39m: 'int' object is not iterable"
     ]
    }
   ],
   "source": [
    "number = 110\n",
    "\n",
    "for digit in number:\n",
    "\n",
    "    print(digit)"
   ]
  },
  {
   "cell_type": "code",
   "execution_count": 73,
   "id": "94abf24b",
   "metadata": {},
   "outputs": [
    {
     "ename": "TypeError",
     "evalue": "'int' object is not subscriptable",
     "output_type": "error",
     "traceback": [
      "\u001b[31m---------------------------------------------------------------------------\u001b[39m",
      "\u001b[31mTypeError\u001b[39m                                 Traceback (most recent call last)",
      "\u001b[36mCell\u001b[39m\u001b[36m \u001b[39m\u001b[32mIn[73]\u001b[39m\u001b[32m, line 1\u001b[39m\n\u001b[32m----> \u001b[39m\u001b[32m1\u001b[39m number[\u001b[32m0\u001b[39m]\n",
      "\u001b[31mTypeError\u001b[39m: 'int' object is not subscriptable"
     ]
    }
   ],
   "source": [
    "number[0]          # siffror/tal är INTE iterabler"
   ]
  },
  {
   "cell_type": "code",
   "execution_count": 74,
   "id": "e2e4b23a",
   "metadata": {},
   "outputs": [
    {
     "name": "stdout",
     "output_type": "stream",
     "text": [
      "d\n",
      "e\n",
      "c\n",
      "e\n",
      "m\n",
      "b\n",
      "e\n",
      "r\n",
      "1\n",
      "9\n",
      "8\n",
      "9\n"
     ]
    }
   ],
   "source": [
    "kombinerad = 'december1989'\n",
    "\n",
    "for i in kombinerad:\n",
    "\n",
    "    print(i)"
   ]
  },
  {
   "cell_type": "code",
   "execution_count": 78,
   "id": "7c96dba3",
   "metadata": {},
   "outputs": [
    {
     "name": "stdout",
     "output_type": "stream",
     "text": [
      "december\n",
      "1989\n"
     ]
    }
   ],
   "source": [
    "kombinerad_lista = ['december', 1989]\n",
    "\n",
    "for i in kombinerad_lista:\n",
    "    \n",
    "    print(i)\n"
   ]
  },
  {
   "cell_type": "markdown",
   "id": "9280937e",
   "metadata": {},
   "source": [
    "**range()-funktionen**\n",
    "\n",
    "Ofta vill vi jobba med alla siffror mellan två tal, och då är range() mycket bra att använda.\n",
    "\n",
    "Anta att vi vill printa ut alla tal från 0 till 10"
   ]
  },
  {
   "cell_type": "code",
   "execution_count": 85,
   "id": "465b57d1",
   "metadata": {},
   "outputs": [
    {
     "name": "stdout",
     "output_type": "stream",
     "text": [
      "range(0, 10)\n"
     ]
    }
   ],
   "source": [
    "our_numbers = range(0, 10)\n",
    "\n",
    "print(our_numbers)"
   ]
  },
  {
   "cell_type": "markdown",
   "id": "f9e09be3",
   "metadata": {},
   "source": [
    "Det där blev vi inte så mycket klokare av, men om vi kombinerar range med en for-loop..."
   ]
  },
  {
   "cell_type": "code",
   "execution_count": 82,
   "id": "85bd49c6",
   "metadata": {},
   "outputs": [
    {
     "name": "stdout",
     "output_type": "stream",
     "text": [
      "0\n",
      "1\n",
      "2\n",
      "3\n",
      "4\n",
      "5\n",
      "6\n",
      "7\n",
      "8\n",
      "9\n",
      "10\n"
     ]
    }
   ],
   "source": [
    "for number in our_numbers:\n",
    "\n",
    "    print(number)"
   ]
  },
  {
   "cell_type": "markdown",
   "id": "31c473d1",
   "metadata": {},
   "source": [
    "Aha! Nu fattade Python, och för varje loop så assignade den variabeln number till siffrorna som range(0,10) skapade.\n",
    "\n",
    "**Viktigt** är att range(start, stop) inte inkluderar stop, utan stannar vid stop-1. Se loopen ovan.\n",
    "\n",
    "Vill man även inkludera stop måste man således skriva range(start, stop+1)."
   ]
  },
  {
   "cell_type": "code",
   "execution_count": 86,
   "id": "680f3816",
   "metadata": {},
   "outputs": [
    {
     "name": "stdout",
     "output_type": "stream",
     "text": [
      "0 1 2 3 4 5 6 7 8 9 10 "
     ]
    }
   ],
   "source": [
    "start = 0\n",
    "stop = 10\n",
    "\n",
    "for number in range(start, stop+1):\n",
    "    print(number, end=' ')"
   ]
  },
  {
   "cell_type": "markdown",
   "id": "cb71ab9e",
   "metadata": {},
   "source": [
    "Vi kan lägga till ytterligare ett argument till range, som bestämmer 'i steg om' mellan varje tal.\n",
    "\n",
    "Syntaxen är range(start, stop, step)"
   ]
  },
  {
   "cell_type": "code",
   "execution_count": 90,
   "id": "1fd79053",
   "metadata": {},
   "outputs": [
    {
     "name": "stdout",
     "output_type": "stream",
     "text": [
      "0\n",
      "5\n",
      "10\n",
      "15\n",
      "20\n",
      "25\n",
      "30\n",
      "35\n",
      "40\n",
      "45\n",
      "50\n",
      "55\n",
      "60\n",
      "65\n",
      "70\n",
      "75\n",
      "80\n",
      "85\n",
      "90\n",
      "95\n"
     ]
    }
   ],
   "source": [
    "numbers = range(0, 100, 5)\n",
    "\n",
    "for number in numbers:\n",
    "    print(number)"
   ]
  },
  {
   "cell_type": "code",
   "execution_count": 92,
   "id": "f6eabd49",
   "metadata": {},
   "outputs": [
    {
     "name": "stdout",
     "output_type": "stream",
     "text": [
      "100\n",
      "90\n",
      "80\n",
      "70\n",
      "60\n",
      "50\n",
      "40\n",
      "30\n",
      "20\n",
      "10\n"
     ]
    }
   ],
   "source": [
    "# det går bra att även gå baklänges\n",
    "\n",
    "numbers = range(100, 0, -10)\n",
    "\n",
    "for number in numbers:\n",
    "    print(number)"
   ]
  },
  {
   "cell_type": "markdown",
   "id": "68b43d2b",
   "metadata": {},
   "source": [
    "---"
   ]
  },
  {
   "cell_type": "markdown",
   "id": "18bc5516",
   "metadata": {},
   "source": [
    "**For-break**"
   ]
  },
  {
   "cell_type": "code",
   "execution_count": 93,
   "id": "38059b4c",
   "metadata": {},
   "outputs": [
    {
     "name": "stdout",
     "output_type": "stream",
     "text": [
      "['Måndag', 'Tisdag', 'Onsdag', 'Tordag', 'Fredag', 'Lördag', 'Söndag']\n"
     ]
    }
   ],
   "source": [
    "print(veckodagar)"
   ]
  },
  {
   "cell_type": "code",
   "execution_count": 95,
   "id": "90f49e03",
   "metadata": {},
   "outputs": [
    {
     "name": "stdout",
     "output_type": "stream",
     "text": [
      "Måndag\n",
      "Tisdag\n",
      "Onsdag\n",
      "Tordag\n",
      "Fredag\n"
     ]
    }
   ],
   "source": [
    "for veckodag in veckodagar:\n",
    "\n",
    "    print(veckodag)\n",
    "\n",
    "    if veckodag == 'Fredag':\n",
    "        break"
   ]
  },
  {
   "cell_type": "markdown",
   "id": "13481003",
   "metadata": {},
   "source": [
    "---"
   ]
  },
  {
   "cell_type": "markdown",
   "id": "095aa1e3",
   "metadata": {},
   "source": [
    "**Nested for-loops**"
   ]
  },
  {
   "cell_type": "markdown",
   "id": "12802035",
   "metadata": {},
   "source": [
    "Vi kan givetvis även göra nestade for-loopar, dvs flor-loopar i for-loopar"
   ]
  },
  {
   "cell_type": "code",
   "execution_count": 96,
   "id": "5600daf0",
   "metadata": {},
   "outputs": [
    {
     "name": "stdout",
     "output_type": "stream",
     "text": [
      "Viking\n",
      "\n",
      "Line\n"
     ]
    }
   ],
   "source": [
    "# Btw, ibland vill man bara print en tom rad och då kan vi skriva print() - kan vara nice ibland\n",
    "\n",
    "print('Viking')\n",
    "print()\n",
    "print('Line') "
   ]
  },
  {
   "cell_type": "code",
   "execution_count": 100,
   "id": "c11439d9",
   "metadata": {},
   "outputs": [
    {
     "name": "stdout",
     "output_type": "stream",
     "text": [
      "i: 0\n",
      "j: 4\n",
      "j: 5\n",
      "j: 6\n",
      "\n",
      "i: 1\n",
      "j: 4\n",
      "j: 5\n",
      "j: 6\n",
      "\n",
      "i: 2\n",
      "j: 4\n",
      "j: 5\n",
      "j: 6\n",
      "\n"
     ]
    }
   ],
   "source": [
    "for i in range(0, 3):\n",
    "\n",
    "    print(f'i: {i}')\n",
    "\n",
    "    for j in range(4, 7):\n",
    "\n",
    "        print(f'j: {j}')\n",
    "    \n",
    "    print()"
   ]
  },
  {
   "cell_type": "code",
   "execution_count": 101,
   "id": "3143afcb",
   "metadata": {},
   "outputs": [
    {
     "name": "stdout",
     "output_type": "stream",
     "text": [
      "ij: 04\n",
      "ij: 05\n",
      "ij: 06\n",
      "\n",
      "ij: 14\n",
      "ij: 15\n",
      "ij: 16\n",
      "\n",
      "ij: 24\n",
      "ij: 25\n",
      "ij: 26\n",
      "\n"
     ]
    }
   ],
   "source": [
    "for i in range(0, 3):\n",
    "\n",
    "    for j in range(4, 7):\n",
    "\n",
    "        print(f'ij: {i}{j}')\n",
    "\n",
    "    print()"
   ]
  }
 ],
 "metadata": {
  "kernelspec": {
   "display_name": "programmering",
   "language": "python",
   "name": "python3"
  },
  "language_info": {
   "codemirror_mode": {
    "name": "ipython",
    "version": 3
   },
   "file_extension": ".py",
   "mimetype": "text/x-python",
   "name": "python",
   "nbconvert_exporter": "python",
   "pygments_lexer": "ipython3",
   "version": "3.13.5"
  }
 },
 "nbformat": 4,
 "nbformat_minor": 5
}
