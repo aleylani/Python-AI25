{
 "cells": [
  {
   "cell_type": "markdown",
   "id": "cf699755",
   "metadata": {},
   "source": [
    "### Print statements"
   ]
  },
  {
   "cell_type": "code",
   "execution_count": 1,
   "id": "ad4e30e6",
   "metadata": {},
   "outputs": [
    {
     "name": "stdout",
     "output_type": "stream",
     "text": [
      "Hej klassen!\n",
      "Jättekul att träffa er - mitt namn är Ali\n"
     ]
    }
   ],
   "source": [
    "print('Hej klassen!')         # Detta är en kommentar, och ignoreras av Python när den läser av koden    \n",
    "print('Jättekul att träffa er - mitt namn är Ali')"
   ]
  },
  {
   "cell_type": "markdown",
   "id": "c39843b4",
   "metadata": {},
   "source": [
    "### Funktioner\n",
    "\n",
    "Generellt sätt har funktioner i Python följande utseende\n",
    "\n",
    "$funktionsnamn(argument)$\n",
    "\n",
    "print() som vi ser ovan är alltså en funktion. I vår första kallning är \"Hej klassen!\" dess argument.\n",
    "\n",
    "print()-funktionen är en som helt enkelt skriver ut sitt argument. Detta kan vara användbart i väldigt många scenarion.\n",
    "\n",
    "Vissa funktioner kan ta **fler** än ett argument, och vi kommer stöta på väldigt många sådana framöver.\n",
    "\n",
    "\n"
   ]
  },
  {
   "cell_type": "markdown",
   "id": "89d5f9cd",
   "metadata": {},
   "source": [
    "### Variabler\n",
    "\n",
    "Vi kan assigna variabler i Python. Genom att göra det lägger Python de på minner, och vi kan sedan kalla på dessa vid ett senare skede."
   ]
  },
  {
   "cell_type": "code",
   "execution_count": 2,
   "id": "deeb3a8e",
   "metadata": {},
   "outputs": [
    {
     "name": "stdout",
     "output_type": "stream",
     "text": [
      "Ali\n"
     ]
    }
   ],
   "source": [
    "name = 'Ali'\n",
    "\n",
    "print(name)"
   ]
  },
  {
   "cell_type": "markdown",
   "id": "e37c3444",
   "metadata": {},
   "source": [
    "Välj smarta och logiska variabelnamn. Annars riskerar ni att det blir väldigt svårt för andra (och även er själva) att förstå vad olika variabler representerar - särskilt när kodbasen blir stor och komplex."
   ]
  },
  {
   "cell_type": "code",
   "execution_count": 3,
   "id": "5cadb33d",
   "metadata": {},
   "outputs": [
    {
     "name": "stdout",
     "output_type": "stream",
     "text": [
      "Olof\n"
     ]
    }
   ],
   "source": [
    "b = 'Olof'    # mycket dålgit variablenamn att assigna ett namn till\n",
    "\n",
    "print(b)      # givetvis kommer denna print ändock att funka, men poängen är att variablnamnet är högst olämpligt"
   ]
  },
  {
   "cell_type": "markdown",
   "id": "29b64859",
   "metadata": {},
   "source": [
    "Vi kan, som vi sett, också lägga till s.k. kommentarer. Python ignorerar all text efter # på varje rad. Den texten är till för dig som läsare i syfte att bättre första vad som händer i koden."
   ]
  },
  {
   "cell_type": "code",
   "execution_count": 4,
   "id": "7b0e6a7e",
   "metadata": {},
   "outputs": [
    {
     "name": "stdout",
     "output_type": "stream",
     "text": [
      "Ali\n",
      "AI25\n"
     ]
    }
   ],
   "source": [
    "teacher = 'Ali'      # lärare till världens snart coolaste klass\n",
    "students = 'AI25'    # världens snart grymmaste klass\n",
    "\n",
    "print(teacher)\n",
    "print(students)"
   ]
  },
  {
   "cell_type": "markdown",
   "id": "e29eb9e5",
   "metadata": {},
   "source": [
    "Nedan har vi ett exempel på hur avsaknaden av logiska variabelnamn och kommentarer gör det omöjligt för läsaren att förstå vad dessa variabler egentligen står för. Jämför med variabelnamnen + kommentarerna ovan. Vad tycker du själv?"
   ]
  },
  {
   "cell_type": "code",
   "execution_count": 5,
   "id": "eb07a83c",
   "metadata": {},
   "outputs": [],
   "source": [
    "uu = 'Ali'\n",
    "uv = 'AI25' "
   ]
  },
  {
   "cell_type": "markdown",
   "id": "309c2352",
   "metadata": {},
   "source": [
    "Du kan kalla dina variabler för vadsomhelst i princip, men tänk på att det ska vara logiskt.\n",
    "I princip inga begränsningar i vad du döper variablerna till, men de MÅSTE börja på en bokstav! Vi kan alltså döpa en variabel till något som ex. börjar på en siffra\n",
    "\n",
    "Det kan vara på svenska, engelska, you name it. Språket spelar ingen roll"
   ]
  },
  {
   "cell_type": "code",
   "execution_count": 6,
   "id": "3e4995f8",
   "metadata": {},
   "outputs": [],
   "source": [
    "Red_fish = 'röding'    # detta funkar, notera att vi även har ett understreck inkluderat\n",
    "\n",
    "svärje = 'sweden'      # numera går det även att använda å,ä & ö i varibelnamn"
   ]
  },
  {
   "cell_type": "code",
   "execution_count": 7,
   "id": "2e5d7fbd",
   "metadata": {},
   "outputs": [
    {
     "ename": "SyntaxError",
     "evalue": "cannot assign to literal here. Maybe you meant '==' instead of '='? (3378134435.py, line 1)",
     "output_type": "error",
     "traceback": [
      "  \u001b[36mCell\u001b[39m\u001b[36m \u001b[39m\u001b[32mIn[7]\u001b[39m\u001b[32m, line 1\u001b[39m\n\u001b[31m    \u001b[39m\u001b[31m1989 = 'födelseår'     # detta kommer ej funka, börjar på en siffra\u001b[39m\n    ^\n\u001b[31mSyntaxError\u001b[39m\u001b[31m:\u001b[39m cannot assign to literal here. Maybe you meant '==' instead of '='?\n"
     ]
    }
   ],
   "source": [
    "1989 = 'födelseår'     # detta kommer ej funka, börjar på en siffra"
   ]
  },
  {
   "cell_type": "code",
   "execution_count": null,
   "id": "b3f809fa",
   "metadata": {},
   "outputs": [],
   "source": [
    "&test = 'kontroll...'   # funkade inte heller, började på ett specialtecken\n"
   ]
  },
  {
   "cell_type": "markdown",
   "id": "9aa833e2",
   "metadata": {},
   "source": [
    "Generellt i Python så är konsensus att man använder små bokstäver för variabelnamn, samt understreck vid sammansatta ord"
   ]
  },
  {
   "cell_type": "code",
   "execution_count": 8,
   "id": "c088639c",
   "metadata": {},
   "outputs": [],
   "source": [
    "mitt_namn = 'Ali'\n",
    "\n",
    "namn1 = 'Johan'\n",
    "namn2 = 'Sigurd'     # funkar att göra såhär också, men undvik om ni kan..."
   ]
  },
  {
   "cell_type": "markdown",
   "id": "74396d5a",
   "metadata": {},
   "source": [
    "### Datatyper\n",
    "\n",
    "Förutom texter kan vi även assigna siffror till variabler.\n",
    "\n",
    "I Python kallas text datatypen för *strings* (förkortas str)\n",
    "\n",
    "I Python kallas heltal för integers (förkortad int)\n"
   ]
  },
  {
   "cell_type": "code",
   "execution_count": 9,
   "id": "a9ed2a95",
   "metadata": {},
   "outputs": [
    {
     "name": "stdout",
     "output_type": "stream",
     "text": [
      "Ali\n",
      "Leylani\n",
      "35\n",
      "<class 'str'>\n",
      "<class 'str'>\n",
      "<class 'int'>\n"
     ]
    }
   ],
   "source": [
    "firstname = 'Ali'\n",
    "lastname = 'Leylani'\n",
    "age = 35\n",
    "\n",
    "print(firstname)\n",
    "print(lastname)\n",
    "print(age)\n",
    "\n",
    "# genom att använda type()-funktionen kan vi extrahera datatypen av argumentet\n",
    "# därefter kan vi printa den, om vi vill\n",
    "\n",
    "print(type(firstname))\n",
    "print(type(lastname))\n",
    "print(type(age))"
   ]
  },
  {
   "cell_type": "markdown",
   "id": "8fdddfaf",
   "metadata": {},
   "source": [
    "**Chaining functions**\n",
    "\n",
    "Som ni såg i koden ovan kan man använda flera funktioner på varandra. Python kommer då först att exekvera den innersta funktionen, och sedan jobba sig utåt."
   ]
  },
  {
   "cell_type": "markdown",
   "id": "7c98fea2",
   "metadata": {},
   "source": [
    "## f-strängar"
   ]
  },
  {
   "cell_type": "markdown",
   "id": "6c7ee808",
   "metadata": {},
   "source": [
    "En väldigt bra sätt att formatera text som man printar ut är via s.k. f-strängar. Då kan man dynamisk lägga in variabler i sin text, oavsett vad variablerna har för värde."
   ]
  },
  {
   "cell_type": "code",
   "execution_count": 10,
   "id": "c339e2e5",
   "metadata": {},
   "outputs": [
    {
     "name": "stdout",
     "output_type": "stream",
     "text": [
      "Jag heter Ali Leylani och jag önskar att jag vore tio år yngre men jag är 35 år gammal\n"
     ]
    }
   ],
   "source": [
    "print(f'Jag heter {firstname} {lastname} och jag önskar att jag vore tio år yngre men jag är {age} år gammal')"
   ]
  },
  {
   "cell_type": "markdown",
   "id": "6adfe944",
   "metadata": {},
   "source": [
    "**Var försiktig med datatyper**\n",
    "\n",
    "Det är stor skillnad på text och heltal, var därför noga när du assignar dessa variabler"
   ]
  },
  {
   "cell_type": "code",
   "execution_count": 11,
   "id": "a8d539a0",
   "metadata": {},
   "outputs": [
    {
     "name": "stdout",
     "output_type": "stream",
     "text": [
      "<class 'int'>\n",
      "<class 'str'>\n"
     ]
    }
   ],
   "source": [
    "an_age = 10\n",
    "also_an_age = '10'\n",
    "\n",
    "print(type(an_age))\n",
    "print(type(also_an_age))"
   ]
  },
  {
   "cell_type": "markdown",
   "id": "7bf18e86",
   "metadata": {},
   "source": [
    "## Beräkningar\n"
   ]
  },
  {
   "cell_type": "code",
   "execution_count": 22,
   "id": "9c348842",
   "metadata": {},
   "outputs": [
    {
     "data": {
      "text/plain": [
       "20"
      ]
     },
     "execution_count": 22,
     "metadata": {},
     "output_type": "execute_result"
    }
   ],
   "source": [
    "10+10"
   ]
  },
  {
   "cell_type": "code",
   "execution_count": 15,
   "id": "f07d6792",
   "metadata": {},
   "outputs": [
    {
     "data": {
      "text/plain": [
       "76"
      ]
     },
     "execution_count": 15,
     "metadata": {},
     "output_type": "execute_result"
    }
   ],
   "source": [
    "38*2"
   ]
  },
  {
   "cell_type": "code",
   "execution_count": 16,
   "id": "8cb0640c",
   "metadata": {},
   "outputs": [
    {
     "data": {
      "text/plain": [
       "1"
      ]
     },
     "execution_count": 16,
     "metadata": {},
     "output_type": "execute_result"
    }
   ],
   "source": [
    "500-499"
   ]
  },
  {
   "cell_type": "code",
   "execution_count": 17,
   "id": "16b8b786",
   "metadata": {},
   "outputs": [
    {
     "data": {
      "text/plain": [
       "30.0"
      ]
     },
     "execution_count": 17,
     "metadata": {},
     "output_type": "execute_result"
    }
   ],
   "source": [
    "150/5"
   ]
  },
  {
   "cell_type": "code",
   "execution_count": 18,
   "id": "3fd25a1b",
   "metadata": {},
   "outputs": [
    {
     "data": {
      "text/plain": [
       "256"
      ]
     },
     "execution_count": 18,
     "metadata": {},
     "output_type": "execute_result"
    }
   ],
   "source": [
    "2**8"
   ]
  },
  {
   "cell_type": "markdown",
   "id": "983aa2bc",
   "metadata": {},
   "source": [
    "Bra, kolla nu när det kan bli knas om man har fel dataklass"
   ]
  },
  {
   "cell_type": "code",
   "execution_count": null,
   "id": "35e1f13b",
   "metadata": {},
   "outputs": [],
   "source": [
    "a_number = 2\n",
    "another_number = 3\n",
    "\n",
    "string_number = '2'\n",
    "another_string_number = '3'\n"
   ]
  },
  {
   "cell_type": "code",
   "execution_count": null,
   "id": "0d871288",
   "metadata": {},
   "outputs": [],
   "source": [
    "print(a_number+another_number)\n",
    "print(a_number-another_number)\n",
    "print(a_number*another_number)"
   ]
  },
  {
   "cell_type": "code",
   "execution_count": null,
   "id": "b546f500",
   "metadata": {},
   "outputs": [],
   "source": [
    "# för texter så går det faktiskt att operera med +, det tolkas som en enkel konkatinering (ihopsättning)\n",
    "\n",
    "stringer_number+another_string_number"
   ]
  },
  {
   "cell_type": "code",
   "execution_count": null,
   "id": "3779f249",
   "metadata": {},
   "outputs": [],
   "source": [
    "print(students)\n",
    "print(a_number*students)\n",
    "print(10*students)   # det går att multiplicera heltal med strängar!"
   ]
  },
  {
   "cell_type": "markdown",
   "id": "3694aafe",
   "metadata": {},
   "source": [
    "## Re-assigning variables\n",
    "\n",
    "En redan assignad variabel kan närsomhelst bli re-assignad, till något annat värde. Python kommer från och med när re-assignment sker, att använda det nya värdet varje gång vi kallar på variabeln."
   ]
  },
  {
   "cell_type": "code",
   "execution_count": null,
   "id": "7737cd9b",
   "metadata": {},
   "outputs": [],
   "source": [
    "min_kompis = 'Jonathan'            # här assignar vi variablen min_kompis för första gången\n",
    "\n",
    "print(min_kompis)\n",
    "\n",
    "min_kompis = 'Idun'               # här re-assignas min_kompis, och får ett nytt värde!\n",
    "\n",
    "print(min_kompis)"
   ]
  },
  {
   "cell_type": "code",
   "execution_count": null,
   "id": "95d9d877",
   "metadata": {},
   "outputs": [],
   "source": [
    "min_kompis = 'Idun'               # här re-assignas min_kompis, och får ett nytt värde!\n",
    "\n",
    "print(min_kompis)"
   ]
  },
  {
   "cell_type": "code",
   "execution_count": null,
   "id": "3d90f540",
   "metadata": {},
   "outputs": [],
   "source": [
    "min_kompis = 'Jonathan'          \n",
    "\n",
    "print(min_kompis)\n",
    "\n",
    "min_kompis = 'Idun'              \n",
    "\n",
    "print(min_kompis)"
   ]
  },
  {
   "cell_type": "markdown",
   "id": "554812e6",
   "metadata": {},
   "source": [
    "**Exempel på beräknings use-case**\n",
    "\n",
    "Rätt trivialt, men.. ja.\n"
   ]
  },
  {
   "cell_type": "code",
   "execution_count": 24,
   "id": "eae31bfd",
   "metadata": {},
   "outputs": [
    {
     "name": "stdout",
     "output_type": "stream",
     "text": [
      "Gravitationskraften som verkar på dig som väger 66 kg är 648.12 Newton.\n"
     ]
    }
   ],
   "source": [
    "g = 9.82\n",
    "m = 66\n",
    "\n",
    "F = m*g\n",
    "\n",
    "print(f'Gravitationskraften som verkar på dig som väger {m} kg är {F} Newton.')\n"
   ]
  },
  {
   "cell_type": "code",
   "execution_count": 26,
   "id": "46bc489f",
   "metadata": {},
   "outputs": [
    {
     "name": "stdout",
     "output_type": "stream",
     "text": [
      "1000\n",
      "999\n"
     ]
    }
   ],
   "source": [
    "# obs Python gör skillnad på versaler\n",
    "\n",
    "M = 1000   \n",
    "m = 999\n",
    "\n",
    "print(M) \n",
    "print(m)"
   ]
  },
  {
   "cell_type": "markdown",
   "id": "5c5cddbf",
   "metadata": {},
   "source": [
    "## Input()\n",
    "\n",
    "Vi kan be användaren om en input genom att nyttja input()-funktionen. Argumentet till denna funktionen är texten som användaren kommer se när den ombeds skriva in ett svar."
   ]
  },
  {
   "cell_type": "code",
   "execution_count": 28,
   "id": "51ed28d5",
   "metadata": {},
   "outputs": [
    {
     "name": "stdout",
     "output_type": "stream",
     "text": [
      "Hej Aladdin!\n"
     ]
    }
   ],
   "source": [
    "user_name = input('Hej, vad heter du?')\n",
    "\n",
    "print(f\"Hej {user_name}!\")"
   ]
  },
  {
   "cell_type": "markdown",
   "id": "c5cd8643",
   "metadata": {},
   "source": [
    "**Viktig detalj** när det gäller input()\n",
    "\n",
    "Datatypen av, av användaren angivna värdet till input(), kommer alltid att tolkas som en sträng!"
   ]
  },
  {
   "cell_type": "code",
   "execution_count": 29,
   "id": "addd82bb",
   "metadata": {},
   "outputs": [
    {
     "name": "stdout",
     "output_type": "stream",
     "text": [
      "80\n",
      "<class 'str'>\n"
     ]
    }
   ],
   "source": [
    "my_input = input('Ange ett tal: ')\n",
    "\n",
    "print(my_input)\n",
    "print(type(my_input))"
   ]
  },
  {
   "cell_type": "markdown",
   "id": "48bca3ac",
   "metadata": {},
   "source": [
    "Att datatypen från input()-funktionen är string är i sig inget problem, men vi kommer få problem om vi försöker utföra beräkningar med det."
   ]
  },
  {
   "cell_type": "markdown",
   "id": "4afe4b6d",
   "metadata": {},
   "source": [
    "För att kringå detta kan vi direkt omvandla vår input till ett heltal, genom att använda int()-funktionenm"
   ]
  },
  {
   "cell_type": "code",
   "execution_count": null,
   "id": "b5a610f5",
   "metadata": {},
   "outputs": [],
   "source": [
    "my_new_input = input('Ange ett tal: ')\n",
    "\n",
    "recast_input = int(my_new_input)\n",
    "\n",
    "a_number = 10\n",
    "\n",
    "produkt = a_number * recast_input\n",
    "\n",
    "print(f'Produkten är {produkt}')"
   ]
  },
  {
   "cell_type": "code",
   "execution_count": 35,
   "id": "a4539083",
   "metadata": {},
   "outputs": [
    {
     "name": "stdout",
     "output_type": "stream",
     "text": [
      "Produkten är 70\n"
     ]
    }
   ],
   "source": [
    "my_new_input = int(input('Ange ett tal: '))\n",
    "\n",
    "a_number = 10\n",
    "\n",
    "produkt = a_number * my_new_input\n",
    "\n",
    "print(f'Produkten är {produkt}')"
   ]
  },
  {
   "cell_type": "code",
   "execution_count": 36,
   "id": "18c9efb7",
   "metadata": {},
   "outputs": [
    {
     "data": {
      "text/plain": [
       "25"
      ]
     },
     "execution_count": 36,
     "metadata": {},
     "output_type": "execute_result"
    }
   ],
   "source": [
    "int('25')"
   ]
  },
  {
   "cell_type": "code",
   "execution_count": 37,
   "id": "8b42b21b",
   "metadata": {},
   "outputs": [
    {
     "ename": "ValueError",
     "evalue": "invalid literal for int() with base 10: '25.3'",
     "output_type": "error",
     "traceback": [
      "\u001b[31m---------------------------------------------------------------------------\u001b[39m",
      "\u001b[31mValueError\u001b[39m                                Traceback (most recent call last)",
      "\u001b[36mCell\u001b[39m\u001b[36m \u001b[39m\u001b[32mIn[37]\u001b[39m\u001b[32m, line 1\u001b[39m\n\u001b[32m----> \u001b[39m\u001b[32m1\u001b[39m \u001b[38;5;28mint\u001b[39m(\u001b[33m'\u001b[39m\u001b[33m25.3\u001b[39m\u001b[33m'\u001b[39m)\n",
      "\u001b[31mValueError\u001b[39m: invalid literal for int() with base 10: '25.3'"
     ]
    }
   ],
   "source": [
    "int('25.3')"
   ]
  },
  {
   "cell_type": "code",
   "execution_count": 39,
   "id": "14b3fffb",
   "metadata": {},
   "outputs": [
    {
     "name": "stdout",
     "output_type": "stream",
     "text": [
      "<class 'float'>\n"
     ]
    }
   ],
   "source": [
    "decimaltal = 28.3\n",
    "\n",
    "print(type(decimaltal))"
   ]
  },
  {
   "cell_type": "code",
   "execution_count": 40,
   "id": "5f10bd56",
   "metadata": {},
   "outputs": [
    {
     "data": {
      "text/plain": [
       "25.3"
      ]
     },
     "execution_count": 40,
     "metadata": {},
     "output_type": "execute_result"
    }
   ],
   "source": [
    "float('25.3')\n"
   ]
  },
  {
   "cell_type": "code",
   "execution_count": 47,
   "id": "fc47d5e7",
   "metadata": {},
   "outputs": [
    {
     "data": {
      "text/plain": [
       "25"
      ]
     },
     "execution_count": 47,
     "metadata": {},
     "output_type": "execute_result"
    }
   ],
   "source": [
    "int(25.4)    # när man omvandlar decimaltal till integer så avrundas det!"
   ]
  },
  {
   "cell_type": "markdown",
   "id": "c845bbef",
   "metadata": {},
   "source": [
    "## Importera paket\n",
    "\n",
    "Python har en hel del inbyggd funktionalitet, men ofta så behöver man också importera funktionalitet från någon annanstans.\n",
    "\n",
    "I detta fall vill vi göra beräkningar med $\\pi$, men Python har inte värdet på $\\pi$ inbyggd.\n",
    "\n",
    "Vi importerar därför paketet **math** som däremot har det."
   ]
  },
  {
   "cell_type": "markdown",
   "id": "a69cac24",
   "metadata": {},
   "source": [
    "**Circle geometry**\n",
    "\n",
    "$ A_{circle} = \\pi r^2 $\n",
    "\n",
    "$ O_{circle} = 2\\pi r$"
   ]
  },
  {
   "cell_type": "code",
   "execution_count": 50,
   "id": "8a3c74f1",
   "metadata": {},
   "outputs": [
    {
     "name": "stdout",
     "output_type": "stream",
     "text": [
      "Omkretsen av en cirkel med radius 4 är 25.132741228718345.\n"
     ]
    }
   ],
   "source": [
    "import math              # att importera paket är busenkelt, och görs via import-kommandot\n",
    "\n",
    "radius = 4\n",
    "\n",
    "omkrets = 2*math.pi*radius\n",
    "\n",
    "print(f'Omkretsen av en cirkel med radius {radius} är {omkrets}.')"
   ]
  },
  {
   "cell_type": "code",
   "execution_count": 60,
   "id": "71b0458c",
   "metadata": {},
   "outputs": [
    {
     "name": "stdout",
     "output_type": "stream",
     "text": [
      "25.132741228718345\n",
      "25.1327\n"
     ]
    }
   ],
   "source": [
    "# vill man inte ha så många decimaler kan vi avrunda med hjälp av round()-funktionen\n",
    "# vi angers två argument till round-funktionen.\n",
    "\n",
    "# 1. talet vi vill avrunda\n",
    "# 2. antalet decimaler vi vill ha kvar\n",
    "\n",
    "avrundat = round(omkrets, 4)\n",
    "\n",
    "\n",
    "print(omkrets)\n",
    "print(avrundat)"
   ]
  },
  {
   "cell_type": "markdown",
   "id": "3d00cdcc",
   "metadata": {},
   "source": [
    "Observera att värdet på omkrets **inte** har ändrats! Vi har inte gjort någon re-assignment! Vi har bara lekt med värdet hitillsm"
   ]
  },
  {
   "cell_type": "code",
   "execution_count": null,
   "id": "6866d610",
   "metadata": {},
   "outputs": [],
   "source": []
  }
 ],
 "metadata": {
  "kernelspec": {
   "display_name": "programmering",
   "language": "python",
   "name": "python3"
  },
  "language_info": {
   "codemirror_mode": {
    "name": "ipython",
    "version": 3
   },
   "file_extension": ".py",
   "mimetype": "text/x-python",
   "name": "python",
   "nbconvert_exporter": "python",
   "pygments_lexer": "ipython3",
   "version": "3.13.5"
  }
 },
 "nbformat": 4,
 "nbformat_minor": 5
}
