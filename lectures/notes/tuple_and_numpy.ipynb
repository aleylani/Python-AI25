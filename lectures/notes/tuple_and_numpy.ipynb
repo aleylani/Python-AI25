{
 "cells": [
  {
   "cell_type": "markdown",
   "metadata": {},
   "source": [
    "## Tuples"
   ]
  },
  {
   "cell_type": "markdown",
   "metadata": {},
   "source": [
    "Vi ska nu prata om Tuples och förtydliga skillnaden mellan Tuples och Lists.\n",
    "\n",
    "En Tupel är sorts lista, men som inte går att ändra elemten i efter att du skapat den.\n",
    "\n",
    "Exempel: listor går att ändra "
   ]
  },
  {
   "cell_type": "code",
   "execution_count": null,
   "metadata": {},
   "outputs": [
    {
     "name": "stdout",
     "output_type": "stream",
     "text": [
      "['Sommar', 'Sol', 'Markoolio']\n",
      "['Sommar', 'Sol', 'Markoolio', 'vi har korta shorts']\n",
      "['Vinter', 'Sol', 'Markoolio', 'vi har korta shorts']\n"
     ]
    }
   ],
   "source": [
    "min_lista = ['Sommar', 'Sol', 'Markoolio']\n",
    "print(min_lista)\n",
    "\n",
    "min_lista.append('vi har korta shorts')        # lägg till ett element till vår lista\n",
    "print(min_lista)\n",
    "\n",
    "min_lista[0] = 'Vinter'                        # re-assigna ett element i vår lista\n",
    "print(min_lista)\n"
   ]
  },
  {
   "cell_type": "markdown",
   "metadata": {},
   "source": [
    "Låt oss nu skapa en Tuple. En Tuple är precis som listor användbara objekt som det går att \"samla\" information i. "
   ]
  },
  {
   "cell_type": "code",
   "execution_count": 4,
   "metadata": {},
   "outputs": [
    {
     "name": "stdout",
     "output_type": "stream",
     "text": [
      "('Sommar', 'Sol', 'Markoolio')\n"
     ]
    }
   ],
   "source": [
    "min_tuple = ('Sommar', 'Sol', 'Markoolio')     # paranteser används för att beteckna tuples!\n",
    "print(min_tuple)"
   ]
  },
  {
   "cell_type": "markdown",
   "metadata": {},
   "source": [
    "Det går väldigt bra att indexera Tuples, precis som ex. listor"
   ]
  },
  {
   "cell_type": "code",
   "execution_count": 7,
   "metadata": {},
   "outputs": [
    {
     "name": "stdout",
     "output_type": "stream",
     "text": [
      "Sommar\n",
      "Markoolio\n",
      "('Sommar', 'Sol')\n"
     ]
    }
   ],
   "source": [
    "print(min_tuple[0])\n",
    "print(min_tuple[-1])\n",
    "print(min_tuple[:2])"
   ]
  },
  {
   "cell_type": "markdown",
   "metadata": {},
   "source": [
    "**Till skillnad mot listor går det INTE att förändra i Tuples efter den väl blivit skapad**"
   ]
  },
  {
   "cell_type": "code",
   "execution_count": 9,
   "metadata": {},
   "outputs": [
    {
     "ename": "AttributeError",
     "evalue": "'tuple' object has no attribute 'append'",
     "output_type": "error",
     "traceback": [
      "\u001b[31m---------------------------------------------------------------------------\u001b[39m",
      "\u001b[31mAttributeError\u001b[39m                            Traceback (most recent call last)",
      "\u001b[36mCell\u001b[39m\u001b[36m \u001b[39m\u001b[32mIn[9]\u001b[39m\u001b[32m, line 1\u001b[39m\n\u001b[32m----> \u001b[39m\u001b[32m1\u001b[39m min_tuple.append(\u001b[33m'\u001b[39m\u001b[33mBernard Sanders\u001b[39m\u001b[33m'\u001b[39m)\n",
      "\u001b[31mAttributeError\u001b[39m: 'tuple' object has no attribute 'append'"
     ]
    }
   ],
   "source": [
    "min_tuple.append('Bernard Sanders')        # det går ej att lägga till"
   ]
  },
  {
   "cell_type": "code",
   "execution_count": 12,
   "metadata": {},
   "outputs": [
    {
     "ename": "TypeError",
     "evalue": "'tuple' object does not support item assignment",
     "output_type": "error",
     "traceback": [
      "\u001b[31m---------------------------------------------------------------------------\u001b[39m",
      "\u001b[31mTypeError\u001b[39m                                 Traceback (most recent call last)",
      "\u001b[36mCell\u001b[39m\u001b[36m \u001b[39m\u001b[32mIn[12]\u001b[39m\u001b[32m, line 1\u001b[39m\n\u001b[32m----> \u001b[39m\u001b[32m1\u001b[39m min_tuple[\u001b[32m0\u001b[39m] = \u001b[33m'\u001b[39m\u001b[33mVinter\u001b[39m\u001b[33m'\u001b[39m\n",
      "\u001b[31mTypeError\u001b[39m: 'tuple' object does not support item assignment"
     ]
    }
   ],
   "source": [
    "min_tuple[0] = 'Vinter'                   # det går heller ej att re-assigna element i tuplar"
   ]
  },
  {
   "cell_type": "markdown",
   "metadata": {},
   "source": [
    "**Men**, detta är inte nödvändigtvis dåligt. I många fall vill vi, av säkerhetsskäl, inte att data som skapats ska kunna förändras."
   ]
  },
  {
   "cell_type": "markdown",
   "metadata": {},
   "source": [
    "Vi kan addera tuplar om vi vill, och det fungerar på samma sätt som listor"
   ]
  },
  {
   "cell_type": "code",
   "execution_count": 13,
   "metadata": {},
   "outputs": [
    {
     "name": "stdout",
     "output_type": "stream",
     "text": [
      "('Backstreets', 'Back', 'Alright')\n",
      "('If', 'you', 'want', 'to', 'be', 'my')\n"
     ]
    }
   ],
   "source": [
    "en_tuple = ('Backstreets', 'Back', 'Alright')\n",
    "annan_tuple = ('If', 'you', 'want', 'to', 'be', 'my')\n",
    "\n",
    "print(en_tuple)\n",
    "print(annan_tuple)"
   ]
  },
  {
   "cell_type": "code",
   "execution_count": 14,
   "metadata": {},
   "outputs": [
    {
     "data": {
      "text/plain": [
       "('Sommar', 'Sol', 'Markoolio', 'If', 'you', 'want', 'to', 'be', 'my')"
      ]
     },
     "execution_count": 14,
     "metadata": {},
     "output_type": "execute_result"
    }
   ],
   "source": [
    "min_tuple + annan_tuple"
   ]
  },
  {
   "cell_type": "markdown",
   "metadata": {},
   "source": [
    "Lägg dock märke till att respektive underliggande tuple inte förändrats"
   ]
  },
  {
   "cell_type": "code",
   "execution_count": 15,
   "metadata": {},
   "outputs": [
    {
     "name": "stdout",
     "output_type": "stream",
     "text": [
      "('Backstreets', 'Back', 'Alright')\n",
      "('If', 'you', 'want', 'to', 'be', 'my')\n"
     ]
    }
   ],
   "source": [
    "print(en_tuple)\n",
    "print(annan_tuple)"
   ]
  },
  {
   "cell_type": "markdown",
   "metadata": {},
   "source": [
    "**En till likhet med listor, är att vi kan direktassigna värden till variabler**"
   ]
  },
  {
   "cell_type": "code",
   "execution_count": 45,
   "metadata": {},
   "outputs": [
    {
     "name": "stdout",
     "output_type": "stream",
     "text": [
      "[5, 1]\n"
     ]
    }
   ],
   "source": [
    "i = [5, 1]\n",
    "\n",
    "print(i)"
   ]
  },
  {
   "cell_type": "code",
   "execution_count": 18,
   "metadata": {},
   "outputs": [
    {
     "name": "stdout",
     "output_type": "stream",
     "text": [
      "i: 5\n",
      "j: 1\n"
     ]
    }
   ],
   "source": [
    "i, j = [5, 1]\n",
    "\n",
    "print(f'i: {i}')\n",
    "print(f'j: {j}')"
   ]
  },
  {
   "cell_type": "code",
   "execution_count": 24,
   "metadata": {},
   "outputs": [
    {
     "name": "stdout",
     "output_type": "stream",
     "text": [
      "i: 5\n",
      "j: 1\n",
      "k: Nosheen\n"
     ]
    }
   ],
   "source": [
    "i, j, k = [5, 1, 'Nosheen']\n",
    "\n",
    "print(f'i: {i}')\n",
    "print(f'j: {j}')\n",
    "print(f'k: {k}')\n"
   ]
  },
  {
   "cell_type": "markdown",
   "metadata": {},
   "source": [
    "Det är superviktigt att antalet variabler du assignar är lika många som antal element i din lista"
   ]
  },
  {
   "cell_type": "code",
   "execution_count": null,
   "metadata": {},
   "outputs": [
    {
     "ename": "ValueError",
     "evalue": "not enough values to unpack (expected 3, got 2)",
     "output_type": "error",
     "traceback": [
      "\u001b[31m---------------------------------------------------------------------------\u001b[39m",
      "\u001b[31mValueError\u001b[39m                                Traceback (most recent call last)",
      "\u001b[36mCell\u001b[39m\u001b[36m \u001b[39m\u001b[32mIn[20]\u001b[39m\u001b[32m, line 1\u001b[39m\n\u001b[32m----> \u001b[39m\u001b[32m1\u001b[39m i, j, k = [\u001b[32m5\u001b[39m, \u001b[32m1\u001b[39m]\n\u001b[32m      3\u001b[39m \u001b[38;5;28mprint\u001b[39m(\u001b[33mf\u001b[39m\u001b[33m'\u001b[39m\u001b[33mi: \u001b[39m\u001b[38;5;132;01m{\u001b[39;00mi\u001b[38;5;132;01m}\u001b[39;00m\u001b[33m'\u001b[39m)\n\u001b[32m      4\u001b[39m \u001b[38;5;28mprint\u001b[39m(\u001b[33mf\u001b[39m\u001b[33m'\u001b[39m\u001b[33mj: \u001b[39m\u001b[38;5;132;01m{\u001b[39;00mj\u001b[38;5;132;01m}\u001b[39;00m\u001b[33m'\u001b[39m)\n",
      "\u001b[31mValueError\u001b[39m: not enough values to unpack (expected 3, got 2)"
     ]
    }
   ],
   "source": [
    "i, j, k = [5, 1]         # fler variabler än element\n",
    "\n",
    "print(f'i: {i}')\n",
    "print(f'j: {j}')\n",
    "print(f'k: {k}')\n"
   ]
  },
  {
   "cell_type": "code",
   "execution_count": 22,
   "metadata": {},
   "outputs": [
    {
     "ename": "ValueError",
     "evalue": "too many values to unpack (expected 2)",
     "output_type": "error",
     "traceback": [
      "\u001b[31m---------------------------------------------------------------------------\u001b[39m",
      "\u001b[31mValueError\u001b[39m                                Traceback (most recent call last)",
      "\u001b[36mCell\u001b[39m\u001b[36m \u001b[39m\u001b[32mIn[22]\u001b[39m\u001b[32m, line 1\u001b[39m\n\u001b[32m----> \u001b[39m\u001b[32m1\u001b[39m i, j = [\u001b[32m5\u001b[39m, \u001b[32m1\u001b[39m, \u001b[32m8\u001b[39m]         \u001b[38;5;66;03m# färre variabler än element\u001b[39;00m\n\u001b[32m      3\u001b[39m \u001b[38;5;28mprint\u001b[39m(\u001b[33mf\u001b[39m\u001b[33m'\u001b[39m\u001b[33mi: \u001b[39m\u001b[38;5;132;01m{\u001b[39;00mi\u001b[38;5;132;01m}\u001b[39;00m\u001b[33m'\u001b[39m)\n\u001b[32m      4\u001b[39m \u001b[38;5;28mprint\u001b[39m(\u001b[33mf\u001b[39m\u001b[33m'\u001b[39m\u001b[33mj: \u001b[39m\u001b[38;5;132;01m{\u001b[39;00mj\u001b[38;5;132;01m}\u001b[39;00m\u001b[33m'\u001b[39m)\n",
      "\u001b[31mValueError\u001b[39m: too many values to unpack (expected 2)"
     ]
    }
   ],
   "source": [
    "i, j = [5, 1, 8]         # färre variabler än element\n",
    "\n",
    "print(f'i: {i}')\n",
    "print(f'j: {j}')\n",
    "print(f'k: {k}')\n"
   ]
  },
  {
   "cell_type": "markdown",
   "metadata": {},
   "source": [
    "**Exakt samma sak funkar för Tuples!**"
   ]
  },
  {
   "cell_type": "code",
   "execution_count": 25,
   "metadata": {},
   "outputs": [
    {
     "name": "stdout",
     "output_type": "stream",
     "text": [
      "i: 2\n",
      "j: 3\n"
     ]
    }
   ],
   "source": [
    "i, j = (2, 3)\n",
    "\n",
    "print(f'i: {i}')\n",
    "print(f'j: {j}')\n"
   ]
  },
  {
   "cell_type": "markdown",
   "metadata": {},
   "source": [
    "**Ett VÄLDIGT vanligt scenario där vi ser tuplar på är följande**"
   ]
  },
  {
   "cell_type": "code",
   "execution_count": 26,
   "metadata": {},
   "outputs": [],
   "source": [
    "foods = ['Ramen', 'Sushi', 'Granola']\n",
    "prices = [140, 150, 40]"
   ]
  },
  {
   "cell_type": "code",
   "execution_count": 28,
   "metadata": {},
   "outputs": [
    {
     "name": "stdout",
     "output_type": "stream",
     "text": [
      "Ramen 140\n",
      "Sushi 150\n",
      "Granola 40\n"
     ]
    }
   ],
   "source": [
    "# varför fungerar nedan?\n",
    "\n",
    "for food, price in zip(foods, prices):\n",
    "\n",
    "    print(food, price)"
   ]
  },
  {
   "cell_type": "code",
   "execution_count": 33,
   "metadata": {},
   "outputs": [
    {
     "name": "stdout",
     "output_type": "stream",
     "text": [
      "('Ramen', 140)\n",
      "('Sushi', 150)\n",
      "('Granola', 40)\n"
     ]
    }
   ],
   "source": [
    "for combination in zip(foods, prices):\n",
    "\n",
    "    print(combination)\n",
    "    #food = combination[0]\n",
    "    #price = combination[1]\n",
    "\n",
    "    #print(f'{food} kostar {price} kronor.')"
   ]
  },
  {
   "cell_type": "markdown",
   "metadata": {},
   "source": [
    "Det vi gör nedan (som vi lärt oss tidigare) är alltså att direktassigna två variabler till de olika elementen\n",
    "ur tupeln som skapas av zip()-funktionen"
   ]
  },
  {
   "cell_type": "code",
   "execution_count": 34,
   "metadata": {},
   "outputs": [
    {
     "name": "stdout",
     "output_type": "stream",
     "text": [
      "Ramen kostar 140 kronor.\n",
      "Sushi kostar 150 kronor.\n",
      "Granola kostar 40 kronor.\n"
     ]
    }
   ],
   "source": [
    "for food, price in zip(foods, prices):\n",
    "\n",
    "    print(f'{food} kostar {price} kronor.')"
   ]
  },
  {
   "cell_type": "markdown",
   "metadata": {},
   "source": [
    "zip()-funktionen kan ta emot hur många listor som helst!"
   ]
  },
  {
   "cell_type": "code",
   "execution_count": 44,
   "metadata": {},
   "outputs": [],
   "source": [
    "foods = ['Ramen', 'Sushi', 'Granola']\n",
    "prices = [140, 150, 40]\n",
    "drinks = ['Virgin Colada', 'Mint Margaritha', 'Tequila Sunrise']"
   ]
  },
  {
   "cell_type": "code",
   "execution_count": 43,
   "metadata": {},
   "outputs": [
    {
     "name": "stdout",
     "output_type": "stream",
     "text": [
      "('Ramen', 140, 'Virgin Colada')\n",
      "('Sushi', 150, 'Mint Margaritha')\n",
      "('Granola', 40, 'Tequila Sunrise')\n"
     ]
    }
   ],
   "source": [
    "for combination in zip(foods, prices, drinks):\n",
    "\n",
    "    print(combination)"
   ]
  },
  {
   "cell_type": "code",
   "execution_count": 38,
   "metadata": {},
   "outputs": [
    {
     "name": "stdout",
     "output_type": "stream",
     "text": [
      "A Ramen with a Virgin Colada costs 140 kronor in lala-land.\n",
      "A Sushi with a Mint Margaritha costs 150 kronor in lala-land.\n",
      "A Granola with a Tequila Sunrise costs 40 kronor in lala-land.\n"
     ]
    }
   ],
   "source": [
    "for food, price, drink in zip(foods, prices, drinks):\n",
    "\n",
    "    print(f'A {food} with a {drink} costs {price} kronor in lala-land.')"
   ]
  },
  {
   "cell_type": "markdown",
   "metadata": {},
   "source": [
    "**Obs, ordningen på variabler är superviktig**\n",
    "\n",
    "Nedan skapar vi ett logiskt fel, pga felaktig ordning i vår variabelassignment"
   ]
  },
  {
   "cell_type": "code",
   "execution_count": null,
   "metadata": {},
   "outputs": [
    {
     "name": "stdout",
     "output_type": "stream",
     "text": [
      "A 140 with a Virgin Colada costs Ramen kronor in lala-land.\n",
      "A 150 with a Mint Margaritha costs Sushi kronor in lala-land.\n",
      "A 40 with a Tequila Sunrise costs Granola kronor in lala-land.\n"
     ]
    }
   ],
   "source": [
    "for price, food, drink in zip(foods, prices, drinks):\n",
    "\n",
    "    print(f'A {food} with a {drink} costs {price} kronor in lala-land.')"
   ]
  },
  {
   "cell_type": "markdown",
   "metadata": {},
   "source": [
    "## Hur märks detta av i funktioner?\n",
    "\n",
    "Låt oss bygga en funktion som gör lite roliga saker med en siffra som vi ger till den"
   ]
  },
  {
   "cell_type": "code",
   "execution_count": 47,
   "metadata": {},
   "outputs": [],
   "source": [
    "# låt oss skapa en funktion som multiplicerar talet vi ger som input, med tio\n",
    "\n",
    "def rolig_funktion(nummer):\n",
    "\n",
    "    produkt = nummer*10\n",
    "\n",
    "    return produkt"
   ]
  },
  {
   "cell_type": "code",
   "execution_count": 48,
   "metadata": {},
   "outputs": [
    {
     "name": "stdout",
     "output_type": "stream",
     "text": [
      "50\n"
     ]
    }
   ],
   "source": [
    "output = rolig_funktion(5)\n",
    "\n",
    "print(output)"
   ]
  },
  {
   "cell_type": "markdown",
   "metadata": {},
   "source": [
    "Låt oss nu utöka funktionaliteten till att istället göra två saker med vår siffra, och returnera bägge resultaten "
   ]
  },
  {
   "cell_type": "code",
   "execution_count": 49,
   "metadata": {},
   "outputs": [],
   "source": [
    "# låt funktionen multiplicera vårt tal med 10 resp. 20, och returnera bägge produkter"
   ]
  },
  {
   "cell_type": "code",
   "execution_count": 50,
   "metadata": {},
   "outputs": [],
   "source": [
    "def roligare_funktion(nummer):\n",
    "\n",
    "    gånger_tio = nummer*10\n",
    "    gånger_tjugo = nummer*20\n",
    "\n",
    "    return gånger_tio, gånger_tjugo"
   ]
  },
  {
   "cell_type": "code",
   "execution_count": 51,
   "metadata": {},
   "outputs": [
    {
     "name": "stdout",
     "output_type": "stream",
     "text": [
      "(50, 100)\n"
     ]
    }
   ],
   "source": [
    "output = roligare_funktion(5)\n",
    "\n",
    "print(output)"
   ]
  },
  {
   "cell_type": "markdown",
   "metadata": {},
   "source": [
    "**Det vi ser är alltså att OM din funktion returnerar FLER än ett objekt, så kommer alla att levereras i en Tuple**"
   ]
  },
  {
   "cell_type": "markdown",
   "metadata": {},
   "source": [
    "Vi kan då, precis som innan, fånga upp de olika värdena på följande vis"
   ]
  },
  {
   "cell_type": "code",
   "execution_count": 54,
   "metadata": {},
   "outputs": [
    {
     "name": "stdout",
     "output_type": "stream",
     "text": [
      "a: 50\n",
      "b: 100\n"
     ]
    }
   ],
   "source": [
    "a, b = roligare_funktion(5)\n",
    "\n",
    "print(f'a: {a}')\n",
    "print(f'b: {b}')\n",
    "\n",
    "\n"
   ]
  },
  {
   "cell_type": "markdown",
   "metadata": {},
   "source": [
    "Låt oss nu göra detta supertydligt och skapa en funktion som returnerar massvis av värden"
   ]
  },
  {
   "cell_type": "code",
   "execution_count": 56,
   "metadata": {},
   "outputs": [],
   "source": [
    "def roligaste_funktionen(nummer):\n",
    "\n",
    "    gånger_tio = nummer*10\n",
    "    gånger_tjugo = nummer*20\n",
    "    gånger_trettio = nummer*30\n",
    "\n",
    "    delat_på_två = nummer/2\n",
    "    upphöjt_till_två = nummer**2\n",
    "\n",
    "    return gånger_tio, gånger_tjugo, gånger_trettio, delat_på_två, upphöjt_till_två\n"
   ]
  },
  {
   "cell_type": "code",
   "execution_count": 57,
   "metadata": {},
   "outputs": [
    {
     "name": "stdout",
     "output_type": "stream",
     "text": [
      "(50, 100, 150, 2.5, 25)\n"
     ]
    }
   ],
   "source": [
    "output = roligaste_funktionen(5)\n",
    "\n",
    "print(output)"
   ]
  },
  {
   "cell_type": "code",
   "execution_count": 59,
   "metadata": {},
   "outputs": [
    {
     "name": "stdout",
     "output_type": "stream",
     "text": [
      "a: 50\n",
      "b: 100\n",
      "c: 150\n",
      "d: 2.5\n",
      "e: 25\n"
     ]
    }
   ],
   "source": [
    "a, b, c, d, e = roligaste_funktionen(5)\n",
    "\n",
    "print(f'a: {a}')\n",
    "print(f'b: {b}')\n",
    "print(f'c: {c}')\n",
    "print(f'd: {d}')\n",
    "print(f'e: {e}')"
   ]
  },
  {
   "cell_type": "markdown",
   "metadata": {},
   "source": [
    "## Hur märks detta i listkomprehensioner?"
   ]
  },
  {
   "cell_type": "code",
   "execution_count": 61,
   "metadata": {},
   "outputs": [
    {
     "data": {
      "text/plain": [
       "[('chips', 20), ('choklad', 15), ('jordnötter', 40)]"
      ]
     },
     "execution_count": 61,
     "metadata": {},
     "output_type": "execute_result"
    }
   ],
   "source": [
    "snacks = ['chips', 'choklad', 'jordnötter']\n",
    "prices = [20, 15, 40]\n",
    "\n",
    "[combination for combination in zip(snacks, prices)]"
   ]
  },
  {
   "cell_type": "code",
   "execution_count": 62,
   "metadata": {},
   "outputs": [
    {
     "data": {
      "text/plain": [
       "['chips kostar 20 kronor.',\n",
       " 'choklad kostar 15 kronor.',\n",
       " 'jordnötter kostar 40 kronor.']"
      ]
     },
     "execution_count": 62,
     "metadata": {},
     "output_type": "execute_result"
    }
   ],
   "source": [
    "[f'{snack} kostar {price} kronor.'  for snack, price in zip(snacks, prices)]"
   ]
  },
  {
   "cell_type": "markdown",
   "metadata": {},
   "source": [
    "**Tivoli :)**\n",
    "\n",
    "Oj vad kul! Vi är nu vid entrén, och märker att priserna är rätt... godtyckliga."
   ]
  },
  {
   "cell_type": "code",
   "execution_count": 63,
   "metadata": {},
   "outputs": [
    {
     "data": {
      "text/plain": [
       "[(5, 100), (10, 120), (15, 150)]"
      ]
     },
     "execution_count": 63,
     "metadata": {},
     "output_type": "execute_result"
    }
   ],
   "source": [
    "number_of_persons = [5, 10, 15]   # sällskapsstorlek\n",
    "price_per_person = [100, 120, 150]   # pris per person, beroende på sällskapstorlek\n",
    "\n",
    "# vi ser ovan att det blir dyrare per person, ju större sällskap man är\n",
    "\n",
    "[combination for combination in zip(number_of_persons, price_per_person)]"
   ]
  },
  {
   "cell_type": "code",
   "execution_count": 64,
   "metadata": {},
   "outputs": [
    {
     "data": {
      "text/plain": [
       "[500, 1200, 2250]"
      ]
     },
     "execution_count": 64,
     "metadata": {},
     "output_type": "execute_result"
    }
   ],
   "source": [
    "# nedan beräknar vi totala sällskapspriset\n",
    "\n",
    "[number*price for number, price in zip(number_of_persons, price_per_person)]"
   ]
  },
  {
   "cell_type": "code",
   "execution_count": 65,
   "metadata": {},
   "outputs": [
    {
     "data": {
      "text/plain": [
       "[500, 1200, 2250]"
      ]
     },
     "execution_count": 65,
     "metadata": {},
     "output_type": "execute_result"
    }
   ],
   "source": [
    "# nedan beräknar vi totala sällskapspriset\n",
    "\n",
    "# men ofta, när det inte finns risk för förvirring, brukar jag (och många andra) använda i,j,k etc.. som dummy variables\n",
    "\n",
    "[i*j for i, j in zip(number_of_persons, price_per_person)]"
   ]
  },
  {
   "cell_type": "code",
   "execution_count": 67,
   "metadata": {},
   "outputs": [
    {
     "data": {
      "text/plain": [
       "[11025, 16900, 27225]"
      ]
     },
     "execution_count": 67,
     "metadata": {},
     "output_type": "execute_result"
    }
   ],
   "source": [
    "# nedan gör vi en random beräkning, bara för att vi kan!\n",
    "\n",
    "[(i+j)**2 for i, j in zip(number_of_persons, price_per_person)]"
   ]
  },
  {
   "cell_type": "markdown",
   "metadata": {},
   "source": [
    "Låt oss nu definiera en funktion som adderar två värden till varandra, och returnerar summan"
   ]
  },
  {
   "cell_type": "code",
   "execution_count": 68,
   "metadata": {},
   "outputs": [],
   "source": [
    "def addera(a,b):\n",
    "\n",
    "    summa = a+b\n",
    "\n",
    "    return summa"
   ]
  },
  {
   "cell_type": "code",
   "execution_count": 70,
   "metadata": {},
   "outputs": [
    {
     "data": {
      "text/plain": [
       "[6, 9, 12]"
      ]
     },
     "execution_count": 70,
     "metadata": {},
     "output_type": "execute_result"
    }
   ],
   "source": [
    "lista_ett = [1, 1, 1]\n",
    "lista_random = [5, 8, 11]\n",
    "\n",
    "[addera(i, j) for i, j in zip(lista_ett, lista_random)]"
   ]
  },
  {
   "cell_type": "markdown",
   "metadata": {},
   "source": [
    "En sista detalj på det här. Detta är nog inte så överraskande, men vi understryker ändå."
   ]
  },
  {
   "cell_type": "code",
   "execution_count": 71,
   "metadata": {},
   "outputs": [],
   "source": [
    "lista_ett = [1,1,1]\n",
    "lista_random = [5, 8, 11]\n",
    "lista_tiotal = [10, 20, 30]\n",
    "lista_nollor = [0, 0, 0]"
   ]
  },
  {
   "cell_type": "markdown",
   "metadata": {},
   "source": [
    "Precis som tidigare, så måste antalet dummy variables vara lika många som längden av de genererade tuplarna"
   ]
  },
  {
   "cell_type": "code",
   "execution_count": null,
   "metadata": {},
   "outputs": [
    {
     "ename": "ValueError",
     "evalue": "too many values to unpack (expected 3)",
     "output_type": "error",
     "traceback": [
      "\u001b[31m---------------------------------------------------------------------------\u001b[39m",
      "\u001b[31mValueError\u001b[39m                                Traceback (most recent call last)",
      "\u001b[36mCell\u001b[39m\u001b[36m \u001b[39m\u001b[32mIn[73]\u001b[39m\u001b[32m, line 3\u001b[39m\n\u001b[32m      1\u001b[39m \u001b[38;5;66;03m# detta blir error, vi har för få dummy variables\u001b[39;00m\n\u001b[32m----> \u001b[39m\u001b[32m3\u001b[39m [i+j+k \u001b[38;5;28;01mfor\u001b[39;00m i,j,k \u001b[38;5;129;01min\u001b[39;00m \u001b[38;5;28mzip\u001b[39m(lista_ett, lista_random, lista_tiotal, lista_nollor)]\n",
      "\u001b[31mValueError\u001b[39m: too many values to unpack (expected 3)"
     ]
    }
   ],
   "source": [
    "# detta blir error, vi har för få dummy variables\n",
    "\n",
    "[i+j+k for i, j, k in zip(lista_ett, lista_random, lista_tiotal, lista_nollor)]"
   ]
  },
  {
   "cell_type": "code",
   "execution_count": 76,
   "metadata": {},
   "outputs": [
    {
     "data": {
      "text/plain": [
       "[(1, 5, 10, 0), (1, 8, 20, 0), (1, 11, 30, 0)]"
      ]
     },
     "execution_count": 76,
     "metadata": {},
     "output_type": "execute_result"
    }
   ],
   "source": [
    "[i for i in zip(lista_ett, lista_random, lista_tiotal, lista_nollor)]"
   ]
  },
  {
   "cell_type": "code",
   "execution_count": null,
   "metadata": {},
   "outputs": [
    {
     "data": {
      "text/plain": [
       "[16, 29, 42]"
      ]
     },
     "execution_count": 78,
     "metadata": {},
     "output_type": "execute_result"
    }
   ],
   "source": [
    "# nedan assignar vi 4 dummy variables, vilket funkar!\n",
    "# dock använder vi inte alla i våra beräknar (specifikt l)\n",
    "# men det är HELT OK\n",
    "# python doesnt care - vad du väljer att göra med variablerna är helt upp till dig\n",
    "\n",
    "[i+j+k for i, j, k, l in zip(lista_ett, lista_random, lista_tiotal, lista_nollor)]"
   ]
  },
  {
   "cell_type": "markdown",
   "metadata": {},
   "source": [
    "## Numpy"
   ]
  },
  {
   "cell_type": "markdown",
   "metadata": {},
   "source": [
    "Numpy (numerical python) är ett viktigt paket för numeriska beräkningar i Python. Specifikt när man vill jobba med Linjär Algebra. "
   ]
  },
  {
   "cell_type": "code",
   "execution_count": 81,
   "metadata": {},
   "outputs": [
    {
     "name": "stdout",
     "output_type": "stream",
     "text": [
      "[1, 2, 3, 4, 5, 6]\n",
      "(1, 2, 3, 4, 5, 6)\n"
     ]
    }
   ],
   "source": [
    "lista_1 = [1, 2, 3]\n",
    "lista_2 = [4, 5, 6]\n",
    "\n",
    "# listorna konkateneras, inte adderas! Dvs, läggs ihop på bredden.\n",
    "\n",
    "print(lista_1 + lista_2)\n",
    "\n",
    "tuple_1 = (1, 2, 3)\n",
    "tuple_2 = (4, 5, 6)\n",
    "\n",
    "print(tuple_1 + tuple_2)\n",
    "\n",
    "# listor och tuplar beter sig likadant vid addition, de konkateneras på bredden"
   ]
  },
  {
   "cell_type": "code",
   "execution_count": 83,
   "metadata": {},
   "outputs": [
    {
     "name": "stdout",
     "output_type": "stream",
     "text": [
      "[1, 2, 3, 1, 2, 3, 1, 2, 3]\n",
      "(1, 2, 3, 1, 2, 3, 1, 2, 3)\n"
     ]
    }
   ],
   "source": [
    "# multiplicerar vi en lista eller tupel med ett tal, kommer listan att konketeeras med sig själv, \n",
    "# lika många gånger som talet vi multiplicerar med.\n",
    "\n",
    "print(lista_1*3)\n",
    "print(tuple_1*3)"
   ]
  },
  {
   "cell_type": "markdown",
   "metadata": {},
   "source": [
    "**Nu kör vi med Numpy!**"
   ]
  },
  {
   "cell_type": "code",
   "execution_count": 86,
   "metadata": {},
   "outputs": [
    {
     "name": "stdout",
     "output_type": "stream",
     "text": [
      "[1 2 3 5 8]\n",
      "<class 'numpy.ndarray'>\n"
     ]
    }
   ],
   "source": [
    "# numpy är ett standardpaketet, likt ex random, som man enkelt kan importera in direkt\n",
    "\n",
    "import numpy as np      # det är väldigt vanligt att ge numpy aliaset np vid importering - gör det ni också\n",
    "\n",
    "vector = np.array([1, 2, 3, 5, 8])    # här skapar vi ett objekt av datatypen \"array\"\n",
    "\n",
    "print(vector)\n",
    "print(type(vector))"
   ]
  },
  {
   "cell_type": "markdown",
   "metadata": {},
   "source": [
    "Ok, låt oss utforska denna nya datatyp lite grann.\n",
    "\n",
    "Vi kan indexera numpy arrays precis som tidigare för listor och tuples"
   ]
  },
  {
   "cell_type": "code",
   "execution_count": 89,
   "metadata": {},
   "outputs": [
    {
     "name": "stdout",
     "output_type": "stream",
     "text": [
      "1\n",
      "[1 2]\n",
      "8\n"
     ]
    }
   ],
   "source": [
    "print(vector[0])\n",
    "print(vector[:2])\n",
    "print(vector[-1])"
   ]
  },
  {
   "cell_type": "markdown",
   "metadata": {},
   "source": [
    "En array **ÄR** förändringsbar, precis som en lista - men INTE som tuples."
   ]
  },
  {
   "cell_type": "code",
   "execution_count": 91,
   "metadata": {},
   "outputs": [
    {
     "name": "stdout",
     "output_type": "stream",
     "text": [
      "[1 2 3 5 8]\n",
      "[20  2  3  5  8]\n"
     ]
    }
   ],
   "source": [
    "print(vector)\n",
    "vector[0] = 20\n",
    "print(vector)"
   ]
  },
  {
   "cell_type": "markdown",
   "metadata": {},
   "source": [
    "Om vi multiplicerar en numpy array (eller en vektor) med ett tal, kommer det att ske **elementvis multiplikation**"
   ]
  },
  {
   "cell_type": "code",
   "execution_count": 93,
   "metadata": {},
   "outputs": [
    {
     "name": "stdout",
     "output_type": "stream",
     "text": [
      "[20  2  3  5  8]\n",
      "[400  40  60 100 160]\n",
      "[20  2  3  5  8]\n"
     ]
    }
   ],
   "source": [
    "print(vector)\n",
    "print(vector*20)\n",
    "print(vector)"
   ]
  },
  {
   "cell_type": "markdown",
   "metadata": {},
   "source": [
    "Vad händer om vi adderar numpy arrays till varandra?"
   ]
  },
  {
   "cell_type": "code",
   "execution_count": 96,
   "metadata": {},
   "outputs": [
    {
     "name": "stdout",
     "output_type": "stream",
     "text": [
      "[ 3  5 10]\n",
      "[-1 -3 -8]\n"
     ]
    }
   ],
   "source": [
    "vector_one = np.array([1, 1, 1])\n",
    "vector_random = np.array([2, 4, 9])\n",
    "\n",
    "# under addition av numpy arrays sker alltså återigen elementvis addition\n",
    "\n",
    "print(vector_one + vector_random)\n",
    "\n",
    "# ditto för subtraktion\n",
    "\n",
    "print(vector_one - vector_random)"
   ]
  },
  {
   "cell_type": "markdown",
   "metadata": {},
   "source": [
    "---"
   ]
  },
  {
   "cell_type": "markdown",
   "metadata": {},
   "source": [
    "Det finns många olika sätt att snabbt skapa arrays på. Ett av de är följande"
   ]
  },
  {
   "cell_type": "code",
   "execution_count": 98,
   "metadata": {},
   "outputs": [
    {
     "name": "stdout",
     "output_type": "stream",
     "text": [
      "[1. 1. 1. 1. 1.]\n"
     ]
    }
   ],
   "source": [
    "# ones() är en metod till np som skapar en numpy array som består av ett givet antal ettor\n",
    "\n",
    "ettor = np.ones(5)   # skapar en np array av längd 5 och består enbart av ettor\n",
    "\n",
    "print(ettor)"
   ]
  },
  {
   "cell_type": "code",
   "execution_count": 99,
   "metadata": {},
   "outputs": [
    {
     "name": "stdout",
     "output_type": "stream",
     "text": [
      "[0. 0. 0. 0. 0.]\n"
     ]
    }
   ],
   "source": [
    "nollor = np.zeros(5)   # skapar en np array av längd 5 och består enbart av nollor\n",
    "\n",
    "print(nollor)"
   ]
  },
  {
   "cell_type": "markdown",
   "metadata": {},
   "source": [
    "**Omvandla listor till arrays**"
   ]
  },
  {
   "cell_type": "code",
   "execution_count": 100,
   "metadata": {},
   "outputs": [
    {
     "name": "stdout",
     "output_type": "stream",
     "text": [
      "[0, 1, 2, 3, 4]\n"
     ]
    }
   ],
   "source": [
    "mina_siffror_i_en_lista = [x for x in range(5)]\n",
    "print(mina_siffror_i_en_lista)"
   ]
  },
  {
   "cell_type": "code",
   "execution_count": 101,
   "metadata": {},
   "outputs": [
    {
     "name": "stdout",
     "output_type": "stream",
     "text": [
      "[0 1 2 3 4]\n",
      "<class 'numpy.ndarray'>\n"
     ]
    }
   ],
   "source": [
    "# för att ändra en lista till en numpy array, använder vi np.array() metoden\n",
    "# där vi helt enkelt ger vår lista som argument till metoden\n",
    "\n",
    "mina_siffor_i_en_array = np.array(mina_siffror_i_en_lista)\n",
    "print(mina_siffor_i_en_array)\n",
    "print(type(mina_siffor_i_en_array))"
   ]
  },
  {
   "cell_type": "markdown",
   "metadata": {},
   "source": [
    "Fungerar arrays enbart för siffror.. ?"
   ]
  },
  {
   "cell_type": "code",
   "execution_count": 102,
   "metadata": {},
   "outputs": [
    {
     "name": "stdout",
     "output_type": "stream",
     "text": [
      "['a', 'b', 'c']\n"
     ]
    }
   ],
   "source": [
    "mina_strängar_i_en_lista = [x for x in 'abc']\n",
    "print(mina_strängar_i_en_lista)"
   ]
  },
  {
   "cell_type": "code",
   "execution_count": 103,
   "metadata": {},
   "outputs": [
    {
     "name": "stdout",
     "output_type": "stream",
     "text": [
      "['a' 'b' 'c']\n"
     ]
    }
   ],
   "source": [
    "mina_strängar_i_en_array = np.array(mina_strängar_i_en_lista)\n",
    "print(mina_strängar_i_en_array)"
   ]
  },
  {
   "cell_type": "markdown",
   "metadata": {},
   "source": [
    "Svar: Ja, det går att skapa arrays med annat än siffror"
   ]
  },
  {
   "cell_type": "markdown",
   "metadata": {},
   "source": [
    "**Vad händer om vi försöker lägga ihop arrays som består av av olika datatyper?**"
   ]
  },
  {
   "cell_type": "code",
   "execution_count": 104,
   "metadata": {},
   "outputs": [
    {
     "ename": "UFuncTypeError",
     "evalue": "ufunc 'add' did not contain a loop with signature matching types (dtype('int64'), dtype('<U1')) -> None",
     "output_type": "error",
     "traceback": [
      "\u001b[31m---------------------------------------------------------------------------\u001b[39m",
      "\u001b[31mUFuncTypeError\u001b[39m                            Traceback (most recent call last)",
      "\u001b[36mCell\u001b[39m\u001b[36m \u001b[39m\u001b[32mIn[104]\u001b[39m\u001b[32m, line 1\u001b[39m\n\u001b[32m----> \u001b[39m\u001b[32m1\u001b[39m mina_siffor_i_en_array + mina_strängar_i_en_array\n",
      "\u001b[31mUFuncTypeError\u001b[39m: ufunc 'add' did not contain a loop with signature matching types (dtype('int64'), dtype('<U1')) -> None"
     ]
    }
   ],
   "source": [
    "mina_siffor_i_en_array + mina_strängar_i_en_array"
   ]
  },
  {
   "cell_type": "markdown",
   "metadata": {},
   "source": [
    "Det går inte, vilket kanske inte är så förvånande."
   ]
  },
  {
   "cell_type": "markdown",
   "metadata": {},
   "source": [
    "**Linspace**"
   ]
  },
  {
   "cell_type": "markdown",
   "metadata": {},
   "source": [
    "linspace är en funktion som fungerar ungefär som range(), och används för att generera en mängd med siffror"
   ]
  },
  {
   "cell_type": "code",
   "execution_count": 108,
   "metadata": {},
   "outputs": [
    {
     "data": {
      "text/plain": [
       "array([0, 1, 2, 3, 4, 5, 6, 7, 8, 9])"
      ]
     },
     "execution_count": 108,
     "metadata": {},
     "output_type": "execute_result"
    }
   ],
   "source": [
    "# detta är ett till sätt att skapa en array av siffror på \n",
    "\n",
    "np.array([x for x in range(10)])"
   ]
  },
  {
   "cell_type": "markdown",
   "metadata": {},
   "source": [
    "Ett snyggare, och kanske mer effektivt sätt, är genom att använda linspace()\n"
   ]
  },
  {
   "cell_type": "code",
   "execution_count": 112,
   "metadata": {},
   "outputs": [
    {
     "data": {
      "text/plain": [
       "array([ 0.        ,  0.20408163,  0.40816327,  0.6122449 ,  0.81632653,\n",
       "        1.02040816,  1.2244898 ,  1.42857143,  1.63265306,  1.83673469,\n",
       "        2.04081633,  2.24489796,  2.44897959,  2.65306122,  2.85714286,\n",
       "        3.06122449,  3.26530612,  3.46938776,  3.67346939,  3.87755102,\n",
       "        4.08163265,  4.28571429,  4.48979592,  4.69387755,  4.89795918,\n",
       "        5.10204082,  5.30612245,  5.51020408,  5.71428571,  5.91836735,\n",
       "        6.12244898,  6.32653061,  6.53061224,  6.73469388,  6.93877551,\n",
       "        7.14285714,  7.34693878,  7.55102041,  7.75510204,  7.95918367,\n",
       "        8.16326531,  8.36734694,  8.57142857,  8.7755102 ,  8.97959184,\n",
       "        9.18367347,  9.3877551 ,  9.59183673,  9.79591837, 10.        ])"
      ]
     },
     "execution_count": 112,
     "metadata": {},
     "output_type": "execute_result"
    }
   ],
   "source": [
    "# följande kod kommer att skapa en array med (by default) 50 stycken siffror mellan 0 och 10 - i lika stora steg\n",
    "\n",
    "np.linspace(0, 10)"
   ]
  },
  {
   "cell_type": "code",
   "execution_count": 115,
   "metadata": {},
   "outputs": [
    {
     "data": {
      "text/plain": [
       "array([ 0. ,  2.5,  5. ,  7.5, 10. ])"
      ]
     },
     "execution_count": 115,
     "metadata": {},
     "output_type": "execute_result"
    }
   ],
   "source": [
    "# genom att ge ett till argument kan vi kontrollera antalet tal som skapas mellan ditt start och ditt stopp\n",
    "# nedan väljer vi att skapa en array med 5 stycken siffror mellan 0 och 10\n",
    "\n",
    "np.linspace(0, 10, 5)"
   ]
  },
  {
   "cell_type": "code",
   "execution_count": null,
   "metadata": {},
   "outputs": [
    {
     "data": {
      "text/plain": [
       "array([ 0.,  1.,  2.,  3.,  4.,  5.,  6.,  7.,  8.,  9., 10.])"
      ]
     },
     "execution_count": 116,
     "metadata": {},
     "output_type": "execute_result"
    }
   ],
   "source": [
    "np.linspace(0, 10 , 11)"
   ]
  },
  {
   "cell_type": "markdown",
   "metadata": {},
   "source": [
    "Generellt sett ser det ut på följande sätt\n",
    "\n",
    "np.linspace(start, stop, num)\n",
    "\n",
    "där start är din startpunkt, stop är din slutpunkt och num är antalet punkter du vill skapa mellan start och stop, inklusive"
   ]
  },
  {
   "cell_type": "code",
   "execution_count": 120,
   "metadata": {},
   "outputs": [],
   "source": [
    "meddelande = \"\"\"BRA JOBBAT\n",
    "\n",
    "STICK HEM NU :)\"\"\""
   ]
  },
  {
   "cell_type": "markdown",
   "metadata": {},
   "source": [
    "## Mean & Sum"
   ]
  },
  {
   "cell_type": "code",
   "execution_count": 117,
   "metadata": {},
   "outputs": [
    {
     "name": "stdout",
     "output_type": "stream",
     "text": [
      "[ 1  6 20]\n"
     ]
    }
   ],
   "source": [
    "min_array = np.array([1, 6, 20])\n",
    "print(min_array)"
   ]
  },
  {
   "cell_type": "code",
   "execution_count": 119,
   "metadata": {},
   "outputs": [
    {
     "name": "stdout",
     "output_type": "stream",
     "text": [
      "Medelvärdet av min array är 9.0.\n",
      "Summan av min array är 27.\n"
     ]
    }
   ],
   "source": [
    "print(f'Medelvärdet av min array är {np.mean(min_array)}.')\n",
    "print(f'Summan av min array är {np.sum(min_array)}.')"
   ]
  },
  {
   "cell_type": "code",
   "execution_count": 121,
   "metadata": {},
   "outputs": [
    {
     "name": "stdout",
     "output_type": "stream",
     "text": [
      "BRA JOBBAT\n",
      "\n",
      "STICK HEM NU :)\n"
     ]
    }
   ],
   "source": [
    "print(meddelande)"
   ]
  }
 ],
 "metadata": {
  "kernelspec": {
   "display_name": "programmering",
   "language": "python",
   "name": "python3"
  },
  "language_info": {
   "codemirror_mode": {
    "name": "ipython",
    "version": 3
   },
   "file_extension": ".py",
   "mimetype": "text/x-python",
   "name": "python",
   "nbconvert_exporter": "python",
   "pygments_lexer": "ipython3",
   "version": "3.13.5"
  }
 },
 "nbformat": 4,
 "nbformat_minor": 2
}
