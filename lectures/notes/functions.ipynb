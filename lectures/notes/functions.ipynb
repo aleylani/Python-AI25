{
 "cells": [
  {
   "cell_type": "markdown",
   "metadata": {},
   "source": [
    "## Funktioner\n"
   ]
  },
  {
   "cell_type": "markdown",
   "metadata": {},
   "source": [
    "Vad är en funktion?\n",
    "\n",
    "En funktion är inget annat än en snutt återanvändbar kod, som man kan åberopa vid behov.\n",
    "\n",
    "Vi har redan stött på en hel del funktioner tidigare, ex. print(), range(), len() min(), max() osv."
   ]
  },
  {
   "cell_type": "code",
   "execution_count": null,
   "metadata": {},
   "outputs": [],
   "source": [
    "print('AI25')"
   ]
  },
  {
   "cell_type": "code",
   "execution_count": null,
   "metadata": {},
   "outputs": [],
   "source": [
    "# ytterligare exempel är ex round()\n",
    "\n",
    "round(3.14159)"
   ]
  },
  {
   "cell_type": "markdown",
   "metadata": {},
   "source": [
    "Generellt sätt har en funktion följande utseende\n",
    "\n",
    "$ funktionsnamn(argument_1, argument_2, ...) $\n",
    "\n",
    "funktioner kan alltså ha ett, eller fler argument (eller inga alls för delen)"
   ]
  },
  {
   "cell_type": "code",
   "execution_count": null,
   "metadata": {},
   "outputs": [],
   "source": [
    "# i vårt exempel ovan, har print() endast ett argument\n",
    "\n",
    "print('AI25')\n",
    "\n",
    "# men, vi kan som sagt ha fler argument för de funktioner som stödjer det\n",
    "\n",
    "print(round(3.14159, 2))\n"
   ]
  },
  {
   "cell_type": "markdown",
   "metadata": {},
   "source": [
    "Notera att ordningen av argumenten är mycket viktiga! \n",
    "\n",
    "**Kontroll:** Testa byta ordning på argumenten till round()-funktionen ovan. Vad händer? Varför?"
   ]
  },
  {
   "cell_type": "markdown",
   "metadata": {},
   "source": [
    "---"
   ]
  },
  {
   "cell_type": "markdown",
   "metadata": {},
   "source": [
    "## Vi kan bygga våra egna funktioner!"
   ]
  },
  {
   "cell_type": "markdown",
   "metadata": {},
   "source": [
    "Anledning till varför vi skulle vilja göra det är för att kunna återanvända funktionalitet som vi byggt, vid flera olika tillfällen, och samtidigt inte behöva skriva om samma kod varje gång."
   ]
  },
  {
   "cell_type": "code",
   "execution_count": null,
   "metadata": {},
   "outputs": [],
   "source": [
    "print('Hej kära du!')\n",
    "name = input('Vad heter du?')\n",
    "\n",
    "print(f'Angenämnt, {name}')"
   ]
  },
  {
   "cell_type": "code",
   "execution_count": null,
   "metadata": {},
   "outputs": [],
   "source": [
    "# Vi gör om ovan kod till en funktion, som vi kan återanvända när vi vill\n",
    "\n",
    "def greeting():\n",
    "\n",
    "    print('Hej kära du!')\n",
    "    name = input('Vad heter du? ')\n",
    "\n",
    "    print(f'Angenämnt, {name}')\n",
    "\n"
   ]
  },
  {
   "cell_type": "code",
   "execution_count": null,
   "metadata": {},
   "outputs": [],
   "source": [
    "greeting()"
   ]
  },
  {
   "cell_type": "markdown",
   "metadata": {},
   "source": [
    "---"
   ]
  },
  {
   "cell_type": "markdown",
   "metadata": {},
   "source": [
    "## Funktioner med möjlighet att ta emot argument"
   ]
  },
  {
   "cell_type": "markdown",
   "metadata": {},
   "source": [
    "Låt oss nu anta att vi ämnar att skapa en funktion som adderar två tal, och att dessa tal ska anges som argument.\n",
    "\n",
    "För att visa Python att vi vill att funktionen ska acceptera två argument, anger vi det helt enkelt när vi definierar funktionen."
   ]
  },
  {
   "cell_type": "code",
   "execution_count": null,
   "metadata": {},
   "outputs": [],
   "source": [
    "def addera_nummer(number_1, number_2):\n",
    "\n",
    "    print(f'number_1: {number_1}')\n",
    "    print(f'number_2: {number_2}')\n",
    "\n",
    "    summa = number_1 + number_2\n",
    "\n",
    "    print(f'Summan är {summa}')"
   ]
  },
  {
   "cell_type": "code",
   "execution_count": null,
   "metadata": {},
   "outputs": [],
   "source": [
    "addera_nummer(5, 7)"
   ]
  },
  {
   "cell_type": "markdown",
   "metadata": {},
   "source": [
    "Lägg ovan märke till att Python assignade \n",
    "\n",
    "* variabeln number_1 till det första argumentet vi gav funktionen när vi kallade på den, i detta fall 5\n",
    "* variabeln number_2 till den andra argumentet vi gav funktionen när vi kallade på den, i detta fall 7"
   ]
  },
  {
   "cell_type": "markdown",
   "metadata": {},
   "source": [
    "Observera att funktionsvariablerna är **lokala**, dvs att de endast i funktionen och kan inte kommas åt utanför. "
   ]
  },
  {
   "cell_type": "code",
   "execution_count": null,
   "metadata": {},
   "outputs": [],
   "source": [
    "print(number_1)"
   ]
  },
  {
   "cell_type": "code",
   "execution_count": null,
   "metadata": {},
   "outputs": [],
   "source": [
    "addera_nummer()       # kommer ej funka, vi får error. funktionen KRÄVER att vi anger två argument"
   ]
  },
  {
   "cell_type": "code",
   "execution_count": null,
   "metadata": {},
   "outputs": [],
   "source": [
    "addera_nummer(5, 7)"
   ]
  },
  {
   "cell_type": "markdown",
   "metadata": {},
   "source": [
    "---"
   ]
  },
  {
   "cell_type": "markdown",
   "metadata": {},
   "source": [
    "## Ordningen av argument"
   ]
  },
  {
   "cell_type": "markdown",
   "metadata": {},
   "source": [
    "För att förstå varför det är viktigt med ordningen vi anger variabler, låt oss skapa en funktion som istället subtraherar två tal"
   ]
  },
  {
   "cell_type": "code",
   "execution_count": null,
   "metadata": {},
   "outputs": [],
   "source": [
    "def subtrahera_nummer(number_1, number_2):\n",
    "\n",
    "    print(f'number_1: {number_1}')\n",
    "    print(f'number_2: {number_2}')\n",
    "\n",
    "    differens = number_1 - number_2\n",
    "\n",
    "    print(f'Differensen är: {differens}')"
   ]
  },
  {
   "cell_type": "code",
   "execution_count": null,
   "metadata": {},
   "outputs": [],
   "source": [
    "subtrahera_nummer(7, 5)"
   ]
  },
  {
   "cell_type": "markdown",
   "metadata": {},
   "source": [
    "**Ordningen som argument anges är således mycket viktigt**"
   ]
  },
  {
   "cell_type": "markdown",
   "metadata": {},
   "source": [
    "---"
   ]
  },
  {
   "cell_type": "markdown",
   "metadata": {},
   "source": [
    "## Default argument values"
   ]
  },
  {
   "cell_type": "markdown",
   "metadata": {},
   "source": [
    "Vi kan definiera funktioner som tar emot *default* values, dvs förbestäma värden."
   ]
  },
  {
   "cell_type": "code",
   "execution_count": null,
   "metadata": {},
   "outputs": [],
   "source": [
    "# låt oss skapa en funktion som tar emot tre argument, och multiplicerar ihop samtliga.\n",
    "# därtill ger vi ett av argumenten till ett förbestämt värde.\n",
    "\n",
    "def multiply(x, y, z=10):\n",
    "\n",
    "    print(f'x: {x}')\n",
    "    print(f'y: {y}')\n",
    "    print(f'z: {z}')\n",
    "\n",
    "    product = x*y*z\n",
    "\n",
    "    print(f'The product of {x}, {y}, and {z} is {product}')\n",
    "\n"
   ]
  },
  {
   "cell_type": "code",
   "execution_count": null,
   "metadata": {},
   "outputs": [],
   "source": [
    "multiply(5, 4)       # behöver ej ange z eftersom att den har ett förbestämt värde"
   ]
  },
  {
   "cell_type": "code",
   "execution_count": null,
   "metadata": {},
   "outputs": [],
   "source": [
    "multiply(5, 4, 6)   # det förbestämda (default) värdet skrivs över med det jag anger"
   ]
  },
  {
   "cell_type": "markdown",
   "metadata": {},
   "source": [
    "**OBS**\n",
    "\n",
    "Du behöver inte alltid explicit ange variabelnamn i argumenten, python kommer automatiskt försöka matcha åt dig"
   ]
  },
  {
   "cell_type": "code",
   "execution_count": null,
   "metadata": {},
   "outputs": [],
   "source": [
    "multiply(x=2, y=3, z=4)"
   ]
  },
  {
   "cell_type": "code",
   "execution_count": null,
   "metadata": {},
   "outputs": [],
   "source": [
    "multiply(x=2, z=4, y=3)"
   ]
  },
  {
   "cell_type": "markdown",
   "metadata": {},
   "source": [
    "Python kommer att försöka matcha de argument du ger till funktionen, till de argument som funktionen förväntar sig.\n",
    "\n",
    "Som vi ser nedan så gör Python det i tur-och-ordning. Det första argumentet vi gav funktionen när vi kallade på den assignade Python till det första argumentet den förväntar sig (x). Sen fortsatte den i satta vårt andra angivna argument till det andra argumenten den förväntar sig (y)"
   ]
  },
  {
   "cell_type": "code",
   "execution_count": null,
   "metadata": {},
   "outputs": [],
   "source": [
    "multiply(2, 3)"
   ]
  },
  {
   "cell_type": "markdown",
   "metadata": {},
   "source": [
    "Att implicit (som ovan) ange argument till en funktion går oftast bra, men i andra fall är det bra att göra det explicit!"
   ]
  },
  {
   "cell_type": "markdown",
   "metadata": {},
   "source": [
    "---"
   ]
  },
  {
   "cell_type": "markdown",
   "metadata": {},
   "source": [
    "## Blanda EJ ihop ordningen på explicit resp implicit angiva argument"
   ]
  },
  {
   "cell_type": "markdown",
   "metadata": {},
   "source": [
    "För att inte förvirra Python och skapa error är det viktigt att vi inte gör som nedan, där vi explicit angett z=10, och sedan gett två implicita (ej namngivna)argument ytterligare.\n",
    "\n",
    "Python blir förvirrad och förstår inte hur den ska hantera detta fall (den vet inte vilket argument den ska assigna till x, och vilken till y)"
   ]
  },
  {
   "cell_type": "code",
   "execution_count": null,
   "metadata": {},
   "outputs": [],
   "source": [
    "def multiply(x, y, z=20):\n",
    "\n",
    "    print(f'x: {x}')\n",
    "    print(f'y: {y}')\n",
    "    print(f'z: {z}')\n",
    "\n",
    "    product = x*y*z\n",
    "\n",
    "    print(f'The product of {x}, {y}, and {z} is {product}')"
   ]
  },
  {
   "cell_type": "code",
   "execution_count": null,
   "metadata": {},
   "outputs": [],
   "source": [
    "multiply(z=6, 2, 3)   # funkar ej, Python blir superförvirrad"
   ]
  },
  {
   "cell_type": "markdown",
   "metadata": {},
   "source": [
    "När ni kallar på en funktion, är det därför superviktigt att argumenten som anges explicit görs efter de som implicit anges"
   ]
  },
  {
   "cell_type": "code",
   "execution_count": null,
   "metadata": {},
   "outputs": [],
   "source": [
    "multiply(10, 20, z=2)   # detta kommer funka"
   ]
  },
  {
   "cell_type": "markdown",
   "metadata": {},
   "source": [
    "**Låt oss backa lite..**"
   ]
  },
  {
   "cell_type": "code",
   "execution_count": null,
   "metadata": {},
   "outputs": [],
   "source": [
    "# by default är end='\\n' (ny rad), men vi kan enkelt överskriva den\n",
    "# kom dock ihåg att eftersom att end nu anges explicit, måste den komma efter den implicit angivna strängen\n",
    "\n",
    "print('Detta har ni sett innan, om ni tänker efter', end='***')\n",
    "print('Detta är min andra print')"
   ]
  },
  {
   "cell_type": "code",
   "execution_count": null,
   "metadata": {},
   "outputs": [],
   "source": [
    "print('Detta har ni sett innan, om ni tänker efter', end='***\\n\\n\\n+++\\n\\nALI ÄR BÄST\\n\\n')\n",
    "print('Detta är min andra print')"
   ]
  },
  {
   "cell_type": "markdown",
   "metadata": {},
   "source": [
    "---"
   ]
  },
  {
   "cell_type": "markdown",
   "metadata": {},
   "source": [
    "## Return"
   ]
  },
  {
   "cell_type": "markdown",
   "metadata": {},
   "source": [
    "Ofta vill man att våra funktioner ska *returnera* en output, som vi kan ta emot och berbeta vidare på något sätt.\n",
    "\n",
    "För att visa Python vad vi vill att den *returnerar* som output, gör ni det enkelt med en **return** markering vid slutet av funktionen."
   ]
  },
  {
   "cell_type": "code",
   "execution_count": null,
   "metadata": {},
   "outputs": [],
   "source": [
    "# låt oss definiera en funktion som beräknar och returnerar arean av en triangel\n",
    "\n",
    "def beräkna_triangel_area(bas, höjd):\n",
    "\n",
    "    print(f'Bas: {bas}')\n",
    "    print(f'Höjd: {höjd}')\n",
    "\n",
    "    area = (bas*höjd)/2\n",
    "\n",
    "    print(f'Area: {area}')\n",
    "\n",
    "    return area\n"
   ]
  },
  {
   "cell_type": "code",
   "execution_count": null,
   "metadata": {},
   "outputs": [],
   "source": [
    "min_area = beräkna_triangel_area(10, 20)"
   ]
  },
  {
   "cell_type": "code",
   "execution_count": null,
   "metadata": {},
   "outputs": [],
   "source": [
    "print(min_area)"
   ]
  },
  {
   "cell_type": "markdown",
   "metadata": {},
   "source": [
    "Vi som användare kan sedan 'fånga upp' outputen från funktionen (det som funktionen returnar) på detta vis\n",
    "\n",
    "Vi assignar helt enkelt en variabel till att anta värdet som returneras av funktionen\n",
    "\n",
    "**Tänk på att ni bestämmer själva vad som funktionen returnerar!**"
   ]
  },
  {
   "cell_type": "markdown",
   "metadata": {},
   "source": [
    "___"
   ]
  },
  {
   "cell_type": "markdown",
   "metadata": {},
   "source": [
    "## Fullt möjligt att returnera fler objekt"
   ]
  },
  {
   "cell_type": "code",
   "execution_count": null,
   "metadata": {},
   "outputs": [],
   "source": [
    "def personal_info_grabber():\n",
    "\n",
    "    name = input('Name: ')\n",
    "    age = int(input('Age: '))\n",
    "    city = input('City: ')\n",
    "\n",
    "    return name, age, city\n"
   ]
  },
  {
   "cell_type": "code",
   "execution_count": null,
   "metadata": {},
   "outputs": [],
   "source": [
    "namn, ålder, stad = personal_info_grabber()"
   ]
  },
  {
   "cell_type": "code",
   "execution_count": null,
   "metadata": {},
   "outputs": [],
   "source": [
    "print(f'namn: {namn}')\n",
    "print(f'ålder: {ålder}')\n",
    "print(f'stad: {stad}')\n"
   ]
  },
  {
   "cell_type": "markdown",
   "metadata": {},
   "source": [
    "Som ovan fungerar det jättebra att \"ta emot\" med lika många variabler som det returneras, MEN det finns faktiskt ett sätt till att ta emot när fler objekt returneras (vad som är det bästa är lite upp till kontexten)"
   ]
  },
  {
   "cell_type": "code",
   "execution_count": null,
   "metadata": {},
   "outputs": [],
   "source": [
    "# det andra sättet är att endast ta emot med EN variabel, trots att fler returneras\n",
    "\n",
    "all_info = personal_info_grabber()"
   ]
  },
  {
   "cell_type": "code",
   "execution_count": null,
   "metadata": {},
   "outputs": [],
   "source": [
    "print(all_info)"
   ]
  },
  {
   "cell_type": "markdown",
   "metadata": {},
   "source": [
    "---"
   ]
  },
  {
   "cell_type": "markdown",
   "metadata": {},
   "source": [
    "## *args"
   ]
  },
  {
   "cell_type": "markdown",
   "metadata": {},
   "source": [
    "används när man vill att en funktion ska kunna ta emot ett på förhand ej förutbestämt antal argument - dvs godtyckligt antal argument."
   ]
  },
  {
   "cell_type": "code",
   "execution_count": null,
   "metadata": {},
   "outputs": [],
   "source": [
    "def my_greeter(*args):\n",
    "\n",
    "    print(args)\n",
    "    print(type(args))\n",
    "\n",
    "    for argument in args:\n",
    "        print(f'Hej {argument}')"
   ]
  },
  {
   "cell_type": "code",
   "execution_count": null,
   "metadata": {},
   "outputs": [],
   "source": [
    "min_retur = my_greeter('Ali', 'Rozann', 'Amir', 'Sawashi', 23)"
   ]
  },
  {
   "cell_type": "code",
   "execution_count": null,
   "metadata": {},
   "outputs": [],
   "source": [
    "def summerare(*args):\n",
    "\n",
    "    min_summa = 0\n",
    "\n",
    "    for siffra in args:\n",
    "        min_summa += siffra\n",
    "\n",
    "    return min_summa"
   ]
  },
  {
   "cell_type": "code",
   "execution_count": null,
   "metadata": {},
   "outputs": [],
   "source": [
    "summa = summerare(1, 2, 3, 4, 5)"
   ]
  },
  {
   "cell_type": "code",
   "execution_count": null,
   "metadata": {},
   "outputs": [],
   "source": [
    "print(summa)"
   ]
  },
  {
   "cell_type": "markdown",
   "metadata": {},
   "source": [
    "---"
   ]
  },
  {
   "cell_type": "markdown",
   "metadata": {},
   "source": [
    "## Viktigt detalj - skjut inte er själva i foten..."
   ]
  },
  {
   "cell_type": "markdown",
   "metadata": {},
   "source": [
    "Var noga med att **inte** assigna bort era funktioner!!!!\n",
    "\n",
    "Vi vet att ex. print() är en funktion (dessutom inbyggd), men det är fullt möjligt att re-assigna om den till något annat"
   ]
  },
  {
   "cell_type": "code",
   "execution_count": null,
   "metadata": {},
   "outputs": [],
   "source": [
    "print('Test')"
   ]
  },
  {
   "cell_type": "code",
   "execution_count": null,
   "metadata": {},
   "outputs": [],
   "source": [
    "print = 20"
   ]
  },
  {
   "cell_type": "code",
   "execution_count": null,
   "metadata": {},
   "outputs": [],
   "source": [
    "print('Test')"
   ]
  },
  {
   "cell_type": "markdown",
   "metadata": {},
   "source": [
    "kommer inte print längre att fungera som funktion, eftersom att ni nu assignat den till ett något annat (en integer i detta fall)\n",
    "\n",
    "Vi får således error när vi försöker använda vår print-funktion"
   ]
  },
  {
   "cell_type": "markdown",
   "metadata": {},
   "source": []
  }
 ],
 "metadata": {
  "kernelspec": {
   "display_name": "programmering",
   "language": "python",
   "name": "python3"
  },
  "language_info": {
   "codemirror_mode": {
    "name": "ipython",
    "version": 3
   },
   "file_extension": ".py",
   "mimetype": "text/x-python",
   "name": "python",
   "nbconvert_exporter": "python",
   "pygments_lexer": "ipython3",
   "version": "3.13.5"
  },
  "orig_nbformat": 4
 },
 "nbformat": 4,
 "nbformat_minor": 2
}
