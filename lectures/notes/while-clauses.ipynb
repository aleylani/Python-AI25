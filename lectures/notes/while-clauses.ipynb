{
 "cells": [
  {
   "cell_type": "markdown",
   "id": "0ac07785",
   "metadata": {},
   "source": [
    "## Operationer\n",
    "\n",
    "Vi kan re-assigna variabler (uppdatera deras värden) på fler sätt, bland annat även följande"
   ]
  },
  {
   "cell_type": "code",
   "execution_count": null,
   "id": "cbb2484b",
   "metadata": {},
   "outputs": [],
   "source": [
    "number = 50           # en helt vanlig assignment\n",
    "print(number)\n",
    "\n",
    "# nu kan vi börja re-assigna variabeln \"number\"\n",
    "\n",
    "number += 10      # samma sak som att skriva number = number + 10\n",
    "print(number)\n",
    "\n",
    "number -= 20      # samma sak som att skriva number = number - 20\n",
    "print(number)\n",
    "\n",
    "number *= 2       # samma sak som att skriva number = number * 2\n",
    "print(number)\n",
    "\n",
    "number /= 5       # samma sak som att skriva number = number / 5\n",
    "print(number)"
   ]
  },
  {
   "cell_type": "markdown",
   "id": "121505af",
   "metadata": {},
   "source": [
    "## While-loopar"
   ]
  },
  {
   "cell_type": "markdown",
   "id": "e94e87a3",
   "metadata": {},
   "source": [
    "Ibland vill man att Python ska upprepa ett kodblock, fram tills dess att ett visst villkor inte längre är uppfyllt"
   ]
  },
  {
   "cell_type": "code",
   "execution_count": null,
   "id": "0b411a92",
   "metadata": {},
   "outputs": [],
   "source": [
    "n = 1\n",
    "\n",
    "while n < 5:     # kommer upprepa det inskjutna (intenderade) kodblocket om och om igen, fram tills att n inte längre är mindre än 5          \n",
    "\n",
    "    print(n)     # printa nuvarande värdet av n\n",
    "    n += 1       # incrementera (öka) värdet av n med 1\n"
   ]
  },
  {
   "cell_type": "markdown",
   "id": "79746134",
   "metadata": {},
   "source": [
    "**Exempel på use-case**\n",
    "\n",
    "Vi vill beräkna antal år tills mängden fisk i en sjö uppnår en population på 1.000.000\n",
    "\n",
    "Anta att vi startar med 100 fiskar i vår sjö, och att antalet dubblas varje år"
   ]
  },
  {
   "cell_type": "code",
   "execution_count": null,
   "id": "68f05f95",
   "metadata": {},
   "outputs": [],
   "source": [
    "fishes = 100                          # antal nuvarande fiskar\n",
    "year = 0                              # året vi startar ifrån\n",
    "\n",
    "while fishes < 1000000:               # fortsätta loopa och upprepa kodblocket, så länge antal fiskar är under 1M\n",
    "\n",
    "    year += 1\n",
    "    fishes *= 2\n",
    "\n",
    "    print(f'År {year} har vi {fishes} fiskar.')"
   ]
  },
  {
   "cell_type": "markdown",
   "id": "03fb8cc8",
   "metadata": {},
   "source": [
    "**Ytterligare exempel**\n",
    "\n",
    "Vi vill bygga ett litet beräkningsspel, där användaren får gissa på produkten av två tal. \n",
    "\n",
    "Som vi ser nedan går det jättebra att kombinera while-loopar med if-satser."
   ]
  },
  {
   "cell_type": "code",
   "execution_count": null,
   "id": "629b00f7",
   "metadata": {},
   "outputs": [],
   "source": [
    "import random           # random-paketet innehåller massa nyttig funktionalitet för att skapa... random siffror med.\n",
    "\n",
    "\n",
    "vill_spela = 'JA'\n",
    "\n",
    "while vill_spela == 'JA':\n",
    "\n",
    "    number_1 = random.randint(1, 10)         # generera ett randomiserat tal i spannet 1-10\n",
    "    number_2 = random.randint(1, 10)         # generera ett randomiserat tal i spannet 1-10\n",
    "\n",
    "    produkt = number_1*number_2              # beräknar och sparar produkten av våra nyligen genererade tal\n",
    "\n",
    "    gissning = int(input(f'Vad blir {number_1}*{number_2}?: '))     # användarens gissning\n",
    "\n",
    "    if gissning == produkt:                  # kodblocket under denna if-sats utförs om användaren svarat rätt\n",
    "        print('Rätt!')\n",
    "    else:\n",
    "        print('Fel. Det rätta svar är:', produkt)\n",
    "\n",
    "    vill_spela = input('Vill du spela igen? JA/NEJ')  # ge användaren möjlighet att ändra på värdet av vill_spela\n"
   ]
  },
  {
   "cell_type": "markdown",
   "id": "0562d5e2",
   "metadata": {},
   "source": [
    "## While-Break\n",
    "\n",
    "Precis som hur if-elif-else är kompanjoner, har while också en kompanjon: break.\n",
    "\n",
    "Om Python stöter på kommandot break någongång i en while-loop - så kommer den direkt avbryta och hoppa ur loopen (även ifall villkoret för loopen fortfarande är uppfyllt)"
   ]
  },
  {
   "cell_type": "code",
   "execution_count": null,
   "id": "7319240f",
   "metadata": {},
   "outputs": [],
   "source": [
    "n = 1\n",
    "\n",
    "while n < 5:              # while loopen kommer vilja upprepa kodblocket nedan så länge n < 5\n",
    "\n",
    "    print(n)\n",
    "    n+=1\n",
    "\n",
    "    if n == 3:\n",
    "        break"
   ]
  },
  {
   "cell_type": "markdown",
   "id": "6b7d1c29",
   "metadata": {},
   "source": [
    "## En viktig detalj\n",
    "\n",
    "**Ett annat sätt att konstruera while-loopar**\n",
    "\n",
    "Vi vet nu att while-loopen kommer upprepa sitt kodblock sålänge det givna villkoret är True.\n",
    "\n",
    "Det är dock ingenting som stoppar dig från att skriva True direkt (istället för ett villkor).\n",
    "På så vis kommer while-loopen att fortsätta upprepa sitt kodblock i all oändlighet.\n",
    "\n",
    "När man konstruerar sin while-loop på det här sättet, använder man i regel alltid en break för att så småningom bryta loopen."
   ]
  },
  {
   "cell_type": "code",
   "execution_count": null,
   "id": "9381b03d",
   "metadata": {},
   "outputs": [],
   "source": [
    "n = 1\n",
    "\n",
    "while True:              # den här while-loopen kommer upprepas i all oändlighet, om inte vi lägger in en break någonstans i kodblocket\n",
    "\n",
    "    print(n)\n",
    "    n += 1\n",
    "\n",
    "    if n == 10:\n",
    "        break\n",
    "\n",
    "\n",
    "print('Ha, vi lyckades ta oss ur tillslut!')\n",
    "print(f'Slutliga värdet på n={n}')"
   ]
  },
  {
   "cell_type": "code",
   "execution_count": null,
   "id": "9247e243",
   "metadata": {},
   "outputs": [],
   "source": []
  }
 ],
 "metadata": {
  "kernelspec": {
   "display_name": "programmering",
   "language": "python",
   "name": "python3"
  },
  "language_info": {
   "codemirror_mode": {
    "name": "ipython",
    "version": 3
   },
   "file_extension": ".py",
   "mimetype": "text/x-python",
   "name": "python",
   "nbconvert_exporter": "python",
   "pygments_lexer": "ipython3",
   "version": "3.13.5"
  }
 },
 "nbformat": 4,
 "nbformat_minor": 5
}
