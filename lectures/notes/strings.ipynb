{
 "cells": [
  {
   "cell_type": "markdown",
   "metadata": {},
   "source": [
    "**Lägg ihop strängar**"
   ]
  },
  {
   "cell_type": "code",
   "execution_count": null,
   "metadata": {},
   "outputs": [],
   "source": [
    "firstname = 'Amir'\n",
    "lastname = 'Leylani'\n",
    "\n",
    "fullname = firstname + ' ' + lastname\n",
    "\n",
    "print(fullname)"
   ]
  },
  {
   "cell_type": "code",
   "execution_count": null,
   "metadata": {},
   "outputs": [],
   "source": [
    "fullname = f'{firstname} {lastname}'\n",
    "\n",
    "print(fullname)"
   ]
  },
  {
   "cell_type": "markdown",
   "metadata": {},
   "source": [
    "Genom att använda trippla ' eller \" kan vi markera för Python att vi vill ha en flerradssträng"
   ]
  },
  {
   "cell_type": "code",
   "execution_count": null,
   "metadata": {},
   "outputs": [],
   "source": [
    "long_string = '''\n",
    "\n",
    "Ali är lärare\n",
    "\n",
    "på AI25\n",
    "\n",
    "'''\n",
    "\n"
   ]
  },
  {
   "cell_type": "code",
   "execution_count": null,
   "metadata": {},
   "outputs": [],
   "source": [
    "print(long_string)"
   ]
  },
  {
   "cell_type": "code",
   "execution_count": null,
   "metadata": {},
   "outputs": [],
   "source": [
    "firstname = 'Ali'\n",
    "lastname = 'Leylani'\n",
    "age = 34\n",
    "profession = 'Chief AI Officer'\n",
    "adress = 'Norra Parkpromenaden 23'\n",
    "\n",
    "fullname = f'{firstname} {lastname}'\n",
    "\n",
    "personal_details = f'''\n",
    "Namn:       {fullname}\n",
    "Ålder:      {age}\n",
    "Profession: {profession}\n",
    "Adress:     {adress}\n",
    "'''\n",
    "\n",
    "print(personal_details)\n"
   ]
  },
  {
   "cell_type": "markdown",
   "metadata": {},
   "source": [
    "**Indexing & slicing**"
   ]
  },
  {
   "cell_type": "code",
   "execution_count": null,
   "metadata": {},
   "outputs": [],
   "source": [
    "quote = \"it's funny because it's true\"\n",
    "\n",
    "print(f'quote[0]: {quote[0]}')\n",
    "print(f'quote[1]: {quote[1]}')\n",
    "print(f'quote[2]: {quote[2]}')\n",
    "print(f'quote[3]: {quote[3]}')\n",
    "\n",
    "print(f'quote[4:10]: {quote[4:10]}')\n",
    "\n",
    "print(f'quote[-1]: {quote[-1]}')\n",
    "\n",
    "print(f'quote[0:10:2]: {quote[0:10:2]}')        # slica i steg om 2 (start:stop:step)\n",
    "\n",
    "print(f'quote[::2]: {quote[::2]}')              # om du inte ger start och stop är default ALLA\n",
    "\n",
    "print(f'quote[::-1]: {quote[::-1]}') "
   ]
  },
  {
   "cell_type": "markdown",
   "metadata": {},
   "source": [
    "**split()-funktionen**"
   ]
  },
  {
   "cell_type": "markdown",
   "metadata": {},
   "source": [
    "Den här funktionen är grymt bra om man vill dela upp en sträng baserat på ett visst mönster\n",
    "\n",
    "Exempel: vi vill dela upp vår sträng vid varje kommatecken"
   ]
  },
  {
   "cell_type": "code",
   "execution_count": null,
   "metadata": {},
   "outputs": [],
   "source": [
    "subjects = 'Math,biology,  cHeMistry , PrOgramming'\n"
   ]
  },
  {
   "cell_type": "code",
   "execution_count": null,
   "metadata": {},
   "outputs": [],
   "source": [
    "subjects.split(',')"
   ]
  },
  {
   "cell_type": "code",
   "execution_count": null,
   "metadata": {},
   "outputs": [],
   "source": [
    "sample = 'Nånting händer det är något skumt på gång våra vänner'"
   ]
  },
  {
   "cell_type": "code",
   "execution_count": null,
   "metadata": {},
   "outputs": [],
   "source": [
    "sample.split('skumt')"
   ]
  },
  {
   "cell_type": "markdown",
   "metadata": {},
   "source": [
    "**zip-funktionen**"
   ]
  },
  {
   "cell_type": "markdown",
   "metadata": {},
   "source": [
    "Ibland vill man 'klistra ihop' elementen ur ex två listor, i den ordningen de dyker upp i respektive lista.\n",
    "\n",
    "Det kan vi göra på följande sätt."
   ]
  },
  {
   "cell_type": "code",
   "execution_count": null,
   "metadata": {},
   "outputs": [],
   "source": [
    "menu = ['pizza', 'pasta', 'lasagne', 'fries', 'taco']\n",
    "days = ['monday' , 'tuesday', 'wednesday', 'thursday', 'friday']\n",
    "\n",
    "veckomeny = []\n",
    "\n",
    "for day, dish in zip(days, menu):\n",
    "\n",
    "    veckomeny.append(f'{day}: {dish}')\n",
    "    \n",
    "    #print(f'{day}: {dish}')\n",
    "\n",
    "veckomeny"
   ]
  },
  {
   "cell_type": "code",
   "execution_count": null,
   "metadata": {},
   "outputs": [],
   "source": [
    "[f'{day}: {dish}' for day, dish in zip(days, menu)]"
   ]
  },
  {
   "cell_type": "markdown",
   "metadata": {},
   "source": [
    "Du kan zippa hur många listor du vill, samtidigt!\n",
    "\n",
    "Men, säkerställ att det faktiskt också är logist att göra så."
   ]
  },
  {
   "cell_type": "code",
   "execution_count": null,
   "metadata": {},
   "outputs": [],
   "source": [
    "menu = ['pizza', 'pasta', 'lasagne', 'fries', 'taco']\n",
    "days = ['monday' , 'tuesday', 'wednesday', 'thursday', 'friday']\n",
    "chefs = [ 'Mario', 'Bowser', 'Luigi', 'Peach', 'Yoshi']\n",
    "\n",
    "[f'{day}: {dish} made by {chef}' for day, dish, chef in zip(days, menu, chefs)]"
   ]
  }
 ],
 "metadata": {
  "kernelspec": {
   "display_name": "programmering",
   "language": "python",
   "name": "python3"
  },
  "language_info": {
   "codemirror_mode": {
    "name": "ipython",
    "version": 3
   },
   "file_extension": ".py",
   "mimetype": "text/x-python",
   "name": "python",
   "nbconvert_exporter": "python",
   "pygments_lexer": "ipython3",
   "version": "3.13.5"
  }
 },
 "nbformat": 4,
 "nbformat_minor": 2
}
