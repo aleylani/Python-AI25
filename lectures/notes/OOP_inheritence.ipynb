{
 "cells": [
  {
   "cell_type": "markdown",
   "metadata": {},
   "source": [
    "# Inheritence in Python"
   ]
  },
  {
   "cell_type": "markdown",
   "metadata": {},
   "source": [
    "*Arv* på svenska, som i när någon ärver något.\n",
    "\n",
    "Vi ska nu lära os om hur vi kan skapa s.k. sub-classes till våra klasser.\n",
    "\n",
    "Vad är en sub-class (även kallad child class)?\n",
    "\n",
    "En sub-class kan man tänka sig som en mer specifik version av sin huvudklass (parent class).\n",
    "\n",
    "Sub-klassen kommer att bete sig som sin förälder, men kan även ha sina egna unika egenskaper."
   ]
  },
  {
   "cell_type": "markdown",
   "metadata": {},
   "source": [
    "*Exempel*"
   ]
  },
  {
   "cell_type": "code",
   "execution_count": null,
   "metadata": {},
   "outputs": [],
   "source": [
    "class Vehicles:\n",
    "\n",
    "    def __init__(self, brand: str, model: str, mode: str, model_year: str) -> None:\n",
    "\n",
    "        self.brand = brand\n",
    "        self.model = model\n",
    "        self.mode = mode                 # vilket typ av fordon detta är, dvs land, flyg, sjö osv\n",
    "        self.model_year = model_year\n",
    "\n",
    "    def info(self) -> str:\n",
    "\n",
    "        return f'This {self.model} is a {self.mode}-vehicle made by {self.brand}, built {self.model_year}.'\n",
    "\n",
    "    def make_some_noise(self) -> str:\n",
    "\n",
    "        return 'Vroom vroom!'\n"
   ]
  },
  {
   "cell_type": "code",
   "execution_count": 4,
   "metadata": {},
   "outputs": [
    {
     "name": "stdout",
     "output_type": "stream",
     "text": [
      "This XC40 Recharge is a land-vehicle made by Volvo, built 2023.\n",
      "Vroom vroom!\n"
     ]
    }
   ],
   "source": [
    "a_vehicle = Vehicles('Volvo', 'XC40 Recharge', 'land', '2023')\n",
    "\n",
    "print(a_vehicle.info())\n",
    "print(a_vehicle.make_some_noise())\n"
   ]
  },
  {
   "cell_type": "code",
   "execution_count": 5,
   "metadata": {},
   "outputs": [
    {
     "name": "stdout",
     "output_type": "stream",
     "text": [
      "This Jas 39 Gripen is a air-vehicle made by Saab, built 2005.\n",
      "Vroom vroom!\n"
     ]
    }
   ],
   "source": [
    "another_vehicle = Vehicles('Saab', 'Jas 39 Gripen', 'air', '2005')\n",
    "\n",
    "print(another_vehicle.info())\n",
    "print(another_vehicle.make_some_noise())\n"
   ]
  },
  {
   "cell_type": "markdown",
   "metadata": {},
   "source": [
    "Vad täcks under fordon?\n",
    "\n",
    "Bilar, Lastbilar, Motorcyklar, Flygplan, Båtar osv.\n",
    "\n",
    "Alla dessa fordon delar vissa grundegenskaper, som exempelvis att alla förmodligen har ett modell-namn, ett märke, ett byggnadsår, en topphastighet, minst en motor osv."
   ]
  },
  {
   "cell_type": "markdown",
   "metadata": {},
   "source": [
    "---"
   ]
  },
  {
   "cell_type": "markdown",
   "metadata": {},
   "source": [
    "Vi ska nu skapa en child-class till parent-class:en Vehicles.\n",
    "\n",
    "Låt oss konstruera en Airplanes class. Vi kommer att se att denna klass *ärver* från Vehicles klassen."
   ]
  },
  {
   "cell_type": "code",
   "execution_count": 12,
   "metadata": {},
   "outputs": [],
   "source": [
    "class Airplanes(Vehicles):         # inom parantes markerar vi för Python vilken klass vi vill att vår nya klass ska ärva ifrån\n",
    "\n",
    "   def __init__(self, brand: str, model: str, mode: str, model_year: str, top_air_speed: float) -> None:\n",
    "      \n",
    "      super().__init__(brand, model, mode, model_year)         # skapar våra generella parent-class attribut\n",
    "\n",
    "      self.top_air_speed = top_air_speed                       # child-class unikt attribut\n",
    "\n",
    "   def make_a_wheelbarrow(self) -> str:\n",
    "\n",
    "      return f'Omg my passanger are not feeling well...'"
   ]
  },
  {
   "cell_type": "markdown",
   "metadata": {},
   "source": [
    "Vi ser nedan att vår instans ärver attribut från huvudklassen.\n",
    "\n",
    "Detta pga av att super().__ init __() anropas i child-klassen. Då kommer __ init __ från huvudklassen att köras och skapa alla de attributen även i vår child-klass instans."
   ]
  },
  {
   "cell_type": "code",
   "execution_count": 13,
   "metadata": {},
   "outputs": [
    {
     "name": "stdout",
     "output_type": "stream",
     "text": [
      "Airbus\n",
      "A320\n",
      "air\n",
      "2010\n"
     ]
    }
   ],
   "source": [
    "my_toy_airplane = Airplanes('Airbus', 'A320', 'air', '2010', 0.7)\n",
    "\n",
    "print(my_toy_airplane.brand)\n",
    "print(my_toy_airplane.model)\n",
    "print(my_toy_airplane.mode)\n",
    "print(my_toy_airplane.model_year)"
   ]
  },
  {
   "cell_type": "markdown",
   "metadata": {},
   "source": [
    "När vi ärver så ärver vi inte bara attribut, utan även alla metoder från föräldraklassen!"
   ]
  },
  {
   "cell_type": "code",
   "execution_count": 14,
   "metadata": {},
   "outputs": [
    {
     "name": "stdout",
     "output_type": "stream",
     "text": [
      "This A320 is a air-vehicle made by Airbus, built 2010.\n",
      "Vroom vroom!\n"
     ]
    }
   ],
   "source": [
    "print(my_toy_airplane.info())\n",
    "print(my_toy_airplane.make_some_noise())"
   ]
  },
  {
   "cell_type": "markdown",
   "metadata": {},
   "source": [
    "Men vi kan också bygga unika underklassmetoder!"
   ]
  },
  {
   "cell_type": "code",
   "execution_count": 15,
   "metadata": {},
   "outputs": [
    {
     "name": "stdout",
     "output_type": "stream",
     "text": [
      "Omg my passanger are not feeling well...\n"
     ]
    }
   ],
   "source": [
    "print(my_toy_airplane.make_a_wheelbarrow())"
   ]
  },
  {
   "cell_type": "markdown",
   "metadata": {},
   "source": [
    "---"
   ]
  },
  {
   "cell_type": "markdown",
   "metadata": {},
   "source": [
    "Det går att ha fler child-classes till en huvudklass!\n",
    "\n",
    "Ovan har vi att Airplanes ärver från Vehicles, men vi skulle enkelt kunna skapa en till oberoende underklass som ärver från Vehicles."
   ]
  },
  {
   "cell_type": "code",
   "execution_count": null,
   "metadata": {},
   "outputs": [],
   "source": [
    "class Boats(Vehicles):\n",
    "\n",
    "    def __init__(self, brand: str, model: str, mode: str, model_year: str, boat_type: str) -> None:\n",
    "\n",
    "        super().__init__(brand, model, mode, model_year)    # skapar våra generella parent-class attribut\n",
    "\n",
    "        self.boat_type = boat_type                    # unikt child-class attribut\n",
    "\n",
    "    def getting_raided(self):\n",
    "\n",
    "        return 'Oh no, Capn Jack Sparrow is here :O'\n"
   ]
  },
  {
   "cell_type": "code",
   "execution_count": 19,
   "metadata": {},
   "outputs": [
    {
     "name": "stdout",
     "output_type": "stream",
     "text": [
      "Buster\n",
      "XY\n",
      "water\n",
      "2010\n",
      "motorboat\n"
     ]
    }
   ],
   "source": [
    "my_boat = Boats('Buster', 'XY', 'water', '2010', 'motorboat')\n",
    "\n",
    "print(my_boat.brand)\n",
    "print(my_boat.model)\n",
    "print(my_boat.mode)\n",
    "print(my_boat.model_year)\n",
    "print(my_boat.boat_type)          # Boats unikt attribut"
   ]
  },
  {
   "cell_type": "code",
   "execution_count": 20,
   "metadata": {},
   "outputs": [
    {
     "name": "stdout",
     "output_type": "stream",
     "text": [
      "This XY is a water-vehicle made by Buster, built 2010.\n",
      "Vroom vroom!\n"
     ]
    }
   ],
   "source": [
    "print(my_boat.info())\n",
    "print(my_boat.make_some_noise())"
   ]
  },
  {
   "cell_type": "code",
   "execution_count": 21,
   "metadata": {},
   "outputs": [
    {
     "name": "stdout",
     "output_type": "stream",
     "text": [
      "Oh no, Capn Jack Sparrow is here :O\n"
     ]
    }
   ],
   "source": [
    "print(my_boat.getting_raided())"
   ]
  },
  {
   "cell_type": "markdown",
   "metadata": {},
   "source": [
    "---"
   ]
  },
  {
   "cell_type": "markdown",
   "metadata": {},
   "source": [
    "Obs! En underklass **kan** överskriva både attribut och metoder från sin föräldraklass."
   ]
  },
  {
   "cell_type": "code",
   "execution_count": 23,
   "metadata": {},
   "outputs": [],
   "source": [
    "class MotorCycles(Vehicles):\n",
    "\n",
    "    def __init__(self, brand: str, model: str, mode: str, model_year: str, motor_size: float, top_speed: float) -> None:\n",
    "\n",
    "        super().__init__(brand, model, mode, model_year)\n",
    "\n",
    "        self.motor_size = motor_size\n",
    "        self.top_speed = top_speed\n",
    "\n",
    "    def make_some_noise(self):\n",
    "        \n",
    "        return f'Crazy ride yall!'"
   ]
  },
  {
   "cell_type": "code",
   "execution_count": 28,
   "metadata": {},
   "outputs": [
    {
     "name": "stdout",
     "output_type": "stream",
     "text": [
      "This Ninja ER6-f is a land-vehicle made by Kawasaki, built 2012.\n",
      "Crazy ride yall!\n"
     ]
    }
   ],
   "source": [
    "my_bike = MotorCycles('Kawasaki', 'Ninja ER6-f', 'land', '2012', 650, 220)\n",
    "\n",
    "print(my_bike.info())\n",
    "print(my_bike.make_some_noise())    # vi ser tydligt att huvudklassens metod blivit \n",
    "                                    # överskriven men en unik metod för denna underklass"
   ]
  },
  {
   "cell_type": "code",
   "execution_count": null,
   "metadata": {},
   "outputs": [],
   "source": []
  }
 ],
 "metadata": {
  "kernelspec": {
   "display_name": "programmering",
   "language": "python",
   "name": "python3"
  },
  "language_info": {
   "codemirror_mode": {
    "name": "ipython",
    "version": 3
   },
   "file_extension": ".py",
   "mimetype": "text/x-python",
   "name": "python",
   "nbconvert_exporter": "python",
   "pygments_lexer": "ipython3",
   "version": "3.13.5"
  }
 },
 "nbformat": 4,
 "nbformat_minor": 2
}
