{
 "cells": [
  {
   "cell_type": "markdown",
   "metadata": {},
   "source": [
    "**Lite fler detaljer om villkors-satser**\n",
    "\n",
    "Vi har tidigare sett uttryck som ex liknar\n",
    "\n",
    "if ett_påstående:\n",
    "\n",
    "        lite kod\n",
    "\n",
    "Ovan kodsnutt kommer köra den indenterade koden om påståendet evalueras till True, dvs om påståendet är sant. Exempelvis"
   ]
  },
  {
   "cell_type": "code",
   "execution_count": null,
   "metadata": {},
   "outputs": [],
   "source": [
    "if 5 > 3+1:\n",
    "    print('Nu kör vi!')\n",
    "\n",
    "# koden ovan körs eftersom att\n",
    "\n",
    "print(f'5 > 3+1 evalueras till {5 > 3+1}')"
   ]
  },
  {
   "cell_type": "code",
   "execution_count": null,
   "metadata": {},
   "outputs": [],
   "source": [
    "namn = 'Robert'\n",
    "\n",
    "if namn:\n",
    "\n",
    "    print('Aha, det här kördes också!')"
   ]
  },
  {
   "cell_type": "markdown",
   "metadata": {},
   "source": [
    "Såhär funkar Python:\n",
    "\n",
    "Om man, som ovan, lägger in ett objekt (exempvis en sträng) istället för ett påstående kommer Python att evaluera uttrycket till True om objektet inte anses vara \"tomt\".\n",
    "\n",
    "Exempelvis:\n",
    "\n",
    "**Strängar** anses inte vara *tom* om strängen inte är den tomma strängen."
   ]
  },
  {
   "cell_type": "code",
   "execution_count": null,
   "metadata": {},
   "outputs": [],
   "source": [
    "namn = 'Robert'                             # den här strängen är inte tom\n",
    "\n",
    "if namn:                                    # Python kommer således att evaluera detta till True och den indenterade koden kommer köras\n",
    "\n",
    "    print('Aha, det här kördes också!')"
   ]
  },
  {
   "cell_type": "code",
   "execution_count": null,
   "metadata": {},
   "outputs": [],
   "source": [
    "namn = ''                                 # den här strängen tom\n",
    "\n",
    "if namn:                                  # Till följd evalueras detta till False och indenterad kod körs ej\n",
    "\n",
    "    print('Nu körs detta inte.')"
   ]
  },
  {
   "cell_type": "markdown",
   "metadata": {},
   "source": [
    "**Integers & Floats**\n",
    "\n",
    "För integers & floats så behandlas 0 resp. 0.0 som \"tomma\" och evalueras till False under dessa förutsättningar."
   ]
  },
  {
   "cell_type": "code",
   "execution_count": null,
   "metadata": {},
   "outputs": [],
   "source": [
    "number = -5                       # detta är ett heltal, skilt från 0\n",
    "\n",
    "if number:\n",
    "    print('Detta kördes!')"
   ]
  },
  {
   "cell_type": "code",
   "execution_count": null,
   "metadata": {},
   "outputs": [],
   "source": [
    "number = 0                       # detta är 0, och datatypen är Integer\n",
    "\n",
    "if number:\n",
    "    print('Detta körs inte.')"
   ]
  },
  {
   "cell_type": "code",
   "execution_count": null,
   "metadata": {},
   "outputs": [],
   "source": [
    "number = 0.0                     # detta är 0.0, och datatypen är Float\n",
    "\n",
    "if number:\n",
    "    print('Detta körs inte heller.')"
   ]
  },
  {
   "cell_type": "markdown",
   "metadata": {},
   "source": [
    "**Listor**\n",
    "\n",
    "För listor anses tomma listor (dvs innehållande inga element) som tomma."
   ]
  },
  {
   "cell_type": "code",
   "execution_count": null,
   "metadata": {},
   "outputs": [],
   "source": [
    "en_lista = []                # bevisligen tom lista\n",
    "\n",
    "if en_lista:\n",
    "\n",
    "    print('Detta körs inte')"
   ]
  },
  {
   "cell_type": "code",
   "execution_count": null,
   "metadata": {},
   "outputs": [],
   "source": [
    "en_lista = [1, 2, 3, 4, 5]\n",
    "\n",
    "if en_lista:\n",
    "\n",
    "    print('Jajamen, detta går igenom!')"
   ]
  },
  {
   "cell_type": "markdown",
   "metadata": {},
   "source": [
    "**None**\n",
    "\n",
    "I Python så är *None* ett uttryck som signifierar avsaknaden av ett värde och datatyp, och anses vara \"inget\"."
   ]
  },
  {
   "cell_type": "code",
   "execution_count": null,
   "metadata": {},
   "outputs": [],
   "source": [
    "print(type(None))         # None har ingen datatype, det är ett speciellt objekt som kan användas för att representera avsaknaden av ett värde."
   ]
  },
  {
   "cell_type": "code",
   "execution_count": null,
   "metadata": {},
   "outputs": [],
   "source": [
    "if None:\n",
    "\n",
    "    print('körs ej')"
   ]
  },
  {
   "cell_type": "markdown",
   "metadata": {},
   "source": [
    "---"
   ]
  },
  {
   "cell_type": "code",
   "execution_count": null,
   "metadata": {},
   "outputs": [],
   "source": [
    "def greet(name, age=None, city='Unknown'):\n",
    "\n",
    "    print(f'Hello, {name}!')\n",
    "\n",
    "    if age:\n",
    "\n",
    "        print(f'You are {age} years old')\n",
    "\n",
    "    print(f'You live in city: {city}')"
   ]
  },
  {
   "cell_type": "code",
   "execution_count": null,
   "metadata": {},
   "outputs": [],
   "source": [
    "greet(name='Robert')"
   ]
  },
  {
   "cell_type": "code",
   "execution_count": null,
   "metadata": {},
   "outputs": [],
   "source": [
    "greet(name='Robert', age=20)"
   ]
  },
  {
   "cell_type": "code",
   "execution_count": null,
   "metadata": {},
   "outputs": [],
   "source": [
    "greet()"
   ]
  },
  {
   "cell_type": "markdown",
   "metadata": {},
   "source": [
    "---"
   ]
  },
  {
   "cell_type": "markdown",
   "metadata": {},
   "source": [
    "**Filhantering**"
   ]
  },
  {
   "cell_type": "markdown",
   "metadata": {},
   "source": [
    "Ofta vill vi läsa in data från externa filer/databaser och jobba vidare med dessa i Python.\n",
    "\n",
    "Nu ska vi lära oss grunderna i filhantering, och kommer kolla in enkla metoder för att läsa in (och skriva ut) data från (till) textfiler.\n",
    "\n",
    "Textfiler har ändelsen .txt"
   ]
  },
  {
   "cell_type": "markdown",
   "metadata": {},
   "source": [
    "        Option:\n",
    "        - \"r\" - read\n",
    "        - \"w\" - write, opens a file for writing, also creates it if it doesn't exist\n",
    "        - \"a\" - append, creates the file if it doesn't exist\n",
    "        - \"x\" - create, creates a file, error if it already exists"
   ]
  },
  {
   "cell_type": "markdown",
   "metadata": {},
   "source": [
    "**OS**\n",
    "\n",
    "Navigera mappar"
   ]
  },
  {
   "cell_type": "code",
   "execution_count": null,
   "metadata": {},
   "outputs": [],
   "source": [
    "import os\n",
    "\n",
    "os.listdir()            # listdir() är en funktion som skriver ut all existerande filer i den givna mappen.\n",
    "                        # by default är den givna mappen den mapp som vi befinner oss i just nu"
   ]
  },
  {
   "cell_type": "code",
   "execution_count": null,
   "metadata": {},
   "outputs": [],
   "source": [
    "os.listdir('../../data')"
   ]
  },
  {
   "cell_type": "markdown",
   "metadata": {},
   "source": [
    "**Read**\n",
    "\n",
    "Hur *läser* vi in en textfil?"
   ]
  },
  {
   "cell_type": "code",
   "execution_count": null,
   "metadata": {},
   "outputs": [],
   "source": [
    "filepath = '../../data/quotes.txt'\n",
    "\n",
    "with open(filepath, 'r') as f:\n",
    "\n",
    "    text = f.read()"
   ]
  },
  {
   "cell_type": "code",
   "execution_count": null,
   "metadata": {},
   "outputs": [],
   "source": [
    "print(type(text))"
   ]
  },
  {
   "cell_type": "code",
   "execution_count": null,
   "metadata": {},
   "outputs": [],
   "source": [
    "text"
   ]
  },
  {
   "cell_type": "code",
   "execution_count": null,
   "metadata": {},
   "outputs": [],
   "source": [
    "print(text)"
   ]
  },
  {
   "cell_type": "markdown",
   "metadata": {},
   "source": [
    "**OBS**\n",
    "\n",
    "Vi valde ovan att läsa in texten med hjälp av en with-sats (vilket är optimalt), men det finns även ett mer förlegat (sämre) sätt att göra det på."
   ]
  },
  {
   "cell_type": "code",
   "execution_count": null,
   "metadata": {},
   "outputs": [],
   "source": [
    "filepath = '../../data/quotes.txt'\n",
    "\n",
    "f = open(filepath, 'r')           # öppna filen i läsläge, och spara den i variabeln f (f för file)\n",
    "\n",
    "alternativ_text = f.read()\n",
    "\n",
    "f.close()                         # stäng filen, detta är viktigt att göra om man använder denna metod, ananrs kan det leda till att filen av olika anledningar blir korrupt                   "
   ]
  },
  {
   "cell_type": "code",
   "execution_count": null,
   "metadata": {},
   "outputs": [],
   "source": [
    "print(alternativ_text)"
   ]
  },
  {
   "cell_type": "markdown",
   "metadata": {},
   "source": [
    "**OBS**\n",
    "\n",
    "Det är mycket säkrare att använda with open(path, 'r') as f, iom att den metoden automatiskt sköter close() åt oss."
   ]
  },
  {
   "cell_type": "markdown",
   "metadata": {},
   "source": [
    "---"
   ]
  },
  {
   "cell_type": "markdown",
   "metadata": {},
   "source": [
    "## Write"
   ]
  },
  {
   "cell_type": "code",
   "execution_count": null,
   "metadata": {},
   "outputs": [],
   "source": [
    "path = 'names.txt'\n",
    "\n",
    "names = ['Amir', 'Rozann', 'Ali']\n",
    "\n",
    "with open(path, 'w') as f:\n",
    "\n",
    "    for name in names:\n",
    "        f.write(name)"
   ]
  },
  {
   "cell_type": "markdown",
   "metadata": {},
   "source": [
    "**OBS** att när man skriver med behörigheten 'w' så skrivs allt eventuellt gammalt över! \n",
    "\n",
    "Var därför försiktiga när ni använder 'w'."
   ]
  },
  {
   "cell_type": "code",
   "execution_count": null,
   "metadata": {},
   "outputs": [],
   "source": [
    "path = 'names.txt'\n",
    "\n",
    "names = ['Amir', 'Rozann', 'Ali']\n",
    "\n",
    "with open(path, 'w') as f:\n",
    "\n",
    "    for name in names:\n",
    "        f.write(f'{name}\\n')"
   ]
  },
  {
   "cell_type": "markdown",
   "metadata": {},
   "source": [
    "---"
   ]
  },
  {
   "cell_type": "markdown",
   "metadata": {},
   "source": [
    "## Append\n",
    "\n",
    "Används för att *lägga till* information i en existera fil, utan att för den delen radera allt gammalt."
   ]
  },
  {
   "cell_type": "code",
   "execution_count": null,
   "metadata": {},
   "outputs": [],
   "source": [
    "path = 'names.txt'\n",
    "\n",
    "fruits = ['Watermelon', 'Papaya', 'Strawberry']\n",
    "\n",
    "with open(path, 'a') as f:\n",
    "\n",
    "    for fruit in fruits:\n",
    "\n",
    "        to_append = f'{fruit}\\n'\n",
    "\n",
    "        f.write(to_append)"
   ]
  },
  {
   "cell_type": "markdown",
   "metadata": {},
   "source": [
    "---"
   ]
  },
  {
   "cell_type": "markdown",
   "metadata": {},
   "source": [
    "## Create\n",
    "\n",
    "Create skapar bara en fil, om den inte existerar. Om filen redan existerar slår Python ett FileExistError - och detta kan vara användbart ibland om man i sitt program vill kontrollera huruvida en given fil redan existerar."
   ]
  },
  {
   "cell_type": "code",
   "execution_count": null,
   "metadata": {},
   "outputs": [],
   "source": [
    "os.listdir()"
   ]
  },
  {
   "cell_type": "code",
   "execution_count": null,
   "metadata": {},
   "outputs": [],
   "source": [
    "path = 'random_text.txt'\n",
    "\n",
    "with open(path, 'x') as f:\n",
    "\n",
    "    pass"
   ]
  }
 ],
 "metadata": {
  "kernelspec": {
   "display_name": "programmering",
   "language": "python",
   "name": "python3"
  },
  "language_info": {
   "codemirror_mode": {
    "name": "ipython",
    "version": 3
   },
   "file_extension": ".py",
   "mimetype": "text/x-python",
   "name": "python",
   "nbconvert_exporter": "python",
   "pygments_lexer": "ipython3",
   "version": "3.13.5"
  }
 },
 "nbformat": 4,
 "nbformat_minor": 2
}
