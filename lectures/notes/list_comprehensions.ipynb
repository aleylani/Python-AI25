{
 "cells": [
  {
   "cell_type": "markdown",
   "id": "57e6b439",
   "metadata": {},
   "source": [
    "**List Comprehensions - fördjupning**"
   ]
  },
  {
   "cell_type": "markdown",
   "id": "dd34bd2d",
   "metadata": {},
   "source": [
    "List comprehensions är en av de met kraftfulla verktygen som finns i Python. De tillåter dig som användare att på ett mycket kompakt sätt utföra både enkla och komplexa operationer/beräkningar.\n",
    "\n",
    "Låt oss därför skapa en djupare förståelse av konceptet.\n",
    "\n",
    "Enklast blir om vi börjar med ett konkret exempel.\n",
    "\n",
    "Anta att vi vill beräkna samt plotta värdet av funktionen\n",
    "\n",
    "$ y = x + 2 $\n",
    "\n",
    "från $ x = -5$ till $ x = 5 $"
   ]
  },
  {
   "cell_type": "code",
   "execution_count": null,
   "id": "d5863d84",
   "metadata": {},
   "outputs": [],
   "source": [
    "y_values = []                       \n",
    "\n",
    "for x in range(-5, 6):\n",
    "\n",
    "    value_to_append = x + 2\n",
    "\n",
    "    y_values.append(value_to_append)\n",
    "\n",
    "print(y_values)"
   ]
  },
  {
   "cell_type": "code",
   "execution_count": null,
   "id": "0bda3821",
   "metadata": {},
   "outputs": [],
   "source": [
    "y_values_list_comprehended = [x + 2 for x in range(-5, 6)]\n",
    "\n",
    "print(y_values_list_comprehended)"
   ]
  },
  {
   "cell_type": "markdown",
   "id": "0dbf0864",
   "metadata": {},
   "source": [
    "Vi fick **exakt** samma output av får for-loop som i list comprehension!\n",
    "\n",
    "List comprehension är därför **ekvivalent** med vår for-loop, de gör exakt samma sak."
   ]
  },
  {
   "cell_type": "markdown",
   "id": "c93d0894",
   "metadata": {},
   "source": [
    "---"
   ]
  },
  {
   "cell_type": "markdown",
   "id": "cd37acfd",
   "metadata": {},
   "source": [
    "Värdet vi vill att Python ska beräkna och lägga till i vår lista är **helt** upp till oss.\n",
    "\n",
    "Dvs, det du väljer att beräkna och assign values_to_append, är helt upp till dig."
   ]
  },
  {
   "cell_type": "code",
   "execution_count": null,
   "id": "96b438fd",
   "metadata": {},
   "outputs": [],
   "source": [
    "y_values = []                       \n",
    "\n",
    "for x in range(-5, 6):\n",
    "\n",
    "    value_to_append = x**3-2*x+4\n",
    "\n",
    "    y_values.append(value_to_append)\n",
    "\n",
    "print(y_values)"
   ]
  },
  {
   "cell_type": "code",
   "execution_count": null,
   "id": "9eaaf6ee",
   "metadata": {},
   "outputs": [],
   "source": [
    "y_values_list_comprehended = [x**3-2*x+4 for x in range(-5, 6)]\n",
    "\n",
    "print(y_values_list_comprehended)"
   ]
  },
  {
   "cell_type": "code",
   "execution_count": null,
   "id": "4da2b0b0",
   "metadata": {},
   "outputs": [],
   "source": [
    "[(x**2)/2 for x in range(0,10)]"
   ]
  },
  {
   "cell_type": "markdown",
   "id": "4cadc269",
   "metadata": {},
   "source": [
    "Det vi väljer att loopa över är också helt upp till oss!\n",
    "\n",
    "Ovan så valde vi att loopa värden som vi skapade med range()-funktionen, men du kan loopa över allt som går att indexera."
   ]
  },
  {
   "cell_type": "code",
   "execution_count": null,
   "id": "4884bf6e",
   "metadata": {},
   "outputs": [],
   "source": [
    "elevlista = ['Mattias', 'Karolina', 'Nooshen', 'Luka', 'Adam']\n",
    "\n",
    "elever_plus = [f'{elev}+' for elev in elevlista]\n",
    "\n",
    "print(elever_plus)"
   ]
  },
  {
   "cell_type": "code",
   "execution_count": null,
   "id": "19fcb63c",
   "metadata": {},
   "outputs": [],
   "source": []
  },
  {
   "cell_type": "code",
   "execution_count": null,
   "id": "a640125b",
   "metadata": {},
   "outputs": [],
   "source": [
    "namn = 'Ali Leylani'\n",
    "\n",
    "bokstäver = [character for character in namn]\n",
    "\n",
    "print(bokstäver)"
   ]
  },
  {
   "cell_type": "code",
   "execution_count": null,
   "id": "046e8267",
   "metadata": {},
   "outputs": [],
   "source": [
    "print(namn.upper())\n",
    "print(namn.lower())\n",
    "\n",
    "print([character.upper() for character in namn])"
   ]
  },
  {
   "cell_type": "markdown",
   "id": "67b6bd63",
   "metadata": {},
   "source": [
    "---"
   ]
  },
  {
   "cell_type": "markdown",
   "id": "78674ef0",
   "metadata": {},
   "source": [
    "Vi kan ta detta ännu längre.\n",
    "\n",
    "Kan vi även utföra list comprehensions med villkor? **Absolut!**"
   ]
  },
  {
   "cell_type": "markdown",
   "id": "f8a79312",
   "metadata": {},
   "source": [
    "Anta att vi exempelvis vill räkna ut\n",
    "\n",
    "$ y = x^2 $\n",
    "\n",
    "men endast för alla **jämna** x mellan 0 till 10\n",
    "\n",
    "Hur vet vi om ett tal är jämnt?"
   ]
  },
  {
   "cell_type": "code",
   "execution_count": null,
   "id": "b812f8ac",
   "metadata": {},
   "outputs": [],
   "source": [
    "5 % 2               #detta kallas för modulus-operatorn, och den ger dig RESTEN som följer av divisionen av 2 (i detta fall)"
   ]
  },
  {
   "cell_type": "code",
   "execution_count": null,
   "id": "7afd7544",
   "metadata": {},
   "outputs": [],
   "source": [
    "print(2 % 2)\n",
    "print(4 % 2)\n",
    "print(6 % 2)\n",
    "\n",
    "print(1 % 2)\n",
    "print(3 % 2)\n",
    "print(5 % 2)\n"
   ]
  },
  {
   "cell_type": "code",
   "execution_count": null,
   "id": "d570c0a1",
   "metadata": {},
   "outputs": [],
   "source": [
    "for x in range(0, 11):\n",
    "\n",
    "    print(f'{x} % 2 = {x % 2}')"
   ]
  },
  {
   "cell_type": "markdown",
   "id": "d266e5c4",
   "metadata": {},
   "source": [
    "Låt oss nu utföra vår beräkning på $ y = x^2 $"
   ]
  },
  {
   "cell_type": "code",
   "execution_count": null,
   "id": "b50ce674",
   "metadata": {},
   "outputs": [],
   "source": [
    "y_values = []\n",
    "\n",
    "for x in range(0, 11):\n",
    "\n",
    "    if x % 2 == 0:\n",
    "\n",
    "        y_values.append(x**2)\n",
    "\n",
    "print(y_values)\n"
   ]
  },
  {
   "cell_type": "code",
   "execution_count": null,
   "id": "5c211e51",
   "metadata": {},
   "outputs": [],
   "source": [
    "y_values_list_comprehended = [x**2 for x in range(0, 11) if x % 2 == 0]\n",
    "\n",
    "print(y_values_list_comprehended)"
   ]
  },
  {
   "cell_type": "markdown",
   "id": "3db29f64",
   "metadata": {},
   "source": [
    "---"
   ]
  },
  {
   "cell_type": "markdown",
   "id": "bbb61121",
   "metadata": {},
   "source": [
    "**Djupare fördjupning**"
   ]
  },
  {
   "cell_type": "markdown",
   "id": "89221b5e",
   "metadata": {},
   "source": [
    "Notera att värdet du vill lägga till i din lista är HELT upp till dig, du kan lägga till nästintill VAD SOM HELST"
   ]
  },
  {
   "cell_type": "code",
   "execution_count": null,
   "id": "b2084863",
   "metadata": {},
   "outputs": [],
   "source": [
    "print([letter for letter in 'Ali'])"
   ]
  },
  {
   "cell_type": "code",
   "execution_count": null,
   "id": "09a01b68",
   "metadata": {},
   "outputs": [],
   "source": [
    "print(['HAHA' for letter in 'Ali'])"
   ]
  },
  {
   "cell_type": "code",
   "execution_count": null,
   "id": "ebc551be",
   "metadata": {},
   "outputs": [],
   "source": [
    "dum_lista = [ [1,2,3] for letter in 'Ali']\n",
    "\n",
    "print(dum_lista)"
   ]
  },
  {
   "cell_type": "markdown",
   "id": "9aa427d2",
   "metadata": {},
   "source": [
    "**Nestade List Comprehensions**"
   ]
  },
  {
   "cell_type": "code",
   "execution_count": null,
   "id": "c24a28b1",
   "metadata": {},
   "outputs": [],
   "source": [
    "[x for x in range(0,3)]"
   ]
  },
  {
   "cell_type": "code",
   "execution_count": null,
   "id": "3f12699c",
   "metadata": {},
   "outputs": [],
   "source": [
    "[ [x for x in range(0,3)] for letter in 'Ali']"
   ]
  },
  {
   "cell_type": "code",
   "execution_count": null,
   "id": "feeeebff",
   "metadata": {},
   "outputs": [],
   "source": [
    "print([[f'{x}{y}' for y in range(6,9)] for x in range(0, 5)])"
   ]
  },
  {
   "cell_type": "code",
   "execution_count": null,
   "id": "9ae7999e",
   "metadata": {},
   "outputs": [],
   "source": [
    "outer_list = []\n",
    "\n",
    "for x in range(0, 5):\n",
    "\n",
    "    inner_list = []\n",
    "    \n",
    "    for y in range(6, 9):\n",
    "\n",
    "        inner_list.append(f'{x}{y}')\n",
    "\n",
    "    outer_list.append(inner_list)    \n",
    "\n",
    "print(outer_list)"
   ]
  },
  {
   "cell_type": "code",
   "execution_count": null,
   "id": "cb44f1f0",
   "metadata": {},
   "outputs": [],
   "source": []
  }
 ],
 "metadata": {
  "kernelspec": {
   "display_name": "programmering",
   "language": "python",
   "name": "python3"
  },
  "language_info": {
   "codemirror_mode": {
    "name": "ipython",
    "version": 3
   },
   "file_extension": ".py",
   "mimetype": "text/x-python",
   "name": "python",
   "nbconvert_exporter": "python",
   "pygments_lexer": "ipython3",
   "version": "3.13.5"
  }
 },
 "nbformat": 4,
 "nbformat_minor": 5
}
