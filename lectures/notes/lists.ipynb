{
 "cells": [
  {
   "cell_type": "markdown",
   "id": "d51f08cc",
   "metadata": {},
   "source": [
    "**List**\n",
    "\n",
    "En lista är bara en container (dvs en behållare) av andra objekt. Det skulle kunna vara namn, tal eller kombinationer av dessa. Listor kan även innehålla andra listor, eller vad som helst egentligen."
   ]
  },
  {
   "cell_type": "code",
   "execution_count": null,
   "id": "faa733fa",
   "metadata": {},
   "outputs": [],
   "source": [
    "studenter = ['Lisa', 'Kalle', 'Johan', 'Emma']\n",
    "\n",
    "print(studenter)\n",
    "print(type(studenter))"
   ]
  },
  {
   "cell_type": "markdown",
   "id": "90be42ea",
   "metadata": {},
   "source": [
    "Vi har tidigare sett att vi kan indexera listor, precis som strängar, och komma åt de olika elementen i listan."
   ]
  },
  {
   "cell_type": "code",
   "execution_count": null,
   "id": "a3130575",
   "metadata": {},
   "outputs": [],
   "source": [
    "print(studenter[0])\n",
    "print(studenter[1])\n",
    "print(studenter[2] + studenter[3])\n"
   ]
  },
  {
   "cell_type": "code",
   "execution_count": 6,
   "id": "4d1ad30f",
   "metadata": {},
   "outputs": [
    {
     "name": "stdout",
     "output_type": "stream",
     "text": [
      "Lisa Kalle Johan Emma "
     ]
    }
   ],
   "source": [
    "for student in studenter:\n",
    "\n",
    "    print(student, end=' ')"
   ]
  },
  {
   "cell_type": "code",
   "execution_count": 7,
   "id": "d8ef338e",
   "metadata": {},
   "outputs": [
    {
     "name": "stdout",
     "output_type": "stream",
     "text": [
      "Emma\n"
     ]
    }
   ],
   "source": [
    "print(student)"
   ]
  },
  {
   "cell_type": "code",
   "execution_count": null,
   "id": "e5647c40",
   "metadata": {},
   "outputs": [
    {
     "name": "stdout",
     "output_type": "stream",
     "text": [
      "i\n",
      "s\n",
      "Ha! a är den bästa bokstaven :)\n"
     ]
    }
   ],
   "source": [
    "for letter in studenter[0]:\n",
    "\n",
    "    if letter =='L':\n",
    "\n",
    "        pass                    # viktig funktionalitet, används för att göra ingenting\n",
    "\n",
    "    elif letter == 'a':\n",
    "\n",
    "        print(f'Ha! {letter} är den bästa bokstaven :)')\n",
    "\n",
    "    else:\n",
    "\n",
    "        print(letter)\n",
    "\n",
    "    "
   ]
  },
  {
   "cell_type": "markdown",
   "id": "7af3feee",
   "metadata": {},
   "source": [
    "**Enumerate()**"
   ]
  },
  {
   "cell_type": "code",
   "execution_count": 20,
   "id": "0b9356ff",
   "metadata": {},
   "outputs": [
    {
     "name": "stdout",
     "output_type": "stream",
     "text": [
      "student 0: Lisa\n",
      "student 1: Kalle\n",
      "student 2: Johan\n",
      "student 3: Emma\n"
     ]
    }
   ],
   "source": [
    "for i, student in enumerate(studenter):  # med enumerate får du också indexet (platsen) vilket respektive\n",
    "                                         # värde i listan studenter har\n",
    "\n",
    "    print(f'student {i}: {student}')"
   ]
  },
  {
   "cell_type": "markdown",
   "id": "7dfc3bf2",
   "metadata": {},
   "source": [
    "**Ändra värden i listor**"
   ]
  },
  {
   "cell_type": "code",
   "execution_count": 21,
   "id": "ba0085cb",
   "metadata": {},
   "outputs": [
    {
     "name": "stdout",
     "output_type": "stream",
     "text": [
      "['Lisa', 'Kalle', 'Johan', 'Emma']\n"
     ]
    }
   ],
   "source": [
    "print(studenter)"
   ]
  },
  {
   "cell_type": "code",
   "execution_count": 23,
   "id": "44ab5b95",
   "metadata": {},
   "outputs": [
    {
     "name": "stdout",
     "output_type": "stream",
     "text": [
      "['Lisa', 'Kalle', 'Johan', 'Viktoria']\n"
     ]
    }
   ],
   "source": [
    "studenter[3] = 'Viktoria'\n",
    "\n",
    "print(studenter)"
   ]
  },
  {
   "cell_type": "markdown",
   "id": "d2e618db",
   "metadata": {},
   "source": [
    "**append()**\n",
    "\n",
    "Används för att lägga till objekt till listor"
   ]
  },
  {
   "cell_type": "code",
   "execution_count": 24,
   "id": "16b0ad24",
   "metadata": {},
   "outputs": [
    {
     "name": "stdout",
     "output_type": "stream",
     "text": [
      "['Lisa', 'Kalle', 'Johan', 'Viktoria']\n"
     ]
    }
   ],
   "source": [
    "print(studenter)"
   ]
  },
  {
   "cell_type": "code",
   "execution_count": 25,
   "id": "c6a5c968",
   "metadata": {},
   "outputs": [
    {
     "name": "stdout",
     "output_type": "stream",
     "text": [
      "['Lisa', 'Kalle', 'Johan', 'Viktoria', 'Sara']\n"
     ]
    }
   ],
   "source": [
    "studenter.append('Sara')\n",
    "\n",
    "print(studenter)"
   ]
  },
  {
   "cell_type": "code",
   "execution_count": 27,
   "id": "089c0cf0",
   "metadata": {},
   "outputs": [
    {
     "name": "stdout",
     "output_type": "stream",
     "text": [
      "['Lisa', 'Kalle', 'Johan', 'Viktoria', 'Sara', 'Bamse', 'Vargen']\n"
     ]
    }
   ],
   "source": [
    "studenter.append(input('Vad heter du?'))\n",
    "\n",
    "print(studenter)"
   ]
  },
  {
   "cell_type": "code",
   "execution_count": 33,
   "id": "6f2afc25",
   "metadata": {},
   "outputs": [
    {
     "name": "stdout",
     "output_type": "stream",
     "text": [
      "['Ali', 'Bertil', 'Cecilia', 'David', 'Eva', 'Fredrik', 'Gustav', 'Hampus', 'Ivar', 'Jose']\n"
     ]
    }
   ],
   "source": [
    "studenter = []\n",
    "klass_deltagare = 10\n",
    "\n",
    "for i in range(klass_deltagare):\n",
    "\n",
    "    studenter.append(input('Vad heter du, käre student?'))\n",
    "\n",
    "print(studenter)"
   ]
  },
  {
   "cell_type": "markdown",
   "id": "2ced9d76",
   "metadata": {},
   "source": [
    "**Slicing**\n",
    "\n",
    "Används när man vill se delar av en lista, snarare än hela."
   ]
  },
  {
   "cell_type": "code",
   "execution_count": 34,
   "id": "f2af289e",
   "metadata": {},
   "outputs": [
    {
     "name": "stdout",
     "output_type": "stream",
     "text": [
      "['Ali', 'Bertil', 'Cecilia', 'David', 'Eva', 'Fredrik', 'Gustav', 'Hampus', 'Ivar', 'Jose']\n",
      "David\n"
     ]
    }
   ],
   "source": [
    "print(studenter)           # såhär ser vi hela listan\n",
    "print(studenter[3])        # såhär extraherar vi ett enstaka element ur listan"
   ]
  },
  {
   "cell_type": "code",
   "execution_count": 38,
   "id": "ca134d30",
   "metadata": {},
   "outputs": [
    {
     "name": "stdout",
     "output_type": "stream",
     "text": [
      "['Ali', 'Bertil', 'Cecilia']\n",
      "['Cecilia', 'David', 'Eva', 'Fredrik']\n"
     ]
    }
   ],
   "source": [
    "print(studenter[0:3])      # visar upp alla elementen med index 0 till 3 (obs 3 ej inklusive)\n",
    "print(studenter[2:6])      # visar upp alla elementen med index 2 till 6 (obs 6 ej inklusive)"
   ]
  },
  {
   "cell_type": "markdown",
   "id": "bfe6957d",
   "metadata": {},
   "source": [
    "**Sortera en lista**"
   ]
  },
  {
   "cell_type": "code",
   "execution_count": 40,
   "id": "b59dd38e",
   "metadata": {},
   "outputs": [
    {
     "name": "stdout",
     "output_type": "stream",
     "text": [
      "['beta', 'alpha', 'gamma', 'epsilon', 'delta']\n"
     ]
    }
   ],
   "source": [
    "greek_letters = ['beta', 'alpha', 'gamma', 'epsilon', 'delta']\n",
    "\n",
    "print(greek_letters)"
   ]
  },
  {
   "cell_type": "code",
   "execution_count": 42,
   "id": "5f04ba04",
   "metadata": {},
   "outputs": [
    {
     "name": "stdout",
     "output_type": "stream",
     "text": [
      "['alpha', 'beta', 'delta', 'epsilon', 'gamma']\n",
      "['beta', 'alpha', 'gamma', 'epsilon', 'delta']\n"
     ]
    }
   ],
   "source": [
    "print(sorted(greek_letters))\n",
    "print(greek_letters)"
   ]
  },
  {
   "cell_type": "code",
   "execution_count": 43,
   "id": "15051624",
   "metadata": {},
   "outputs": [
    {
     "name": "stdout",
     "output_type": "stream",
     "text": [
      "['alpha', 'beta', 'delta', 'epsilon', 'gamma']\n"
     ]
    }
   ],
   "source": [
    "sorted_greek_letters = sorted(greek_letters)\n",
    "\n",
    "print(sorted_greek_letters)"
   ]
  },
  {
   "cell_type": "code",
   "execution_count": 45,
   "id": "38ddfae1",
   "metadata": {},
   "outputs": [
    {
     "name": "stdout",
     "output_type": "stream",
     "text": [
      "[1, 5, 3, 2, 4, 6, 8, 7, 10, 9]\n",
      "[1, 2, 3, 4, 5, 6, 7, 8, 9, 10]\n"
     ]
    }
   ],
   "source": [
    "my_randomly_arranged_numbers = [1, 5, 3, 2, 4, 6, 8, 7, 10, 9]\n",
    "\n",
    "print(my_randomly_arranged_numbers)\n",
    "\n",
    "my_sorted_numbers = sorted(my_randomly_arranged_numbers)\n",
    "\n",
    "print(my_sorted_numbers)"
   ]
  },
  {
   "cell_type": "code",
   "execution_count": null,
   "id": "5d0f4732",
   "metadata": {},
   "outputs": [
    {
     "name": "stdout",
     "output_type": "stream",
     "text": [
      "['Mt Rinjani', 34, 'Ali']\n"
     ]
    },
    {
     "ename": "TypeError",
     "evalue": "'<' not supported between instances of 'int' and 'str'",
     "output_type": "error",
     "traceback": [
      "\u001b[31m---------------------------------------------------------------------------\u001b[39m",
      "\u001b[31mTypeError\u001b[39m                                 Traceback (most recent call last)",
      "\u001b[36mCell\u001b[39m\u001b[36m \u001b[39m\u001b[32mIn[47]\u001b[39m\u001b[32m, line 5\u001b[39m\n\u001b[32m      1\u001b[39m blandad_lista = [\u001b[33m'\u001b[39m\u001b[33mMt Rinjani\u001b[39m\u001b[33m'\u001b[39m, \u001b[32m34\u001b[39m, \u001b[33m'\u001b[39m\u001b[33mAli\u001b[39m\u001b[33m'\u001b[39m]\n\u001b[32m      3\u001b[39m \u001b[38;5;28mprint\u001b[39m(blandad_lista)\n\u001b[32m----> \u001b[39m\u001b[32m5\u001b[39m \u001b[38;5;28mprint\u001b[39m(\u001b[38;5;28msorted\u001b[39m(blandad_lista))\n",
      "\u001b[31mTypeError\u001b[39m: '<' not supported between instances of 'int' and 'str'"
     ]
    }
   ],
   "source": [
    "blandad_lista = ['Mt Rinjani', 34, 'Ali']\n",
    "\n",
    "print(blandad_lista)\n",
    "\n",
    "print(sorted(blandad_lista))     # går ej att sortera blandade listor, vi får error"
   ]
  },
  {
   "cell_type": "code",
   "execution_count": 48,
   "id": "a8ab48a0",
   "metadata": {},
   "outputs": [
    {
     "name": "stdout",
     "output_type": "stream",
     "text": [
      "['103', '25', '32', 'Ali', 'Bali']\n"
     ]
    }
   ],
   "source": [
    "annan_blandad_ish_lista = ['Bali', '32', '25', '103', 'Ali']\n",
    "\n",
    "print(sorted(annan_blandad_ish_lista))"
   ]
  },
  {
   "cell_type": "markdown",
   "id": "b9afa051",
   "metadata": {},
   "source": [
    "**List comprehensions**"
   ]
  },
  {
   "cell_type": "code",
   "execution_count": 55,
   "id": "b646e9c8",
   "metadata": {},
   "outputs": [
    {
     "name": "stdout",
     "output_type": "stream",
     "text": [
      "[0, 1, 4, 9, 16, 25, 36, 49, 64, 81, 100]\n",
      "[0, 1, 4, 9, 16, 25, 36, 49, 64, 81, 100]\n"
     ]
    }
   ],
   "source": [
    "inneffektiv_kvadrat_list = [0, 1, 4, 9, 16, 25, 36, 49, 64, 81, 100]\n",
    "print(inneffektiv_kvadrat_list)\n",
    "\n",
    "effektiv_kvadrat_lista = [x**2 for x in range(0, 11)]\n",
    "print(effektiv_kvadrat_lista)\n"
   ]
  },
  {
   "cell_type": "code",
   "execution_count": 56,
   "id": "e752cec4",
   "metadata": {},
   "outputs": [
    {
     "name": "stdout",
     "output_type": "stream",
     "text": [
      "[0, 1, 4, 9, 16, 25, 36, 49, 64, 81, 100, 121, 144, 169, 196, 225, 256, 289, 324, 361]\n",
      "[0, 1, 8, 27, 64, 125, 216, 343, 512, 729, 1000, 1331, 1728, 2197, 2744, 3375, 4096, 4913, 5832, 6859]\n"
     ]
    }
   ],
   "source": [
    "kvadrater = [x**2 for x in range(0,20)]\n",
    "cubes = [x**3 for x in range(0,20)]\n",
    "\n",
    "print(kvadrater)\n",
    "print(cubes)"
   ]
  },
  {
   "cell_type": "markdown",
   "id": "804cbfd3",
   "metadata": {},
   "source": [
    "$ y = 5x + 2 $\n",
    "\n",
    "anta att vi vill beräkna alla y-värden för x mellan 0 och 30"
   ]
  },
  {
   "cell_type": "code",
   "execution_count": 57,
   "id": "23c1d63e",
   "metadata": {},
   "outputs": [
    {
     "name": "stdout",
     "output_type": "stream",
     "text": [
      "[2, 7, 12, 17, 22, 27, 32, 37, 42, 47, 52, 57, 62, 67, 72, 77, 82, 87, 92, 97, 102, 107, 112, 117, 122, 127, 132, 137, 142, 147, 152]\n"
     ]
    }
   ],
   "source": [
    "y_values = [5*x+2 for x in range(0, 31)]\n",
    "print(y_values)"
   ]
  },
  {
   "cell_type": "code",
   "execution_count": null,
   "id": "48d6a9d2",
   "metadata": {},
   "outputs": [],
   "source": []
  }
 ],
 "metadata": {
  "kernelspec": {
   "display_name": "programmering",
   "language": "python",
   "name": "python3"
  },
  "language_info": {
   "codemirror_mode": {
    "name": "ipython",
    "version": 3
   },
   "file_extension": ".py",
   "mimetype": "text/x-python",
   "name": "python",
   "nbconvert_exporter": "python",
   "pygments_lexer": "ipython3",
   "version": "3.13.5"
  }
 },
 "nbformat": 4,
 "nbformat_minor": 5
}
