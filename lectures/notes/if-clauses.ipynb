{
 "cells": [
  {
   "cell_type": "markdown",
   "id": "43c201d0",
   "metadata": {},
   "source": [
    "## Jämförelser"
   ]
  },
  {
   "cell_type": "code",
   "execution_count": 14,
   "id": "7f653d0e",
   "metadata": {},
   "outputs": [
    {
     "name": "stdout",
     "output_type": "stream",
     "text": [
      "number_1 > number_2 evalueras till False\n",
      "number_1 < number_2 evalueras till True\n",
      "number_1 <= number_2 evalueras till True\n",
      "number_1 >= number_2 evalueras till False\n",
      "number_1 >= number_2 evalueras till False\n"
     ]
    }
   ],
   "source": [
    "number_1 = 10\n",
    "number_2 = 20\n",
    "\n",
    "\n",
    "print(f'number_1 > number_2 evalueras till {number_1 > number_2}')\n",
    "print(f'number_1 < number_2 evalueras till {number_1 < number_2}')\n",
    "print(f'number_1 <= number_2 evalueras till {number_1 <= number_2}')\n",
    "print(f'number_1 >= number_2 evalueras till {number_1 >= number_2}')\n",
    "print(f'number_1 >= number_2 evalueras till {number_1 == number_2}')  # i Python kontrolleras likhet med dubbla likhetstecken!"
   ]
  },
  {
   "cell_type": "markdown",
   "id": "9cd9fb39",
   "metadata": {},
   "source": [
    "## Fler jämförelser\n",
    "\n",
    "Python har även stöd för flera jämförelser samtidigt."
   ]
  },
  {
   "cell_type": "code",
   "execution_count": 18,
   "id": "29dda729",
   "metadata": {},
   "outputs": [
    {
     "name": "stdout",
     "output_type": "stream",
     "text": [
      "25 < age < 30 evalueras till False\n",
      "25 < age <= 30 evalueras till True\n"
     ]
    }
   ],
   "source": [
    "age = 30\n",
    "\n",
    "print(f'25 < age < 30 evalueras till {25 < age < 30}')\n",
    "print(f'25 < age <= 30 evalueras till {25 < age <= 30}')"
   ]
  },
  {
   "cell_type": "markdown",
   "id": "0054dbcd",
   "metadata": {},
   "source": [
    "Du väljer givetvis själv vilka jämförelseoperationer du vill tillämpa."
   ]
  },
  {
   "cell_type": "markdown",
   "id": "fc73cd90",
   "metadata": {},
   "source": [
    "## IF-satser\n",
    "\n",
    "IF-satser evaluerar om ett givet villkor är True, och isåfall exekverar (kör) koden i det indenterade blocket precis nedanför."
   ]
  },
  {
   "cell_type": "code",
   "execution_count": 27,
   "id": "48e57e09",
   "metadata": {},
   "outputs": [
    {
     "name": "stdout",
     "output_type": "stream",
     "text": [
      "Indeed, 10 är mindre än 20.\n"
     ]
    }
   ],
   "source": [
    "number_1 = 10\n",
    "number_2 = 20\n",
    "\n",
    "if number_1 < number_2: \n",
    "    \n",
    "    print(f'Indeed, {number_1} är mindre än {number_2}.')\n"
   ]
  },
  {
   "cell_type": "markdown",
   "id": "f2ca53d9",
   "metadata": {},
   "source": [
    "Om villkoret inte är True (dvs evalueras till False) hoppar Python helt enkelt över det indenterade blocket."
   ]
  },
  {
   "cell_type": "code",
   "execution_count": null,
   "id": "454d4aef",
   "metadata": {},
   "outputs": [
    {
     "name": "stdout",
     "output_type": "stream",
     "text": [
      "Vi skrivet ut detta istället\n"
     ]
    }
   ],
   "source": [
    "if number_1 > number_2: \n",
    "    \n",
    "    print(f'Hmm, {number_1} kanske är större än {number_2}.')\n",
    "    print('Matematik funkar inte!')\n",
    "\n",
    "print('Vi skrivet ut detta istället')"
   ]
  },
  {
   "cell_type": "markdown",
   "id": "83b623f7",
   "metadata": {},
   "source": [
    "## IF-ELSE\n",
    "\n",
    "ELSE är en kompanjon till IF, och exekverar sin kod om IF-satsen inte är True"
   ]
  },
  {
   "cell_type": "code",
   "execution_count": 33,
   "id": "7fb86f74",
   "metadata": {},
   "outputs": [
    {
     "name": "stdout",
     "output_type": "stream",
     "text": [
      "Nej, 10 är definitivt mindre än 20.\n"
     ]
    }
   ],
   "source": [
    "if number_1 > number_2:     \n",
    "    \n",
    "    print(f'Hmm, {number_1} kanske är större än {number_2}.')\n",
    "    print('Matematik funkar inte!')\n",
    "\n",
    "else:\n",
    "    \n",
    "    print(f'Nej, {number_1} är definitivt mindre än {number_2}.')"
   ]
  },
  {
   "cell_type": "markdown",
   "id": "18eebf67",
   "metadata": {},
   "source": [
    "## IF-ELIF-ELSE\n",
    "\n",
    "Ytterligare en kompanjon till If och Else. Den här ger oss fler möjligheter att testa olika villkor. Python kommer **endast** att exekvera ett kodblock i en if-elif-else kombination, nämligen det **första** kodblocket för vilket villkoret evalueras till True."
   ]
  },
  {
   "cell_type": "code",
   "execution_count": 35,
   "id": "051595c0",
   "metadata": {},
   "outputs": [
    {
     "name": "stdout",
     "output_type": "stream",
     "text": [
      "Vet du vad, 18 är lika med 18!\n"
     ]
    }
   ],
   "source": [
    "number_1 = 18\n",
    "number_2 = 18\n",
    "\n",
    "if number_1 > number_2:  \n",
    "\n",
    "    print(f'Hmm, {number_1} kanske är större än {number_2}?')\n",
    "\n",
    "elif number_1 == number_2:\n",
    "\n",
    "    print(f'Vet du vad, {number_1} är lika med {number_2}!')\n",
    "\n",
    "else: \n",
    "\n",
    "    print(f'Nej, {number_1} är definitivt mindre än {number_2}')\n"
   ]
  },
  {
   "cell_type": "markdown",
   "id": "9187cb31",
   "metadata": {},
   "source": [
    "Ni kan ha hur många ELIF satser ni vill!"
   ]
  },
  {
   "cell_type": "code",
   "execution_count": null,
   "id": "4787918f",
   "metadata": {},
   "outputs": [
    {
     "name": "stdout",
     "output_type": "stream",
     "text": [
      "Wow, number_1 = 20\n"
     ]
    }
   ],
   "source": [
    "number_1 = 20\n",
    "number_2 = 21\n",
    "\n",
    "if number_1 > number_2:  \n",
    "\n",
    "    print(f'Hmm, {number_1} kanske är större än {number_2}?')\n",
    "\n",
    "elif number_1 == number_2:\n",
    "\n",
    "    print(f'Vet du vad, {number_1} är lika med {number_2}!')\n",
    "\n",
    "elif number_1*2 == 40:\n",
    "\n",
    "    print(f'Wow, number_1 = 20')\n",
    "\n",
    "else: \n",
    "\n",
    "    print(f'Nej, {number_1} är definitivt mindre än {number_2}')"
   ]
  },
  {
   "cell_type": "markdown",
   "id": "208a61ec",
   "metadata": {},
   "source": [
    "## NESTED IF\n",
    "\n",
    "Det går väldigt bra att lägga in ytterliga if-elif-else satser, under redan befintliga if-elif-else satser"
   ]
  },
  {
   "cell_type": "code",
   "execution_count": 45,
   "id": "a2834f82",
   "metadata": {},
   "outputs": [
    {
     "name": "stdout",
     "output_type": "stream",
     "text": [
      "Jag tänker inte prata med dig förens du ber om ursäkt\n"
     ]
    }
   ],
   "source": [
    "visitor = input('Vem är du?')\n",
    "\n",
    "if visitor == 'Mamma':\n",
    "\n",
    "    has_candy = input('Har du godis till mig? Ja eller Nej')\n",
    "\n",
    "    if has_candy == 'Ja':\n",
    "        print('Knacka på')\n",
    "    \n",
    "    else: \n",
    "        print('Lämna mig ifred!')\n",
    "\n",
    "elif visitor == 'Kalle':\n",
    "\n",
    "    apology = input('Har du kommit för att be om ursäkt?')\n",
    "\n",
    "    if apology == 'Ja':\n",
    "        print('Okey, knacka på...')\n",
    "    elif apology == 'Nej':\n",
    "        print('Jag hatar dig!! GÅ HÄRIFRÅN' )\n",
    "    else:\n",
    "        print('Jag tänker inte prata med dig förens du ber om ursäkt')\n",
    "\n",
    "else:\n",
    "\n",
    "    print('Stör inte mig snälla, knacka endast på om du har godis till mig!')\n"
   ]
  }
 ],
 "metadata": {
  "kernelspec": {
   "display_name": "programmering",
   "language": "python",
   "name": "python3"
  },
  "language_info": {
   "codemirror_mode": {
    "name": "ipython",
    "version": 3
   },
   "file_extension": ".py",
   "mimetype": "text/x-python",
   "name": "python",
   "nbconvert_exporter": "python",
   "pygments_lexer": "ipython3",
   "version": "3.13.5"
  }
 },
 "nbformat": 4,
 "nbformat_minor": 5
}
