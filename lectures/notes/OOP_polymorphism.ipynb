{
 "cells": [
  {
   "cell_type": "markdown",
   "metadata": {},
   "source": [
    "## Polymorphism"
   ]
  },
  {
   "cell_type": "markdown",
   "metadata": {},
   "source": [
    "I runda slänger betyder polymorphism att \"anta flera former\".\n",
    "\n",
    "Ett exempel är våra olika operation, addition, multiplikation osv. Vi vet sedan tidigare, från grundläggande matematik, hur dessa operationer fungerar på reella tall (dvs heltal, rationella tal och reella tal)."
   ]
  },
  {
   "cell_type": "code",
   "execution_count": null,
   "metadata": {},
   "outputs": [],
   "source": [
    "# ni har undermedvetet lärt er vad operation addition (+) gör för tal\n",
    "\n",
    "print(1+5)\n",
    "\n",
    "# ni vet också hur operationerna beter sig för olika tal\n",
    "\n",
    "print((-5) + 7)\n",
    "\n",
    "# samma för våra andra vanliga operationer såsom exempelvis multiplikation\n",
    "\n",
    "print(10 * (-3))"
   ]
  },
  {
   "cell_type": "markdown",
   "metadata": {},
   "source": [
    "Men observera att vi kan definiera vad + betyder.\n",
    "\n",
    "Exempel från Facebook:"
   ]
  },
  {
   "cell_type": "markdown",
   "metadata": {},
   "source": [
    "1+1 = 3\n",
    "\n",
    "2+2 = 5\n",
    "\n",
    "3+4 = 8\n",
    "\n",
    "5+6 = ?"
   ]
  },
  {
   "cell_type": "markdown",
   "metadata": {},
   "source": [
    "Ovan skulle vi kunna definiera operatorn + på följande vis\n",
    "\n",
    "x + y = x (+) y (+) 1\n",
    "\n",
    "där operatorn (+) inom parantes är den \"vanliga\" summeringsoperatorn vi är vana vid"
   ]
  },
  {
   "cell_type": "markdown",
   "metadata": {},
   "source": [
    "---"
   ]
  },
  {
   "cell_type": "markdown",
   "metadata": {},
   "source": [
    "I Python har vi faktiskt tidigare sett användningsområden av detta, där operatorer varit definierade för andra datatyper, som ex. strängar, listor osv."
   ]
  },
  {
   "cell_type": "code",
   "execution_count": null,
   "metadata": {},
   "outputs": [],
   "source": [
    "# nedan uttryck är inte alls uppenbar, förens man lär sig hur sträng\"addition\" fungerar i Python\n",
    "# för strängar är addition definierat som en konkatenering (sammansättning) av strängarna\n",
    "\n",
    "print('5' + '7')\n",
    "print(type('5' + '7'))\n"
   ]
  },
  {
   "cell_type": "code",
   "execution_count": null,
   "metadata": {},
   "outputs": [],
   "source": [
    "# för listor\n",
    "# även här är additionsoperatorn definierad som en enkel utökning/sammansättning av listorna i fråga\n",
    "\n",
    "print([5, 2] + [7, 8])\n",
    "\n",
    "# för numpy arrays\n",
    "\n",
    "import numpy as np\n",
    "\n",
    "print(np.array([5, 2]) + np.array([7, 8]))\n"
   ]
  },
  {
   "cell_type": "markdown",
   "metadata": {},
   "source": [
    "Vi har även sett att multiplikationsoperatorn är definierad för både listor och strängar, förutsatt att man multiplicerar objektet i fråga med en **integer**."
   ]
  },
  {
   "cell_type": "code",
   "execution_count": null,
   "metadata": {},
   "outputs": [],
   "source": [
    "print('5'*3)\n",
    "print([10]*5)"
   ]
  },
  {
   "cell_type": "markdown",
   "metadata": {},
   "source": [
    "Även för numpy arrays, där multiplikation med flyttal (floats) också naturligtvis är definierat & tillåtet."
   ]
  },
  {
   "cell_type": "code",
   "execution_count": null,
   "metadata": {},
   "outputs": [],
   "source": [
    "print(np.array([10, 2, 6])*5.2)"
   ]
  },
  {
   "cell_type": "markdown",
   "metadata": {},
   "source": [
    "Att vi kan använda våra operatorer (ex + och *) på olika datatyper, kalles för **operator overload**. \n",
    "\n",
    "Det är en specifik typ av polymorphism som ger oss möjligheten att själva definiera vad dessa operatorer ska göra beroende på vilka klasser den agerar på.\n"
   ]
  },
  {
   "cell_type": "markdown",
   "metadata": {},
   "source": [
    "---"
   ]
  },
  {
   "cell_type": "markdown",
   "metadata": {},
   "source": [
    "En annan typ av polymorphism är för metoder. För olika klasser, kan vi skapa metoder med samma namn men som beter sig annorlunda.\n",
    "\n",
    "*Exempel*"
   ]
  },
  {
   "cell_type": "code",
   "execution_count": null,
   "metadata": {},
   "outputs": [],
   "source": [
    "class Fish:\n",
    "\n",
    "    def __init__(self, name: str) -> None:\n",
    "\n",
    "        self.name = name\n",
    "    \n",
    "    def speak(self):\n",
    "\n",
    "        print('Blubb blubb')\n",
    "\n",
    "class Fox:\n",
    "\n",
    "    def __init__(self, name: str) -> None:\n",
    "\n",
    "        self.name = name\n",
    "\n",
    "    def speak(self):\n",
    "\n",
    "        print(\"Erhh... I actually don't know how fox's sound like.\")"
   ]
  },
  {
   "cell_type": "code",
   "execution_count": null,
   "metadata": {},
   "outputs": [],
   "source": [
    "nemo = Fish('Nemo')\n",
    "kurama = Fox('Kurama')\n",
    "\n",
    "# det vi ser nedan är två unika metoder för olika klasser, som beter sig annorlunda.\n",
    "# dock heter metoderna samma sak!\n",
    "\n",
    "nemo.speak()\n",
    "kurama.speak()"
   ]
  },
  {
   "cell_type": "markdown",
   "metadata": {},
   "source": [
    "Så, precis som för ex + och * operatorn kan vi definiera metoder (med samma namn) för olika klasser som beter sig annorlunda."
   ]
  },
  {
   "cell_type": "markdown",
   "metadata": {},
   "source": [
    "---"
   ]
  },
  {
   "cell_type": "markdown",
   "metadata": {},
   "source": [
    "**Lägg dock märke till följande nu**"
   ]
  },
  {
   "cell_type": "code",
   "execution_count": null,
   "metadata": {},
   "outputs": [],
   "source": [
    "nemo = Fish('Nemo')\n",
    "dory = Fish('Dory')"
   ]
  },
  {
   "cell_type": "code",
   "execution_count": null,
   "metadata": {},
   "outputs": [],
   "source": [
    "# ... vad förväntar vi oss att ska ske nedan?\n",
    "\n",
    "nemo + dory"
   ]
  },
  {
   "cell_type": "markdown",
   "metadata": {},
   "source": [
    "Vi får error ovan ty operatorn + **inte** är definierad för instanser av klassen Fish.\n",
    "\n",
    "Vi måste själva definiera det, innan det kommer funka."
   ]
  },
  {
   "cell_type": "markdown",
   "metadata": {},
   "source": [
    "___"
   ]
  },
  {
   "cell_type": "markdown",
   "metadata": {},
   "source": [
    "## Så, hur implementerar vi **operator overload** för våra egna klasser?\n",
    "\n",
    "För att ex definiera hur addition (+) för instanser av vår enga klass ska bete sig, använder vi oss av det speciella metodnamnet **__ add __**."
   ]
  },
  {
   "cell_type": "code",
   "execution_count": 22,
   "metadata": {},
   "outputs": [],
   "source": [
    "class Wares:\n",
    "\n",
    "    def __init__(self, name: str, price: int | float, brand: str, expiry: str, stock: int) -> None:\n",
    "\n",
    "        self.name = name\n",
    "        self.price = price\n",
    "        self.brand = brand\n",
    "        self.expiry = expiry\n",
    "        self.stock = stock\n",
    "\n",
    "    # nedan definierar vi additionsoperatorn (+) för instanser av denna klass\n",
    "    # vi bestämma själva EXAKT vad denna metod ska göra\n",
    "\n",
    "    def __add__(self, other: 'Wares') -> str:\n",
    "\n",
    "        #print('HAHA')\n",
    "        #print(self.brand + other.brand)\n",
    "\n",
    "        return f\"In total, we have {self.stock + other.stock} {self.name} and {other.name}'s.\"\n",
    "    \n",
    "    # nedan definierar vi multiplikationsoperatorn (*) för instanser av denna klass\n",
    "    # återigen, vi har full kreativ kontroll över beteendet\n",
    "\n",
    "    def __mul__(self, other: 'Wares') -> str:\n",
    "\n",
    "        \"\"\"This class method will calculate the total cost of all combined items in stock, between both instances self & other\"\"\"\n",
    "\n",
    "        total_self_cost = self.stock * self.price \n",
    "        total_other_cost = other.stock * other.price\n",
    "\n",
    "        print(f'If we bought all {self.name}, it would cost us {total_self_cost} dollahs')\n",
    "        print(f'If we bought all {other.name}, it would cost us {total_other_cost} dollahs')\n",
    "\n",
    "        return f'In total, all items would cost us {total_self_cost + total_other_cost} dollahs.'"
   ]
  },
  {
   "cell_type": "code",
   "execution_count": 23,
   "metadata": {},
   "outputs": [],
   "source": [
    "banan = Wares('Banana', 22.90, 'Chiquita', '2025-10-15', 100)\n",
    "äpple = Wares('Apple', 34.90, 'Granny Smith', '2025-10-21', 300)\n"
   ]
  },
  {
   "cell_type": "code",
   "execution_count": 27,
   "metadata": {},
   "outputs": [
    {
     "data": {
      "text/plain": [
       "\"In total, we have 400 Banana and Apple's.\""
      ]
     },
     "execution_count": 27,
     "metadata": {},
     "output_type": "execute_result"
    }
   ],
   "source": [
    "banan + äpple"
   ]
  },
  {
   "cell_type": "code",
   "execution_count": 25,
   "metadata": {},
   "outputs": [
    {
     "name": "stdout",
     "output_type": "stream",
     "text": [
      "If we bought all Banana, it would cost us 2290.0 dollahs\n",
      "If we bought all Apple, it would cost us 10470.0 dollahs\n"
     ]
    },
    {
     "data": {
      "text/plain": [
       "'In total, all items would cost us 12760.0 dollahs.'"
      ]
     },
     "execution_count": 25,
     "metadata": {},
     "output_type": "execute_result"
    }
   ],
   "source": [
    "banan * äpple"
   ]
  },
  {
   "cell_type": "markdown",
   "metadata": {},
   "source": [
    "Observera att ordningen är viktig!"
   ]
  },
  {
   "cell_type": "code",
   "execution_count": 26,
   "metadata": {},
   "outputs": [
    {
     "name": "stdout",
     "output_type": "stream",
     "text": [
      "If we bought all Apple, it would cost us 10470.0 dollahs\n",
      "If we bought all Banana, it would cost us 2290.0 dollahs\n"
     ]
    },
    {
     "data": {
      "text/plain": [
       "'In total, all items would cost us 12760.0 dollahs.'"
      ]
     },
     "execution_count": 26,
     "metadata": {},
     "output_type": "execute_result"
    }
   ],
   "source": [
    "äpple * banan"
   ]
  },
  {
   "cell_type": "markdown",
   "metadata": {},
   "source": [
    "---"
   ]
  },
  {
   "cell_type": "markdown",
   "metadata": {},
   "source": [
    "\n",
    "- giving additional functionality to an operator\n",
    "- e.g. + is overloaded for strings, int, float etc.\n",
    "- Read more: [operator overloading](https://www.geeksforgeeks.org/operator-overloading-in-python/)\n",
    "\n",
    "| Operator |        Dunder method         |\n",
    "| :------: | :--------------------------: |\n",
    "|    +     |   \\_\\_add\\_\\_(self,other)    |\n",
    "|    -     |   \\_\\_sub\\_\\_(self,other)    |\n",
    "|    \\*    |   \\_\\_mul\\_\\_(self,other)    |\n",
    "|    /     |   \\_\\_truediv\\_\\_(self,other)    |\n",
    "|    //    | \\_\\_floordiv\\_\\_(self,other) |\n",
    "|    %     |   \\_\\_mod\\_\\_(self,other)    |\n",
    "|   \\*\\*   |   \\_\\_pow\\_\\_(self,other)    |\n",
    "|    <     |    \\_\\_lt\\_\\_(self,other)    |\n",
    "|    <=    |    \\_\\_le\\_\\_(self,other)    |\n",
    "|    >     |    \\_\\_gt\\_\\_(self,other)    |\n",
    "|    >=    |    \\_\\_ge\\_\\_(self,other)    |\n",
    "|    ==    |    \\_\\_eq\\_\\_(self,other)    |\n",
    "\n",
    "- Note that there are more operators that can be overloaded than those specified in this list"
   ]
  },
  {
   "cell_type": "markdown",
   "metadata": {},
   "source": []
  }
 ],
 "metadata": {
  "kernelspec": {
   "display_name": "programmering",
   "language": "python",
   "name": "python3"
  },
  "language_info": {
   "codemirror_mode": {
    "name": "ipython",
    "version": 3
   },
   "file_extension": ".py",
   "mimetype": "text/x-python",
   "name": "python",
   "nbconvert_exporter": "python",
   "pygments_lexer": "ipython3",
   "version": "3.13.5"
  }
 },
 "nbformat": 4,
 "nbformat_minor": 2
}
