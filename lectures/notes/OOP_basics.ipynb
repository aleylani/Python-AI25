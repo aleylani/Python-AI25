{
 "cells": [
  {
   "cell_type": "markdown",
   "metadata": {},
   "source": [
    "## OOP - Objekt Orienterad Programmering"
   ]
  },
  {
   "cell_type": "markdown",
   "metadata": {},
   "source": [
    "Allting i Python, i synnerhet alla datatyper och funktioner vi hitills har jobbat med har ett mer tekniskt namn - objekt.\n",
    "\n",
    "Allting i Python är objekt som tillhör olika klasser. Vad är en klass?\n",
    "\n",
    "Vi har stött på många olika klasser innan, exempelvis strängar, listor, heltal, decimaltal osv. \n",
    "\n",
    "Om vi definierar en variabel till att vara ex. en sträng så säger vi att den variabeln nu är en instans av klassen sträng."
   ]
  },
  {
   "cell_type": "code",
   "execution_count": 1,
   "metadata": {},
   "outputs": [],
   "source": [
    "# variabeln mitt_namn är nu assignad till att vara en sträng\n",
    "\n",
    "mitt_namn = 'Ali Leylani'\n",
    "\n",
    "# variabeln min_lista är nu assignad till att vara en lista\n",
    "\n",
    "min_lista = ['Ali', 'Har', 'Fel', 'Ibland', 'Men', 'Inte', 'Så', 'Ofta']"
   ]
  },
  {
   "cell_type": "markdown",
   "metadata": {},
   "source": [
    "Vi har också sett att olika datatyper (klasser) beter sig på liknande sätt relativt objekt i samma klass."
   ]
  },
  {
   "cell_type": "code",
   "execution_count": 4,
   "metadata": {},
   "outputs": [],
   "source": [
    "# detta är en annan sträng\n",
    "\n",
    "ditt_namn ='John Krasinski'\n",
    "\n",
    "# men lägg märke till att denna sträng beter sig likadant som vår första sträng,\n",
    "# när vi utför operationer på den"
   ]
  },
  {
   "cell_type": "markdown",
   "metadata": {},
   "source": [
    "*Exempel*\n",
    "\n",
    "Multiplikation av sträng. Själva värdet av strängarna i sig kan vara annorlunda, men de beter sig likadant under ex. multiplikation."
   ]
  },
  {
   "cell_type": "code",
   "execution_count": 6,
   "metadata": {},
   "outputs": [
    {
     "name": "stdout",
     "output_type": "stream",
     "text": [
      "Ali LeylaniAli Leylani\n",
      "John KrasinskiJohn Krasinski\n"
     ]
    }
   ],
   "source": [
    "print(mitt_namn*2)\n",
    "print(ditt_namn*2)"
   ]
  },
  {
   "cell_type": "markdown",
   "metadata": {},
   "source": [
    "metoden lower()"
   ]
  },
  {
   "cell_type": "code",
   "execution_count": 8,
   "metadata": {},
   "outputs": [
    {
     "name": "stdout",
     "output_type": "stream",
     "text": [
      "ali leylani\n",
      "john krasinski\n"
     ]
    }
   ],
   "source": [
    "print(mitt_namn.lower())\n",
    "print(ditt_namn.lower())"
   ]
  },
  {
   "cell_type": "markdown",
   "metadata": {},
   "source": [
    "Motsvarande likheter finns för ex listor (och även för alla andra klasser, för den delen)"
   ]
  },
  {
   "cell_type": "code",
   "execution_count": 11,
   "metadata": {},
   "outputs": [
    {
     "name": "stdout",
     "output_type": "stream",
     "text": [
      "['Ali', 'Har', 'Fel', 'Ibland', 'Men', 'Inte', 'Så', 'Ofta', 'Ali', 'Har', 'Fel', 'Ibland', 'Men', 'Inte', 'Så', 'Ofta']\n",
      "['Hej', 'och', 'hå', 'Hej', 'och', 'hå']\n",
      "['Ali', 'Har', 'Fel', 'Ibland', 'Men', 'Inte', 'Så', 'Ofta', 111222]\n",
      "['Hej', 'och', 'hå', 111222]\n"
     ]
    }
   ],
   "source": [
    "min_lista = ['Ali', 'Har', 'Fel', 'Ibland', 'Men', 'Inte', 'Så', 'Ofta']\n",
    "din_lista = ['Hej', 'och', 'hå']\n",
    "\n",
    "print(min_lista*2)\n",
    "print(din_lista*2)\n",
    "\n",
    "min_lista.append(111222)\n",
    "din_lista.append(111222)\n",
    "\n",
    "print(min_lista)\n",
    "print(din_lista)"
   ]
  },
  {
   "cell_type": "markdown",
   "metadata": {},
   "source": [
    "Vi kan kontrollera huruvida ett objekt tillhör en given klass med hjälp av **isinstance()**-funktionen"
   ]
  },
  {
   "cell_type": "code",
   "execution_count": 13,
   "metadata": {},
   "outputs": [
    {
     "name": "stdout",
     "output_type": "stream",
     "text": [
      "<class 'str'>\n"
     ]
    }
   ],
   "source": [
    "mitt_namn = 'ALi Leylani'\n",
    "\n",
    "# type returnerar klassen ditt objekt tillhör\n",
    "print(type(mitt_namn))"
   ]
  },
  {
   "cell_type": "code",
   "execution_count": 19,
   "metadata": {},
   "outputs": [
    {
     "data": {
      "text/plain": [
       "True"
      ]
     },
     "execution_count": 19,
     "metadata": {},
     "output_type": "execute_result"
    }
   ],
   "source": [
    "# isinstance() kontrollerar om ditt objekt är av en given klass, och returnerar isåfall True om så är fallet - annars False\n",
    "\n",
    "isinstance(mitt_namn, str)"
   ]
  },
  {
   "cell_type": "code",
   "execution_count": 21,
   "metadata": {},
   "outputs": [
    {
     "data": {
      "text/plain": [
       "False"
      ]
     },
     "execution_count": 21,
     "metadata": {},
     "output_type": "execute_result"
    }
   ],
   "source": [
    "# detta blir false, eftersom att mitt_namn är en instans av klassen sträng, och inte lista.\n",
    "\n",
    "isinstance(mitt_namn, list)\n"
   ]
  },
  {
   "cell_type": "markdown",
   "metadata": {},
   "source": [
    "isinstance() är en mycket viktig funktion, som ni kommer att använda mer från och med nu.\n",
    "\n",
    "*Exempel usecase*"
   ]
  },
  {
   "cell_type": "code",
   "execution_count": 22,
   "metadata": {},
   "outputs": [
    {
     "name": "stdout",
     "output_type": "stream",
     "text": [
      "Success! Objektet är en instans av önskad klass\n"
     ]
    }
   ],
   "source": [
    "# om ni vill kontrollera att ett givet objekt är av en önskad datatyp/klass\n",
    "\n",
    "mitt_objekt = [1, 2, 3, 4, 5, 6]\n",
    "\n",
    "if isinstance(mitt_objekt, list):\n",
    "\n",
    "    print('Success! Objektet är en instans av önskad klass')\n",
    "\n",
    "else:\n",
    "\n",
    "    print('What you doing bruh. Hand me an instance of the desired class!')"
   ]
  },
  {
   "cell_type": "markdown",
   "metadata": {},
   "source": [
    "- **Allting i Python är objekt**\n",
    "\n",
    "- **Alla objekt har en datatyp/klass**\n",
    "\n",
    "- **Objekt tillhörande olika klasser sägs vara instanser av respektive klass**\n",
    "\n",
    "- **Vi kan använda isinstance() funktionen för att kotnrollera om ett givet objekt tillhör en given klass**"
   ]
  },
  {
   "cell_type": "markdown",
   "metadata": {},
   "source": [
    "Bara för att vara extra tydlig:\n",
    "\n",
    "Alla objekt i Python tillhör en viss klass. Med klass menar man ex stränger, integers, funktioner, dictionaries osv. \n",
    "\n",
    "Det som särskiljer en klass från en annan, är hur deras instanser beter sig under olika operationer (ex print, addition, multiplikation osv)."
   ]
  },
  {
   "cell_type": "markdown",
   "metadata": {},
   "source": [
    "**Strängar**"
   ]
  },
  {
   "cell_type": "code",
   "execution_count": 23,
   "metadata": {},
   "outputs": [
    {
     "data": {
      "text/plain": [
       "'HejHå'"
      ]
     },
     "execution_count": 23,
     "metadata": {},
     "output_type": "execute_result"
    }
   ],
   "source": [
    "en_sträng = 'Hej'\n",
    "annan_sträng = 'Hå'\n",
    "\n",
    "# addition av två strängar är helt enkelt definierad som en sammanslagning av strängarna\n",
    "en_sträng + annan_sträng"
   ]
  },
  {
   "cell_type": "code",
   "execution_count": 24,
   "metadata": {},
   "outputs": [
    {
     "ename": "TypeError",
     "evalue": "can't multiply sequence by non-int of type 'str'",
     "output_type": "error",
     "traceback": [
      "\u001b[31m---------------------------------------------------------------------------\u001b[39m",
      "\u001b[31mTypeError\u001b[39m                                 Traceback (most recent call last)",
      "\u001b[36mCell\u001b[39m\u001b[36m \u001b[39m\u001b[32mIn[24]\u001b[39m\u001b[32m, line 3\u001b[39m\n\u001b[32m      1\u001b[39m \u001b[38;5;66;03m# multiplikation av strängar är inte ens definierad (går ej att uföra)\u001b[39;00m\n\u001b[32m      2\u001b[39m \u001b[38;5;66;03m# återigen, detta beteende gällar ALLA strängar\u001b[39;00m\n\u001b[32m----> \u001b[39m\u001b[32m3\u001b[39m en_sträng * annan_sträng\n",
      "\u001b[31mTypeError\u001b[39m: can't multiply sequence by non-int of type 'str'"
     ]
    }
   ],
   "source": [
    "# multiplikation av strängar är inte ens definierad (går ej att uföra)\n",
    "# återigen, detta beteende gällar ALLA strängar\n",
    "en_sträng * annan_sträng"
   ]
  },
  {
   "cell_type": "markdown",
   "metadata": {},
   "source": [
    "*Heltal*"
   ]
  },
  {
   "cell_type": "code",
   "execution_count": 25,
   "metadata": {},
   "outputs": [
    {
     "data": {
      "text/plain": [
       "223"
      ]
     },
     "execution_count": 25,
     "metadata": {},
     "output_type": "execute_result"
    }
   ],
   "source": [
    "ett_tal = 123\n",
    "ett_annat_tal = 100\n",
    "\n",
    "# addition av tal är helt enkelt det vi alla är vana vid sedan grundskolan\n",
    "\n",
    "ett_tal + ett_annat_tal"
   ]
  },
  {
   "cell_type": "code",
   "execution_count": 26,
   "metadata": {},
   "outputs": [
    {
     "data": {
      "text/plain": [
       "12300"
      ]
     },
     "execution_count": 26,
     "metadata": {},
     "output_type": "execute_result"
    }
   ],
   "source": [
    "# multiplikation, likaså, det vi alla är vana vid\n",
    "\n",
    "# tillskilnad från ex strängar är multiplikation operationen definierad för heltal\n",
    "\n",
    "ett_tal * ett_annat_tal"
   ]
  },
  {
   "cell_type": "markdown",
   "metadata": {},
   "source": [
    "Så, egentligen har vi stött på väldigt många klasser i Python redan - Strängar, listor, dictionaries, decimaltal, funktioner etc.\n",
    "\n",
    "Det finns många fler."
   ]
  },
  {
   "cell_type": "markdown",
   "metadata": {},
   "source": [
    "## Awesome, vi ska nu bygga våra egna klasser!"
   ]
  },
  {
   "cell_type": "markdown",
   "metadata": {},
   "source": [
    "Jag vill skapa en *Person*-klass"
   ]
  },
  {
   "cell_type": "code",
   "execution_count": 34,
   "metadata": {},
   "outputs": [],
   "source": [
    "# detta är min mycket enkla klass\n",
    "\n",
    "class Person:\n",
    "\n",
    "    # init är en specialfunction som Python kör så fort du skapar en instans av denna klass\n",
    "    def __init__(self, namn, ålder):\n",
    "\n",
    "        # all kod som står här nedanför kommer alltså att köras så fort du skapar en instans av denna klass\n",
    "        \n",
    "        # dessa variabler nedan kallas för attribut\n",
    "        # vi skapar här två attribut\n",
    "        # den ena kallar vi för self.name och den ger vi värdet namn (som kommer från använder som argument, när denne skapar en instans av denna klass)\n",
    "        # och den andra är self.age som vi ger värdet ålder (som också kommer från användaren)\n",
    "\n",
    "        self.name = namn\n",
    "        self.age = ålder"
   ]
  },
  {
   "cell_type": "markdown",
   "metadata": {},
   "source": [
    "Vi kan skapa instanser av denna klass på följande viss"
   ]
  },
  {
   "cell_type": "code",
   "execution_count": null,
   "metadata": {},
   "outputs": [],
   "source": [
    "teacher = Person(namn='Ali', ålder=35)   # dessa argument kommer att fångas upp av __init__() metoden och användas för att \n",
    "                                         # utföra den indenterade koden i den metoden\n",
    "\n",
    "student = Person(namn='Lisa', ålder=35)  # här skapar vi ytterligare en instans av samma klass"
   ]
  },
  {
   "cell_type": "code",
   "execution_count": 40,
   "metadata": {},
   "outputs": [
    {
     "name": "stdout",
     "output_type": "stream",
     "text": [
      "Attributet self.name för teacher har värdet Ali\n",
      "Attributet self.age för teacher har värdet 35\n",
      "\n",
      "Attributet self.name för student har värdet Lisa\n",
      "Attributet self.age för student har värdet 35\n"
     ]
    }
   ],
   "source": [
    "# vi kan komma åt klass-attributen på följande vis\n",
    "\n",
    "# vi tar våran instans och följden med .attribut_namn\n",
    "\n",
    "print(f'Attributet self.name för teacher har värdet {teacher.name}')\n",
    "print(f'Attributet self.age för teacher har värdet {teacher.age}', end='\\n\\n')\n",
    "\n",
    "print(f'Attributet self.name för student har värdet {student.name}')\n",
    "print(f'Attributet self.age för student har värdet {student.age}')"
   ]
  },
  {
   "cell_type": "markdown",
   "metadata": {},
   "source": [
    "Ovan har vi nu två olika instanser av klassen Person, och vi har nu givit bägge dessa olika attribut.\n",
    "\n",
    "Vi har också set hur vi kan komma åt dessa attribut."
   ]
  },
  {
   "cell_type": "markdown",
   "metadata": {},
   "source": [
    "**Fråga** Kan vi bevisa att teacher & student är instanser av klassen Person? Hur isåfall?"
   ]
  },
  {
   "cell_type": "code",
   "execution_count": 45,
   "metadata": {},
   "outputs": [
    {
     "name": "stdout",
     "output_type": "stream",
     "text": [
      "<class '__main__.Person'>\n",
      "teacher är en instans av klassen Person: True\n",
      "student är en instans av klassen Person: True\n"
     ]
    }
   ],
   "source": [
    "# vi kan ex direkt undersöka med type()\n",
    "\n",
    "print(type(teacher))\n",
    "\n",
    "# ännu bättre om vi direkt använder isinstance() funktionen. Eftersom att klassen Person nu är definierad av oss, kommer Python att känna igen den\n",
    "\n",
    "print(f'teacher är en instans av klassen Person: {isinstance(teacher, Person)}')\n",
    "print(f'student är en instans av klassen Person: {isinstance(student, Person)}')"
   ]
  },
  {
   "cell_type": "code",
   "execution_count": 46,
   "metadata": {},
   "outputs": [
    {
     "name": "stdout",
     "output_type": "stream",
     "text": [
      "teacher är en instans av klassen str: False\n",
      "student är en instans av klassen str: False\n"
     ]
    }
   ],
   "source": [
    "print(f'teacher är en instans av klassen str: {isinstance(teacher, str)}')\n",
    "print(f'student är en instans av klassen str: {isinstance(student, str)}')"
   ]
  },
  {
   "cell_type": "markdown",
   "metadata": {},
   "source": [
    "___"
   ]
  },
  {
   "cell_type": "markdown",
   "metadata": {},
   "source": [
    "**Ok, let's move on a bit**"
   ]
  },
  {
   "cell_type": "markdown",
   "metadata": {},
   "source": [
    "Vi kan utöver **init()** metoden även definiera andra metoder för våra egna klasser"
   ]
  },
  {
   "cell_type": "code",
   "execution_count": 57,
   "metadata": {},
   "outputs": [],
   "source": [
    "# detta är min mycket enkla, lite uttökade, klass\n",
    "\n",
    "class Person:\n",
    "\n",
    "    def __init__(self, namn, ålder):\n",
    "\n",
    "        self.name = namn\n",
    "        self.age = ålder\n",
    "\n",
    "    def presentation(self):\n",
    "\n",
    "        print(f'Hi, my name is {self.name} and I am {self.age} years old.')\n",
    "\n",
    "    def age_in_the_future(self, antal_år):\n",
    "\n",
    "        print(f'I will be {self.age + antal_år} years old in {antal_år} years.')"
   ]
  },
  {
   "cell_type": "code",
   "execution_count": 52,
   "metadata": {},
   "outputs": [],
   "source": [
    "# notera att vi ovan skrivit över klassen Person vi definierade tidigare. Denna version har uttökad funktionalitet.\n",
    "\n",
    "classmate = Person(namn='Julian', ålder=28)\n"
   ]
  },
  {
   "cell_type": "code",
   "execution_count": 53,
   "metadata": {},
   "outputs": [
    {
     "name": "stdout",
     "output_type": "stream",
     "text": [
      "Vår käre klasskamrat heter Julian och är 28 år gammal.\n"
     ]
    }
   ],
   "source": [
    "print(f'Vår käre klasskamrat heter {classmate.name} och är {classmate.age} år gammal.')"
   ]
  },
  {
   "cell_type": "markdown",
   "metadata": {},
   "source": [
    "Vi kommer åt klassmetoder genom att kalla på de på följande vis\n",
    "\n",
    ".metod_namn()"
   ]
  },
  {
   "cell_type": "code",
   "execution_count": 54,
   "metadata": {},
   "outputs": [
    {
     "name": "stdout",
     "output_type": "stream",
     "text": [
      "Hi, my name is Julian and I am 28 years old.\n"
     ]
    }
   ],
   "source": [
    "classmate.presentation()"
   ]
  },
  {
   "cell_type": "markdown",
   "metadata": {},
   "source": [
    "Vi kan leverera argument till metoder genom att helt enkelt fyllai dem som argument när vi kallar på metoden i fråga"
   ]
  },
  {
   "cell_type": "code",
   "execution_count": 56,
   "metadata": {},
   "outputs": [
    {
     "name": "stdout",
     "output_type": "stream",
     "text": [
      "I will be 33 years old in 5 years.\n"
     ]
    }
   ],
   "source": [
    "classmate.age_in_the_future(antal_år = 5)"
   ]
  },
  {
   "cell_type": "markdown",
   "metadata": {},
   "source": [
    "**Skillnaden** på att komma åt klassattribut och metoder är alltså att vi inkluderar paranterser för metoder."
   ]
  },
  {
   "cell_type": "markdown",
   "metadata": {},
   "source": [
    "___"
   ]
  },
  {
   "cell_type": "markdown",
   "metadata": {},
   "source": [
    "Vad är detta mystiska *self* vi ser i klassdefinitionen?"
   ]
  },
  {
   "cell_type": "code",
   "execution_count": 69,
   "metadata": {},
   "outputs": [],
   "source": [
    "class Person:\n",
    "\n",
    "    def __init__(self, namn, ålder):\n",
    "\n",
    "        self.name = namn\n",
    "        self.age = ålder\n",
    "\n",
    "    # första argumentet till våra metoder är ALLTID self, innanför klassen\n",
    "    # self innehåller våra attribut, och för att bla komma åt attributen i våra metoder\n",
    "    # måste vi referera till self\n",
    "\n",
    "    def presentation(self):\n",
    "\n",
    "        print(f'Hi, my name is {self.name} and I am {self.age} years old.')\n",
    "\n",
    "    def age_in_the_future(self, antal_år):\n",
    "\n",
    "        print(f'I will be {self.age + antal_år} years old in {antal_år} years.')"
   ]
  },
  {
   "cell_type": "markdown",
   "metadata": {},
   "source": [
    "När du initierar en instans av klassen person kommer den att skapa en del attribut, i detta fall self.name & self.age.\n",
    "\n",
    "Dessa attribut lagras i self, och vi måste använda syntaxen\n",
    "\n",
    "    self.attribut_namn \n",
    "\n",
    "för att komma åt attributen i kod *innanför* klassen!"
   ]
  },
  {
   "cell_type": "markdown",
   "metadata": {},
   "source": [
    "**Viktigt** När vi kallar på metoderna *utanför* klassen så anger vi **inte** self som argument. Self är bara något internt som hanteras av klassen."
   ]
  },
  {
   "cell_type": "code",
   "execution_count": 60,
   "metadata": {},
   "outputs": [],
   "source": [
    "study_pal = Person('Hannele', ålder=25)"
   ]
  },
  {
   "cell_type": "code",
   "execution_count": 62,
   "metadata": {},
   "outputs": [
    {
     "name": "stdout",
     "output_type": "stream",
     "text": [
      "Hi, my name is Hannele and I am 25 years old.\n"
     ]
    }
   ],
   "source": [
    "# tekniskt sett tar presentation() ett argument (self) men vi anger den INTE när vi kallar på metoden, utanför klassen\n",
    "\n",
    "study_pal.presentation()"
   ]
  },
  {
   "cell_type": "code",
   "execution_count": 68,
   "metadata": {},
   "outputs": [
    {
     "name": "stdout",
     "output_type": "stream",
     "text": [
      "I will be 28 years old in 3 years.\n"
     ]
    }
   ],
   "source": [
    "# tekniskt sett tar age_in_the_future två stycken argument (self och antal_år), men vi anger alltså återigen\n",
    "# INTE self utanför klassen när vi kallar på metoden. Vi behöver således bara ange ett argument, dvs antal_år\n",
    "\n",
    "study_pal.age_in_the_future(antal_år=3)"
   ]
  },
  {
   "cell_type": "markdown",
   "metadata": {},
   "source": [
    "---"
   ]
  },
  {
   "cell_type": "markdown",
   "metadata": {},
   "source": [
    "## Type hints\n",
    "\n",
    "**Varför type hints?**\n",
    "\n",
    "Type hints (typanvisningar) gör koden tydligare, lättare att läsa och enklare att felsöka.\n",
    "\n",
    "De hjälper dig att förstå **vilka datatyper** som förväntas av funktioner - utan att påverka körning i sig."
   ]
  },
  {
   "cell_type": "code",
   "execution_count": 83,
   "metadata": {},
   "outputs": [],
   "source": [
    "# nedan markerar vi att \n",
    "# - a förväntas vara integer\n",
    "# - b förväntas vara integer ELLER float\n",
    "# - funktionen returnera integer ELLER float\n",
    "\n",
    "def multiply(a: int,b: int | float) -> int | float:\n",
    "\n",
    "    '''This function takes in two numbers and returns their product. \n",
    "    \n",
    "    a: int\n",
    "    b: int | float'''\n",
    "\n",
    "    product = a*b\n",
    "\n",
    "    return product "
   ]
  },
  {
   "cell_type": "code",
   "execution_count": 84,
   "metadata": {},
   "outputs": [
    {
     "name": "stdout",
     "output_type": "stream",
     "text": [
      "Help on function multiply in module __main__:\n",
      "\n",
      "multiply(a: int, b: int | float) -> int | float\n",
      "    This function takes in two numbers and returns their product.\n",
      "\n",
      "    a: int\n",
      "    b: int | float\n",
      "\n"
     ]
    }
   ],
   "source": [
    "help(multiply)"
   ]
  },
  {
   "cell_type": "markdown",
   "metadata": {},
   "source": [
    "**Viktigt:** Type hints är *statisk* information. Python ignorerar dem vid körning, men verktyg kan varna när typer inte matchar."
   ]
  },
  {
   "cell_type": "code",
   "execution_count": 76,
   "metadata": {},
   "outputs": [
    {
     "data": {
      "text/plain": [
       "'20202020202020202020'"
      ]
     },
     "execution_count": 76,
     "metadata": {},
     "output_type": "execute_result"
    }
   ],
   "source": [
    "# nedan använder jag funktionen på ett sätt som inte är tilltänkt, och Python kommer inte att hindra oss\n",
    "\n",
    "multiply(10, '20') "
   ]
  },
  {
   "cell_type": "markdown",
   "metadata": {},
   "source": [
    "De flesta funktioner returnerar något, men inte alla - vi kan markera avsaknad av retur genom None"
   ]
  },
  {
   "cell_type": "code",
   "execution_count": 79,
   "metadata": {},
   "outputs": [],
   "source": [
    "def say_hello(name: str = 'Okänd') -> None:\n",
    "\n",
    "    print(f'Hej {name}!')"
   ]
  },
  {
   "cell_type": "code",
   "execution_count": 80,
   "metadata": {},
   "outputs": [
    {
     "name": "stdout",
     "output_type": "stream",
     "text": [
      "Help on function say_hello in module __main__:\n",
      "\n",
      "say_hello(name: str = 'Okänd') -> None\n",
      "\n"
     ]
    }
   ],
   "source": [
    "help(say_hello)"
   ]
  },
  {
   "cell_type": "markdown",
   "metadata": {},
   "source": [
    "___"
   ]
  },
  {
   "cell_type": "markdown",
   "metadata": {},
   "source": [
    "## Alright, let's tidy things up a bit"
   ]
  },
  {
   "cell_type": "code",
   "execution_count": 90,
   "metadata": {},
   "outputs": [],
   "source": [
    "class Person:\n",
    "\n",
    "    \"\"\"\n",
    "     A class representing a person.\n",
    "    \n",
    "    * attributes:\n",
    "    \n",
    "    name (str): the name of the person.\n",
    "    age (int): the age of the person.\n",
    "    \n",
    "    * Methods:\n",
    "\n",
    "    1. presentation(): prints a presentation of the person\n",
    "    2. age_in_the_future(antal_år): prints the age of the person in a certain number of years\n",
    "    \n",
    "    \"\"\"\n",
    "\n",
    "    def __init__(self, namn: str, ålder: int | float) -> None:\n",
    "\n",
    "        self.name = namn\n",
    "        self.age = ålder\n",
    "\n",
    "    def presentation(self) -> None:\n",
    "\n",
    "        'Presents the person'\n",
    "\n",
    "        print(f'Hi, my name is {self.name} and I am {self.age} years old.')\n",
    "\n",
    "    def age_in_the_future(self, antal_år: int | float) -> None:\n",
    "\n",
    "        'Calculated how old the person is in a given amount of years'\n",
    "        \n",
    "        print(f'I will be {self.age + antal_år} years old in {antal_år} years.')"
   ]
  },
  {
   "cell_type": "code",
   "execution_count": 91,
   "metadata": {},
   "outputs": [
    {
     "name": "stdout",
     "output_type": "stream",
     "text": [
      "Help on Person in module __main__ object:\n",
      "\n",
      "class Person(builtins.object)\n",
      " |  Person(namn: str, ålder: int | float) -> None\n",
      " |\n",
      " |   A class representing a person.\n",
      " |\n",
      " |  * attributes:\n",
      " |\n",
      " |  name (str): the name of the person.\n",
      " |  age (int): the age of the person.\n",
      " |\n",
      " |  * Methods:\n",
      " |\n",
      " |  1. presentation(): prints a presentation of the person\n",
      " |  2. age_in_the_future(antal_år): prints the age of the person in a certain number of years\n",
      " |\n",
      " |  Methods defined here:\n",
      " |\n",
      " |  __init__(self, namn: str, ålder: int | float) -> None\n",
      " |      Initialize self.  See help(type(self)) for accurate signature.\n",
      " |\n",
      " |  age_in_the_future(self, antal_år: int | float) -> None\n",
      " |      Calculated how old the person is in a given amount of years\n",
      " |\n",
      " |  presentation(self) -> None\n",
      " |      Presents the person\n",
      " |\n",
      " |  ----------------------------------------------------------------------\n",
      " |  Data descriptors defined here:\n",
      " |\n",
      " |  __dict__\n",
      " |      dictionary for instance variables\n",
      " |\n",
      " |  __weakref__\n",
      " |      list of weak references to the object\n",
      "\n"
     ]
    }
   ],
   "source": [
    "student = Person('Boris', 25)\n",
    "help(student)"
   ]
  },
  {
   "cell_type": "markdown",
   "metadata": {},
   "source": [
    "___"
   ]
  },
  {
   "cell_type": "markdown",
   "metadata": {},
   "source": [
    "**Privata och publika attribut**\n",
    "\n",
    "Med publika attribut menar vi sådana som du som användare kan komma åt direkt *utanför* klassen."
   ]
  },
  {
   "cell_type": "code",
   "execution_count": 93,
   "metadata": {},
   "outputs": [
    {
     "name": "stdout",
     "output_type": "stream",
     "text": [
      "Boris\n",
      "25\n"
     ]
    }
   ],
   "source": [
    "# följande attribut är publika eftersom att vi kan komma åt de utanför klassen\n",
    "\n",
    "print(student.name)\n",
    "print(student.age)"
   ]
  },
  {
   "cell_type": "code",
   "execution_count": 120,
   "metadata": {},
   "outputs": [],
   "source": [
    "class Person:\n",
    "\n",
    "    \"\"\"\n",
    "     A class representing a person.\n",
    "    \n",
    "    * attributes:\n",
    "    \n",
    "    name (str): the name of the person.\n",
    "    age (int): the age of the person.\n",
    "    \n",
    "    * Methods:\n",
    "\n",
    "    1. presentation(): prints a presentation of the person\n",
    "    2. age_in_the_future(antal_år): prints the age of the person in a certain number of years\n",
    "    \n",
    "    \"\"\"\n",
    "\n",
    "    def __init__(self, namn: str, ålder: int | float, adress: str, födelseår: str) -> None:\n",
    "\n",
    "        # publika attribut namnges helt enkelt enligt nedan\n",
    "        # dvs, self.attribut_namn\n",
    "\n",
    "        self.name = namn\n",
    "        self.age = ålder\n",
    "\n",
    "        # vi kan också namge attribut på följande vis\n",
    "        # self._attribut_namn, dvs med ett understreck före själva namnet\n",
    "\n",
    "        # genom att namnge på följande sett så indikerar vi att detta är ett privat\n",
    "        # attribut. Ett privat attribut är något som man INTE vill att användaren ska direkt använda utanför klassen\n",
    "        # utan används enbart internt inom klassen\n",
    "\n",
    "        self._adress = adress\n",
    "\n",
    "        # om vi vill ha ett betvingat privat attribut så kan vi namnge det med två understreck före namnet\n",
    "        # på detta vis så kommer Python att neka all åtkomst utifrån till attributet. Den kommer\n",
    "        # endast kunna bli kallad på innanför klassen.\n",
    "\n",
    "        self.__birthyear = födelseår\n",
    "\n",
    "    def presentation(self) -> None:\n",
    "\n",
    "        'Presents the person'\n",
    "\n",
    "        print(f'Hi, my name is {self.name} and I am {self.age} years old.')\n",
    "\n",
    "    def age_in_the_future(self, antal_år: int | float) -> None:\n",
    "\n",
    "        'Calculated how old the person is in a given amount of years'\n",
    "        \n",
    "        print(f'I will be {self.age + antal_år} years old in {antal_år} years.')\n",
    "\n",
    "    # denna metod repr() kommer Python att defaulta till när ni exempelvis använder print() på instans av den här klassen\n",
    "    def __repr__(self) -> str:\n",
    "\n",
    "        \"\"\"Returns an unambigious string representation of the object and its attributes\"\"\"\n",
    "        \n",
    "        return f'Person(name:{self.name}, age={self.age}, adress={self._adress}, birthyear={self.__birthyear})'\n",
    "\n"
   ]
  },
  {
   "cell_type": "code",
   "execution_count": 121,
   "metadata": {},
   "outputs": [],
   "source": [
    "another_mate = Person('Malcolm', 25, 'Hornsgatan', '2000')"
   ]
  },
  {
   "cell_type": "code",
   "execution_count": 122,
   "metadata": {},
   "outputs": [
    {
     "name": "stdout",
     "output_type": "stream",
     "text": [
      "Person(name:Malcolm, age=25, adress=Hornsgatan, birthyear=2000)\n"
     ]
    }
   ],
   "source": [
    "# Python kommer att söka efter __repr__ metoden när ni använder print på vår instans, och utför koden\n",
    "# som hör till den metoden. I detta fall kommer den att returnera en sträng som vi har skapat i metoden.\n",
    "\n",
    "print(another_mate)"
   ]
  },
  {
   "cell_type": "code",
   "execution_count": 109,
   "metadata": {},
   "outputs": [
    {
     "name": "stdout",
     "output_type": "stream",
     "text": [
      "25\n",
      "Malcolm\n"
     ]
    }
   ],
   "source": [
    "# detta är instansens publika attriut, dvs de som vi förväntas komma åt utifrån\n",
    "\n",
    "print(another_mate.age)\n",
    "print(another_mate.name)"
   ]
  },
  {
   "cell_type": "code",
   "execution_count": null,
   "metadata": {},
   "outputs": [
    {
     "name": "stdout",
     "output_type": "stream",
     "text": [
      "Hornsgatan\n"
     ]
    }
   ],
   "source": [
    "# trots att denna var privat egentligen, kommer vi ändå åt den. Python nekar oss inte.\n",
    "# men, du som användare ska vara väldigt försiktig med attribut som börjar med ett understreck\n",
    "# helst ska du INTE använda de utanför klassen\n",
    "\n",
    "print(another_mate._adress)"
   ]
  },
  {
   "cell_type": "code",
   "execution_count": 110,
   "metadata": {},
   "outputs": [
    {
     "ename": "AttributeError",
     "evalue": "'Person' object has no attribute '__birthyear'",
     "output_type": "error",
     "traceback": [
      "\u001b[31m---------------------------------------------------------------------------\u001b[39m",
      "\u001b[31mAttributeError\u001b[39m                            Traceback (most recent call last)",
      "\u001b[36mCell\u001b[39m\u001b[36m \u001b[39m\u001b[32mIn[110]\u001b[39m\u001b[32m, line 3\u001b[39m\n\u001b[32m      1\u001b[39m \u001b[38;5;66;03m# helprivata attribut är betvingat endast åtkomliga inifrån klassdefinitionen, ej utifrån\u001b[39;00m\n\u001b[32m----> \u001b[39m\u001b[32m3\u001b[39m \u001b[38;5;28mprint\u001b[39m(another_mate.__birthyear)\n",
      "\u001b[31mAttributeError\u001b[39m: 'Person' object has no attribute '__birthyear'"
     ]
    }
   ],
   "source": [
    "# helprivata attribut är betvingat endast åtkomliga inifrån klassdefinitionen, ej utifrån\n",
    "\n",
    "print(another_mate.__birthyear)"
   ]
  },
  {
   "cell_type": "markdown",
   "metadata": {},
   "source": [
    "**Hur kan vi ändå säkerställa åtkomst till privata attribut, utifrån?**"
   ]
  },
  {
   "cell_type": "code",
   "execution_count": 141,
   "metadata": {},
   "outputs": [],
   "source": [
    "class Student:\n",
    "\n",
    "    def __init__(self, namn: str, efternamn: str, årskurs: str, program: str) -> None:\n",
    "\n",
    "        self.namn = namn\n",
    "        self.__efternamn = efternamn\n",
    "        self.årskurs = årskurs\n",
    "        self.program = program\n",
    "\n",
    "    # vi kommer att skapa en speciell metod som vi kommer \"dekorera\" med @property\n",
    "\n",
    "    @property\n",
    "    def efternamn(self) -> str:\n",
    "\n",
    "        return self.__efternamn"
   ]
  },
  {
   "cell_type": "code",
   "execution_count": 142,
   "metadata": {},
   "outputs": [],
   "source": [
    "en_student = Student('Linus', 'Lord', '1', 'AI25')"
   ]
  },
  {
   "cell_type": "code",
   "execution_count": 143,
   "metadata": {},
   "outputs": [
    {
     "name": "stdout",
     "output_type": "stream",
     "text": [
      "Linus\n",
      "1\n",
      "AI25\n"
     ]
    }
   ],
   "source": [
    "# vi kommer åt samtliga publika attribut på följande vis\n",
    "\n",
    "print(en_student.namn)\n",
    "print(en_student.årskurs)\n",
    "print(en_student.program)"
   ]
  },
  {
   "cell_type": "code",
   "execution_count": 145,
   "metadata": {},
   "outputs": [
    {
     "name": "stdout",
     "output_type": "stream",
     "text": [
      "Lord\n"
     ]
    }
   ],
   "source": [
    "print(en_student.efternamn)"
   ]
  },
  {
   "cell_type": "markdown",
   "metadata": {},
   "source": [
    "___"
   ]
  },
  {
   "cell_type": "markdown",
   "metadata": {},
   "source": [
    "## Övning\n",
    "\n",
    "Jag vill att ni nu skapar en egen klass. Den ska heta Varor.\n",
    "\n",
    "Varje instans av klassen ska representera en vara som säljs i en butik.\n",
    "\n",
    "1) Ni kommer behöva initiera (med **init**) varje instans med ett namn, ett pris, ett brand, giltighetsdatum och lagersaldo.\n",
    "\n",
    "2) Skapa en doc-sträng för klassen, samt för alla ytterligare metoder ni skapar för klassen.\n",
    "\n",
    "3) Skapa **repr** metoden, som returnerar instansens status på ett unambigious sätt\n",
    "\n",
    "4) Skapa nu en metod som tar ett argument *discount*. Denna metod ska **returnera** rabatterade priset på varan.\n",
    "\n",
    "5) Skapa flera klassmetoder, experimentera själva!\n",
    "\n",
    "6) Omvandla minst ett attribut till ett privat attribut (med .__)\n",
    "\n",
    "7) Skapa en @property metod för det privata attributet ni skapade i steg 6, så att ni kan komma åt den utanför klassen."
   ]
  }
 ],
 "metadata": {
  "kernelspec": {
   "display_name": "programmering",
   "language": "python",
   "name": "python3"
  },
  "language_info": {
   "codemirror_mode": {
    "name": "ipython",
    "version": 3
   },
   "file_extension": ".py",
   "mimetype": "text/x-python",
   "name": "python",
   "nbconvert_exporter": "python",
   "pygments_lexer": "ipython3",
   "version": "3.13.5"
  }
 },
 "nbformat": 4,
 "nbformat_minor": 2
}
