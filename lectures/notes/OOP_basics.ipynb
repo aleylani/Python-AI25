{
 "cells": [
  {
   "cell_type": "markdown",
   "metadata": {},
   "source": [
    "## OOP - Objekt Orienterad Programmering"
   ]
  },
  {
   "cell_type": "markdown",
   "metadata": {},
   "source": [
    "Allting i Python, i synnerhet alla datatyper och funktioner vi hitills har jobbat med har ett mer tekniskt namn - objekt.\n",
    "\n",
    "Allting i Python är objekt som tillhör olika klasser. Vad är en klass?\n",
    "\n",
    "Vi har stött på många olika klasser innan, exempelvis strängar, listor, heltal, decimaltal osv. \n",
    "\n",
    "Om vi definierar en variabel till att vara ex. en sträng så säger vi att den variabeln nu är en instans av klassen sträng."
   ]
  },
  {
   "cell_type": "code",
   "execution_count": null,
   "metadata": {},
   "outputs": [],
   "source": [
    "# variabeln mitt_namn är nu assignad till att vara en sträng\n",
    "\n",
    "mitt_namn = 'Ali Leylani'\n",
    "\n",
    "# variabeln min_lista är nu assignad till att vara en lista\n",
    "\n",
    "min_lista = ['Ali', 'Har', 'Fel', 'Ibland', 'Men', 'Inte', 'Så', 'Ofta']"
   ]
  },
  {
   "cell_type": "markdown",
   "metadata": {},
   "source": [
    "Vi har också sett att olika datatyper (klasser) beter sig på liknande sätt relativt objekt i samma klass."
   ]
  },
  {
   "cell_type": "code",
   "execution_count": null,
   "metadata": {},
   "outputs": [],
   "source": [
    "# detta är en annan sträng\n",
    "\n",
    "ditt_namn ='John Krasinski'\n",
    "\n",
    "# men lägg märke till att denna sträng beter sig likadant som vår första sträng,\n",
    "# när vi utför operationer på den"
   ]
  },
  {
   "cell_type": "markdown",
   "metadata": {},
   "source": [
    "*Exempel*\n",
    "\n",
    "Multiplikation av sträng. Själva värdet av strängarna i sig kan vara annorlunda, men de beter sig likadant under ex. multiplikation."
   ]
  },
  {
   "cell_type": "code",
   "execution_count": null,
   "metadata": {},
   "outputs": [],
   "source": [
    "print(mitt_namn*2)\n",
    "print(ditt_namn*2)"
   ]
  },
  {
   "cell_type": "markdown",
   "metadata": {},
   "source": [
    "metoden lower()"
   ]
  },
  {
   "cell_type": "code",
   "execution_count": null,
   "metadata": {},
   "outputs": [],
   "source": [
    "print(mitt_namn.lower())\n",
    "print(ditt_namn.lower())"
   ]
  },
  {
   "cell_type": "markdown",
   "metadata": {},
   "source": [
    "Motsvarande likheter finns för ex listor (och även för alla andra klasser, för den delen)"
   ]
  },
  {
   "cell_type": "code",
   "execution_count": null,
   "metadata": {},
   "outputs": [],
   "source": [
    "min_lista = ['Ali', 'Har', 'Fel', 'Ibland', 'Men', 'Inte', 'Så', 'Ofta']\n",
    "din_lista = ['Hej', 'och', 'hå']\n",
    "\n",
    "print(min_lista*2)\n",
    "print(din_lista*2)\n",
    "\n",
    "min_lista.append(111222)\n",
    "din_lista.append(111222)\n",
    "\n",
    "print(min_lista)\n",
    "print(din_lista)"
   ]
  },
  {
   "cell_type": "markdown",
   "metadata": {},
   "source": [
    "Vi kan kontrollera huruvida ett objekt tillhör en given klass med hjälp av **isinstance()**-funktionen"
   ]
  },
  {
   "cell_type": "code",
   "execution_count": null,
   "metadata": {},
   "outputs": [],
   "source": [
    "mitt_namn = 'ALi Leylani'\n",
    "\n",
    "# type returnerar klassen ditt objekt tillhör\n",
    "print(type(mitt_namn))"
   ]
  },
  {
   "cell_type": "code",
   "execution_count": null,
   "metadata": {},
   "outputs": [],
   "source": [
    "# isinstance() kontrollerar om ditt objekt är av en given klass, och returnerar isåfall True om så är fallet - annars False\n",
    "\n",
    "isinstance(mitt_namn, str)"
   ]
  },
  {
   "cell_type": "code",
   "execution_count": null,
   "metadata": {},
   "outputs": [],
   "source": [
    "# detta blir false, eftersom att mitt_namn är en instans av klassen sträng, och inte lista.\n",
    "\n",
    "isinstance(mitt_namn, list)\n"
   ]
  },
  {
   "cell_type": "markdown",
   "metadata": {},
   "source": [
    "isinstance() är en mycket viktig funktion, som ni kommer att använda mer från och med nu.\n",
    "\n",
    "*Exempel usecase*"
   ]
  },
  {
   "cell_type": "code",
   "execution_count": null,
   "metadata": {},
   "outputs": [],
   "source": [
    "# om ni vill kontrollera att ett givet objekt är av en önskad datatyp/klass\n",
    "\n",
    "mitt_objekt = [1, 2, 3, 4, 5, 6]\n",
    "\n",
    "if isinstance(mitt_objekt, list):\n",
    "\n",
    "    print('Success! Objektet är en instans av önskad klass')\n",
    "\n",
    "else:\n",
    "\n",
    "    print('What you doing bruh. Hand me an instance of the desired class!')"
   ]
  },
  {
   "cell_type": "markdown",
   "metadata": {},
   "source": [
    "- **Allting i Python är objekt**\n",
    "\n",
    "- **Alla objekt har en datatyp/klass**\n",
    "\n",
    "- **Objekt tillhörande olika klasser sägs vara instanser av respektive klass**\n",
    "\n",
    "- **Vi kan använda isinstance() funktionen för att kotnrollera om ett givet objekt tillhör en given klass**"
   ]
  },
  {
   "cell_type": "markdown",
   "metadata": {},
   "source": [
    "Bara för att vara extra tydlig:\n",
    "\n",
    "Alla objekt i Python tillhör en viss klass. Med klass menar man ex stränger, integers, funktioner, dictionaries osv. \n",
    "\n",
    "Det som särskiljer en klass från en annan, är hur deras instanser beter sig under olika operationer (ex print, addition, multiplikation osv)."
   ]
  },
  {
   "cell_type": "markdown",
   "metadata": {},
   "source": [
    "**Strängar**"
   ]
  },
  {
   "cell_type": "code",
   "execution_count": null,
   "metadata": {},
   "outputs": [],
   "source": [
    "en_sträng = 'Hej'\n",
    "annan_sträng = 'Hå'\n",
    "\n",
    "# addition av två strängar är helt enkelt definierad som en sammanslagning av strängarna\n",
    "en_sträng + annan_sträng"
   ]
  },
  {
   "cell_type": "code",
   "execution_count": null,
   "metadata": {},
   "outputs": [],
   "source": [
    "# multiplikation av strängar är inte ens definierad (går ej att uföra)\n",
    "# återigen, detta beteende gällar ALLA strängar\n",
    "en_sträng * annan_sträng"
   ]
  },
  {
   "cell_type": "markdown",
   "metadata": {},
   "source": [
    "*Heltal*"
   ]
  },
  {
   "cell_type": "code",
   "execution_count": null,
   "metadata": {},
   "outputs": [],
   "source": [
    "ett_tal = 123\n",
    "ett_annat_tal = 100\n",
    "\n",
    "# addition av tal är helt enkelt det vi alla är vana vid sedan grundskolan\n",
    "\n",
    "ett_tal + ett_annat_tal"
   ]
  },
  {
   "cell_type": "code",
   "execution_count": null,
   "metadata": {},
   "outputs": [],
   "source": [
    "# multiplikation, likaså, det vi alla är vana vid\n",
    "\n",
    "# tillskilnad från ex strängar är multiplikation operationen definierad för heltal\n",
    "\n",
    "ett_tal * ett_annat_tal"
   ]
  },
  {
   "cell_type": "markdown",
   "metadata": {},
   "source": [
    "Så, egentligen har vi stött på väldigt många klasser i Python redan - Strängar, listor, dictionaries, decimaltal, funktioner etc.\n",
    "\n",
    "Det finns många fler."
   ]
  },
  {
   "cell_type": "markdown",
   "metadata": {},
   "source": [
    "## Awesome, vi ska nu bygga våra egna klasser!"
   ]
  },
  {
   "cell_type": "markdown",
   "metadata": {},
   "source": [
    "Jag vill skapa en *Person*-klass"
   ]
  },
  {
   "cell_type": "code",
   "execution_count": null,
   "metadata": {},
   "outputs": [],
   "source": [
    "# detta är min mycket enkla klass\n",
    "\n",
    "class Person:\n",
    "\n",
    "    # init är en specialfunction som Python kör så fort du skapar en instans av denna klass\n",
    "    def __init__(self, namn, ålder):\n",
    "\n",
    "        # all kod som står här nedanför kommer alltså att köras så fort du skapar en instans av denna klass\n",
    "        \n",
    "        # dessa variabler nedan kallas för attribut\n",
    "        # vi skapar här två attribut\n",
    "        # den ena kallar vi för self.name och den ger vi värdet namn (som kommer från använder som argument, när denne skapar en instans av denna klass)\n",
    "        # och den andra är self.age som vi ger värdet ålder (som också kommer från användaren)\n",
    "\n",
    "        self.name = namn\n",
    "        self.age = ålder"
   ]
  },
  {
   "cell_type": "markdown",
   "metadata": {},
   "source": [
    "Vi kan skapa instanser av denna klass på följande viss"
   ]
  },
  {
   "cell_type": "code",
   "execution_count": null,
   "metadata": {},
   "outputs": [],
   "source": [
    "teacher = Person(namn='Ali', ålder=35)   # dessa argument kommer att fångas upp av __init__() metoden och användas för att \n",
    "                                         # utföra den indenterade koden i den metoden\n",
    "\n",
    "student = Person(namn='Lisa', ålder=35)  # här skapar vi ytterligare en instans av samma klass"
   ]
  },
  {
   "cell_type": "code",
   "execution_count": null,
   "metadata": {},
   "outputs": [],
   "source": [
    "# vi kan komma åt klass-attributen på följande vis\n",
    "\n",
    "# vi tar våran instans och följden med .attribut_namn\n",
    "\n",
    "print(f'Attributet self.name för teacher har värdet {teacher.name}')\n",
    "print(f'Attributet self.age för teacher har värdet {teacher.age}', end='\\n\\n')\n",
    "\n",
    "print(f'Attributet self.name för student har värdet {student.name}')\n",
    "print(f'Attributet self.age för student har värdet {student.age}')"
   ]
  },
  {
   "cell_type": "markdown",
   "metadata": {},
   "source": [
    "Ovan har vi nu två olika instanser av klassen Person, och vi har nu givit bägge dessa olika attribut.\n",
    "\n",
    "Vi har också set hur vi kan komma åt dessa attribut."
   ]
  },
  {
   "cell_type": "markdown",
   "metadata": {},
   "source": [
    "**Fråga** Kan vi bevisa att teacher & student är instanser av klassen Person? Hur isåfall?"
   ]
  },
  {
   "cell_type": "code",
   "execution_count": null,
   "metadata": {},
   "outputs": [],
   "source": [
    "# vi kan ex direkt undersöka med type()\n",
    "\n",
    "print(type(teacher))\n",
    "\n",
    "# ännu bättre om vi direkt använder isinstance() funktionen. Eftersom att klassen Person nu är definierad av oss, kommer Python att känna igen den\n",
    "\n",
    "print(f'teacher är en instans av klassen Person: {isinstance(teacher, Person)}')\n",
    "print(f'student är en instans av klassen Person: {isinstance(student, Person)}')"
   ]
  },
  {
   "cell_type": "code",
   "execution_count": null,
   "metadata": {},
   "outputs": [],
   "source": [
    "print(f'teacher är en instans av klassen str: {isinstance(teacher, str)}')\n",
    "print(f'student är en instans av klassen str: {isinstance(student, str)}')"
   ]
  },
  {
   "cell_type": "markdown",
   "metadata": {},
   "source": [
    "___"
   ]
  },
  {
   "cell_type": "markdown",
   "metadata": {},
   "source": [
    "**Ok, let's move on a bit**"
   ]
  },
  {
   "cell_type": "markdown",
   "metadata": {},
   "source": [
    "Vi kan utöver **init()** metoden även definiera andra metoder för våra egna klasser"
   ]
  },
  {
   "cell_type": "code",
   "execution_count": null,
   "metadata": {},
   "outputs": [],
   "source": [
    "# detta är min mycket enkla, lite uttökade, klass\n",
    "\n",
    "class Person:\n",
    "\n",
    "    def __init__(self, namn, ålder):\n",
    "\n",
    "        self.name = namn\n",
    "        self.age = ålder\n",
    "\n",
    "    def presentation(self):\n",
    "\n",
    "        print(f'Hi, my name is {self.name} and I am {self.age} years old.')\n",
    "\n",
    "    def age_in_the_future(self, antal_år):\n",
    "\n",
    "        print(f'I will be {self.age + antal_år} years old in {antal_år} years.')"
   ]
  },
  {
   "cell_type": "code",
   "execution_count": null,
   "metadata": {},
   "outputs": [],
   "source": [
    "# notera att vi ovan skrivit över klassen Person vi definierade tidigare. Denna version har uttökad funktionalitet.\n",
    "\n",
    "classmate = Person(namn='Julian', ålder=28)\n"
   ]
  },
  {
   "cell_type": "code",
   "execution_count": null,
   "metadata": {},
   "outputs": [],
   "source": [
    "print(f'Vår käre klasskamrat heter {classmate.name} och är {classmate.age} år gammal.')"
   ]
  },
  {
   "cell_type": "markdown",
   "metadata": {},
   "source": [
    "Vi kommer åt klassmetoder genom att kalla på de på följande vis\n",
    "\n",
    ".metod_namn()"
   ]
  },
  {
   "cell_type": "code",
   "execution_count": null,
   "metadata": {},
   "outputs": [],
   "source": [
    "classmate.presentation()"
   ]
  },
  {
   "cell_type": "markdown",
   "metadata": {},
   "source": [
    "Vi kan leverera argument till metoder genom att helt enkelt fyllai dem som argument när vi kallar på metoden i fråga"
   ]
  },
  {
   "cell_type": "code",
   "execution_count": null,
   "metadata": {},
   "outputs": [],
   "source": [
    "classmate.age_in_the_future(antal_år = 5)"
   ]
  },
  {
   "cell_type": "markdown",
   "metadata": {},
   "source": [
    "**Skillnaden** på att komma åt klassattribut och metoder är alltså att vi inkluderar paranterser för metoder."
   ]
  },
  {
   "cell_type": "markdown",
   "metadata": {},
   "source": [
    "___"
   ]
  },
  {
   "cell_type": "markdown",
   "metadata": {},
   "source": [
    "Vad är detta mystiska *self* vi ser i klassdefinitionen?"
   ]
  },
  {
   "cell_type": "code",
   "execution_count": null,
   "metadata": {},
   "outputs": [],
   "source": [
    "class Person:\n",
    "\n",
    "    def __init__(self, namn, ålder):\n",
    "\n",
    "        self.name = namn\n",
    "        self.age = ålder\n",
    "\n",
    "    # första argumentet till våra metoder är ALLTID self, innanför klassen\n",
    "    # self innehåller våra attribut, och för att bla komma åt attributen i våra metoder\n",
    "    # måste vi referera till self\n",
    "\n",
    "    def presentation(self):\n",
    "\n",
    "        print(f'Hi, my name is {self.name} and I am {self.age} years old.')\n",
    "\n",
    "    def age_in_the_future(self, antal_år):\n",
    "\n",
    "        print(f'I will be {self.age + antal_år} years old in {antal_år} years.')"
   ]
  },
  {
   "cell_type": "markdown",
   "metadata": {},
   "source": [
    "När du initierar en instans av klassen person kommer den att skapa en del attribut, i detta fall self.name & self.age.\n",
    "\n",
    "Dessa attribut lagras i self, och vi måste använda syntaxen\n",
    "\n",
    "    self.attribut_namn \n",
    "\n",
    "för att komma åt attributen i kod *innanför* klassen!"
   ]
  },
  {
   "cell_type": "markdown",
   "metadata": {},
   "source": [
    "**Viktigt** När vi kallar på metoderna *utanför* klassen så anger vi **inte** self som argument. Self är bara något internt som hanteras av klassen."
   ]
  },
  {
   "cell_type": "code",
   "execution_count": null,
   "metadata": {},
   "outputs": [],
   "source": [
    "study_pal = Person('Hannele', ålder=25)"
   ]
  },
  {
   "cell_type": "code",
   "execution_count": null,
   "metadata": {},
   "outputs": [],
   "source": [
    "# tekniskt sett tar presentation() ett argument (self) men vi anger den INTE när vi kallar på metoden, utanför klassen\n",
    "\n",
    "study_pal.presentation()"
   ]
  },
  {
   "cell_type": "code",
   "execution_count": null,
   "metadata": {},
   "outputs": [],
   "source": [
    "# tekniskt sett tar age_in_the_future två stycken argument (self och antal_år), men vi anger alltså återigen\n",
    "# INTE self utanför klassen när vi kallar på metoden. Vi behöver således bara ange ett argument, dvs antal_år\n",
    "\n",
    "study_pal.age_in_the_future(antal_år=3)"
   ]
  },
  {
   "cell_type": "markdown",
   "metadata": {},
   "source": [
    "---"
   ]
  },
  {
   "cell_type": "markdown",
   "metadata": {},
   "source": [
    "## Type hints\n",
    "\n",
    "**Varför type hints?**\n",
    "\n",
    "Type hints (typanvisningar) gör koden tydligare, lättare att läsa och enklare att felsöka.\n",
    "\n",
    "De hjälper dig att förstå **vilka datatyper** som förväntas av funktioner - utan att påverka körning i sig."
   ]
  },
  {
   "cell_type": "code",
   "execution_count": null,
   "metadata": {},
   "outputs": [],
   "source": [
    "# nedan markerar vi att \n",
    "# - a förväntas vara integer\n",
    "# - b förväntas vara integer ELLER float\n",
    "# - funktionen returnera integer ELLER float\n",
    "\n",
    "def multiply(a: int,b: int | float) -> int | float:\n",
    "\n",
    "    '''This function takes in two numbers and returns their product. \n",
    "    \n",
    "    a: int\n",
    "    b: int | float'''\n",
    "\n",
    "    product = a*b\n",
    "\n",
    "    return product "
   ]
  },
  {
   "cell_type": "code",
   "execution_count": null,
   "metadata": {},
   "outputs": [],
   "source": [
    "help(multiply)"
   ]
  },
  {
   "cell_type": "markdown",
   "metadata": {},
   "source": [
    "**Viktigt:** Type hints är *statisk* information. Python ignorerar dem vid körning, men verktyg kan varna när typer inte matchar."
   ]
  },
  {
   "cell_type": "code",
   "execution_count": null,
   "metadata": {},
   "outputs": [],
   "source": [
    "# nedan använder jag funktionen på ett sätt som inte är tilltänkt, och Python kommer inte att hindra oss\n",
    "\n",
    "multiply(10, '20') "
   ]
  },
  {
   "cell_type": "markdown",
   "metadata": {},
   "source": [
    "De flesta funktioner returnerar något, men inte alla - vi kan markera avsaknad av retur genom None"
   ]
  },
  {
   "cell_type": "code",
   "execution_count": null,
   "metadata": {},
   "outputs": [],
   "source": [
    "def say_hello(name: str = 'Okänd') -> None:\n",
    "\n",
    "    print(f'Hej {name}!')"
   ]
  },
  {
   "cell_type": "code",
   "execution_count": null,
   "metadata": {},
   "outputs": [],
   "source": [
    "help(say_hello)"
   ]
  },
  {
   "cell_type": "markdown",
   "metadata": {},
   "source": [
    "___"
   ]
  },
  {
   "cell_type": "markdown",
   "metadata": {},
   "source": [
    "## Alright, let's tidy things up a bit"
   ]
  },
  {
   "cell_type": "code",
   "execution_count": null,
   "metadata": {},
   "outputs": [],
   "source": [
    "class Person:\n",
    "\n",
    "    \"\"\"\n",
    "     A class representing a person.\n",
    "    \n",
    "    * attributes:\n",
    "    \n",
    "    name (str): the name of the person.\n",
    "    age (int): the age of the person.\n",
    "    \n",
    "    * Methods:\n",
    "\n",
    "    1. presentation(): prints a presentation of the person\n",
    "    2. age_in_the_future(antal_år): prints the age of the person in a certain number of years\n",
    "    \n",
    "    \"\"\"\n",
    "\n",
    "    def __init__(self, namn: str, ålder: int | float) -> None:\n",
    "\n",
    "        self.name = namn\n",
    "        self.age = ålder\n",
    "\n",
    "    def presentation(self) -> None:\n",
    "\n",
    "        'Presents the person'\n",
    "\n",
    "        print(f'Hi, my name is {self.name} and I am {self.age} years old.')\n",
    "\n",
    "    def age_in_the_future(self, antal_år: int | float) -> None:\n",
    "\n",
    "        'Calculated how old the person is in a given amount of years'\n",
    "        \n",
    "        print(f'I will be {self.age + antal_år} years old in {antal_år} years.')"
   ]
  },
  {
   "cell_type": "code",
   "execution_count": null,
   "metadata": {},
   "outputs": [],
   "source": [
    "student = Person('Boris', 25)\n",
    "help(student)"
   ]
  },
  {
   "cell_type": "markdown",
   "metadata": {},
   "source": [
    "___"
   ]
  },
  {
   "cell_type": "markdown",
   "metadata": {},
   "source": [
    "**Privata och publika attribut**\n",
    "\n",
    "Med publika attribut menar vi sådana som du som användare kan komma åt direkt *utanför* klassen."
   ]
  },
  {
   "cell_type": "code",
   "execution_count": null,
   "metadata": {},
   "outputs": [],
   "source": [
    "# följande attribut är publika eftersom att vi kan komma åt de utanför klassen\n",
    "\n",
    "print(student.name)\n",
    "print(student.age)"
   ]
  },
  {
   "cell_type": "code",
   "execution_count": null,
   "metadata": {},
   "outputs": [],
   "source": [
    "class Person:\n",
    "\n",
    "    \"\"\"\n",
    "     A class representing a person.\n",
    "    \n",
    "    * attributes:\n",
    "    \n",
    "    name (str): the name of the person.\n",
    "    age (int): the age of the person.\n",
    "    \n",
    "    * Methods:\n",
    "\n",
    "    1. presentation(): prints a presentation of the person\n",
    "    2. age_in_the_future(antal_år): prints the age of the person in a certain number of years\n",
    "    \n",
    "    \"\"\"\n",
    "\n",
    "    def __init__(self, namn: str, ålder: int | float, adress: str, födelseår: str) -> None:\n",
    "\n",
    "        # publika attribut namnges helt enkelt enligt nedan\n",
    "        # dvs, self.attribut_namn\n",
    "\n",
    "        self.name = namn\n",
    "        self.age = ålder\n",
    "\n",
    "        # vi kan också namge attribut på följande vis\n",
    "        # self._attribut_namn, dvs med ett understreck före själva namnet\n",
    "\n",
    "        # genom att namnge på följande sett så indikerar vi att detta är ett privat\n",
    "        # attribut. Ett privat attribut är något som man INTE vill att användaren ska direkt använda utanför klassen\n",
    "        # utan används enbart internt inom klassen\n",
    "\n",
    "        self._adress = adress\n",
    "\n",
    "        # om vi vill ha ett betvingat privat attribut så kan vi namnge det med två understreck före namnet\n",
    "        # på detta vis så kommer Python att neka all åtkomst utifrån till attributet. Den kommer\n",
    "        # endast kunna bli kallad på innanför klassen.\n",
    "\n",
    "        self.__birthyear = födelseår\n",
    "\n",
    "    def presentation(self) -> None:\n",
    "\n",
    "        'Presents the person'\n",
    "\n",
    "        print(f'Hi, my name is {self.name} and I am {self.age} years old.')\n",
    "\n",
    "    def age_in_the_future(self, antal_år: int | float) -> None:\n",
    "\n",
    "        'Calculated how old the person is in a given amount of years'\n",
    "        \n",
    "        print(f'I will be {self.age + antal_år} years old in {antal_år} years.')\n",
    "\n",
    "    # denna metod repr() kommer Python att defaulta till när ni exempelvis använder print() på instans av den här klassen\n",
    "    def __repr__(self) -> str:\n",
    "\n",
    "        \"\"\"Returns an unambigious string representation of the object and its attributes\"\"\"\n",
    "        \n",
    "        return f'Person(name={self.name}, age={self.age}, adress={self._adress}, birthyear={self.__birthyear})'\n",
    "\n"
   ]
  },
  {
   "cell_type": "code",
   "execution_count": null,
   "metadata": {},
   "outputs": [],
   "source": [
    "another_mate = Person('Malcolm', 25, 'Hornsgatan', '2000')"
   ]
  },
  {
   "cell_type": "code",
   "execution_count": null,
   "metadata": {},
   "outputs": [],
   "source": [
    "# Python kommer att söka efter __repr__ metoden när ni använder print på vår instans, och utför koden\n",
    "# som hör till den metoden. I detta fall kommer den att returnera en sträng som vi har skapat i metoden.\n",
    "\n",
    "print(another_mate)"
   ]
  },
  {
   "cell_type": "code",
   "execution_count": null,
   "metadata": {},
   "outputs": [],
   "source": [
    "# detta är instansens publika attriut, dvs de som vi förväntas komma åt utifrån\n",
    "\n",
    "print(another_mate.age)\n",
    "print(another_mate.name)"
   ]
  },
  {
   "cell_type": "code",
   "execution_count": null,
   "metadata": {},
   "outputs": [],
   "source": [
    "# trots att denna var privat egentligen, kommer vi ändå åt den. Python nekar oss inte.\n",
    "# men, du som användare ska vara väldigt försiktig med attribut som börjar med ett understreck\n",
    "# helst ska du INTE använda de utanför klassen\n",
    "\n",
    "print(another_mate._adress)"
   ]
  },
  {
   "cell_type": "code",
   "execution_count": null,
   "metadata": {},
   "outputs": [],
   "source": [
    "# helprivata attribut är betvingat endast åtkomliga inifrån klassdefinitionen, ej utifrån\n",
    "\n",
    "print(another_mate.__birthyear)"
   ]
  },
  {
   "cell_type": "markdown",
   "metadata": {},
   "source": [
    "**Hur kan vi ändå säkerställa åtkomst till privata attribut, utifrån?**"
   ]
  },
  {
   "cell_type": "code",
   "execution_count": null,
   "metadata": {},
   "outputs": [],
   "source": [
    "class Student:\n",
    "\n",
    "    def __init__(self, namn: str, efternamn: str, årskurs: str, program: str) -> None:\n",
    "\n",
    "        self.namn = namn\n",
    "        self.__efternamn = efternamn\n",
    "        self.årskurs = årskurs\n",
    "        self.program = program\n",
    "\n",
    "    # vi kommer att skapa en speciell metod som vi kommer \"dekorera\" med @property\n",
    "\n",
    "    @property\n",
    "    def efternamn(self) -> str:\n",
    "\n",
    "        return self.__efternamn"
   ]
  },
  {
   "cell_type": "code",
   "execution_count": null,
   "metadata": {},
   "outputs": [],
   "source": [
    "en_student = Student('Linus', 'Lord', '1', 'AI25')"
   ]
  },
  {
   "cell_type": "code",
   "execution_count": null,
   "metadata": {},
   "outputs": [],
   "source": [
    "# vi kommer åt samtliga publika attribut på följande vis\n",
    "\n",
    "print(en_student.namn)\n",
    "print(en_student.årskurs)\n",
    "print(en_student.program)"
   ]
  },
  {
   "cell_type": "code",
   "execution_count": null,
   "metadata": {},
   "outputs": [],
   "source": [
    "print(en_student.efternamn)"
   ]
  },
  {
   "cell_type": "markdown",
   "metadata": {},
   "source": [
    "___"
   ]
  },
  {
   "cell_type": "markdown",
   "metadata": {},
   "source": [
    "## Övning\n",
    "\n",
    "Jag vill att ni nu skapar en egen klass. Den ska heta Varor.\n",
    "\n",
    "Varje instans av klassen ska representera en vara som säljs i en butik.\n",
    "\n",
    "1) Ni kommer behöva initiera (med **init**) varje instans med ett namn, ett pris, ett brand, giltighetsdatum och lagersaldo.\n",
    "\n",
    "2) Skapa en doc-sträng för klassen, samt för alla ytterligare metoder ni skapar för klassen.\n",
    "\n",
    "3) Skapa **repr** metoden, som returnerar instansens status på ett unambigious sätt\n",
    "\n",
    "4) Skapa nu en metod som tar ett argument *discount*. Denna metod ska **returnera** rabatterade priset på varan.\n",
    "\n",
    "5) Skapa flera klassmetoder, experimentera själva!\n",
    "\n",
    "6) Omvandla minst ett attribut till ett privat attribut (med .__)\n",
    "\n",
    "7) Skapa en @property metod för det privata attributet ni skapade i steg 6, så att ni kan komma åt den utanför klassen."
   ]
  },
  {
   "cell_type": "markdown",
   "metadata": {},
   "source": [
    "**Lösningsförslag**"
   ]
  },
  {
   "cell_type": "code",
   "execution_count": null,
   "metadata": {},
   "outputs": [],
   "source": [
    "class Wares:\n",
    "\n",
    "    \"\"\"Initializes a new instance of the Wares class together with the following attributes: \n",
    "    \n",
    "    name: str, \n",
    "    price: int | float, \n",
    "    brand: str, \n",
    "    expiration_date: str \n",
    "    stock: int\n",
    "    \"\"\"\n",
    "\n",
    "    def __init__(self, name: str, price: int | float, brand: str, expiration_date: str, stock: int) -> None:\n",
    "        \n",
    "        self.name = name\n",
    "        self.price = price\n",
    "        self.brand = brand\n",
    "        \n",
    "        self.__expiration_date = expiration_date\n",
    "        self.__stock = stock\n",
    "\n",
    "    @property\n",
    "    def expiration_date(self):\n",
    "        \n",
    "        return self.__expiration_date\n",
    "    \n",
    "    @property\n",
    "    def stock(self):\n",
    "        \n",
    "        return self.__stock\n",
    "\n",
    "    def __repr__(self):\n",
    "\n",
    "        \"\"\"Returns an unambigious string representation of the instance\"\"\"\n",
    "\n",
    "        return f\"{self.__class__.__name__}(name={self.name}, price={self.price}, brand={self.brand}, expiration_date={self.__expiration_date}, stock={self.__stock})\"\n",
    "    \n",
    "    def discount(self, percentage: float) -> float:\n",
    "\n",
    "        \"\"\"Returns the discounted price of the product\n",
    "        \n",
    "        args:\n",
    "        \n",
    "        percentage: float - the discount as a fractional percentage (0-1)\"\"\"\n",
    "\n",
    "        return self.price * (1-percentage)\n",
    "    \n",
    "    def information(self) -> str:\n",
    "\n",
    "        \"\"\"Returns a string with human readable basic information about the instance\"\"\"\n",
    "\n",
    "        return f'We have {self.__stock} of {self.name}s in stock. They are all from {self.brand} and cost {self.price} each.'\n"
   ]
  },
  {
   "cell_type": "code",
   "execution_count": null,
   "metadata": {},
   "outputs": [],
   "source": [
    "milk = Wares('mellanmjölk', 18, 'Arla', '2025-10-19', 100)\n",
    "potato = Wares('potatis', 3, 'Solpotatis', '2025-12-04', 500)"
   ]
  },
  {
   "cell_type": "code",
   "execution_count": null,
   "metadata": {},
   "outputs": [],
   "source": [
    "print(milk.information())\n",
    "print(potato.information(), end='\\n\\n')\n",
    "\n",
    "print(milk)\n",
    "print(potato)"
   ]
  },
  {
   "cell_type": "markdown",
   "metadata": {},
   "source": [
    "---"
   ]
  },
  {
   "cell_type": "markdown",
   "metadata": {},
   "source": [
    "**Men vänta lite nu, vi har problem!**"
   ]
  },
  {
   "cell_type": "code",
   "execution_count": null,
   "metadata": {},
   "outputs": [],
   "source": [
    "ketchup = Wares('ketchup', 25, 'Garant', '2026-05-10', 500)"
   ]
  },
  {
   "cell_type": "markdown",
   "metadata": {},
   "source": [
    "Vi kan mycket enkelt ändra på våra publika attribut, genom att helt enkelt re-assigna dem."
   ]
  },
  {
   "cell_type": "code",
   "execution_count": null,
   "metadata": {},
   "outputs": [],
   "source": [
    "print(ketchup)"
   ]
  },
  {
   "cell_type": "code",
   "execution_count": null,
   "metadata": {},
   "outputs": [],
   "source": [
    "# re-assignment\n",
    "\n",
    "ketchup.price = 35\n",
    "\n",
    "print(ketchup)"
   ]
  },
  {
   "cell_type": "markdown",
   "metadata": {},
   "source": [
    "**Utmaningen** är att vi inte har några som helst kontroller inbyggda här, och således kan man ex göra följande"
   ]
  },
  {
   "cell_type": "code",
   "execution_count": null,
   "metadata": {},
   "outputs": [],
   "source": [
    "ketchup.price = [x**2 for x in range(3)]   # vi kan re-assigna till vad som helst just nu\n",
    "\n",
    "print(ketchup)"
   ]
  },
  {
   "cell_type": "markdown",
   "metadata": {},
   "source": [
    "Det finns alltså inga checks and balances som kontrollerar vad vi re-assignar våra variabler till! De kan i nuläget utan problem assignas til felaktiva/oväntade värden.\n",
    "\n",
    "**Vi behöver bemöta detta problem!**\n",
    "\n",
    "Dvs, ett sätt att säkerställa att alla attribut är av förväntad datatyp samt även innehar giltiga värden."
   ]
  },
  {
   "cell_type": "markdown",
   "metadata": {},
   "source": [
    "---"
   ]
  },
  {
   "cell_type": "markdown",
   "metadata": {},
   "source": [
    "Lite refresher på Raise-clausen. Denna används för att generera felmeddelanden."
   ]
  },
  {
   "cell_type": "code",
   "execution_count": null,
   "metadata": {},
   "outputs": [],
   "source": [
    "a_variable = ['hello']\n",
    "\n",
    "if isinstance(a_variable, str):\n",
    "\n",
    "    print('Jolly roger, we all good')\n",
    "\n",
    "else:\n",
    "\n",
    "    raise TypeError('a_variable must be of type str')"
   ]
  },
  {
   "cell_type": "markdown",
   "metadata": {},
   "source": [
    "---"
   ]
  },
  {
   "cell_type": "code",
   "execution_count": null,
   "metadata": {},
   "outputs": [],
   "source": [
    "class Circle:\n",
    "\n",
    "    def __init__(self, radius: int | float, color: str) -> None:\n",
    "        \n",
    "        self.radius = radius\n",
    "        self.color = color"
   ]
  },
  {
   "cell_type": "code",
   "execution_count": null,
   "metadata": {},
   "outputs": [],
   "source": [
    "my_circle = Circle(10, 'red')\n",
    "\n",
    "print(my_circle.radius)\n",
    "print(my_circle.color)\n"
   ]
  },
  {
   "cell_type": "markdown",
   "metadata": {},
   "source": [
    "I syfte att kunna sätta in guardrails för att kontrollera att attribut får korrekta datatyper och värden, behöver man göra två saker.\n",
    "\n",
    "        1. Gör de private och skapa en property av dina attribut"
   ]
  },
  {
   "cell_type": "code",
   "execution_count": null,
   "metadata": {},
   "outputs": [],
   "source": [
    "class Circle:\n",
    "\n",
    "    def __init__(self, radius: int | float, color: str) -> None:\n",
    "        \n",
    "        self.__radius = radius\n",
    "        self.__color = color\n",
    "\n",
    "    # man kan se på nedan property metod som en s.k. GETTER. Den används för att \"get\" värdet av en attribut, utanför klassen\n",
    "\n",
    "    @property\n",
    "    def radius(self) -> int | float:\n",
    "\n",
    "        return self.__radius\n",
    "    \n",
    "    @radius.setter\n",
    "    def radius(self, radius: int | float) -> None:\n",
    "\n",
    "        if isinstance(radius, int |float):\n",
    "            self.__radius = radius\n",
    "\n",
    "        else:\n",
    "            raise TypeError('radius must be of type int or float')"
   ]
  },
  {
   "cell_type": "code",
   "execution_count": null,
   "metadata": {},
   "outputs": [],
   "source": [
    "my_circle = Circle(10, 'red')\n",
    "\n",
    "print(my_circle.radius)"
   ]
  },
  {
   "cell_type": "code",
   "execution_count": null,
   "metadata": {},
   "outputs": [],
   "source": [
    "my_circle.radius = '18.0'"
   ]
  },
  {
   "cell_type": "code",
   "execution_count": null,
   "metadata": {},
   "outputs": [],
   "source": [
    "my_circle.radius = 7\n",
    "\n",
    "print(my_circle.radius)"
   ]
  },
  {
   "cell_type": "markdown",
   "metadata": {},
   "source": [
    "___"
   ]
  },
  {
   "cell_type": "markdown",
   "metadata": {},
   "source": [
    "## Ytterliggare exempel"
   ]
  },
  {
   "cell_type": "code",
   "execution_count": null,
   "metadata": {},
   "outputs": [],
   "source": [
    "class Rectangle:\n",
    "\n",
    "    def __init__(self, width: int | float, height: int | float) -> None:\n",
    "        \n",
    "        self.width = width\n",
    "        self.height = height\n"
   ]
  },
  {
   "cell_type": "markdown",
   "metadata": {},
   "source": [
    "För publika attribut kan jag enkelt komma åt värden"
   ]
  },
  {
   "cell_type": "code",
   "execution_count": null,
   "metadata": {},
   "outputs": [],
   "source": [
    "my_rectangle = Rectangle(10, 20)\n",
    "\n",
    "print(f'Bredden på min rectangle är {my_rectangle.width} och höjden är {my_rectangle.height}')"
   ]
  },
  {
   "cell_type": "markdown",
   "metadata": {},
   "source": [
    "Jag kan dock även, utan restriktioner, ändra på attributens värden"
   ]
  },
  {
   "cell_type": "code",
   "execution_count": null,
   "metadata": {},
   "outputs": [],
   "source": [
    "my_rectangle.width = [{'en_nyckel': 'ett_värde'}]\n",
    "\n",
    "print(f'Bredden på min rectangle är {my_rectangle.width} och höjden är {my_rectangle.height}')"
   ]
  },
  {
   "cell_type": "markdown",
   "metadata": {},
   "source": [
    "Vi behöver således ändra på sättet vi skapar vår klass på, så att den blir robust mot felaktigheter."
   ]
  },
  {
   "cell_type": "code",
   "execution_count": null,
   "metadata": {},
   "outputs": [],
   "source": [
    "class Rectangle:\n",
    "\n",
    "    def __init__(self, width: int | float, height: int | float) -> None:\n",
    "        \n",
    "        self.__width = width\n",
    "        self.__height = height\n",
    "\n",
    "    @property\n",
    "    def width(self) -> int | float:\n",
    "            return self.__width\n",
    "    \n",
    "    @property\n",
    "    def height(self) -> int | float:\n",
    "           return self.__height\n",
    "    \n",
    "    @width.setter\n",
    "    def width(self, value: int | float):\n",
    "          \n",
    "          if isinstance(value, int | float):\n",
    "                self.__width = value\n",
    "          else:\n",
    "                raise TypeError(\"Width must be an integer or a float\")\n",
    "          \n",
    "    @height.setter\n",
    "    def height(self, value: int | float):\n",
    "          \n",
    "          if isinstance(value, int | float):\n",
    "                self.__height = value\n",
    "          else:\n",
    "                raise TypeError(\"Height must be an integer or a float\")\n"
   ]
  },
  {
   "cell_type": "code",
   "execution_count": null,
   "metadata": {},
   "outputs": [],
   "source": [
    "my_rectangle = Rectangle(10, 20)\n",
    "\n",
    "print(f'Bredden på min rectangle är {my_rectangle.width} och höjden är {my_rectangle.height}')"
   ]
  },
  {
   "cell_type": "code",
   "execution_count": null,
   "metadata": {},
   "outputs": [],
   "source": [
    "my_rectangle.width = [{'en_nyckel': 'ett_värde'}]"
   ]
  },
  {
   "cell_type": "markdown",
   "metadata": {},
   "source": [
    "---\n",
    "\n",
    "## Okey, bra?\n",
    "\n",
    "**Not quite** \n",
    "\n",
    "Vi har fortfarande problem. "
   ]
  },
  {
   "cell_type": "code",
   "execution_count": null,
   "metadata": {},
   "outputs": [],
   "source": [
    "my_rectangle.width = -5\n",
    "\n",
    "print(f'Bredden på min rectangle är {my_rectangle.width} och höjden är {my_rectangle.height}')"
   ]
  },
  {
   "cell_type": "markdown",
   "metadata": {},
   "source": [
    "Vi har löst problemet med datatypen, men uppenbarligen har vi problem med giltiga värden ty vi lyckades sätta bredden ovan till ett ogiltigt negativt värde.\n",
    "\n",
    "*Detta löses dock enkelt genom att uttöka våran setter-metod.*"
   ]
  },
  {
   "cell_type": "code",
   "execution_count": null,
   "metadata": {},
   "outputs": [],
   "source": [
    "class Rectangle:\n",
    "\n",
    "    def __init__(self, width: int | float, height: int | float) -> None:\n",
    "        \n",
    "        self.__width = width\n",
    "        self.__height = height\n",
    "\n",
    "    @property\n",
    "    def width(self) -> int | float:\n",
    "            return self.__width\n",
    "    \n",
    "    @property\n",
    "    def height(self) -> int | float:\n",
    "           return self.__height\n",
    "    \n",
    "    @width.setter\n",
    "    def width(self, value: int | float):\n",
    "          \n",
    "          if isinstance(value, int | float):\n",
    "                \n",
    "            if value > 0:\n",
    "                  self.__width = value\n",
    "\n",
    "            else:\n",
    "                  raise ValueError('Width must be a positive integer or float')\n",
    "                      \n",
    "          else:\n",
    "                raise TypeError(\"Width must be an integer or a float\")\n",
    "          \n",
    "    @height.setter\n",
    "    def height(self, value: int | float):\n",
    "          \n",
    "          if isinstance(value, int | float):\n",
    "                self.__height = value\n",
    "          else:\n",
    "                raise TypeError(\"Height must be an integer or a float\")"
   ]
  },
  {
   "cell_type": "code",
   "execution_count": null,
   "metadata": {},
   "outputs": [],
   "source": [
    "my_rectangle = Rectangle(10, 20)\n",
    "\n",
    "print(f'Bredden på min rectangle är {my_rectangle.width} och höjden är {my_rectangle.height}')"
   ]
  },
  {
   "cell_type": "code",
   "execution_count": null,
   "metadata": {},
   "outputs": [],
   "source": [
    "my_rectangle.width = ['heh']   # TypeError"
   ]
  },
  {
   "cell_type": "code",
   "execution_count": null,
   "metadata": {},
   "outputs": [],
   "source": [
    "my_rectangle.width = -5     # ValueError"
   ]
  },
  {
   "cell_type": "markdown",
   "metadata": {},
   "source": [
    "---\n",
    "\n",
    "Det är väldigt bra practice att göra dina attribut privata, och skapa property samt setter metoder för dem."
   ]
  },
  {
   "cell_type": "code",
   "execution_count": null,
   "metadata": {},
   "outputs": [],
   "source": [
    "class Rectangle:\n",
    "\n",
    "    def __init__(self, width: int | float, height: int | float) -> None:\n",
    "        \n",
    "        self.__width = width\n",
    "        self.__height = height\n",
    "\n",
    "    @property\n",
    "    def width(self) -> int | float:\n",
    "            return self.__width\n",
    "    \n",
    "    @property\n",
    "    def height(self) -> int | float:\n",
    "           return self.__height\n",
    "    \n",
    "    @width.setter\n",
    "    def width(self, value: int | float):\n",
    "          \n",
    "          if isinstance(value, int | float):\n",
    "                \n",
    "            if value > 0:\n",
    "                  self.__width = value\n",
    "\n",
    "            else:\n",
    "                  raise ValueError('Width must be a positive integer or float')\n",
    "                      \n",
    "          else:\n",
    "                raise TypeError(\"Width must be an integer or a float\")\n",
    "          \n",
    "    @height.setter\n",
    "    def height(self, value: int | float):\n",
    "          \n",
    "          if isinstance(value, int | float):\n",
    "                \n",
    "            if value > 0:\n",
    "                self.__height = value\n",
    "            \n",
    "            else: \n",
    "                 raise ValueError('Height must be a positive integer or float')\n",
    "\n",
    "          else:\n",
    "                raise TypeError(\"Height must be an integer or a float\")"
   ]
  },
  {
   "cell_type": "markdown",
   "metadata": {},
   "source": [
    "---\n",
    "\n",
    "## Bra nyheter!\n",
    "\n",
    "Det som är så bra med detta, är att dina setters även kommer vara aktiva när du initierar din instans - om du gör en LITEN modifikation."
   ]
  },
  {
   "cell_type": "code",
   "execution_count": null,
   "metadata": {},
   "outputs": [],
   "source": [
    "class Rectangle:\n",
    "\n",
    "    def __init__(self, width: int | float, height: int | float) -> None:\n",
    "        \n",
    "        self.width = width\n",
    "        self.height = height\n",
    "\n",
    "    @property\n",
    "    def width(self) -> int | float:\n",
    "            return self.__width\n",
    "    \n",
    "    @property\n",
    "    def height(self) -> int | float:\n",
    "           return self.__height\n",
    "    \n",
    "    @width.setter\n",
    "    def width(self, value: int | float):\n",
    "          \n",
    "          if isinstance(value, int | float):\n",
    "                \n",
    "            if value > 0:\n",
    "                  self.__width = value\n",
    "\n",
    "            else:\n",
    "                  raise ValueError('Width must be a positive integer or float')\n",
    "                      \n",
    "          else:\n",
    "                raise TypeError(\"Width must be an integer or a float\")\n",
    "          \n",
    "    @height.setter\n",
    "    def height(self, value: int | float):\n",
    "          \n",
    "          if isinstance(value, int | float):\n",
    "                \n",
    "            if value > 0:\n",
    "                self.__height = value\n",
    "            \n",
    "            else: \n",
    "                 raise ValueError('Height must be a positive integer or float')\n",
    "\n",
    "          else:\n",
    "                raise TypeError(\"Height must be an integer or a float\")"
   ]
  },
  {
   "cell_type": "code",
   "execution_count": null,
   "metadata": {},
   "outputs": [],
   "source": [
    "my_rectangle = Rectangle(10, 5)"
   ]
  },
  {
   "cell_type": "code",
   "execution_count": null,
   "metadata": {},
   "outputs": [],
   "source": [
    "my_rectangle.height = -5"
   ]
  },
  {
   "cell_type": "markdown",
   "metadata": {},
   "source": [
    "Python kommer nu VARJE gång du försöker sätta dina attributs värden, även i __init__, att gå igenom logiken i respektive attributs setter! \n",
    "\n",
    "På detta sätt har vi nu implementerat kontroller av värden och datatyper av attribut, både vid initiering OCH vid re-assignment utanför klassen.\n",
    "\n",
    "**BRA VA? :)**"
   ]
  },
  {
   "cell_type": "markdown",
   "metadata": {},
   "source": []
  }
 ],
 "metadata": {
  "kernelspec": {
   "display_name": "programmering",
   "language": "python",
   "name": "python3"
  },
  "language_info": {
   "codemirror_mode": {
    "name": "ipython",
    "version": 3
   },
   "file_extension": ".py",
   "mimetype": "text/x-python",
   "name": "python",
   "nbconvert_exporter": "python",
   "pygments_lexer": "ipython3",
   "version": "3.13.5"
  }
 },
 "nbformat": 4,
 "nbformat_minor": 2
}
