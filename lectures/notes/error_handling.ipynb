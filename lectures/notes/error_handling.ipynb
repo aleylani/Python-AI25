{
 "cells": [
  {
   "cell_type": "markdown",
   "metadata": {},
   "source": [
    "## Fel i Python\n",
    "\n",
    "Vad är fel i Python?\n",
    "\n",
    "Ett fel i Python är generellt något som hindrar programmet från att köras som det är tänkt. Det kan vara syntaxfel, logiska fel, eller att försöka använda en variabel som inte har definierats. När ett fel uppstår i Python, så avslutas programmet och ett felmeddelande skrivs ut. Detta hjälper programmeraren att identifiera och åtgärda problemet.\n",
    "\n",
    "Det går dock att bygga in sätt att hantera fel på, och således inte få programmet att 'crasha'."
   ]
  },
  {
   "cell_type": "markdown",
   "metadata": {},
   "source": [
    "**SyntaxError**\n",
    "\n",
    "När man skriver kod på ett sätt som inte är tillåtet eller förväntat, av Python"
   ]
  },
  {
   "cell_type": "code",
   "execution_count": null,
   "metadata": {},
   "outputs": [],
   "source": [
    "# här \"glömmer\" vi bort att lägga till det förväntade : i slutet av for-satsen. \n",
    "# Python blir såldes förvirrad, och spottar ur sig ett SyntaxError\n",
    "\n",
    "\n",
    "for x in range(0, 10)\n",
    "\n",
    "    x \n"
   ]
  },
  {
   "cell_type": "markdown",
   "metadata": {},
   "source": [
    "**NameError**\n",
    "\n",
    "När vi försöker använda ex en variabel eller funktion som inte har definierats."
   ]
  },
  {
   "cell_type": "code",
   "execution_count": null,
   "metadata": {},
   "outputs": [],
   "source": [
    "print(ali)  # variabeln ali är inte definierad "
   ]
  },
  {
   "cell_type": "code",
   "execution_count": null,
   "metadata": {},
   "outputs": [],
   "source": [
    "prin('ali')  # här är funktionen prin inte definierad"
   ]
  },
  {
   "cell_type": "markdown",
   "metadata": {},
   "source": [
    "**ValueError**"
   ]
  },
  {
   "cell_type": "code",
   "execution_count": null,
   "metadata": {},
   "outputs": [],
   "source": [
    "import math\n",
    "\n",
    "math.sqrt(-1)      # Vi kan inte ta roten ur ett negativt tal"
   ]
  },
  {
   "cell_type": "code",
   "execution_count": null,
   "metadata": {},
   "outputs": [],
   "source": [
    "5/0"
   ]
  },
  {
   "cell_type": "markdown",
   "metadata": {},
   "source": [
    "**Logiska fel**"
   ]
  },
  {
   "cell_type": "code",
   "execution_count": 16,
   "metadata": {},
   "outputs": [],
   "source": [
    "# Detta är bedömt den svåraste typen av fel, eftersom att koden inte kommer crasha dessa fall. \n",
    "# Tvärtom, så kommer koden att ändå köras, men inte ge det förväntade resultatet.\n",
    "# För programmeringen är detta en utmaning eftersom att man ofta helt missar att man får ett\n",
    "# felaktigt resultat - så man vet alltså inte ens om att det är fel!"
   ]
  },
  {
   "cell_type": "code",
   "execution_count": null,
   "metadata": {},
   "outputs": [],
   "source": [
    "import math\n",
    "\n",
    "# Vi vill beräkna arean av en cirkel med radien 5.\n",
    "\n",
    "radie = 5\n",
    "\n",
    "area = math.pi*radie             # detta är fel formel, vi ska ha kvadraten av radien i formeln!\n",
    "                                 # men observera att koden ändå fungerar\n",
    "\n",
    "print(f'Min area är {area}')\n"
   ]
  },
  {
   "cell_type": "code",
   "execution_count": 20,
   "metadata": {},
   "outputs": [],
   "source": [
    "def calculate_area(radius):\n",
    "\n",
    "    import math\n",
    "\n",
    "    area = math.pi*radius\n",
    "\n",
    "    return area"
   ]
  },
  {
   "cell_type": "code",
   "execution_count": 21,
   "metadata": {},
   "outputs": [],
   "source": [
    "omkrets = 2*math.pi*radie    # rätt\n",
    "\n",
    "omrekts = 2**math.pi*radie   # fel!"
   ]
  },
  {
   "cell_type": "markdown",
   "metadata": {},
   "source": [
    "**Felhantering - Try/Case-satser**"
   ]
  },
  {
   "cell_type": "markdown",
   "metadata": {},
   "source": [
    "Låt oss börja med att konstruera kod som frågar användaren efter två tal, och som sedan multiplicerar ihop dessa"
   ]
  },
  {
   "cell_type": "code",
   "execution_count": null,
   "metadata": {},
   "outputs": [],
   "source": [
    "number_1 = float(input('Ge mig ett första tal: '))\n",
    "number_2 = float(input('Ge mig ett andra tal: '))\n",
    "\n",
    "product = number_1 * number_2\n",
    "\n",
    "print(f'Thanks! The product of {number_1} & {number_2} = {product}.')"
   ]
  },
  {
   "cell_type": "markdown",
   "metadata": {},
   "source": [
    "Vi märker ovan att så fort vi ex än skriver in något som inte går att konvertera till ett tal, så kommer programmet att 'crasha'. Detta är inte eftersträvansvärt, och vi kan lösa detta med hjälp av en try/except-sats."
   ]
  },
  {
   "cell_type": "code",
   "execution_count": null,
   "metadata": {},
   "outputs": [],
   "source": [
    "try:\n",
    "    \n",
    "    number_1 = float(input('Ge mig ett första tal: '))\n",
    "    print(f'Du har angivit number_1 = {number_1}.')\n",
    "\n",
    "except:                                            # except-satsen körs ENDAST om try-satsen slänger ur sig ett fel, annars inte\n",
    "\n",
    "    print('Sorry, ej accepterat värde.')"
   ]
  },
  {
   "cell_type": "markdown",
   "metadata": {},
   "source": [
    "Egentligen är det best practice att i except-satsen specifiera vilken typ av fel som satsen hanterar"
   ]
  },
  {
   "cell_type": "code",
   "execution_count": null,
   "metadata": {},
   "outputs": [],
   "source": [
    "try:\n",
    "    \n",
    "    number_1 = float(input('Ge mig ett första tal: '))\n",
    "    print(f'Du har angivit number_1 = {number_1}.')\n",
    "\n",
    "except ValueError:                                   # denna except-sats kommer endast köra om felet i try-satsen är ValueError\n",
    "\n",
    "    print('Sorry, ej accepterat värde.')"
   ]
  },
  {
   "cell_type": "code",
   "execution_count": null,
   "metadata": {},
   "outputs": [],
   "source": [
    "try:\n",
    "    \n",
    "    number_1 = float(input('Ge mig ett första tal: '))\n",
    "    print(f'Du har angivit number_1 = {number_1}.')\n",
    "\n",
    "except ValueError:                                   # denna except-sats kommer endast köra om felet i try-satsen är ValueError\n",
    "\n",
    "    print('Sorry, ej accepterat värde.')"
   ]
  },
  {
   "cell_type": "code",
   "execution_count": null,
   "metadata": {},
   "outputs": [],
   "source": [
    "try:\n",
    "    \n",
    "    number_1 = float(input('Ge mig ett första tal: '))\n",
    "    number_2 = float(input('Ge  mig ett andra tal:'))\n",
    "    \n",
    "    print(f'Du har angivit number_1 = {number_1}.')\n",
    "    print(f'Du har angivit number_2 = {number_2}.')\n",
    "\n",
    "    kvot = number_1 / number_2\n",
    "\n",
    "    print(f'{number_1} / {number_2} = {kvot}.')\n",
    "\n",
    "except ValueError:                                   # denna except-sats kommer endast köra om felet i try-satsen är ValueError\n",
    "\n",
    "    print('Sorry, ej accepterat värde.')\n",
    "\n",
    "except ZeroDivisionError:\n",
    "\n",
    "    print('KAN INTE DELA PÅ NOLL!!!')\n",
    "\n",
    "except:                                            # denna except-sats kommer köra om felet i try-satsen är något annat än ValueError \n",
    "                                                   # eller ZeroDivisionError\n",
    "\n",
    "    pass"
   ]
  },
  {
   "cell_type": "markdown",
   "metadata": {},
   "source": [
    "**Raise**\n",
    "\n",
    "Detta är när ni själva vill framkalla ett fel!\n",
    "\n",
    "Säg att vi vill att användaren ska ange ett värde mellan 0 och 100"
   ]
  },
  {
   "cell_type": "code",
   "execution_count": null,
   "metadata": {},
   "outputs": [],
   "source": [
    "try:\n",
    "\n",
    "    value = float(input('Ge mig ett värde mellan 0 och 100: '))\n",
    "\n",
    "    if 0 <= value <= 100:\n",
    "        print(f'Du har angivit {value}, vilket är inom giltigt intervall.')\n",
    "        \n",
    "\n",
    "    else:\n",
    "        raise ValueError\n",
    "\n",
    "except:\n",
    "\n",
    "    print('Sorry, ej accepterat värde.')"
   ]
  },
  {
   "cell_type": "markdown",
   "metadata": {},
   "source": [
    "Nu kan vi modifera koden lite så användaren upprepat bes om en input, fram tills dess att input accepteras"
   ]
  },
  {
   "cell_type": "code",
   "execution_count": null,
   "metadata": {},
   "outputs": [],
   "source": [
    "while True:\n",
    "\n",
    "    try:\n",
    "\n",
    "        value = float(input('Ge mig ett värde mellan 0 och 100: '))\n",
    "\n",
    "        if 0 <= value <= 100:\n",
    "            print(f'Du har angivit {value}, vilket är inom giltigt intervall.')\n",
    "            break\n",
    "\n",
    "        else:\n",
    "            raise ValueError\n",
    "\n",
    "    except:\n",
    "\n",
    "        print('Sorry, ej accepterat värde. Försök igen.')"
   ]
  },
  {
   "cell_type": "markdown",
   "metadata": {},
   "source": [
    "OBS, lägg märke till skillnaden mellan ovan samt nedan. Nedan kan ej hantera om Python spottar ur sig fel.\n",
    "\n",
    "Detta sker ex om användaren ger 'Sara' som input"
   ]
  },
  {
   "cell_type": "code",
   "execution_count": null,
   "metadata": {},
   "outputs": [],
   "source": [
    "while True:\n",
    "\n",
    "    value = float(input('Ge mig ett värde mellan 0 och 100: '))\n",
    "\n",
    "    if 0 <= value <= 100:\n",
    "        print(f'Du har angivit {value}, vilket är inom giltigt intervall.')\n",
    "        break\n",
    "\n",
    "    else:\n",
    "        print('Felaktigt värde, försök igen!')"
   ]
  }
 ],
 "metadata": {
  "kernelspec": {
   "display_name": "introduktion",
   "language": "python",
   "name": "python3"
  },
  "language_info": {
   "codemirror_mode": {
    "name": "ipython",
    "version": 3
   },
   "file_extension": ".py",
   "mimetype": "text/x-python",
   "name": "python",
   "nbconvert_exporter": "python",
   "pygments_lexer": "ipython3",
   "version": "3.12.4"
  }
 },
 "nbformat": 4,
 "nbformat_minor": 2
}
