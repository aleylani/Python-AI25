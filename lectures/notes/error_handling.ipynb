{
 "cells": [
  {
   "cell_type": "markdown",
   "metadata": {},
   "source": [
    "## Fel i Python\n",
    "\n",
    "Vad är fel i Python?\n",
    "\n",
    "Ett fel i Python är generellt något som hindrar programmet från att köras som det är tänkt. Det kan vara syntaxfel, logiska fel, eller att försöka använda en variabel som inte har definierats. När ett fel uppstår i Python, så avslutas programmet och ett felmeddelande skrivs ut. Detta hjälper programmeraren att identifiera och åtgärda problemet.\n",
    "\n",
    "Det går dock att bygga in sätt att hantera fel på, och således inte få programmet att 'crasha'."
   ]
  },
  {
   "cell_type": "markdown",
   "metadata": {},
   "source": [
    "**SyntaxError**\n",
    "\n",
    "När man skriver kod på ett sätt som inte är tillåtet i Python."
   ]
  },
  {
   "cell_type": "code",
   "execution_count": null,
   "metadata": {},
   "outputs": [],
   "source": [
    "# här \"glömmer\" vi bort att lägga till det förväntade : i slutet av satsen.\n",
    "# python blir således förvirrad, och spottar ur sig ett SyntaxError\n",
    "\n",
    "for x in range(0, 10)\n",
    "\n",
    "    print(x)"
   ]
  },
  {
   "cell_type": "markdown",
   "metadata": {},
   "source": [
    "**NameError**\n",
    "\n",
    "När vi försöker använda ex. en variabel eller funktion som ännu *inte* definierats."
   ]
  },
  {
   "cell_type": "code",
   "execution_count": null,
   "metadata": {},
   "outputs": [],
   "source": [
    "print(namn)          # variabeln namn är inte definierad"
   ]
  },
  {
   "cell_type": "code",
   "execution_count": null,
   "metadata": {},
   "outputs": [],
   "source": [
    "prin('Ali')         # funktionen prin är inte definierad"
   ]
  },
  {
   "cell_type": "markdown",
   "metadata": {},
   "source": [
    "**ValueError**"
   ]
  },
  {
   "cell_type": "code",
   "execution_count": null,
   "metadata": {},
   "outputs": [],
   "source": [
    "import math\n",
    "\n",
    "math.sqrt(-1)    # vi kan här inte ta rötter ur negativa tal (trots att det egentligen är möjligt)"
   ]
  },
  {
   "cell_type": "markdown",
   "metadata": {},
   "source": [
    "**ZeroDivisonError**"
   ]
  },
  {
   "cell_type": "code",
   "execution_count": null,
   "metadata": {},
   "outputs": [],
   "source": [
    "5/0"
   ]
  },
  {
   "cell_type": "markdown",
   "metadata": {},
   "source": [
    "**TypeError**\n",
    "\n",
    "När vi försöker använda en funktion eller metod på ett objekt som inte är av typen den förväntades."
   ]
  },
  {
   "cell_type": "code",
   "execution_count": null,
   "metadata": {},
   "outputs": [],
   "source": [
    "len(10)"
   ]
  },
  {
   "cell_type": "markdown",
   "metadata": {},
   "source": [
    "**Logiska fel**\n",
    "\n",
    "Kan nog lugnt betraktas som den svåraste typen av fel, eftersom att koden inte kraschar av de. Tvärtom så kommer koden att lyckas köras igenom framgångsrikt, men vi får inte det förväntade/korrekta resultatet.\n",
    "\n",
    "För programmeringen är detta en utmaning eftersom att man ofta helt missar att man får ett felaktigt resultat - så man vet i många fall inte ens om att felet existerar!"
   ]
  },
  {
   "cell_type": "code",
   "execution_count": null,
   "metadata": {},
   "outputs": [],
   "source": [
    "import math\n",
    "\n",
    "# Anta att vi vill beräkna arean av en cirkel med en given radie\n",
    "\n",
    "radie = 5\n",
    "\n",
    "area = round(math.pi*radie, 3)      # detta är fel formel för cirkelns area - vi ska givetvis kradrera radien!\n",
    "                                    # observera dock att programmet inte kraschar, utan kör på ändå\n",
    "\n",
    "print(f'Arean för cirkeln med radie {radie} är {area} a.e.')"
   ]
  },
  {
   "cell_type": "code",
   "execution_count": null,
   "metadata": {},
   "outputs": [],
   "source": [
    "# fel kan gömma sig i funktionsdefinitioner också, vilket gör det ännu svårare att upptäcka\n",
    "\n",
    "def calculate_area(radius):\n",
    "\n",
    "    import math\n",
    "\n",
    "    area = math.pi*radius\n",
    "\n",
    "    return area"
   ]
  },
  {
   "cell_type": "code",
   "execution_count": null,
   "metadata": {},
   "outputs": [],
   "source": [
    "omkrets = 2*math.pi*radie    # rätt\n",
    "\n",
    "omrekts = 2**math.pi*radie   # fel!"
   ]
  },
  {
   "cell_type": "markdown",
   "metadata": {},
   "source": [
    "**Felhantering - Try/Case-satser**"
   ]
  },
  {
   "cell_type": "markdown",
   "metadata": {},
   "source": [
    "Vi ska nu lära oss hantera fel som får koden att krascha, dvs alla förutom logiska fel.\n",
    "\n",
    "Låt oss börja med att konstruera kod som frågar användaren efter två ta, och sedan multiplicerar ihop dessa."
   ]
  },
  {
   "cell_type": "code",
   "execution_count": null,
   "metadata": {},
   "outputs": [],
   "source": [
    "number_1 = float(input('Ge mig ett första tal: '))\n",
    "number_2 = float(input('Ge mig ett andra tal: '))\n",
    "\n",
    "product = number_1 * number_2\n",
    "\n",
    "print(f'Thanks! The product of {number_1} * {number_2} is {product}.')\n"
   ]
  },
  {
   "cell_type": "markdown",
   "metadata": {},
   "source": [
    "Vi märker att så fort vi ex skriver in något som inte går att konvertera till ett decimaltal så kraschar koden. Detta är då *inte* eftersträvansvärt, och vi kan försöka lösa det med hjälp av en try/except-sats."
   ]
  },
  {
   "cell_type": "code",
   "execution_count": null,
   "metadata": {},
   "outputs": [],
   "source": [
    "try:\n",
    "\n",
    "    number_1 = float(input('Ge mig ett första tal: '))\n",
    "    print(f'Your first number is {number_1}')\n",
    "    \n",
    "    number_2 = float(input('Ge mig ett andra tal: '))\n",
    "    print(f'Your second number is {number_2}')\n",
    "    \n",
    "    product = number_1 * number_2\n",
    "\n",
    "    print(f'Thanks! The product of {number_1} * {number_2} is {product}.')\n",
    "\n",
    "\n",
    "except:\n",
    "\n",
    "    print('Sorry, ej accepterat värde')"
   ]
  },
  {
   "cell_type": "markdown",
   "metadata": {},
   "source": [
    "Egentligen är det bäst practice att i except-satsen specifiera vilken feltyp den hanterar "
   ]
  },
  {
   "cell_type": "code",
   "execution_count": null,
   "metadata": {},
   "outputs": [],
   "source": [
    "try:\n",
    "\n",
    "    number_1 = float(input('Ge mig ett första tal: '))\n",
    "    print(f'Your first number is {number_1}')\n",
    "    \n",
    "    number_2 = float(input('Ge mig ett andra tal: '))\n",
    "    print(f'Your second number is {number_2}')\n",
    "    \n",
    "    product = number_1 * number_2\n",
    "\n",
    "    print(f'Thanks! The product of {number_1} * {number_2} is {product}.')\n",
    "\n",
    "\n",
    "except ValueError:\n",
    "\n",
    "    print('Sorry, ej accepterat värde')"
   ]
  },
  {
   "cell_type": "markdown",
   "metadata": {},
   "source": [
    "Låt oss konstruera ett fal där användaren ska ange två tal. Vi kommer därefter att dividera tal_1/tal_2 och printa ut resultat."
   ]
  },
  {
   "cell_type": "code",
   "execution_count": null,
   "metadata": {},
   "outputs": [],
   "source": [
    "try:\n",
    "\n",
    "    number_1 = float(input('Ge mig ett första tal: '))\n",
    "    print(f'Your first number is {number_1}')\n",
    "    \n",
    "    number_2 = float(input('Ge mig ett andra tal: '))\n",
    "    print(f'Your second number is {number_2}')\n",
    "\n",
    "    kvot = number_1 / number_2\n",
    "    \n",
    "    print(f'{number_1} / {number_2} equals {kvot}.')\n",
    "\n",
    "except ValueError:\n",
    "\n",
    "    print('Sorry, ej acceperat värde')\n",
    "\n",
    "except ZeroDivisionError:\n",
    "\n",
    "    print('Kan ej dela på noll - eftersom att det inte är väldefinierat')\n",
    "\n",
    "except:\n",
    "\n",
    "    pass"
   ]
  },
  {
   "cell_type": "markdown",
   "metadata": {},
   "source": [
    "**Raise**\n",
    "\n",
    "Ibland vill man faktiskt själv framkalla ett fel!\n",
    "\n",
    "Anta att vi vill att användaren ska ange ett värde mellan 0 och 100."
   ]
  },
  {
   "cell_type": "code",
   "execution_count": null,
   "metadata": {},
   "outputs": [],
   "source": [
    "try:\n",
    "\n",
    "    value = float(input('Ge mig ett värde mellan 0 och 100: '))\n",
    "\n",
    "    if 0 <= value <= 100:\n",
    "        print(f'Du har angivit {value}, vilket är inom giltigt intervall')\n",
    "\n",
    "    else:\n",
    "        raise ValueError\n",
    "\n",
    "except:\n",
    "\n",
    "    print('Ange en siffra inom det giltiga intervallet [0, 100]')"
   ]
  },
  {
   "cell_type": "code",
   "execution_count": null,
   "metadata": {},
   "outputs": [],
   "source": []
  },
  {
   "cell_type": "code",
   "execution_count": null,
   "metadata": {},
   "outputs": [],
   "source": [
    "while True:\n",
    "\n",
    "    try:\n",
    "        \n",
    "        value = float(input('Ge mig ett värde mellan 0 och 100: '))\n",
    "\n",
    "        if 0 <= value <= 100:\n",
    "            print(f'Du har angivit {value}, vilket är inom giltigt intervall')\n",
    "            break\n",
    "\n",
    "        else: \n",
    "            raise ValueError\n",
    "        \n",
    "    except:\n",
    "        print('Sorry, ej accepterat värde. Försök igen.')\n",
    "\n"
   ]
  },
  {
   "cell_type": "markdown",
   "metadata": {},
   "source": [
    "OBS, lägg märke till skillnaden mellan ovan samt nedan. Nedan kan ej hantera om Python spottar ur sig fel.\n",
    "\n",
    "Detta sker ex om användaren ger 'Sara' som input"
   ]
  },
  {
   "cell_type": "code",
   "execution_count": null,
   "metadata": {},
   "outputs": [],
   "source": [
    "while True:\n",
    "\n",
    "    value = float(input('Ge mig ett värde mellan 0 och 100: '))\n",
    "\n",
    "    if 0 <= value <= 100:\n",
    "        print(f'Du har angivit {value}, vilket är inom giltigt intervall.')\n",
    "        break\n",
    "\n",
    "    else:\n",
    "        print('Felaktigt värde, försök igen!')"
   ]
  }
 ],
 "metadata": {
  "kernelspec": {
   "display_name": "programmering",
   "language": "python",
   "name": "python3"
  },
  "language_info": {
   "codemirror_mode": {
    "name": "ipython",
    "version": 3
   },
   "file_extension": ".py",
   "mimetype": "text/x-python",
   "name": "python",
   "nbconvert_exporter": "python",
   "pygments_lexer": "ipython3",
   "version": "3.13.5"
  }
 },
 "nbformat": 4,
 "nbformat_minor": 2
}
