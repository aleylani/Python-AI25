{
 "cells": [
  {
   "cell_type": "markdown",
   "metadata": {},
   "source": [
    "## Docstrings\n",
    "\n",
    "Vi kommer återkomma till docstränger längre fram, men för nu räcker det med att nämna att dessa kan tänkas som beskrivande texter för funktioner - som förklarar för dig som användare vad en viss funktion gör."
   ]
  },
  {
   "cell_type": "code",
   "execution_count": null,
   "metadata": {},
   "outputs": [],
   "source": [
    "def add_numbers(a, b):\n",
    "\n",
    "    '''Takes two arguments, a & b, both of datatype either int or float. \n",
    "    \n",
    "    Then, both are sumed up up and the result returned'''\n",
    "\n",
    "    the_sum = a+b    \n",
    "\n",
    "    return the_sum"
   ]
  },
  {
   "cell_type": "code",
   "execution_count": 8,
   "metadata": {},
   "outputs": [
    {
     "name": "stdout",
     "output_type": "stream",
     "text": [
      "Help on function add_numbers in module __main__:\n",
      "\n",
      "add_numbers(a, b)\n",
      "    Takes two arguments, a & b, both of datatype either int or float.\n",
      "\n",
      "    Then, both are sumed up up and the result returned\n",
      "\n"
     ]
    }
   ],
   "source": [
    "help(add_numbers)"
   ]
  },
  {
   "cell_type": "markdown",
   "metadata": {},
   "source": [
    "## Dictionaries\n",
    "\n",
    "Vi ska idag lära oss om strukturen / datatypen dictionary i Python. En dictionary är, precis som en lista, ett sätt att lagra information i."
   ]
  },
  {
   "cell_type": "code",
   "execution_count": 9,
   "metadata": {},
   "outputs": [
    {
     "name": "stdout",
     "output_type": "stream",
     "text": [
      "['mitt_första_element', 2, 3.14, True]\n"
     ]
    }
   ],
   "source": [
    "en_lista = ['mitt_första_element', 2, 3.14, True] # här är en lista\n",
    "\n",
    "print(en_lista)"
   ]
  },
  {
   "cell_type": "code",
   "execution_count": 11,
   "metadata": {},
   "outputs": [
    {
     "name": "stdout",
     "output_type": "stream",
     "text": [
      "mitt_första_element\n"
     ]
    }
   ],
   "source": [
    "print(en_lista[0])     # 0 är indexet för det första elementet i lsitan, och vi får ut: mitt_första_element"
   ]
  },
  {
   "cell_type": "markdown",
   "metadata": {},
   "source": [
    "Vår första dictionary"
   ]
  },
  {
   "cell_type": "code",
   "execution_count": 19,
   "metadata": {},
   "outputs": [
    {
     "name": "stdout",
     "output_type": "stream",
     "text": [
      "{'namn': 'Ali', 'adress': 'Norra Parkpromenaden 23, Täby', 'ålder': 35}\n",
      "<class 'dict'>\n"
     ]
    }
   ],
   "source": [
    "personlig_info = {'namn': 'Ali', \n",
    "                  'adress': 'Norra Parkpromenaden 23, Täby', \n",
    "                  'ålder': 35}\n",
    "\n",
    "print(personlig_info)\n",
    "print(type(personlig_info))"
   ]
  },
  {
   "cell_type": "code",
   "execution_count": 17,
   "metadata": {},
   "outputs": [
    {
     "name": "stdout",
     "output_type": "stream",
     "text": [
      "Ali\n",
      "Norra Parkpromenaden 23, Täby\n"
     ]
    }
   ],
   "source": [
    "print(personlig_info['namn'])    # här får vi ut värdet för nyckeln 'namn'\n",
    "print(personlig_info['adress'])  # här får vi ut värdet för nyckeln 'adress'"
   ]
  },
  {
   "cell_type": "code",
   "execution_count": 18,
   "metadata": {},
   "outputs": [
    {
     "ename": "KeyError",
     "evalue": "0",
     "output_type": "error",
     "traceback": [
      "\u001b[31m---------------------------------------------------------------------------\u001b[39m",
      "\u001b[31mKeyError\u001b[39m                                  Traceback (most recent call last)",
      "\u001b[36mCell\u001b[39m\u001b[36m \u001b[39m\u001b[32mIn[18]\u001b[39m\u001b[32m, line 3\u001b[39m\n\u001b[32m      1\u001b[39m \u001b[38;5;66;03m# obs att följade INTE funkar\u001b[39;00m\n\u001b[32m----> \u001b[39m\u001b[32m3\u001b[39m personlig_info[\u001b[32m0\u001b[39m]\n",
      "\u001b[31mKeyError\u001b[39m: 0"
     ]
    }
   ],
   "source": [
    "# obs att följade INTE funkar\n",
    "\n",
    "personlig_info[0]"
   ]
  },
  {
   "cell_type": "markdown",
   "metadata": {},
   "source": [
    "En Dictionary i Python är generellt uppbyggt av två saker\n",
    "\n",
    "**keys** & **values**\n",
    "\n",
    "Man säger att dessa nycklar och värden kommer i key-value pairs.\n",
    "\n",
    "Strukturen i en Dictionary är följande:\n",
    "\n",
    "min_dictionary = {key1: value1, key2: value2, ..., keyN: valueN}\n",
    "\n",
    "I en Dictionary så kan man få ut ett visst värde genom att \"indexera\" på motsvarande nyckel"
   ]
  },
  {
   "cell_type": "markdown",
   "metadata": {},
   "source": [
    "Vill vi exempelvis ha ut value4 i dictionaryt ovan:\n",
    "\n",
    "min_dicitonary[key4]"
   ]
  },
  {
   "cell_type": "markdown",
   "metadata": {},
   "source": [
    "---"
   ]
  },
  {
   "cell_type": "markdown",
   "metadata": {},
   "source": [
    "Dictionaries är flexibla och kan ta olika datatyper som värden"
   ]
  },
  {
   "cell_type": "code",
   "execution_count": 20,
   "metadata": {},
   "outputs": [],
   "source": [
    "mer_personlig_info = {'namn': 'Ali', \n",
    "                      'adress': 'Norra Parkpromenaden 23, Täby', \n",
    "                      'ålder': 35,\n",
    "                      'favoritpokemon': ['Charmander', 'Charmeleon', 'Charizard']}"
   ]
  },
  {
   "cell_type": "code",
   "execution_count": 22,
   "metadata": {},
   "outputs": [
    {
     "name": "stdout",
     "output_type": "stream",
     "text": [
      "['Charmander', 'Charmeleon', 'Charizard']\n",
      "<class 'list'>\n"
     ]
    }
   ],
   "source": [
    "print(mer_personlig_info['favoritpokemon'])\n",
    "print(type(mer_personlig_info['favoritpokemon']))"
   ]
  },
  {
   "cell_type": "markdown",
   "metadata": {},
   "source": [
    "**Fler exempel**\n",
    "\n",
    "Säg att vi vill göra en informationsbok för elever i den här klassen"
   ]
  },
  {
   "cell_type": "code",
   "execution_count": 27,
   "metadata": {},
   "outputs": [],
   "source": [
    "elevbok = {'Boris K': {'ålder': 49, \n",
    "                       'favoritdryck': 'kaffe', \n",
    "                       'intresse': 'league of noobs', \n",
    "                       'rekord äta upp en BigMac': 45}, \n",
    "           'Anahit P': {'ålder': 40, \n",
    "                        'favoritdryck': 'Cola Zero', \n",
    "                        'intresse': 'Workout',\n",
    "                        'rekord äta upp en BigMac': 300, \n",
    "                        'favoritmåltid': 'kött'}\n",
    "          }"
   ]
  },
  {
   "cell_type": "code",
   "execution_count": 31,
   "metadata": {},
   "outputs": [
    {
     "data": {
      "text/plain": [
       "{'ålder': 49,\n",
       " 'favoritdryck': 'kaffe',\n",
       " 'intresse': 'league of noobs',\n",
       " 'rekord äta upp en BigMac': 45}"
      ]
     },
     "execution_count": 31,
     "metadata": {},
     "output_type": "execute_result"
    }
   ],
   "source": [
    "elevbok['Boris K']"
   ]
  },
  {
   "cell_type": "code",
   "execution_count": 32,
   "metadata": {},
   "outputs": [
    {
     "data": {
      "text/plain": [
       "'kött'"
      ]
     },
     "execution_count": 32,
     "metadata": {},
     "output_type": "execute_result"
    }
   ],
   "source": [
    "elevbok['Anahit P']['favoritmåltid']"
   ]
  },
  {
   "cell_type": "markdown",
   "metadata": {},
   "source": [
    "**Att lägga till nya entries (dvs key-value pairs) i en Dictionary är busenkelt**"
   ]
  },
  {
   "cell_type": "code",
   "execution_count": 33,
   "metadata": {},
   "outputs": [
    {
     "data": {
      "text/plain": [
       "{'Boris K': {'ålder': 49,\n",
       "  'favoritdryck': 'kaffe',\n",
       "  'intresse': 'league of noobs',\n",
       "  'rekord äta upp en BigMac': 45},\n",
       " 'Anahit P': {'ålder': 40,\n",
       "  'favoritdryck': 'Cola Zero',\n",
       "  'intresse': 'Workout',\n",
       "  'rekord äta upp en BigMac': 300,\n",
       "  'favoritmåltid': 'kött'}}"
      ]
     },
     "execution_count": 33,
     "metadata": {},
     "output_type": "execute_result"
    }
   ],
   "source": [
    "elevbok"
   ]
  },
  {
   "cell_type": "code",
   "execution_count": 44,
   "metadata": {},
   "outputs": [],
   "source": [
    "elevbok['Mathias TH'] = 'TBD'"
   ]
  },
  {
   "cell_type": "code",
   "execution_count": 45,
   "metadata": {},
   "outputs": [
    {
     "data": {
      "text/plain": [
       "{'Boris K': {'ålder': 49,\n",
       "  'favoritdryck': 'kaffe',\n",
       "  'intresse': 'league of noobs',\n",
       "  'rekord äta upp en BigMac': 45},\n",
       " 'Anahit P': {'ålder': 40,\n",
       "  'favoritdryck': 'Cola Zero',\n",
       "  'intresse': 'Workout',\n",
       "  'rekord äta upp en BigMac': 300,\n",
       "  'favoritmåltid': 'kött'},\n",
       " 'Mathias TH': 'TBD'}"
      ]
     },
     "execution_count": 45,
     "metadata": {},
     "output_type": "execute_result"
    }
   ],
   "source": [
    "elevbok"
   ]
  },
  {
   "cell_type": "code",
   "execution_count": 46,
   "metadata": {},
   "outputs": [],
   "source": [
    "# Vi kan lika enkelt re-assigna / eller skriva över befintliga nycklar till att anta andra värden\n",
    "\n",
    "elevbok['Mathias TH'] = {'ålder': 40, \n",
    "                         'favoritdryck': 'vatten', \n",
    "                         'intresse': 'springa', \n",
    "                         'rekord äta upp en BigMac': 30}"
   ]
  },
  {
   "cell_type": "code",
   "execution_count": 47,
   "metadata": {},
   "outputs": [
    {
     "data": {
      "text/plain": [
       "{'Boris K': {'ålder': 49,\n",
       "  'favoritdryck': 'kaffe',\n",
       "  'intresse': 'league of noobs',\n",
       "  'rekord äta upp en BigMac': 45},\n",
       " 'Anahit P': {'ålder': 40,\n",
       "  'favoritdryck': 'Cola Zero',\n",
       "  'intresse': 'Workout',\n",
       "  'rekord äta upp en BigMac': 300,\n",
       "  'favoritmåltid': 'kött'},\n",
       " 'Mathias TH': {'ålder': 40,\n",
       "  'favoritdryck': 'vatten',\n",
       "  'intresse': 'springa',\n",
       "  'rekord äta upp en BigMac': 30}}"
      ]
     },
     "execution_count": 47,
     "metadata": {},
     "output_type": "execute_result"
    }
   ],
   "source": [
    "elevbok"
   ]
  },
  {
   "cell_type": "markdown",
   "metadata": {},
   "source": [
    "**Var försiktiga dock!** Det går som ovan att skriva över values för givna keys, och det kan ibland vara bra - men många gånger så sker det av misstag. Så var säkra på vad ni gör."
   ]
  },
  {
   "cell_type": "markdown",
   "metadata": {},
   "source": [
    "## Låt oss nu leka lite med Dictionaries\n",
    "\n",
    "Ett vanligt use-case är när man vill kombinera information fårn olika listor. Information som har någon typ av samband/koppling till varandra."
   ]
  },
  {
   "cell_type": "code",
   "execution_count": 48,
   "metadata": {},
   "outputs": [],
   "source": [
    "names = ['Martin', 'Julian', 'Lisa']\n",
    "favorit_aktivitet = ['Köra bil snabbt', 'Boxning', 'Skogspromenaden']\n",
    "\n",
    "hobbys = {}\n",
    "\n",
    "for name, aktivitet in zip(names, favorit_aktivitet):\n",
    "\n",
    "    hobbys[name] = aktivitet"
   ]
  },
  {
   "cell_type": "code",
   "execution_count": 50,
   "metadata": {},
   "outputs": [
    {
     "name": "stdout",
     "output_type": "stream",
     "text": [
      "{'Martin': 'Köra bil snabbt', 'Julian': 'Boxning', 'Lisa': 'Skogspromenaden'}\n"
     ]
    }
   ],
   "source": [
    "print(hobbys)"
   ]
  },
  {
   "cell_type": "code",
   "execution_count": 51,
   "metadata": {},
   "outputs": [
    {
     "name": "stdout",
     "output_type": "stream",
     "text": [
      "Martin\n",
      "Köra bil snabbt\n",
      "Babas burgare\n",
      "\n",
      "Julian\n",
      "Boxning\n",
      "Pizza\n",
      "\n",
      "Lisa\n",
      "Skogspromenaden\n",
      "Spaghettios\n",
      "\n"
     ]
    }
   ],
   "source": [
    "names = ['Martin', 'Julian', 'Lisa']\n",
    "favorit_aktivitet = ['Köra bil snabbt', 'Boxning', 'Skogspromenaden']\n",
    "favorit_måltid = ['Babas burgare', 'Pizza', 'Spaghettios']\n",
    "\n",
    "for name, aktivitet, måltid in zip(names, favorit_aktivitet, favorit_måltid):\n",
    "\n",
    "    print(name)\n",
    "    print(aktivitet)\n",
    "    print(måltid)\n",
    "    print()"
   ]
  },
  {
   "cell_type": "code",
   "execution_count": 56,
   "metadata": {},
   "outputs": [],
   "source": [
    "names = ['Martin', 'Julian', 'Lisa']\n",
    "favorit_aktivitet = ['Köra bil snabbt', 'Boxning', 'Skogspromenader']\n",
    "favorit_måltid = ['Babas burgare', 'Pizza', 'Spaghettios']\n",
    "\n",
    "personlig_info = {}\n",
    "\n",
    "for name, aktivitet, måltid in zip(names, favorit_aktivitet, favorit_måltid):\n",
    "\n",
    "    personlig_info[name] = {'favorit aktivitet': aktivitet, 'favorit måltid': måltid}"
   ]
  },
  {
   "cell_type": "code",
   "execution_count": 55,
   "metadata": {},
   "outputs": [
    {
     "data": {
      "text/plain": [
       "{'Martin': {'favorit aktivitet': 'Köra bil snabbt',\n",
       "  'favorit måltid': 'Babas burgare'},\n",
       " 'Julian': {'favorit aktivitet': 'Boxning', 'favorit måltid': 'Pizza'},\n",
       " 'Lisa': {'favorit aktivitet': 'Skogspromenaden',\n",
       "  'favorit måltid': 'Spaghettios'}}"
      ]
     },
     "execution_count": 55,
     "metadata": {},
     "output_type": "execute_result"
    }
   ],
   "source": [
    "personlig_info"
   ]
  },
  {
   "cell_type": "code",
   "execution_count": 58,
   "metadata": {},
   "outputs": [
    {
     "data": {
      "text/plain": [
       "'Babas burgare'"
      ]
     },
     "execution_count": 58,
     "metadata": {},
     "output_type": "execute_result"
    }
   ],
   "source": [
    "personlig_info['Martin']['favorit måltid']"
   ]
  },
  {
   "cell_type": "markdown",
   "metadata": {},
   "source": [
    "**Fler exempel**"
   ]
  },
  {
   "cell_type": "code",
   "execution_count": null,
   "metadata": {},
   "outputs": [],
   "source": [
    "grades = 'FEDCBA'\n",
    "\n",
    "grade_limits = {}\n",
    "\n",
    "for i, grade in enumerate(grades):\n",
    "\n",
    "    # print(f'Betygräns för {grade}: {i*20}')\n",
    "\n",
    "    grade_limits[grade] = i*20\n",
    "    \n"
   ]
  },
  {
   "cell_type": "code",
   "execution_count": 64,
   "metadata": {},
   "outputs": [
    {
     "data": {
      "text/plain": [
       "{'F': 0, 'E': 20, 'D': 40, 'C': 60, 'B': 80, 'A': 100}"
      ]
     },
     "execution_count": 64,
     "metadata": {},
     "output_type": "execute_result"
    }
   ],
   "source": [
    "grade_limits"
   ]
  },
  {
   "cell_type": "markdown",
   "metadata": {},
   "source": [
    "---"
   ]
  },
  {
   "cell_type": "markdown",
   "metadata": {},
   "source": [
    "Om man ex på förhand inte vet vilka nycklar (keys) en dictionary har, kan man få ut de på följande vis"
   ]
  },
  {
   "cell_type": "code",
   "execution_count": 67,
   "metadata": {},
   "outputs": [
    {
     "data": {
      "text/plain": [
       "dict_keys(['F', 'E', 'D', 'C', 'B', 'A'])"
      ]
     },
     "execution_count": 67,
     "metadata": {},
     "output_type": "execute_result"
    }
   ],
   "source": [
    "# vi använder .keys() metoden\n",
    "\n",
    "grade_limits.keys()"
   ]
  },
  {
   "cell_type": "code",
   "execution_count": 68,
   "metadata": {},
   "outputs": [
    {
     "name": "stdout",
     "output_type": "stream",
     "text": [
      "F\n",
      "E\n",
      "D\n",
      "C\n",
      "B\n",
      "A\n"
     ]
    }
   ],
   "source": [
    "for key in grade_limits.keys():\n",
    "\n",
    "    print(key)\n"
   ]
  },
  {
   "cell_type": "markdown",
   "metadata": {},
   "source": [
    "På motsvarande sätt kan du också få ut *värdena* (values)"
   ]
  },
  {
   "cell_type": "code",
   "execution_count": 69,
   "metadata": {},
   "outputs": [
    {
     "data": {
      "text/plain": [
       "dict_values([0, 20, 40, 60, 80, 100])"
      ]
     },
     "execution_count": 69,
     "metadata": {},
     "output_type": "execute_result"
    }
   ],
   "source": [
    "grade_limits.values()"
   ]
  },
  {
   "cell_type": "code",
   "execution_count": 70,
   "metadata": {},
   "outputs": [
    {
     "name": "stdout",
     "output_type": "stream",
     "text": [
      "0\n",
      "20\n",
      "40\n",
      "60\n",
      "80\n",
      "100\n"
     ]
    }
   ],
   "source": [
    "for value in grade_limits.values():\n",
    "\n",
    "    print(value)"
   ]
  },
  {
   "cell_type": "markdown",
   "metadata": {},
   "source": [
    "Hur kommer vi åt bägge, samtidigt? Jo, genom att använda .items() metoden"
   ]
  },
  {
   "cell_type": "code",
   "execution_count": 72,
   "metadata": {},
   "outputs": [
    {
     "name": "stdout",
     "output_type": "stream",
     "text": [
      "key: F\n",
      "value: 0\n",
      "\n",
      "key: E\n",
      "value: 20\n",
      "\n",
      "key: D\n",
      "value: 40\n",
      "\n",
      "key: C\n",
      "value: 60\n",
      "\n",
      "key: B\n",
      "value: 80\n",
      "\n",
      "key: A\n",
      "value: 100\n",
      "\n"
     ]
    }
   ],
   "source": [
    "for key, value in grade_limits.items():\n",
    "\n",
    "    print(f'key: {key}')\n",
    "    print(f'value: {value}', end='\\n\\n')"
   ]
  },
  {
   "cell_type": "markdown",
   "metadata": {},
   "source": [
    "**Viktig distinktion mellan listor och dictionaries**\n",
    "\n",
    "I listor indexerar vi över *elementposition*, medan i dictionaries indexerar vi på *nycklar*"
   ]
  },
  {
   "cell_type": "markdown",
   "metadata": {},
   "source": [
    "## Dictionary comprehensions"
   ]
  },
  {
   "cell_type": "code",
   "execution_count": 73,
   "metadata": {},
   "outputs": [
    {
     "data": {
      "text/plain": [
       "['F', 'E', 'D', 'C', 'B', 'A']"
      ]
     },
     "execution_count": 73,
     "metadata": {},
     "output_type": "execute_result"
    }
   ],
   "source": [
    "grades = 'FEDCBA'\n",
    "\n",
    "[letter for letter in grades]"
   ]
  },
  {
   "cell_type": "markdown",
   "metadata": {},
   "source": [
    "I list comprehensions behöver du endast ange ett värde att lägga till (för varje loop).\n",
    "\n",
    "För dictionaries loopar vi också, men vi behöver då ange både en key och ett värde."
   ]
  },
  {
   "cell_type": "code",
   "execution_count": 74,
   "metadata": {},
   "outputs": [
    {
     "data": {
      "text/plain": [
       "{'F': 'ALI', 'E': 'ALI', 'D': 'ALI', 'C': 'ALI', 'B': 'ALI', 'A': 'ALI'}"
      ]
     },
     "execution_count": 74,
     "metadata": {},
     "output_type": "execute_result"
    }
   ],
   "source": [
    "grades = 'FEDCBA'\n",
    "\n",
    "{letter: 'ALI' for letter in grades}"
   ]
  },
  {
   "cell_type": "code",
   "execution_count": 79,
   "metadata": {},
   "outputs": [
    {
     "data": {
      "text/plain": [
       "{'F': 0, 'E': 20, 'D': 40, 'C': 60, 'B': 80, 'A': 100}"
      ]
     },
     "execution_count": 79,
     "metadata": {},
     "output_type": "execute_result"
    }
   ],
   "source": [
    "grades = 'FEDCBA'\n",
    "\n",
    "{letter: i*20 for i, letter in enumerate(grades)}"
   ]
  }
 ],
 "metadata": {
  "kernelspec": {
   "display_name": "programmering",
   "language": "python",
   "name": "python3"
  },
  "language_info": {
   "codemirror_mode": {
    "name": "ipython",
    "version": 3
   },
   "file_extension": ".py",
   "mimetype": "text/x-python",
   "name": "python",
   "nbconvert_exporter": "python",
   "pygments_lexer": "ipython3",
   "version": "3.13.5"
  }
 },
 "nbformat": 4,
 "nbformat_minor": 2
}
