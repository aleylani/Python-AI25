{
 "cells": [
  {
   "cell_type": "markdown",
   "metadata": {},
   "source": [
    "<a href=\"https://colab.research.google.com/github/aleylani/Python-AI25/blob/main/lectures/L02_while_statements.ipynb\" target=\"_parent\"><img src=\"https://colab.research.google.com/assets/colab-badge.svg\" alt=\"Open In Colab\"/></a>"
   ]
  },
  {
   "cell_type": "markdown",
   "metadata": {},
   "source": [
    "## Operationer"
   ]
  },
  {
   "cell_type": "markdown",
   "metadata": {},
   "source": [
    "Vi kan re-assigna variabler (uppdatera deras värden) på bland annat följande förenklade sätt"
   ]
  },
  {
   "cell_type": "code",
   "execution_count": null,
   "metadata": {},
   "outputs": [],
   "source": [
    "number = 50      # en helt vanlig assignment\n",
    "print(number)\n",
    "\n",
    "# nu kan vi börja re-assigna variabeln number\n",
    "\n",
    "number += 10     # samma sak som att skriva number = number + 10\n",
    "print(number)\n",
    "\n",
    "number -= 20     # samma sak som att skriva number = number - 20\n",
    "print(number)\n",
    "\n",
    "number *= 2      # samma sak som att skriva number = number * 2\n",
    "print(number)\n",
    "\n",
    "number /= 4      # samma sak som att skriva number = number * 4\n",
    "print(number)"
   ]
  },
  {
   "cell_type": "markdown",
   "metadata": {},
   "source": [
    "## While"
   ]
  },
  {
   "cell_type": "markdown",
   "metadata": {},
   "source": [
    "Ibland så vill man att Python ska upprepa ett kodblock, fram tills att ett villkor inte längre stämmer"
   ]
  },
  {
   "cell_type": "code",
   "execution_count": null,
   "metadata": {},
   "outputs": [],
   "source": [
    "n = 1\n",
    "\n",
    "while n < 5:          # kommer upprepa det inskjutna (intenderade) kodblocket om och om igen, fram tills att n inte längre är mindre än 5\n",
    "\n",
    "    print(n)          # printa nuvarande värdet av n\n",
    "    n += 1            # incrementera (öka) värdet av n med 1"
   ]
  },
  {
   "cell_type": "markdown",
   "metadata": {},
   "source": [
    "**Exempel på use-case**\n",
    "\n",
    "Vi vill beräkna antal år tills mängden fisk i en sjö uppnår en population på 1.000.000\n",
    "\n",
    "Anta att vi startar med 100 fiskar i vår sjö, och att antalet dubblas varje år\n",
    "\n"
   ]
  },
  {
   "cell_type": "code",
   "execution_count": null,
   "metadata": {},
   "outputs": [],
   "source": [
    "fishes = 100                      # antal nuvarande fiskar\n",
    "year = 0                          # året vi startar ifrån\n",
    "\n",
    "while fishes < 1000000:           # fortsätt loopa och upprepa kodblocket så länge antal fiskar är mindre än 1M\n",
    "\n",
    "    year += 1                     # incrementera (öka) året med 1\n",
    "    fishes *= 2                   # multiplicera antal fiskar med 2\n",
    "\n",
    "    print(f'År {year} har vi {fishes} fiskar.') "
   ]
  },
  {
   "cell_type": "markdown",
   "metadata": {},
   "source": [
    "**Ytterligare exempel**\n",
    "\n",
    "Vi vill bygga ett litet beräkningsspel, där användaren får gissa på produkten av två tal. \n",
    "\n",
    "Som vi ser nedan går det jättebra att kombinera while-loopar med if-satser. "
   ]
  },
  {
   "cell_type": "code",
   "execution_count": null,
   "metadata": {},
   "outputs": [],
   "source": [
    "import random                              # importera random-paketet, som vi behöver för att generera randomiserade tal\n",
    "\n",
    "\n",
    "vill_spela = 'Ja'\n",
    "\n",
    "while vill_spela == 'Ja':                  # upprepar det intenderade kodblocket fram tills att vill_spela inte är lika med Ja\n",
    "\n",
    "    number_1 = random.randint(1,10)        # generera ett randomiserat tal i spannet 1-10\n",
    "    number_2 = random.randint(1,10)        # generera ett randomiserat tal i spannet 1-10\n",
    "\n",
    "    korrekt_svar = number_1 * number_2     # beräknar och sparar produkten av våra nyligen genererade tal\n",
    "\n",
    "    gissning = int( input(f'Vad blir {number_1} * {number_2}? ') )    # användarens gissning\n",
    "\n",
    "    if gissning == korrekt_svar:           # kodblocket under denna if-sats utförs om användaren svarat rätt\n",
    "\n",
    "        print('Grattis! Du svarade rätt.')\n",
    "\n",
    "        vill_spela = input(f'Vill du spela igen? Svara Ja isåfall: ') # ge användaren möjlighet att ändra på värdet av vill_spela\n",
    "                                                                                          \n",
    "    \n",
    "    else:                                  # kodblocket under denna else-sats utförs om användaren svarat fel\n",
    "\n",
    "        print('Nja, inte riktigt.')\n",
    "\n",
    "        vill_spela = input(f'Vill du spela igen? Svara Ja isåfall: ') # ge användaren möjlighet att ändra på värdet av vill_spela"
   ]
  },
  {
   "cell_type": "markdown",
   "metadata": {},
   "source": [
    "## While-Break"
   ]
  },
  {
   "cell_type": "markdown",
   "metadata": {},
   "source": [
    "Precis som hur if-elif-else är kompanjoner, har while också en kompanjon: break.\n",
    "\n",
    "Om Python stöter på kommandot break någongång i en while-loop - så kommer den direkt avbryta och hoppa ur loopen (även ifall villkoret för loopen fortfarande är uppfyllt)"
   ]
  },
  {
   "cell_type": "code",
   "execution_count": null,
   "metadata": {},
   "outputs": [],
   "source": [
    "n = 1\n",
    "\n",
    "while n < 5:              # while loopen kommer vilja upprepa kodblocket nedan så länge n < 5\n",
    "\n",
    "    print(n)\n",
    "    n+=1\n",
    "\n",
    "    if n == 3:           # här har vi dock en if-sats, vars villkor blir True när n = 3\n",
    "        break            # Python kommer såldes se denna break när n = 3, och hoppa ur while-loopen (trots att n < 5 fortfarande är sant)"
   ]
  },
  {
   "cell_type": "markdown",
   "metadata": {},
   "source": [
    "## En viktig detalj"
   ]
  },
  {
   "cell_type": "markdown",
   "metadata": {},
   "source": [
    "**Ett annat sätt att konstruera while-loopar**\n",
    "\n",
    "Vi vet nu att while-loopen kommer upprepa sitt kodblock sålänge det givna villkoret är True.\n",
    "\n",
    "Det är dock ingenting som stoppar dig från att skriva True direkt (istället för ett villkor).\n",
    "På så vis kommer while-loopen att fortsätta upprepa sitt kodblock i all oändlighet.\n",
    "\n",
    "När man konstruerar sin while-loop på det här sättet, använder man i regel alltid en break för att så småningom bryta loopen."
   ]
  },
  {
   "cell_type": "code",
   "execution_count": null,
   "metadata": {},
   "outputs": [],
   "source": [
    "n = 1\n",
    "\n",
    "while True:              # den här while-loopen kommer upprepas i all oändlighet, om inte vi lägger in en break någonstans i kodblocket\n",
    "\n",
    "    print(n)\n",
    "    n += 1\n",
    "\n",
    "    if n == 20:\n",
    "        break            # den här break:en avslutar loopen\n",
    "\n",
    "print('Ha, vi lyckades ta oss ur tillslut!')"
   ]
  },
  {
   "cell_type": "code",
   "execution_count": null,
   "metadata": {},
   "outputs": [],
   "source": []
  }
 ],
 "metadata": {
  "kernelspec": {
   "display_name": "deeplearning",
   "language": "python",
   "name": "python3"
  },
  "language_info": {
   "codemirror_mode": {
    "name": "ipython",
    "version": 3
   },
   "file_extension": ".py",
   "mimetype": "text/x-python",
   "name": "python",
   "nbconvert_exporter": "python",
   "pygments_lexer": "ipython3",
   "version": "3.12.4"
  },
  "orig_nbformat": 4
 },
 "nbformat": 4,
 "nbformat_minor": 2
}
