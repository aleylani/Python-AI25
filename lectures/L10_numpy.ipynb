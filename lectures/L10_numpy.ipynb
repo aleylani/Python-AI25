{
 "cells": [
  {
   "cell_type": "markdown",
   "metadata": {},
   "source": [
    "<a href=\"https://colab.research.google.com/github/aleylani/Python-AI25/blob/main/lectures/L10_numpy.ipynb\" target=\"_parent\"><img src=\"https://colab.research.google.com/assets/colab-badge.svg\" alt=\"Open In Colab\"/></a>"
   ]
  },
  {
   "cell_type": "markdown",
   "metadata": {},
   "source": [
    "## TUPLES"
   ]
  },
  {
   "cell_type": "markdown",
   "metadata": {},
   "source": [
    "Vi ska nu förtydliga vad Tuples är, samt skillnaden mellan Tuples & Lists"
   ]
  },
  {
   "cell_type": "markdown",
   "metadata": {},
   "source": [
    "En Tupel är en lista, men som inte går att förändra efter att du skapat den."
   ]
  },
  {
   "cell_type": "markdown",
   "metadata": {},
   "source": [
    "Exempel: Listor går att förändra"
   ]
  },
  {
   "cell_type": "code",
   "execution_count": null,
   "metadata": {},
   "outputs": [],
   "source": [
    "min_lista = ['Sommar', 'Sol', 'Markoolio']\n",
    "print(min_lista)\n",
    "\n",
    "min_lista.append('Korta kjol')\n",
    "print(min_lista)\n",
    "\n",
    "min_lista[0] = 'Vinter'\n",
    "print(min_lista)"
   ]
  },
  {
   "cell_type": "markdown",
   "metadata": {},
   "source": [
    "Såhär skapar man en Tuple"
   ]
  },
  {
   "cell_type": "code",
   "execution_count": null,
   "metadata": {},
   "outputs": [],
   "source": [
    "min_tuple = ('Backstreets', 'Back', 'Alright')\n",
    "print(min_tuple)\n",
    "print(type(min_tuple))"
   ]
  },
  {
   "cell_type": "markdown",
   "metadata": {},
   "source": [
    "**En tuple, till skillnad mot listor, går INTE att förändra när den väl är skapad**"
   ]
  },
  {
   "cell_type": "code",
   "execution_count": null,
   "metadata": {},
   "outputs": [],
   "source": [
    "min_tuple.append('Spice Girls')"
   ]
  },
  {
   "cell_type": "code",
   "execution_count": null,
   "metadata": {},
   "outputs": [],
   "source": [
    "print(min_tuple)\n",
    "\n",
    "print(min_tuple[0])\n",
    "\n",
    "min_tuple[0] = 'Spicey'"
   ]
  },
  {
   "cell_type": "markdown",
   "metadata": {},
   "source": [
    "Listor och Tuples hanteras i stort på exakt samma sätt (med indexering), den stora skillnaden är att Tuples är mer begränsade än Listor - i den mån att de inte går att förändra, när du väl skapat dem"
   ]
  },
  {
   "cell_type": "markdown",
   "metadata": {},
   "source": [
    "**Men**, detta är inte nödväntigtvis något dåligt. I många fall så vill (av kanske säkerhetskäl) att vi inte ska kunna förändra Tupels."
   ]
  },
  {
   "cell_type": "markdown",
   "metadata": {},
   "source": [
    "Om du ändå *måste* lägga til något till din tupel, så behöver du reassigna hela variabeln istället"
   ]
  },
  {
   "cell_type": "code",
   "execution_count": null,
   "metadata": {},
   "outputs": [],
   "source": [
    "min_tuple"
   ]
  },
  {
   "cell_type": "code",
   "execution_count": null,
   "metadata": {},
   "outputs": [],
   "source": [
    "min_tuple = ('Backstreets', 'Back', 'Alright', 'Everybody')"
   ]
  },
  {
   "cell_type": "code",
   "execution_count": null,
   "metadata": {},
   "outputs": [],
   "source": [
    "min_tuple"
   ]
  },
  {
   "cell_type": "markdown",
   "metadata": {},
   "source": [
    "Vi kan addera två tuplar!"
   ]
  },
  {
   "cell_type": "code",
   "execution_count": null,
   "metadata": {},
   "outputs": [],
   "source": [
    "min_andra_tuple = ('If', 'You', 'Want', 'To', 'Be')"
   ]
  },
  {
   "cell_type": "code",
   "execution_count": null,
   "metadata": {},
   "outputs": [],
   "source": [
    "min_tuple + min_andra_tuple"
   ]
  },
  {
   "cell_type": "markdown",
   "metadata": {},
   "source": [
    "Men, lägg märke till att tuplarna i sig INTE har förändrats"
   ]
  },
  {
   "cell_type": "code",
   "execution_count": null,
   "metadata": {},
   "outputs": [],
   "source": [
    "print(min_tuple)\n",
    "print(min_andra_tuple)"
   ]
  },
  {
   "cell_type": "markdown",
   "metadata": {},
   "source": [
    "## Så, när har vi sett detta?"
   ]
  },
  {
   "cell_type": "markdown",
   "metadata": {},
   "source": [
    "**applikation 1, multi-assignment**"
   ]
  },
  {
   "cell_type": "code",
   "execution_count": null,
   "metadata": {},
   "outputs": [],
   "source": [
    "i, j = [5, 10]\n",
    "\n",
    "print(f'i = {i}')\n",
    "print(f'j = {j}')"
   ]
  },
  {
   "cell_type": "code",
   "execution_count": null,
   "metadata": {},
   "outputs": [],
   "source": [
    "i, j, k = [5, 10, 15]\n",
    "\n",
    "print(f'i = {i}')\n",
    "print(f'j = {j}')\n",
    "print(f'k = {k}')"
   ]
  },
  {
   "cell_type": "markdown",
   "metadata": {},
   "source": [
    "Obs, superviktigt att ha lika många variabler som ni assignar, som antalet element i din struktur (i detta fall lista)"
   ]
  },
  {
   "cell_type": "code",
   "execution_count": null,
   "metadata": {},
   "outputs": [],
   "source": [
    "i, j, k = [5, 10]\n",
    "\n",
    "print(f'i = {i}')\n",
    "print(f'j = {j}')\n",
    "print(f'k = {k}')"
   ]
  },
  {
   "cell_type": "code",
   "execution_count": null,
   "metadata": {},
   "outputs": [],
   "source": [
    "i, j, k = [5, 10, 15, 20]\n",
    "\n",
    "print(f'i = {i}')\n",
    "print(f'j = {j}')\n",
    "print(f'k = {k}')"
   ]
  },
  {
   "cell_type": "markdown",
   "metadata": {},
   "source": [
    "**EXAKT samma sak med tupels, iställe för listor**"
   ]
  },
  {
   "cell_type": "code",
   "execution_count": null,
   "metadata": {},
   "outputs": [],
   "source": [
    "i, j = (5, 10)\n",
    "\n",
    "print(f'i = {i}')\n",
    "print(f'j = {j}')"
   ]
  },
  {
   "cell_type": "markdown",
   "metadata": {},
   "source": [
    "**Ett VÄLDIGT vanligt scenario där vi ser tuplar på är följande**"
   ]
  },
  {
   "cell_type": "code",
   "execution_count": null,
   "metadata": {},
   "outputs": [],
   "source": [
    "foods = ['burger', 'sallad', 'proteinbar']\n",
    "prices = [50, 30, 10]"
   ]
  },
  {
   "cell_type": "code",
   "execution_count": null,
   "metadata": {},
   "outputs": [],
   "source": [
    "for combination in zip(foods, prices):\n",
    "\n",
    "    print(combination)\n",
    "    food = combination[0]\n",
    "    price = combination[1]\n",
    "    print(food)\n",
    "    print(price)\n",
    "    print()"
   ]
  },
  {
   "cell_type": "code",
   "execution_count": null,
   "metadata": {},
   "outputs": [],
   "source": [
    "for food, price in zip(foods, prices):\n",
    "\n",
    "    print(food)\n",
    "    print(price)\n"
   ]
  },
  {
   "cell_type": "markdown",
   "metadata": {},
   "source": [
    "Btw, zip() funkar på hur många listor som helst"
   ]
  },
  {
   "cell_type": "code",
   "execution_count": null,
   "metadata": {},
   "outputs": [],
   "source": [
    "foods = ['burger', 'sallad', 'proteinbar']\n",
    "prices = [50, 30, 10]\n",
    "drinks = ['water', 'melon', 'sugar']\n"
   ]
  },
  {
   "cell_type": "code",
   "execution_count": null,
   "metadata": {},
   "outputs": [],
   "source": [
    "for combination in zip(foods, prices, drinks):\n",
    "\n",
    "    print(combination)\n",
    "    food = combination[0]\n",
    "    price = combination[1]\n",
    "    drink = combination[2]\n",
    "    \n",
    "    print(f'food = {food}')\n",
    "    print(f'price = {price}')\n",
    "    print(f'drink = {drink}')\n",
    "    print()"
   ]
  },
  {
   "cell_type": "code",
   "execution_count": null,
   "metadata": {},
   "outputs": [],
   "source": [
    "for food, price, drink in zip(foods, prices, drinks):\n",
    "    \n",
    "    print(f'food = {food}')\n",
    "    print(f'price = {price}')\n",
    "    print(f'drink = {drink}')\n",
    "    print()"
   ]
  },
  {
   "cell_type": "markdown",
   "metadata": {},
   "source": [
    "**OBS** ordningen på argumenten i zip() funktionen är superviktigt!"
   ]
  },
  {
   "cell_type": "markdown",
   "metadata": {},
   "source": [
    "Vad händer om listorna som vi har som argument till zip() har olika längd?!"
   ]
  },
  {
   "cell_type": "code",
   "execution_count": null,
   "metadata": {},
   "outputs": [],
   "source": [
    "foods = ['burger', 'sallad', 'proteinbar']\n",
    "prices = [50, 30]\n",
    "\n",
    "for food, price in zip(foods, prices):\n",
    "\n",
    "    print(food)\n",
    "    print(price)"
   ]
  },
  {
   "cell_type": "markdown",
   "metadata": {},
   "source": [
    "## Hur märks detta i funktioner?"
   ]
  },
  {
   "cell_type": "markdown",
   "metadata": {},
   "source": [
    "Låt oss bygga en funktion som gör lite roliga saker med en siffra som vi ger den"
   ]
  },
  {
   "cell_type": "code",
   "execution_count": null,
   "metadata": {},
   "outputs": [],
   "source": [
    "def rolig_funktion(number):\n",
    "\n",
    "    # multiplicera talet med 10\n",
    "\n",
    "    times_ten = number*10\n",
    "\n",
    "    return times_ten"
   ]
  },
  {
   "cell_type": "code",
   "execution_count": null,
   "metadata": {},
   "outputs": [],
   "source": [
    "output = rolig_funktion(5)\n",
    "\n",
    "print(output)"
   ]
  },
  {
   "cell_type": "markdown",
   "metadata": {},
   "source": [
    "Anta att vi nu vill utöka vår roliga funktion, och returnera fler värden"
   ]
  },
  {
   "cell_type": "code",
   "execution_count": null,
   "metadata": {},
   "outputs": [],
   "source": [
    "def roligare_funktion(number):\n",
    "\n",
    "    # multiplicera talet med 10\n",
    "    times_ten = number*10\n",
    "\n",
    "    # addera 20\n",
    "    added_twenty = number + 20\n",
    "\n",
    "    return times_ten, added_twenty"
   ]
  },
  {
   "cell_type": "code",
   "execution_count": null,
   "metadata": {},
   "outputs": [],
   "source": [
    "# Vi kan assigna hela outputen (vilket blir en tuple i detta fall) till en enda variabel\n",
    "\n",
    "output = roligare_funktion(5)\n",
    "\n",
    "print(output)"
   ]
  },
  {
   "cell_type": "code",
   "execution_count": null,
   "metadata": {},
   "outputs": [],
   "source": [
    "# eller, så kan vi också assigna individiuella variabler till respektive element i tupeln som funktionen returnerar\n",
    "\n",
    "output_1, output_2 = roligare_funktion(5)\n",
    "\n",
    "print(output_1)\n",
    "print(output_2)"
   ]
  },
  {
   "cell_type": "code",
   "execution_count": null,
   "metadata": {},
   "outputs": [],
   "source": [
    "def roligaste_funktion(number):\n",
    "\n",
    "    # multiplicera talet med 10\n",
    "    times_ten = number*10\n",
    "\n",
    "    # addera 20\n",
    "    added_twenty = number + 20\n",
    "\n",
    "    # subtrahera 1\n",
    "    subtracted_one = number - 1\n",
    "\n",
    "    # divided by 1000:\n",
    "    divided_by_ten = number / 10\n",
    "\n",
    "    # modulo 2\n",
    "    modulo_two = number % 2\n",
    "\n",
    "    # power of two\n",
    "    power_of_two = number**2\n",
    "\n",
    "\n",
    "    return times_ten, added_twenty, subtracted_one, divided_by_ten, modulo_two, power_of_two"
   ]
  },
  {
   "cell_type": "code",
   "execution_count": null,
   "metadata": {},
   "outputs": [],
   "source": [
    "output = roligaste_funktion(5)\n",
    "\n",
    "print(output)"
   ]
  },
  {
   "cell_type": "markdown",
   "metadata": {},
   "source": [
    "## I listkomprehensioner"
   ]
  },
  {
   "cell_type": "code",
   "execution_count": null,
   "metadata": {},
   "outputs": [],
   "source": [
    "foods = ['burger', 'sallad', 'proteinbar']\n",
    "prices = [50, 30, 10]\n",
    "\n",
    "[combination for combination in zip(foods, prices)]"
   ]
  },
  {
   "cell_type": "markdown",
   "metadata": {},
   "source": [
    "Nu är vi på tivoli, där entrepriserna är godtyckliga"
   ]
  },
  {
   "cell_type": "code",
   "execution_count": null,
   "metadata": {},
   "outputs": [],
   "source": [
    "number_of_persons = [5, 10 ,15]\n",
    "price_per_person = [20, 30, 40]\n",
    "\n",
    "not_very_interesting_list = [combination for combination in zip(number_of_persons, price_per_person)]\n",
    "\n",
    "print(not_very_interesting_list)"
   ]
  },
  {
   "cell_type": "code",
   "execution_count": null,
   "metadata": {},
   "outputs": [],
   "source": [
    "# så här kan vi multiplicera respektive element i lsitorna med varandra\n",
    "\n",
    "suddenly_interesting_list = [i*j for i,j in zip(number_of_persons, price_per_person)]\n",
    "\n",
    "print(suddenly_interesting_list)"
   ]
  },
  {
   "cell_type": "code",
   "execution_count": null,
   "metadata": {},
   "outputs": [],
   "source": [
    "# så här kan vi addera respektive element i lsitorna med varandra\n",
    "\n",
    "suddenly_interesting_list = [i+j for i,j in zip(number_of_persons, price_per_person)]\n",
    "\n",
    "print(suddenly_interesting_list)"
   ]
  },
  {
   "cell_type": "code",
   "execution_count": null,
   "metadata": {},
   "outputs": [],
   "source": [
    "# så här kan vi skapa en lista av listor, om vi vill\n",
    "\n",
    "suddenly_interesting_list = [[i,j] for i,j in zip(number_of_persons, price_per_person)]\n",
    "\n",
    "print(suddenly_interesting_list)"
   ]
  },
  {
   "cell_type": "code",
   "execution_count": null,
   "metadata": {},
   "outputs": [],
   "source": [
    "suddenly_interesting_list = [(i,j) for i,j in zip(number_of_persons, price_per_person)]\n",
    "\n",
    "print(suddenly_interesting_list)"
   ]
  },
  {
   "cell_type": "markdown",
   "metadata": {},
   "source": [
    "**Kom ihåg** att vi kan lägga in godtyckligt antal listor i zip()!"
   ]
  },
  {
   "cell_type": "code",
   "execution_count": null,
   "metadata": {},
   "outputs": [],
   "source": [
    "lista_1 = [1,2,3,4,5]\n",
    "lista_2 = [0,0,0,0,0]\n",
    "lista_3 = [6,7,8,9,10]\n",
    "lista_4 = [10,10,10,10,10]\n",
    "\n",
    "mina_resultat = [i+l for i, j, k, l in zip(lista_1, lista_2, lista_3, lista_4)]\n",
    "\n",
    "print(mina_resultat)"
   ]
  },
  {
   "cell_type": "markdown",
   "metadata": {},
   "source": [
    "**OBS** var noga med följande"
   ]
  },
  {
   "cell_type": "markdown",
   "metadata": {},
   "source": [
    "Vi har nu sett att vi kan skapa tuplar genom att använda paranteser, dvs ()"
   ]
  },
  {
   "cell_type": "markdown",
   "metadata": {},
   "source": [
    "Men, var försiktiga. När vi pysslar med matematik så tolkas istället () som markeringar - snarare än skapandet av tuples"
   ]
  },
  {
   "cell_type": "code",
   "execution_count": null,
   "metadata": {},
   "outputs": [],
   "source": [
    "(1+2+3+10)/2"
   ]
  },
  {
   "cell_type": "markdown",
   "metadata": {},
   "source": [
    "Om vi däremot har med kommatecken, kommer Python inte längre tolka det vi gör som matematik - utan skapar en tuple"
   ]
  },
  {
   "cell_type": "code",
   "execution_count": null,
   "metadata": {},
   "outputs": [],
   "source": [
    "(1, 2, 3)"
   ]
  },
  {
   "cell_type": "markdown",
   "metadata": {},
   "source": [
    "Så, kolla nu då!"
   ]
  },
  {
   "cell_type": "code",
   "execution_count": null,
   "metadata": {},
   "outputs": [],
   "source": [
    "lista_1 = [1,2,3,4,5]\n",
    "lista_2 = [0,0,0,0,0]\n",
    "lista_3 = [6,7,8,9,10]\n",
    "lista_4 = [10,10,10,10,10]\n",
    "\n",
    "mina_resultat = [(i*j)+(k*l) for i, j, k, l in zip(lista_1, lista_2, lista_3, lista_4)]\n",
    "\n",
    "print(mina_resultat)"
   ]
  },
  {
   "cell_type": "markdown",
   "metadata": {},
   "source": [
    "Ni kan göra såhär också, men det är inte lika snyggt"
   ]
  },
  {
   "cell_type": "code",
   "execution_count": null,
   "metadata": {},
   "outputs": [],
   "source": [
    "persons = [1, 2, 3]\n",
    "prices = [50, 30, 10]\n",
    "\n",
    "resultat = [combination[0]*combination[1] for combination in zip(persons, prices)]\n",
    "\n",
    "print(resultat)"
   ]
  },
  {
   "cell_type": "code",
   "execution_count": null,
   "metadata": {},
   "outputs": [],
   "source": [
    "persons = [1, 2, 3]\n",
    "prices = [50, 30, 10]\n",
    "\n",
    "resultat = [person*price for person, price in zip(persons, prices)]\n",
    "\n",
    "print(resultat)"
   ]
  },
  {
   "cell_type": "markdown",
   "metadata": {},
   "source": [
    "## Numpy "
   ]
  },
  {
   "cell_type": "markdown",
   "metadata": {},
   "source": [
    "Numpy är ett paket som är väldigt handy när man vill utföra matematik - specifikt linjär algebra"
   ]
  },
  {
   "cell_type": "code",
   "execution_count": null,
   "metadata": {},
   "outputs": [],
   "source": [
    "lista_1 = [1,2,3]\n",
    "lista_2 = [4,5,6]\n",
    "\n",
    "print(lista_1 + lista_2)\n",
    "\n",
    "tuple_1 = (1,2,3)\n",
    "tuple_2 = (4,5,6)\n",
    "\n",
    "print(tuple_1+tuple_2)"
   ]
  },
  {
   "cell_type": "markdown",
   "metadata": {},
   "source": [
    "**Nu ska vi köra med Numpy!**\n",
    "\n",
    "Numpy är ett väldigt viktigt paet för numeriska beräkningar i Python. Inte nog med att beräkningarna utförst som förväntat i linjär algebra, men också att beräkningarna utförst mer effektivt än i 'vanliga' Python"
   ]
  },
  {
   "cell_type": "code",
   "execution_count": null,
   "metadata": {},
   "outputs": [],
   "source": [
    "import numpy as np"
   ]
  },
  {
   "cell_type": "code",
   "execution_count": null,
   "metadata": {},
   "outputs": [],
   "source": [
    "vector = np.array([1,2,3])\n",
    "\n",
    "vector"
   ]
  },
  {
   "cell_type": "code",
   "execution_count": null,
   "metadata": {},
   "outputs": [],
   "source": [
    "print(type(vector))"
   ]
  },
  {
   "cell_type": "markdown",
   "metadata": {},
   "source": [
    "Samma vanliga indexering för listor och tuples fungerar även för arrays"
   ]
  },
  {
   "cell_type": "markdown",
   "metadata": {},
   "source": [
    "En array **ÄR** förändringsbar, precis som en lista - dock INTE som en tuple"
   ]
  },
  {
   "cell_type": "code",
   "execution_count": null,
   "metadata": {},
   "outputs": [],
   "source": [
    "print(vector)\n",
    "vector[0] = 5\n",
    "print(vector)"
   ]
  },
  {
   "cell_type": "code",
   "execution_count": null,
   "metadata": {},
   "outputs": [],
   "source": [
    "# elementwise multiplications\n",
    "\n",
    "vector*2"
   ]
  },
  {
   "cell_type": "code",
   "execution_count": null,
   "metadata": {},
   "outputs": [],
   "source": [
    "# titta vad som händer om försöker elementwise mutliplication för ex. en lista istället\n",
    "\n",
    "lista = [1,2,3]\n",
    "\n",
    "print(lista*2)"
   ]
  },
  {
   "cell_type": "code",
   "execution_count": null,
   "metadata": {},
   "outputs": [],
   "source": [
    "# elementwise addition\n",
    "\n",
    "print(vector)\n",
    "print(vector+2)"
   ]
  },
  {
   "cell_type": "code",
   "execution_count": null,
   "metadata": {},
   "outputs": [],
   "source": [
    "# vector addition (elementwise addition)\n",
    "\n",
    "vector_1 = np.array([1,1,1])\n",
    "vector_2 = np.array([3,4,5])\n",
    "\n",
    "print(vector_1 + vector_2)"
   ]
  },
  {
   "cell_type": "markdown",
   "metadata": {},
   "source": [
    "Andra sätt att skapa arrays på"
   ]
  },
  {
   "cell_type": "code",
   "execution_count": null,
   "metadata": {},
   "outputs": [],
   "source": [
    "ettor = np.ones(45)\n",
    "\n",
    "print(ettor)\n",
    "print(type(ettor))\n",
    "print(len(ettor))"
   ]
  },
  {
   "cell_type": "code",
   "execution_count": null,
   "metadata": {},
   "outputs": [],
   "source": [
    "första_siffran = ettor[0]\n",
    "type(första_siffran)"
   ]
  },
  {
   "cell_type": "code",
   "execution_count": null,
   "metadata": {},
   "outputs": [],
   "source": [
    "nollor = np.zeros(5)\n",
    "\n",
    "print(nollor)"
   ]
  },
  {
   "cell_type": "markdown",
   "metadata": {},
   "source": [
    "**Omvandla från lista till array**"
   ]
  },
  {
   "cell_type": "code",
   "execution_count": null,
   "metadata": {},
   "outputs": [],
   "source": [
    "mina_siffror_i_en_lista = [x for x in range(3)]\n",
    "print(mina_siffror_i_en_lista)\n",
    "\n",
    "mina_siffror_i_en_array = np.array(mina_siffror_i_en_lista)\n",
    "\n",
    "print(mina_siffror_i_en_array)"
   ]
  },
  {
   "cell_type": "markdown",
   "metadata": {},
   "source": [
    "Fungerar arrays bara för siffror... ?"
   ]
  },
  {
   "cell_type": "code",
   "execution_count": null,
   "metadata": {},
   "outputs": [],
   "source": [
    "mina_strängar_i_en_lista = ['ingen', 'kreativitet', 'kvar']\n",
    "print(mina_strängar_i_en_lista)\n",
    "\n",
    "mina_strängar_i_en_array = np.array(mina_strängar_i_en_lista)\n",
    "\n",
    "print(mina_strängar_i_en_array)"
   ]
  },
  {
   "cell_type": "markdown",
   "metadata": {},
   "source": [
    "Svar: ja"
   ]
  },
  {
   "cell_type": "markdown",
   "metadata": {},
   "source": [
    "Vad händer om vi adderar arrays med strängar och siffror.. ?"
   ]
  },
  {
   "cell_type": "code",
   "execution_count": null,
   "metadata": {},
   "outputs": [],
   "source": [
    "print(mina_siffror_i_en_array)\n",
    "print(mina_strängar_i_en_array)"
   ]
  },
  {
   "cell_type": "code",
   "execution_count": null,
   "metadata": {},
   "outputs": [],
   "source": [
    "mina_siffror_i_en_array + mina_strängar_i_en_array"
   ]
  },
  {
   "cell_type": "markdown",
   "metadata": {},
   "source": [
    "**slutsats** det går INTE att addera arrays av siffror med arrays av strängar"
   ]
  },
  {
   "cell_type": "markdown",
   "metadata": {},
   "source": [
    "## Linspace"
   ]
  },
  {
   "cell_type": "markdown",
   "metadata": {},
   "source": [
    "linspace() är typ som range(), används för att genera en följd av siffror"
   ]
  },
  {
   "cell_type": "code",
   "execution_count": null,
   "metadata": {},
   "outputs": [],
   "source": [
    "np.array([x for x in range(0, 100)])"
   ]
  },
  {
   "cell_type": "code",
   "execution_count": null,
   "metadata": {},
   "outputs": [],
   "source": [
    "np.linspace(0, 10, 11)"
   ]
  },
  {
   "cell_type": "markdown",
   "metadata": {},
   "source": []
  },
  {
   "cell_type": "markdown",
   "metadata": {},
   "source": [
    "## Mean & Sum"
   ]
  },
  {
   "cell_type": "code",
   "execution_count": null,
   "metadata": {},
   "outputs": [],
   "source": [
    "array = np.array([2,4,6,8,10])\n",
    "\n",
    "summa = array.sum()\n",
    "mean = array.mean()\n",
    "\n",
    "print(summa)\n",
    "print(mean)"
   ]
  },
  {
   "cell_type": "markdown",
   "metadata": {},
   "source": [
    "## PRESTANDA BOOST att uföra beräkningar samt generera tal i Numpy"
   ]
  },
  {
   "cell_type": "code",
   "execution_count": null,
   "metadata": {},
   "outputs": [],
   "source": [
    "import numpy as np\n",
    "\n",
    "number_of_rolls = 1000000000\n",
    "\n",
    "results = np.random.randint(1,7,number_of_rolls)\n",
    "\n",
    "print(results)\n",
    "print(len(results))"
   ]
  },
  {
   "cell_type": "code",
   "execution_count": null,
   "metadata": {},
   "outputs": [],
   "source": [
    "# mycket snabbare!\n",
    "\n",
    "np.random.randint(1,7, number_of_rolls)"
   ]
  },
  {
   "cell_type": "code",
   "execution_count": null,
   "metadata": {},
   "outputs": [],
   "source": [
    "# långsamt....\n",
    "\n",
    "[random.randint(1,7) for i in range(number_of_rolls)]"
   ]
  }
 ],
 "metadata": {
  "kernelspec": {
   "display_name": "deeplearning",
   "language": "python",
   "name": "python3"
  },
  "language_info": {
   "codemirror_mode": {
    "name": "ipython",
    "version": 3
   },
   "file_extension": ".py",
   "mimetype": "text/x-python",
   "name": "python",
   "nbconvert_exporter": "python",
   "pygments_lexer": "ipython3",
   "version": "3.11.4"
  },
  "orig_nbformat": 4
 },
 "nbformat": 4,
 "nbformat_minor": 2
}
