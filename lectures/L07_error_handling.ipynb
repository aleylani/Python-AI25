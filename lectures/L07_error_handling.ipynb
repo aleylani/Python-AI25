{
 "cells": [
  {
   "cell_type": "markdown",
   "metadata": {},
   "source": [
    "<a href=\"https://colab.research.google.com/github/aleylani/Python-AI25/blob/main/lectures/L07_error_handling.ipynb\" target=\"_parent\"><img src=\"https://colab.research.google.com/assets/colab-badge.svg\" alt=\"Open In Colab\"/></a>"
   ]
  },
  {
   "cell_type": "markdown",
   "metadata": {},
   "source": [
    "## Olika typer av fel"
   ]
  },
  {
   "cell_type": "markdown",
   "metadata": {},
   "source": [
    "Progremmatiska errors - när du gör något som inte är tillåtet av Python"
   ]
  },
  {
   "cell_type": "code",
   "execution_count": null,
   "metadata": {},
   "outputs": [],
   "source": [
    "# python har ingen aning om vad prin är, och du får därför ett error (NameError i detta fall)\n",
    "prin('hej')"
   ]
  },
  {
   "cell_type": "code",
   "execution_count": null,
   "metadata": {},
   "outputs": [],
   "source": [
    "# här får vi SyntaxError, eftersom att loopen inte är konstruerad enligt förväntan"
   ]
  },
  {
   "cell_type": "code",
   "execution_count": null,
   "metadata": {},
   "outputs": [],
   "source": [
    "names = ['Ali', 'Amir', 'Rozann']\n",
    "\n",
    "for name in names\n",
    "    print(name)"
   ]
  },
  {
   "cell_type": "markdown",
   "metadata": {},
   "source": [
    "## Logiska fel"
   ]
  },
  {
   "cell_type": "markdown",
   "metadata": {},
   "source": [
    "När koden egentligen är korrekt skriven, men den inte gör som användaren VILL"
   ]
  },
  {
   "cell_type": "code",
   "execution_count": null,
   "metadata": {},
   "outputs": [],
   "source": [
    "import math\n",
    "\n",
    "radius = 10\n",
    "\n",
    "area = 2*math.pi*radius \n",
    "\n",
    "print(f'Arean av en circle med radien {radius} är {area}')"
   ]
  },
  {
   "cell_type": "markdown",
   "metadata": {},
   "source": [
    "Ovan får vi ett logiskt fel, för att vi som användare angett fel formel för area (vi angav formeln för omkrets)"
   ]
  },
  {
   "cell_type": "markdown",
   "metadata": {},
   "source": [
    "## Try - Except"
   ]
  },
  {
   "cell_type": "markdown",
   "metadata": {},
   "source": [
    "Låt oss bygga ett program som frågar användaren efter två tal, och som sedan multiplicerar ihop dessa"
   ]
  },
  {
   "cell_type": "code",
   "execution_count": null,
   "metadata": {},
   "outputs": [],
   "source": [
    "number_1 = float(input('Ange din första siffra: '))\n",
    "number_2 = float(input('Ange din andra siffra: '))\n",
    "\n",
    "produkt = number_1*number_2\n",
    "\n",
    "print(f'Tack! din produkt är {produkt} :)')"
   ]
  },
  {
   "cell_type": "markdown",
   "metadata": {},
   "source": [
    "Vi ser ovan när vi ger en input som inte är acceptabel, att vi Python kracshar och vi får ValueError"
   ]
  },
  {
   "cell_type": "code",
   "execution_count": null,
   "metadata": {},
   "outputs": [],
   "source": [
    "try:\n",
    "\n",
    "    number_1 = float(input('Ange din första siffra: '))\n",
    "    print(number_1)\n",
    "    number_2 = float(input('Ange din andra siffra: '))\n",
    "    print(number_2)\n",
    "\n",
    "    produkt = number_1*number_2\n",
    "\n",
    "    print(f'Tack! din produkt är {produkt} :)')\n",
    "\n",
    "except:\n",
    "\n",
    "    print('Du har angett minst en ogiltiga siffor')"
   ]
  },
  {
   "cell_type": "markdown",
   "metadata": {},
   "source": [
    "Om vi vill bygga ett program som TVINGAR användaren att ange giltiga siffor, kan vi göra något sånt här"
   ]
  },
  {
   "cell_type": "code",
   "execution_count": null,
   "metadata": {},
   "outputs": [],
   "source": [
    "while True:\n",
    "\n",
    "    try:\n",
    "\n",
    "        number_1 = float(input('Ange din första siffra: '))\n",
    "        print(number_1)\n",
    "        number_2 = float(input('Ange din andra siffra: '))\n",
    "        print(number_2)\n",
    "        \n",
    "        produkt = number_1*number_2\n",
    "\n",
    "        print(f'Tack! din produkt är {produkt} :)')\n",
    "\n",
    "        break\n",
    "\n",
    "    except:\n",
    "\n",
    "        print('Vänligen ange giltiga siffror, antingen heltal eller decimaltal')\n"
   ]
  },
  {
   "cell_type": "markdown",
   "metadata": {},
   "source": [
    "Om du skulle vara intresserad av vilken typ av Error som Python såg när den försökte utföra kodblocket under try:\n",
    "\n",
    "kan du skriva såhär"
   ]
  },
  {
   "cell_type": "code",
   "execution_count": null,
   "metadata": {},
   "outputs": [],
   "source": [
    "while True:\n",
    "\n",
    "    try:\n",
    "\n",
    "        number_1 = float(input('Ange din första siffra: '))\n",
    "        print(number_1)\n",
    "        number_2 = float(input('Ange din andra siffra: '))\n",
    "        print(number_2)\n",
    "        \n",
    "        produkt = number_1*number_2\n",
    "\n",
    "        print(f'Tack! din produkt är {produkt} :)')\n",
    "\n",
    "        break\n",
    "\n",
    "    except Exception as e:\n",
    "\n",
    "        print(e)\n",
    "\n",
    "        print('Vänligen ange giltiga siffror, antingen heltal eller decimaltal')"
   ]
  },
  {
   "cell_type": "markdown",
   "metadata": {},
   "source": [
    "___"
   ]
  },
  {
   "cell_type": "markdown",
   "metadata": {},
   "source": [
    "## Raise"
   ]
  },
  {
   "cell_type": "markdown",
   "metadata": {},
   "source": [
    "Vi vill här att användaren ska ange ett värde mellan 0 och 100"
   ]
  },
  {
   "cell_type": "code",
   "execution_count": null,
   "metadata": {},
   "outputs": [],
   "source": [
    "while True:\n",
    "\n",
    "    try:\n",
    "        \n",
    "        value = float(input('Ange ett värde mellan 0-100'))\n",
    "\n",
    "        if 0 > value or value > 100:\n",
    "            print('Du har angett ett värde utanför giltigt intervall.')\n",
    "            raise ValueError\n",
    "\n",
    "        break\n",
    "\n",
    "    except:\n",
    "\n",
    "        print('försök igen')\n",
    "    "
   ]
  },
  {
   "cell_type": "code",
   "execution_count": null,
   "metadata": {},
   "outputs": [],
   "source": []
  }
 ],
 "metadata": {
  "kernelspec": {
   "display_name": "deeplearning",
   "language": "python",
   "name": "python3"
  },
  "language_info": {
   "codemirror_mode": {
    "name": "ipython",
    "version": 3
   },
   "file_extension": ".py",
   "mimetype": "text/x-python",
   "name": "python",
   "nbconvert_exporter": "python",
   "pygments_lexer": "ipython3",
   "version": "3.11.4"
  },
  "orig_nbformat": 4
 },
 "nbformat": 4,
 "nbformat_minor": 2
}
