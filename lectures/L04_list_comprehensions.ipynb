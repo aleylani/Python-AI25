{
 "cells": [
  {
   "cell_type": "markdown",
   "metadata": {},
   "source": [
    "<a href=\"https://colab.research.google.com/github/aleylani/Python-AI25/blob/main/lectures/L04_list_comprehensions.ipynb\" target=\"_parent\"><img src=\"https://colab.research.google.com/assets/colab-badge.svg\" alt=\"Open In Colab\"/></a>"
   ]
  },
  {
   "cell_type": "markdown",
   "metadata": {},
   "source": [
    "## List Comprehensions - fördjupning"
   ]
  },
  {
   "cell_type": "markdown",
   "metadata": {},
   "source": [
    "List comprehensions är en av de mest kraftfulla verktygen som finns i Python, och tillåter dig som användare att på ett mycket kompakt sätt utföra både enkla och komplexa operationer/beräkningar.\n",
    "\n",
    "Låt oss därför skapa en djupare förståelse av vad en list comprehension faktiskt gör.\n",
    "\n",
    "Enklast blir om vi börjar med ett exempel:"
   ]
  },
  {
   "cell_type": "markdown",
   "metadata": {},
   "source": [
    "Anta att vi vill räkna värdet av, och plotta, följande funktion\n",
    "\n",
    "$ y = x+2 $\n",
    "\n",
    "från $x = -5$ till $x = 5$"
   ]
  },
  {
   "cell_type": "markdown",
   "metadata": {},
   "source": [
    "Låt oss först se hur man kan göra detta med en for-loop"
   ]
  },
  {
   "cell_type": "code",
   "execution_count": null,
   "metadata": {},
   "outputs": [],
   "source": [
    "y_values = []                              # listan där vi kommer lägga in y-värdena som vi snart ska beräkna\n",
    "\n",
    "for x in range(-5, 6):                     # låt x loop från -5 till 5 (kom ihåg att 6 inte kommer inkluderas av range-funktionen)\n",
    "\n",
    "    value_to_append = x+2                  # beräkna y-värdet för respektive x-värde\n",
    "\n",
    "    y_values.append(value_to_append)       # lägg till det nyligen beräknade värdet i vår lista\n",
    "\n",
    "# Nu har vi en lista med alla y-värden för den givna funktionen, för x mellan -5 och 5.\n",
    "\n",
    "print(y_values)"
   ]
  },
  {
   "cell_type": "markdown",
   "metadata": {},
   "source": [
    "Men observera nu följande kodsnutt (som kallas list comprehension)"
   ]
  },
  {
   "cell_type": "code",
   "execution_count": null,
   "metadata": {},
   "outputs": [],
   "source": [
    "y_values_list_comprehended = [x+2 for x in range(-5,6)]        # detta är en list comprehension\n",
    "\n",
    "print(y_values_list_comprehended)"
   ]
  },
  {
   "cell_type": "markdown",
   "metadata": {},
   "source": [
    "Vi fick **exakt** samma output av får for-loop och list comprehension!\n",
    "\n",
    "List comprehensionen som vi precis gjorde är totalt **ekvivalent** med vår for-loop, de gör exakt samma sak!"
   ]
  },
  {
   "cell_type": "markdown",
   "metadata": {},
   "source": [
    "___\n",
    "\n",
    "\n",
    "Observera igen vår list comprehension ovan\n",
    "\n",
    "[x+2 for x in range(-5,6)]\n",
    "\n",
    "När Python ser detta så: \n",
    "\n",
    "**1)** låter den x loopa från -5 till 5 (precis som i en vanlig for-loop) \n",
    "\n",
    "**2)** för varje värde av x, beräkna  x+2 \n",
    "\n",
    "**3)** och slutligen lägga till det nyligen beräknade värdet i listan som vi skapar\n",
    "\n",
    "Detta är EXAKT det vi gjorde i for-loopen ovan! Jämför och säkerställa att du förstår.\n"
   ]
  },
  {
   "cell_type": "markdown",
   "metadata": {},
   "source": [
    "___\n",
    "\n",
    "Värdet vi vill att Python ska beräkna och lägga till i vår lista är helt och hållet upp till dig. \n",
    "\n",
    "Dvs, det du väljer att beräkna och assigna **values_to_append**, är helt upp till dig!\n",
    "\n",
    "Låt oss exemplifiera"
   ]
  },
  {
   "cell_type": "code",
   "execution_count": null,
   "metadata": {},
   "outputs": [],
   "source": [
    "values = []                                # ny lista där vi kommer lägga in värdena som vi snart ska beräkna\n",
    "\n",
    "for x in range(-5,6):                      # låt x loop från -5 till 5\n",
    "\n",
    "    value_to_append = x**2                 # nu har vi valt att beräkna x^2, istället för x + 2\n",
    "\n",
    "    values.append(value_to_append)         # lägg till det nyligen beräknade värdet i vår lista\n",
    "\n",
    "print(values)"
   ]
  },
  {
   "cell_type": "markdown",
   "metadata": {},
   "source": [
    "Använder vi istället en list comprehension för att göra exakt samma sak så ser det ut såhär"
   ]
  },
  {
   "cell_type": "code",
   "execution_count": null,
   "metadata": {},
   "outputs": [],
   "source": [
    "values_list_comprehended = [x**2 for x in range(-5,6)]\n",
    "\n",
    "print(values_list_comprehended)"
   ]
  },
  {
   "cell_type": "markdown",
   "metadata": {},
   "source": [
    "___\n",
    "\n",
    "\n",
    "\n",
    "Notera att värdet vi nu beräknar och lägger in i vår lista inte behöver ha någonting med variabeln vi loopar över (i detta fall x) att göra"
   ]
  },
  {
   "cell_type": "code",
   "execution_count": null,
   "metadata": {},
   "outputs": [],
   "source": [
    "values = []                                \n",
    "\n",
    "for x in range(-5,6):                      \n",
    "\n",
    "    value_to_append = 5                    # har ingenting med x att göra\n",
    "\n",
    "    values.append(value_to_append)         # lägg till det nyligen assignade värdet i vår lista\n",
    "\n",
    "print(values)"
   ]
  },
  {
   "cell_type": "code",
   "execution_count": null,
   "metadata": {},
   "outputs": [],
   "source": [
    "# exakt samma sak görs med en list comprehension såhär\n",
    "\n",
    "[5 for x in range(-5,6)]"
   ]
  },
  {
   "cell_type": "markdown",
   "metadata": {},
   "source": [
    "___"
   ]
  },
  {
   "cell_type": "markdown",
   "metadata": {},
   "source": [
    "Vi ta detta ännu längre.\n",
    "\n",
    "Det går hur bra som helst att kombinera list comprehensions lägga in if-satser.\n",
    "\n",
    "Låt oss se hur det ser ut i en for-loop först:\n",
    "\n",
    "Anta att vi exemeplvis vill räkna ut \n",
    "\n",
    "$ y = x^2 $\n",
    "\n",
    "men endast för alla **jämna** x mellan -5 och 5"
   ]
  },
  {
   "cell_type": "code",
   "execution_count": null,
   "metadata": {},
   "outputs": [],
   "source": [
    "values = []                                \n",
    "\n",
    "for x in range(-5,6):                          # loopa genom alla x mellan -5 och 5\n",
    "\n",
    "    if x % 2 == 0:                             # Python utför beräkningen av value_to_append, samt lägger till det i listan, ENDAST om x är jämnt\n",
    "\n",
    "        value_to_append = x**2                 \n",
    "\n",
    "        values.append(value_to_append)         # lägg till det nyligen assignade värdet i vår lista\n",
    "\n",
    "print(values)"
   ]
  },
  {
   "cell_type": "code",
   "execution_count": null,
   "metadata": {},
   "outputs": [],
   "source": [
    "# och så här ser det ut i en list comprehension\n",
    "\n",
    "[x**2 for x in range(-5,5) if x % 2 == 0]"
   ]
  },
  {
   "cell_type": "markdown",
   "metadata": {},
   "source": [
    "___\n",
    "\n",
    "## ** DJUPARE FÖRDJUPNING \n",
    "\n",
    "Notera att vad du assignar values_to_append är HELT upp till dig, det kan vara VAD SOM HELST. \n",
    "\n",
    "Det kan också vara andra listor! \n"
   ]
  },
  {
   "cell_type": "code",
   "execution_count": null,
   "metadata": {},
   "outputs": [],
   "source": [
    "values = []                                \n",
    "\n",
    "for x in range(0,3):                      # vi loopar här endast mellan x = 0 till x = 2, så att det blir lite förre element i vår lista\n",
    "\n",
    "    value_to_append = [4,5]                # nu är value_to_append en lista\n",
    "\n",
    "    values.append(value_to_append)         # lägg till den nyligen assignade listan i vår yttre lista\n",
    "\n",
    "print(values)"
   ]
  },
  {
   "cell_type": "code",
   "execution_count": null,
   "metadata": {},
   "outputs": [],
   "source": [
    "# på exakt samma sätt kan vi skriva\n",
    "\n",
    "[[4,5] for x in range(0,3)]"
   ]
  },
  {
   "cell_type": "markdown",
   "metadata": {},
   "source": [
    "\n",
    "# Nested List Comprehensions\n",
    "\n",
    "Eftersom att vi bevisligen kan lägga in listor i listor, kan listorna vi lägger in även den vara skapade med hjälp av list comprehensions\n",
    "\n",
    "Exempel:"
   ]
  },
  {
   "cell_type": "code",
   "execution_count": null,
   "metadata": {},
   "outputs": [],
   "source": [
    "values = []                                \n",
    "\n",
    "for x in range(0,3):                                      \n",
    "\n",
    "    value_to_append = [a for a in range(6,9)]           # kommer loopa och skapa en lista med alla tal från 6 till 8\n",
    "\n",
    "    values.append(value_to_append)                      # lägg till den nyligen assignade listan i vår yttre lista\n",
    "\n",
    "print(values)"
   ]
  },
  {
   "cell_type": "code",
   "execution_count": null,
   "metadata": {},
   "outputs": [],
   "source": [
    "# på exakt samma sätt som tidigare kan vi göra det här med list comprehensions också\n",
    "\n",
    "[[a for a in range(6,9)] for x in range(0,3)]"
   ]
  },
  {
   "cell_type": "markdown",
   "metadata": {},
   "source": [
    "___\n",
    "\n",
    "Men kolla nu, vi låter Python loopar genom två variabler (x och a, i detta fall) och kan således göra vad vi vill med dem!"
   ]
  },
  {
   "cell_type": "code",
   "execution_count": null,
   "metadata": {},
   "outputs": [],
   "source": [
    "values = []                                \n",
    "\n",
    "for x in range(0,3):                                      \n",
    "\n",
    "    value_to_append = [f'{x}{a}' for a in range(6,9)]   # vi skapar en lista med f-strängar, där vi lägger in nuvarandra värdet av x, samt alla värden av a\n",
    "\n",
    "    values.append(value_to_append)                      # lägg till den nyligen assignade listan i vår yttre lista\n",
    "\n",
    "print(values)"
   ]
  },
  {
   "cell_type": "code",
   "execution_count": null,
   "metadata": {},
   "outputs": [],
   "source": [
    "# som vanligt går det här att överföra direkt till en list comprehension\n",
    "\n",
    "[ [f'{x}{a}' for a in range(6,9)] for x in range(0,3)]"
   ]
  },
  {
   "cell_type": "markdown",
   "metadata": {},
   "source": [
    "Vi har nu två alltså två list comprehensioner, en innre och en yttre"
   ]
  },
  {
   "cell_type": "markdown",
   "metadata": {},
   "source": [
    "Det går jättebra att gå vidare och kombinera den innre och/eller den yttre med egna if-satser.\n",
    "\n",
    "**Pröva själv!**"
   ]
  }
 ],
 "metadata": {
  "kernelspec": {
   "display_name": "deeplearning",
   "language": "python",
   "name": "python3"
  },
  "language_info": {
   "codemirror_mode": {
    "name": "ipython",
    "version": 3
   },
   "file_extension": ".py",
   "mimetype": "text/x-python",
   "name": "python",
   "nbconvert_exporter": "python",
   "pygments_lexer": "ipython3",
   "version": "3.12.4"
  },
  "orig_nbformat": 4
 },
 "nbformat": 4,
 "nbformat_minor": 2
}
