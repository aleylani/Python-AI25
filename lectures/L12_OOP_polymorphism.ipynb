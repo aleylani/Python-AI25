{
 "cells": [
  {
   "cell_type": "markdown",
   "metadata": {},
   "source": [
    "## Polymorphism"
   ]
  },
  {
   "cell_type": "markdown",
   "metadata": {},
   "source": [
    "I runda slänger betyder polymorphism att \"anta flera former\".\n",
    "\n",
    "Ett exempel är våra olika operation, addition, multiplikation osv. Vi vet sedan tidigare, från grundläggande matematik, hur dessa operationer fungerar på reella tall (dvs heltal, rationella tal och reella tal)."
   ]
  },
  {
   "cell_type": "code",
   "execution_count": 4,
   "metadata": {},
   "outputs": [
    {
     "name": "stdout",
     "output_type": "stream",
     "text": [
      "6\n",
      "2\n",
      "-30\n"
     ]
    }
   ],
   "source": [
    "# ni har undermedvetet lärt er vad operation addition (+) gör för tal\n",
    "\n",
    "print(1+5)\n",
    "\n",
    "# ni vet också hur operationerna beter sig för olika tal\n",
    "\n",
    "print((-5) + 7)\n",
    "\n",
    "# samma för våra andra vanliga operationer såsom exempelvis multiplikation\n",
    "\n",
    "print(10*(-3))"
   ]
  },
  {
   "cell_type": "markdown",
   "metadata": {},
   "source": [
    "I Python så har vi dock sett bland annat dessa operation (addition och multiplikation) faktiskt är definierat och fungerar även för andra klasser, såsom strängar, listor osv."
   ]
  },
  {
   "cell_type": "code",
   "execution_count": 7,
   "metadata": {},
   "outputs": [
    {
     "name": "stdout",
     "output_type": "stream",
     "text": [
      "57\n"
     ]
    }
   ],
   "source": [
    "# nedan uttryck är inte alls uppenbar, förens man lär sig hur sträng\"addition\" fungerar i Python\n",
    "# för strängar är addition definierat som en konkatenering (sammansättning) av strängarna\n",
    "\n",
    "print('5' + '7')"
   ]
  },
  {
   "cell_type": "code",
   "execution_count": 9,
   "metadata": {},
   "outputs": [
    {
     "name": "stdout",
     "output_type": "stream",
     "text": [
      "[5, 5]\n"
     ]
    }
   ],
   "source": [
    "# för listor\n",
    "# även här är additionsoperatorn definierad som en sammansättning\n",
    "\n",
    "print([5] + [5])"
   ]
  },
  {
   "cell_type": "markdown",
   "metadata": {},
   "source": [
    "Vi har även sett att multiplikationsoperatorn är definierad för både listor och strängar, förutsatt att man multiplicerat med ett heltal"
   ]
  },
  {
   "cell_type": "code",
   "execution_count": 11,
   "metadata": {},
   "outputs": [
    {
     "name": "stdout",
     "output_type": "stream",
     "text": [
      "555\n",
      "[5, 5, 5]\n"
     ]
    }
   ],
   "source": [
    "print('5'*3)\n",
    "print([5]*3)"
   ]
  },
  {
   "cell_type": "markdown",
   "metadata": {},
   "source": [
    "Att vi kan använda våra operatorer (ex + och *) på olika datatyper, kalles för **operator overload**. \n",
    "\n",
    "Det är en specifik typ av polymorphism som ger oss möjligheten att själva definiera vad dessa operatorer ska göra beroende på vilka klasser den agerar på."
   ]
  },
  {
   "cell_type": "markdown",
   "metadata": {},
   "source": [
    "____"
   ]
  },
  {
   "cell_type": "markdown",
   "metadata": {},
   "source": [
    "En annan typ av polymorphism är för metoder. För olika klasser, kan vi skapa metoder med samma namn men som beter sig annorlunda."
   ]
  },
  {
   "cell_type": "markdown",
   "metadata": {},
   "source": [
    "*Exempel*"
   ]
  },
  {
   "cell_type": "code",
   "execution_count": 12,
   "metadata": {},
   "outputs": [],
   "source": [
    "class Fish:\n",
    "\n",
    "    def __init__(self, name):\n",
    "\n",
    "        self.name = name\n",
    "\n",
    "    def speak(self):\n",
    "\n",
    "        print('Blupp blupp')\n",
    "\n",
    "\n",
    "class Fox:\n",
    "\n",
    "    def __init__(self, name):\n",
    "\n",
    "        self.name = name\n",
    "\n",
    "    def speak(self):\n",
    "\n",
    "        print('Errh... I actually dont know how a fox sounds.')"
   ]
  },
  {
   "cell_type": "code",
   "execution_count": 15,
   "metadata": {},
   "outputs": [
    {
     "name": "stdout",
     "output_type": "stream",
     "text": [
      "Blupp blupp\n",
      "Errh... I actually dont know how a fox sounds.\n"
     ]
    }
   ],
   "source": [
    "nemo = Fish('Nemo')\n",
    "kurama = Fox('Kurama')\n",
    "\n",
    "# det vi ser nedan är två unika metoder, dvs metoder som gör olika saker\n",
    "# dock heter de samma sak!\n",
    "\n",
    "nemo.speak()\n",
    "kurama.speak()"
   ]
  },
  {
   "cell_type": "markdown",
   "metadata": {},
   "source": [
    "Så, precis som för ex + och * operatorn kan vi definiera metoder (med samma namn) för olika klasser som beter sig annorlunda."
   ]
  },
  {
   "cell_type": "markdown",
   "metadata": {},
   "source": [
    "____"
   ]
  },
  {
   "cell_type": "markdown",
   "metadata": {},
   "source": [
    "**Lägg dock märke till följande nu**"
   ]
  },
  {
   "cell_type": "code",
   "execution_count": 17,
   "metadata": {},
   "outputs": [],
   "source": [
    "nemo = Fish('Nemo')\n",
    "dory = Fish('Dory')"
   ]
  },
  {
   "cell_type": "code",
   "execution_count": 18,
   "metadata": {},
   "outputs": [
    {
     "ename": "TypeError",
     "evalue": "unsupported operand type(s) for +: 'Fish' and 'Fish'",
     "output_type": "error",
     "traceback": [
      "\u001b[1;31m---------------------------------------------------------------------------\u001b[0m",
      "\u001b[1;31mTypeError\u001b[0m                                 Traceback (most recent call last)",
      "Cell \u001b[1;32mIn[18], line 3\u001b[0m\n\u001b[0;32m      1\u001b[0m \u001b[38;5;66;03m# ... vad förväntar vi ska hända nedan?\u001b[39;00m\n\u001b[1;32m----> 3\u001b[0m nemo \u001b[38;5;241m+\u001b[39m dory\n",
      "\u001b[1;31mTypeError\u001b[0m: unsupported operand type(s) for +: 'Fish' and 'Fish'"
     ]
    }
   ],
   "source": [
    "# ... vad förväntar vi ska hända nedan?\n",
    "\n",
    "nemo + dory"
   ]
  },
  {
   "cell_type": "markdown",
   "metadata": {},
   "source": [
    "Vi ser att vi får ett error ovan. + operatorn är **inte** definierad för instanser av klassen Fish.\n",
    "\n",
    "Vi måste själva definiera det, innan det kommer funka!"
   ]
  },
  {
   "cell_type": "markdown",
   "metadata": {},
   "source": [
    "____\n",
    "\n",
    "## Så, hur implementerar vi **operator overload** i våra egna klasser?"
   ]
  },
  {
   "cell_type": "markdown",
   "metadata": {},
   "source": [
    "FÖr att ex definiera hur addition (+) av instanser av vår egna klass ska bete sig, använda vi oss av den speciella metodnamnet\n",
    "**__ add __()**."
   ]
  },
  {
   "cell_type": "code",
   "execution_count": 48,
   "metadata": {},
   "outputs": [],
   "source": [
    "class Wares:\n",
    "\n",
    "    '''This class describes and handles wares that are sold in our store.'''\n",
    "\n",
    "    def __init__(self, name: str, price: float, brand: str, expiry: str, stock: int):\n",
    "\n",
    "        self.name = name\n",
    "        self.price = price\n",
    "        self.brand = brand\n",
    "        self.expiry = expiry\n",
    "        self.stock = stock\n",
    "\n",
    "    # nedan definierar vi additonsoperatorn (+) beteende mellan instanser av denna klass\n",
    "    # vi bestämmer själva EXAKT vad denna metod ska göra\n",
    "    def __add__(self, other):\n",
    "        \n",
    "        #print('HAHA')\n",
    "        #print(self.brand + other.brand)\n",
    "        \n",
    "        print(f'In total, we have {self.stock + other.stock} {self.name} and {other.name}.')\n",
    "\n",
    "    # nedan definierar vi beteendet av multiplikationsoperatorn (*) mellan instanser av denna klass\n",
    "    def __mul__(self, other):\n",
    "\n",
    "        total_self_cost = self.price * self.stock\n",
    "        total_other_cost = other.price * other.stock\n",
    "\n",
    "        print(f'If we bought all {self.name}, it would cost us {total_self_cost} freedom dollars.')\n",
    "        print(f'If we bought all {other.name}, it would cost us {total_other_cost} freedom dollars.')\n",
    "\n",
    "        print(f'In total, all items would cost us {total_self_cost + total_other_cost} dollahs.')"
   ]
  },
  {
   "cell_type": "code",
   "execution_count": 49,
   "metadata": {},
   "outputs": [],
   "source": [
    "banan = Wares('Banan', 10.0, 'Chiquita', '2024-11-01', 100)\n",
    "äpple = Wares('Äpple', 15.0, 'Granny Smith', '2024-11-15', 300)"
   ]
  },
  {
   "cell_type": "code",
   "execution_count": 22,
   "metadata": {},
   "outputs": [
    {
     "name": "stdout",
     "output_type": "stream",
     "text": [
      "Banan 10.0 Chiquita 2024-11-01 100\n",
      "Äpple 15.0 Granny Smith 2024-11-15 300\n"
     ]
    }
   ],
   "source": [
    "print(banan.name, banan.price, banan.brand, banan.expiry, banan.stock)\n",
    "print(äpple.name, äpple.price, äpple.brand, äpple.expiry, äpple.stock)"
   ]
  },
  {
   "cell_type": "code",
   "execution_count": 51,
   "metadata": {},
   "outputs": [
    {
     "name": "stdout",
     "output_type": "stream",
     "text": [
      "In total, we have 400 Banan and Äpple.\n"
     ]
    }
   ],
   "source": [
    "banan + äpple"
   ]
  },
  {
   "cell_type": "code",
   "execution_count": 52,
   "metadata": {},
   "outputs": [
    {
     "name": "stdout",
     "output_type": "stream",
     "text": [
      "If we bought all Banan, it would cost us 1000.0 freedom dollars.\n",
      "If we bought all Äpple, it would cost us 4500.0 freedom dollars.\n",
      "In total, all items would cost us 5500.0 dollahs.\n"
     ]
    }
   ],
   "source": [
    "banan * äpple"
   ]
  },
  {
   "cell_type": "markdown",
   "metadata": {},
   "source": [
    "____"
   ]
  },
  {
   "cell_type": "markdown",
   "metadata": {},
   "source": [
    "\n",
    "- giving additional functionality to an operator\n",
    "- e.g. + is overloaded for strings, int, float etc.\n",
    "- Read more: [operator overloading](https://www.geeksforgeeks.org/operator-overloading-in-python/)\n",
    "\n",
    "| Operator |        Dunder method         |\n",
    "| :------: | :--------------------------: |\n",
    "|    +     |   \\_\\_add\\_\\_(self,other)    |\n",
    "|    -     |   \\_\\_sub\\_\\_(self,other)    |\n",
    "|    \\*    |   \\_\\_mul\\_\\_(self,other)    |\n",
    "|    /     |   \\_\\_truediv\\_\\_(self,other)    |\n",
    "|    //    | \\_\\_floordiv\\_\\_(self,other) |\n",
    "|    %     |   \\_\\_mod\\_\\_(self,other)    |\n",
    "|   \\*\\*   |   \\_\\_pow\\_\\_(self,other)    |\n",
    "|    <     |    \\_\\_lt\\_\\_(self,other)    |\n",
    "|    <=    |    \\_\\_le\\_\\_(self,other)    |\n",
    "|    >     |    \\_\\_gt\\_\\_(self,other)    |\n",
    "|    >=    |    \\_\\_ge\\_\\_(self,other)    |\n",
    "|    ==    |    \\_\\_eq\\_\\_(self,other)    |\n",
    "\n",
    "- Note that there are more operators that can be overloaded than those specified in this list"
   ]
  }
 ],
 "metadata": {
  "kernelspec": {
   "display_name": "introduktion",
   "language": "python",
   "name": "python3"
  },
  "language_info": {
   "codemirror_mode": {
    "name": "ipython",
    "version": 3
   },
   "file_extension": ".py",
   "mimetype": "text/x-python",
   "name": "python",
   "nbconvert_exporter": "python",
   "pygments_lexer": "ipython3",
   "version": "3.12.4"
  }
 },
 "nbformat": 4,
 "nbformat_minor": 2
}
