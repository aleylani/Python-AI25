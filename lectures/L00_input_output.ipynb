{
 "cells": [
  {
   "cell_type": "markdown",
   "id": "c60bcb76",
   "metadata": {},
   "source": [
    "<a href=\"https://colab.research.google.com/github/aleylani/Python-AI24/blob/main/lectures/L00_input_output.ipynb\" target=\"_parent\"><img src=\"https://colab.research.google.com/assets/colab-badge.svg\" alt=\"Open In Colab\"/></a>"
   ]
  },
  {
   "cell_type": "markdown",
   "id": "a26e05a4",
   "metadata": {},
   "source": [
    "# Print statements"
   ]
  },
  {
   "cell_type": "code",
   "execution_count": null,
   "id": "b99a834b",
   "metadata": {},
   "outputs": [],
   "source": [
    "print('hej ali')       # Den här funktionen kallas för print, och printar ut sitt argument\n",
    "print(\"hej klassen\")"
   ]
  },
  {
   "cell_type": "markdown",
   "id": "3f5f9187",
   "metadata": {},
   "source": [
    "## Funktioner"
   ]
  },
  {
   "cell_type": "markdown",
   "id": "ee8014d4",
   "metadata": {},
   "source": [
    "Generellt sätt har funktioner i Python följande utseende\n",
    "\n",
    "$funktionsnamn(argument)$\n",
    "\n",
    "print() som vi ser ovan är alltså en funktion. I vår första kallning på print() så är 'hej ali' dess argument.\n",
    "\n",
    "Vissa funktioner kan ta flera argument, och vi kommer se exempel på det längre ner i den här notebooken."
   ]
  },
  {
   "cell_type": "markdown",
   "id": "59f2da84",
   "metadata": {},
   "source": [
    "## Variabler"
   ]
  },
  {
   "cell_type": "markdown",
   "id": "cd8e4e23",
   "metadata": {},
   "source": [
    "Att assigna variabler gör man på följande vis. Genom att assigna variabler så lägger Python de på minnet, och vi kan kalla på de vid ett senare skede."
   ]
  },
  {
   "cell_type": "code",
   "execution_count": null,
   "id": "8fe82a1d",
   "metadata": {},
   "outputs": [],
   "source": [
    "name = 'Ali'\n",
    "\n",
    "print(name)"
   ]
  },
  {
   "cell_type": "markdown",
   "id": "ff47363d",
   "metadata": {},
   "source": [
    "Välj smarta och logiska variabelnamn. Annars blir det väldigt svårt att förstå vad varje variabel står för, när koden blir större och mer komplex."
   ]
  },
  {
   "cell_type": "code",
   "execution_count": null,
   "id": "05db3a9e",
   "metadata": {},
   "outputs": [],
   "source": [
    "b = 'Ali'    # mycket dåligt variabelnamn att assigna ett namn till\n",
    "\n",
    "print(b)     # givetvis kommer den här printen fungera, men poängen är att variabelnamnet är kasst"
   ]
  },
  {
   "cell_type": "markdown",
   "id": "7dde63db",
   "metadata": {},
   "source": [
    "Vi kan också lägga till kommentarer. Python ignorerar all text efter # på varje rad. Den texten är till för dig som läser koden, för att du bättre ska förstå vad som händer."
   ]
  },
  {
   "cell_type": "code",
   "execution_count": null,
   "id": "2883b3f3",
   "metadata": {},
   "outputs": [],
   "source": [
    "teacher = 'Ali'    # lärare till årets kull av AI-programmerare\n",
    "students = 'AI24'  # världens grymmaste klass\n",
    "\n",
    "print(teacher)\n",
    "print(students)"
   ]
  },
  {
   "cell_type": "markdown",
   "id": "c559d686",
   "metadata": {},
   "source": [
    "Nedan har vi ett exempel på hur avsaknaden av logiska variabelnamn och kommentarer gör det omöjligt för läsaren att förstå vad dessa variabler egentligen står för. Jämför med variabelnamnen + kommentarerna ovan. Vad tycker du själv?"
   ]
  },
  {
   "cell_type": "code",
   "execution_count": null,
   "id": "adc70cde",
   "metadata": {},
   "outputs": [],
   "source": [
    "uu = 'Ali'\n",
    "uv = 'AI24'"
   ]
  },
  {
   "cell_type": "markdown",
   "id": "f12aa715",
   "metadata": {},
   "source": [
    "## Datatyper"
   ]
  },
  {
   "cell_type": "markdown",
   "id": "be7f92fb",
   "metadata": {},
   "source": [
    "Vi kan även assigna tal till variabler. \n",
    "\n",
    "I Python har text datatypen strings (förkortas str) \n",
    "\n",
    "I Python kallas heltal för integers (förkortas int)"
   ]
  },
  {
   "cell_type": "code",
   "execution_count": null,
   "id": "1dee7853",
   "metadata": {},
   "outputs": [],
   "source": [
    "firstname = 'Ali'\n",
    "lastname = 'Leylani'\n",
    "age = 34\n",
    "\n",
    "# genom type()-funktionen kan vi extrahera datatypen av argumentet\n",
    "# vi kan därefter printa datatypen\n",
    "\n",
    "print(firstname)\n",
    "print(lastname)\n",
    "print(age)\n",
    "\n",
    "print( type(firstname) )\n",
    "print( type(lastname) )\n",
    "print( type(age) )"
   ]
  },
  {
   "cell_type": "markdown",
   "id": "a5132833",
   "metadata": {},
   "source": [
    "**Chaining functions**"
   ]
  },
  {
   "cell_type": "markdown",
   "id": "31edb218",
   "metadata": {},
   "source": [
    "Som ni såg i koden ovan kan man använda flera funktioner på varandra. Python kommer då först att exekvera den innersta funktionen, och sedan jobba sig utåt.\n",
    "\n"
   ]
  },
  {
   "cell_type": "markdown",
   "id": "e607cb99",
   "metadata": {},
   "source": [
    "## f-strängar"
   ]
  },
  {
   "cell_type": "markdown",
   "id": "84cb37ac",
   "metadata": {},
   "source": [
    "En väldigt bra sätt att formatera text som man printar ut är via s.k. f-strängar. Då kan man dynamisk lägga in variabler i sin text, oavsett vad variablerna har för värde."
   ]
  },
  {
   "cell_type": "code",
   "execution_count": null,
   "id": "ad627769",
   "metadata": {},
   "outputs": [],
   "source": [
    "print(firstname)\n",
    "print(lastname)\n",
    "\n",
    "print(f'Hej jag heter {firstname} i förnamn, och {lastname} i efternamn')"
   ]
  },
  {
   "cell_type": "markdown",
   "id": "134e170d",
   "metadata": {},
   "source": [
    "Funkar såklart även ifall variabeln vi dynamiskt stoppar in är av annan datatyp än string (text). Python kommer automatiskt omvandla vårt heltal i det här fallet till en string."
   ]
  },
  {
   "cell_type": "code",
   "execution_count": null,
   "id": "7275bc6d",
   "metadata": {},
   "outputs": [],
   "source": [
    "print(f'Jag önskar att jag vore tio år yngre men jag är {age} år gammal')"
   ]
  },
  {
   "cell_type": "markdown",
   "id": "63793f74",
   "metadata": {},
   "source": [
    "**Var försktig med datatyper**"
   ]
  },
  {
   "cell_type": "markdown",
   "id": "4eaf78a9",
   "metadata": {},
   "source": [
    "Det är stor skillnad på text och heltal, var därför noga när du assignar dessa variabler"
   ]
  },
  {
   "cell_type": "code",
   "execution_count": null,
   "id": "08cc7cad",
   "metadata": {},
   "outputs": [],
   "source": [
    "another_age = 40\n",
    "also_an_age = '40'\n",
    "\n",
    "print(type(another_age))\n",
    "print(type(also_an_age))"
   ]
  },
  {
   "cell_type": "markdown",
   "id": "7992d41a",
   "metadata": {},
   "source": [
    "## Input()"
   ]
  },
  {
   "cell_type": "markdown",
   "id": "ce562d6d",
   "metadata": {},
   "source": [
    "Vi kan be användaren om en input genom att nyttja input()-funktionen. Argumentet till denna funktionen är texten som användaren kommer se när den ombeds skriva in ett svar."
   ]
  },
  {
   "cell_type": "code",
   "execution_count": null,
   "id": "b999cba5",
   "metadata": {},
   "outputs": [],
   "source": [
    "user_name = input('Hej, vad heter du?')\n",
    "\n",
    "print(f'Hej {user_name}, trevligt att träffas')"
   ]
  },
  {
   "cell_type": "markdown",
   "id": "97101f93",
   "metadata": {},
   "source": [
    "## Re-assigning variables"
   ]
  },
  {
   "cell_type": "markdown",
   "id": "8e33f4d1",
   "metadata": {},
   "source": [
    "En redan assignad variabel kan närsomhelst bli re-assignad, till något annat värde. Python kommer från och med när re-assignment sker, att använda det nya värdet varje gång vi kallar på variabeln."
   ]
  },
  {
   "cell_type": "code",
   "execution_count": null,
   "id": "4d7de183",
   "metadata": {},
   "outputs": [],
   "source": [
    "mitt_nuvarande_namn = 'Jonathan'        # här assignar vi mitt_nuvarande_namn för första gången\n",
    "\n",
    "print(mitt_nuvarande_namn)"
   ]
  },
  {
   "cell_type": "code",
   "execution_count": null,
   "id": "e18eed49",
   "metadata": {},
   "outputs": [],
   "source": [
    "mitt_nuvarande_namn = 'Idun'            # här re-assignar vi mitt_nuvarande_namn, som nu får ett nytt värde\n",
    "\n",
    "print(mitt_nuvarande_namn)"
   ]
  },
  {
   "cell_type": "markdown",
   "id": "4f6e9ffe",
   "metadata": {},
   "source": [
    "## Beräkningar"
   ]
  },
  {
   "cell_type": "markdown",
   "id": "9dc8fce8",
   "metadata": {},
   "source": [
    "Beräkningar med tal är busenkelt i Python"
   ]
  },
  {
   "cell_type": "code",
   "execution_count": null,
   "id": "30b49221",
   "metadata": {},
   "outputs": [],
   "source": [
    "20+11"
   ]
  },
  {
   "cell_type": "code",
   "execution_count": null,
   "id": "cf08eefe",
   "metadata": {},
   "outputs": [],
   "source": [
    "12*12"
   ]
  },
  {
   "cell_type": "code",
   "execution_count": null,
   "id": "f5a2bdb6",
   "metadata": {},
   "outputs": [],
   "source": [
    "150/5"
   ]
  },
  {
   "cell_type": "code",
   "execution_count": null,
   "id": "898c551a",
   "metadata": {},
   "outputs": [],
   "source": [
    "100-99"
   ]
  },
  {
   "cell_type": "markdown",
   "id": "a83cadc0",
   "metadata": {},
   "source": [
    "**Exempel på use-case**"
   ]
  },
  {
   "cell_type": "markdown",
   "id": "52e95244",
   "metadata": {},
   "source": [
    "Låt oss beräkna gravitationskraften på en person med massa m\n",
    "\n",
    "Formeln för gravitationskraften F ges av\n",
    "\n",
    "\n",
    "F = mg, där m är din massa och g gravitationsaccelerationen"
   ]
  },
  {
   "cell_type": "code",
   "execution_count": null,
   "id": "f7900d8e",
   "metadata": {},
   "outputs": [],
   "source": [
    "g = 10      # gravitationsaccelerationen\n",
    "m = 70      # min massa\n",
    "\n",
    "F = m*g     # kraften F, som är m*g\n",
    "\n",
    "print(f'Gravitationskraften som agerar på dig som väger {m} kg är {F} Newton')"
   ]
  },
  {
   "cell_type": "markdown",
   "id": "8dacffba",
   "metadata": {},
   "source": [
    "**Viktig detalj**"
   ]
  },
  {
   "cell_type": "markdown",
   "id": "54a0d07c",
   "metadata": {},
   "source": [
    "Datatypen som kommer ur input()-funktionen är alltid string - oavsett vad du skriver som input!"
   ]
  },
  {
   "cell_type": "code",
   "execution_count": null,
   "id": "2a512824",
   "metadata": {},
   "outputs": [],
   "source": [
    "my_input = input('skriv ett tal')\n",
    "\n",
    "print(my_input)\n",
    "print(type(my_input))"
   ]
  },
  {
   "cell_type": "markdown",
   "id": "ade9554c",
   "metadata": {},
   "source": [
    "Att datatypen från input()-funktionen är string är i sig inget problem, men vi kommer få problem om vi försöker utföra beräkningar med det."
   ]
  },
  {
   "cell_type": "code",
   "execution_count": null,
   "id": "1c8e680b",
   "metadata": {},
   "outputs": [],
   "source": [
    "my_input = input('skriv ett tal')\n",
    "\n",
    "number = 10\n",
    "\n",
    "produkt = my_input*number\n",
    "\n",
    "print(f'{my_input}*{number} = {produkt}')"
   ]
  },
  {
   "cell_type": "markdown",
   "id": "9c01f53c",
   "metadata": {},
   "source": [
    "För att kringå detta kan vi direkt omvandla vår input till ett heltal, genom att använda int()-funktionen"
   ]
  },
  {
   "cell_type": "code",
   "execution_count": null,
   "id": "ed73d23b",
   "metadata": {},
   "outputs": [],
   "source": [
    "my_input = int( input('skriv ett tal') )\n",
    "\n",
    "number = 10\n",
    "\n",
    "produkt = my_input*number\n",
    "\n",
    "print(f'{my_input}*{number} = {produkt}')"
   ]
  },
  {
   "cell_type": "markdown",
   "id": "ed01aa56",
   "metadata": {},
   "source": [
    "**Exempel**"
   ]
  },
  {
   "cell_type": "markdown",
   "id": "b97e1ea4",
   "metadata": {},
   "source": [
    "Låt oss nu återgå till vårt tidigare problem, den här gången får användaren själv ange sin vikt"
   ]
  },
  {
   "cell_type": "code",
   "execution_count": null,
   "id": "00c90d31",
   "metadata": {},
   "outputs": [],
   "source": [
    "g = 10\n",
    "m = int( input('Inte för att vara otrevlig, men hur mycket väger du? ;) ') )\n",
    "\n",
    "F = m*g\n",
    "\n",
    "print(f'Gravitationskraften som agerar på dig som väger {m} kg är {F} Newton')"
   ]
  },
  {
   "cell_type": "markdown",
   "id": "f0fe73d7",
   "metadata": {},
   "source": [
    "## Importera paket"
   ]
  },
  {
   "cell_type": "markdown",
   "id": "13527306",
   "metadata": {},
   "source": [
    "Python har en hel del inbyggd funktionalitet, men ofta så behöver man också importera funktionalitet från någon annanstans.\n",
    "\n",
    "I detta fall vill vi göra beräkningar med $\\pi$, men Python har inte värdet på $\\pi$ inbyggd.\n",
    "\n",
    "Vi importerar därför paketet **math** som däremot har det."
   ]
  },
  {
   "cell_type": "markdown",
   "id": "f7207bc4",
   "metadata": {},
   "source": [
    "**Circle geometry**\n",
    "\n",
    "$ A_{circle} = \\pi r^2 $\n",
    "\n",
    "$ O_{circle} = 2\\pi r$"
   ]
  },
  {
   "cell_type": "code",
   "execution_count": null,
   "id": "c02e7b64",
   "metadata": {},
   "outputs": [],
   "source": [
    "import math            # att importera paket är busenkelt, och görs via import-kommandot\n",
    "\n",
    "radius = 10\n",
    "\n",
    "omkrets = 2*math.pi*radius\n",
    "\n",
    "print(f'Omkretsen av en circel med radie {radius} är {omkrets}')\n"
   ]
  },
  {
   "cell_type": "code",
   "execution_count": null,
   "id": "6a1846db",
   "metadata": {},
   "outputs": [],
   "source": [
    "# observera datatypen av omkrets\n",
    "# float betyder decimaltal på Pythonska\n",
    "\n",
    "print(type(omkrets))"
   ]
  },
  {
   "cell_type": "markdown",
   "id": "19b7241b",
   "metadata": {},
   "source": [
    "## Avrundningar"
   ]
  },
  {
   "cell_type": "markdown",
   "id": "1a299ecb",
   "metadata": {},
   "source": [
    "Vi kan avrunda tal genom att använda round()-funktionen"
   ]
  },
  {
   "cell_type": "code",
   "execution_count": null,
   "id": "d2e1658b",
   "metadata": {},
   "outputs": [],
   "source": [
    "round(omkrets)"
   ]
  },
  {
   "cell_type": "markdown",
   "id": "5395e3c0",
   "metadata": {},
   "source": [
    "round() kan ta ytterligare ett argument. Där kan vi ange hur många decimaler vi vill avrunda till. Default är 0 (som ni ser ovan)"
   ]
  },
  {
   "cell_type": "code",
   "execution_count": null,
   "id": "04b79056",
   "metadata": {},
   "outputs": [],
   "source": [
    "round(omkrets, 3)"
   ]
  },
  {
   "cell_type": "markdown",
   "id": "42442a14",
   "metadata": {},
   "source": [
    "Observera att värdet på omkrets **inte** har ändrats! Vi har inte gjort någon re-assignment! Vi har bara lekt med värdet hitills"
   ]
  },
  {
   "cell_type": "code",
   "execution_count": null,
   "id": "b87129e8",
   "metadata": {},
   "outputs": [],
   "source": [
    "print(omkrets)"
   ]
  },
  {
   "cell_type": "markdown",
   "id": "a3b200f6",
   "metadata": {},
   "source": [
    "För att re-assigna (och därmed uppdatera värdet) behöver vi göra på följande vis"
   ]
  },
  {
   "cell_type": "code",
   "execution_count": null,
   "id": "fd04dc84",
   "metadata": {},
   "outputs": [],
   "source": [
    "omkrets = round(omkrets, 4)\n",
    "\n",
    "print(omkrets)"
   ]
  }
 ],
 "metadata": {
  "kernelspec": {
   "display_name": "deeplearning",
   "language": "python",
   "name": "python3"
  },
  "language_info": {
   "codemirror_mode": {
    "name": "ipython",
    "version": 3
   },
   "file_extension": ".py",
   "mimetype": "text/x-python",
   "name": "python",
   "nbconvert_exporter": "python",
   "pygments_lexer": "ipython3",
   "version": "3.11.4"
  }
 },
 "nbformat": 4,
 "nbformat_minor": 5
}
