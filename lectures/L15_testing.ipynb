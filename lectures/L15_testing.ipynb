{
 "cells": [
  {
   "cell_type": "markdown",
   "metadata": {},
   "source": [
    "## Testing\n",
    "\n",
    "*What is it?*\n",
    "\n",
    "Testing in software development ensures that the code behaves as expected.\n",
    "\n",
    "By writing tests, you are verifying that the logic in your program works under different conditions.\n",
    "\n",
    "*Why is it important?*\n",
    "\n",
    "Testing is important because it helps to catch bugs early in the development process, ensuring that changes in code don't break existing functionality. \n",
    "\n",
    "Additionally, testing can help to improve the quality of the code and make it more reliable and maintainable."
   ]
  },
  {
   "cell_type": "markdown",
   "metadata": {},
   "source": [
    "**Read more in this extensive tutorial**\n",
    "\n",
    "https://www.tutorialspoint.com/pytest/pytest_introduction.htm"
   ]
  },
  {
   "cell_type": "markdown",
   "metadata": {},
   "source": [
    "____"
   ]
  },
  {
   "cell_type": "markdown",
   "metadata": {},
   "source": [
    "# A primer on asserts"
   ]
  },
  {
   "cell_type": "markdown",
   "metadata": {},
   "source": [
    "What is assert?\n",
    "\n",
    "*assert* is a statement in Python used to test conditions.\n",
    "\n",
    "If the condition is True, nothing happens. If it is False, an exception is raised."
   ]
  },
  {
   "cell_type": "code",
   "execution_count": 15,
   "metadata": {},
   "outputs": [],
   "source": [
    "assert 1 + 1 == 2   # this statement is true, and thus nothing happens"
   ]
  },
  {
   "cell_type": "code",
   "execution_count": null,
   "metadata": {},
   "outputs": [],
   "source": [
    "assert 1 + 1 == 3   # this statement is false, and thus an AssertionError is raised"
   ]
  },
  {
   "cell_type": "markdown",
   "metadata": {},
   "source": [
    "You can use assert to test any condition. For example:\n",
    "\n",
    "* Numerical comparisons: \n",
    "        \n",
    "        assert 3 > 2\n",
    "* String comparisons: \n",
    "\n",
    "        assert \"hello\".upper() == \"HELLO\"\n",
    "* List membership: \n",
    "        \n",
    "        assert 4 in [1, 2, 3, 4]\n",
    "\n",
    "And much more!"
   ]
  },
  {
   "cell_type": "markdown",
   "metadata": {},
   "source": [
    "___"
   ]
  },
  {
   "cell_type": "markdown",
   "metadata": {},
   "source": [
    "## Pytest"
   ]
  },
  {
   "cell_type": "markdown",
   "metadata": {},
   "source": [
    "One of the more popular packages for testing is *pytest*.\n",
    "\n",
    "Install it in your environment using\n",
    "\n",
    "        pip install pytest"
   ]
  },
  {
   "cell_type": "markdown",
   "metadata": {},
   "source": [
    "-- A First Simple Test --\n",
    "\n",
    "Create a Python file, let's call it test_sample.py.\n",
    "\n",
    "Inside it, we'll write a function and a corresponding test."
   ]
  },
  {
   "cell_type": "code",
   "execution_count": 6,
   "metadata": {},
   "outputs": [],
   "source": [
    "# test_sample.py\n",
    "\n",
    "def add(x, y):\n",
    "    return x + y\n",
    "\n",
    "def subtract(x, y):\n",
    "    return x - y\n",
    "\n",
    "def test_add():\n",
    "    assert add(3, 4) == 7 \n",
    "\n",
    "def test_subtract():\n",
    "    assert subtract(5, 2) == 3"
   ]
  },
  {
   "cell_type": "markdown",
   "metadata": {},
   "source": [
    "Now, in your cmd terminal, navigate to the directory containing test_sample.py. \n",
    "\n",
    "Ensure that the environment with pytest installed is active, and run the following simple command:\n",
    "\n",
    "    pytest"
   ]
  },
  {
   "cell_type": "markdown",
   "metadata": {},
   "source": [
    "Now look at the output in your terminal, you'll see\n",
    "\n",
    "* a dot (.) for each test thatpassed.\n",
    "* an F for each that failed."
   ]
  },
  {
   "cell_type": "markdown",
   "metadata": {},
   "source": [
    "**Importantly** Pytest will look for tests to run in directories that start with *test*, files with names *test\\_* and functions within those files that *test\\_*. \n",
    "\n",
    "This is a naming convention that pytest follows to discover and run tests automatically."
   ]
  },
  {
   "cell_type": "code",
   "execution_count": 9,
   "metadata": {},
   "outputs": [],
   "source": [
    "# we can expand our tests to include more cases,\n",
    "# specifically we could e.g., include cases in which we\n",
    "# expect an error to be raised.\n",
    "\n",
    "# test_sample.py\n",
    "\n",
    "import pytest\n",
    "\n",
    "def add(x, y):\n",
    "    return x + y\n",
    "\n",
    "def subtract(x, y):\n",
    "    return x - y\n",
    "\n",
    "def test_add():\n",
    "    assert add(3, 4) == 7 \n",
    "\n",
    "def test_subtract():\n",
    "    assert subtract(5, 2) == 3\n",
    "\n",
    "def test_add_type_error():               # this test will expect a TypeError to be raised\n",
    "    with pytest.raises(TypeError):\n",
    "        add('2', 2)"
   ]
  },
  {
   "cell_type": "markdown",
   "metadata": {},
   "source": [
    "____\n"
   ]
  }
 ],
 "metadata": {
  "kernelspec": {
   "display_name": "introduktion",
   "language": "python",
   "name": "python3"
  },
  "language_info": {
   "codemirror_mode": {
    "name": "ipython",
    "version": 3
   },
   "file_extension": ".py",
   "mimetype": "text/x-python",
   "name": "python",
   "nbconvert_exporter": "python",
   "pygments_lexer": "ipython3",
   "version": "3.12.4"
  }
 },
 "nbformat": 4,
 "nbformat_minor": 2
}
