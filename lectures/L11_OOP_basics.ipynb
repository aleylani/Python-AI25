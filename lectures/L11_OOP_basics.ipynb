{
 "cells": [
  {
   "cell_type": "markdown",
   "metadata": {},
   "source": [
    "## OOP - Objekt Orienterad Programmering"
   ]
  },
  {
   "cell_type": "markdown",
   "metadata": {},
   "source": [
    "Allting i Python, i synnerhet alla datatyper och funktioner vi hitills har jobbat med har ett mer tekniskt namn - objekt.\n",
    "\n",
    "Allting i Python är objekt som tillhör olika klasser. Vad är en klass?\n",
    "\n",
    "Vi har stött på många olika klasser innan, exempelvis strängar, listor, heltal, decimaltal osv. \n",
    "\n",
    "Om vi definierar en variabel till att vara ex. en sträng så säger vi att den variabeln nu är en instans av klassen sträng."
   ]
  },
  {
   "cell_type": "code",
   "execution_count": 2,
   "metadata": {},
   "outputs": [],
   "source": [
    "# variabeln mitt_namn är nu assignad till att vara en sträng.\n",
    "\n",
    "mitt_namn = 'Ali Leylani'\n",
    "\n",
    "# variabeln min_lista är nu assignad till att vara en lista.\n",
    "\n",
    "min_lista = ['Ali', 'Har', 'Fel', 'Ibland']"
   ]
  },
  {
   "cell_type": "markdown",
   "metadata": {},
   "source": [
    "Vi har också sett att olika datatyper (klasser) beter sig på liknande sätt relativt objekt i samma klass."
   ]
  },
  {
   "cell_type": "code",
   "execution_count": 3,
   "metadata": {},
   "outputs": [],
   "source": [
    "# detta är en annan sträng\n",
    "\n",
    "ditt_namn = 'John Krasinski'\n",
    "\n",
    "\n",
    "# men lägg märke till att denna sträng beter sig precis lika som vår första sträng när vi utför\n",
    "# operationer på den"
   ]
  },
  {
   "cell_type": "markdown",
   "metadata": {},
   "source": [
    "*Exempel* \n",
    "\n",
    "Multiplikation av strängar. Själva värdet av strängarna i sig kan vara annorlunda, men de beter sig precis likadant under ex multiplikation"
   ]
  },
  {
   "cell_type": "code",
   "execution_count": null,
   "metadata": {},
   "outputs": [],
   "source": [
    "print(mitt_namn*2)\n",
    "print(ditt_namn*2)"
   ]
  },
  {
   "cell_type": "markdown",
   "metadata": {},
   "source": [
    "metoden .lower()"
   ]
  },
  {
   "cell_type": "code",
   "execution_count": null,
   "metadata": {},
   "outputs": [],
   "source": [
    "print(mitt_namn.lower())\n",
    "print(ditt_namn.lower())"
   ]
  },
  {
   "cell_type": "markdown",
   "metadata": {},
   "source": [
    "Motsvarande likheter finns ex för listor (och även för alla andra klasser, för den delen)"
   ]
  },
  {
   "cell_type": "code",
   "execution_count": null,
   "metadata": {},
   "outputs": [],
   "source": [
    "min_lista = ['Ali', 'Har', 'Fel', 'Ibland']\n",
    "din_lista = ['Hej', 'och', 'hå']\n",
    "\n",
    "print(min_lista * 3)\n",
    "print(din_lista * 3)\n",
    "\n",
    "min_lista.append(111222)\n",
    "din_lista.append(111222)\n",
    "\n",
    "print(min_lista)\n",
    "print(din_lista)"
   ]
  },
  {
   "cell_type": "markdown",
   "metadata": {},
   "source": [
    "Vi kan kontrollera om ett objekt är av en given klass med hjälp av **isinstance()**-funktionen"
   ]
  },
  {
   "cell_type": "code",
   "execution_count": null,
   "metadata": {},
   "outputs": [],
   "source": [
    "mitt_namn = 'Ali Leylani'\n",
    "\n",
    "# type returnerar vilken class ditt objekt tillhör\n",
    "print(type(mitt_namn))"
   ]
  },
  {
   "cell_type": "code",
   "execution_count": null,
   "metadata": {},
   "outputs": [],
   "source": [
    "# isinstance() kontrollerar om ditt objekt är av den givna klassen och returnerar True om så är fallet. False annars.\n",
    "\n",
    "isinstance(mitt_namn, str)"
   ]
  },
  {
   "cell_type": "code",
   "execution_count": null,
   "metadata": {},
   "outputs": [],
   "source": [
    "# detta blir false, eftersom att mitt_namn är en instans av klassen sträng, och inte lista.\n",
    "\n",
    "isinstance(mitt_namn, list)"
   ]
  },
  {
   "cell_type": "markdown",
   "metadata": {},
   "source": [
    "isinstance() är en mycket viktigt funktion som ni kommer använda från och med nu.\n",
    "\n",
    "*Exempel usecase*"
   ]
  },
  {
   "cell_type": "code",
   "execution_count": null,
   "metadata": {},
   "outputs": [],
   "source": [
    "# Om vi vill kontrollera att ett givet objekt är av önskad datatyp\n",
    "\n",
    "mitt_objekt = [1, 2, 3, 4, 5]\n",
    "\n",
    "if isinstance(mitt_objekt, list):\n",
    "\n",
    "    print('Success! Objektet är en instans av önskad klass')\n",
    "\n",
    "else:\n",
    "\n",
    "    print('What you doing person. Hand me an instance of the desired class!')"
   ]
  },
  {
   "cell_type": "markdown",
   "metadata": {},
   "source": [
    "**Objekt tillhörande olika klasser sägs vara instanser av dessa klasser**\n",
    "\n",
    "**Vi kan använda isinstance() funktionen för att kontrollera om ett objekt tillhör en given klass**"
   ]
  },
  {
   "cell_type": "markdown",
   "metadata": {},
   "source": [
    "Bara för att vara extra tydlig:\n",
    "\n",
    "Alla objekt i Python tillhör en viss klass. Med klass menar man ex strängar, integers, funktioner, dictionaries osv. Det som särskiljer en klass från en annan klass är hur deras instanser beter sig under olika operationer (ex print, addition, multiplikation osv.)\n",
    "\n",
    "\n",
    "\n"
   ]
  },
  {
   "cell_type": "markdown",
   "metadata": {},
   "source": [
    "*Strängar*"
   ]
  },
  {
   "cell_type": "code",
   "execution_count": null,
   "metadata": {},
   "outputs": [],
   "source": [
    "en_sträng = 'Hej'\n",
    "annan_sträng = 'Hå'\n",
    "\n",
    "# addition av två strängar är helt enkelt definierad som en sammanslagning av strängarna\n",
    "en_sträng + annan_sträng"
   ]
  },
  {
   "cell_type": "code",
   "execution_count": null,
   "metadata": {},
   "outputs": [],
   "source": [
    "# multiplikation av strängar är inte ens definierad (går ej att uföra)\n",
    "# återigen, detta beteende gällar ALLA strängar\n",
    "en_sträng * annan_sträng"
   ]
  },
  {
   "cell_type": "markdown",
   "metadata": {},
   "source": [
    "*Heltal*"
   ]
  },
  {
   "cell_type": "code",
   "execution_count": null,
   "metadata": {},
   "outputs": [],
   "source": [
    "ett_tal = 123\n",
    "ett_annat_tal = 100\n",
    "\n",
    "# addition av tal är helt enkelt det vi alla är vana vid sedan grundskolan\n",
    "\n",
    "ett_tal + ett_annat_tal"
   ]
  },
  {
   "cell_type": "code",
   "execution_count": null,
   "metadata": {},
   "outputs": [],
   "source": [
    "# multiplikation, likaså, det vi alla är vana vid\n",
    "\n",
    "# tillskilnad från ex strängar är multiplikation operationen definierad för heltal\n",
    "\n",
    "ett_tal * ett_annat_tal"
   ]
  },
  {
   "cell_type": "markdown",
   "metadata": {},
   "source": [
    "**Så, vi har stött på en massa klasser i Python redan ex. strängar, heltal, listor, disctionaries, decimaltal, funktioner. **\n",
    "\n",
    "Det finns många fler."
   ]
  },
  {
   "cell_type": "markdown",
   "metadata": {},
   "source": [
    "## Awesome, hur bygger vi egna klasser då?"
   ]
  },
  {
   "cell_type": "markdown",
   "metadata": {},
   "source": [
    "Jag vill skapa en *Person*-klass"
   ]
  },
  {
   "cell_type": "code",
   "execution_count": 37,
   "metadata": {},
   "outputs": [],
   "source": [
    "# nu är detta min första enkla klass\n",
    "\n",
    "class Person:\n",
    "\n",
    "    # init är en specialfunktion som Python kör så fort du skapar en instans av denna klass\n",
    "    def __init__(self, namn, ålder) -> None:\n",
    "        \n",
    "        # all kod som står här nedanför kommer alltså att köras så får du skapar en instans av denna klass\n",
    "\n",
    "        # dessa variabler nedan kallas för attribut. \n",
    "        # vi kommer alltså skapa två attribut\n",
    "        # det ena kallar vi för self.name och den ger vi värdet namn (som kommer från användaren som argument när \n",
    "        # användaren skapar en instans av denna klass)\n",
    "        # och den andra är self.age som vi ger värdet ålder (som också kommer från användaren)\n",
    "\n",
    "        self.name = namn      \n",
    "        self.age = ålder"
   ]
  },
  {
   "cell_type": "markdown",
   "metadata": {},
   "source": [
    "Vi kan skapa en instans av denna klassen på följande viss"
   ]
  },
  {
   "cell_type": "code",
   "execution_count": 39,
   "metadata": {},
   "outputs": [],
   "source": [
    "teacher = Person(namn = 'Ali', ålder='25')      # dessa argument kommer att fångas upp av __init__() metoden och användas för att\n",
    "                                                # utföra den indenterade koden i __init__() metoden.\n",
    "student = Person(namn = 'Isak F', ålder='27')"
   ]
  },
  {
   "cell_type": "code",
   "execution_count": null,
   "metadata": {},
   "outputs": [],
   "source": [
    "# vi kan komma ut klass-attributen \"utifrån\" på följande sätt\n",
    "\n",
    "# vi tar våran instans och följer den med .attribut_namn\n",
    "\n",
    "print(f'Attributet self.name för teacher har värdet {teacher.name}')\n",
    "print(f'Attributet self.age för teacher har värder {teacher.age}')"
   ]
  },
  {
   "cell_type": "code",
   "execution_count": null,
   "metadata": {},
   "outputs": [],
   "source": [
    "print(f'Attributet self.name för student har värdet {student.name}')\n",
    "print(f'Attributet self.age för student har värder {student.age}')"
   ]
  },
  {
   "cell_type": "markdown",
   "metadata": {},
   "source": [
    "Ovan har vi nu två olika instanser av klassen Person, och vi har nu givit bägge dessa olika attribut.\n",
    "\n",
    "Vi har också sett hur vi kan komma åt dessa attribut."
   ]
  },
  {
   "cell_type": "markdown",
   "metadata": {},
   "source": [
    "**Fråga:** Kan vi bevisa att teacher & student är instanser av klassen Person? Hur isåfall?"
   ]
  },
  {
   "cell_type": "code",
   "execution_count": null,
   "metadata": {},
   "outputs": [],
   "source": [
    "# Vi kan använda isinstans()\n",
    "# Eftersom att vi nu definierat en Person klass, kommer Python att känna igen den\n",
    "\n",
    "print(f'teacher är en instans av klassen Person: {isinstance(teacher, Person)}')\n",
    "print(f'student är en instans av klassen Person: {isinstance(student, Person)}')"
   ]
  },
  {
   "cell_type": "code",
   "execution_count": null,
   "metadata": {},
   "outputs": [],
   "source": [
    "print(f'teacher är en instans av klassen sträng: {isinstance(teacher, str)}')\n",
    "print(f'teacher är en instans av klassen sträng: {isinstance(teacher, str)}')\n",
    "\n"
   ]
  },
  {
   "cell_type": "markdown",
   "metadata": {},
   "source": [
    "____"
   ]
  },
  {
   "cell_type": "markdown",
   "metadata": {},
   "source": [
    "**Ok, let's move on a bit**\n",
    "\n",
    "Vi kan utöver __init__() metoden även definiera andra metoder för våra egna klasser."
   ]
  },
  {
   "cell_type": "code",
   "execution_count": 73,
   "metadata": {},
   "outputs": [],
   "source": [
    "class Person:\n",
    "\n",
    "    def __init__(self, namn, ålder) -> None:\n",
    "\n",
    "        self.name = namn      \n",
    "        self.age = ålder\n",
    "\n",
    "    # vi har nu uttökat klassen med en metod. En metod är en helt vanlig funktion, men som är specifik för en viss klass\n",
    "    # denna metod nedan kommer alltså bara fungera för instanser av klassen Person.\n",
    "    \n",
    "    def presentation(self):\n",
    "\n",
    "        print(f'Hi, my name is {self.name} and I am {self.age} years old.')\n",
    "\n",
    "    def age_in_the_future(self, antal_år):\n",
    "\n",
    "        print(f'I will be {self.age + antal_år} years old in {antal_år} years.')"
   ]
  },
  {
   "cell_type": "code",
   "execution_count": 74,
   "metadata": {},
   "outputs": [],
   "source": [
    "# notera att vi ovan skrivit över klassen Person vi skrev tidigare. Denna version av Person har uttökad funktionalitet.\n",
    "\n",
    "classmate = Person(namn = 'Olivia R', ålder = 30)"
   ]
  },
  {
   "cell_type": "code",
   "execution_count": null,
   "metadata": {},
   "outputs": [],
   "source": [
    "print(f'Vår kära klasskamrat heter {classmate.name} och är {classmate.age} år gammal.')"
   ]
  },
  {
   "cell_type": "markdown",
   "metadata": {},
   "source": [
    "Vi kommer åt klassmetoder genom att kalla på de på följande viss\n",
    "\n",
    ".metod_namn()"
   ]
  },
  {
   "cell_type": "code",
   "execution_count": null,
   "metadata": {},
   "outputs": [],
   "source": [
    "classmate.presentation()"
   ]
  },
  {
   "cell_type": "code",
   "execution_count": null,
   "metadata": {},
   "outputs": [],
   "source": [
    "# vi kan leverara argument till metoder genom att helt enkelt fylla i dem som argument när vi kallar på metoden i fråga\n",
    "\n",
    "classmate.age_in_the_future(antal_år = 5)"
   ]
  },
  {
   "cell_type": "markdown",
   "metadata": {},
   "source": [
    "**Skillnaden** på att komma åt klassattribut och metoder är alltså att vi inkluderar paranteser på slutet för metoder."
   ]
  },
  {
   "cell_type": "markdown",
   "metadata": {},
   "source": [
    "____\n",
    "\n",
    "Vad är detta mystiska *self* som vi ser i klassen?"
   ]
  },
  {
   "cell_type": "code",
   "execution_count": 77,
   "metadata": {},
   "outputs": [],
   "source": [
    "class Person:\n",
    "\n",
    "    def __init__(self, namn, ålder) -> None:\n",
    "\n",
    "        self.name = namn      \n",
    "        self.age = ålder\n",
    "\n",
    "    # första argumenten till våra metoder är ALLTID self, innanför klassen\n",
    "    # self innehåller våra attribut, och för att komma åt attributen i våra metoder\n",
    "    # måste vi refferera till self\n",
    "    \n",
    "    def presentation(self):\n",
    "\n",
    "        print(f'Hi, my name is {self.name} and I am {self.age} years old.')\n",
    "\n",
    "\n",
    "    def age_in_the_future(self, antal_år):\n",
    "\n",
    "        print(f'I will be {self.age + antal_år} years old in {antal_år} years.')"
   ]
  },
  {
   "cell_type": "markdown",
   "metadata": {},
   "source": [
    "När du initierar en instans av klassen person kommer den att skapa en del attribut, i detta fall self.name & self.age.\n",
    "\n",
    "Dessa attribut lagras i self, och vi måste använda syntaxen\n",
    "\n",
    "    self.attribut_namn \n",
    "\n",
    "för att komma åt attributen i kod *innanför* klassen!"
   ]
  },
  {
   "cell_type": "markdown",
   "metadata": {},
   "source": [
    "**Viktigt** När vi kallar på metoderna *utanför* klassen så anger vi **inte** self som argument. Self är bara något\n",
    "internt som hanteras av klassen i sig."
   ]
  },
  {
   "cell_type": "code",
   "execution_count": 78,
   "metadata": {},
   "outputs": [],
   "source": [
    "classmate = Person(namn = 'Oliva R', ålder = 30)"
   ]
  },
  {
   "cell_type": "code",
   "execution_count": null,
   "metadata": {},
   "outputs": [],
   "source": [
    "# tekniskt sett tar presentation ett argument (self) men vi anger den INTE när vi kallar på metoden utanför klassen\n",
    "classmate.presentation()"
   ]
  },
  {
   "cell_type": "code",
   "execution_count": null,
   "metadata": {},
   "outputs": [],
   "source": [
    "# tekniskt sett tar age_in_the_future två stycken argument (self och antal_år), men vi angeras alltså återigen\n",
    "# INTE self utanför klassen när vi kallar på metoden. Vi behöver således bara ange ett argument, vs antal_år\n",
    "\n",
    "classmate.age_in_the_future(5)"
   ]
  },
  {
   "cell_type": "markdown",
   "metadata": {},
   "source": [
    "___\n",
    "\n",
    "## Alright, let's tidy tings up a bit."
   ]
  },
  {
   "cell_type": "code",
   "execution_count": 96,
   "metadata": {},
   "outputs": [],
   "source": [
    "class Person:\n",
    "\n",
    "    '''\n",
    "    A class representing a person.\n",
    "    \n",
    "    * attributes:\n",
    "    \n",
    "    name (str): the name of the person.\n",
    "    age (int): the age of the person.\n",
    "    \n",
    "    * Methods:\n",
    "\n",
    "    1. presentation(): prints a presentation of the person\n",
    "    2. age_in_the_future(antal_år): prints the age of the person in a certain number of years\n",
    "    '''\n",
    "\n",
    "    def __init__(self, namn: str, ålder: int | float) -> None:\n",
    "\n",
    "        '''\n",
    "        Initializes a new instance of the Person class with the given attributes.\n",
    "        '''\n",
    "\n",
    "        self.name = namn      \n",
    "        self.age = ålder\n",
    "\n",
    "    \n",
    "    def presentation(self) -> None:\n",
    "\n",
    "        '''A method that presents the person in question, with name and age.'''\n",
    "\n",
    "        print(f'Hi, my name is {self.name} and I am {self.age} years old.')\n",
    "\n",
    "\n",
    "    def age_in_the_future(self, antal_år: int | float) -> None:\n",
    "\n",
    "        '''Calculates the age of the person in a given number of years.'''\n",
    "\n",
    "        print(f'I will be {self.age + antal_år} years old in {antal_år} years.')"
   ]
  },
  {
   "cell_type": "code",
   "execution_count": 97,
   "metadata": {},
   "outputs": [],
   "source": [
    "# lägg märke till att Python, precis för funktioner, mappar positionen av ditt argument till\n",
    "# argumenten i funktionen.\n",
    "\n",
    "# nedan har jag angett två stycken argument. Den första kommer att mappas till namn, och den andra kommer att mappas till ålder\n",
    "\n",
    "student = Person('Fabio Rubino', 39)"
   ]
  },
  {
   "cell_type": "code",
   "execution_count": null,
   "metadata": {},
   "outputs": [],
   "source": [
    "help(student)"
   ]
  },
  {
   "cell_type": "markdown",
   "metadata": {},
   "source": [
    "**Privata och publika attribut**\n",
    "\n",
    "Med publika attribut menar vi sådana som du som användare kan direkt komma åt *utifrån* klassen"
   ]
  },
  {
   "cell_type": "code",
   "execution_count": null,
   "metadata": {},
   "outputs": [],
   "source": [
    "# följande attribut är publika eftersom att vi kan komma åt de utifrån klassen\n",
    "\n",
    "print(student.name)\n",
    "print(student.age)"
   ]
  },
  {
   "cell_type": "code",
   "execution_count": 146,
   "metadata": {},
   "outputs": [],
   "source": [
    "class Person:\n",
    "\n",
    "    '''\n",
    "    A class representing a person.\n",
    "    \n",
    "    * attributes:\n",
    "    \n",
    "    name (str): the name of the person.\n",
    "    age (int): the age of the person.\n",
    "    adress (str): the adress of the person.\n",
    "    födelsemånad (str): the birth month of the person.\n",
    "    \n",
    "    * Methods:\n",
    "\n",
    "    1. presentation(): prints a presentation of the person\n",
    "    2. age_in_the_future(antal_år): prints the age of the person in a certain number of years\n",
    "    '''\n",
    "\n",
    "    def __init__(self, namn: str, ålder: int | float, adress: str, födelsemånad: str) -> None:\n",
    "\n",
    "        '''\n",
    "        Initializes a new instance of the Person class with the given attributes.\n",
    "        '''\n",
    "\n",
    "        # publika attribut namnges helt enkelt enligt nedan\n",
    "        # dvs, self.attribut_namn\n",
    "\n",
    "        self.name = namn      \n",
    "        self.age = ålder\n",
    "\n",
    "        # vi kan också namge attribut på följande vis\n",
    "        # self._attribut_namn, dvs med ett understreck före själva namnet\n",
    "\n",
    "        # genom att namnge på följande sett så indikerar vi att detta är ett privat\n",
    "        # attribut. Ett privat attribut är något som man INTE vill att användaren ska direkt använda utanför klassen\n",
    "        # utan används enbart internt inom klassen\n",
    "        self._adress = adress\n",
    "\n",
    "\n",
    "        # om vi vill ha en ännu mer privat attribut så kan vi namnge det med två understreck före namnet\n",
    "        # på detta vis så kommer Python att neka all åtkomst utifrån till attributet. Den kommer\n",
    "        # endast kunna bli kallad på innanför klassen.\n",
    "\n",
    "        self.__birthmonth = födelsemånad\n",
    "    \n",
    "    def presentation(self) -> None:\n",
    "\n",
    "        '''A method that presents the person in question, with name, age, adress and birthmonth.'''\n",
    "\n",
    "        print(f'Hi, my name is {self.name}, I am {self.age} years old and I live at {self._adress}. I was born in {self.__birthmonth}.')\n",
    "\n",
    "\n",
    "    def age_in_the_future(self, antal_år: int | float) -> None:\n",
    "\n",
    "        '''Calculates the age of the person in a given number of years.'''\n",
    "\n",
    "        print(f'I will be {self.age + antal_år} years old in {antal_år} years.')\n",
    "\n",
    "    # denna metod repr kommer Python defaulta till när ni exempelvis använder print på er instans\n",
    "    def __repr__(self) -> str:\n",
    "\n",
    "        '''Returns an unambiguous string representation of the object and its attributes'''\n",
    "\n",
    "        return f'Person(name={self.name}, age={self.age}, adress={self._adress}, birthmonth={self.__birthmonth})'"
   ]
  },
  {
   "cell_type": "code",
   "execution_count": 147,
   "metadata": {},
   "outputs": [],
   "source": [
    "student = Person('Jonas J', 29, 'Visättravägen X', 'September')"
   ]
  },
  {
   "cell_type": "code",
   "execution_count": null,
   "metadata": {},
   "outputs": [],
   "source": [
    "# Python kommer att söka efter __repr__ metoden när ni använder print på vår instans, och utför koden\n",
    "# som hör till den metoden. I detta fall kommer den att returnera en sträng som vi har skapat i metoden.\n",
    "print(student)"
   ]
  },
  {
   "cell_type": "code",
   "execution_count": null,
   "metadata": {},
   "outputs": [],
   "source": [
    "# detta är instansens publika attribut, dvs det som vi kan komma åt utifrån klassen \n",
    "\n",
    "print(student.name)\n",
    "print(student.age)"
   ]
  },
  {
   "cell_type": "code",
   "execution_count": null,
   "metadata": {},
   "outputs": [],
   "source": [
    "# trots att denna var privat egentligen, kommer vi ändå åt den. Python nekar oss inte.\n",
    "# men, du som användare ska vara väldigt försiktig med attribut som börjar med ett understreck\n",
    "# helst ska du INTE använda de utanför klassen\n",
    "\n",
    "print(student._adress)"
   ]
  },
  {
   "cell_type": "code",
   "execution_count": null,
   "metadata": {},
   "outputs": [],
   "source": [
    "student.presentation()"
   ]
  },
  {
   "cell_type": "code",
   "execution_count": null,
   "metadata": {},
   "outputs": [],
   "source": [
    "# helprivata attribut (de vars namn inleds med två understreck) kommer vi ej åt utifrån\n",
    "\n",
    "student.__birthmonth"
   ]
  },
  {
   "cell_type": "markdown",
   "metadata": {},
   "source": [
    "____"
   ]
  },
  {
   "cell_type": "markdown",
   "metadata": {},
   "source": [
    "**Lite mer om privata attribut**"
   ]
  },
  {
   "cell_type": "code",
   "execution_count": 149,
   "metadata": {},
   "outputs": [],
   "source": [
    "class Student:\n",
    "\n",
    "    def __init__(self, namn: str, efternamn: str, årskurs: str, program: str) -> None:\n",
    "\n",
    "        self.namn = namn\n",
    "        self.__efternamn = efternamn\n",
    "        self.årskurs = årskurs\n",
    "        self.program = program"
   ]
  },
  {
   "cell_type": "code",
   "execution_count": 150,
   "metadata": {},
   "outputs": [],
   "source": [
    "en_student = Student('Jonas', 'Jonasson', '2024', 'Data Science')"
   ]
  },
  {
   "cell_type": "code",
   "execution_count": null,
   "metadata": {},
   "outputs": [],
   "source": [
    "# vi kan komma åt samtliga publika argument på följande vis\n",
    "\n",
    "print(en_student.namn)\n",
    "print(en_student.årskurs)\n",
    "print(en_student.program)"
   ]
  },
  {
   "cell_type": "code",
   "execution_count": null,
   "metadata": {},
   "outputs": [],
   "source": [
    "# däremot kommer vi inte åt det privata attributet\n",
    "\n",
    "print(en_student.__efternamn)"
   ]
  },
  {
   "cell_type": "markdown",
   "metadata": {},
   "source": [
    "**Hur kan vi ändå säkerställa att vi kommer åt den utanför?**"
   ]
  },
  {
   "cell_type": "code",
   "execution_count": 162,
   "metadata": {},
   "outputs": [],
   "source": [
    "class Student:\n",
    "\n",
    "    def __init__(self, namn: str, efternamn: str, årskurs: str, program: str) -> None:\n",
    "\n",
    "        self.namn = namn\n",
    "        self.__efternamn = efternamn\n",
    "        self.årskurs = årskurs\n",
    "        self.program = program\n",
    "\n",
    "    # vi kommer skapa en speciell metod som vi kommer \"dekorera\" med @property\n",
    "\n",
    "    @property\n",
    "    def efternamn(self) -> str:\n",
    "\n",
    "        return self.__efternamn"
   ]
  },
  {
   "cell_type": "code",
   "execution_count": 163,
   "metadata": {},
   "outputs": [],
   "source": [
    "en_student = Student('Johanna', 'Jokilainen', '2024', 'AI Engineering')"
   ]
  },
  {
   "cell_type": "code",
   "execution_count": null,
   "metadata": {},
   "outputs": [],
   "source": [
    "# vi kommer fortfarande åt samtliga publika argument på följande vis\n",
    "\n",
    "print(en_student.namn)\n",
    "print(en_student.årskurs)\n",
    "print(en_student.program)"
   ]
  },
  {
   "cell_type": "code",
   "execution_count": null,
   "metadata": {},
   "outputs": [],
   "source": [
    "# men nu, pga att vi har definierat en @property - kommer vi även åt det privata attributet!\n",
    "# notera att vår @property metod är en METOD och metoder kallar man med paranteser på slutet.\n",
    "# men undantaget är just @property metoder - dessa ska kallas på som om de vore attribut!\n",
    "\n",
    "print(en_student.efternamn)"
   ]
  },
  {
   "cell_type": "markdown",
   "metadata": {},
   "source": [
    "____\n",
    "\n",
    "# Övning"
   ]
  },
  {
   "cell_type": "markdown",
   "metadata": {},
   "source": [
    "Jag vill att ni nu skapar en egen klass. Den sa heter Varor.\n",
    "\n",
    "Varje instans av klassen ska representera en vara som säljs i en butik.\n",
    "\n",
    "1) Ni kommer behöva initiera (med **init**) varje instans med ett namn, ett pris, ett brand, giltighetsdatum och lagersaldo.\n",
    "\n",
    "2) Skapa en doc-sträng för klassen, samt för alla ytterligare metoder ni skapar för klassen.\n",
    "\n",
    "3) Skapa **repr** metoden, som returnerar instansens status på ett unambigious sätt\n",
    "\n",
    "4) Skapa nu en metod so mtar ett argument *discount*. Denna metod ska **returnera** rabatterade priset på varan.\n",
    "\n",
    "5) Skapa flera klassmetoder, experimentera själva!\n",
    "\n",
    "6) Omvandla minst ett attribut till ett privat attribut (med .__)\n",
    "\n",
    "7) Skapa en @property metod för det privata attributet ni skapade i steg 6, så att ni kan komma åt den utanför klassen."
   ]
  },
  {
   "cell_type": "markdown",
   "metadata": {},
   "source": [
    "### **Lösningsförslag**"
   ]
  },
  {
   "cell_type": "code",
   "execution_count": 33,
   "metadata": {},
   "outputs": [],
   "source": [
    "class Wares:\n",
    "\n",
    "    '''A class that represents a product in a store'''\n",
    "\n",
    "    def __init__(self, name: str, price: float, brand: str, expiry_date: str, stock: int) -> None:\n",
    "\n",
    "        '''Initializes a new instance of the Wares class together with given attributes.'''\n",
    "\n",
    "        self.name = name\n",
    "        self.price = price\n",
    "        self.brand = brand\n",
    "        \n",
    "        self.__stock = stock\n",
    "        self.__expiry_date = expiry_date\n",
    "\n",
    "    @property\n",
    "    def stock(self) -> int:\n",
    "        return self.__stock\n",
    "\n",
    "    @property\n",
    "    def expiry_date(self) -> str:\n",
    "        return self.__expiry_date\n",
    "    \n",
    "    def discount(self, discount: float) -> float:\n",
    "\n",
    "        '''\n",
    "        Returns the discounted price of the product\n",
    "        \n",
    "        args:\n",
    "\n",
    "        discount: float - the discount as a fractional percentage (0-1)\n",
    "        '''\n",
    "\n",
    "        return self.price * (1-discount)\n",
    "    \n",
    "    def information(self) -> str:\n",
    "\n",
    "        '''A method providing basic information, in human readable format, about the product in questions'''\n",
    "\n",
    "        return f'We have {self.__stock} {self.name}s in stock. They are all from {self.brand} and cost {self.price} each.'\n",
    "    \n",
    "\n",
    "    def __repr__(self) -> str:\n",
    "        \n",
    "        '''Returns a string representation of the instance'''\n",
    "\n",
    "        return f'Wares(name={self.name}, price={self.price}, brand={self.brand}, expiry_date={self.__expiry_date}, stock={self.__stock})'\n",
    "    "
   ]
  },
  {
   "cell_type": "code",
   "execution_count": 34,
   "metadata": {},
   "outputs": [],
   "source": [
    "milk = Wares('milk', 15, 'Arla', '2024-10-10', 1000)\n",
    "potato = Wares('potato', 10, 'Solpotatis', '2024-11-01', 2000)\n"
   ]
  },
  {
   "cell_type": "code",
   "execution_count": null,
   "metadata": {},
   "outputs": [],
   "source": [
    "print(milk.information())\n",
    "print(potato.information())\n",
    "\n",
    "print()\n",
    "\n",
    "print(milk)\n",
    "print(potato)"
   ]
  },
  {
   "cell_type": "code",
   "execution_count": null,
   "metadata": {},
   "outputs": [],
   "source": [
    "print(milk.expiry_date)\n",
    "print(milk.stock)"
   ]
  },
  {
   "cell_type": "markdown",
   "metadata": {},
   "source": [
    "____\n",
    "\n",
    "**Men vänta, vi har problem!**"
   ]
  },
  {
   "cell_type": "code",
   "execution_count": 205,
   "metadata": {},
   "outputs": [],
   "source": [
    "ketchup = Wares('ketchup', 20, 'Heinz', '2024-12-01', 500)"
   ]
  },
  {
   "cell_type": "markdown",
   "metadata": {},
   "source": [
    "Vi kan mycket enkelt ändra på värden på vår instant genom att helt enkelt re-assigna dem "
   ]
  },
  {
   "cell_type": "code",
   "execution_count": null,
   "metadata": {},
   "outputs": [],
   "source": [
    "print(ketchup)"
   ]
  },
  {
   "cell_type": "code",
   "execution_count": null,
   "metadata": {},
   "outputs": [],
   "source": [
    "# re-assignment\n",
    "\n",
    "ketchup.price = 10\n",
    "\n",
    "print(ketchup)"
   ]
  },
  {
   "cell_type": "markdown",
   "metadata": {},
   "source": [
    "**Problemet** uppstår dock när man gör såhär...."
   ]
  },
  {
   "cell_type": "code",
   "execution_count": null,
   "metadata": {},
   "outputs": [],
   "source": [
    "ketchup.price = [x**2 for x in range(3)]\n",
    "\n",
    "print(ketchup)"
   ]
  },
  {
   "cell_type": "markdown",
   "metadata": {},
   "source": [
    "Dvs, vårt problem här är att vi kan re-assigna våra variabler till vad vi vill! Det finns inga checks and balances\n",
    "som stoppar oss från att assigna felaktiga/oväntade värden."
   ]
  },
  {
   "cell_type": "markdown",
   "metadata": {},
   "source": [
    "**Vi behöver därför ett sätt att kontrollera detta på!**\n",
    "\n",
    "Dvs, ett sätt att säkerställa att alla attribut är av förväntad typ."
   ]
  },
  {
   "cell_type": "markdown",
   "metadata": {},
   "source": [
    "___"
   ]
  },
  {
   "cell_type": "markdown",
   "metadata": {},
   "source": [
    "Lite refresher på Raise-clause nedan. Denna används för att generera felmeddelanden."
   ]
  },
  {
   "cell_type": "code",
   "execution_count": null,
   "metadata": {},
   "outputs": [],
   "source": [
    "a_variable = ['some text']\n",
    "\n",
    "if isinstance(a_variable, str):\n",
    "\n",
    "    print('Jolly roger, we all good')\n",
    "\n",
    "else:\n",
    "\n",
    "    raise TypeError('a_variable must be of type str')"
   ]
  },
  {
   "cell_type": "markdown",
   "metadata": {},
   "source": [
    "___"
   ]
  },
  {
   "cell_type": "code",
   "execution_count": 213,
   "metadata": {},
   "outputs": [],
   "source": [
    "class Circle:\n",
    "\n",
    "    def __init__(self, radius: float, color: str) -> None:\n",
    "\n",
    "        self.radius = radius\n",
    "        self.color = color"
   ]
  },
  {
   "cell_type": "code",
   "execution_count": null,
   "metadata": {},
   "outputs": [],
   "source": [
    "my_circle = Circle(10, 'red')\n",
    "\n",
    "print(my_circle.radius)\n",
    "print(my_circle.color)"
   ]
  },
  {
   "cell_type": "markdown",
   "metadata": {},
   "source": [
    "I syfte att kunna sätta in guardrails för att dina attribut har korrekt typ och värden, behöver man göra två saker.\n",
    "\n",
    "1) Gör en property av dina attribut\n"
   ]
  },
  {
   "cell_type": "code",
   "execution_count": 11,
   "metadata": {},
   "outputs": [],
   "source": [
    "class Circle:\n",
    "\n",
    "    def __init__(self, radius: float) -> None:\n",
    "\n",
    "        self.radius = radius\n",
    "\n",
    "    # denna property kallas för en GETTER. Den används för att \"get\" värdet av ett attribut\n",
    "\n",
    "    @property\n",
    "    def radius(self) -> float:\n",
    "        return self.__radius\n",
    "    \n",
    "    # denna kallas för en SETTER. Den används för att assigna värden till våra privata attribut\n",
    "    @radius.setter\n",
    "    def radius(self, radius: float) -> None:\n",
    "\n",
    "        if isinstance(radius, float):\n",
    "            self.__radius = radius\n",
    "        \n",
    "        else:\n",
    "            raise TypeError('radius must be of type float')\n",
    "    \n"
   ]
  },
  {
   "cell_type": "code",
   "execution_count": 6,
   "metadata": {},
   "outputs": [],
   "source": [
    "my_circle = Circle(10.0)"
   ]
  },
  {
   "cell_type": "code",
   "execution_count": 10,
   "metadata": {},
   "outputs": [
    {
     "ename": "TypeError",
     "evalue": "radius must be of type float",
     "output_type": "error",
     "traceback": [
      "\u001b[1;31m---------------------------------------------------------------------------\u001b[0m",
      "\u001b[1;31mTypeError\u001b[0m                                 Traceback (most recent call last)",
      "Cell \u001b[1;32mIn[10], line 1\u001b[0m\n\u001b[1;32m----> 1\u001b[0m my_circle\u001b[38;5;241m.\u001b[39mradius \u001b[38;5;241m=\u001b[39m \u001b[38;5;124m'\u001b[39m\u001b[38;5;124m18.0\u001b[39m\u001b[38;5;124m'\u001b[39m\n",
      "Cell \u001b[1;32mIn[1], line 21\u001b[0m, in \u001b[0;36mCircle.radius\u001b[1;34m(self, radius)\u001b[0m\n\u001b[0;32m     18\u001b[0m     \u001b[38;5;28mself\u001b[39m\u001b[38;5;241m.\u001b[39m__radius \u001b[38;5;241m=\u001b[39m radius\n\u001b[0;32m     20\u001b[0m \u001b[38;5;28;01melse\u001b[39;00m:\n\u001b[1;32m---> 21\u001b[0m     \u001b[38;5;28;01mraise\u001b[39;00m \u001b[38;5;167;01mTypeError\u001b[39;00m(\u001b[38;5;124m'\u001b[39m\u001b[38;5;124mradius must be of type float\u001b[39m\u001b[38;5;124m'\u001b[39m)\n",
      "\u001b[1;31mTypeError\u001b[0m: radius must be of type float"
     ]
    }
   ],
   "source": [
    "my_circle.radius = '18.0'"
   ]
  },
  {
   "cell_type": "code",
   "execution_count": null,
   "metadata": {},
   "outputs": [],
   "source": [
    "my_circle.radius = 2"
   ]
  },
  {
   "cell_type": "markdown",
   "metadata": {},
   "source": [
    "____"
   ]
  },
  {
   "cell_type": "markdown",
   "metadata": {},
   "source": [
    "# Förhoppningsvis förtydligande exempel"
   ]
  },
  {
   "cell_type": "code",
   "execution_count": 41,
   "metadata": {},
   "outputs": [],
   "source": [
    "class Rectangle:\n",
    "\n",
    "    def __init__(self, width, height):\n",
    "\n",
    "        self.width = width\n",
    "        self.height = height"
   ]
  },
  {
   "cell_type": "markdown",
   "metadata": {},
   "source": [
    "För publika attribut kan jag enkelt komma åt värden på följande vis"
   ]
  },
  {
   "cell_type": "code",
   "execution_count": 44,
   "metadata": {},
   "outputs": [
    {
     "name": "stdout",
     "output_type": "stream",
     "text": [
      "Bredden på rektangeln är 10\n",
      "Höjden på rektangeln är 20\n"
     ]
    }
   ],
   "source": [
    "min_rektangel = Rectangle(10, 20)\n",
    "\n",
    "print(f'Bredden på rektangeln är {min_rektangel.width}')\n",
    "print(f'Höjden på rektangeln är {min_rektangel.height}')"
   ]
  },
  {
   "cell_type": "markdown",
   "metadata": {},
   "source": [
    "Jag kan dock också ändra värden på attributen. Men, det finns inget skytt som stoppar mig från att ange dåliga värden!"
   ]
  },
  {
   "cell_type": "code",
   "execution_count": 45,
   "metadata": {},
   "outputs": [
    {
     "name": "stdout",
     "output_type": "stream",
     "text": [
      "Bredden på rektangeln är [{'en_nyckel': 'ett värde'}]\n",
      "Höjden på rektangeln är 20\n"
     ]
    }
   ],
   "source": [
    "min_rektangel.width = [{'en_nyckel': 'ett värde'}]\n",
    "\n",
    "print(f'Bredden på rektangeln är {min_rektangel.width}')\n",
    "print(f'Höjden på rektangeln är {min_rektangel.height}')"
   ]
  },
  {
   "cell_type": "markdown",
   "metadata": {},
   "source": [
    "Vi behöver således ändra på sättet vi skapar vår klass på, så att den blir robust mot felaktigheter."
   ]
  },
  {
   "cell_type": "code",
   "execution_count": 74,
   "metadata": {},
   "outputs": [],
   "source": [
    "class Rectangle:\n",
    "\n",
    "    def __init__(self, width, height):\n",
    "\n",
    "        self.width = width\n",
    "        self.height = height\n",
    "\n",
    "    @property\n",
    "    def width(self):\n",
    "        return self.__width\n",
    "    \n",
    "    @width.setter\n",
    "    def width(self, width):\n",
    "        self.__width = width\n",
    "    \n",
    "    def presentation(self):\n",
    "        \n",
    "        return f'Bredden på rektangeln är {self.width} och höjden är {self.height}'"
   ]
  },
  {
   "cell_type": "markdown",
   "metadata": {},
   "source": [
    "**Steg-för-steg**\n",
    "\n",
    "1. Implementera en klassinstans"
   ]
  },
  {
   "cell_type": "code",
   "execution_count": 73,
   "metadata": {},
   "outputs": [],
   "source": [
    "min_rektangel = Rectangle(10, 20)\n",
    "\n",
    "# När vi implementerat denna instans kommer __init__()-metoden att köras."
   ]
  },
  {
   "cell_type": "markdown",
   "metadata": {},
   "source": [
    "*2.)* \n",
    "\n",
    "Initmetoden körs\n",
    "\n",
    "*2.1)* \n",
    "\n",
    "I init metoden så försöker Python att assigna ett värde till bla ett attribut som heter width\n",
    "\n",
    "    self.width = width\n",
    "\n",
    "*3)*\n",
    "\n",
    "Men, det attributet kommer inte att få ett värde eftersom att attributet width nu har en setter. Varje gång vi försöker assigna \n",
    "värdet till attributet width, kommer istället setter-metoden till det attributet att köras.\n",
    "\n",
    "*4)*\n",
    "\n",
    "Setter tar det värdet ovan som vi försöker ansätta till self.width som argument, dvs width i detta fall. Sedan assignar den det värdet till det privata attributet self.__width.\n",
    "\n",
    "Efter detta steg kommer vi i vår instans ha två interna attribut med värden.\n",
    "\n",
    "Det ena är self.height, och det andra är self.__width."
   ]
  },
  {
   "cell_type": "markdown",
   "metadata": {},
   "source": [
    "____"
   ]
  },
  {
   "cell_type": "markdown",
   "metadata": {},
   "source": [
    "Förklaring:\n",
    "\n",
    "Nu har vi implementerat en @property vid namn **width** och en @setter också vid namn **width**.\n",
    "\n",
    "    @property\n",
    "    \n",
    "    def width(self):\n",
    "    \n",
    "            return self.__width\n",
    "\n",
    "Denna del ovan definierar för Python vad som händer **VARJE** gång användaren försöker komma åt attributet *width*\n",
    "\n",
    "Dvs, varje gång du skriver antingen\n",
    "\n",
    "    self.width (innanför klassen)\n",
    "\n",
    "eller\n",
    "\n",
    "    instansnamn.width (utanför klassen)\n",
    "\n",
    "så kommer Python att köra funktionen ovan."
   ]
  },
  {
   "cell_type": "code",
   "execution_count": 66,
   "metadata": {},
   "outputs": [],
   "source": [
    "min_rektangel = Rectangle(10, 20)\n",
    "\n",
    "min_rektangel.width"
   ]
  },
  {
   "cell_type": "markdown",
   "metadata": {},
   "source": [
    "Förklaring:\n",
    "\n",
    "Vi har även implementerat setters.\n",
    "\n",
    "    @width.setter\n",
    "    \n",
    "    def width(self, width):\n",
    "    \n",
    "        self.__width = width\n",
    "\n",
    "Varje gång vi innanför eller utanför klassen förser assigna värdet på attributet width, så kommer python att istället köra denna funktion. Dvs\n",
    "\n",
    "self.width = 100 (innanför klassen) \n",
    "\n",
    "eller\n",
    "\n",
    "instansnamn.width = 100 (utanför klassen)\n",
    "\n",
    "så kommer Python att uföra koden i denna setter."
   ]
  },
  {
   "cell_type": "code",
   "execution_count": 75,
   "metadata": {},
   "outputs": [
    {
     "data": {
      "text/plain": [
       "'Bredden på rektangeln är 10 och höjden är 20'"
      ]
     },
     "execution_count": 75,
     "metadata": {},
     "output_type": "execute_result"
    }
   ],
   "source": [
    "min_rektangel.presentation()"
   ]
  },
  {
   "cell_type": "markdown",
   "metadata": {},
   "source": [
    "____\n",
    "\n",
    "## Varför i helsike gjorde vi detta?"
   ]
  },
  {
   "cell_type": "markdown",
   "metadata": {},
   "source": [
    "Vi gjorde detta av flera anledningar, en av de var för att kunna kontrollera värdet på attributen.\n",
    "\n",
    "Vi kan nämligen uttöka vår setter-metod."
   ]
  },
  {
   "cell_type": "code",
   "execution_count": 77,
   "metadata": {},
   "outputs": [],
   "source": [
    "class Rectangle:\n",
    "\n",
    "    def __init__(self, width, height):\n",
    "\n",
    "        self.width = width\n",
    "        self.height = height\n",
    "\n",
    "    @property\n",
    "    def width(self):\n",
    "        return self.__width\n",
    "    \n",
    "    @width.setter\n",
    "    def width(self, width):\n",
    "\n",
    "        if isinstance(width, float) or isinstance(width, int):\n",
    "            self.__width = width\n",
    "        else:\n",
    "            raise TypeError('Wrong datatype for width!')\n",
    "    \n",
    "    def presentation(self):\n",
    "        \n",
    "        return f'Bredden på rektangeln är {self.width} och höjden är {self.height}'"
   ]
  },
  {
   "cell_type": "code",
   "execution_count": 82,
   "metadata": {},
   "outputs": [
    {
     "ename": "TypeError",
     "evalue": "Wrong datatype for width!",
     "output_type": "error",
     "traceback": [
      "\u001b[1;31m---------------------------------------------------------------------------\u001b[0m",
      "\u001b[1;31mTypeError\u001b[0m                                 Traceback (most recent call last)",
      "Cell \u001b[1;32mIn[82], line 1\u001b[0m\n\u001b[1;32m----> 1\u001b[0m min_rektangel \u001b[38;5;241m=\u001b[39m Rectangle(\u001b[38;5;124m'\u001b[39m\u001b[38;5;124m10\u001b[39m\u001b[38;5;124m'\u001b[39m, \u001b[38;5;241m20\u001b[39m)\n",
      "Cell \u001b[1;32mIn[77], line 5\u001b[0m, in \u001b[0;36mRectangle.__init__\u001b[1;34m(self, width, height)\u001b[0m\n\u001b[0;32m      3\u001b[0m \u001b[38;5;28;01mdef\u001b[39;00m \u001b[38;5;21m__init__\u001b[39m(\u001b[38;5;28mself\u001b[39m, width, height):\n\u001b[1;32m----> 5\u001b[0m     \u001b[38;5;28mself\u001b[39m\u001b[38;5;241m.\u001b[39mwidth \u001b[38;5;241m=\u001b[39m width\n\u001b[0;32m      6\u001b[0m     \u001b[38;5;28mself\u001b[39m\u001b[38;5;241m.\u001b[39mheight \u001b[38;5;241m=\u001b[39m height\n",
      "Cell \u001b[1;32mIn[77], line 18\u001b[0m, in \u001b[0;36mRectangle.width\u001b[1;34m(self, width)\u001b[0m\n\u001b[0;32m     16\u001b[0m     \u001b[38;5;28mself\u001b[39m\u001b[38;5;241m.\u001b[39m__width \u001b[38;5;241m=\u001b[39m width\n\u001b[0;32m     17\u001b[0m \u001b[38;5;28;01melse\u001b[39;00m:\n\u001b[1;32m---> 18\u001b[0m     \u001b[38;5;28;01mraise\u001b[39;00m \u001b[38;5;167;01mTypeError\u001b[39;00m(\u001b[38;5;124m'\u001b[39m\u001b[38;5;124mWrong datatype for width!\u001b[39m\u001b[38;5;124m'\u001b[39m)\n",
      "\u001b[1;31mTypeError\u001b[0m: Wrong datatype for width!"
     ]
    }
   ],
   "source": [
    "min_rektangel = Rectangle('10', 20)"
   ]
  },
  {
   "cell_type": "markdown",
   "metadata": {},
   "source": [
    "Vi kan gå vidare ännu längre och göra vår klass ännu mer robust.\n",
    "\n",
    "Vad händer exempelvis om du försöker sätta ett negativt värde till widht?"
   ]
  },
  {
   "cell_type": "code",
   "execution_count": 83,
   "metadata": {},
   "outputs": [],
   "source": [
    "min_rektangel = Rectangle(-5, 10)"
   ]
  },
  {
   "cell_type": "markdown",
   "metadata": {},
   "source": [
    "____\n",
    "\n",
    "Vi såg problemet med negativa värden ovan, vi kan därför gå vidare och implementera fler checks i vår setter"
   ]
  },
  {
   "cell_type": "code",
   "execution_count": 86,
   "metadata": {},
   "outputs": [],
   "source": [
    "class Rectangle:\n",
    "\n",
    "    def __init__(self, width, height):\n",
    "\n",
    "        self.width = width\n",
    "        self.height = height\n",
    "\n",
    "    @property\n",
    "    def width(self):\n",
    "        return self.__width\n",
    "    \n",
    "    @width.setter\n",
    "    def width(self, width):\n",
    "\n",
    "        if isinstance(width, float) or isinstance(width, int):\n",
    "            \n",
    "            if width > 0:\n",
    "                self.__width = width\n",
    "            else:\n",
    "                raise ValueError('Width must be greater than zero!')\n",
    "        else:\n",
    "            raise TypeError('Wrong datatype for width!')\n",
    "    \n",
    "    def presentation(self):\n",
    "        \n",
    "        return f'Bredden på rektangeln är {self.width} och höjden är {self.height}'"
   ]
  },
  {
   "cell_type": "code",
   "execution_count": 87,
   "metadata": {},
   "outputs": [],
   "source": [
    "min_rektangel = Rectangle(5, 10)"
   ]
  },
  {
   "cell_type": "code",
   "execution_count": 89,
   "metadata": {},
   "outputs": [
    {
     "data": {
      "text/plain": [
       "5"
      ]
     },
     "execution_count": 89,
     "metadata": {},
     "output_type": "execute_result"
    }
   ],
   "source": [
    "# skriver jag såhär kommer @property getter metoden att köras\n",
    "\n",
    "min_rektangel.width"
   ]
  },
  {
   "cell_type": "code",
   "execution_count": 91,
   "metadata": {},
   "outputs": [
    {
     "ename": "TypeError",
     "evalue": "Wrong datatype for width!",
     "output_type": "error",
     "traceback": [
      "\u001b[1;31m---------------------------------------------------------------------------\u001b[0m",
      "\u001b[1;31mTypeError\u001b[0m                                 Traceback (most recent call last)",
      "Cell \u001b[1;32mIn[91], line 3\u001b[0m\n\u001b[0;32m      1\u001b[0m \u001b[38;5;66;03m# skriver jag såhär kommer setter-metoden för width att köras\u001b[39;00m\n\u001b[1;32m----> 3\u001b[0m min_rektangel\u001b[38;5;241m.\u001b[39mwidth \u001b[38;5;241m=\u001b[39m [\u001b[38;5;241m100\u001b[39m]\n",
      "Cell \u001b[1;32mIn[86], line 23\u001b[0m, in \u001b[0;36mRectangle.width\u001b[1;34m(self, width)\u001b[0m\n\u001b[0;32m     21\u001b[0m         \u001b[38;5;28;01mraise\u001b[39;00m \u001b[38;5;167;01mValueError\u001b[39;00m(\u001b[38;5;124m'\u001b[39m\u001b[38;5;124mWidth must be greater than zero!\u001b[39m\u001b[38;5;124m'\u001b[39m)\n\u001b[0;32m     22\u001b[0m \u001b[38;5;28;01melse\u001b[39;00m:\n\u001b[1;32m---> 23\u001b[0m     \u001b[38;5;28;01mraise\u001b[39;00m \u001b[38;5;167;01mTypeError\u001b[39;00m(\u001b[38;5;124m'\u001b[39m\u001b[38;5;124mWrong datatype for width!\u001b[39m\u001b[38;5;124m'\u001b[39m)\n",
      "\u001b[1;31mTypeError\u001b[0m: Wrong datatype for width!"
     ]
    }
   ],
   "source": [
    "# skriver jag såhär kommer setter-metoden för width att köras\n",
    "\n",
    "min_rektangel.width = [100]"
   ]
  },
  {
   "cell_type": "markdown",
   "metadata": {},
   "source": [
    "_____\n",
    "\n",
    "Det är väldigt bra practise, försök alltid att göra det, att sätta property och setters för alla era attribut."
   ]
  },
  {
   "cell_type": "code",
   "execution_count": 92,
   "metadata": {},
   "outputs": [],
   "source": [
    "class Rectangle:\n",
    "\n",
    "    def __init__(self, width, height):\n",
    "\n",
    "        self.width = width\n",
    "        self.height = height\n",
    "\n",
    "    @property\n",
    "    def width(self):\n",
    "        return self.__width\n",
    "    \n",
    "    @property\n",
    "    def height(self):\n",
    "        return self.__height\n",
    "    \n",
    "    @width.setter\n",
    "    def width(self, width):\n",
    "\n",
    "        if isinstance(width, float) or isinstance(width, int):            \n",
    "            if width > 0:\n",
    "                self.__width = width\n",
    "            else:\n",
    "                raise ValueError('Width must be greater than zero!')\n",
    "        else:\n",
    "            raise TypeError('Wrong datatype for width!')\n",
    "        \n",
    "    @height.setter\n",
    "    def height(self, height):\n",
    "\n",
    "        if isinstance(height, float) or isinstance(height, int):            \n",
    "            if height > 0:\n",
    "                self.__height = height\n",
    "            else:\n",
    "                raise ValueError('height must be greater than zero!')\n",
    "        else:\n",
    "            raise TypeError('Wrong datatype for height!')\n",
    "    \n",
    "    def presentation(self):\n",
    "        \n",
    "        return f'Bredden på rektangeln är {self.width} och höjden är {self.height}'"
   ]
  }
 ],
 "metadata": {
  "kernelspec": {
   "display_name": "introduktion",
   "language": "python",
   "name": "python3"
  },
  "language_info": {
   "codemirror_mode": {
    "name": "ipython",
    "version": 3
   },
   "file_extension": ".py",
   "mimetype": "text/x-python",
   "name": "python",
   "nbconvert_exporter": "python",
   "pygments_lexer": "ipython3",
   "version": "3.12.4"
  }
 },
 "nbformat": 4,
 "nbformat_minor": 2
}
