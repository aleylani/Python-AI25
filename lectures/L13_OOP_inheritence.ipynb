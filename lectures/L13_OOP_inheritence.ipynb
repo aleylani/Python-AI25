{
 "cells": [
  {
   "cell_type": "markdown",
   "metadata": {},
   "source": [
    "# Inheritence in Python"
   ]
  },
  {
   "cell_type": "markdown",
   "metadata": {},
   "source": [
    "Arv (som i ARVid på Svenska) :) \n",
    "\n",
    "Vi ska nu lära oss om hur vi kan skapa sub-klasser till våra klasser.\n",
    "\n",
    "Vad är en sub-klass (även kallad child class)? \n",
    "\n",
    "En sub-klass kan man tänka sig är en mer specifik version av ursprungsklassen (även kallad parent class).\n",
    "\n",
    "Sub-klassen kommer att bete sig som sin förälder, men kan även ha vissa unika egenskaper."
   ]
  },
  {
   "cell_type": "markdown",
   "metadata": {},
   "source": [
    "*Exempel*"
   ]
  },
  {
   "cell_type": "code",
   "execution_count": 11,
   "metadata": {},
   "outputs": [],
   "source": [
    "class Vehicles:\n",
    "\n",
    "    '''This is a class for different types of vehicles.'''\n",
    "\n",
    "    def __init__(self, brand: str, model: str, mode: str, model_year: str):\n",
    "         \n",
    "        self.brand = brand\n",
    "        self.model = model\n",
    "        self.mode = mode\n",
    "        self.model_year = model_year\n",
    "\n",
    "    def info(self) -> str:\n",
    "\n",
    "        return f'This {self.model} is a {self.mode}-based vehicle made by {self.brand}, built {self.model_year}.'\n",
    "\n",
    "    def make_some_noice(self) -> str:\n",
    "\n",
    "        return 'Vroom vroom!'"
   ]
  },
  {
   "cell_type": "code",
   "execution_count": null,
   "metadata": {},
   "outputs": [],
   "source": [
    "a_vehicle = Vehicles('Volvo', 'XC40 Recharge', 'land', '2023')\n",
    "\n",
    "print(a_vehicle.info())\n",
    "print(a_vehicle.make_some_noice())"
   ]
  },
  {
   "cell_type": "code",
   "execution_count": null,
   "metadata": {},
   "outputs": [],
   "source": [
    "another_vehicle = Vehicles('Saab', 'Jas 39 Gripen', 'air', '2005')\n",
    "\n",
    "print(another_vehicle.info())\n",
    "print(another_vehicle.make_some_noice())"
   ]
  },
  {
   "cell_type": "markdown",
   "metadata": {},
   "source": [
    "Nu vill vi skapa en child-class till parent-class:en Vehicles.\n",
    "\n",
    "Vi kommer nu skapa en Airplanes class. Airplanes är ju en specifik typ av fordon. Airplanes har alla egenskaper som ett generellt fordon har, men kanske har vissa unika egenskaper som inte andra specifika typer av fordon har.\n",
    "\n",
    "Vad täcks under fordon?\n",
    "\n",
    "Flygplan, Bilar, Lastbilar, Båtar, Motorcycklar osv...\n",
    "\n",
    "Alla dessa delar vissa egenskapar, såsom exempelvis att alla förmodligen har ett modell-namn, ett märke, ett byggnadsår, minst en motor osv."
   ]
  },
  {
   "cell_type": "markdown",
   "metadata": {},
   "source": [
    "_____\n"
   ]
  },
  {
   "cell_type": "markdown",
   "metadata": {},
   "source": [
    "Nu ska vi bygga vidare på vår Vehicle class, och bygga en child class som vi kallar för Airplanes. \n",
    "\n",
    "Vi kommer se att Airplanes klassen \"ärver\" från Vehicles classen."
   ]
  },
  {
   "cell_type": "code",
   "execution_count": 35,
   "metadata": {},
   "outputs": [],
   "source": [
    "class Airplanes(Vehicles):   # inom parantes markerar vi för Python vilken klass vi vill att vår nya klass\n",
    "                             # ska ärva ifrån\n",
    "\n",
    "    '''This is a class for different types of airplanes.'''\n",
    "\n",
    "    def __init__(self, brand: str, model: str, mode: str, model_year: str, top_air_speed: float):\n",
    "\n",
    "        super().__init__(brand, model, mode, model_year)   # generella parent-klass attribut\n",
    "\n",
    "        self.top_air_speed = top_air_speed                 # klass-unikt attribut\n",
    "\n",
    "\n",
    "    def make_a_wheelbarrow(self):\n",
    "\n",
    "        return f'Omg my passengars are not feeling well...'"
   ]
  },
  {
   "cell_type": "markdown",
   "metadata": {},
   "source": [
    "Vi ser nedan att vår instans ärver attribut från huvudklassen.\n",
    "\n",
    "Detta pga av att super().__ init __() anropas i child-klassen. Då kommer __ init __ från huvudklassen att köras och skapa alla de attributen även i vår child-klass instans."
   ]
  },
  {
   "cell_type": "code",
   "execution_count": null,
   "metadata": {},
   "outputs": [],
   "source": [
    "my_toy_airplane = Airplanes('Airbus', 'A320', 'air', '2010', 0.7)\n",
    "\n",
    "print(my_toy_airplane.brand)\n",
    "print(my_toy_airplane.model)\n",
    "print(my_toy_airplane.mode)\n",
    "print(my_toy_airplane.model_year)\n",
    "print(my_toy_airplane.top_air_speed)   # Airplane unikt attribut"
   ]
  },
  {
   "cell_type": "markdown",
   "metadata": {},
   "source": [
    "När vi ärver så ärver vi inte bara attribut, vi ärver även alla metoder!"
   ]
  },
  {
   "cell_type": "code",
   "execution_count": null,
   "metadata": {},
   "outputs": [],
   "source": [
    "print(my_toy_airplane.info())\n",
    "print(my_toy_airplane.make_some_noice())"
   ]
  },
  {
   "cell_type": "markdown",
   "metadata": {},
   "source": [
    "Men, vi har också klassunika metoder!"
   ]
  },
  {
   "cell_type": "code",
   "execution_count": null,
   "metadata": {},
   "outputs": [],
   "source": [
    "print(my_toy_airplane.make_a_wheelbarrow())"
   ]
  },
  {
   "cell_type": "markdown",
   "metadata": {},
   "source": [
    "____"
   ]
  },
  {
   "cell_type": "markdown",
   "metadata": {},
   "source": [
    "Det går att ha fler child-classes!\n",
    "\n",
    "Vi hade ovan att Airplane var en child till Vehicle, men vi skulle enkelt kunna skapa ett till oberoende chil-class till Vechile."
   ]
  },
  {
   "cell_type": "code",
   "execution_count": 40,
   "metadata": {},
   "outputs": [],
   "source": [
    "class Boats(Vehicles):\n",
    "\n",
    "    '''This is a class for different types of boats.'''\n",
    "\n",
    "    def __init__(self, brand: str, model: str, mode: str, model_year: str, boat_type: str):\n",
    "\n",
    "        super().__init__(brand, model, mode, model_year)   # generella parent-klass attribut\n",
    "\n",
    "        self.boat_type = boat_type                         # klass-unikt attribut\n",
    "\n",
    "    def getting_raided(self):\n",
    "\n",
    "        return 'Oh no, Capn Jack Sparrow is here :O'"
   ]
  },
  {
   "cell_type": "code",
   "execution_count": null,
   "metadata": {},
   "outputs": [],
   "source": [
    "my_boat = Boats('Buster', 'XY', 'water', '2010', 'motorboat')\n",
    "\n",
    "print(my_boat.brand)\n",
    "print(my_boat.model)\n",
    "print(my_boat.mode)\n",
    "print(my_boat.model_year)\n",
    "print(my_boat.boat_type)     # Boats unikt attribut"
   ]
  },
  {
   "cell_type": "code",
   "execution_count": null,
   "metadata": {},
   "outputs": [],
   "source": [
    "print(my_boat.info())\n",
    "print(my_boat.make_some_noice())"
   ]
  },
  {
   "cell_type": "code",
   "execution_count": null,
   "metadata": {},
   "outputs": [],
   "source": [
    "print(my_boat.getting_raided())"
   ]
  },
  {
   "cell_type": "markdown",
   "metadata": {},
   "source": [
    "____"
   ]
  },
  {
   "cell_type": "markdown",
   "metadata": {},
   "source": [
    "Obs! En underklass **kan** överskriva både attribut och metoder från sin förälderklass."
   ]
  },
  {
   "cell_type": "code",
   "execution_count": 48,
   "metadata": {},
   "outputs": [],
   "source": [
    "class MotorCycles(Vehicles):\n",
    "\n",
    "    def __init__(self, brand: str, model: str, mode: str, \n",
    "                 model_year: str, motor_size: float, top_speed: float):\n",
    "\n",
    "        super().__init__(brand, model, mode, model_year)\n",
    "\n",
    "        self.motor_size = motor_size\n",
    "        self.top_speed = top_speed\n",
    "\n",
    "    def make_some_noice(self):\n",
    "\n",
    "        return f'Crazy ride, yall!'        "
   ]
  },
  {
   "cell_type": "code",
   "execution_count": null,
   "metadata": {},
   "outputs": [],
   "source": [
    "my_bike = MotorCycles('Kawasaki', 'Ninja ER6-f', 'land', '2012', 0.6, 250)\n",
    "\n",
    "print(my_bike.info())\n",
    "print(my_bike.make_some_noice())        # nu har jag skrivit över huvudklassens metod, med en unik för\n",
    "                                        # denna underklass."
   ]
  },
  {
   "cell_type": "code",
   "execution_count": null,
   "metadata": {},
   "outputs": [],
   "source": [
    "my_toy_airplane.make_some_noice()"
   ]
  },
  {
   "cell_type": "markdown",
   "metadata": {},
   "source": [
    "____"
   ]
  },
  {
   "cell_type": "markdown",
   "metadata": {},
   "source": [
    "*Uppgift*\n",
    "\n",
    "* Skapa en huvudklass som heter Djur.\n",
    "    \n",
    "    Låt den ha minst 3 attribut. Ni bestämmer helt själva vilka. Skapa även tre metoder, utöver __ init __.\n",
    "\n",
    "\n",
    "* Skapa sedan två separata underklasser som ärver från Djur-klassen. Kalla dessa Fiskar respektive Apor.\n",
    "\n",
    "    Ni bestämmer själva hur ni ska konfigurera underklasserna, men ni ska som MINST uttöka föräldraklassens funktionalitet med en metod och två attribut.\n",
    "    \n"
   ]
  },
  {
   "cell_type": "code",
   "execution_count": null,
   "metadata": {},
   "outputs": [],
   "source": [
    "import random\n",
    "\n",
    "frivilliga_kandidater = ['Isak F', 'Sunny V', 'Christian A', 'Olov O', 'John K']\n",
    "\n",
    "# random.choice väljer en \"random\" från givna listan\n",
    "utvald = random.choice(frivilliga_kandidater)\n",
    "\n",
    "print(f'Grattis {utvald}, du presenterar!')"
   ]
  }
 ],
 "metadata": {
  "kernelspec": {
   "display_name": "introduktion",
   "language": "python",
   "name": "python3"
  },
  "language_info": {
   "codemirror_mode": {
    "name": "ipython",
    "version": 3
   },
   "file_extension": ".py",
   "mimetype": "text/x-python",
   "name": "python",
   "nbconvert_exporter": "python",
   "pygments_lexer": "ipython3",
   "version": "3.12.4"
  }
 },
 "nbformat": 4,
 "nbformat_minor": 2
}
