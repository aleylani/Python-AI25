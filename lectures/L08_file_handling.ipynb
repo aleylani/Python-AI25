{
 "cells": [
  {
   "cell_type": "markdown",
   "metadata": {},
   "source": [
    "<a href=\"https://colab.research.google.com/github/aleylani/Python-AI25/blob/main/lectures/L08_file_handling.ipynb\" target=\"_parent\"><img src=\"https://colab.research.google.com/assets/colab-badge.svg\" alt=\"Open In Colab\"/></a>"
   ]
  },
  {
   "cell_type": "markdown",
   "metadata": {},
   "source": [
    "## File handling"
   ]
  },
  {
   "cell_type": "markdown",
   "metadata": {},
   "source": [
    "Ofta vill vi läsa av data från externa filer/databaser och jobba vidare med de i Python. \n",
    "\n",
    "Idag ska vi lära oss grunderna i filhantering, dvs enkla metoder att läsa in data på från textfiler. Vi ska också lära oss att skriva till textfiler."
   ]
  },
  {
   "cell_type": "markdown",
   "metadata": {},
   "source": [
    "\n",
    "```\n",
    "option\n",
    "- \"r\" - read\n",
    "- \"w\" - write - opens a file for writing, creates it if it doesn't exist\n",
    "- \"a\" - append, creates the file if it doesn't exist\n",
    "- \"x\" - create - creates a file, error if it already exists\n",
    "\n",
    "```"
   ]
  },
  {
   "cell_type": "markdown",
   "metadata": {},
   "source": [
    "## read\n",
    "\n",
    "Hur läser vi in från en textfil?"
   ]
  },
  {
   "cell_type": "code",
   "execution_count": null,
   "metadata": {},
   "outputs": [],
   "source": [
    "path = \"../data/quotes.txt\"\n",
    "\n",
    "with open(path, 'r') as f:\n",
    "\n",
    "    text = f.read()"
   ]
  },
  {
   "cell_type": "markdown",
   "metadata": {},
   "source": [
    "Python läser in filen EXAKT som den är"
   ]
  },
  {
   "cell_type": "code",
   "execution_count": null,
   "metadata": {},
   "outputs": [],
   "source": [
    "print(text)"
   ]
  },
  {
   "cell_type": "markdown",
   "metadata": {},
   "source": [
    "Men, vad är det vi exakt har läst in då?"
   ]
  },
  {
   "cell_type": "code",
   "execution_count": null,
   "metadata": {},
   "outputs": [],
   "source": [
    "type(text)"
   ]
  },
  {
   "cell_type": "code",
   "execution_count": null,
   "metadata": {},
   "outputs": [],
   "source": [
    "text"
   ]
  },
  {
   "cell_type": "markdown",
   "metadata": {},
   "source": [
    "Om ni tar print(text) kommer ju alla \\n bli nya rader!"
   ]
  },
  {
   "cell_type": "markdown",
   "metadata": {},
   "source": [
    "När ni väl har läst in vår textfil är det en helt vanlig sträng, och ni kan nu göra precis vad ni vill med den!"
   ]
  },
  {
   "cell_type": "markdown",
   "metadata": {},
   "source": [
    "**OBS**"
   ]
  },
  {
   "cell_type": "markdown",
   "metadata": {},
   "source": [
    "Vi valde att läsa in texten med hjälp av en with-sats som ovan, men egentligen finns det ett mer grundläggande sätt att göra det på"
   ]
  },
  {
   "cell_type": "code",
   "execution_count": null,
   "metadata": {},
   "outputs": [],
   "source": [
    "path = \"../data/quotes.txt\"\n",
    "\n",
    "f = open(path, 'r')\n",
    "\n",
    "alternativ_text = f.read()\n",
    "\n",
    "f.close()                      # detta stänger Pythons access till filen, och vi har inte längre risk för att göra filen korrupt"
   ]
  },
  {
   "cell_type": "code",
   "execution_count": null,
   "metadata": {},
   "outputs": [],
   "source": [
    "print(alternativ_text)"
   ]
  },
  {
   "cell_type": "markdown",
   "metadata": {},
   "source": [
    "**OBS**\n",
    "\n",
    "Det är mycket bättre att använda with open(path, 'r') as f, iom att den metoden automatiskt sköter close() åt oss. "
   ]
  },
  {
   "cell_type": "markdown",
   "metadata": {},
   "source": [
    "## write"
   ]
  },
  {
   "cell_type": "markdown",
   "metadata": {},
   "source": [
    "Ibland vill man inte bara läsa, utan även skriva till filer!"
   ]
  },
  {
   "cell_type": "code",
   "execution_count": null,
   "metadata": {},
   "outputs": [],
   "source": [
    "path = 'names.txt'\n",
    "\n",
    "names = ['Amir', 'Rozann', 'Ali']\n",
    "\n",
    "with open(path, 'w') as f:\n",
    "\n",
    "    f.write(str(names))"
   ]
  },
  {
   "cell_type": "markdown",
   "metadata": {},
   "source": [
    "**OBS** det vi skriver till textfiler MÅSTE vara strängar"
   ]
  },
  {
   "cell_type": "code",
   "execution_count": null,
   "metadata": {},
   "outputs": [],
   "source": [
    "path = 'names.txt'\n",
    "\n",
    "names = ['Amir', 'Rozann', 'Ali']\n",
    "\n",
    "with open(path, 'w') as f:\n",
    "\n",
    "    f.write(names)"
   ]
  },
  {
   "cell_type": "markdown",
   "metadata": {},
   "source": [
    "Coolt, men detta var inte riktigt det jag ville göra. Jag ville skriva alla namnen för sig, och inte hela listan"
   ]
  },
  {
   "cell_type": "code",
   "execution_count": null,
   "metadata": {},
   "outputs": [],
   "source": [
    "path = 'names.txt'\n",
    "\n",
    "names = ['Amir', 'Rozann', 'Ali']\n",
    "\n",
    "with open(path, 'w') as f:\n",
    "\n",
    "    for name in names:\n",
    "\n",
    "        to_write = f'{name}\\n\\n'          # \\n gör en ny rad i textfilen\n",
    "\n",
    "        f.write(to_write)"
   ]
  },
  {
   "cell_type": "markdown",
   "metadata": {},
   "source": [
    "**OBS** lägg märkte till att write ALLTID raderar allt existerande i er textfil (om det finns något i den) och skriver över den med det du vill att Python ska skriva"
   ]
  },
  {
   "cell_type": "markdown",
   "metadata": {},
   "source": [
    "## append"
   ]
  },
  {
   "cell_type": "markdown",
   "metadata": {},
   "source": [
    "append används när man inte vill radera all existerande data, utan vill lägga till saker"
   ]
  },
  {
   "cell_type": "code",
   "execution_count": null,
   "metadata": {},
   "outputs": [],
   "source": [
    "path = 'names.txt'\n",
    "\n",
    "fruits = ['Watermelon', 'Papaya', 'Strawberry']\n",
    "\n",
    "with open(path, 'a') as f:\n",
    "\n",
    "    for fruit in fruits:\n",
    "\n",
    "        to_write = f'{fruit}\\n\\n'\n",
    "\n",
    "        f.write(to_write)"
   ]
  },
  {
   "cell_type": "markdown",
   "metadata": {},
   "source": [
    "## create"
   ]
  },
  {
   "cell_type": "code",
   "execution_count": null,
   "metadata": {},
   "outputs": [],
   "source": [
    "path = 'test.txt'\n",
    "\n",
    "with open(path, 'x') as f:\n",
    "\n",
    "    pass"
   ]
  },
  {
   "cell_type": "markdown",
   "metadata": {},
   "source": [
    "## pass"
   ]
  },
  {
   "cell_type": "markdown",
   "metadata": {},
   "source": [
    "när python ser pass gör den ingenting, den hoppar helt över och förtsätter\n",
    "\n",
    "pass är ett kommando för python att helt enkelt 'passera'"
   ]
  },
  {
   "cell_type": "code",
   "execution_count": null,
   "metadata": {},
   "outputs": [],
   "source": [
    "number = 20\n",
    "\n",
    "if number < 30:\n",
    "\n",
    "    pass                            # ibland vill man inte att python gör något, och när Python ändå förväntar sig ett indenterat block \n",
    "                                    # så går det bra att använda pass för att åstadkomma just det, att inte göra något\n",
    "\n",
    "else: \n",
    "\n",
    "    print('Wow, du har ett högt nummer')"
   ]
  },
  {
   "cell_type": "code",
   "execution_count": null,
   "metadata": {},
   "outputs": [],
   "source": []
  }
 ],
 "metadata": {
  "kernelspec": {
   "display_name": "deeplearning",
   "language": "python",
   "name": "python3"
  },
  "language_info": {
   "codemirror_mode": {
    "name": "ipython",
    "version": 3
   },
   "file_extension": ".py",
   "mimetype": "text/x-python",
   "name": "python",
   "nbconvert_exporter": "python",
   "pygments_lexer": "ipython3",
   "version": "3.11.4"
  },
  "orig_nbformat": 4
 },
 "nbformat": 4,
 "nbformat_minor": 2
}
