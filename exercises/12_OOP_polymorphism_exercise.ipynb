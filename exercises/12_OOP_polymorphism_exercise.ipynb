{
  "cells": [
    {
      "cell_type": "markdown",
      "metadata": {
        "colab_type": "text",
        "id": "view-in-github"
      },
      "source": [
        "<a href=\"https://colab.research.google.com/github/aleylani/Python-AI25/blob/main/exercises/12_OOP_polymorphism_exercise.ipynb\" target=\"_parent\"><img src=\"https://colab.research.google.com/assets/colab-badge.svg\" alt=\"Open In Colab\"/></a>"
      ]
    },
    {
      "cell_type": "markdown",
      "metadata": {
        "id": "IVncMQkYRamR"
      },
      "source": [
        "# OOP exercises - inheritance and polymorphism\n",
        "\n",
        "---\n",
        "These are introductory exercises in Python with focus in **Object oriented programming**.\n",
        "\n",
        "<p class = \"alert alert-info\" role=\"alert\"><b>Remember</b> to use <b>descriptive variable, function and class names</b> in order to get readable code </p>\n",
        "\n",
        "<p class = \"alert alert-info\" role=\"alert\"><b>Remember</b> to format your answers in a neat way using <b>f-strings</b></p>\n",
        "\n",
        "<p class = \"alert alert-info\" role=\"alert\"><b>Remember</b> to format your input questions in a pedagogical way to guide the user</p>\n",
        "\n",
        "<p class = \"alert alert-info\" role=\"alert\"><b>Remember</b> to write good docstrings for your methods and classes </p>\n",
        "\n",
        "The number of stars (\\*), (\\*\\*), (\\*\\*\\*) denotes the difficulty level of the task\n",
        "\n",
        "---"
      ]
    },
    {
      "cell_type": "markdown",
      "metadata": {
        "id": "0LmdhIcCRamT"
      },
      "source": [
        "## 1. Movie (*)\n",
        "\n",
        "Create a Movie class with the following functionality:\n",
        "\n",
        "It should be able to accept 4 arguments\n",
        "\n",
        "    name, genre, IMDB-rating, duration (in minutes)\n",
        "\n",
        "Use the following code to test your program.\n",
        "\n",
        "```python\n",
        "pokemon = Movie(\"Pokemon\", \"Cartoon\", 4.5, 94)\n",
        "titanic = Movie(\"Titanic\", \"Romance\", 4.7, 120)\n",
        "code = Movie(\"The Code\", \"Math\", 4, 82)\n",
        "\n",
        "```\n",
        "\n",
        "Now, create a method called info() that accomplishes the following\n",
        "\n",
        "    for i in [pokemon, titanic, code]:\n",
        "        print(i.info())\n",
        "        \n",
        "    Movie with title Pokemon, genre Cartoon, rating 4.5, duration 94 minutes\n",
        "\n",
        "    Movie with title Titanic, genre Romance, rating 4.7, duration 120 minutes\n",
        "\n",
        "    Movie with title The Code, genre Math and rating 4, duration 82 minutes\n",
        "```"
      ]
    },
    {
      "cell_type": "markdown",
      "metadata": {},
      "source": [
        "\n",
        "Additionally overload the + operator so that we can see how long any given combination of movies is. For example:\n",
        "\n",
        "    pokemon + titanic\n",
        "\n",
        "should yield\n",
        "\n",
        "    The movies Pokemon and Titanic, together, have a total playtime of 94 + 120 = 214 minutes."
      ]
    },
    {
      "cell_type": "markdown",
      "metadata": {},
      "source": [
        "Finally, implement type hints and make your attributes into @properties. \n",
        "\n",
        "Also define setters for the attributes. Make sure to implement checks for the attributes, so that they are of the expected type and format. "
      ]
    },
    {
      "cell_type": "markdown",
      "metadata": {
        "id": "bRQQ_JfxRamT"
      },
      "source": [
        "---\n",
        "## 2. Fraction (**)\n",
        "\n",
        "Create a class called Frac to represent mathematical fractions. The class is instantiated with two instance variables: nominator and denominator. Objects instantiated from this class should have methods for addition, subtraction, multiplication, division using the operators +,-,*,/. Note that these implemented methods must be mathematically correct. Also implement the following methods:\n",
        "\n",
        "```python\n",
        "\n",
        "__repr__(self) # represent the fraction in an unambigious way when printing\n",
        "\n",
        "mixed(self) # represent the fraction in mixed terms\n",
        "\n",
        "__eq__(self, other) # checks equality by overloading ==\n",
        "\n",
        "simplify(self) # simplifies the fraction to its most simple form (with all common divisors removed) \n",
        "\n",
        "```\n",
        "\n",
        "Also remember to handle errors and validations.\n",
        "\n",
        "Example of tests that it should handled:\n",
        "\n",
        "- 1/2 + 1/3 = 5/6\n",
        "- 1/2 - 1/3 = 1/6\n",
        "- 7/6 --> 1 1/6 (mixed)\n",
        "- 3*1/2 = 3/2\n",
        "- 1/2 * 3 = 3/2\n",
        "- 1/4 + 2 = 9/4\n",
        "- 1/4 / 1/2 = 1/2\n",
        "- 2/4 == 1/2 --> True\n",
        "- 3/4 += 2 = 11/4\n",
        "\n",
        "</details>\n"
      ]
    }
  ],
  "metadata": {
    "colab": {
      "include_colab_link": true,
      "provenance": []
    },
    "kernelspec": {
      "display_name": "Python 3 (ipykernel)",
      "language": "python",
      "name": "python3"
    },
    "language_info": {
      "codemirror_mode": {
        "name": "ipython",
        "version": 3
      },
      "file_extension": ".py",
      "mimetype": "text/x-python",
      "name": "python",
      "nbconvert_exporter": "python",
      "pygments_lexer": "ipython3",
      "version": "3.12.4"
    },
    "vscode": {
      "interpreter": {
        "hash": "0da836a34428266995a795f1e1e27b816fa1c02f148d9728b3fbbbc5459afca6"
      }
    }
  },
  "nbformat": 4,
  "nbformat_minor": 0
}
