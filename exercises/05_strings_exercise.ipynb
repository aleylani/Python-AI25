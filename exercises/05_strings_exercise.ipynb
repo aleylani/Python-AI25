{
  "cells": [
    {
      "cell_type": "markdown",
      "metadata": {
        "colab_type": "text",
        "id": "view-in-github"
      },
      "source": [
        "<a href=\"https://colab.research.google.com/github/aleylani/Python-AI25/blob/main/exercises/05_strings_exercise.ipynb\" target=\"_parent\"><img src=\"https://colab.research.google.com/assets/colab-badge.svg\" alt=\"Open In Colab\"/></a>"
      ]
    },
    {
      "cell_type": "markdown",
      "metadata": {
        "id": "4uEpN9NNQhJc"
      },
      "source": [
        "# strings exercises\n",
        "\n",
        "---\n",
        "These are introductory exercises in Python with focus in **strings**.\n",
        "\n",
        "<p class = \"alert alert-info\" role=\"alert\"><b>Remember</b> to use <b>descriptive variable names</b> in order to get readable code </p>\n",
        "\n",
        "<p class = \"alert alert-info\" role=\"alert\"><b>Remember</b> to format your answers in a neat way using <b>f-strings</b>\n",
        "\n",
        "<p class = \"alert alert-info\" role=\"alert\"><b>Remember</b> to format your input questions in a pedagogical way to guide the user\n",
        "\n",
        "The number of stars (\\*), (\\*\\*), (\\*\\*\\*) denotes the difficulty level of the task\n",
        "\n",
        "---"
      ]
    },
    {
      "cell_type": "markdown",
      "metadata": {
        "id": "_dOqDDyDQhJd"
      },
      "source": [
        "## 1. Counting letters (*)\n",
        "\n",
        "Let the user input a word:\n",
        "\n",
        "&nbsp; a) &nbsp; print out the number of letters in the word. (*)\n",
        "  \n",
        "&nbsp; b) &nbsp; print out the number of **uppercase** and **lowercase** letters of the word (*)   \n"
      ]
    },
    {
      "cell_type": "markdown",
      "metadata": {
        "id": "ubDgfpYrQhJe"
      },
      "source": [
        "---\n",
        "## 2. Counting words (*)\n",
        "\n",
        "Count the number of words in this sentence: \"A picture says more than a thousand words, a matematical formula says more than a thousand pictures.\" (*)\n",
        "\n",
        "<details>\n",
        "\n",
        "<summary>Answer</summary>\n",
        "\n",
        "```\n",
        "There are 17 words in that sentence\n",
        "```"
      ]
    },
    {
      "cell_type": "markdown",
      "metadata": {
        "id": "ZqvDvKPRQhJe"
      },
      "source": [
        "---\n",
        "## 3. Palindrome (*)\n",
        "\n",
        "A palindrome is a sequence of characters that is the same, when read forward as backwards (ignoring spaces). For example:\n",
        "- \"Anna\" is a palindrome\n",
        "- \"Ni talar bra latin\"\n",
        "- bjkjb\n",
        "\n",
        "Let the user input a sequence of characters and check if it is a palindrome. (*)"
      ]
    },
    {
      "cell_type": "markdown",
      "metadata": {
        "id": "K0MbPLPQQhJe"
      },
      "source": [
        "---\n",
        "## 4. Vowels (**)\n",
        "\n",
        "Count the number of vowels in this sentence: \"Pure mathematics is, in its way, the poetry of logical ideas\"\n",
        "\n",
        "<details>\n",
        "\n",
        "<summary>Answer</summary>\n",
        "\n",
        "```\n",
        "\n",
        "There are 22 vowels in this sentence\n",
        "\n",
        "```\n",
        "</details>"
      ]
    },
    {
      "cell_type": "markdown",
      "metadata": {
        "id": "YCkksJpfQhJe"
      },
      "source": [
        "---\n",
        "## 5. Encryption (**)\n",
        "\n",
        "Let the user input a word and:\n",
        "\n",
        "&nbsp; a) &nbsp; encrypt the message by replacing each letter with the next letter. If the letter is in the end of the alphabet, use the first letter instead.\n",
        "\n",
        "e.g. in Swedish: \"höst\" $\\rightarrow$ \"iatu\"\n",
        "\n",
        "&nbsp; b) &nbsp; decrypt the message\n",
        "\n",
        "&nbsp; c) &nbsp; let the user choose either encryption or decryption."
      ]
    }
  ],
  "metadata": {
    "colab": {
      "include_colab_link": true,
      "provenance": []
    },
    "kernelspec": {
      "display_name": "Python 3 (ipykernel)",
      "language": "python",
      "name": "python3"
    },
    "language_info": {
      "codemirror_mode": {
        "name": "ipython",
        "version": 3
      },
      "file_extension": ".py",
      "mimetype": "text/x-python",
      "name": "python",
      "nbconvert_exporter": "python",
      "pygments_lexer": "ipython3",
      "version": "3.8.13"
    },
    "vscode": {
      "interpreter": {
        "hash": "0da836a34428266995a795f1e1e27b816fa1c02f148d9728b3fbbbc5459afca6"
      }
    }
  },
  "nbformat": 4,
  "nbformat_minor": 0
}
