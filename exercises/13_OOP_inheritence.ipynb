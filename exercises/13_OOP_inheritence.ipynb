{
 "cells": [
  {
   "cell_type": "markdown",
   "metadata": {},
   "source": [
    "Uppgift:\n",
    "\n",
    "- Skapa en huvudklass som heter Flygplan\n",
    "\n",
    "        Låt den ha minst 3 attribut samt 3 metoder (utöver init)\n",
    "\n",
    "- Skapa sedan två separata underklasser som ärver från Flygplan\n",
    "\n",
    "        Låt den en heta Militärflygplan & den andra Passagerarflygplan\n",
    "\n",
    "- Utöver ovan, skapa ytterligare en underklass till Militärflygplan, \n",
    "        \n",
    "        kalla den ex. Stridsflygplan\n",
    "\n",
    "Ni bestämmer själva hur ni ska konfigurera underklasserna men ni ska MINST uttöka deras funktionaliter relativt huvudklassen\n",
    "\n",
    "        Tips: metoderna och unika attributen som underklasserna har kanske borde vara specifika för just militär- samt passagerarflygplan"
   ]
  },
  {
   "cell_type": "markdown",
   "metadata": {},
   "source": []
  }
 ],
 "metadata": {
  "kernelspec": {
   "display_name": "deeplearning",
   "language": "python",
   "name": "python3"
  },
  "language_info": {
   "codemirror_mode": {
    "name": "ipython",
    "version": 3
   },
   "file_extension": ".py",
   "mimetype": "text/x-python",
   "name": "python",
   "nbconvert_exporter": "python",
   "pygments_lexer": "ipython3",
   "version": "3.11.4"
  }
 },
 "nbformat": 4,
 "nbformat_minor": 2
}
