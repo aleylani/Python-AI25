{
  "cells": [
    {
      "cell_type": "markdown",
      "metadata": {
        "colab_type": "text",
        "id": "view-in-github"
      },
      "source": [
        "<a href=\"https://colab.research.google.com/github/aleylani/Python-AI25/blob/main/exercises/11_OOP_basic_exercise.ipynb\" target=\"_parent\"><img src=\"https://colab.research.google.com/assets/colab-badge.svg\" alt=\"Open In Colab\"/></a>"
      ]
    },
    {
      "cell_type": "markdown",
      "metadata": {
        "id": "c51bqkH1RTxf"
      },
      "source": [
        "# OOP introductory exercises\n",
        "\n",
        "---\n",
        "These are introductory exercises in Python with focus in **Object oriented programming**.\n",
        "\n",
        "<p class = \"alert alert-info\" role=\"alert\"><b>Remember</b> to use <b>descriptive variable, function and class names</b> in order to get readable code </p>\n",
        "\n",
        "<p class = \"alert alert-info\" role=\"alert\"><b>Remember</b> to format your answers in a neat way using <b>f-strings</b></p>\n",
        "\n",
        "<p class = \"alert alert-info\" role=\"alert\"><b>Remember</b> to format your input questions in a pedagogical way to guide the user</p>\n",
        "\n",
        "<p class = \"alert alert-info\" role=\"alert\"><b>Remember</b> to write good docstrings for your methods and classes </p>\n",
        "\n",
        "The number of stars (\\*), (\\*\\*), (\\*\\*\\*) denotes the difficulty level of the task\n",
        "\n",
        "---"
      ]
    },
    {
      "cell_type": "markdown",
      "metadata": {
        "id": "sYO480M2RTxg"
      },
      "source": [
        "## 1. Unit conversion (*)\n",
        "\n",
        "Create a class for converting US units to the metric system. It should have the following **methods**.\n",
        "\n",
        "```python\n",
        "__init__ (self, value)\n",
        "\n",
        "inch_to_cm(self)\n",
        "\n",
        "foot_to_meters(self)\n",
        "\n",
        "pound_to_kg(self)\n",
        "\n",
        "__repr__(self)\n",
        "\n",
        "```\n",
        "\n",
        "\n",
        "Which attributes do you think this class should have? Hint: try to understand what the methods do.\n",
        "\n",
        "Implement @property and @attribute.setter for each attribute, as we did in class, to ensure that the attribute values are the correct type and format. (*)\n",
        "\n",
        "Test your class manually by instantiating an object from it and test different methods. (*)\n",
        "\n",
        "<details>\n",
        "\n",
        "<summary>Hint</summary>\n",
        "\n",
        "Use the property decorator:\n",
        "- @property\n",
        "\n",
        "You can read about the [units here][units]\n",
        "\n",
        "[units]: https://en.wikipedia.org/wiki/United_States_customary_units\n",
        "\n",
        "Check for:\n",
        "- negative values\n",
        "- types that are not **int** or **float**\n",
        "\n",
        "Use isinstance() to check for type\n",
        "\n",
        "</details>\n",
        "<br>\n",
        "<details>\n",
        "\n",
        "<summary>Answer</summary>\n",
        "For example:\n",
        "\n",
        "```python\n",
        "\n",
        "units = UnitUS(5)\n",
        "print(f\"5 feet = {units.foot_to_meters()} m\")\n",
        "print(f\"5 inch = {units.inch_to_cm()} cm\")\n",
        "print(f\"5 pounds = {units.pound_to_kg()} kg\")\n",
        "\n",
        "```\n",
        "\n",
        "```\n",
        "5 feet = 1.524 m\n",
        "5 inch = 12.7 cm\n",
        "5 pounds = 2.27 kg\n",
        "```\n",
        "</details>\n"
      ]
    },
    {
      "cell_type": "markdown",
      "metadata": {
        "id": "Go43BtLSRTxh"
      },
      "source": [
        "---\n",
        "## 2. Person (*)\n",
        "\n",
        "Create a class named Person with the following attributes, while making sure that they have the following types and values:\n",
        "\n",
        "- name - must be string\n",
        "- age - must be number between 0 and 125\n",
        "- email - must include an @ sign\n",
        "\n",
        "Hint: use TypeError for errors in type, and ValueError for errors in value\n",
        "\n",
        "\n",
        "The class should have a ```__repr__``` method to represent the Person class in an unambigious way.\n",
        "\n",
        "Also create a method ``` say_hello() ``` that prints\n",
        "\n",
        "```\n",
        "Hi, my name is ..., I am ... years old, my email address is ...  \n",
        "```\n",
        "<details>\n",
        "\n",
        "<summary>Hint</summary>\n",
        "\n",
        "Use the property decorator:\n",
        "- @property\n",
        "\n",
        "Use isinstance() to check for type\n",
        "\n",
        "Check for:\n",
        "- negative values\n",
        "- types that are not **int** or **float**\n",
        "\n",
        "\n",
        "</details>\n",
        "<br>\n",
        "<details>\n",
        "\n",
        "<summary>Answer</summary>\n",
        "For example:\n",
        "\n",
        "```python\n",
        "\n",
        "p = Person(\"Pernilla\", 32, \"pernilla@gmail.com\")\n",
        "print(p)\n",
        "\n",
        "```\n",
        "\n",
        "```\n",
        "Person(Pernilla, 32, pernilla@gmail.com)\n",
        "\n",
        "```\n",
        "\n",
        "```python\n",
        "\n",
        "try:\n",
        "    p = Person(\"Pernilla\", 32, \"pernillagmail.com\")\n",
        "except TypeError as ex:\n",
        "    print(ex)\n",
        "except NameError as ex:\n",
        "    print(ex)\n",
        "\n",
        "```\n",
        "\n",
        "```\n",
        "\n",
        "pernillagmail.com is not a valid email, format must be xxxx@yyyy.zzz\n",
        "\n",
        "```\n",
        "</details>\n"
      ]
    },
    {
      "cell_type": "markdown",
      "metadata": {},
      "source": []
    }
  ],
  "metadata": {
    "colab": {
      "include_colab_link": true,
      "provenance": []
    },
    "kernelspec": {
      "display_name": "Python 3 (ipykernel)",
      "language": "python",
      "name": "python3"
    },
    "language_info": {
      "codemirror_mode": {
        "name": "ipython",
        "version": 3
      },
      "file_extension": ".py",
      "mimetype": "text/x-python",
      "name": "python",
      "nbconvert_exporter": "python",
      "pygments_lexer": "ipython3",
      "version": "3.12.4"
    },
    "vscode": {
      "interpreter": {
        "hash": "0da836a34428266995a795f1e1e27b816fa1c02f148d9728b3fbbbc5459afca6"
      }
    }
  },
  "nbformat": 4,
  "nbformat_minor": 0
}
