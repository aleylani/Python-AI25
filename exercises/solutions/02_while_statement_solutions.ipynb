{
  "cells": [
    {
      "cell_type": "markdown",
      "metadata": {
        "colab_type": "text",
        "id": "view-in-github"
      },
      "source": [
        "<a href=\"https://colab.research.google.com/github/aleylani/Python-AI25/blob/main/exercises/solutions/02_while_statement_solutions.ipynb\" target=\"_parent\"><img src=\"https://colab.research.google.com/assets/colab-badge.svg\" alt=\"Open In Colab\"/></a>"
      ]
    },
    {
      "cell_type": "markdown",
      "metadata": {
        "id": "Po7swMETQNgZ"
      },
      "source": [
        "## 1. Count numbers (*)\n",
        "\n",
        "Use a **while** statement to count from -10 to 10 with one increment.\n",
        "\n",
        "<details>\n",
        "\n",
        "<summary>Hint </summary>\n",
        "\n",
        "```python\n",
        "\n",
        "i += 1 # adds one and assigns it to i, equivalent to i = i + 1\n",
        "```\n",
        "\n",
        "</details>\n",
        "<br>\n",
        "<details>\n",
        "\n",
        "<summary>Answer </summary>\n",
        "\n",
        "```\n",
        "\n",
        "-10 -9 -8 -7 -6 -5 -4 -3 -2 -1 0 1 2 3 4 5 6 7 8 9 10\n",
        "```\n",
        "\n",
        "</details>\n"
      ]
    },
    {
      "cell_type": "code",
      "execution_count": null,
      "metadata": {},
      "outputs": [],
      "source": [
        "n = -10\n",
        "\n",
        "while n <= 10:\n",
        "\n",
        "    print(n)\n",
        "    n+=1"
      ]
    },
    {
      "cell_type": "markdown",
      "metadata": {
        "id": "bt8iHnYRQNga"
      },
      "source": [
        "---\n",
        "## 2. Arithmetic sum (*)\n",
        "Use a **while** statement to compute the following sums:\n",
        "\n",
        "&nbsp; a) &nbsp; $\\text{sum} = 1 + 2 + \\ldots + 99+ 100$\n",
        "\n",
        "&nbsp; b) &nbsp; $\\text{sum} = 1 + 3 + 5 + \\ldots + 97 + 99$\n",
        "\n",
        "<details>\n",
        "\n",
        "<summary>Answer </summary>\n",
        "\n",
        "```\n",
        "a) 1 + 2 + ... + 99 + 100 = 5050\n",
        "\n",
        "b) 1 + 3 + 5 +...+ 97 + 99 = 2500\n",
        "```\n",
        "\n",
        "</details>"
      ]
    },
    {
      "cell_type": "markdown",
      "metadata": {},
      "source": [
        "**a)**"
      ]
    },
    {
      "cell_type": "code",
      "execution_count": null,
      "metadata": {},
      "outputs": [],
      "source": [
        "total_sum = 0\n",
        "number_to_add = 1\n",
        "\n",
        "while number_to_add <= 100:           # bryt när number_to_add blir större än 100\n",
        "\n",
        "    total_sum += number_to_add        # addera number_to_add till vår totala summa\n",
        "    \n",
        "    number_to_add += 1                # Öka number_to_add med 1\n",
        "\n",
        "print(f'The total sum is {total_sum}')"
      ]
    },
    {
      "cell_type": "markdown",
      "metadata": {},
      "source": [
        "**b)**"
      ]
    },
    {
      "cell_type": "code",
      "execution_count": null,
      "metadata": {},
      "outputs": [],
      "source": [
        "total_sum = 0\n",
        "number_to_add = 1\n",
        "\n",
        "while number_to_add <= 99:            # bryt när number_to_add blir större än 99\n",
        "\n",
        "    total_sum += number_to_add        # addera number_to_add till vår totala summa\n",
        "    \n",
        "    number_to_add += 2                # Öka number_to_add med 2\n",
        "\n",
        "print(f'The total sum is {total_sum}')"
      ]
    },
    {
      "cell_type": "markdown",
      "metadata": {
        "id": "NxECsk35QNgb"
      },
      "source": [
        "---\n",
        "## 3. Guess number game (*)\n",
        "&nbsp; a) &nbsp; Create a guessing number game following this flow chart:\n",
        "\n",
        "<img align=\"left\" src=\"../../assets/guessing_game.png\" width=\"300\"/>"
      ]
    },
    {
      "cell_type": "markdown",
      "metadata": {
        "id": "ZKtnK2rOQNgc"
      },
      "source": [
        "&nbsp; b) &nbsp; Make an algorithm to automatically guess the correct number. Can you optimize to get as few guesses as possible? (**)\n",
        "\n",
        "<details>\n",
        "\n",
        "<summary>Hint </summary>\n",
        "\n",
        "&nbsp; b) &nbsp; Half your testing number each time\n",
        "\n",
        "</details>"
      ]
    },
    {
      "cell_type": "markdown",
      "metadata": {},
      "source": [
        "**a)**"
      ]
    },
    {
      "cell_type": "code",
      "execution_count": null,
      "metadata": {},
      "outputs": [],
      "source": [
        "import random\n",
        "\n",
        "print('Välkommen! Nu ska du få spela gissa-talet leken :)')\n",
        "\n",
        "integer_to_guess = random.randint(1, 100)                    # genererar ett randomiserat tal i spannet 1-100\n",
        "print('Sådär, jag har nu valt en siffra mellan 1 och 100...')\n",
        "\n",
        "while True:                                                  # upprepa för alltid, fram tills att det avslutas med en break\n",
        "\n",
        "    user_guess = int(input('Gissa talet: '))\n",
        "\n",
        "    if user_guess == integer_to_guess:                       # utför det indenterade kodblocket nedantill om användaren gissat rätt\n",
        "        \n",
        "        print(f'Grattis! Rätt svar är {user_guess}.')\n",
        "        break                                                # avslutar while-loopen\n",
        "\n",
        "    else:\n",
        "        \n",
        "        if user_guess < integer_to_guess:\n",
        "            print('Nja, du måste gissa högre än så...')\n",
        "        \n",
        "        else:\n",
        "            print('Nja, du måste gissa lägre än så...')\n",
        "\n",
        "print('Tack för att du var med och spelade! ') \n",
        "\n"
      ]
    },
    {
      "cell_type": "markdown",
      "metadata": {
        "id": "D3P-6PvDQNgc"
      },
      "source": [
        "---\n",
        "## 4. Multiplication game (*)\n",
        "&nbsp; a) &nbsp; Create a multiplication game following this flow chart:\n",
        "\n",
        "<img align=\"left\" src=\"../../assets/Multiplication_game.png\" width=\"300\"/>"
      ]
    },
    {
      "cell_type": "markdown",
      "metadata": {
        "id": "ScWfGvWxQNgc"
      },
      "source": [
        "&nbsp; b) &nbsp; Add a menu for choosing difficulty level of the game\n",
        "\n",
        "&nbsp; c) &nbsp; Feel free to extend this program with features of your choice."
      ]
    },
    {
      "cell_type": "markdown",
      "metadata": {},
      "source": [
        "**a)**"
      ]
    },
    {
      "cell_type": "code",
      "execution_count": null,
      "metadata": {},
      "outputs": [],
      "source": [
        "print('Välkommen till gissa talet! Spelet där du ska gissa produkten mellan två tal.')\n",
        "\n",
        "user_score = 0\n",
        "\n",
        "while True:                                     # upprepa för alltid, fram tills att det avslutas med en break\n",
        "\n",
        "    x = random.randint(1, 10)\n",
        "    y = random.randint(1, 10)\n",
        "\n",
        "    correct_answer = x*y\n",
        "\n",
        "    user_guess = int(input(f'Vad är {x}*{y}?: '))\n",
        "\n",
        "    if user_guess == correct_answer:\n",
        "\n",
        "        print(f'Bra jobbat! {x}*{y} är {user_guess}.')\n",
        "        user_score += 1\n",
        "    \n",
        "    else:\n",
        "\n",
        "        print(f'Nja.. {x}*{y} är inte {user_guess}.')\n",
        "\n",
        "    play_again = input('Vill du spela igen? Ja eller Nej')\n",
        "\n",
        "    if play_again == 'Nej':\n",
        "        \n",
        "        break                                    # hoppar ur while-loopen om användaren inte vill spela längre\n",
        "\n",
        "print('Tack för att du var med och spelade vårt spel!')\n",
        "print(f'Din slutgiltiga poäng är {user_score}.')"
      ]
    },
    {
      "cell_type": "markdown",
      "metadata": {},
      "source": [
        "**b)**\n",
        "\n",
        "Vi får möjligheten att göra spela svårare hur vi vill, och därför kan vi exempelvis välja att låta användaren själv välja i vilket spann som vi ska randomisera siffror ur."
      ]
    },
    {
      "cell_type": "code",
      "execution_count": null,
      "metadata": {},
      "outputs": [],
      "source": [
        "print('Välkommen till gissa talet! Spelet där du ska gissa produkten mellan två tal.')\n",
        "\n",
        "lower_limit = int( input('Välj undre gräns på tal som vi ska multiplicera') )\n",
        "upper_limit = int( input('Välj övre gräns på tal som vi ska multiplicera') )\n",
        "\n",
        "user_score = 0\n",
        "\n",
        "while True:\n",
        "\n",
        "    x = random.randint(lower_limit, upper_limit)     # genererar nu randomiserat tal i spannet lower_limit - upper_limit\n",
        "    y = random.randint(lower_limit, upper_limit)     # genererar nu randomiserat tal i spannet lower_limit - upper_limit\n",
        "\n",
        "    correct_answer = x*y\n",
        "\n",
        "    user_guess = int(input(f'Vad är {x}*{y}?: '))\n",
        "\n",
        "    if user_guess == correct_answer:\n",
        "\n",
        "        print(f'Bra jobbat! {x}*{y} är {user_guess}.')\n",
        "        user_score += 1\n",
        "    \n",
        "    else:\n",
        "\n",
        "        print(f'Nja.. {x}*{y} är inte {user_guess}.')\n",
        "\n",
        "    play_again = input('Vill du spela igen? Ja eller Nej')\n",
        "\n",
        "    if play_again == 'Nej':\n",
        "        break                 # hoppar ur while-loopen om användaren inte vill spela längre\n",
        "\n",
        "print('Tack för att du var med och spelade vårt spel!')\n",
        "print(f'Din slutgiltiga poäng är {user_score}.')"
      ]
    },
    {
      "cell_type": "markdown",
      "metadata": {
        "id": "pnm3fwjJQNgd"
      },
      "source": [
        "---\n",
        "## 5. Check convergence (**)\n",
        "Use a while statement to compute the following sums:\n",
        "\n",
        "&nbsp; a) &nbsp; $\\text{sum} = 1 + \\frac{1}{2} + \\frac{1}{4} + \\frac{1}{8} + \\dots + \\frac{1}{2^n}$\n",
        "\n",
        "&nbsp; b) &nbsp; $\\text{sum} = 1 - \\frac{1}{3} + \\frac{1}{5} - \\frac{1}{7} + \\dots + \\frac{(-1)^n}{2n+1}$\n",
        "\n",
        "Try different values on $n$ to see which value it converges to.\n",
        "\n",
        "<details>\n",
        "\n",
        "<summary>Answer </summary>\n",
        "\n",
        "&nbsp; a) &nbsp; $1 + \\frac{1}{2} + \\frac{1}{4} + \\frac{1}{8} + \\dots + \\frac{1}{2^n} \\xrightarrow[n\\rightarrow \\infty]{} 2$\n",
        "\n",
        "&nbsp; b) &nbsp; $ 1 - \\frac{1}{3} + \\frac{1}{5} - \\frac{1}{7} + \\dots + \\frac{(-1)^n}{2n+1} \\xrightarrow[n\\rightarrow \\infty]{} \\frac{\\pi}{4}$\n",
        "\n",
        "</details>"
      ]
    },
    {
      "cell_type": "markdown",
      "metadata": {},
      "source": [
        "**a)**"
      ]
    },
    {
      "cell_type": "code",
      "execution_count": null,
      "metadata": {},
      "outputs": [],
      "source": [
        "total_sum = 0\n",
        "number_of_terms = 1000\n",
        "\n",
        "\n",
        "n = 0\n",
        "\n",
        "while n < number_of_terms:\n",
        "\n",
        "    total_sum += 1/(2**(n))\n",
        "\n",
        "    n += 1\n",
        "\n",
        "print(f'After {number_of_terms} terms, the sum has converged to {total_sum}.')"
      ]
    },
    {
      "cell_type": "markdown",
      "metadata": {},
      "source": [
        "**b)**"
      ]
    },
    {
      "cell_type": "code",
      "execution_count": null,
      "metadata": {},
      "outputs": [],
      "source": [
        "total_sum = 0\n",
        "number_of_terms = 1000\n",
        "\n",
        "\n",
        "n = 0\n",
        "\n",
        "while n < number_of_terms:\n",
        "\n",
        "    total_sum += (-1)**n/(2*n+1)\n",
        "\n",
        "    n += 1\n",
        "\n",
        "print(f'After {number_of_terms} terms, the sum has converged to {total_sum}.')"
      ]
    },
    {
      "cell_type": "code",
      "execution_count": null,
      "metadata": {},
      "outputs": [],
      "source": [
        "import math\n",
        "\n",
        "print(math.pi/4)       # kontrollera att vår summa ovan är lika med pi/4"
      ]
    },
    {
      "cell_type": "markdown",
      "metadata": {},
      "source": []
    }
  ],
  "metadata": {
    "colab": {
      "include_colab_link": true,
      "provenance": []
    },
    "kernelspec": {
      "display_name": "Python 3 (ipykernel)",
      "language": "python",
      "name": "python3"
    },
    "language_info": {
      "codemirror_mode": {
        "name": "ipython",
        "version": 3
      },
      "file_extension": ".py",
      "mimetype": "text/x-python",
      "name": "python",
      "nbconvert_exporter": "python",
      "pygments_lexer": "ipython3",
      "version": "3.11.4"
    },
    "vscode": {
      "interpreter": {
        "hash": "0da836a34428266995a795f1e1e27b816fa1c02f148d9728b3fbbbc5459afca6"
      }
    }
  },
  "nbformat": 4,
  "nbformat_minor": 0
}
