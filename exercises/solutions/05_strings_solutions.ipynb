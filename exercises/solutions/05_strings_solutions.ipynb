{
  "cells": [
    {
      "cell_type": "markdown",
      "metadata": {
        "colab_type": "text",
        "id": "view-in-github"
      },
      "source": [
        "<a href=\"https://colab.research.google.com/github/aleylani/Python-AI24/blob/main/exercises/solutions/05_strings_solutions.ipynb\" target=\"_parent\"><img src=\"https://colab.research.google.com/assets/colab-badge.svg\" alt=\"Open In Colab\"/></a>"
      ]
    },
    {
      "cell_type": "markdown",
      "metadata": {
        "id": "4uEpN9NNQhJc"
      },
      "source": [
        "# strings exercises\n",
        "\n",
        "---\n",
        "These are introductory exercises in Python with focus in **strings**.\n",
        "\n",
        "<p class = \"alert alert-info\" role=\"alert\"><b>Remember</b> to use <b>descriptive variable names</b> in order to get readable code </p>\n",
        "\n",
        "<p class = \"alert alert-info\" role=\"alert\"><b>Remember</b> to format your answers in a neat way using <b>f-strings</b>\n",
        "\n",
        "<p class = \"alert alert-info\" role=\"alert\"><b>Remember</b> to format your input questions in a pedagogical way to guide the user\n",
        "\n",
        "The number of stars (\\*), (\\*\\*), (\\*\\*\\*) denotes the difficulty level of the task\n",
        "\n",
        "---"
      ]
    },
    {
      "cell_type": "markdown",
      "metadata": {
        "id": "_dOqDDyDQhJd"
      },
      "source": [
        "## 1. Counting letters (*)\n",
        "\n",
        "Let the user input a word:\n",
        "\n",
        "&nbsp; a) &nbsp; print out the number of letters in the word. (*)\n",
        "  \n",
        "&nbsp; b) &nbsp; print out the number of **uppercase** and **lowercase** letters of the word (*)   \n"
      ]
    },
    {
      "cell_type": "markdown",
      "metadata": {},
      "source": [
        "**a)**"
      ]
    },
    {
      "cell_type": "code",
      "execution_count": null,
      "metadata": {},
      "outputs": [],
      "source": [
        "ord = input(\"Mata in ett ord: \")                               # låt användaren mata in ett ord\n",
        "\n",
        "antal_bokstaver = len(ord)                                     # räkna antalet bokstäver i användares ord\n",
        "\n",
        "print(f'Antal bokstäver i ditt ord: {antal_bokstaver}')"
      ]
    },
    {
      "cell_type": "markdown",
      "metadata": {},
      "source": [
        "**b)**"
      ]
    },
    {
      "cell_type": "code",
      "execution_count": null,
      "metadata": {},
      "outputs": [],
      "source": [
        "ord = input(\"Mata in ett ord: \")          # låt användaren mata in ett ord\n",
        "\n",
        "antal_stora_bokstaver = 0\n",
        "antal_små_bokstaver = 0\n",
        "\n",
        "for bokstav in ord:                       # gå igenom varje bokstav i ordet\n",
        "\n",
        "    if bokstav.isupper():                 \n",
        "        antal_stora_bokstaver += 1\n",
        "    elif bokstav.islower():\n",
        "        antal_små_bokstaver += 1\n",
        "\n",
        "\n",
        "print(f'Antal små bokstäver   : {antal_små_bokstaver}')\n",
        "print(f'Antal stora bokstäver : {antal_stora_bokstaver}')"
      ]
    },
    {
      "cell_type": "markdown",
      "metadata": {
        "id": "ubDgfpYrQhJe"
      },
      "source": [
        "---\n",
        "## 2. Counting words (*)\n",
        "\n",
        "Count the number of words in this sentence: \"A picture says more than a thousand words, a matematical formula says more than a thousand pictures.\" (*)\n",
        "\n",
        "<details>\n",
        "\n",
        "<summary>Answer</summary>\n",
        "\n",
        "```\n",
        "There are 17 words in that sentence\n",
        "```"
      ]
    },
    {
      "cell_type": "code",
      "execution_count": null,
      "metadata": {},
      "outputs": [],
      "source": [
        "sentence = \"A picture says more than a thousand words, a matematical formula says more than a thousand pictures.\"\n",
        "\n",
        "word_list = sentence.split(' ')                     # splitta meningen på varje mellanslag, och lägg in resultatet i en lista\n",
        "\n",
        "print(word_list)"
      ]
    },
    {
      "cell_type": "code",
      "execution_count": null,
      "metadata": {},
      "outputs": [],
      "source": [
        "# nu behöver vi endast räkna längden på den listan, för att få antal ord i vår mening\n",
        "\n",
        "sentence_length = len(word_list)\n",
        "\n",
        "print(f'Meningen har {sentence_length} ord.')"
      ]
    },
    {
      "cell_type": "markdown",
      "metadata": {
        "id": "ZqvDvKPRQhJe"
      },
      "source": [
        "---\n",
        "## 3. Palindrome (*)\n",
        "\n",
        "A palindrome is a sequence of characters that is the same, when read forward as backwards (ignoring spaces). For example:\n",
        "- \"Anna\" is a palindrome\n",
        "- \"Ni talar bra latin\"\n",
        "- bjkjb\n",
        "\n",
        "Let the user input a sequence of characters and check if it is a palindrome. (*)"
      ]
    },
    {
      "cell_type": "code",
      "execution_count": null,
      "metadata": {},
      "outputs": [],
      "source": [
        "sekvens = input('Mata in en sekvens av tecken: ')                           # låt användaren mata in en sekvens av tecken\n",
        "\n",
        "sekvens_utan_mellanslag = sekvens.replace(' ', '')                          # Genom att använda replace() kan vi välja att ersätta alla mellanrum men tomrum i vår sekvens\n",
        "\n",
        "omvänd_sekvens = sekvens_utan_mellanslag[::-1]                              # Skapa en omvänd version av vår sekvens, att jämföra med\n",
        "\n",
        "\n",
        "if sekvens_utan_mellanslag == omvänd_sekvens:                               # Kontrollera om den ursprungliga sekvensen är\n",
        "    print(f\"'{sekvens}' är ett palindrom.\")\n",
        "    \n",
        "else:\n",
        "    print(f\"'{sekvens}' är inte ett palindrom.\")"
      ]
    },
    {
      "cell_type": "markdown",
      "metadata": {
        "id": "K0MbPLPQQhJe"
      },
      "source": [
        "---\n",
        "## 4. Vowels (**)\n",
        "\n",
        "Count the number of vowels in this sentence: \"Pure mathematics is, in its way, the poetry of logical ideas\"\n",
        "\n",
        "<details>\n",
        "\n",
        "<summary>Answer</summary>\n",
        "\n",
        "```\n",
        "\n",
        "There are 22 vowels in this sentence\n",
        "\n",
        "```\n",
        "</details>"
      ]
    },
    {
      "cell_type": "code",
      "execution_count": null,
      "metadata": {},
      "outputs": [],
      "source": [
        "mening = \"Pure mathematics is, in its way, the poetry of logical ideas\"\n",
        "\n",
        "mening = mening.lower()                                  # konvertera meningen till små bokstäver för att förenkla jämförelsen\n",
        "\n",
        "vokaler = ['a', 'e', 'i', 'o', 'u', 'y']                 # skapa en lista med vokaler\n",
        "\n",
        "antal_vokaler = 0\n",
        "antal_konsonanter = 0\n",
        "\n",
        "\n",
        "for tecken in mening:                                    # gå igenom varje tecken i meningen\n",
        "\n",
        "    if tecken in vokaler:\n",
        "        antal_vokaler += 1\n",
        "\n",
        "    else:\n",
        "        antal_konsonanter +=1\n",
        "\n",
        "print(f'Antal vokaler i meningen är      : {antal_vokaler}')\n",
        "print(f'Antal konsonanter i meningen är  : {antal_konsonanter}')"
      ]
    },
    {
      "cell_type": "markdown",
      "metadata": {
        "id": "YCkksJpfQhJe"
      },
      "source": [
        "---\n",
        "## 5. Encryption (**)\n",
        "\n",
        "Let the user input a word and:\n",
        "\n",
        "&nbsp; a) &nbsp; encrypt the message by replacing each letter with the next letter. If the letter is in the end of the alphabet, use the first letter instead.\n",
        "\n",
        "e.g. in Swedish: \"höst\" $\\rightarrow$ \"iatu\"\n",
        "\n",
        "&nbsp; b) &nbsp; decrypt the message\n",
        "\n",
        "&nbsp; c) &nbsp; let the user choose either encryption or decryption."
      ]
    },
    {
      "cell_type": "code",
      "execution_count": null,
      "metadata": {},
      "outputs": [],
      "source": [
        "alfabet = 'abcdefghijklmnopqrstuvxyz'\n",
        "\n",
        "# Notera att vi kommer åt de olika bokstäverna i strängen ovan genom att använda index (samma som för listor)\n",
        "\n",
        "print(alfabet[0])\n",
        "print(alfabet[1])\n",
        "print(alfabet[2])\n",
        "\n",
        "# vill vi hitta index för exempelvis bokstaven m kan vi göra det med find() metoden\n",
        "\n",
        "index_for_m = alfabet.find('m')\n",
        "\n",
        "print(f'Indexet för m är {index_for_m}')\n",
        "\n",
        "# kontrollera att det stämmer\n",
        "\n",
        "print(alfabet[index_for_m])"
      ]
    },
    {
      "cell_type": "markdown",
      "metadata": {},
      "source": [
        "**a)**"
      ]
    },
    {
      "cell_type": "code",
      "execution_count": null,
      "metadata": {},
      "outputs": [],
      "source": [
        "ord_att_kryptera = input('Vilket ord vill du kryptera? Skriv endast med små bokstäver: ')\n",
        "\n",
        "krypterat_ord = ''                                                                     # börja med en tom sträng, som vi sedan kommer göra till vårt krypterade ord\n",
        "\n",
        "for index, bokstav in enumerate(ord_att_kryptera):                                     # gå igenom varje bokstav i ordet\n",
        "        \n",
        "    if bokstav != 'z':                                                                 # utför denna kod om nuvarande bokstav inte är x\n",
        "\n",
        "        bokstavens_index_i_alfabetet = alfabet.find(bokstav)                           # hitta index i alfabetet, av den nuvarande bokstaven\n",
        "\n",
        "        krypterat_ord += alfabet[bokstavens_index_i_alfabetet+1]                       # lägg till efterföljande bokstav i vårt krypterade ord\n",
        "\n",
        "    else:                                                                              # utför om nuvarande bokstav är z\n",
        "        \n",
        "        krypterat_ord += alfabet[0]                                                    # lägg till ett a\n",
        "\n",
        "print(f'Krypterade versionen av {ord_att_kryptera} är {krypterat_ord}')\n",
        "        "
      ]
    },
    {
      "cell_type": "markdown",
      "metadata": {},
      "source": [
        "**b)**"
      ]
    },
    {
      "cell_type": "code",
      "execution_count": null,
      "metadata": {},
      "outputs": [],
      "source": [
        "ord_att_dekryptera = input('Vilket ord vill du dekryptera? Skriv endast med små bokstäver: ')\n",
        "\n",
        "dekrypterat_ord = ''                                                                   # börja med en tom sträng, som vi sedan kommer göra till vårt dekrypterade ord\n",
        "\n",
        "for index, bokstav in enumerate(ord_att_dekryptera):                                   # gå igenom varje bokstav i ordet\n",
        "        \n",
        "    if bokstav != 'a':                                                                 # utför denna kod om nuvarande bokstav inte är x\n",
        "\n",
        "        bokstavens_index_i_alfabetet = alfabet.find(bokstav)                           # hitta index i alfabetet, av den nuvarande bokstaven\n",
        "\n",
        "        dekrypterat_ord += alfabet[bokstavens_index_i_alfabetet - 1]                   # lägg till efterföljande bokstav i vårt krypterade ord\n",
        "\n",
        "    else:                                                                              # utför om nuvarande bokstav är a\n",
        "        \n",
        "        dekrypterat_ord += alfabet[-1]                                                 # lägg till ett z  \n",
        "\n",
        "print(f'Krypterade versionen av {ord_att_dekryptera} är {dekrypterat_ord}')"
      ]
    },
    {
      "cell_type": "markdown",
      "metadata": {},
      "source": [
        "**c)**\n",
        "\n",
        "För att lösa den här lägger vi in allt ovan under en enda if-else sats"
      ]
    },
    {
      "cell_type": "code",
      "execution_count": null,
      "metadata": {},
      "outputs": [],
      "source": [
        "intention = input('Vill du (K)ryptera eller (D)ekryptera? Svara K eller D: ')\n",
        "\n",
        "if intention == 'K':               # utför lösningen i a) om använder väljer att kryptera\n",
        "\n",
        "    ord_att_kryptera = input('Vilket ord vill du kryptera? Skriv endast med små bokstäver: ')\n",
        "\n",
        "    krypterat_ord = ''                                                                     # börja med en tom sträng, som vi sedan kommer göra till vårt krypterade ord\n",
        "\n",
        "    for index, bokstav in enumerate(ord_att_kryptera):                                     # gå igenom varje bokstav i ordet\n",
        "        \n",
        "        if bokstav != 'z':                                                                 # utför denna kod om nuvarande bokstav inte är x\n",
        "\n",
        "            bokstavens_index_i_alfabetet = alfabet.find(bokstav)                           # hitta index i alfabetet, av den nuvarande bokstaven\n",
        "\n",
        "            krypterat_ord += alfabet[bokstavens_index_i_alfabetet+1]                       # lägg till efterföljande bokstav i vårt krypterade ord\n",
        "\n",
        "        else:                                                                              # utför om nuvarande bokstav är z\n",
        "        \n",
        "            krypterat_ord += alfabet[0]                                                    # lägg till ett a\n",
        "\n",
        "    print(f'Krypterade versionen av {ord_att_kryptera} är {krypterat_ord}')\n",
        "\n",
        "elif intention == 'D':              # utför lösningen i b) om använder väljer att kryptera\n",
        "\n",
        "    ord_att_dekryptera = input('Vilket ord vill du dekryptera? Skriv endast med små bokstäver: ')\n",
        "\n",
        "    dekrypterat_ord = ''                                                                   # börja med en tom sträng, som vi sedan kommer göra till vårt dekrypterade ord\n",
        "\n",
        "    for index, bokstav in enumerate(ord_att_dekryptera):                                   # gå igenom varje bokstav i ordet\n",
        "        \n",
        "        if bokstav != 'a':                                                                 # utför denna kod om nuvarande bokstav inte är x\n",
        "\n",
        "            bokstavens_index_i_alfabetet = alfabet.find(bokstav)                           # hitta index i alfabetet, av den nuvarande bokstaven\n",
        "\n",
        "            dekrypterat_ord += alfabet[bokstavens_index_i_alfabetet - 1]                   # lägg till efterföljande bokstav i vårt krypterade ord\n",
        "\n",
        "        else:                                                                              # utför om nuvarande bokstav är a\n",
        "        \n",
        "            dekrypterat_ord += alfabet[-1]                                                 # lägg till ett z  \n",
        "\n",
        "    print(f'Krypterade versionen av {ord_att_dekryptera} är {dekrypterat_ord}')"
      ]
    },
    {
      "cell_type": "code",
      "execution_count": null,
      "metadata": {},
      "outputs": [],
      "source": []
    }
  ],
  "metadata": {
    "colab": {
      "include_colab_link": true,
      "provenance": []
    },
    "kernelspec": {
      "display_name": "Python 3 (ipykernel)",
      "language": "python",
      "name": "python3"
    },
    "language_info": {
      "codemirror_mode": {
        "name": "ipython",
        "version": 3
      },
      "file_extension": ".py",
      "mimetype": "text/x-python",
      "name": "python",
      "nbconvert_exporter": "python",
      "pygments_lexer": "ipython3",
      "version": "3.11.4"
    },
    "vscode": {
      "interpreter": {
        "hash": "0da836a34428266995a795f1e1e27b816fa1c02f148d9728b3fbbbc5459afca6"
      }
    }
  },
  "nbformat": 4,
  "nbformat_minor": 0
}
