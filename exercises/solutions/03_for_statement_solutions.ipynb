{
  "cells": [
    {
      "cell_type": "markdown",
      "metadata": {
        "colab_type": "text",
        "id": "view-in-github"
      },
      "source": [
        "<a href=\"https://colab.research.google.com/github/aleylani/Python-AI24/blob/main/exercises/solutions/03_for_statement_solutions.ipynb\" target=\"_parent\"><img src=\"https://colab.research.google.com/assets/colab-badge.svg\" alt=\"Open In Colab\"/></a>"
      ]
    },
    {
      "cell_type": "markdown",
      "metadata": {
        "id": "P9bSTaK7PmVT"
      },
      "source": [
        "# for statement exercises\n",
        "\n",
        "---\n",
        "These are introductory exercises in Python with focus in **for** statement.\n",
        "\n",
        "<p class = \"alert alert-info\" role=\"alert\"><b>Remember</b> to use <b>descriptive variable names</b> in order to get readable code </p>\n",
        "\n",
        "<p class = \"alert alert-info\" role=\"alert\"><b>Remember</b> to format your answers in a neat way using <b>f-strings</b>\n",
        "\n",
        "<p class = \"alert alert-info\" role=\"alert\"><b>Remember</b> to format your input questions in a pedagogical way to guide the user\n",
        "\n",
        "The number of stars (\\*), (\\*\\*), (\\*\\*\\*) denotes the difficulty level of the task\n",
        "\n",
        "---"
      ]
    },
    {
      "cell_type": "markdown",
      "metadata": {
        "id": "9gRZO9cxPmVV"
      },
      "source": [
        "## 1. Count numbers (*)\n",
        "\n",
        "Use a **for** statement to count from:\n",
        "\n",
        "&nbsp; a) &nbsp; -10 to 10 with one increment (*)\n",
        "\n",
        "&nbsp; b) &nbsp; -10 to 10 with two increment (*)\n",
        "\n",
        "<details>\n",
        "\n",
        "<summary>Answer </summary>\n",
        "\n",
        "```\n",
        "a) -10 -9 -8 -7 -6 -5 -4 -3 -2 -1 0 1 2 3 4 5 6 7 8 9 10\n",
        "\n",
        "b) -10  -8  -6  -4  -2  0  2  4  6  8  10\n",
        "```\n",
        "\n",
        "</details>\n",
        "\n"
      ]
    },
    {
      "cell_type": "markdown",
      "metadata": {},
      "source": [
        "**a)**"
      ]
    },
    {
      "cell_type": "code",
      "execution_count": 1,
      "metadata": {},
      "outputs": [
        {
          "name": "stdout",
          "output_type": "stream",
          "text": [
            "-10 -9 -8 -7 -6 -5 -4 -3 -2 -1 0 1 2 3 4 5 6 7 8 9 10 "
          ]
        }
      ],
      "source": [
        "for i in range(-10, 11):                   # låt variabeln i loopa från -10 till 10. kom ihåg att 11 inte inkluderas av range()\n",
        "\n",
        "    print(i, end=' ')                      # printa ut i, samtidigt som vi anger i parametern end att vi inte vill att print avslutar med en ny rad, bara ett mellanrum"
      ]
    },
    {
      "cell_type": "markdown",
      "metadata": {},
      "source": [
        "**b)**"
      ]
    },
    {
      "cell_type": "code",
      "execution_count": 2,
      "metadata": {},
      "outputs": [
        {
          "name": "stdout",
          "output_type": "stream",
          "text": [
            "-10 -8 -6 -4 -2 0 2 4 6 8 10 "
          ]
        }
      ],
      "source": [
        "for i in range(-10, 11, 2):                # låt variabeln i loopa från -10 till 10, i steg om två!\n",
        "\n",
        "    print(i, end=' ')                       "
      ]
    },
    {
      "cell_type": "markdown",
      "metadata": {
        "id": "t-3FxnC6PmVV"
      },
      "source": [
        "---\n",
        "## 2. Arithmetic sum (*)\n",
        "Use a **for** statement to compute the following sums:\n",
        "\n",
        "&nbsp; a) &nbsp; $\\text{sum} = 1 + 2 + \\ldots + 99+ 100$ (*)\n",
        "\n",
        "&nbsp; b) &nbsp; $\\text{sum} = 1 + 3 + 5 + \\ldots + 97 + 99$ (*)\n",
        "\n",
        "<details>\n",
        "\n",
        "<summary>Answer </summary>\n",
        "\n",
        "```\n",
        "a) 1 + 2 + ... + 99 + 100 = 5050\n",
        "\n",
        "b) 1 + 3 + 5 +...+ 97 + 99 = 2500\n",
        "```\n",
        "\n",
        "</details>\n"
      ]
    },
    {
      "cell_type": "markdown",
      "metadata": {},
      "source": [
        "**a)**"
      ]
    },
    {
      "cell_type": "code",
      "execution_count": 3,
      "metadata": {},
      "outputs": [
        {
          "name": "stdout",
          "output_type": "stream",
          "text": [
            "5050\n"
          ]
        }
      ],
      "source": [
        "summa = 0                          # initiera en variabel som vi kommer vilja addera alla termer till\n",
        "\n",
        "for i in range(1, 101):            # loopa i från 1 till 100\n",
        "\n",
        "    summa += i                     # addera varje i till vår summa\n",
        "\n",
        "print(summa)"
      ]
    },
    {
      "cell_type": "markdown",
      "metadata": {},
      "source": [
        "**b)**"
      ]
    },
    {
      "cell_type": "code",
      "execution_count": 6,
      "metadata": {},
      "outputs": [
        {
          "name": "stdout",
          "output_type": "stream",
          "text": [
            "2500\n"
          ]
        }
      ],
      "source": [
        "summa = 0                          # initiera en variabel som vi kommer vilja addera alla termer till\n",
        "\n",
        "for i in range(1, 100, 2):            # loopa i från 1 till 100, endast vartannat tal\n",
        "\n",
        "    summa += i                     # addera i till vår summa, om i är udda\n",
        "\n",
        "print(summa)"
      ]
    },
    {
      "cell_type": "markdown",
      "metadata": {},
      "source": [
        "Obs, ineffektiv lösning nedan"
      ]
    },
    {
      "cell_type": "code",
      "execution_count": 7,
      "metadata": {},
      "outputs": [
        {
          "name": "stdout",
          "output_type": "stream",
          "text": [
            "2500\n"
          ]
        }
      ],
      "source": [
        "summa = 0                          # initiera en variabel som vi kommer vilja addera alla termer till\n",
        "\n",
        "for i in range(1, 100):            # loopa i från 1 till 100\n",
        "\n",
        "    if i % 2 == 1:                 # notera ett detta villkor endast uppfylls om i är udda!\n",
        "\n",
        "        summa += i                     # addera i till vår summa, om i är udda\n",
        "\n",
        "print(summa)"
      ]
    },
    {
      "cell_type": "markdown",
      "metadata": {
        "id": "vUheZeUMPmVV"
      },
      "source": [
        "---\n",
        "## 3. Multiplication table (*)\n",
        "Use **for** statement(s) to:\n",
        "\n",
        "&nbsp; a) &nbsp; print out the 6th multiplication table from 0 to 10 (*)\n",
        "\n",
        "&nbsp; b) &nbsp; let the user input the **table**, **start** and **end** of the table. (*)\n",
        "\n",
        "&nbsp; c) &nbsp; print out a full multiplication table from 0 to 10. (**)\n",
        "\n",
        "\n",
        "<details>\n",
        "\n",
        "<summary>Hint</summary>\n",
        "\n",
        "c) Use nested for-loops, which means a for-loop in a for-loop. To format the table nicely, use **f-string**:\n",
        "\n",
        "```python\n",
        "print(f\"{number}\", end = \"\")\n",
        "```\n",
        "\n",
        "\n",
        "</details>\n",
        "\n",
        "\n",
        "<details>\n",
        "\n",
        "<summary>Answer </summary>\n",
        "\n",
        "a)\n",
        "```\n",
        "0 6 12 18 24 30 36 42 48 54 60\n",
        "```\n",
        "\n",
        "b) e.g.\n",
        "\n",
        "```\n",
        "Which table are you interested in? 5\n",
        "Specify start of table: 5\n",
        "Specify end of table: 12\n",
        "\n",
        "Your 5th multiplication table from 5 to 12: 25 30 35 40 45 50 55 60\n",
        "```\n",
        "\n",
        "c)\n",
        "\n",
        "```\n",
        "   0   0   0   0   0   0   0   0   0   0   0\n",
        "   0   1   2   3   4   5   6   7   8   9  10\n",
        "   0   2   4   6   8  10  12  14  16  18  20\n",
        "   0   3   6   9  12  15  18  21  24  27  30\n",
        "   0   4   8  12  16  20  24  28  32  36  40\n",
        "   0   5  10  15  20  25  30  35  40  45  50\n",
        "   0   6  12  18  24  30  36  42  48  54  60\n",
        "   0   7  14  21  28  35  42  49  56  63  70\n",
        "   0   8  16  24  32  40  48  56  64  72  80\n",
        "   0   9  18  27  36  45  54  63  72  81  90\n",
        "   0  10  20  30  40  50  60  70  80  90 100\n",
        "```\n",
        "\n",
        "</details>"
      ]
    },
    {
      "cell_type": "markdown",
      "metadata": {},
      "source": [
        "**a)**"
      ]
    },
    {
      "cell_type": "code",
      "execution_count": null,
      "metadata": {},
      "outputs": [],
      "source": [
        "tabell = 6                        # multiplikationstabellen vi vill beräkna\n",
        "\n",
        "for number in range(0, 11):       # loopa number mellan 0 till 10\n",
        "\n",
        "    value = tabell*number         # beräkna 6 * aktuellt nummer\n",
        "\n",
        "    print(value, end=' ')         # printa ut resultatet, och avsluta printen med ett mellanslag"
      ]
    },
    {
      "cell_type": "markdown",
      "metadata": {},
      "source": [
        "**b)**\n",
        "\n",
        "Vi behöver här låta användaren ge tabell, start och stop som input\n",
        "\n",
        "**kom ihåg** att datatypen av input() blir en string, och eftersom att vi vill utföra beräkningar behöver vi omvandla detta till integer "
      ]
    },
    {
      "cell_type": "code",
      "execution_count": null,
      "metadata": {},
      "outputs": [],
      "source": [
        "tabell = int(input('Vilken multiplikationstabell vill du beräkna?'))\n",
        "start = int(input('Vart vill du börja?'))\n",
        "stop = int(input('Vart vill du sluta?'))\n",
        "\n",
        "for number in range(start, stop+1):       # loopa number mellan start och stop (notera att stop+1 inte inkluderas!)\n",
        "    \n",
        "    value = tabell*number         # beräkna 6 * aktuellt nummer\n",
        "\n",
        "    print(value, end=' ')         # printa ut resultatet, och avsluta printen med ett mellanslag\n",
        "\n"
      ]
    },
    {
      "cell_type": "markdown",
      "metadata": {},
      "source": [
        "**c)**\n",
        "\n",
        "Vi använder här en nestad for-loop där vi låter den yttre loopen loopa över tabellen i vill beräkna, och den inre loopen över alla tal från 0-10"
      ]
    },
    {
      "cell_type": "code",
      "execution_count": null,
      "metadata": {},
      "outputs": [],
      "source": [
        "for tabell in range(0, 11):\n",
        "\n",
        "    for number in range(0, 11):\n",
        "\n",
        "        value = tabell*number\n",
        "        \n",
        "        print(value, end=' ')\n",
        "    \n",
        "    print()                               # printa ut en ny rad efter varje multiplikationstabell"
      ]
    },
    {
      "cell_type": "markdown",
      "metadata": {
        "id": "zMfZPT4SPmVW"
      },
      "source": [
        "---\n",
        "## 4. Faculty (*)\n",
        "\n",
        "Use a **for** statement to compute $n!$.\n",
        "\n",
        "$n! = 1\\cdot2\\cdot3\\cdot\\ldots\\cdot(n-1)\\cdot n $\n",
        "\n",
        "Let the user input $n$."
      ]
    },
    {
      "cell_type": "code",
      "execution_count": 12,
      "metadata": {},
      "outputs": [
        {
          "name": "stdout",
          "output_type": "stream",
          "text": [
            "100! = 93326215443944152681699238856266700490715968264381621468592963895217599993229915608941463976156518286253697920827223758251185210916864000000000000000000000000\n"
          ]
        }
      ],
      "source": [
        "n = int(input('Vilket n vill du ha?'))\n",
        "\n",
        "produkt = 1                                # initiera en variabel som vi kommer vilja successivt multiplicera med varje tal fram till n \n",
        "\n",
        "for number in range(1, n+1):               # vi loopar här mellan 1 till n, starta INTE från 0. Då kommer hela vår produkt bli noll\n",
        "\n",
        "    produkt *= number                      # multiplicera variabeln produkt med aktuellt värde av variabeln number\n",
        "\n",
        "print(f'{100}! = {produkt}')  "
      ]
    },
    {
      "cell_type": "markdown",
      "metadata": {
        "id": "QrbJGJygPmVW"
      },
      "source": [
        "---\n",
        "## 5. Guess the number (*)\n",
        "\n",
        "The computer thinks of a four-digit number. Start by creating a random four-digit number. Use **for** statement to figure out a correct guess\n",
        "\n",
        "<br>\n",
        "<details>\n",
        "\n",
        "<summary>Answer </summary>\n",
        "\n",
        "e.g.\n",
        "```\n",
        "The final guess is 8993\n",
        "The computer number is 8993\n",
        "```\n",
        "\n",
        "</details>"
      ]
    },
    {
      "cell_type": "markdown",
      "metadata": {},
      "source": [
        "**Vi löser denna uppgift på två olika sätt. Det ena är en enkel version, där användaren bara får gissa sig fram.**"
      ]
    },
    {
      "cell_type": "code",
      "execution_count": null,
      "metadata": {},
      "outputs": [],
      "source": [
        "import random as rnd                                   # importera random, och ge den valfria aliaset rnd som kommer använda för att kalla på random\n",
        "\n",
        "secret_number = rnd.randint(1000,9999)                 # generera ett randomiserat fyrsiffrigt tal (mellan 1000 och 9999)\n",
        "\n",
        "for guess in range(1000, 10000):                       # loopa mellan alla tal mellan 1000 och 9999\n",
        "\n",
        "    guess = int(input('Vad är din gissning på det hemliga fyrsiffriga talet?'))\n",
        "\n",
        "    if guess == secret_number:\n",
        "\n",
        "        print(f'Aha! Det hemliga talet är {guess}.')\n",
        "        break                                          # detta är en detalj, men det är nice att lägga till en break här. Då slipper Python fortsätta sin for-loop efter att vi hittat vårt värde\n"
      ]
    },
    {
      "cell_type": "markdown",
      "metadata": {},
      "source": [
        "**Det andra sättet lägger vi även till funktionalitet som säger till om användarens gissning är fel, och isåfall även ger en ledtråd om vilka siffror i användarens gissning som är rätt på rätt plats.**\n",
        "\n",
        "**Studera denna lösning noga!**"
      ]
    },
    {
      "cell_type": "code",
      "execution_count": null,
      "metadata": {},
      "outputs": [],
      "source": [
        "import random\n",
        "\n",
        "secret_number = str(random.randint(1000, 9999))  # Generate a random four-digit number\n",
        "\n",
        "attempt = 0                                      # variabel för att hålla koll på antalet försök användaren gjort\n",
        "\n",
        "for i in range(1000, 10000):\n",
        "\n",
        "    attempt += 1                                                          # öka antalet försök (attempt) med 1 för varje gissning\n",
        "\n",
        "    guess = input('Vad är din gissning?')\n",
        "    \n",
        "    if guess == secret_number:\n",
        "        \n",
        "        print(f'Grattis, du hade rätt! Rätt svar är {guess}. You solved it in {attempt} attempts.')\n",
        "        break                                                             # break här för att avbryta spelet (for-loopen) om användaren svara rätt\n",
        "    \n",
        "    else:\n",
        "        \n",
        "        print(f'Burn, try again! {guess} är inte rätt. Det här var gissning nummer {attempt}.')\n",
        "\n",
        "        for j in range(0,4):                                              # viktigt här att vi loopar med en annan dummy variabel än den vi hade i får yttre for-loop\n",
        "                                                                          # dvs vi använder j istället för i, i syfte att minimera risken för fel i programmeringen\n",
        "            if guess[j] == secret_number[j]:                                                                \n",
        "                print(f'Siffran på position {j+1} är på rätt plats.')\n",
        "        \n",
        "        print()                                                           # printa ytterligare en tom rad mellan försöken, för att outputen ska bli snyggare"
      ]
    },
    {
      "cell_type": "markdown",
      "metadata": {
        "id": "H4DC6pSOPmVW"
      },
      "source": [
        "---\n",
        "## 6. Rice on chessboard (*)\n",
        "\n",
        "In first square of the chessboard there is one grain of rice, in the second square there is two grains, in the third square there is four grains and so on. How many grains are there in the whole chessboard when all squares are filled using this pattern?\n",
        "\n",
        "<img align=\"left\" src=\"../assets/chessboard.png\" width=\"300\"/>"
      ]
    },
    {
      "cell_type": "markdown",
      "metadata": {},
      "source": [
        "Antal riskorn i ruta n+1 ges av \n",
        "\n",
        "$ 2^n $"
      ]
    },
    {
      "cell_type": "code",
      "execution_count": 13,
      "metadata": {},
      "outputs": [
        {
          "name": "stdout",
          "output_type": "stream",
          "text": [
            "1\n",
            "2\n",
            "4\n",
            "9223372036854775808\n"
          ]
        }
      ],
      "source": [
        "# exempel\n",
        "\n",
        "print(2**0)        # antal riskorn i ruta 1\n",
        "print(2**1)        # antal riskorn i ruta 2\n",
        "print(2**2)        # antal riskorn i ruta 3\n",
        "                   # ...\n",
        "print(2**63)       # antal riskorn i ruta 64"
      ]
    },
    {
      "cell_type": "code",
      "execution_count": 14,
      "metadata": {},
      "outputs": [
        {
          "name": "stdout",
          "output_type": "stream",
          "text": [
            "Schackbrädet har totalt: 18446744073709551615 riskorn\n"
          ]
        }
      ],
      "source": [
        "total_number_of_rice = 0\n",
        "\n",
        "for n in range(0, 64):                               # loopa n mellan 0 och 63 (64 inkluderas inte)\n",
        "\n",
        "    rice_per_square = 2**n                           # beräkna antal riskorn för den givna rutan\n",
        "\n",
        "    total_number_of_rice += rice_per_square          # lägg till antalet i vår total\n",
        "\n",
        "print(f'Schackbrädet har totalt: {total_number_of_rice} riskorn')"
      ]
    },
    {
      "cell_type": "markdown",
      "metadata": {
        "id": "4QoVQ_6jPmVX"
      },
      "source": [
        "<details>\n",
        "\n",
        "<summary>Answer</summary>\n",
        "\n",
        "```\n",
        "18446744073709551615 number of grains\n",
        "```\n",
        "\n",
        "</details>"
      ]
    }
  ],
  "metadata": {
    "colab": {
      "include_colab_link": true,
      "provenance": []
    },
    "kernelspec": {
      "display_name": "programmering",
      "language": "python",
      "name": "python3"
    },
    "language_info": {
      "codemirror_mode": {
        "name": "ipython",
        "version": 3
      },
      "file_extension": ".py",
      "mimetype": "text/x-python",
      "name": "python",
      "nbconvert_exporter": "python",
      "pygments_lexer": "ipython3",
      "version": "3.13.5"
    }
  },
  "nbformat": 4,
  "nbformat_minor": 0
}
