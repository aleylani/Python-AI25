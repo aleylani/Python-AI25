{
  "cells": [
    {
      "cell_type": "markdown",
      "metadata": {
        "colab_type": "text",
        "id": "view-in-github"
      },
      "source": [
        "<a href=\"https://colab.research.google.com/github/aleylani/Python-AI24/blob/main/exercises/solutions/11_OOP_basic_exercise.ipynb\" target=\"_parent\"><img src=\"https://colab.research.google.com/assets/colab-badge.svg\" alt=\"Open In Colab\"/></a>"
      ]
    },
    {
      "cell_type": "markdown",
      "metadata": {
        "id": "c51bqkH1RTxf"
      },
      "source": [
        "# OOP introductory exercises\n",
        "\n",
        "---\n",
        "These are introductory exercises in Python with focus in **Object oriented programming**.\n",
        "\n",
        "<p class = \"alert alert-info\" role=\"alert\"><b>Remember</b> to use <b>descriptive variable, function and class names</b> in order to get readable code </p>\n",
        "\n",
        "<p class = \"alert alert-info\" role=\"alert\"><b>Remember</b> to format your answers in a neat way using <b>f-strings</b></p>\n",
        "\n",
        "<p class = \"alert alert-info\" role=\"alert\"><b>Remember</b> to format your input questions in a pedagogical way to guide the user</p>\n",
        "\n",
        "<p class = \"alert alert-info\" role=\"alert\"><b>Remember</b> to write good docstrings for your methods and classes </p>\n",
        "\n",
        "The number of stars (\\*), (\\*\\*), (\\*\\*\\*) denotes the difficulty level of the task\n",
        "\n",
        "---"
      ]
    },
    {
      "cell_type": "markdown",
      "metadata": {},
      "source": [
        "## 1. Unit conversion (*)\n",
        "\n",
        "Create a class for converting US units to the metric system. It should have the following **bound methods**:\n",
        "\n",
        "```python\n",
        "__init__ (self, value)\n",
        "\n",
        "inch_to_cm(self)\n",
        "\n",
        "foot_to_meters(self)\n",
        "\n",
        "pound_to_kg(self)\n",
        "\n",
        "__repr__(self)\n",
        "\n",
        "```\n",
        "\n",
        "Make sure that value is the correct type and format, raise suitable exceptions in case it isn't. Make value into a **property** that can be viewed by the user. Test your class manually by instantiating an object from it and test different methods. (*)\n",
        "\n",
        "<details>\n",
        "\n",
        "<summary>Hint</summary>\n",
        "\n",
        "Use the property decorator:\n",
        "- @property\n",
        "\n",
        "You can read about the [units here][units]\n",
        "\n",
        "[units]: https://en.wikipedia.org/wiki/United_States_customary_units\n",
        "\n",
        "Check for:\n",
        "- negative values\n",
        "- types that are not **int** or **float**\n",
        "\n",
        "Use isinstance() to check for type\n",
        "\n",
        "</details>\n",
        "<br>\n",
        "<details>\n",
        "\n",
        "<summary>Answer</summary>\n",
        "For example:\n",
        "\n",
        "```python\n",
        "\n",
        "units = UnitUS(5)\n",
        "print(f\"5 feet = {units.foot_to_meters()} m\")\n",
        "print(f\"5 inch = {units.inch_to_cm()} cm\")\n",
        "print(f\"5 pounds = {units.pound_to_kg():.2f} kg\")\n",
        "\n",
        "```\n",
        "\n",
        "```\n",
        "5 feet = 1.524 m\n",
        "5 inch = 12.7 cm\n",
        "5 pounds = 2.27 kg\n",
        "```\n",
        "</details>\n"
      ]
    },
    {
      "cell_type": "code",
      "execution_count": null,
      "metadata": {},
      "outputs": [],
      "source": [
        "class UnitConverter:\n",
        "\n",
        "     def __init__(self, value: int | float) -> None:\n",
        "         \n",
        "         self.value = value\n",
        "\n",
        "     @property\n",
        "     def value(self) -> int | float:\n",
        "          return self.__value\n",
        "    \n",
        "     @value.setter\n",
        "     def value(self, value: int | float) -> None:\n",
        "        \n",
        "        # denna not clause evalueras till True om inte value tillhör antingen integer eller float\n",
        "        \n",
        "          if not isinstance(value, (int, float)):\n",
        "               raise TypeError('Value must be a real number.')\n",
        "        \n",
        "          if value < 0:\n",
        "               raise ValueError('Value must be a positive real number.')\n",
        "        \n",
        "          self.__value = value\n",
        "\n",
        "     \n",
        "     def inch_to_cm(self) -> float:\n",
        "         \n",
        "         return self.value * 2.54\n",
        "     \n",
        "     \n",
        "     def foot_to_meters(self) -> float:\n",
        "\n",
        "          return self.value * 0.3048\n",
        "     \n",
        "\n",
        "     def pound_to_kg(self) -> float:\n",
        "\n",
        "          return self.value * 0.453592\n",
        "     \n",
        "\n",
        "     def __repr__(self) -> str:\n",
        "          \n",
        "          return f'{self.__class__.__name__}(value={self.value})'\n",
        "         "
      ]
    },
    {
      "cell_type": "code",
      "execution_count": null,
      "metadata": {},
      "outputs": [],
      "source": [
        "freedom_amount = 20\n",
        "\n",
        "my_converter = UnitConverter(freedom_amount)\n",
        "\n",
        "print(f'{freedom_amount} inches is {my_converter.inch_to_cm()} cm')\n",
        "print(f'{freedom_amount} feet is {my_converter.foot_to_meters()} meters')\n",
        "print(f'{freedom_amount} pounds is {my_converter.pound_to_kg()} kg')"
      ]
    },
    {
      "cell_type": "code",
      "execution_count": null,
      "metadata": {},
      "outputs": [],
      "source": [
        "print(my_converter)"
      ]
    },
    {
      "cell_type": "markdown",
      "metadata": {
        "id": "Go43BtLSRTxh"
      },
      "source": [
        "---\n",
        "## 2. Person (*)\n",
        "\n",
        "Create a class named Person with the following attributes, while making sure that they have the following types and values:\n",
        "\n",
        "- name - must be string\n",
        "- age - must be number between 0 and 125\n",
        "- email - must include an @ sign\n",
        "\n",
        "Hint: use TypeError for errors in type, and ValueError for errors in value\n",
        "\n",
        "\n",
        "The class should have a ```__repr__``` method to represent the Person class in an unambigious way.\n",
        "\n",
        "Also create a method ``` say_hello() ``` that prints\n",
        "\n",
        "```\n",
        "Hi, my name is ..., I am ... years old, my email address is ...  \n",
        "```\n",
        "<details>\n",
        "\n",
        "<summary>Hint</summary>\n",
        "\n",
        "Use the property decorator:\n",
        "- @property\n",
        "\n",
        "Use isinstance() to check for type\n",
        "\n",
        "Check for:\n",
        "- negative values\n",
        "- types that are not **int** or **float**\n",
        "\n",
        "\n",
        "</details>\n",
        "<br>\n",
        "<details>\n",
        "\n",
        "<summary>Answer</summary>\n",
        "For example:\n",
        "\n",
        "```python\n",
        "\n",
        "p = Person(\"Pernilla\", 32, \"pernilla@gmail.com\")\n",
        "print(p)\n",
        "\n",
        "```\n",
        "\n",
        "```\n",
        "Person(Pernilla, 32, pernilla@gmail.com)\n",
        "\n",
        "```\n",
        "\n",
        "```python\n",
        "\n",
        "try:\n",
        "    p = Person(\"Pernilla\", 32, \"pernillagmail.com\")\n",
        "except TypeError as ex:\n",
        "    print(ex)\n",
        "except NameError as ex:\n",
        "    print(ex)\n",
        "\n",
        "```\n",
        "\n",
        "```\n",
        "\n",
        "pernillagmail.com is not a valid email, format must be xxxx@yyyy.zzz\n",
        "\n",
        "```\n",
        "</details>\n"
      ]
    },
    {
      "cell_type": "markdown",
      "metadata": {},
      "source": [
        "**Note: This is a student provided solution**"
      ]
    },
    {
      "cell_type": "code",
      "execution_count": 4,
      "metadata": {},
      "outputs": [],
      "source": [
        "class Person:\n",
        "    def __init__(self, name: str, age: int,email: str) -> None:\n",
        "        self.name = name\n",
        "        self.age = age\n",
        "        self.email = email\n",
        " \n",
        "    def __repr__(self):\n",
        "        return f\"Person(name={self.name}, age={self.age}, email={self.email})\"\n",
        "   \n",
        "    @property\n",
        "    def name(self):\n",
        "        return self.__name\n",
        "    \n",
        "    @property\n",
        "    def age(self):\n",
        "        return self.__age\n",
        "    \n",
        "    @property\n",
        "    def email(self):\n",
        "        return self.__email\n",
        "    \n",
        "    @name.setter\n",
        "    def name(self, name):\n",
        "        if not isinstance(name, str):\n",
        "            raise TypeError(\"Name must be a string\")\n",
        "        self.__name = name\n",
        "    \n",
        "    @age.setter\n",
        "    def age(self, age):\n",
        "        if not isinstance(age, int):\n",
        "            raise TypeError(\"Age must be an integer\")\n",
        "        if age < 0:\n",
        "            raise ValueError(\"Age must be a non-negative integer\")\n",
        "        self.__age = age\n",
        "    \n",
        "    @email.setter    \n",
        "    def email(self, email):\n",
        "        if \"@\" not in email:\n",
        "            raise ValueError(\"Invalid email format\")\n",
        "        self.__email = email\n",
        " \n",
        "    def say_hello(self):\n",
        "        return f\"Hello, my name is {self.name} and I am {self.age} years old. My email address is {self.email}.\"  "
      ]
    },
    {
      "cell_type": "code",
      "execution_count": 3,
      "metadata": {},
      "outputs": [
        {
          "name": "stdout",
          "output_type": "stream",
          "text": [
            "Person(name=Pernilla, age=32, email=pernilla@gmail.com)\n"
          ]
        },
        {
          "data": {
            "text/plain": [
              "'Hello, my name is Pernilla and I am 32 years old.My email address is pernilla@gmail.com.'"
            ]
          },
          "execution_count": 3,
          "metadata": {},
          "output_type": "execute_result"
        }
      ],
      "source": [
        "p = Person(\"Pernilla\", 32, \"pernilla@gmail.com\")\n",
        "\n",
        "print(p)\n",
        "p.say_hello()"
      ]
    },
    {
      "cell_type": "code",
      "execution_count": null,
      "metadata": {},
      "outputs": [],
      "source": []
    }
  ],
  "metadata": {
    "colab": {
      "include_colab_link": true,
      "provenance": []
    },
    "kernelspec": {
      "display_name": "programmering",
      "language": "python",
      "name": "python3"
    },
    "language_info": {
      "codemirror_mode": {
        "name": "ipython",
        "version": 3
      },
      "file_extension": ".py",
      "mimetype": "text/x-python",
      "name": "python",
      "nbconvert_exporter": "python",
      "pygments_lexer": "ipython3",
      "version": "3.13.5"
    }
  },
  "nbformat": 4,
  "nbformat_minor": 0
}
