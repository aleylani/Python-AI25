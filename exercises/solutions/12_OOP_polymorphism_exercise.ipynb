{
  "cells": [
    {
      "cell_type": "markdown",
      "metadata": {
        "colab_type": "text",
        "id": "view-in-github"
      },
      "source": [
        "<a href=\"https://colab.research.google.com/github/aleylani/Python-AI24/blob/main/exercises/solutions/12_OOP_polymorphism_exercise.ipynb\" target=\"_parent\"><img src=\"https://colab.research.google.com/assets/colab-badge.svg\" alt=\"Open In Colab\"/></a>"
      ]
    },
    {
      "cell_type": "markdown",
      "metadata": {
        "id": "IVncMQkYRamR"
      },
      "source": [
        "# OOP exercises - inheritance and polymorphism\n",
        "\n",
        "---\n",
        "These are introductory exercises in Python with focus in **Object oriented programming**.\n",
        "\n",
        "<p class = \"alert alert-info\" role=\"alert\"><b>Remember</b> to use <b>descriptive variable, function and class names</b> in order to get readable code </p>\n",
        "\n",
        "<p class = \"alert alert-info\" role=\"alert\"><b>Remember</b> to format your answers in a neat way using <b>f-strings</b></p>\n",
        "\n",
        "<p class = \"alert alert-info\" role=\"alert\"><b>Remember</b> to format your input questions in a pedagogical way to guide the user</p>\n",
        "\n",
        "<p class = \"alert alert-info\" role=\"alert\"><b>Remember</b> to write good docstrings for your methods and classes </p>\n",
        "\n",
        "The number of stars (\\*), (\\*\\*), (\\*\\*\\*) denotes the difficulty level of the task\n",
        "\n",
        "---"
      ]
    },
    {
      "cell_type": "markdown",
      "metadata": {
        "id": "0LmdhIcCRamT"
      },
      "source": [
        "## 1. Movie (*)\n",
        "\n",
        "Create a Movie class with the following functionality:\n",
        "\n",
        "It should be able to accept 4 arguments\n",
        "\n",
        "    name, genre, IMDB-rating, duration (in minutes)\n",
        "\n",
        "Use the following code to test your program.\n",
        "\n",
        "```python\n",
        "pokemon = Movie(\"Pokemon\", \"Cartoon\", 4.5, 94)\n",
        "titanic = Movie(\"Titanic\", \"Romance\", 4.7, 120)\n",
        "code = Movie(\"The Code\", \"Math\", 4, 82)\n",
        "\n",
        "```\n",
        "\n",
        "Now, create a method called info() that accomplishes the following\n",
        "\n",
        "    for i in [pokemon, titanic, code]:\n",
        "        print(i.info())\n",
        "        \n",
        "    Movie with title Pokemon, genre Cartoon, rating 4.5, duration 94 minutes\n",
        "\n",
        "    Movie with title Titanic, genre Romance, rating 4.7, duration 120 minutes\n",
        "\n",
        "    Movie with title The Code, genre Math and rating 4, duration 82 minutes\n",
        "```"
      ]
    },
    {
      "cell_type": "markdown",
      "metadata": {},
      "source": [
        "\n",
        "Additionally overload the + operator so that we can see how long any given combination of movies is. For example:\n",
        "\n",
        "    pokemon + titanic\n",
        "\n",
        "should yield\n",
        "\n",
        "    The movies Pokemon and Titanic, together, have a total playtime of 94 + 120 = 214 minutes."
      ]
    },
    {
      "cell_type": "markdown",
      "metadata": {},
      "source": [
        "Finally, implement type hints and make your attributes into @properties. \n",
        "\n",
        "Also define setters for the attributes. Make sure to implement checks for the attributes, so that they are of the expected type and format. "
      ]
    },
    {
      "cell_type": "code",
      "execution_count": null,
      "metadata": {},
      "outputs": [],
      "source": [
        "class Movie:\n",
        "    \n",
        "    def __init__(self, name: str, genre: str, IMDB_rating: float|int, duration: int) -> None:\n",
        "       self.name = name\n",
        "       self.genre = genre\n",
        "       self.IMDB_rating = IMDB_rating\n",
        "       self.duration = duration\n",
        "\n",
        "    @property\n",
        "    def name(self) -> str:\n",
        "        return self.__name\n",
        "    \n",
        "    @name.setter\n",
        "    def name(self, name: str) -> None:\n",
        "        if isinstance (name, str):\n",
        "            self.__name = name\n",
        "        else:\n",
        "            raise TypeError(\"The title of the Movie must be of datatype string!\")\n",
        "    \n",
        "    @property   \n",
        "    def genre(self) -> str:\n",
        "        return self.__genre\n",
        "    \n",
        "    @genre.setter\n",
        "    def genre(self, genre: str) -> None:\n",
        "        if isinstance (genre, str):\n",
        "            self.__genre = genre\n",
        "        else:\n",
        "            raise TypeError(\"The genre of the Movie must be of datatype string!\")\n",
        "        \n",
        "    @property\n",
        "    def IMDB_rating(self) -> float:\n",
        "        return self.__IMDB_rating\n",
        "    \n",
        "    @IMDB_rating.setter\n",
        "    def IMDB_rating(self, IMDB_rating: float|int) -> None:\n",
        "        if isinstance (IMDB_rating, float|int):\n",
        "            self.__IMDB_rating = IMDB_rating\n",
        "        else:\n",
        "            raise TypeError(\"The IMDB_rating of the Movie must be of either datatype float, i.e. decimal number, or integer, i.e. whole number!\")\n",
        "    \n",
        "    @property\n",
        "    def duration(self) -> int:\n",
        "        return self.__duration\n",
        "    \n",
        "    @duration.setter\n",
        "    def duration(self, duration: int) -> None:\n",
        "        if isinstance (duration, int):\n",
        "            self.__duration = duration\n",
        "        else:\n",
        "            raise TypeError(\"The duration of the Movie must be of datatype integer, i.e. whole number!\")\n",
        "    \n",
        "    \n",
        "    def info(self) -> str:\n",
        "        return f\"Movie with title {self.name}, genre {self.genre}, has rating {self.IMDB_rating} and duration {self.duration} minutes.\"\n",
        "\n",
        "    def __add__(self, other: \"Movie\") -> None:\n",
        "        print(f\"The movies {self.name} and {other.name}, together, have a total playtime of {self.duration} + {other.duration} = {self.duration + other.duration} minutes.\")\n",
        "\n",
        "pokemon = Movie(\"Pokemon\", \"Cartoon\", 4.5, 94)\n",
        "titanic = Movie(\"Titanic\", \"Romance\", 4.7, 120)\n",
        "code = Movie(\"The Code\", \"Math\", 4, 82)"
      ]
    },
    {
      "cell_type": "code",
      "execution_count": null,
      "metadata": {},
      "outputs": [],
      "source": [
        "pokemon = Movie(\"Pokemon\", \"Cartoon\", 4.5, 94)\n",
        "titanic = Movie(\"Titanic\", \"Romance\", 4.7, 120)\n",
        "code = Movie(\"The Code\", \"Math\", 4, 82)"
      ]
    },
    {
      "cell_type": "code",
      "execution_count": null,
      "metadata": {},
      "outputs": [],
      "source": [
        "print(pokemon)\n",
        "print(titanic)\n",
        "print(code)"
      ]
    },
    {
      "cell_type": "code",
      "execution_count": null,
      "metadata": {},
      "outputs": [],
      "source": [
        "for i in [pokemon, titanic, code]:\n",
        "        print(i.info())"
      ]
    },
    {
      "cell_type": "code",
      "execution_count": null,
      "metadata": {},
      "outputs": [],
      "source": [
        "pokemon + titanic"
      ]
    },
    {
      "cell_type": "code",
      "execution_count": null,
      "metadata": {},
      "outputs": [],
      "source": [
        "hereditary = Movie(\"Hereditary\", \"Horror\", -5, 127)"
      ]
    },
    {
      "cell_type": "code",
      "execution_count": null,
      "metadata": {},
      "outputs": [],
      "source": []
    },
    {
      "cell_type": "markdown",
      "metadata": {
        "id": "bRQQ_JfxRamT"
      },
      "source": [
        "---\n",
        "## 2. Fraction (**)\n",
        "\n",
        "Create a class called Frac to represent mathematical fractions. The class is instantiated with two instance variables: nominator and denominator. Objects instantiated from this class should have methods for addition, subtraction, multiplication, division using the operators +,-,*,/. Note that these implemented methods must be mathematically correct. Also implement the following methods:\n",
        "\n",
        "```python\n",
        "\n",
        "__repr__(self) # represent the fraction in an unambigious way when printing\n",
        "\n",
        "mixed(self) # represent the fraction in mixed terms\n",
        "\n",
        "__eq__(self, other) # checks equality by overloading ==\n",
        "\n",
        "simplify(self) # simplifies the fraction to its most simple form (with all common divisors removed) \n",
        "\n",
        "```\n",
        "\n",
        "Also remember to handle errors and validations.\n",
        "\n",
        "Example of tests that it should handled:\n",
        "\n",
        "- 1/2 + 1/3 = 5/6\n",
        "- 1/2 - 1/3 = 1/6\n",
        "- 7/6 --> 1 1/6 (mixed)\n",
        "- 3*1/2 = 3/2\n",
        "- 1/2 * 3 = 3/2\n",
        "- 1/4 + 2 = 9/4\n",
        "- 1/4 / 1/2 = 1/2\n",
        "- 2/4 == 1/2 --> True\n",
        "- 3/4 += 2 = 11/4\n",
        "\n",
        "</details>\n"
      ]
    },
    {
      "cell_type": "code",
      "execution_count": null,
      "metadata": {},
      "outputs": [],
      "source": [
        "class Frac:\n",
        "    def __init__(self, nom: int, dom:int = 1):\n",
        "        self.nom = nom\n",
        "        self.dom = dom\n",
        " \n",
        "    def __repr__(self):\n",
        "        return f'{self.nom} / {self.dom}'\n",
        " \n",
        "    def mixed(self):\n",
        "        return f' {self.nom // self.dom} +{self.nom % self.dom} / {self.dom} (mixed)'\n",
        " \n",
        "    def simplify(self):\n",
        "        a_ = self.nom\n",
        "        b_ = self.dom\n",
        "        while b_:\n",
        "            a_,b_ = b_, a_ % b_\n",
        "        self.nom = int(self.nom / a_)\n",
        "        self.dom = int(self.dom / a_)\n",
        "        return f' {self.nom} / {self.dom}'\n",
        "    \n",
        "    def __eq__(self, other):\n",
        "        #print(self)\n",
        "        self = Frac.simplify(self)\n",
        "        #print(self)\n",
        "        #print(other)\n",
        "        other = Frac.simplify(other)\n",
        "        #print(other)\n",
        "        if self == other:\n",
        "            return True\n",
        "        else:\n",
        "            return False\n",
        "             \n",
        "    def __add__(self, other):\n",
        "        nom_self  = self.nom * other.dom\n",
        "        nom_other  = self.dom * other.nom\n",
        "        nom = nom_self + nom_other\n",
        "        dom = self.dom * other.dom\n",
        "        ans = Frac.simplify(Frac(nom, dom))\n",
        "        return(ans)\n",
        "        \n",
        "    def __sub__(self,other):\n",
        "        nom_self  = self.nom * other.dom\n",
        "        nom_other  = self.dom * other.nom\n",
        "        nom = nom_self - nom_other\n",
        "        dom = self.dom * other.dom\n",
        "        ans = Frac.simplify(Frac(nom, dom))\n",
        "        return (ans)\n",
        "        \n",
        "    def __mul__(self,other):\n",
        "        nom  = self.nom * other.nom\n",
        "        dom = self.dom * other.dom\n",
        "        ans = Frac.simplify(Frac(nom, dom))\n",
        "        return (ans)\n",
        " \n",
        "    def __truediv__(self, other):\n",
        "        other.nom, other.dom  = other.dom, other.nom\n",
        "        ans = Frac.__mul__(self, other)\n",
        "        other.nom, other.dom  = other.dom, other.nom\n",
        "        return (ans)  \n",
        " \n",
        "    def __iadd__(self, other):\n",
        "        return (self + other)  "
      ]
    },
    {
      "cell_type": "code",
      "execution_count": null,
      "metadata": {},
      "outputs": [],
      "source": [
        "a = Frac(1,2)\n",
        "b = Frac(1,3)\n",
        "c = Frac(4,20)\n",
        "print(a)\n",
        "print(b)\n",
        "print(a + b)\n",
        "print(a - b)\n",
        "print(a * b)\n",
        "print(a / b)\n",
        "print(a == a)\n",
        "print(a == b)\n",
        "print(c.simplify())"
      ]
    },
    {
      "cell_type": "code",
      "execution_count": null,
      "metadata": {},
      "outputs": [],
      "source": []
    }
  ],
  "metadata": {
    "colab": {
      "include_colab_link": true,
      "provenance": []
    },
    "kernelspec": {
      "display_name": "programmering",
      "language": "python",
      "name": "python3"
    },
    "language_info": {
      "codemirror_mode": {
        "name": "ipython",
        "version": 3
      },
      "file_extension": ".py",
      "mimetype": "text/x-python",
      "name": "python",
      "nbconvert_exporter": "python",
      "pygments_lexer": "ipython3",
      "version": "3.13.5"
    }
  },
  "nbformat": 4,
  "nbformat_minor": 0
}
