{
  "cells": [
    {
      "cell_type": "markdown",
      "metadata": {
        "colab_type": "text",
        "id": "view-in-github"
      },
      "source": [
        "<a href=\"https://colab.research.google.com/github/aleylani/Python-AI25/blob/main/exercises/solutions/10_numpy.ipynb\" target=\"_parent\"><img src=\"https://colab.research.google.com/assets/colab-badge.svg\" alt=\"Open In Colab\"/></a>"
      ]
    },
    {
      "cell_type": "markdown",
      "metadata": {
        "id": "kOYYgGm6RJZG"
      },
      "source": [
        "# Numpy exercises\n",
        "\n",
        "---\n",
        "These are introductory exercises in Python with focus in **Numpy**.\n",
        "\n",
        "<p class = \"alert alert-info\" role=\"alert\"><b>Remember</b> to use <b>descriptive variable names</b> in order to get readable code </p>\n",
        "\n",
        "<p class = \"alert alert-info\" role=\"alert\"><b>Remember</b> to format your answers in a neat way using <b>f-strings</b>\n",
        "\n",
        "<p class = \"alert alert-info\" role=\"alert\"><b>Remember</b> to format your input questions in a pedagogical way to guide the user\n",
        "\n",
        "The number of stars (\\*), (\\*\\*), (\\*\\*\\*) denotes the difficulty level of the task\n",
        "\n",
        "---"
      ]
    },
    {
      "cell_type": "markdown",
      "metadata": {
        "id": "CKdkN00VRJZH"
      },
      "source": [
        "## 1. Dice simulations (*)\n",
        "\n",
        "Simulations of one die,  \n",
        "\n",
        "&nbsp; a) Calculate theoretical mean of a dice (six-sided) (*)\n",
        "\n",
        "&nbsp; b) Now do simulations of\n",
        "\n",
        "- 10\n",
        "- 100\n",
        "- 1000\n",
        "- 10000\n",
        "- 100000\n",
        "- 1000000\n",
        "- 10000000\n",
        "\n",
        "number of dices and plot their means. (*)\n",
        "\n",
        "<details>\n",
        "\n",
        "<summary>Answer </summary>\n",
        "\n",
        "a)\n",
        "```\n",
        "3.5\n",
        "```\n",
        "\n",
        "b)\n",
        "\n",
        "<img src=\"../assets/numpy_1b.png\" width = 300>\n",
        "\n",
        "</details>\n",
        "\n",
        "\n"
      ]
    },
    {
      "cell_type": "code",
      "execution_count": null,
      "metadata": {},
      "outputs": [],
      "source": [
        "import numpy as np\n",
        "import matplotlib.pyplot as plt\n",
        "\n",
        "# Step 1: Theoretical mean\n",
        "\n",
        "theoretical_mean = np.mean([1, 2, 3, 4, 5, 6])\n",
        "\n",
        "print(f'Theoretical mean of a fair six-sided die: {theoretical_mean}.')\n",
        "\n",
        "# Step 2: Simulations for different number of dice\n",
        "num_dice = [10, 100, 1000, 10000, 100000, 1000000, 10000000]\n",
        "simulated_means = []\n",
        "\n",
        "for n in num_dice:\n",
        "\n",
        "    rolls = np.random.randint(1,7,size=n)      # simulate n rolls\n",
        "    mean_roll = np.mean(rolls)                 # calculate the mean of n rolls\n",
        "    simulated_means.append(mean_roll)\n",
        "    print(f'Mean for {n} dice rolls: {mean_roll}')\n",
        "\n",
        "plt.plot(simulated_means)\n",
        "plt.xticks([0,1,2,3,4,5,6], num_dice)\n",
        "plt.title('Experimental dice roll means')\n",
        "plt.xlabel('Dice rolls')\n",
        "plt.ylabel('Mean roll')\n",
        "plt.ylim(2.5, 5)                              # bra metod för att kontroller y-axeln\n",
        "plt.show()\n",
        "    "
      ]
    },
    {
      "cell_type": "markdown",
      "metadata": {
        "id": "eVDKE8kPRJZH"
      },
      "source": [
        "---\n",
        "## 2. Several dices (**)\n",
        "\n",
        "&nbsp; a) Make a sample space for the sum of two dices, i.e. all possible outcomes of these dices. (*)\n",
        "\n",
        "&nbsp; b) Count the number of each values in the sample space (*)\n",
        "\n",
        "&nbsp; c) Now calculate the frequency $f_i$ for each unique value. Also check that the sum of frequencies sums to 1, i.e. $\\sum_i f_i = 1$. (*)\n",
        "\n",
        "&nbsp; d) Make a bar chart of the sum of two dices, with frequencies in y and unique values in x. This is a probability distribution of the sum of your two dices. (*)\n",
        "\n",
        "&nbsp; e) Now make barplots in subplots of sum of dices for 1 dice, 2 dices, 3 dices and 4 dices. What is the pattern that you see? (**)\n",
        "\n",
        "<details>\n",
        "\n",
        "<summary>Hint</summary>\n",
        "\n",
        "a)\n",
        "\n",
        "Here are some potentially useful methods:\n",
        "\n",
        "```py\n",
        "\n",
        "np.meshgrid(), np.add.reduce(), np.unique()\n",
        "\n",
        "```\n",
        "\n",
        "c)\n",
        "\n",
        "Divide by the total number of outcomes\n",
        "\n",
        "\n",
        "</details>\n",
        "\n",
        "<details>\n",
        "\n",
        "<summary>Answer</summary>\n",
        "\n",
        "\n",
        "a)\n",
        "\n",
        "Sample space\n",
        "\n",
        "```\n",
        "[[ 2  3  4  5  6  7]\n",
        " [ 3  4  5  6  7  8]\n",
        " [ 4  5  6  7  8  9]\n",
        " [ 5  6  7  8  9 10]\n",
        " [ 6  7  8  9 10 11]\n",
        " [ 7  8  9 10 11 12]]\n",
        "```\n",
        "\n",
        "b)\n",
        "\n",
        "Unique values:\n",
        "```\n",
        "[ 2  3  4  5  6  7  8  9 10 11 12]\n",
        "```\n",
        "\n",
        "Count:\n",
        "```\n",
        "[1 2 3 4 5 6 5 4 3 2 1]\n",
        "```\n",
        "\n",
        "c)\n",
        "\n",
        "```\n",
        "[0.028 0.056 0.083 0.111 0.139 0.167 0.139 0.111 0.083 0.056 0.028]\n",
        "```\n",
        "\n",
        "d)\n",
        "\n",
        "\n",
        "<img src=\"../assets/numpy2d.png\" width = 300>\n",
        "\n",
        "\n",
        "e)\n",
        "\n",
        "<img src=\"../assets/numpy2e.png\" width = 500>\n",
        "\n",
        "\n",
        "We see that when we sum several uniformly distributed random variables we will approach the normal distribution. This is called the central limit theorem, which we will come back to in the statistics course.\n",
        "\n",
        "</details>"
      ]
    },
    {
      "cell_type": "markdown",
      "metadata": {},
      "source": [
        "## Elevlösning (Balder) nedan!"
      ]
    },
    {
      "cell_type": "code",
      "execution_count": null,
      "metadata": {},
      "outputs": [],
      "source": [
        "dice_1 = [1,2,3,4,5,6]\n",
        "dice_2 = [1,2,3,4,5,6]\n",
        "dice_space_old = []\n",
        "\n",
        "for roll1 in dice_1:\n",
        "    for roll2 in dice_2:\n",
        "        summa = roll1 + roll2\n",
        "        dice_space_old.append(summa)\n",
        "\n",
        "\n",
        "print(dice_space_old)"
      ]
    },
    {
      "cell_type": "code",
      "execution_count": null,
      "metadata": {},
      "outputs": [],
      "source": [
        "dice = np.arange(1,7)                       #En tärning\n",
        "d1, d2 = np.meshgrid(dice, dice)            #2 tärningar\n",
        "dice_space_flatten = (d1 + d2).flatten()    #Till en lista\n",
        "\n",
        "print(dice)\n",
        "print(d1)\n",
        "print(d2)\n",
        "print(d1 + d2)\n",
        "print(dice_space_flatten)"
      ]
    },
    {
      "cell_type": "code",
      "execution_count": null,
      "metadata": {},
      "outputs": [],
      "source": [
        "# 3 och 4 tärningar\n",
        "\n",
        "dice_3d_1, dice_3d_2, dice_3d_3 = np.meshgrid(dice, dice, dice)                      #3 Tärningar\n",
        "dice_3d_space = (dice_3d_1 + dice_3d_2 + dice_3d_3).flatten()\n",
        "\n",
        "dice_4d_1, dice_4d_2, dice_4d_3, dice_4d_4  = np.meshgrid(dice, dice, dice, dice)    #4 Tärningar\n",
        "dice_4d_space = (dice_4d_1 + dice_4d_2 + dice_4d_3 + dice_4d_4).flatten()"
      ]
    },
    {
      "cell_type": "code",
      "execution_count": null,
      "metadata": {},
      "outputs": [],
      "source": [
        "# Räkna tärningar till dictionary\n",
        "\n",
        "from collections import Counter\n",
        "\n",
        "counted_2d = Counter(dice_space_flatten)\n",
        "\n",
        "print(counted_2d)\n",
        "\n",
        "for key, value in counted_2d.items():\n",
        "    print(f\"{key}: {value}\")"
      ]
    },
    {
      "cell_type": "code",
      "execution_count": null,
      "metadata": {},
      "outputs": [],
      "source": [
        "counted_1d = Counter(dice)\n",
        "counted_3d = Counter(dice_3d_space)\n",
        "counted_4d = Counter(dice_4d_space)"
      ]
    },
    {
      "cell_type": "code",
      "execution_count": null,
      "metadata": {},
      "outputs": [],
      "source": [
        "frekvens_count_2d = {key: value / sum(counted_2d.values()) for key, value in counted_2d.items()}\n",
        "\n",
        "for key, value in frekvens_count_2d.items():\n",
        "    print(f\"{key}: {value}\")\n",
        "\n",
        "summa = 0\n",
        "\n",
        "for value in frekvens_count_2d.values():\n",
        "    summa += value\n",
        "\n",
        "print(summa)"
      ]
    },
    {
      "cell_type": "code",
      "execution_count": null,
      "metadata": {},
      "outputs": [],
      "source": [
        "frekvens_count_1d = {key: value / sum(counted_1d.values()) for key, value in counted_1d.items()}\n",
        "frekvens_count_3d = {key: value / sum(counted_3d.values()) for key, value in counted_3d.items()}\n",
        "frekvens_count_4d = {key: value / sum(counted_4d.values()) for key, value in counted_4d.items()}"
      ]
    },
    {
      "cell_type": "code",
      "execution_count": null,
      "metadata": {},
      "outputs": [],
      "source": [
        "x_2d = list(frekvens_count_2d.keys())\n",
        "y_2d = [y * 100 for y in frekvens_count_2d.values()]\n",
        "\n",
        "plt.bar(x_2d, y_2d)\n",
        "plt.title(\"Frequencies of unique dice amounts\")\n",
        "plt.xlabel(\"Unique amounts\")\n",
        "plt.ylabel(\"Frequencies\")\n",
        "plt.yticks(y_2d, [f\"{round(y, 1)}%\" for y in y_2d])\n",
        "plt.xticks(x_2d, [str(x) for x in x_2d])\n",
        "plt.show()"
      ]
    },
    {
      "cell_type": "code",
      "execution_count": null,
      "metadata": {},
      "outputs": [],
      "source": [
        "x_1d = list(frekvens_count_1d.keys())\n",
        "y_1d = [y * 100 for y in frekvens_count_1d.values()]\n",
        "\n",
        "x_3d = list(frekvens_count_3d.keys())\n",
        "y_3d = [y * 100 for y in frekvens_count_3d.values()]\n",
        "\n",
        "x_4d = list(frekvens_count_4d.keys())\n",
        "y_4d = [y * 100 for y in frekvens_count_4d.values()]\n"
      ]
    },
    {
      "cell_type": "code",
      "execution_count": null,
      "metadata": {},
      "outputs": [],
      "source": [
        "fig, axs = plt.subplots(2, 2, figsize=(18, 12))                   # Subplottens hela Canvas\n",
        "\n",
        "axs[0, 0].bar(x_1d, y_1d)\n",
        "axs[0, 0].set_title(\"Möjliga summor med: 1 tärning\")\n",
        "axs[0, 0].set_ylabel(\"Sannolikhet\")\n",
        "axs[0, 0].set_xticks(x_1d, [str(x) for x in x_1d])\n",
        "axs[0, 0].set_yticks(y_1d, [f\"{round(y, 1)}%\" for y in y_1d])\n",
        "\n",
        "axs[0, 1].bar(x_2d, y_2d)\n",
        "axs[0, 1].set_title(\"2 tärningar\")\n",
        "axs[0, 1].set_xticks(x_2d, [str(x) for x in x_2d])\n",
        "axs[0, 1].set_yticks(y_2d, [f\"{round(y, 1)}%\" for y in y_2d])\n",
        "\n",
        "axs[1, 0].bar(x_3d, y_3d)\n",
        "axs[1, 0].set_title(\"3 tärningar\")\n",
        "axs[1, 0].set_xticks(x_3d, [str(x) for x in x_3d])\n",
        "axs[1, 0].set_yticks(y_3d, [f\"{round(y, 1)}%\" for y in y_3d])\n",
        "\n",
        "axs[1, 1].bar(x_4d, y_4d)\n",
        "axs[1, 1].set_title(\"4 tärningar\")\n",
        "axs[1, 1].set_xticks(x_4d, [str(x) for x in x_4d])\n",
        "axs[1, 1].set_yticks(y_4d, [f\"{round(y, 1)}%\" for y in y_4d])\n",
        "\n",
        "axs[0,0].bar(x_1d, y_1d, color='skyblue')\n",
        "axs[0,1].bar(x_2d, y_2d, color='orange')\n",
        "axs[1,0].bar(x_3d, y_3d, color='green')\n",
        "axs[1,1].bar(x_4d, y_4d, color='red')\n",
        "\n",
        "fig.tight_layout(pad=1.5)\n",
        "plt.show()"
      ]
    },
    {
      "cell_type": "markdown",
      "metadata": {},
      "source": []
    }
  ],
  "metadata": {
    "colab": {
      "include_colab_link": true,
      "provenance": []
    },
    "kernelspec": {
      "display_name": "programmering",
      "language": "python",
      "name": "python3"
    },
    "language_info": {
      "codemirror_mode": {
        "name": "ipython",
        "version": 3
      },
      "file_extension": ".py",
      "mimetype": "text/x-python",
      "name": "python",
      "nbconvert_exporter": "python",
      "pygments_lexer": "ipython3",
      "version": "3.13.5"
    }
  },
  "nbformat": 4,
  "nbformat_minor": 0
}
