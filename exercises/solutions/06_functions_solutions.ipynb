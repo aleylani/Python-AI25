{
  "cells": [
    {
      "cell_type": "markdown",
      "metadata": {
        "colab_type": "text",
        "id": "view-in-github"
      },
      "source": [
        "<a href=\"https://colab.research.google.com/github/aleylani/Python-AI24/blob/main/exercises/solutions/06_functions_solutions.ipynb\" target=\"_parent\"><img src=\"https://colab.research.google.com/assets/colab-badge.svg\" alt=\"Open In Colab\"/></a>"
      ]
    },
    {
      "cell_type": "markdown",
      "metadata": {
        "id": "GCjW3bj4Rjiy"
      },
      "source": [
        "# functions exercises\n",
        "\n",
        "---\n",
        "These are introductory exercises in Python with focus in **functions**.\n",
        "\n",
        "<p class = \"alert alert-info\" role=\"alert\"><b>Remember</b> to use <b>descriptive variable and function names</b> in order to get readable code </p>\n",
        "\n",
        "<p class = \"alert alert-info\" role=\"alert\"><b>Remember</b> to format your answers in a neat way using <b>f-strings</b>\n",
        "\n",
        "<p class = \"alert alert-info\" role=\"alert\"><b>Remember</b> to format your input questions in a pedagogical way to guide the user\n",
        "\n",
        "The number of stars (\\*), (\\*\\*), (\\*\\*\\*) denotes the difficulty level of the task\n",
        "\n",
        "---"
      ]
    },
    {
      "cell_type": "markdown",
      "metadata": {
        "id": "U1m45wj-Rjiy"
      },
      "source": [
        "## 1. Area (*)\n",
        "\n",
        "Create a function that takes the base and height of a triangle as input parameters and returns the area of the triangle."
      ]
    },
    {
      "cell_type": "code",
      "execution_count": null,
      "metadata": {},
      "outputs": [],
      "source": [
        "def calculate_area(base, height):\n",
        "\n",
        "    area = base*height/2\n",
        "\n",
        "    print(f'Your area is {area}')"
      ]
    },
    {
      "cell_type": "code",
      "execution_count": null,
      "metadata": {},
      "outputs": [],
      "source": [
        "base = float(input('Ge oss basen av triangeln: '))\n",
        "height = float(input('Ge oss höjden av triangeln: '))\n",
        "\n",
        "print(base)\n",
        "print(height)\n",
        "\n",
        "calculate_area(base, height)\n"
      ]
    },
    {
      "cell_type": "markdown",
      "metadata": {
        "id": "BWpBhHfdRjiy"
      },
      "source": [
        "---\n",
        "\n",
        "## 2. Euclidean distance (*)\n",
        "\n",
        "The formula for Euclidean distance in 2D between $P: (p_1, p_2)$ and $Q: (q_1, q_2)$  is:\n",
        "\n",
        "$d(P,Q) = \\sqrt{(p_1-q_1)^2 + (p_2-q_2)^2}$\n",
        "\n",
        "&nbsp; a) &nbsp; Create a function that takes two points as input parameters and return the Euclidean between them. (*)\n",
        "\n",
        "&nbsp; b) &nbsp; Let the user input two points. Call the function using the users input points. (*)\n",
        "\n",
        "&nbsp; c) &nbsp; Use your function to calculate distances between the origin (0, 0) and each of these points: (10, 3), (-1, -9), (10, -10), (4, -2), (9, -10). (*)\n",
        "\n",
        "<details>\n",
        "\n",
        "<summary>Hint</summary>\n",
        "\n",
        "Use a **for** statement\n",
        "\n",
        "</details>\n",
        "<br>\n",
        "<details>\n",
        "\n",
        "<summary>Answer</summary>\n",
        "\n",
        "c)\n",
        "\n",
        "```\n",
        "[10.4, 9.1, 14.1, 4.5, 13.5]\n",
        "```\n",
        "\n",
        "</details>\n"
      ]
    },
    {
      "cell_type": "markdown",
      "metadata": {},
      "source": [
        "**a)**"
      ]
    },
    {
      "cell_type": "code",
      "execution_count": null,
      "metadata": {},
      "outputs": [],
      "source": [
        "import math\n",
        "\n",
        "def euclidian(p1, q1, p2, q2):\n",
        "\n",
        "    distance = math.sqrt( (p1-q1)**2 + (p2-q2)**2)\n",
        "    print(distance)    "
      ]
    },
    {
      "cell_type": "markdown",
      "metadata": {},
      "source": [
        "**b)**"
      ]
    },
    {
      "cell_type": "code",
      "execution_count": null,
      "metadata": {},
      "outputs": [],
      "source": [
        "p1 = float(input('ange p1: '))\n",
        "q1 = float(input('ange q1: '))\n",
        "p2 = float(input('ange p2: '))\n",
        "q2 = float(input('ange q2: '))\n",
        "\n",
        "euclidian(p1, q1, p2, q2)\n",
        "\n"
      ]
    },
    {
      "cell_type": "markdown",
      "metadata": {},
      "source": [
        "**c)**"
      ]
    },
    {
      "cell_type": "markdown",
      "metadata": {},
      "source": [
        "(10, 3), (-1, -9), (10, -10), (4, -2), (9, -10)"
      ]
    },
    {
      "cell_type": "code",
      "execution_count": null,
      "metadata": {},
      "outputs": [],
      "source": [
        "p1 = 0\n",
        "p2 = 0\n",
        "\n",
        "for point in [ [10, 3], [-1, -9], [10, -10], [4, -2], [9, -10 ] ]:\n",
        "\n",
        "    print(point) \n",
        "    q1 = point[0]              \n",
        "    q2 = point[1]\n",
        "\n",
        "    print(q1, q2)\n",
        "    euclidian(p1, q1, p2, q2)\n",
        "    print()\n"
      ]
    },
    {
      "cell_type": "markdown",
      "metadata": {
        "id": "Je3hvdMsRji0"
      },
      "source": [
        "---\n",
        "## 3. Mathematical functions (*)\n",
        "\n",
        "Make the following functions with **def** and plot their graphs in the same figure window, with $x\\in [-10,10]$ :\n",
        "\n",
        "&nbsp; a) &nbsp;  $f(x) = x^2 -3$ (*)\n",
        "\n",
        "&nbsp; b) &nbsp; $g(x) = 4x-7$ (*)\n",
        "\n",
        "Do the graphs cross each other at some point?"
      ]
    },
    {
      "cell_type": "code",
      "execution_count": null,
      "metadata": {},
      "outputs": [],
      "source": [
        "def f(x):\n",
        "\n",
        "    value = x**2 - 3\n",
        "\n",
        "    return value\n",
        "\n",
        "def g(x):\n",
        "\n",
        "    value = 4*x - 7\n",
        "\n",
        "    return value"
      ]
    },
    {
      "cell_type": "code",
      "execution_count": null,
      "metadata": {},
      "outputs": [],
      "source": [
        "f_values = []\n",
        "g_values = []\n",
        "x_values = []\n",
        "\n",
        "for x in range(-10, 11):\n",
        "\n",
        "    x_values.append(x)\n",
        "\n",
        "    f_answer = f(x)\n",
        "    g_answer = g(x)\n",
        "\n",
        "    f_values.append(f_answer)\n",
        "    g_values.append(g_answer)"
      ]
    },
    {
      "cell_type": "code",
      "execution_count": null,
      "metadata": {},
      "outputs": [],
      "source": [
        "import matplotlib.pyplot as plt\n",
        "\n",
        "plt.plot(x_values, f_values)\n",
        "plt.plot(x_values, g_values)\n",
        "plt.title('Mina Grafer')\n",
        "\n"
      ]
    },
    {
      "cell_type": "markdown",
      "metadata": {},
      "source": [
        "Alternativt kan vi skapa ovan listor med **list comprehensions** istället"
      ]
    },
    {
      "cell_type": "code",
      "execution_count": null,
      "metadata": {},
      "outputs": [],
      "source": [
        "f_values = [f(x) for x in range(-10, 11)]\n",
        "g_values = [g(x) for x in range(-10, 11)]\n",
        "x_values = [x for x in range(-10, 11)]\n",
        "\n",
        "\n",
        "print(x_values)\n",
        "print(f_values)\n",
        "print(g_values)"
      ]
    },
    {
      "cell_type": "markdown",
      "metadata": {
        "id": "oDD5-Sy3Rji0"
      },
      "source": [
        "---\n",
        "## 4. Name cleaner (*)\n",
        "\n",
        "Create a function that takes a name as an input and:\n",
        "\n",
        "- removes all leading and trailing blank spaces\n",
        "- make capitalize the first character of each name, and make the rest lowercase\n",
        "\n",
        "Use your function on this list of strings:\n",
        "\n",
        "```\n",
        "[\"  MaRcUs \", \" iDA aNderSon\", \"OLOF Olofsson            \"  ]\n",
        "```\n",
        "\n",
        "\n",
        "<details>\n",
        "\n",
        "<summary>Hint</summary>\n",
        "Use\n",
        "\n",
        "- [title() method][str_title]\n",
        "- [strip() method][str_strip]\n",
        "- [join() method][str_join]\n",
        "- [split() method][str_split]\n",
        "\n",
        "[str_title]: https://www.w3schools.com/python/ref_string_title.asp\n",
        "[str_strip]: https://www.w3schools.com/python/ref_string_strip.asp\n",
        "[str_join]: https://www.w3schools.com/python/ref_string_join.asp\n",
        "[str_split]: https://www.w3schools.com/python/ref_string_split.asp\n",
        "\n",
        "</details>\n",
        "<br>\n",
        "<details>\n",
        "\n",
        "<summary>Answer</summary>\n",
        "\n",
        "```\n",
        "Marcus\n",
        "Ida Anderson\n",
        "Olof Olofsson\n",
        "```\n",
        "\n",
        "</details>\n"
      ]
    },
    {
      "cell_type": "markdown",
      "metadata": {},
      "source": [
        "**Lösning 1**"
      ]
    },
    {
      "cell_type": "code",
      "execution_count": null,
      "metadata": {},
      "outputs": [],
      "source": [
        "def name_cleaner(name):\n",
        "\n",
        "    name_without_blank_spaces = name.strip()\n",
        "    name_titled = name_without_blank_spaces.title()\n",
        "\n",
        "    print(name_titled)\n",
        "\n",
        "namelist = [\"  MaRcUs \", \" iDA aNderSon\", \"             OLOF   Olofsson            \"  ]\n",
        "\n",
        "for name in namelist:\n",
        "\n",
        "    name_cleaner(name)"
      ]
    },
    {
      "cell_type": "markdown",
      "metadata": {},
      "source": [
        "**Lösning 2, med chaining**"
      ]
    },
    {
      "cell_type": "code",
      "execution_count": null,
      "metadata": {},
      "outputs": [],
      "source": [
        "def name_cleaner(name):\n",
        "\n",
        "    cleaned_name = name.strip().title()\n",
        "\n",
        "    print(cleaned_name)\n",
        "\n",
        "namelist = [\"  MaRcUs \", \" iDA aNderSon\", \"             OLOF Olofsson            \"  ]\n",
        "\n",
        "for name in namelist:\n",
        "\n",
        "    name_cleaner(name)"
      ]
    },
    {
      "cell_type": "markdown",
      "metadata": {
        "id": "KPzkiXToRji1"
      },
      "source": [
        "---\n",
        "## 5. Change (**)\n",
        "\n",
        "Create a function that takes a value as input parameter and print out the banknotes and coins in Swedish currency representing this value. For example 5289 would give the following printout:\n",
        "\n",
        "- 5st 1000-lapp\n",
        "- 1st 200-lapp\n",
        "- 1st 50-lapp\n",
        "- 1st 20-lapp\n",
        "- 1st 10-krona\n",
        "- 1st 5-krona\n",
        "- 2st 2-krona\n",
        "\n",
        "Now let the user input a value, and use the function to calculate the change."
      ]
    },
    {
      "cell_type": "code",
      "execution_count": null,
      "metadata": {},
      "outputs": [],
      "source": [
        "def currency_divider(value, notes):\n",
        "\n",
        "    number_of_each_note = []                                   # vi skapar här en lista där vi ska spara antalet av varje valör\n",
        "\n",
        "    for note in notes:                              \n",
        "\n",
        "        remainder = value % note\n",
        "        divisible_by_note = value - remainder                  # detta är nu ett tal som är delbart med det aktuella värdet av note\n",
        "        multiplies_of_note = divisible_by_note/note            # räkna ut hur många hela sedlar av nuvarande värdet av note, som får plats i värdet av value\n",
        "        number_of_each_note.append(multiplies_of_note)         # lägg till antalet hela sedlar i listan number_of_each_note\n",
        "\n",
        "        value = remainder                                      # skriv nu över värdet value till remainder, vilket är det återstående som vi vill fortsätta\n",
        "                                                               # göra beräkningar för\n",
        "\n",
        "    return number_of_each_note\n",
        "\n",
        "\n",
        "\n",
        "# TESTA FUNKTIONEN\n",
        "\n",
        "value = 1225                                                      # värdet vi vill dela upp i mindre valörer\n",
        "notes = [1000, 200, 50, 20, 10, 5, 2]                             # valörer som vi vill använda\n",
        "\n",
        "number_of_each_note = currency_divider(1225, notes)\n",
        "\n",
        "for i, j in zip(notes, number_of_each_note):\n",
        "\n",
        "    print(f'{j} st av valören {i}')\n",
        "        "
      ]
    },
    {
      "cell_type": "markdown",
      "metadata": {},
      "source": [
        "Som ni ser ovan så ges antalet av float-nummer, när kanske integers är mer lämpligt. Om man vill kan man gå tillbaks in i koden och åtgära det."
      ]
    }
  ],
  "metadata": {
    "colab": {
      "include_colab_link": true,
      "provenance": []
    },
    "kernelspec": {
      "display_name": "Python 3 (ipykernel)",
      "language": "python",
      "name": "python3"
    },
    "language_info": {
      "codemirror_mode": {
        "name": "ipython",
        "version": 3
      },
      "file_extension": ".py",
      "mimetype": "text/x-python",
      "name": "python",
      "nbconvert_exporter": "python",
      "pygments_lexer": "ipython3",
      "version": "3.8.13"
    },
    "vscode": {
      "interpreter": {
        "hash": "0da836a34428266995a795f1e1e27b816fa1c02f148d9728b3fbbbc5459afca6"
      }
    }
  },
  "nbformat": 4,
  "nbformat_minor": 0
}
