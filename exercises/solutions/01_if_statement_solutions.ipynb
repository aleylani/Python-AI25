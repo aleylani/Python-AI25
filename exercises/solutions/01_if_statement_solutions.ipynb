{
  "cells": [
    {
      "cell_type": "markdown",
      "metadata": {
        "colab_type": "text",
        "id": "view-in-github"
      },
      "source": [
        "<a href=\"https://colab.research.google.com/github/aleylani/Python-AI25/blob/main/exercises/solutions/01_if_statement_solutions.ipynb\" target=\"_parent\"><img src=\"https://colab.research.google.com/assets/colab-badge.svg\" alt=\"Open In Colab\"/></a>"
      ]
    },
    {
      "cell_type": "markdown",
      "metadata": {
        "id": "V_XJ764PQBl5"
      },
      "source": [
        "# if statements exercises\n",
        "\n",
        "---\n",
        "These are introductory exercises in Python with focus in **if** statement.\n",
        "\n",
        "<p class = \"alert alert-info\" role=\"alert\"><b>Remember</b> to use <b>descriptive variable names</b> in order to get readable code </p>\n",
        "\n",
        "<p class = \"alert alert-info\" role=\"alert\"><b>Remember</b> to format your answers in a neat way using <b>f-strings</b>\n",
        "\n",
        "<p class = \"alert alert-info\" role=\"alert\"><b>Remember</b> to format your input questions in a pedagogical way to guide the user\n",
        "\n",
        "The number of stars (\\*), (\\*\\*), (\\*\\*\\*) denotes the difficulty level of the task\n",
        "\n",
        "---"
      ]
    },
    {
      "cell_type": "markdown",
      "metadata": {
        "id": "aBBTSK3GQBl6"
      },
      "source": [
        "## 1. Check sign (*)\n",
        "\n",
        "Ask the user to input a number and check if this number is **positive**, **negative** or **zero** and print it out."
      ]
    },
    {
      "cell_type": "code",
      "execution_count": null,
      "metadata": {},
      "outputs": [],
      "source": [
        "user_number = int( input('Ange ett tal: ') )    # be användaren om ett tal, och omvandla datatypen av inputen till integer\n",
        "\n",
        "if user_number > 0:\n",
        "    print(f'{user_number} är ett positivt tal.')\n",
        "\n",
        "elif user_number == 0:\n",
        "    print(f'{user_number} är noll. Duh.')\n",
        "\n",
        "else:                          # notera att else fångar upp fallet då user_number varken är större än, eller lika med, noll. Dvs, när user_number < 0\n",
        "    print(f'{user_number} är ett negativt tal.')\n",
        "    "
      ]
    },
    {
      "cell_type": "markdown",
      "metadata": {
        "id": "FEwYSDEWQBl7"
      },
      "source": [
        "---\n",
        "## 2. Smallest (*)\n",
        "Ask the user to input two numbers and check which one is the smallest and print it out.   "
      ]
    },
    {
      "cell_type": "code",
      "execution_count": null,
      "metadata": {},
      "outputs": [],
      "source": [
        "first_user_number = int( input('Ange ett tal: ') )  \n",
        "second_user_number = int( input('Ange ett annat tal: ') )\n",
        "\n",
        "if first_user_number > second_user_number:\n",
        "    print(f'{first_user_number} är större än {second_user_number}.')\n",
        "\n",
        "elif first_user_number < second_user_number:\n",
        "    print(f'{second_user_number} är större än {first_user_number}.')\n",
        "\n",
        "else:                                                                 # vilket fall fångar else upp här? \n",
        "    print('Dina tal är lika stora.')"
      ]
    },
    {
      "cell_type": "markdown",
      "metadata": {
        "id": "57poR3jBQBl7"
      },
      "source": [
        "---\n",
        "## 3. Right angle (*)\n",
        "\n",
        "Ask the user to input three angles and check if the triangle has a right angle. Your code should make sure that all three angles are valid and make up a triangle.\n",
        "\n",
        "<img align=\"left\" src=\"../assets/triangle_angles.png\" width=\"200\"/>"
      ]
    },
    {
      "cell_type": "code",
      "execution_count": null,
      "metadata": {},
      "outputs": [],
      "source": [
        "first_angle = int( input('Vänligen ange första vinkeln av din triangel: ') )\n",
        "second_angle = int( input('Vänligen ange andra vinkeln av din triangel: ') )\n",
        "third_angle = int( input('Vänligen ange tredje vinkeln av din triangel: ') )\n",
        "\n",
        "\n",
        "# fånga upp om användaren angett en vinkel till 0, vilket omedelbart diskvalificerar vinklarna från att ugöra en triangel\n",
        "if first_angle == 0 or second_angle == 0 or third_angle == 0:                 \n",
        "\n",
        "    print('Du har anget minst en 0-vinkel. En triangel har inga 0-vinklar')\n",
        "\n",
        "# om ingen vinkel är noll, utför detta\n",
        "else:                                            \n",
        "\n",
        "    angle_sum = first_angle + second_angle + third_angle\n",
        "\n",
        "    if angle_sum  == 180:                                                      # kontrollera huruvida vinklarna gör upp en korrekt triangel\n",
        "    \n",
        "        if first_angle == 90 or second_angle == 90 or third_angle == 90:       # kontrollera om vi har en rätvinklig triangel\n",
        "            print('Grymt, du har en rätvinklig triangel!')\n",
        "        \n",
        "        else:\n",
        "            print('Du har anget vinkarna för en triangel, men den är inte rät!')\n",
        "\n",
        "    else:\n",
        "    \n",
        "        print(f'Du har inte angett en korrekt vinkelsumma som motsvarar än triangel. Du angav vinkelsumman {angle_sum}, men en triangel har alltid vinkelsumman 180.')"
      ]
    },
    {
      "cell_type": "markdown",
      "metadata": {
        "id": "nRxIy93lQBl7"
      },
      "source": [
        "----\n",
        "## 4. Medicine (*)\n",
        "\n",
        "The information in the following table is stated in a medicine package. Also it is stated that for children weight is more important than age.\n",
        "\n",
        "<table align=\"left\">\n",
        "<thead>\n",
        "    <tr>\n",
        "        <th></th>\n",
        "        <th>Age</th>\n",
        "        <th>Number of pills</th>\n",
        "    </tr>\n",
        "</thead>\n",
        "\n",
        "<tbody>\n",
        "  <tr>\n",
        "    <td>Adults & adolescent <br>over 40 kg</td>\n",
        "    <td>over 12 years</td>\n",
        "    <td>1-2</td>\n",
        "  </tr>\n",
        "\n",
        "  <tr>\n",
        "    <td>Children 26-40 kg</td>\n",
        "    <td>7-12 years</td>\n",
        "    <td>1/2-1</td>\n",
        "  </tr>\n",
        "\n",
        "  <tr>\n",
        "    <td>Children 15-25 kg</td>\n",
        "    <td>3-7 years</td>\n",
        "    <td>1/2</td>\n",
        "  </tr>\n",
        "</tbody>\n",
        "</table>"
      ]
    },
    {
      "cell_type": "markdown",
      "metadata": {
        "id": "EVUjoVVzQBl7"
      },
      "source": [
        "Let the user input an **age** and a **weight**, the program should recommend the number of pills for the user."
      ]
    },
    {
      "cell_type": "code",
      "execution_count": null,
      "metadata": {},
      "outputs": [],
      "source": [
        "age = int(input('Ange en ålder: '))\n",
        "weight = int(input('Ange en vikt: '))\n",
        "\n",
        "if age <= 12:                                                          # hantera fallet med barn först\n",
        "\n",
        "    if 15 <= weight < 26:\n",
        "        print('Your childs dosage is exactly 1/2 pill.')               # vikt är viktigare om det gäller barn, så vi behöver bara kolla det\n",
        "    \n",
        "    elif 26 <= weight < 40:                                         \n",
        "        print('Your child should consume either 1/2 or 1 whole pill.')\n",
        "\n",
        "    else:                                                              # vilket fall fångas upp här?\n",
        "        print('Please, contact a physician for further assistance.')\n",
        "\n",
        "else:                                                                  # exekveras om age > 12. Dvs, om vi pratar om vuxna\n",
        "    \n",
        "    print('You could go ahead and consume between 1 and 2 pills.')\n"
      ]
    },
    {
      "cell_type": "markdown",
      "metadata": {
        "id": "yUEv0BwKQBl8"
      },
      "source": [
        "---\n",
        "## 5. Divisible (*)\n",
        "Let the user input a number. Check if the number is\n",
        "<ol type=\"a\">\n",
        "  <li>even or odd</li>\n",
        "  <li>is divisible by 5</li>\n",
        "  <li>is divisble by 5 and odd</li>\n",
        "</ol>"
      ]
    },
    {
      "cell_type": "markdown",
      "metadata": {},
      "source": [
        "**a)**"
      ]
    },
    {
      "cell_type": "code",
      "execution_count": 9,
      "metadata": {},
      "outputs": [
        {
          "name": "stdout",
          "output_type": "stream",
          "text": [
            "11 is an odd number.\n"
          ]
        }
      ],
      "source": [
        "user_number = int(input('Ange ett tal: '))\n",
        "\n",
        "if user_number % 2 == 0:\n",
        "    \n",
        "    print(f'{user_number} is an even number.')\n",
        "\n",
        "else:\n",
        "\n",
        "    print(f'{user_number} is an odd number.')"
      ]
    },
    {
      "cell_type": "markdown",
      "metadata": {},
      "source": [
        "**b)**"
      ]
    },
    {
      "cell_type": "code",
      "execution_count": null,
      "metadata": {},
      "outputs": [],
      "source": [
        "user_number = int(input('Ange ett tal: '))\n",
        "\n",
        "if user_number % 5 == 0:\n",
        "    \n",
        "    print(f'{user_number} is divisible by 5.')\n",
        "\n",
        "else:\n",
        "\n",
        "    print(f'{user_number} is not divisible by 5.')"
      ]
    },
    {
      "cell_type": "markdown",
      "metadata": {},
      "source": [
        "**c)**"
      ]
    },
    {
      "cell_type": "code",
      "execution_count": null,
      "metadata": {},
      "outputs": [],
      "source": [
        "user_number = int(input('Ange ett tal: '))\n",
        "\n",
        "if user_number % 5 == 0 and user_number % 2 == 0:\n",
        "\n",
        "    print(f'{user_number} is both divisible by 5 and even!')\n",
        "\n",
        "elif user_number % 5 == 0 and user_number % 2 == 1:\n",
        "\n",
        "    print(f'{user_number} is divisible by 5, but not even.')\n",
        "\n",
        "else:\n",
        "\n",
        "    print(f'{user_number} is not divisible by 5.')"
      ]
    },
    {
      "cell_type": "markdown",
      "metadata": {
        "id": "1loU66d0QBl8"
      },
      "source": [
        "---\n",
        "## 6. Luggage size (*)\n",
        "\n",
        "The maximum allowed luggage size for boarding an airplane is:\n",
        "- weight: 8kg\n",
        "- dimensions: 55x40x23cm (length x width x height)\n",
        "\n",
        "Let the user input weight, length, width and height of the luggage. The program should check if the luggage is allowed or not."
      ]
    },
    {
      "cell_type": "code",
      "execution_count": null,
      "metadata": {},
      "outputs": [],
      "source": [
        "weight = int(input('Ange vikt: '))\n",
        "\n",
        "if weight <= 80:            # kolla direkt om vikten är tillåten\n",
        "    \n",
        "    length = int(input('Ange längd: '))  # spara lite på energin, och fråga endast om dimensioner ifall vikten är godkänd\n",
        "    width = int(input('Ange bredd: '))\n",
        "    height = int(input('Ange höjd: '))\n",
        "\n",
        "    if length <= 55 and width <= 40 and height <= 23:\n",
        "        print('Alright, du har en helt godkänd väska!')\n",
        "    \n",
        "    else:\n",
        "        print('Tyvärr, du har en för stor väska.')\n",
        "\n",
        "else:\n",
        "    print('Din väska väger tyvärr för mycket')"
      ]
    },
    {
      "cell_type": "code",
      "execution_count": null,
      "metadata": {},
      "outputs": [],
      "source": []
    }
  ],
  "metadata": {
    "colab": {
      "include_colab_link": true,
      "provenance": []
    },
    "kernelspec": {
      "display_name": "programmering",
      "language": "python",
      "name": "python3"
    },
    "language_info": {
      "codemirror_mode": {
        "name": "ipython",
        "version": 3
      },
      "file_extension": ".py",
      "mimetype": "text/x-python",
      "name": "python",
      "nbconvert_exporter": "python",
      "pygments_lexer": "ipython3",
      "version": "3.13.5"
    }
  },
  "nbformat": 4,
  "nbformat_minor": 0
}
