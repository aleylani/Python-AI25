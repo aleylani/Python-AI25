{
  "cells": [
    {
      "cell_type": "markdown",
      "metadata": {
        "colab_type": "text",
        "id": "view-in-github"
      },
      "source": [
        "<a href=\"https://colab.research.google.com/github/aleylani/Python-AI24/blob/main/exercises/solutions/07_exception_solutions.ipynb\" target=\"_parent\"><img src=\"https://colab.research.google.com/assets/colab-badge.svg\" alt=\"Open In Colab\"/></a>"
      ]
    },
    {
      "cell_type": "markdown",
      "metadata": {
        "id": "PJ0l8tLCQv8z"
      },
      "source": [
        "# Error handling exercises\n",
        "\n",
        "---\n",
        "These are introductory exercises in Python with focus in **error handling** statement.\n",
        "\n",
        "<p class = \"alert alert-info\" role=\"alert\"><b>Remember</b> to use <b>descriptive variable and function names</b> in order to get readable code </p>\n",
        "\n",
        "<p class = \"alert alert-info\" role=\"alert\"><b>Remember</b> to format your answers in a neat way using <b>f-strings</b>\n",
        "\n",
        "<p class = \"alert alert-info\" role=\"alert\"><b>Remember</b> to format your input questions in a pedagogical way to guide the user\n",
        "\n",
        "The number of stars (\\*), (\\*\\*), (\\*\\*\\*) denotes the difficulty level of the task\n",
        "\n",
        "---"
      ]
    },
    {
      "cell_type": "markdown",
      "metadata": {
        "id": "y_FWGzYUQv81"
      },
      "source": [
        "## 1. Find errors (*)\n",
        "\n",
        "Find the errors in this code to compute the distance between the point $(x,y)$ and the origin in a cartesian coordinate system.\n",
        "\n",
        "```python\n",
        "impor math\n",
        "\n",
        "def distance(x,y)\n",
        "    reurn math.sqrt(x+y)\n",
        "\n",
        "print(distance([0.5, 0.5]))\n",
        "\n",
        "```\n",
        "\n",
        "<details>\n",
        "\n",
        "<summary>Hint </summary>\n",
        "\n",
        "Also look for logical errors.\n",
        "\n",
        "</details>\n",
        "<br>\n",
        "<details>\n",
        "\n",
        "<summary>Answer </summary>\n",
        "\n",
        "```\n",
        "The distance between (0.5, 0.5) and origin is around 0.707.\n",
        "```\n",
        "\n",
        "</details>\n"
      ]
    },
    {
      "cell_type": "code",
      "execution_count": 35,
      "metadata": {},
      "outputs": [
        {
          "name": "stdout",
          "output_type": "stream",
          "text": [
            "0.7071067811865476\n"
          ]
        }
      ],
      "source": [
        "import math                        # saknade ett t för import\n",
        "\n",
        "def distance(x,y):                 # saknade kolon i slutet av funktionsdefinitionen\n",
        "    \n",
        "    return math.sqrt(x**2+y**2)    # saknade ett t i return\n",
        "                                   # vi hade även ett logiskt fel med fel formel för pythagoras sats\n",
        "\n",
        "answer = distance(0.5, 0.5)        # vi skickade in en lista med två element i, snarare än två separata värden, som argument\n",
        "\n",
        "print(answer)"
      ]
    },
    {
      "cell_type": "markdown",
      "metadata": {
        "id": "OLHGK2VuQv82"
      },
      "source": [
        "---\n",
        "## 2. Find errors (*)\n",
        "\n",
        "Find the errors in this code. Just change the function, don't touch the test program.\n",
        "\n",
        "```python\n",
        "\n",
        "def is_fourdigit(number):\n",
        "    if number//1000 < 10\n",
        "        return true\n",
        "    else\n",
        "        return false\n",
        "\n",
        "# test program\n",
        "test_numbers = [231, 3124, -4124, -1000,-999, 1001, 10000, -10000, 999]\n",
        "\n",
        "for number in test_numbers:\n",
        "    if is_fourdigit(number):\n",
        "        print(f\"{number} is four-digit\")\n",
        "    else:\n",
        "        print(f\"{number} is not four-digit\")\n",
        "\n",
        "```\n",
        "\n",
        "<details>\n",
        "\n",
        "<summary>Hint </summary>\n",
        "\n",
        "Print out and test different cases to build up the condition in the if-statement\n",
        "\n",
        "</details>\n",
        "<br>\n",
        "<details>\n",
        "\n",
        "<summary>Answer </summary>\n",
        "\n",
        "```\n",
        "\n",
        "231 is not four-digit\n",
        "3124 is four-digit\n",
        "-4124 is four-digit\n",
        "-1000 is four-digit\n",
        "-999 is not four-digit\n",
        "1001 is four-digit\n",
        "10000 is not four-digit\n",
        "-10000 is not four-digit\n",
        "999 is not four-digit\n",
        "\n",
        "```\n",
        "\n",
        "</details>\n"
      ]
    },
    {
      "cell_type": "code",
      "execution_count": 59,
      "metadata": {},
      "outputs": [
        {
          "name": "stdout",
          "output_type": "stream",
          "text": [
            "False or False : False\n",
            "False or True  : True\n",
            "True or True   : True\n"
          ]
        }
      ],
      "source": [
        "print(f'False or False : {False or False}')\n",
        "print(f'False or True  : {False or True}')\n",
        "print(f'True or True   : {True or True}')"
      ]
    },
    {
      "cell_type": "code",
      "execution_count": 60,
      "metadata": {},
      "outputs": [
        {
          "name": "stdout",
          "output_type": "stream",
          "text": [
            "False and False : False\n",
            "False and True  : False\n",
            "True and True   : True\n"
          ]
        }
      ],
      "source": [
        "print(f'False and False : {False and False}')\n",
        "print(f'False and True  : {False and True}')\n",
        "print(f'True and True   : {True and True}')"
      ]
    },
    {
      "cell_type": "code",
      "execution_count": 56,
      "metadata": {},
      "outputs": [
        {
          "name": "stdout",
          "output_type": "stream",
          "text": [
            "231 is not four-digit\n",
            "3124 is four-digit\n",
            "-4124 is four-digit\n",
            "-1000 is four-digit\n",
            "-999 is not four-digit\n",
            "1001 is four-digit\n",
            "10000 is not four-digit\n",
            "-10000 is not four-digit\n",
            "999 is not four-digit\n"
          ]
        }
      ],
      "source": [
        "def is_fourdigit(number):\n",
        "    if (999 < number < 10000) or (-10000 < number < -999):                   # vi saknade kolon i slutet av if-satsen \n",
        "        return True\n",
        "    else:                                   # vi saknade kolon i slutet av else-satsen \n",
        "        return False\n",
        "\n",
        "# test program\n",
        "test_numbers = [231, 3124, -4124, -1000,-999, 1001, 10000, -10000, 999]\n",
        "\n",
        "for number in test_numbers:\n",
        "\n",
        "    if is_fourdigit(number):\n",
        "        print(f\"{number} is four-digit\")\n",
        "    else:\n",
        "        print(f\"{number} is not four-digit\")"
      ]
    },
    {
      "cell_type": "markdown",
      "metadata": {
        "id": "R3pRRmscQv82"
      },
      "source": [
        "---\n",
        "## 3. Tram (*)\n",
        "\n",
        "Ali is a **clumpsy** computer user that doesn't take trams too often. Write a program to prompt the user for:\n",
        "- number of times he/she wants to take tram in one month\n",
        "- cost for one ticket\n",
        "- cost for monthly card\n",
        "\n",
        "The program should calculate if it's worth for him to buy  monthly card or not. Make the program user friendly with clear error messages and ask again in case of input errors.\n",
        "\n",
        "<details>\n",
        "\n",
        "<summary>Hint </summary>\n",
        "\n",
        "Raise user friendly exceptions to guide the user to give right input format.\n",
        "\n",
        "</details>\n",
        "<br>\n",
        "<details>\n",
        "\n",
        "<summary>Answer </summary>\n",
        "\n",
        "For example:\n",
        "\n",
        "```\n",
        "How many times do you take tram in one month? -23\n",
        "Number of times you take tram must be between 0 and 100\n",
        "\n",
        "How much does one ticket cost? (kr) 1000\n",
        "One ticket must cost between 0 and 100 kr\n",
        "\n",
        "How many times do you take tram in one month? 23\n",
        "How much does one ticket cost? (kr) 35\n",
        "How much does one month card cost? (kr) 600\n",
        "\n",
        "Cost with one-time tickets 805.0\n",
        "Cost with monthly card 600.0\n",
        "It's worth to buy a monthly card\n",
        "\n",
        "```\n",
        "\n",
        "</details>\n"
      ]
    },
    {
      "cell_type": "code",
      "execution_count": null,
      "metadata": {},
      "outputs": [],
      "source": [
        "def estimate_if_worth_to_buy_card():\n",
        "\n",
        "    while True:\n",
        "        try:\n",
        "            \n",
        "            times_taken_tram = int(input(\"How many times do you take the tram in one month? \"))\n",
        "            if times_taken_tram > 0:\n",
        "                break\n",
        "            else:\n",
        "                print(\"Please enter a positive integer number of times.\")\n",
        "\n",
        "        except:\n",
        "            print(\"Please enter digits as your input.\")\n",
        "\n",
        "        \n",
        "    while True:\n",
        "        try:\n",
        "\n",
        "            single_ticket_cost = float(input(\"How much does one ticket cost? (kr) \"))\n",
        "            break\n",
        "        except:\n",
        "            print(\"Please enter a positive number for the ticket cost.\")\n",
        "    \n",
        "    \n",
        "    while True:\n",
        "        try:\n",
        "            monthly_card_cost = float(input(\"How much does one monthly card cost? (kr) \"))\n",
        "            break\n",
        "        except:\n",
        "            print(\"Please enter a positive number for the monthly card cost.\")\n",
        "\n",
        "    if monthly_card_cost < times_taken_tram * single_ticket_cost:\n",
        "        \n",
        "        print(\"It's worth to buy a monthly card.\")\n",
        "        print(f\"You'll save { (times_taken_tram * single_ticket_cost) - monthly_card_cost} kr.\")\n",
        "\n",
        "    elif monthly_card_cost == times_taken_tram*single_ticket_cost:   # för det fallet då det kostar lika mycket \n",
        "        \n",
        "        print('It costs exactly as much to buy a monthly card as to buy single tickets.')\n",
        "        \n",
        "    else:\n",
        "        print(f\"It's not worth to buy a monthly card.\")\n",
        "        print(f\"You'll spend { (monthly_card_cost) - (times_taken_tram * single_ticket_cost)} kr more.\")\n"
      ]
    },
    {
      "cell_type": "code",
      "execution_count": 85,
      "metadata": {},
      "outputs": [
        {
          "name": "stdout",
          "output_type": "stream",
          "text": [
            "Please enter digits as your input.\n",
            "Please enter a positive integer number of times.\n",
            "Please enter digits as your input.\n",
            "Please enter digits as your input.\n",
            "Please enter digits as your input.\n",
            "It's worth to buy a monthly card.\n",
            "You'll save 25.0 kr.\n"
          ]
        }
      ],
      "source": [
        "estimate_if_worth_to_buy_card()"
      ]
    },
    {
      "cell_type": "code",
      "execution_count": 72,
      "metadata": {},
      "outputs": [],
      "source": [
        "number_of_rides = 10\n",
        "ticket_price = 5\n",
        "monthly_pass_price = 30"
      ]
    },
    {
      "cell_type": "code",
      "execution_count": 73,
      "metadata": {},
      "outputs": [
        {
          "data": {
            "text/plain": [
              "True"
            ]
          },
          "execution_count": 73,
          "metadata": {},
          "output_type": "execute_result"
        }
      ],
      "source": [
        "monthly_pass_price < number_of_rides * ticket_price"
      ]
    }
  ],
  "metadata": {
    "colab": {
      "include_colab_link": true,
      "provenance": []
    },
    "kernelspec": {
      "display_name": "Python 3 (ipykernel)",
      "language": "python",
      "name": "python3"
    },
    "language_info": {
      "codemirror_mode": {
        "name": "ipython",
        "version": 3
      },
      "file_extension": ".py",
      "mimetype": "text/x-python",
      "name": "python",
      "nbconvert_exporter": "python",
      "pygments_lexer": "ipython3",
      "version": "3.12.4"
    },
    "vscode": {
      "interpreter": {
        "hash": "7e1998ff7f8aa20ada591c520b972326324e5ea05489af9e422744c7c09f6dad"
      }
    }
  },
  "nbformat": 4,
  "nbformat_minor": 0
}
