{
  "cells": [
    {
      "cell_type": "markdown",
      "metadata": {
        "colab_type": "text",
        "id": "view-in-github"
      },
      "source": [
        "<a href=\"https://colab.research.google.com/github/aleylani/Python/blob/main/exercises/09_dictionary_exercise.ipynb\" target=\"_parent\"><img src=\"https://colab.research.google.com/assets/colab-badge.svg\" alt=\"Open In Colab\"/></a>"
      ]
    },
    {
      "cell_type": "markdown",
      "metadata": {
        "id": "-Tt0Nh61Q93M"
      },
      "source": [
        "# dictionary exercises\n",
        "\n",
        "---\n",
        "These are introductory exercises in Python with focus in **dictionary**.\n",
        "\n",
        "<p class = \"alert alert-info\" role=\"alert\"><b>Remember</b> to use <b>descriptive variable and function names</b> in order to get readable code </p>\n",
        "\n",
        "<p class = \"alert alert-info\" role=\"alert\"><b>Remember</b> to format your answers in a neat way using <b>f-strings</b>\n",
        "\n",
        "<p class = \"alert alert-info\" role=\"alert\"><b>Remember</b> to format your input questions in a pedagogical way to guide the user\n",
        "\n",
        "The number of stars (\\*), (\\*\\*), (\\*\\*\\*) denotes the difficulty level of the task\n",
        "\n",
        "---"
      ]
    },
    {
      "cell_type": "markdown",
      "metadata": {
        "id": "h12a82ufQ93O"
      },
      "source": [
        "## 1. Curriculum (*)\n",
        "\n",
        "Create a dictionary containing all the courses that you will study in this program, with the course names as **keys** and the amount of points as **value**. Then calculate the number of points that you will study in total. (*)\n",
        "\n",
        "<details>\n",
        "\n",
        "<summary>Answer</summary>\n",
        "\n",
        "Look at your course program curriculum\n",
        "\n",
        "</details>\n"
      ]
    },
    {
      "cell_type": "markdown",
      "metadata": {
        "id": "q_VkLopFQ93O"
      },
      "source": [
        "---\n",
        "## 2. Dice simulation (*)\n",
        "\n",
        "Simulate 1000000 dice rolls and save the number of ones, twos, ..., sixes in a dictionary. Then print them out in the terminal. (*)\n",
        "\n",
        "<details>\n",
        "\n",
        "<summary>Answer</summary>\n",
        "\n",
        "```\n",
        "1: 166481\n",
        "2: 166844\n",
        "3: 166154\n",
        "4: 167400\n",
        "5: 167260\n",
        "6: 165861\n",
        "```\n",
        "\n",
        "</details>\n"
      ]
    },
    {
      "cell_type": "markdown",
      "metadata": {},
      "source": [
        "**Delmoment 1: skapa en lista med utfall från 1Miljon tärningskast**"
      ]
    },
    {
      "cell_type": "code",
      "execution_count": 1,
      "metadata": {},
      "outputs": [
        {
          "name": "stdout",
          "output_type": "stream",
          "text": [
            "1000000\n",
            "[3, 6, 1, 2, 2, 6, 4, 6, 3, 4]\n"
          ]
        }
      ],
      "source": [
        "import random\n",
        "\n",
        "dice_rolls = [random.randint(1,6) for i in range(1000000)]\n",
        "\n",
        "print(len(dice_rolls))\n",
        "print(dice_rolls[:10])"
      ]
    },
    {
      "cell_type": "markdown",
      "metadata": {},
      "source": [
        "**Delmoment 2: räkna antal occurences av varje utfall**"
      ]
    },
    {
      "cell_type": "code",
      "execution_count": 2,
      "metadata": {},
      "outputs": [
        {
          "data": {
            "text/plain": [
              "166779"
            ]
          },
          "execution_count": 2,
          "metadata": {},
          "output_type": "execute_result"
        }
      ],
      "source": [
        "#vi kan enkelt räkna antal av ett givet värde i en lista genom att använda .count() på följande vis\n",
        "\n",
        "# nedan beräknar antalet 5:or\n",
        "dice_rolls.count(5)"
      ]
    },
    {
      "cell_type": "markdown",
      "metadata": {},
      "source": [
        "**Delmoment 3: lägg in all i en dictionary, där *keys* är varje unika utfall (1,2,3,5,6) och *values* antalet occurences av det givna utfallet**"
      ]
    },
    {
      "cell_type": "code",
      "execution_count": 3,
      "metadata": {},
      "outputs": [
        {
          "data": {
            "text/plain": [
              "{1: 166950, 2: 166843, 3: 166170, 4: 166796, 5: 166779, 6: 166462}"
            ]
          },
          "execution_count": 3,
          "metadata": {},
          "output_type": "execute_result"
        }
      ],
      "source": [
        "results = {}\n",
        "\n",
        "for i in range(1, 7):\n",
        "\n",
        "    results[i] = dice_rolls.count(i)\n",
        "\n",
        "results  "
      ]
    },
    {
      "cell_type": "markdown",
      "metadata": {},
      "source": [
        "**Delmoment 4: skriv ut våra resultat på begärt vis**"
      ]
    },
    {
      "cell_type": "code",
      "execution_count": 4,
      "metadata": {},
      "outputs": [
        {
          "name": "stdout",
          "output_type": "stream",
          "text": [
            "1: 166950\n",
            "2: 166843\n",
            "3: 166170\n",
            "4: 166796\n",
            "5: 166779\n",
            "6: 166462\n"
          ]
        }
      ],
      "source": [
        "for key, value in results.items():\n",
        "\n",
        "    to_print = f'{key}: {value}'\n",
        "\n",
        "    print(to_print)"
      ]
    },
    {
      "cell_type": "markdown",
      "metadata": {
        "id": "GlL9XKOhQ93P"
      },
      "source": [
        "---\n",
        "## 3. Pokemon list (*)\n",
        "\n",
        "Read in the file pokemon_list.txt in Python. Create a variable with name pokedex with the key:value **\"pokemon\":\"type, index\"**. For example when searching for the keys \"Gengar\" and \"Pikachu\": (*)\n",
        "\n",
        "```python\n",
        "\n",
        "print(pokedex[\"Gengar\"])\n",
        "print(pokedex[\"Pikachu\"])\n",
        "\n",
        "Spöke/Gift, 94\n",
        "Elektrisk, 25\n",
        "```\n",
        "\n",
        "<details>\n",
        "\n",
        "<summary>Answer</summary>\n",
        "\n",
        "```\n",
        "{'Bulbasaur': 'Gräs/Gift, 1',\n",
        " 'Ivysaur': 'Gräs/Gift, 2',\n",
        " 'Venusaur': 'Gräs/Gift, 3',\n",
        " 'Charmander': 'Eld, 4',\n",
        " 'Charmeleon': 'Eld, 5',\n",
        " 'Charizard': 'Eld/Flygande, 6',\n",
        " 'Squirtle': 'Vatten, 7',\n",
        " 'Wartortle': 'Vatten, 8',\n",
        " 'Blastoise': 'Vatten, 9',\n",
        " ...\n",
        "}\n",
        "```\n",
        "\n",
        "</details>\n"
      ]
    },
    {
      "cell_type": "markdown",
      "metadata": {},
      "source": [
        "**Delmomoment 1: läs in filen, kontrollera contents**"
      ]
    },
    {
      "cell_type": "code",
      "execution_count": 5,
      "metadata": {},
      "outputs": [],
      "source": [
        "path = '../../data/pokemon_list.txt'\n",
        "\n",
        "with open(path, 'r') as file:\n",
        "\n",
        "    contents = file.readlines()"
      ]
    },
    {
      "cell_type": "code",
      "execution_count": 6,
      "metadata": {},
      "outputs": [
        {
          "name": "stdout",
          "output_type": "stream",
          "text": [
            "150\n",
            "<class 'list'>\n",
            "['1 Bulbasaur Gräs/Gift\\n', '2 Ivysaur Gräs/Gift\\n', '3 Venusaur Gräs/Gift\\n', '4 Charmander Eld\\n', '5 Charmeleon Eld\\n', '6 Charizard Eld/Flygande\\n', '7 Squirtle Vatten\\n', '8 Wartortle Vatten\\n', '9 Blastoise Vatten\\n', '10 Caterpie Insekt\\n']\n"
          ]
        }
      ],
      "source": [
        "print(len(contents))\n",
        "print(type(contents))\n",
        "print(contents[:10])"
      ]
    },
    {
      "cell_type": "markdown",
      "metadata": {},
      "source": [
        "**Delmomoment 2: varje varje entry i contents som vi precis läste in, få kontroll över pokemonets namn, type och index**"
      ]
    },
    {
      "cell_type": "markdown",
      "metadata": {},
      "source": [
        "Tips! Isolera problemet till den första pokemonen först, och försök lösa uppgiften bara för den"
      ]
    },
    {
      "cell_type": "code",
      "execution_count": 7,
      "metadata": {},
      "outputs": [],
      "source": [
        "pokedex = {}\n",
        "\n",
        "for entry in contents:\n",
        "\n",
        "    splitted = entry.split()\n",
        "\n",
        "    index = splitted[0]\n",
        "    namn = splitted[1]\n",
        "    typ = splitted[2]\n",
        "\n",
        "    pokedex[namn] = f'{typ}, {index}'\n",
        "\n"
      ]
    },
    {
      "cell_type": "code",
      "execution_count": 8,
      "metadata": {},
      "outputs": [
        {
          "data": {
            "text/plain": [
              "{'Bulbasaur': 'Gräs/Gift, 1',\n",
              " 'Ivysaur': 'Gräs/Gift, 2',\n",
              " 'Venusaur': 'Gräs/Gift, 3',\n",
              " 'Charmander': 'Eld, 4',\n",
              " 'Charmeleon': 'Eld, 5',\n",
              " 'Charizard': 'Eld/Flygande, 6',\n",
              " 'Squirtle': 'Vatten, 7',\n",
              " 'Wartortle': 'Vatten, 8',\n",
              " 'Blastoise': 'Vatten, 9',\n",
              " 'Caterpie': 'Insekt, 10',\n",
              " 'Metapod': 'Insekt, 11',\n",
              " 'Butterfree': 'Insekt/Flygande, 12',\n",
              " 'Weedle': 'Insekt/Gift, 13',\n",
              " 'Kakuna': 'Insekt/Gift, 14',\n",
              " 'Beedrill': 'Insekt/Gift, 15',\n",
              " 'Pidgey': 'Normal/Flygande, 16',\n",
              " 'Pidgeotto': 'Normal/Flygande, 17',\n",
              " 'Pidgeot': 'Normal/Flygande, 18',\n",
              " 'Rattata': 'Normal, 19',\n",
              " 'Raticate': 'Normal, 20',\n",
              " 'Spearow': 'Normal/Flygande, 21',\n",
              " 'Fearow': 'Normal/Flygande, 22',\n",
              " 'Ekans': 'Gift, 23',\n",
              " 'Arbok': 'Gift, 24',\n",
              " 'Pikachu': 'Elektrisk, 25',\n",
              " 'Raichu': 'Elektrisk, 26',\n",
              " 'Sandshrew': 'Mark, 27',\n",
              " 'Sandslash': 'Mark, 28',\n",
              " 'Nidoran♀': 'Gift, 29',\n",
              " 'Nidorina': 'Gift, 30',\n",
              " 'Nidoqueen': 'Gift/Mark, 31',\n",
              " 'Nidoran♂': 'Gift, 32',\n",
              " 'Nidorino': 'Gift, 33',\n",
              " 'Nidoking': 'Gift/Mark, 34',\n",
              " 'Clefairy': 'Fé, 35',\n",
              " 'Clefable': 'Fé, 36',\n",
              " 'Vulpix': 'Eld, 37',\n",
              " 'Ninetales': 'Eld, 38',\n",
              " 'Jigglypuff': 'Normal/Fé, 39',\n",
              " 'Wigglytuff': 'Normal/Fé, 40',\n",
              " 'Zubat': 'Gift/Flygande, 41',\n",
              " 'Golbat': 'Gift/Flygande, 42',\n",
              " 'Oddish': 'Gräs/Gift, 43',\n",
              " 'Gloom': 'Gräs/Gift, 44',\n",
              " 'Vileplume': 'Gräs/Gift, 45',\n",
              " 'Paras': 'Insekt/Gräs, 46',\n",
              " 'Parasect': 'Insekt/Gräs, 47',\n",
              " 'Venonat': 'Insekt/Gift, 48',\n",
              " 'Venomoth': 'Insekt/Gift, 49',\n",
              " 'Diglett': 'Mark, 50',\n",
              " 'Dugtrio': 'Mark, 51',\n",
              " 'Meowth': 'Normal, 52',\n",
              " 'Persian': 'Normal, 53',\n",
              " 'Psyduck': 'Vatten, 54',\n",
              " 'Golduck': 'Vatten, 55',\n",
              " 'Mankey': 'Kamp, 56',\n",
              " 'Primeape': 'Kamp, 57',\n",
              " 'Growlithe': 'Eld, 58',\n",
              " 'Arcanine': 'Eld, 59',\n",
              " 'Poliwag': 'Vatten, 60',\n",
              " 'Poliwhirl': 'Vatten, 61',\n",
              " 'Poliwrath': 'Vatten/Kamp, 62',\n",
              " 'Abra': 'Psykisk, 63',\n",
              " 'Kadabra': 'Psykisk, 64',\n",
              " 'Alakazam': 'Psykisk, 65',\n",
              " 'Machop': 'Kamp, 66',\n",
              " 'Machoke': 'Kamp, 67',\n",
              " 'Machamp': 'Kamp, 68',\n",
              " 'Bellsprout': 'Gräs/Gift, 69',\n",
              " 'Weepinbell': 'Gräs/Gift, 70',\n",
              " 'Victreebel': 'Gräs/Gift, 71',\n",
              " 'Tentacool': 'Vatten/Gift, 72',\n",
              " 'Tentacruel': 'Vatten/Gift, 73',\n",
              " 'Geodude': 'Sten/Mark, 74',\n",
              " 'Graveler': 'Sten/Mark, 75',\n",
              " 'Golem': 'Sten/Mark, 76',\n",
              " 'Ponyta': 'Eld, 77',\n",
              " 'Rapidash': 'Eld, 78',\n",
              " 'Slowpoke': 'Vatten/Psykisk, 79',\n",
              " 'Slowbro': 'Vatten/Psykisk, 80',\n",
              " 'Magnemite': 'Elektrisk/Stål, 81',\n",
              " 'Magneton': 'Elektrisk/Stål, 82',\n",
              " \"Farfetch'd\": 'Normal/Flygande, 83',\n",
              " 'Doduo': 'Normal/Flygande, 84',\n",
              " 'Dodrio': 'Normal/Flygande, 85',\n",
              " 'Seel': 'Vatten, 86',\n",
              " 'Dewgong': 'Vatten/Is, 87',\n",
              " 'Grimer': 'Gift, 88',\n",
              " 'Muk': 'Gift, 89',\n",
              " 'Shellder': 'Vatten, 90',\n",
              " 'Cloyster': 'Vatten/Is, 91',\n",
              " 'Gastly': 'Spöke/Gift, 92',\n",
              " 'Haunter': 'Spöke/Gift, 93',\n",
              " 'Gengar': 'Spöke/Gift, 94',\n",
              " 'Onix': 'Sten/Mark, 95',\n",
              " 'Drowzee': 'Psykisk, 96',\n",
              " 'Hypno': 'Psykisk, 97',\n",
              " 'Krabby': 'Vatten, 98',\n",
              " 'Kingler': 'Vatten, 99',\n",
              " 'Voltorb': 'Elektrisk, 100',\n",
              " 'Electrode': 'Elektrisk, 101',\n",
              " 'Exeggcute': 'Gräs/Psykisk, 102',\n",
              " 'Exeggutor': 'Gräs/Psykisk, 103',\n",
              " 'Cubone': 'Mark, 104',\n",
              " 'Marowak': 'Mark, 105',\n",
              " 'Hitmonlee': 'Kamp, 106',\n",
              " 'Hitmonchan': 'Kamp, 107',\n",
              " 'Lickitung': 'Normal, 108',\n",
              " 'Koffing': 'Gift, 109',\n",
              " 'Weezing': 'Gift, 110',\n",
              " 'Rhyhorn': 'Mark/Sten, 111',\n",
              " 'Rhydon': 'Mark/Sten, 112',\n",
              " 'Chansey': 'Normal, 113',\n",
              " 'Tangela': 'Gräs, 114',\n",
              " 'Kangaskhan': 'Normal, 115',\n",
              " 'Horsea': 'Vatten, 116',\n",
              " 'Seadra': 'Vatten, 117',\n",
              " 'Goldeen': 'Vatten, 118',\n",
              " 'Seaking': 'Vatten, 119',\n",
              " 'Staryu': 'Vatten, 120',\n",
              " 'Starmie': 'Vatten/Psykisk, 121',\n",
              " 'Mr.Mime': 'Psykisk, 122',\n",
              " 'Scyther': 'Insekt/Flygande, 123',\n",
              " 'Jynx': 'Is/Psykisk, 124',\n",
              " 'Electabuzz': 'Elektrisk, 125',\n",
              " 'Magmar': 'Eld, 126',\n",
              " 'Pinsir': 'Insekt, 127',\n",
              " 'Tauros': 'Normal, 128',\n",
              " 'Magikarp': 'Vatten, 129',\n",
              " 'Gyarados': 'Vatten/Flygande, 130',\n",
              " 'Lapras': 'Vatten/Is, 131',\n",
              " 'Ditto': 'Normal, 132',\n",
              " 'Eevee': 'Normal, 133',\n",
              " 'Vaporeon': 'Vatten, 134',\n",
              " 'Jolteon': 'Elektrisk, 135',\n",
              " 'Flareon': 'Eld, 136',\n",
              " 'Porygon': 'Normal, 137',\n",
              " 'Omanyte': 'Sten/Vatten, 138',\n",
              " 'Omastar': 'Sten/Vatten, 139',\n",
              " 'Kabuto': 'Sten/Vatten, 140',\n",
              " 'Kabutops': 'Sten/Vatten, 141',\n",
              " 'Aerodactyl': 'Sten/Flygande, 142',\n",
              " 'Snorlax': 'Normal, 143',\n",
              " 'Articuno': 'Is/Flygande, 144',\n",
              " 'Zapdos': 'Elektrisk/Flygande, 145',\n",
              " 'Moltres': 'Eld/Flygande, 146',\n",
              " 'Dratini': 'Drake, 147',\n",
              " 'Dragonair': 'Drake, 148',\n",
              " 'Dragonite': 'Drake/Flygande, 149',\n",
              " 'Mewtwo': 'Psykisk, 150'}"
            ]
          },
          "execution_count": 8,
          "metadata": {},
          "output_type": "execute_result"
        }
      ],
      "source": [
        "pokedex"
      ]
    },
    {
      "cell_type": "code",
      "execution_count": 9,
      "metadata": {},
      "outputs": [
        {
          "data": {
            "text/plain": [
              "'Vatten, 9'"
            ]
          },
          "execution_count": 9,
          "metadata": {},
          "output_type": "execute_result"
        }
      ],
      "source": [
        "pokedex['Blastoise']"
      ]
    },
    {
      "cell_type": "code",
      "execution_count": 10,
      "metadata": {},
      "outputs": [
        {
          "data": {
            "text/plain": [
              "{'Bulbasaur': 'Gräs/Gift 1',\n",
              " 'Ivysaur': 'Gräs/Gift 2',\n",
              " 'Venusaur': 'Gräs/Gift 3',\n",
              " 'Charmander': 'Eld 4',\n",
              " 'Charmeleon': 'Eld 5',\n",
              " 'Charizard': 'Eld/Flygande 6',\n",
              " 'Squirtle': 'Vatten 7',\n",
              " 'Wartortle': 'Vatten 8',\n",
              " 'Blastoise': 'Vatten 9',\n",
              " 'Caterpie': 'Insekt 10',\n",
              " 'Metapod': 'Insekt 11',\n",
              " 'Butterfree': 'Insekt/Flygande 12',\n",
              " 'Weedle': 'Insekt/Gift 13',\n",
              " 'Kakuna': 'Insekt/Gift 14',\n",
              " 'Beedrill': 'Insekt/Gift 15',\n",
              " 'Pidgey': 'Normal/Flygande 16',\n",
              " 'Pidgeotto': 'Normal/Flygande 17',\n",
              " 'Pidgeot': 'Normal/Flygande 18',\n",
              " 'Rattata': 'Normal 19',\n",
              " 'Raticate': 'Normal 20',\n",
              " 'Spearow': 'Normal/Flygande 21',\n",
              " 'Fearow': 'Normal/Flygande 22',\n",
              " 'Ekans': 'Gift 23',\n",
              " 'Arbok': 'Gift 24',\n",
              " 'Pikachu': 'Elektrisk 25',\n",
              " 'Raichu': 'Elektrisk 26',\n",
              " 'Sandshrew': 'Mark 27',\n",
              " 'Sandslash': 'Mark 28',\n",
              " 'Nidoran♀': 'Gift 29',\n",
              " 'Nidorina': 'Gift 30',\n",
              " 'Nidoqueen': 'Gift/Mark 31',\n",
              " 'Nidoran♂': 'Gift 32',\n",
              " 'Nidorino': 'Gift 33',\n",
              " 'Nidoking': 'Gift/Mark 34',\n",
              " 'Clefairy': 'Fé 35',\n",
              " 'Clefable': 'Fé 36',\n",
              " 'Vulpix': 'Eld 37',\n",
              " 'Ninetales': 'Eld 38',\n",
              " 'Jigglypuff': 'Normal/Fé 39',\n",
              " 'Wigglytuff': 'Normal/Fé 40',\n",
              " 'Zubat': 'Gift/Flygande 41',\n",
              " 'Golbat': 'Gift/Flygande 42',\n",
              " 'Oddish': 'Gräs/Gift 43',\n",
              " 'Gloom': 'Gräs/Gift 44',\n",
              " 'Vileplume': 'Gräs/Gift 45',\n",
              " 'Paras': 'Insekt/Gräs 46',\n",
              " 'Parasect': 'Insekt/Gräs 47',\n",
              " 'Venonat': 'Insekt/Gift 48',\n",
              " 'Venomoth': 'Insekt/Gift 49',\n",
              " 'Diglett': 'Mark 50',\n",
              " 'Dugtrio': 'Mark 51',\n",
              " 'Meowth': 'Normal 52',\n",
              " 'Persian': 'Normal 53',\n",
              " 'Psyduck': 'Vatten 54',\n",
              " 'Golduck': 'Vatten 55',\n",
              " 'Mankey': 'Kamp 56',\n",
              " 'Primeape': 'Kamp 57',\n",
              " 'Growlithe': 'Eld 58',\n",
              " 'Arcanine': 'Eld 59',\n",
              " 'Poliwag': 'Vatten 60',\n",
              " 'Poliwhirl': 'Vatten 61',\n",
              " 'Poliwrath': 'Vatten/Kamp 62',\n",
              " 'Abra': 'Psykisk 63',\n",
              " 'Kadabra': 'Psykisk 64',\n",
              " 'Alakazam': 'Psykisk 65',\n",
              " 'Machop': 'Kamp 66',\n",
              " 'Machoke': 'Kamp 67',\n",
              " 'Machamp': 'Kamp 68',\n",
              " 'Bellsprout': 'Gräs/Gift 69',\n",
              " 'Weepinbell': 'Gräs/Gift 70',\n",
              " 'Victreebel': 'Gräs/Gift 71',\n",
              " 'Tentacool': 'Vatten/Gift 72',\n",
              " 'Tentacruel': 'Vatten/Gift 73',\n",
              " 'Geodude': 'Sten/Mark 74',\n",
              " 'Graveler': 'Sten/Mark 75',\n",
              " 'Golem': 'Sten/Mark 76',\n",
              " 'Ponyta': 'Eld 77',\n",
              " 'Rapidash': 'Eld 78',\n",
              " 'Slowpoke': 'Vatten/Psykisk 79',\n",
              " 'Slowbro': 'Vatten/Psykisk 80',\n",
              " 'Magnemite': 'Elektrisk/Stål 81',\n",
              " 'Magneton': 'Elektrisk/Stål 82',\n",
              " \"Farfetch'd\": 'Normal/Flygande 83',\n",
              " 'Doduo': 'Normal/Flygande 84',\n",
              " 'Dodrio': 'Normal/Flygande 85',\n",
              " 'Seel': 'Vatten 86',\n",
              " 'Dewgong': 'Vatten/Is 87',\n",
              " 'Grimer': 'Gift 88',\n",
              " 'Muk': 'Gift 89',\n",
              " 'Shellder': 'Vatten 90',\n",
              " 'Cloyster': 'Vatten/Is 91',\n",
              " 'Gastly': 'Spöke/Gift 92',\n",
              " 'Haunter': 'Spöke/Gift 93',\n",
              " 'Gengar': 'Spöke/Gift 94',\n",
              " 'Onix': 'Sten/Mark 95',\n",
              " 'Drowzee': 'Psykisk 96',\n",
              " 'Hypno': 'Psykisk 97',\n",
              " 'Krabby': 'Vatten 98',\n",
              " 'Kingler': 'Vatten 99',\n",
              " 'Voltorb': 'Elektrisk 100',\n",
              " 'Electrode': 'Elektrisk 101',\n",
              " 'Exeggcute': 'Gräs/Psykisk 102',\n",
              " 'Exeggutor': 'Gräs/Psykisk 103',\n",
              " 'Cubone': 'Mark 104',\n",
              " 'Marowak': 'Mark 105',\n",
              " 'Hitmonlee': 'Kamp 106',\n",
              " 'Hitmonchan': 'Kamp 107',\n",
              " 'Lickitung': 'Normal 108',\n",
              " 'Koffing': 'Gift 109',\n",
              " 'Weezing': 'Gift 110',\n",
              " 'Rhyhorn': 'Mark/Sten 111',\n",
              " 'Rhydon': 'Mark/Sten 112',\n",
              " 'Chansey': 'Normal 113',\n",
              " 'Tangela': 'Gräs 114',\n",
              " 'Kangaskhan': 'Normal 115',\n",
              " 'Horsea': 'Vatten 116',\n",
              " 'Seadra': 'Vatten 117',\n",
              " 'Goldeen': 'Vatten 118',\n",
              " 'Seaking': 'Vatten 119',\n",
              " 'Staryu': 'Vatten 120',\n",
              " 'Starmie': 'Vatten/Psykisk 121',\n",
              " 'Mr.Mime': 'Psykisk 122',\n",
              " 'Scyther': 'Insekt/Flygande 123',\n",
              " 'Jynx': 'Is/Psykisk 124',\n",
              " 'Electabuzz': 'Elektrisk 125',\n",
              " 'Magmar': 'Eld 126',\n",
              " 'Pinsir': 'Insekt 127',\n",
              " 'Tauros': 'Normal 128',\n",
              " 'Magikarp': 'Vatten 129',\n",
              " 'Gyarados': 'Vatten/Flygande 130',\n",
              " 'Lapras': 'Vatten/Is 131',\n",
              " 'Ditto': 'Normal 132',\n",
              " 'Eevee': 'Normal 133',\n",
              " 'Vaporeon': 'Vatten 134',\n",
              " 'Jolteon': 'Elektrisk 135',\n",
              " 'Flareon': 'Eld 136',\n",
              " 'Porygon': 'Normal 137',\n",
              " 'Omanyte': 'Sten/Vatten 138',\n",
              " 'Omastar': 'Sten/Vatten 139',\n",
              " 'Kabuto': 'Sten/Vatten 140',\n",
              " 'Kabutops': 'Sten/Vatten 141',\n",
              " 'Aerodactyl': 'Sten/Flygande 142',\n",
              " 'Snorlax': 'Normal 143',\n",
              " 'Articuno': 'Is/Flygande 144',\n",
              " 'Zapdos': 'Elektrisk/Flygande 145',\n",
              " 'Moltres': 'Eld/Flygande 146',\n",
              " 'Dratini': 'Drake 147',\n",
              " 'Dragonair': 'Drake 148',\n",
              " 'Dragonite': 'Drake/Flygande 149',\n",
              " 'Mewtwo': 'Psykisk 150'}"
            ]
          },
          "execution_count": 10,
          "metadata": {},
          "output_type": "execute_result"
        }
      ],
      "source": [
        "alternativ_metod_pokedex = {entry.split()[1] : f'{entry.split()[2]} {entry.split()[0]}' for entry in contents}\n",
        "\n",
        "alternativ_metod_pokedex"
      ]
    },
    {
      "cell_type": "markdown",
      "metadata": {
        "id": "nz9uG-zFQ93P"
      },
      "source": [
        "---\n",
        "## 4. Morse code (**)\n",
        "\n",
        "Read in the file morse.txt, save it in a dictionary and create a function that lets the user input a message to get it translated to morse code. For example  (**)\n",
        "\n",
        "```python\n",
        "\n",
        "print(morse(\"SOS\"))\n",
        "print(morse(\"POKEMON\"))\n",
        "\n",
        "...---...\n",
        ".------.-.------.\n",
        "```"
      ]
    }
  ],
  "metadata": {
    "colab": {
      "include_colab_link": true,
      "provenance": []
    },
    "kernelspec": {
      "display_name": "programmering",
      "language": "python",
      "name": "python3"
    },
    "language_info": {
      "codemirror_mode": {
        "name": "ipython",
        "version": 3
      },
      "file_extension": ".py",
      "mimetype": "text/x-python",
      "name": "python",
      "nbconvert_exporter": "python",
      "pygments_lexer": "ipython3",
      "version": "3.13.5"
    }
  },
  "nbformat": 4,
  "nbformat_minor": 0
}
