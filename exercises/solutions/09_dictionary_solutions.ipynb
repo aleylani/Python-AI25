{
  "cells": [
    {
      "cell_type": "markdown",
      "metadata": {
        "colab_type": "text",
        "id": "view-in-github"
      },
      "source": [
        "<a href=\"https://colab.research.google.com/github/aleylani/Python/blob/main/exercises/09_dictionary_exercise.ipynb\" target=\"_parent\"><img src=\"https://colab.research.google.com/assets/colab-badge.svg\" alt=\"Open In Colab\"/></a>"
      ]
    },
    {
      "cell_type": "markdown",
      "metadata": {
        "id": "-Tt0Nh61Q93M"
      },
      "source": [
        "# dictionary exercises\n",
        "\n",
        "---\n",
        "These are introductory exercises in Python with focus in **dictionary**.\n",
        "\n",
        "<p class = \"alert alert-info\" role=\"alert\"><b>Remember</b> to use <b>descriptive variable and function names</b> in order to get readable code </p>\n",
        "\n",
        "<p class = \"alert alert-info\" role=\"alert\"><b>Remember</b> to format your answers in a neat way using <b>f-strings</b>\n",
        "\n",
        "<p class = \"alert alert-info\" role=\"alert\"><b>Remember</b> to format your input questions in a pedagogical way to guide the user\n",
        "\n",
        "The number of stars (\\*), (\\*\\*), (\\*\\*\\*) denotes the difficulty level of the task\n",
        "\n",
        "---"
      ]
    },
    {
      "cell_type": "markdown",
      "metadata": {
        "id": "h12a82ufQ93O"
      },
      "source": [
        "## 1. Curriculum (*)\n",
        "\n",
        "Create a dictionary containing all the courses that you will study in this program, with the course names as **keys** and the amount of points as **value**. Then calculate the number of points that you will study in total. (*)\n",
        "\n",
        "<details>\n",
        "\n",
        "<summary>Answer</summary>\n",
        "\n",
        "Look at your course program curriculum\n",
        "\n",
        "</details>\n"
      ]
    },
    {
      "cell_type": "markdown",
      "metadata": {
        "id": "q_VkLopFQ93O"
      },
      "source": [
        "---\n",
        "## 2. Dice simulation (*)\n",
        "\n",
        "Simulate 1000000 dice rolls and save the number of ones, twos, ..., sixes in a dictionary. Then print them out in the terminal. (*)\n",
        "\n",
        "<details>\n",
        "\n",
        "<summary>Answer</summary>\n",
        "\n",
        "```\n",
        "1: 166481\n",
        "2: 166844\n",
        "3: 166154\n",
        "4: 167400\n",
        "5: 167260\n",
        "6: 165861\n",
        "```\n",
        "\n",
        "</details>\n"
      ]
    },
    {
      "cell_type": "markdown",
      "metadata": {},
      "source": [
        "**Delmoment 1: skapa en lista med utfall från 1Miljon tärningskast**"
      ]
    },
    {
      "cell_type": "code",
      "execution_count": null,
      "metadata": {},
      "outputs": [],
      "source": [
        "import random\n",
        "\n",
        "dice_rolls = [random.randint(1,6) for i in range(1000000)]\n",
        "\n",
        "print(len(dice_rolls))\n",
        "print(dice_rolls[:10])"
      ]
    },
    {
      "cell_type": "markdown",
      "metadata": {},
      "source": [
        "**Delmoment 2: räkna antal occurences av varje utfall**"
      ]
    },
    {
      "cell_type": "code",
      "execution_count": null,
      "metadata": {},
      "outputs": [],
      "source": [
        "#vi kan enkelt räkna antal av ett givet värde i en lista genom att använda .count() på följande vis\n",
        "\n",
        "# nedan beräknar antalet 5:or\n",
        "dice_rolls.count(5)"
      ]
    },
    {
      "cell_type": "markdown",
      "metadata": {},
      "source": [
        "**Delmoment 3: lägg in all i en dictionary, där *keys* är varje unika utfall (1,2,3,5,6) och *values* antalet occurences av det givna utfallet**"
      ]
    },
    {
      "cell_type": "code",
      "execution_count": null,
      "metadata": {},
      "outputs": [],
      "source": [
        "results = {}\n",
        "\n",
        "for i in range(1, 7):\n",
        "\n",
        "    results[i] = dice_rolls.count(i)\n",
        "\n",
        "results  "
      ]
    },
    {
      "cell_type": "markdown",
      "metadata": {},
      "source": [
        "**Delmoment 4: skriv ut våra resultat på begärt vis**"
      ]
    },
    {
      "cell_type": "code",
      "execution_count": null,
      "metadata": {},
      "outputs": [],
      "source": [
        "for key, value in results.items():\n",
        "\n",
        "    to_print = f'{key}: {value}'\n",
        "\n",
        "    print(to_print)"
      ]
    },
    {
      "cell_type": "markdown",
      "metadata": {
        "id": "GlL9XKOhQ93P"
      },
      "source": [
        "---\n",
        "## 3. Pokemon list (*)\n",
        "\n",
        "Read in the file pokemon_list.txt in Python. Create a variable with name pokedex with the key:value **\"pokemon\":\"type, index\"**. For example when searching for the keys \"Gengar\" and \"Pikachu\": (*)\n",
        "\n",
        "```python\n",
        "\n",
        "print(pokedex[\"Gengar\"])\n",
        "print(pokedex[\"Pikachu\"])\n",
        "\n",
        "Spöke/Gift, 94\n",
        "Elektrisk, 25\n",
        "```\n",
        "\n",
        "<details>\n",
        "\n",
        "<summary>Answer</summary>\n",
        "\n",
        "```\n",
        "{'Bulbasaur': 'Gräs/Gift, 1',\n",
        " 'Ivysaur': 'Gräs/Gift, 2',\n",
        " 'Venusaur': 'Gräs/Gift, 3',\n",
        " 'Charmander': 'Eld, 4',\n",
        " 'Charmeleon': 'Eld, 5',\n",
        " 'Charizard': 'Eld/Flygande, 6',\n",
        " 'Squirtle': 'Vatten, 7',\n",
        " 'Wartortle': 'Vatten, 8',\n",
        " 'Blastoise': 'Vatten, 9',\n",
        " ...\n",
        "}\n",
        "```\n",
        "\n",
        "</details>\n"
      ]
    },
    {
      "cell_type": "markdown",
      "metadata": {},
      "source": [
        "**Delmomoment 1: läs in filen, kontrollera contents**"
      ]
    },
    {
      "cell_type": "code",
      "execution_count": 21,
      "metadata": {},
      "outputs": [],
      "source": [
        "path = '../../data/pokemon_list.txt'\n",
        "\n",
        "with open(path, 'r') as file:\n",
        "\n",
        "    contents = file.readlines()"
      ]
    },
    {
      "cell_type": "code",
      "execution_count": null,
      "metadata": {},
      "outputs": [],
      "source": [
        "print(len(contents))\n",
        "print(type(contents))\n",
        "print(contents[:10])"
      ]
    },
    {
      "cell_type": "markdown",
      "metadata": {},
      "source": [
        "**Delmomoment 2: varje varje entry i contents som vi precis läste in, få kontroll över pokemonets namn, type och index**"
      ]
    },
    {
      "cell_type": "markdown",
      "metadata": {},
      "source": [
        "Tips! Isolera problemet till den första pokemonen först, och försök lösa uppgiften bara för den"
      ]
    },
    {
      "cell_type": "code",
      "execution_count": 25,
      "metadata": {},
      "outputs": [],
      "source": [
        "pokedex = {}\n",
        "\n",
        "for entry in contents:\n",
        "\n",
        "    splitted = entry.split()\n",
        "\n",
        "    index = splitted[0]\n",
        "    namn = splitted[1]\n",
        "    typ = splitted[2]\n",
        "\n",
        "    pokedex[namn] = f'{typ}, {index}'\n",
        "\n"
      ]
    },
    {
      "cell_type": "code",
      "execution_count": null,
      "metadata": {},
      "outputs": [],
      "source": [
        "pokedex"
      ]
    },
    {
      "cell_type": "code",
      "execution_count": null,
      "metadata": {},
      "outputs": [],
      "source": [
        "first_pokemon = contents[0]\n",
        "first_pokemon"
      ]
    },
    {
      "cell_type": "code",
      "execution_count": null,
      "metadata": {},
      "outputs": [],
      "source": [
        "splitted = first_pokemon.split()\n",
        "print(splitted)\n",
        "\n",
        "index = splitted[0]\n",
        "namn = splitted[1]\n",
        "typ = splitted [2]\n",
        "\n",
        "print(index)\n",
        "print(namn)\n",
        "print(typ)"
      ]
    },
    {
      "cell_type": "code",
      "execution_count": null,
      "metadata": {},
      "outputs": [],
      "source": [
        "pokedex = {}\n",
        "\n",
        "pokedex[namn] = f'{typ}, {index}'\n",
        "\n",
        "print(pokedex)"
      ]
    },
    {
      "cell_type": "markdown",
      "metadata": {
        "id": "nz9uG-zFQ93P"
      },
      "source": [
        "---\n",
        "## 4. Morse code (**)\n",
        "\n",
        "Read in the file morse.txt, save it in a dictionary and create a function that lets the user input a message to get it translated to morse code. For example  (**)\n",
        "\n",
        "```python\n",
        "\n",
        "print(morse(\"SOS\"))\n",
        "print(morse(\"POKEMON\"))\n",
        "\n",
        "...---...\n",
        ".------.-.------.\n",
        "```"
      ]
    }
  ],
  "metadata": {
    "colab": {
      "include_colab_link": true,
      "provenance": []
    },
    "kernelspec": {
      "display_name": "Python 3 (ipykernel)",
      "language": "python",
      "name": "python3"
    },
    "language_info": {
      "codemirror_mode": {
        "name": "ipython",
        "version": 3
      },
      "file_extension": ".py",
      "mimetype": "text/x-python",
      "name": "python",
      "nbconvert_exporter": "python",
      "pygments_lexer": "ipython3",
      "version": "3.11.4"
    },
    "vscode": {
      "interpreter": {
        "hash": "0da836a34428266995a795f1e1e27b816fa1c02f148d9728b3fbbbc5459afca6"
      }
    }
  },
  "nbformat": 4,
  "nbformat_minor": 0
}
