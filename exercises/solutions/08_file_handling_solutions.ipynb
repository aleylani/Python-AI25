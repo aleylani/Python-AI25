{
  "cells": [
    {
      "cell_type": "markdown",
      "metadata": {
        "colab_type": "text",
        "id": "view-in-github"
      },
      "source": [
        "<a href=\"https://colab.research.google.com/github/aleylani/Python/blob/main/exercises/08_file_handling_exercise.ipynb\" target=\"_parent\"><img src=\"https://colab.research.google.com/assets/colab-badge.svg\" alt=\"Open In Colab\"/></a>"
      ]
    },
    {
      "cell_type": "markdown",
      "metadata": {
        "id": "DlOV9_wuQ2Vm"
      },
      "source": [
        "# file handling exercises\n",
        "\n",
        "---\n",
        "These are introductory exercises in Python with focus in **file handling**.\n",
        "\n",
        "All files needed for these exercises can be found in the **files** folder in this repo. Clone the repo to access them.\n",
        "\n",
        "<p class = \"alert alert-info\" role=\"alert\"><b>Remember</b> to use <b>descriptive variable and function names</b> in order to get readable code </p>\n",
        "\n",
        "<p class = \"alert alert-info\" role=\"alert\"><b>Remember</b> to format your answers in a neat way using <b>f-strings</b>\n",
        "\n",
        "<p class = \"alert alert-info\" role=\"alert\"><b>Remember</b> to format your input questions in a pedagogical way to guide the user\n",
        "\n",
        "The number of stars (\\*), (\\*\\*), (\\*\\*\\*) denotes the difficulty level of the task\n",
        "\n",
        "---"
      ]
    },
    {
      "cell_type": "markdown",
      "metadata": {
        "id": "5g_cU15OQ2Vo"
      },
      "source": [
        "## 1. Dice rolls (*)\n",
        "Create a textfile called **dice_rolls.txt** using Python. Also for each subtask, write adequate headers.\n",
        "\n",
        "&nbsp; a) &nbsp; Simulate 20 dice rolls and write them to your textfile. (*)\n",
        "\n",
        "&nbsp; b) &nbsp; Sort the dice rolls from a) and write them to a separate row in the same textfile. (*)\n",
        "\n",
        "&nbsp; c) &nbsp; Count the number of fours in the dice rolls and write them to a separate row in the same textfile. (*)\n",
        "\n",
        "<details>\n",
        "\n",
        "<summary>Answer </summary>\n",
        "\n",
        "For example:\n",
        "\n",
        "```\n",
        "\n",
        "Simulate 20 dice rolls:\n",
        "[3 4 4 3 1 2 6 6 4 6 2 4 5 3 1 2 1 3 3 1]\n",
        "\n",
        "Sorted dice rolls:\n",
        "[1 1 1 1 2 2 2 3 3 3 3 3 4 4 4 4 5 6 6 6]\n",
        "\n",
        "Number of fours: 4\n",
        "\n",
        "```\n",
        "\n",
        "</details>"
      ]
    },
    {
      "cell_type": "markdown",
      "metadata": {
        "id": "yuL8hz-IQ2Vo"
      },
      "source": [
        "---\n",
        "## 2. Test results (*)\n",
        "Read in the file test_result.txt (located in the data folder of this repo) in Python.\n",
        "\n",
        "[test_result]: https://github.com/kokchun/Programmering-med-Python-21/blob/main/Files/test_result.txt\n",
        "\n",
        "&nbsp; a) &nbsp; Print out the text in the terminal (*)\n",
        "\n",
        "&nbsp; b) &nbsp; Create new rows in the same file and write the people and their corresponding scores in alphabetical order. (*)\n",
        "\n",
        "&nbsp; c) &nbsp; Create additional rows in the same file and sort the people after their grades. The grade limits are: (**)\n",
        "\n",
        "- F < 20\n",
        "- E: 20-29\n",
        "- D: 30-39\n",
        "- C: 40-49\n",
        "- B: 50-59\n",
        "- A: 60-70\n",
        "\n",
        "<details>\n",
        "\n",
        "<summary>Hint </summary>\n",
        "\n",
        "Open the file using option \"r\" for read and open the file using option \"a\" for append.\n",
        "\n",
        "</details>\n",
        "<br>\n",
        "<details>\n",
        "\n",
        "<summary>Answer </summary>\n",
        "\n",
        "```\n",
        "\n",
        "Adam Gustafsson 25\n",
        "Emil Johansson 23\n",
        "Sven Erik Karlsson 13\n",
        "Ove Karlsten 41\n",
        "Emma Boden 32\n",
        "Ida Håkansson 23\n",
        "Ella Ester 41\n",
        "Hanna Karlsson 23\n",
        "Johan Johansson 42\n",
        "Sven Erik Lundin 39\n",
        "Björn Björnsson 39\n",
        "Karl Karlsson 32\n",
        "Bose Bosseson 32\n",
        "Håkan Håkanson 24\n",
        "Jonas Jonasson 31\n",
        "Erik Eriksson 31\n",
        "Gore Bord 55\n",
        "Jakob Kallander 65\n",
        "Fredrika Ulven 10\n",
        "\n",
        "Sorted alphabetically\n",
        "Adam Gustafsson 25\n",
        "Björn Björnsson 39\n",
        "Bose Bosseson 32\n",
        "Ella Ester 41\n",
        "Emil Johansson 23\n",
        "Emma Boden 32\n",
        "Erik Eriksson 31\n",
        "Fredrika Ulven 10\n",
        "Gore Bord 55\n",
        "Hanna Karlsson 23\n",
        "Håkan Håkanson 24\n",
        "Ida Håkansson 23\n",
        "Jakob Kallander 65\n",
        "Johan Johansson 42\n",
        "Jonas Jonasson 31\n",
        "Karl Karlsson 32\n",
        "Ove Karlsten 41\n",
        "Sven Erik Karlsson 13\n",
        "Sven Erik Lundin 39\n",
        "\n",
        "Sorted results:\n",
        "Grade: F\n",
        "Fredrika Ulven 10\n",
        "Sven Erik Karlsson 13\n",
        "Grade: E\n",
        "Adam Gustafsson 25\n",
        "Emil Johansson 23\n",
        "Hanna Karlsson 23\n",
        "Håkan Håkanson 24\n",
        "Ida Håkansson 23\n",
        "Grade: D\n",
        "Björn Björnsson 39\n",
        "Bose Bosseson 32\n",
        "Emma Boden 32\n",
        "Erik Eriksson 31\n",
        "Jonas Jonasson 31\n",
        "Karl Karlsson 32\n",
        "Sven Erik Lundin 39\n",
        "Grade: C\n",
        "Ella Ester 41\n",
        "Johan Johansson 42\n",
        "Ove Karlsten 41\n",
        "Grade: B\n",
        "Gore Bord 55\n",
        "Grade: A\n",
        "Jakob Kallander 65\n",
        "\n",
        "```\n",
        "\n",
        "</details>"
      ]
    },
    {
      "cell_type": "markdown",
      "metadata": {},
      "source": [
        "**a)** Öppna filen i terminalen, precis som i notebooken - och printa sedan"
      ]
    },
    {
      "cell_type": "markdown",
      "metadata": {},
      "source": [
        "**b)**"
      ]
    },
    {
      "cell_type": "markdown",
      "metadata": {},
      "source": [
        "**Delmoment 1: läs in filen**"
      ]
    },
    {
      "cell_type": "code",
      "execution_count": null,
      "metadata": {},
      "outputs": [],
      "source": [
        "path = '../../data/test_result.txt'\n",
        "\n",
        "with open(path, 'r') as file:\n",
        "\n",
        "    contents = file.readlines()            # readlines() till skillnad mot read(), läser in varje rad för sig av filen - och lägger in det i en lista\n",
        "\n",
        "print(contents)\n",
        "print(type(contents))"
      ]
    },
    {
      "cell_type": "markdown",
      "metadata": {},
      "source": [
        "**Delmoment 2: rensa bort alla \\n**"
      ]
    },
    {
      "cell_type": "code",
      "execution_count": null,
      "metadata": {},
      "outputs": [],
      "source": [
        "# börja först med att försöka rensa ETT namn för att se att det funkar\n",
        "# när du hittat en metod som funkar så applicera den därefter på alla\n",
        "\n",
        "name = 'Adam Gustafsson 25\\n'\n",
        "\n",
        "cleaned_name = name.replace('\\n', '')\n",
        "\n",
        "print(cleaned_name)"
      ]
    },
    {
      "cell_type": "code",
      "execution_count": null,
      "metadata": {},
      "outputs": [],
      "source": [
        "cleaned_contents = [name.replace('\\n', '') for name in contents]\n",
        "print(cleaned_contents)"
      ]
    },
    {
      "cell_type": "markdown",
      "metadata": {},
      "source": [
        "**Delmoment 3: separera namnen från poängen. skapa en lista för varje**"
      ]
    },
    {
      "cell_type": "code",
      "execution_count": null,
      "metadata": {},
      "outputs": [],
      "source": [
        "# börja först med att försöka separera namn från poäng för EN deltagare\n",
        "# när du hittat en metod som funkar så applicera den därefter på alla"
      ]
    },
    {
      "cell_type": "code",
      "execution_count": null,
      "metadata": {},
      "outputs": [],
      "source": [
        "deltagare = 'Sven Erik Lundin 39'\n",
        "deltagare_splittad = deltagare.split()\n",
        "\n",
        "print(deltagare_splittad)\n",
        "\n",
        "print(deltagare_splittad[:-1])\n",
        "\n",
        "namn = ' '.join(deltagare_splittad[:-1])\n",
        "print(namn)\n",
        "\n",
        "point = deltagare_splittad[-1]\n",
        "print(point)"
      ]
    },
    {
      "cell_type": "markdown",
      "metadata": {},
      "source": [
        "Bra! Nu har vi hittat en metod som fungerar för alla deltagare, oavsett antal namn i deras namn"
      ]
    },
    {
      "cell_type": "code",
      "execution_count": null,
      "metadata": {},
      "outputs": [],
      "source": [
        "alla_namn = []\n",
        "alla_poäng = []\n",
        "\n",
        "for deltagare in cleaned_contents:\n",
        "\n",
        "    deltagare_splittad = deltagare.split()\n",
        "    namn = ' '.join(deltagare_splittad[:-1])\n",
        "    point = deltagare_splittad[-1]\n",
        "\n",
        "    alla_namn.append(namn)\n",
        "    alla_poäng.append(point)\n",
        "\n",
        "print(alla_namn)\n",
        "print(alla_poäng)"
      ]
    },
    {
      "cell_type": "markdown",
      "metadata": {},
      "source": [
        "**Delmoment 4: sortera namnlistan i en ny lista, och hitta rätt index för varje namn i poänglistan**"
      ]
    },
    {
      "cell_type": "code",
      "execution_count": null,
      "metadata": {},
      "outputs": [],
      "source": [
        "sorterade_namn = sorted(alla_namn)\n",
        "print(sorterade_namn)"
      ]
    },
    {
      "cell_type": "code",
      "execution_count": null,
      "metadata": {},
      "outputs": [],
      "source": [
        "for namn in sorterade_namn:\n",
        "\n",
        "    index = alla_namn.index(namn)          # placeringen för varje namn i alla_namn listan, motsvarar även respektive persons poängplacering i alla_poäng listan\n",
        "    poäng = alla_poäng[index]\n",
        "    \n",
        "    print(namn, poäng)"
      ]
    },
    {
      "cell_type": "markdown",
      "metadata": {},
      "source": [
        "**Delmoment 5: appenda in ovan resultat till vår textfil**"
      ]
    },
    {
      "cell_type": "markdown",
      "metadata": {},
      "source": [
        "Bra, nu när vi vet hur vi får ut namnen i alfabetisk ordning, och med rätt poäng, kan vi skriva in \n",
        "informationen i vår fel. \n",
        "\n",
        "OBS! Vi appendar"
      ]
    },
    {
      "cell_type": "code",
      "execution_count": null,
      "metadata": {},
      "outputs": [],
      "source": [
        "path = '../../data/test_result.txt'\n",
        "\n",
        "with open(path, 'a') as file:\n",
        "\n",
        "    file.write('\\n\\nSorterade alfabetiskt\\n\\n')       # skapa en titel i textfilen över all information som du nu ska lägga till\n",
        "\n",
        "    for namn in sorterade_namn:\n",
        "\n",
        "        index = alla_namn.index(namn)         \n",
        "        poäng = alla_poäng[index]\n",
        "        \n",
        "        to_write = f'{namn} {poäng}\\n'\n",
        "        \n",
        "        file.write(to_write)\n"
      ]
    },
    {
      "cell_type": "markdown",
      "metadata": {},
      "source": [
        "---\n",
        "## 3. Text cleanup (**)\n",
        "read in the file quotes.txt (located in the data folder of the course repo) in Python.\n",
        "\n",
        "&nbsp; a) &nbsp; Print out the text in the terminal (*)\n",
        "\n",
        "&nbsp; b) &nbsp; In a new file write the information contained in quotes.txt, in the following format (*)\n",
        "\n",
        "name_1\n",
        "\n",
        "   -- full_quote1\n",
        "\n",
        "name_2\n",
        "\n",
        "   -- full_quote2\n",
        "\n",
        "...\n",
        "\n",
        "name_N\n",
        "\n",
        "   -- full_quoteN\n",
        "\n",
        "**All the quotes must be cleaned! In other words, remove all junk space contained between the words.**\n",
        "\n",
        "<details>\n",
        "\n",
        "<summary>Hint </summary>\n",
        "\n",
        "Open the file using option \"r\" for read and open the file using option \"a\" for append.\n",
        "\n",
        "</details>\n",
        "<br>\n",
        "<details>\n",
        "\n",
        "<summary>Answer </summary>\n",
        "\n",
        "```\n",
        "Albert Einstein\n",
        "--If we knew what it was we were doing, it would not be called research, would it?\n",
        "\n",
        "Terry Pratchett\n",
        "--Time is a drug. Too much of it kills you.\n",
        "\n",
        "Niels Bohr\n",
        "--An expert is a person who has made all the mistakes that can be made in a very narrow field.\n",
        "\n",
        "Albert Einstein \n",
        "--Everything must be made as simple as possible. But not simpler.     \n",
        "\n",
        "Marie  Curie\n",
        "--Nothing in life is to be feared, it is only to be understood. Now is the time to understand more, so that we may fear less.  \n",
        "\n",
        "Isaac Newton\n",
        "--If I have seen further it is by standing on the shoulders of Giants.\n",
        "\n",
        "```\n",
        "\n",
        "</details>"
      ]
    },
    {
      "cell_type": "markdown",
      "metadata": {},
      "source": [
        "**Delmoment 1: läs in filen**"
      ]
    },
    {
      "cell_type": "code",
      "execution_count": null,
      "metadata": {},
      "outputs": [],
      "source": [
        "path = '../../data/quotes.txt'\n",
        "\n",
        "with open(path, 'r') as file:\n",
        "\n",
        "    contents = file.readlines()\n",
        "\n",
        "contents"
      ]
    },
    {
      "cell_type": "markdown",
      "metadata": {},
      "source": [
        "**Delmoment 2: ta bart onödiga element i vår lista contents (specifict de som är like med \\n)**"
      ]
    },
    {
      "cell_type": "code",
      "execution_count": null,
      "metadata": {},
      "outputs": [],
      "source": [
        "contents = [x for x in contents if x != '\\n']\n",
        "contents"
      ]
    },
    {
      "cell_type": "markdown",
      "metadata": {},
      "source": [
        "**Delmoment 3: Hitta en metod som funkar för ETT citat i taget, och applicera den sedan för alla**"
      ]
    },
    {
      "cell_type": "code",
      "execution_count": null,
      "metadata": {},
      "outputs": [],
      "source": [
        "content = contents[0]\n",
        "content"
      ]
    },
    {
      "cell_type": "code",
      "execution_count": null,
      "metadata": {},
      "outputs": [],
      "source": [
        "splitted = content.split('-')\n",
        "\n",
        "quote = splitted[0]\n",
        "name = splitted[1]\n",
        "\n",
        "cleaned_quote = ' '.join(quote.strip().split())\n",
        "cleaned_name = name.strip()\n",
        "\n",
        "print(cleaned_name)\n",
        "print(f'--{cleaned_quote}')"
      ]
    },
    {
      "cell_type": "markdown",
      "metadata": {},
      "source": [
        "**Delmoment 4: nu när vi har en metod som verkar fungera, gör en for-loop och applicera den på alla citat**"
      ]
    },
    {
      "cell_type": "code",
      "execution_count": null,
      "metadata": {},
      "outputs": [],
      "source": [
        "contents"
      ]
    },
    {
      "cell_type": "code",
      "execution_count": null,
      "metadata": {},
      "outputs": [],
      "source": [
        "for content in contents:\n",
        "\n",
        "    splitted = content.split('-')\n",
        "\n",
        "    quote = splitted[0]\n",
        "    name = splitted[1]\n",
        "\n",
        "    cleaned_quote = ' '.join(quote.strip().split())\n",
        "    cleaned_name = name.strip()\n",
        "\n",
        "    print(cleaned_name)\n",
        "    print(f'--{cleaned_quote}')\n",
        "    print()"
      ]
    },
    {
      "cell_type": "markdown",
      "metadata": {},
      "source": [
        "**Delmoment 5: Nu när vi har desired output, se till att skriva in det i en ny textfilen också**"
      ]
    },
    {
      "cell_type": "code",
      "execution_count": null,
      "metadata": {},
      "outputs": [],
      "source": [
        "path = 'resulat.txt'\n",
        "\n",
        "with open(path, 'w') as file:\n",
        "\n",
        "    for content in contents:\n",
        "\n",
        "        splitted = content.split('-')\n",
        "\n",
        "        quote = splitted[0]\n",
        "        name = splitted[1]\n",
        "\n",
        "        cleaned_quote = ' '.join(quote.strip().split())\n",
        "        cleaned_name = name.strip()\n",
        "\n",
        "        file.write(f'{cleaned_name}\\n')\n",
        "        file.write(f'--{cleaned_quote}\\n\\n')"
      ]
    }
  ],
  "metadata": {
    "colab": {
      "include_colab_link": true,
      "provenance": []
    },
    "kernelspec": {
      "display_name": "Python 3 (ipykernel)",
      "language": "python",
      "name": "python3"
    },
    "language_info": {
      "codemirror_mode": {
        "name": "ipython",
        "version": 3
      },
      "file_extension": ".py",
      "mimetype": "text/x-python",
      "name": "python",
      "nbconvert_exporter": "python",
      "pygments_lexer": "ipython3",
      "version": "3.11.4"
    },
    "vscode": {
      "interpreter": {
        "hash": "7e1998ff7f8aa20ada591c520b972326324e5ea05489af9e422744c7c09f6dad"
      }
    }
  },
  "nbformat": 4,
  "nbformat_minor": 0
}
