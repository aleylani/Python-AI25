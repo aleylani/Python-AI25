{
  "cells": [
    {
      "cell_type": "markdown",
      "metadata": {
        "colab_type": "text",
        "id": "view-in-github"
      },
      "source": [
        "<a href=\"https://colab.research.google.com/github/aleylani/Python-AI25/blob/main/exercises/08_file_handling_exercise.ipynb\" target=\"_parent\"><img src=\"https://colab.research.google.com/assets/colab-badge.svg\" alt=\"Open In Colab\"/></a>"
      ]
    },
    {
      "cell_type": "markdown",
      "metadata": {
        "id": "DlOV9_wuQ2Vm"
      },
      "source": [
        "# file handling exercises\n",
        "\n",
        "---\n",
        "These are introductory exercises in Python with focus in **file handling**.\n",
        "\n",
        "All files needed for these exercises can be found in the **files** folder in this repo. Clone the repo to access them.\n",
        "\n",
        "<p class = \"alert alert-info\" role=\"alert\"><b>Remember</b> to use <b>descriptive variable and function names</b> in order to get readable code </p>\n",
        "\n",
        "<p class = \"alert alert-info\" role=\"alert\"><b>Remember</b> to format your answers in a neat way using <b>f-strings</b>\n",
        "\n",
        "<p class = \"alert alert-info\" role=\"alert\"><b>Remember</b> to format your input questions in a pedagogical way to guide the user\n",
        "\n",
        "The number of stars (\\*), (\\*\\*), (\\*\\*\\*) denotes the difficulty level of the task\n",
        "\n",
        "---"
      ]
    },
    {
      "cell_type": "markdown",
      "metadata": {
        "id": "5g_cU15OQ2Vo"
      },
      "source": [
        "## 1. Dice rolls (*)\n",
        "Create a textfile called **dice_rolls.txt** using Python. Also for each subtask, write adequate headers.\n",
        "\n",
        "&nbsp; a) &nbsp; Simulate 20 dice rolls and write them to your textfile. (*)\n",
        "\n",
        "&nbsp; b) &nbsp; Sort the dice rolls from a) and write them to a separate row in the same textfile. (*)\n",
        "\n",
        "&nbsp; c) &nbsp; Count the number of fours in the dice rolls and write them to a separate row in the same textfile. (*)\n",
        "\n",
        "<details>\n",
        "\n",
        "<summary>Answer </summary>\n",
        "\n",
        "For example:\n",
        "\n",
        "```\n",
        "\n",
        "Simulate 20 dice rolls:\n",
        "[3 4 4 3 1 2 6 6 4 6 2 4 5 3 1 2 1 3 3 1]\n",
        "\n",
        "Sorted dice rolls:\n",
        "[1 1 1 1 2 2 2 3 3 3 3 3 4 4 4 4 5 6 6 6]\n",
        "\n",
        "Number of fours: 4\n",
        "\n",
        "```\n",
        "\n",
        "</details>"
      ]
    },
    {
      "cell_type": "markdown",
      "metadata": {
        "id": "yuL8hz-IQ2Vo"
      },
      "source": [
        "---\n",
        "## 2. Test results (*)\n",
        "Read in the file test_result.txt (located in the data folder of this repo) in Python.\n",
        "\n",
        "[test_result]: https://github.com/kokchun/Programmering-med-Python-21/blob/main/Files/test_result.txt\n",
        "\n",
        "&nbsp; a) &nbsp; Print out the text in the terminal (*)\n",
        "\n",
        "&nbsp; b) &nbsp; Create new rows in the same file and write the people and their corresponding scores in alphabetical order. (*)\n",
        "\n",
        "&nbsp; c) &nbsp; Create additional rows in the same file and sort the people after their grades. The grade limits are: (**)\n",
        "\n",
        "- F < 20\n",
        "- E: 20-29\n",
        "- D: 30-39\n",
        "- C: 40-49\n",
        "- B: 50-59\n",
        "- A: 60-70\n",
        "\n",
        "<details>\n",
        "\n",
        "<summary>Hint </summary>\n",
        "\n",
        "Open the file using option \"r\" for read and open the file using option \"a\" for append.\n",
        "\n",
        "</details>\n",
        "<br>\n",
        "<details>\n",
        "\n",
        "<summary>Answer </summary>\n",
        "\n",
        "```\n",
        "\n",
        "Adam Gustafsson 25\n",
        "Emil Johansson 23\n",
        "Sven Erik Karlsson 13\n",
        "Ove Karlsten 41\n",
        "Emma Boden 32\n",
        "Ida Håkansson 23\n",
        "Ella Ester 41\n",
        "Hanna Karlsson 23\n",
        "Johan Johansson 42\n",
        "Sven Erik Lundin 39\n",
        "Björn Björnsson 39\n",
        "Karl Karlsson 32\n",
        "Bose Bosseson 32\n",
        "Håkan Håkanson 24\n",
        "Jonas Jonasson 31\n",
        "Erik Eriksson 31\n",
        "Gore Bord 55\n",
        "Jakob Kallander 65\n",
        "Fredrika Ulven 10\n",
        "\n",
        "Sorted alphabetically\n",
        "Adam Gustafsson 25\n",
        "Björn Björnsson 39\n",
        "Bose Bosseson 32\n",
        "Ella Ester 41\n",
        "Emil Johansson 23\n",
        "Emma Boden 32\n",
        "Erik Eriksson 31\n",
        "Fredrika Ulven 10\n",
        "Gore Bord 55\n",
        "Hanna Karlsson 23\n",
        "Håkan Håkanson 24\n",
        "Ida Håkansson 23\n",
        "Jakob Kallander 65\n",
        "Johan Johansson 42\n",
        "Jonas Jonasson 31\n",
        "Karl Karlsson 32\n",
        "Ove Karlsten 41\n",
        "Sven Erik Karlsson 13\n",
        "Sven Erik Lundin 39\n",
        "\n",
        "Sorted results:\n",
        "Grade: F\n",
        "Fredrika Ulven 10\n",
        "Sven Erik Karlsson 13\n",
        "Grade: E\n",
        "Adam Gustafsson 25\n",
        "Emil Johansson 23\n",
        "Hanna Karlsson 23\n",
        "Håkan Håkanson 24\n",
        "Ida Håkansson 23\n",
        "Grade: D\n",
        "Björn Björnsson 39\n",
        "Bose Bosseson 32\n",
        "Emma Boden 32\n",
        "Erik Eriksson 31\n",
        "Jonas Jonasson 31\n",
        "Karl Karlsson 32\n",
        "Sven Erik Lundin 39\n",
        "Grade: C\n",
        "Ella Ester 41\n",
        "Johan Johansson 42\n",
        "Ove Karlsten 41\n",
        "Grade: B\n",
        "Gore Bord 55\n",
        "Grade: A\n",
        "Jakob Kallander 65\n",
        "\n",
        "```\n",
        "\n",
        "</details>"
      ]
    },
    {
      "cell_type": "markdown",
      "metadata": {},
      "source": [
        "# b)"
      ]
    },
    {
      "cell_type": "markdown",
      "metadata": {},
      "source": [
        "**Delmoment 1: läs in filen**"
      ]
    },
    {
      "cell_type": "code",
      "execution_count": 11,
      "metadata": {},
      "outputs": [
        {
          "data": {
            "text/plain": [
              "'Adam Gustafsson 25\\nEmil Johansson 23\\nSven Erik Karlsson 13\\nOve Karlsten 41\\nEmma Boden 32\\nIda Håkansson 23\\nElla Ester 41\\nHanna Karlsson 23 \\nJohan Johansson 42\\nSven Erik Lundin 39\\nBjörn Björnsson 39\\nKarl Karlsson 32\\nBose Bosseson 32\\nHåkan Håkanson 24\\nJonas Jonasson 31\\nErik Eriksson 31\\nGore Bord 55\\nJakob Kallander 65\\nFredrika Ulven 10\\n'"
            ]
          },
          "execution_count": 11,
          "metadata": {},
          "output_type": "execute_result"
        }
      ],
      "source": [
        "filepath = \"../data/test_result.txt\"\n",
        "\n",
        "with open(filepath, \"r\") as file:\n",
        "  \n",
        "  contents = file.read()\n",
        "\n",
        "contents\n"
      ]
    },
    {
      "cell_type": "code",
      "execution_count": 12,
      "metadata": {},
      "outputs": [
        {
          "name": "stdout",
          "output_type": "stream",
          "text": [
            "Adam Gustafsson 25\n",
            "Emil Johansson 23\n",
            "Sven Erik Karlsson 13\n",
            "Ove Karlsten 41\n",
            "Emma Boden 32\n",
            "Ida Håkansson 23\n",
            "Ella Ester 41\n",
            "Hanna Karlsson 23 \n",
            "Johan Johansson 42\n",
            "Sven Erik Lundin 39\n",
            "Björn Björnsson 39\n",
            "Karl Karlsson 32\n",
            "Bose Bosseson 32\n",
            "Håkan Håkanson 24\n",
            "Jonas Jonasson 31\n",
            "Erik Eriksson 31\n",
            "Gore Bord 55\n",
            "Jakob Kallander 65\n",
            "Fredrika Ulven 10\n",
            "\n"
          ]
        }
      ],
      "source": [
        "print(contents)"
      ]
    },
    {
      "cell_type": "markdown",
      "metadata": {},
      "source": [
        "**Delmoment 2: isolera varje rad som ett element i en lista**"
      ]
    },
    {
      "cell_type": "code",
      "execution_count": 13,
      "metadata": {},
      "outputs": [
        {
          "name": "stdout",
          "output_type": "stream",
          "text": [
            "['Adam Gustafsson 25', 'Emil Johansson 23', 'Sven Erik Karlsson 13', 'Ove Karlsten 41', 'Emma Boden 32', 'Ida Håkansson 23', 'Ella Ester 41', 'Hanna Karlsson 23 ', 'Johan Johansson 42', 'Sven Erik Lundin 39', 'Björn Björnsson 39', 'Karl Karlsson 32', 'Bose Bosseson 32', 'Håkan Håkanson 24', 'Jonas Jonasson 31', 'Erik Eriksson 31', 'Gore Bord 55', 'Jakob Kallander 65', 'Fredrika Ulven 10', '']\n"
          ]
        }
      ],
      "source": [
        "information_list = contents.split(\"\\n\")\n",
        "\n",
        "print(information_list)\n"
      ]
    },
    {
      "cell_type": "markdown",
      "metadata": {},
      "source": [
        "**Delmoment 3: rensa bort tomma strängar**"
      ]
    },
    {
      "cell_type": "code",
      "execution_count": 16,
      "metadata": {},
      "outputs": [
        {
          "name": "stdout",
          "output_type": "stream",
          "text": [
            "['Adam Gustafsson 25', 'Emil Johansson 23', 'Sven Erik Karlsson 13', 'Ove Karlsten 41', 'Emma Boden 32', 'Ida Håkansson 23', 'Ella Ester 41', 'Hanna Karlsson 23 ', 'Johan Johansson 42', 'Sven Erik Lundin 39', 'Björn Björnsson 39', 'Karl Karlsson 32', 'Bose Bosseson 32', 'Håkan Håkanson 24', 'Jonas Jonasson 31', 'Erik Eriksson 31', 'Gore Bord 55', 'Jakob Kallander 65', 'Fredrika Ulven 10']\n"
          ]
        }
      ],
      "source": [
        "information_list_clean = [info for info in information_list if info != '']\n",
        "\n",
        "print(information_list_clean)"
      ]
    },
    {
      "cell_type": "markdown",
      "metadata": {},
      "source": [
        "**Delmoment 4: sortera listan**"
      ]
    },
    {
      "cell_type": "code",
      "execution_count": 20,
      "metadata": {},
      "outputs": [
        {
          "data": {
            "text/plain": [
              "['Adam Gustafsson 25',\n",
              " 'Björn Björnsson 39',\n",
              " 'Bose Bosseson 32',\n",
              " 'Ella Ester 41',\n",
              " 'Emil Johansson 23',\n",
              " 'Emma Boden 32',\n",
              " 'Erik Eriksson 31',\n",
              " 'Fredrika Ulven 10',\n",
              " 'Gore Bord 55',\n",
              " 'Hanna Karlsson 23 ',\n",
              " 'Håkan Håkanson 24',\n",
              " 'Ida Håkansson 23',\n",
              " 'Jakob Kallander 65',\n",
              " 'Johan Johansson 42',\n",
              " 'Jonas Jonasson 31',\n",
              " 'Karl Karlsson 32',\n",
              " 'Ove Karlsten 41',\n",
              " 'Sven Erik Karlsson 13',\n",
              " 'Sven Erik Lundin 39']"
            ]
          },
          "execution_count": 20,
          "metadata": {},
          "output_type": "execute_result"
        }
      ],
      "source": [
        "information_list_sorted = sorted(information_list_clean)\n",
        "\n",
        "information_list_sorted"
      ]
    },
    {
      "cell_type": "markdown",
      "metadata": {},
      "source": [
        "**Delmoment 5: börja skriva in headers i filen**"
      ]
    },
    {
      "cell_type": "code",
      "execution_count": 18,
      "metadata": {},
      "outputs": [],
      "source": [
        "with open(filepath, \"a\") as file:\n",
        "\n",
        "    file.write(\"\\n\")\n",
        "    file.write(\"Sorted alphabetically\\n\")"
      ]
    },
    {
      "cell_type": "markdown",
      "metadata": {},
      "source": [
        "**Delmoment 6: börja skriva in sorterade informationen**"
      ]
    },
    {
      "cell_type": "code",
      "execution_count": 22,
      "metadata": {},
      "outputs": [],
      "source": [
        "with open(filepath, \"a\") as file:\n",
        "\n",
        "    for info in information_list_sorted:\n",
        "\n",
        "        to_write = f'{info}\\n'\n",
        "\n",
        "        file.write(to_write)"
      ]
    },
    {
      "cell_type": "markdown",
      "metadata": {},
      "source": [
        "---\n",
        "## 3. Text cleanup (**)\n",
        "read in the file quotes.txt (located in the data folder of the course repo) in Python.\n",
        "\n",
        "&nbsp; a) &nbsp; Print out the text in the terminal (*)\n",
        "\n",
        "&nbsp; b) &nbsp; In a new file write the information contained in quotes.txt, in the following format (*)\n",
        "\n",
        "name_1\n",
        "\n",
        "   -- full_quote1\n",
        "\n",
        "name_2\n",
        "\n",
        "   -- full_quote2\n",
        "\n",
        "...\n",
        "\n",
        "name_N\n",
        "\n",
        "   -- full_quoteN\n",
        "\n",
        "**All the quotes must be cleaned! In other words, remove all junk space contained between the words.**\n",
        "\n",
        "<details>\n",
        "\n",
        "<summary>Hint </summary>\n",
        "\n",
        "Open the file using option \"r\" for read and open the file using option \"a\" for append.\n",
        "\n",
        "</details>\n",
        "<br>\n",
        "<details>\n",
        "\n",
        "<summary>Answer </summary>\n",
        "\n",
        "```\n",
        "Albert Einstein\n",
        "--If we knew what it was we were doing, it would not be called research, would it?\n",
        "\n",
        "Terry Pratchett\n",
        "--Time is a drug. Too much of it kills you.\n",
        "\n",
        "Niels Bohr\n",
        "--An expert is a person who has made all the mistakes that can be made in a very narrow field.\n",
        "\n",
        "Albert Einstein \n",
        "--Everything must be made as simple as possible. But not simpler.     \n",
        "\n",
        "Marie  Curie\n",
        "--Nothing in life is to be feared, it is only to be understood. Now is the time to understand more, so that we may fear less.  \n",
        "\n",
        "Isaac Newton\n",
        "--If I have seen further it is by standing on the shoulders of Giants.\n",
        "\n",
        "```\n",
        "\n",
        "</details>"
      ]
    },
    {
      "cell_type": "markdown",
      "metadata": {},
      "source": [
        "**Delmoment 1: läs in filen**"
      ]
    },
    {
      "cell_type": "code",
      "execution_count": 53,
      "metadata": {},
      "outputs": [],
      "source": [
        "filepath = '../data/quotes.txt'\n",
        "\n",
        "with open(filepath, 'r') as file:\n",
        "\n",
        "    contents = file.readlines()"
      ]
    },
    {
      "cell_type": "code",
      "execution_count": 55,
      "metadata": {},
      "outputs": [
        {
          "data": {
            "text/plain": [
              "['  If     we     knew what it was      we were doing, it would not be called research,          would it?     - Albert Einstein\\n',\n",
              " '\\n',\n",
              " 'Time is a drug. Too       much of it kills you.  -  Terry Pratchett\\n',\n",
              " '\\n',\n",
              " '\\n',\n",
              " ' An expert is a person who       has made all the mistakes that           can be made in a          very narrow field - Niels Bohr\\n',\n",
              " '\\n',\n",
              " '   Everything must be made as simple as possible. But not simpler. - Albert Einstein     \\n',\n",
              " '\\n',\n",
              " '\\n',\n",
              " '  Nothing in life                is to be feared, it is only to be understood. Now is the time to understand more, so that we may fear less. - Marie  Curie  \\n',\n",
              " '\\n',\n",
              " 'If I have seen further     it is by standing on the shoulders of Giants. - Isaac Newton']"
            ]
          },
          "execution_count": 55,
          "metadata": {},
          "output_type": "execute_result"
        }
      ],
      "source": [
        "contents"
      ]
    },
    {
      "cell_type": "markdown",
      "metadata": {},
      "source": [
        "**Delmoment 2: rensa bort alla onödiga element (som enbart i detta fall innehåller \\n) från vår lista**"
      ]
    },
    {
      "cell_type": "code",
      "execution_count": 57,
      "metadata": {},
      "outputs": [
        {
          "data": {
            "text/plain": [
              "['  If     we     knew what it was      we were doing, it would not be called research,          would it?     - Albert Einstein\\n',\n",
              " 'Time is a drug. Too       much of it kills you.  -  Terry Pratchett\\n',\n",
              " ' An expert is a person who       has made all the mistakes that           can be made in a          very narrow field - Niels Bohr\\n',\n",
              " '   Everything must be made as simple as possible. But not simpler. - Albert Einstein     \\n',\n",
              " '  Nothing in life                is to be feared, it is only to be understood. Now is the time to understand more, so that we may fear less. - Marie  Curie  \\n',\n",
              " 'If I have seen further     it is by standing on the shoulders of Giants. - Isaac Newton']"
            ]
          },
          "execution_count": 57,
          "metadata": {},
          "output_type": "execute_result"
        }
      ],
      "source": [
        "relevant_contents = [row for row in contents if row != '\\n']\n",
        "\n",
        "relevant_contents"
      ]
    },
    {
      "cell_type": "markdown",
      "metadata": {},
      "source": [
        "**Delmoment 3: jobba med ett citat i taget och försök hitta en metod som du tror fungerar på alla**"
      ]
    },
    {
      "cell_type": "code",
      "execution_count": 67,
      "metadata": {},
      "outputs": [
        {
          "name": "stdout",
          "output_type": "stream",
          "text": [
            "['If', 'we', 'knew', 'what', 'it', 'was', 'we', 'were', 'doing,', 'it', 'would', 'not', 'be', 'called', 'research,', 'would', 'it?', '-', 'Albert', 'Einstein']\n"
          ]
        }
      ],
      "source": [
        "first_quote = relevant_contents[0]\n",
        "\n",
        "quote_list = first_quote.split()\n",
        "\n",
        "print(quote_list)"
      ]
    },
    {
      "cell_type": "code",
      "execution_count": 73,
      "metadata": {},
      "outputs": [
        {
          "data": {
            "text/plain": [
              "'If we knew what it was we were doing, it would not be called research, would it? - Albert Einstein'"
            ]
          },
          "execution_count": 73,
          "metadata": {},
          "output_type": "execute_result"
        }
      ],
      "source": [
        "' '.join(quote_list)"
      ]
    },
    {
      "cell_type": "markdown",
      "metadata": {},
      "source": [
        "**Delmoment 4: applicera metoden på alla citat och spara i en ny lista**"
      ]
    },
    {
      "cell_type": "code",
      "execution_count": 78,
      "metadata": {},
      "outputs": [],
      "source": [
        "cleaned_quotes = []\n",
        "\n",
        "for quote in relevant_contents:\n",
        "\n",
        "    quote_splitted_list = quote.split()\n",
        "    quoted_joined = ' '.join(quote_splitted_list)\n",
        "\n",
        "    cleaned_quotes.append(quoted_joined)"
      ]
    },
    {
      "cell_type": "markdown",
      "metadata": {},
      "source": []
    },
    {
      "cell_type": "code",
      "execution_count": 79,
      "metadata": {},
      "outputs": [
        {
          "data": {
            "text/plain": [
              "['If we knew what it was we were doing, it would not be called research, would it? - Albert Einstein',\n",
              " 'Time is a drug. Too much of it kills you. - Terry Pratchett',\n",
              " 'An expert is a person who has made all the mistakes that can be made in a very narrow field - Niels Bohr',\n",
              " 'Everything must be made as simple as possible. But not simpler. - Albert Einstein',\n",
              " 'Nothing in life is to be feared, it is only to be understood. Now is the time to understand more, so that we may fear less. - Marie Curie',\n",
              " 'If I have seen further it is by standing on the shoulders of Giants. - Isaac Newton']"
            ]
          },
          "execution_count": 79,
          "metadata": {},
          "output_type": "execute_result"
        }
      ],
      "source": [
        "cleaned_quotes"
      ]
    },
    {
      "cell_type": "markdown",
      "metadata": {},
      "source": [
        "**Delmoment 5: separera namnen från citaten**"
      ]
    },
    {
      "cell_type": "markdown",
      "metadata": {},
      "source": [
        "Vi hittar först en fungerade metod på första citatet"
      ]
    },
    {
      "cell_type": "code",
      "execution_count": 83,
      "metadata": {},
      "outputs": [
        {
          "name": "stdout",
          "output_type": "stream",
          "text": [
            "If we knew what it was we were doing, it would not be called research, would it?\n",
            "Albert Einstein\n"
          ]
        }
      ],
      "source": [
        "first_row = cleaned_quotes[0]\n",
        "\n",
        "citat = first_row.split(' - ')[0]\n",
        "sagesperson = first_row.split(' - ')[1]\n",
        "\n",
        "print(citat)\n",
        "print(sagesperson)"
      ]
    },
    {
      "cell_type": "markdown",
      "metadata": {},
      "source": [
        "Nice, applicera den på alla."
      ]
    },
    {
      "cell_type": "code",
      "execution_count": 84,
      "metadata": {},
      "outputs": [],
      "source": [
        "alla_citat = []\n",
        "alla_sagespersoner = []\n",
        "\n",
        "for row in cleaned_quotes:\n",
        "\n",
        "    citat = row.split(' - ')[0]\n",
        "    sagesperson = row.split(' - ')[1]\n",
        "\n",
        "    alla_citat.append(citat)\n",
        "    alla_sagespersoner.append(sagesperson)\n"
      ]
    },
    {
      "cell_type": "markdown",
      "metadata": {},
      "source": [
        "**Delmoment 6: skriv in informationen på önskvärt sätt i en ny fil**"
      ]
    },
    {
      "cell_type": "code",
      "execution_count": 90,
      "metadata": {},
      "outputs": [
        {
          "name": "stdout",
          "output_type": "stream",
          "text": [
            "Albert Einstein\n",
            "If we knew what it was we were doing, it would not be called research, would it?\n",
            "\n",
            "Terry Pratchett\n",
            "Time is a drug. Too much of it kills you.\n",
            "\n",
            "Niels Bohr\n",
            "An expert is a person who has made all the mistakes that can be made in a very narrow field\n",
            "\n",
            "Albert Einstein\n",
            "Everything must be made as simple as possible. But not simpler.\n",
            "\n",
            "Marie Curie\n",
            "Nothing in life is to be feared, it is only to be understood. Now is the time to understand more, so that we may fear less.\n",
            "\n",
            "Isaac Newton\n",
            "If I have seen further it is by standing on the shoulders of Giants.\n",
            "\n"
          ]
        }
      ],
      "source": [
        "for person, citat in zip(alla_sagespersoner, alla_citat):\n",
        "\n",
        "    print(person)\n",
        "    print(citat)\n",
        "    print()"
      ]
    },
    {
      "cell_type": "code",
      "execution_count": 95,
      "metadata": {},
      "outputs": [],
      "source": [
        "path = 'quote_results.txt'\n",
        "\n",
        "with open(path, 'w') as file:\n",
        "\n",
        "    for person, citat in zip(alla_sagespersoner, alla_citat):\n",
        "\n",
        "        file.write(f'{person}\\n')\n",
        "        file.write(f'--{citat}\\n\\n')\n"
      ]
    },
    {
      "cell_type": "markdown",
      "metadata": {
        "id": "rKc4iOTVQ2Vq"
      },
      "source": [
        "---\n",
        "## 4. Dice roll experiment (**)\n",
        "Simulate 10, 100, 1000, 10000, 100000 dice rolls and count the freqencies and probabilities for each number in each simulation. Create a new text file using Python with the name \"simulation.txt\" and write the results to that text file.(**)\n",
        "\n",
        "[files]: https://github.com/kokchun/Programmering-med-Python-21/tree/main/Files\n",
        "\n",
        "<details>\n",
        "\n",
        "<summary>Answer </summary>\n",
        "\n",
        "```\n",
        "\n",
        "Number of rolls: 10\n",
        "Ones: 4, probability: 0.4\n",
        "Twos: 1, probability: 0.1\n",
        "Threes: 1, probability: 0.1\n",
        "Fours: 2, probability: 0.2\n",
        "Fives: 1, probability: 0.1\n",
        "Sixes: 1, probability: 0.1\n",
        "\n",
        "Number of rolls: 100\n",
        "Ones: 16, probability: 0.16\n",
        "Twos: 12, probability: 0.12\n",
        "Threes: 24, probability: 0.24\n",
        "Fours: 18, probability: 0.18\n",
        "Fives: 16, probability: 0.16\n",
        "Sixes: 14, probability: 0.14\n",
        "\n",
        "Number of rolls: 1000\n",
        "Ones: 181, probability: 0.181\n",
        "Twos: 167, probability: 0.167\n",
        "Threes: 184, probability: 0.184\n",
        "Fours: 152, probability: 0.152\n",
        "Fives: 168, probability: 0.168\n",
        "Sixes: 148, probability: 0.148\n",
        "\n",
        "Number of rolls: 10000\n",
        "Ones: 1630, probability: 0.163\n",
        "Twos: 1666, probability: 0.1666\n",
        "Threes: 1686, probability: 0.1686\n",
        "Fours: 1616, probability: 0.1616\n",
        "Fives: 1677, probability: 0.1677\n",
        "Sixes: 1725, probability: 0.1725\n",
        "\n",
        "Number of rolls: 100000\n",
        "Ones: 16804, probability: 0.16804\n",
        "Twos: 16625, probability: 0.16625\n",
        "Threes: 16646, probability: 0.16646\n",
        "Fours: 16660, probability: 0.1666\n",
        "Fives: 16576, probability: 0.16576\n",
        "Sixes: 16689, probability: 0.16689\n",
        "\n",
        "```"
      ]
    },
    {
      "cell_type": "markdown",
      "metadata": {},
      "source": []
    }
  ],
  "metadata": {
    "colab": {
      "include_colab_link": true,
      "provenance": []
    },
    "kernelspec": {
      "display_name": "Python 3 (ipykernel)",
      "language": "python",
      "name": "python3"
    },
    "language_info": {
      "codemirror_mode": {
        "name": "ipython",
        "version": 3
      },
      "file_extension": ".py",
      "mimetype": "text/x-python",
      "name": "python",
      "nbconvert_exporter": "python",
      "pygments_lexer": "ipython3",
      "version": "3.12.4"
    },
    "vscode": {
      "interpreter": {
        "hash": "7e1998ff7f8aa20ada591c520b972326324e5ea05489af9e422744c7c09f6dad"
      }
    }
  },
  "nbformat": 4,
  "nbformat_minor": 0
}
